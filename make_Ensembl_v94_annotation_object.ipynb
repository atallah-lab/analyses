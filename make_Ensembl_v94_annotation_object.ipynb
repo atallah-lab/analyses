{
 "cells": [
  {
   "cell_type": "markdown",
   "metadata": {},
   "source": [
    "#### Here the ensembldb library is used to create a sqlite file for the latest Ensembl human genome annotation (Ensembl v94)"
   ]
  },
  {
   "cell_type": "code",
   "execution_count": 8,
   "metadata": {},
   "outputs": [],
   "source": [
    "library(ensembldb)"
   ]
  },
  {
   "cell_type": "code",
   "execution_count": 9,
   "metadata": {},
   "outputs": [
    {
     "name": "stderr",
     "output_type": "stream",
     "text": [
      "Importing GFF ... OK\n",
      "Fixing IDs ... OK\n",
      "Processing genes ... OK\n",
      "Processing transcripts ... OK\n",
      "Processing exons ... OK\n",
      "  -------------\n",
      "Proceeding to create the database.\n",
      "Processing metadata ... OK\n",
      "Processing genes ... \n",
      "Warning message in ensDbFromGRanges(theGff, outfile = outfile, path = path, organism = orgFromFile, :\n",
      "\" I'm missing column(s): 'entrezid'. The corresponding database column(s) will be empty!\" Attribute availability:\n",
      "  o gene_id ... OK\n",
      "  o gene_name ... OK\n",
      "  o entrezid ... Nope\n",
      "  o gene_biotype ... OK\n",
      "OK\n",
      "Processing transcripts ... \n",
      " Attribute availability:\n",
      "  o transcript_id ... OK\n",
      "  o gene_id ... OK\n",
      "  o transcript_biotype ... OK\n",
      "OK\n",
      "Processing exons ... OK\n",
      "Processing chromosomes ... Fetch seqlengths from ensembl ... OK\n",
      "Generating index ... OK\n",
      "  -------------\n",
      "Verifying validity of the information in the database:\n",
      "Checking transcripts ... OK\n",
      "Checking exons ... OK\n"
     ]
    },
    {
     "data": {
      "text/html": [
       "'./data/large_files/Homo_sapiens.GRCh38.94.sqlite'"
      ],
      "text/latex": [
       "'./data/large\\_files/Homo\\_sapiens.GRCh38.94.sqlite'"
      ],
      "text/markdown": [
       "'./data/large_files/Homo_sapiens.GRCh38.94.sqlite'"
      ],
      "text/plain": [
       "[1] \"./data/large_files/Homo_sapiens.GRCh38.94.sqlite\""
      ]
     },
     "metadata": {},
     "output_type": "display_data"
    }
   ],
   "source": [
    "ensDbFromGff('./data/large_files/Homo_sapiens.GRCh38.94.gff3','./data/large_files/Homo_sapiens.GRCh38.94.sqlite')"
   ]
  },
  {
   "cell_type": "code",
   "execution_count": null,
   "metadata": {},
   "outputs": [],
   "source": []
  }
 ],
 "metadata": {
  "kernelspec": {
   "display_name": "R",
   "language": "R",
   "name": "ir"
  },
  "language_info": {
   "codemirror_mode": "r",
   "file_extension": ".r",
   "mimetype": "text/x-r-source",
   "name": "R",
   "pygments_lexer": "r",
   "version": "3.6.1"
  }
 },
 "nbformat": 4,
 "nbformat_minor": 2
}
