{
 "cells": [
  {
   "cell_type": "markdown",
   "metadata": {},
   "source": [
    "#### Here the ensembldb library is used to create a sqlite file for the latest Ensembl human genome annotation (Ensembl v94)"
   ]
  },
  {
   "cell_type": "code",
   "execution_count": 1,
   "metadata": {},
   "outputs": [
    {
     "name": "stderr",
     "output_type": "stream",
     "text": [
      "Loading required package: BiocGenerics\n",
      "Loading required package: parallel\n",
      "\n",
      "Attaching package: ‘BiocGenerics’\n",
      "\n",
      "The following objects are masked from ‘package:parallel’:\n",
      "\n",
      "    clusterApply, clusterApplyLB, clusterCall, clusterEvalQ,\n",
      "    clusterExport, clusterMap, parApply, parCapply, parLapply,\n",
      "    parLapplyLB, parRapply, parSapply, parSapplyLB\n",
      "\n",
      "The following objects are masked from ‘package:stats’:\n",
      "\n",
      "    IQR, mad, sd, var, xtabs\n",
      "\n",
      "The following objects are masked from ‘package:base’:\n",
      "\n",
      "    anyDuplicated, append, as.data.frame, basename, cbind, colMeans,\n",
      "    colnames, colSums, dirname, do.call, duplicated, eval, evalq,\n",
      "    Filter, Find, get, grep, grepl, intersect, is.unsorted, lapply,\n",
      "    lengths, Map, mapply, match, mget, order, paste, pmax, pmax.int,\n",
      "    pmin, pmin.int, Position, rank, rbind, Reduce, rowMeans, rownames,\n",
      "    rowSums, sapply, setdiff, sort, table, tapply, union, unique,\n",
      "    unsplit, which, which.max, which.min\n",
      "\n",
      "Loading required package: GenomicRanges\n",
      "Loading required package: stats4\n",
      "Loading required package: S4Vectors\n",
      "\n",
      "Attaching package: ‘S4Vectors’\n",
      "\n",
      "The following object is masked from ‘package:base’:\n",
      "\n",
      "    expand.grid\n",
      "\n",
      "Loading required package: IRanges\n",
      "Loading required package: GenomeInfoDb\n",
      "Loading required package: GenomicFeatures\n",
      "Loading required package: AnnotationDbi\n",
      "Loading required package: Biobase\n",
      "Welcome to Bioconductor\n",
      "\n",
      "    Vignettes contain introductory material; view with\n",
      "    'browseVignettes()'. To cite Bioconductor, see\n",
      "    'citation(\"Biobase\")', and for packages 'citation(\"pkgname\")'.\n",
      "\n",
      "Loading required package: AnnotationFilter\n",
      "\n",
      "Attaching package: 'ensembldb'\n",
      "\n",
      "The following object is masked from 'package:stats':\n",
      "\n",
      "    filter\n",
      "\n"
     ]
    }
   ],
   "source": [
    "library(ensembldb)"
   ]
  },
  {
   "cell_type": "code",
   "execution_count": 2,
   "metadata": {},
   "outputs": [
    {
     "name": "stderr",
     "output_type": "stream",
     "text": [
      "Importing GFF ... OK\n",
      "Fixing IDs ... OK\n",
      "Processing genes ... OK\n",
      "Processing transcripts ... OK\n",
      "Processing exons ... OK\n",
      "  -------------\n",
      "Proceeding to create the database.\n",
      "Processing metadata ... OK\n",
      "Processing genes ... \n",
      "Warning message in ensDbFromGRanges(theGff, outfile = outfile, path = path, organism = orgFromFile, :\n",
      "\" I'm missing column(s): 'entrezid'. The corresponding database column(s) will be empty!\" Attribute availability:\n",
      "  o gene_id ... OK\n",
      "  o gene_name ... OK\n",
      "  o entrezid ... Nope\n",
      "  o gene_biotype ... OK\n",
      "OK\n",
      "Processing transcripts ... \n",
      " Attribute availability:\n",
      "  o transcript_id ... OK\n",
      "  o gene_id ... OK\n",
      "  o transcript_biotype ... OK\n",
      "OK\n",
      "Processing exons ... OK\n",
      "Processing chromosomes ... Fetch seqlengths from ensembl ... OK\n",
      "Generating index ... OK\n",
      "  -------------\n",
      "Verifying validity of the information in the database:\n",
      "Checking transcripts ... OK\n",
      "Checking exons ... OK\n"
     ]
    },
    {
     "data": {
      "text/html": [
       "'./data/large_files/Homo_sapiens.GRCh38.94.sqlite'"
      ],
      "text/latex": [
       "'./data/large\\_files/Homo\\_sapiens.GRCh38.94.sqlite'"
      ],
      "text/markdown": [
       "'./data/large_files/Homo_sapiens.GRCh38.94.sqlite'"
      ],
      "text/plain": [
       "[1] \"./data/large_files/Homo_sapiens.GRCh38.94.sqlite\""
      ]
     },
     "metadata": {},
     "output_type": "display_data"
    }
   ],
   "source": [
    "ensDbFromGff('./data/large_files/Homo_sapiens.GRCh38.94.gff3','./data/large_files/Homo_sapiens.GRCh38.94.sqlite')"
   ]
  }
 ],
 "metadata": {
  "kernelspec": {
   "display_name": "R",
   "language": "R",
   "name": "ir"
  },
  "language_info": {
   "codemirror_mode": "r",
   "file_extension": ".r",
   "mimetype": "text/x-r-source",
   "name": "R",
   "pygments_lexer": "r",
   "version": "3.5.1"
  }
 },
 "nbformat": 4,
 "nbformat_minor": 2
}
