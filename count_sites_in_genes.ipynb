{
 "cells": [
  {
   "cell_type": "code",
   "execution_count": 1,
   "metadata": {
    "collapsed": true
   },
   "outputs": [
    {
     "name": "stderr",
     "output_type": "stream",
     "text": [
      "Loading required package: GenomicFeatures\n",
      "Loading required package: BiocGenerics\n",
      "Loading required package: parallel\n",
      "\n",
      "Attaching package: ‘BiocGenerics’\n",
      "\n",
      "The following objects are masked from ‘package:parallel’:\n",
      "\n",
      "    clusterApply, clusterApplyLB, clusterCall, clusterEvalQ,\n",
      "    clusterExport, clusterMap, parApply, parCapply, parLapply,\n",
      "    parLapplyLB, parRapply, parSapply, parSapplyLB\n",
      "\n",
      "The following objects are masked from ‘package:stats’:\n",
      "\n",
      "    IQR, mad, sd, var, xtabs\n",
      "\n",
      "The following objects are masked from ‘package:base’:\n",
      "\n",
      "    anyDuplicated, append, as.data.frame, cbind, colMeans, colnames,\n",
      "    colSums, do.call, duplicated, eval, evalq, Filter, Find, get, grep,\n",
      "    grepl, intersect, is.unsorted, lapply, lengths, Map, mapply, match,\n",
      "    mget, order, paste, pmax, pmax.int, pmin, pmin.int, Position, rank,\n",
      "    rbind, Reduce, rowMeans, rownames, rowSums, sapply, setdiff, sort,\n",
      "    table, tapply, union, unique, unsplit, which, which.max, which.min\n",
      "\n",
      "Loading required package: S4Vectors\n",
      "Loading required package: stats4\n",
      "\n",
      "Attaching package: ‘S4Vectors’\n",
      "\n",
      "The following object is masked from ‘package:base’:\n",
      "\n",
      "    expand.grid\n",
      "\n",
      "Loading required package: IRanges\n",
      "Loading required package: GenomeInfoDb\n",
      "Loading required package: GenomicRanges\n",
      "Loading required package: AnnotationDbi\n",
      "Loading required package: Biobase\n",
      "Welcome to Bioconductor\n",
      "\n",
      "    Vignettes contain introductory material; view with\n",
      "    'browseVignettes()'. To cite Bioconductor, see\n",
      "    'citation(\"Biobase\")', and for packages 'citation(\"pkgname\")'.\n",
      "\n",
      "Loading required package: BSgenome\n",
      "Loading required package: Biostrings\n",
      "Loading required package: XVector\n",
      "\n",
      "Attaching package: ‘Biostrings’\n",
      "\n",
      "The following object is masked from ‘package:base’:\n",
      "\n",
      "    strsplit\n",
      "\n",
      "Loading required package: rtracklayer\n",
      "\n"
     ]
    }
   ],
   "source": [
    "library(TxDb.Hsapiens.UCSC.hg38.knownGene)\n",
    "library(BSgenome.Hsapiens.UCSC.hg38)\n",
    "library(org.Hs.eg.db)\n",
    "source('./sim-develop/src/mapsequence.r')"
   ]
  },
  {
   "cell_type": "code",
   "execution_count": 2,
   "metadata": {},
   "outputs": [
    {
     "data": {
      "text/plain": [
       "GRanges object with 6 ranges and 1 metadata column:\n",
       "            seqnames                 ranges strand |     gene_id\n",
       "               <Rle>              <IRanges>  <Rle> | <character>\n",
       "          1    chr19 [ 58345178,  58362751]      - |           1\n",
       "         10     chr8 [ 18391245,  18401218]      + |          10\n",
       "        100    chr20 [ 44619522,  44651742]      - |         100\n",
       "       1000    chr18 [ 27950966,  28177446]      - |        1000\n",
       "  100009613    chr11 [ 70072434,  70075433]      - |   100009613\n",
       "  100009676     chr3 [101676475, 101679217]      + |   100009676\n",
       "  -------\n",
       "  seqinfo: 455 sequences (1 circular) from hg38 genome"
      ]
     },
     "metadata": {},
     "output_type": "display_data"
    }
   ],
   "source": [
    "genesR <- genes(TxDb.Hsapiens.UCSC.hg38.knownGene)\n",
    "head(genesR)"
   ]
  },
  {
   "cell_type": "code",
   "execution_count": 3,
   "metadata": {},
   "outputs": [],
   "source": [
    "gr <- GRanges(seqnames(genesR),IRanges(start(genesR),end(genesR)))"
   ]
  },
  {
   "cell_type": "code",
   "execution_count": 4,
   "metadata": {},
   "outputs": [],
   "source": [
    "genesS <- getSeq(Hsapiens,gr)"
   ]
  },
  {
   "cell_type": "code",
   "execution_count": 5,
   "metadata": {},
   "outputs": [],
   "source": [
    "gene_counts <-  array(0,dim=c(length(genesS),4)) # Allocate memory\n",
    "for (i in 1:length(genesS)){\n",
    "    tmp <- mapsequence(genesS[[i]])\n",
    "    gene_counts[i,]=c(length(which(!is.na(tmp$ict))),length(which(!is.na(tmp$icl))),length(which(!is.na(tmp$iot))),length(which(!is.na(tmp$iol))))\n",
    "}"
   ]
  },
  {
   "cell_type": "code",
   "execution_count": 6,
   "metadata": {},
   "outputs": [],
   "source": [
    "rownames(gene_counts) <- genesR$gene_id"
   ]
  },
  {
   "cell_type": "code",
   "execution_count": 7,
   "metadata": {},
   "outputs": [
    {
     "data": {
      "text/html": [
       "<table>\n",
       "<tbody>\n",
       "\t<tr><th scope=row>1</th><td> 159 </td><td> 138 </td><td>  406</td><td> 1023</td></tr>\n",
       "\t<tr><th scope=row>10</th><td> 120 </td><td> 224 </td><td>  523</td><td> 1560</td></tr>\n",
       "\t<tr><th scope=row>100</th><td> 231 </td><td> 242 </td><td>  604</td><td> 2323</td></tr>\n",
       "\t<tr><th scope=row>1000</th><td>2701 </td><td>5215 </td><td>11812</td><td>31968</td></tr>\n",
       "\t<tr><th scope=row>100009613</th><td>   7 </td><td>  22 </td><td>   59</td><td>  240</td></tr>\n",
       "\t<tr><th scope=row>100009676</th><td>  17 </td><td>  45 </td><td>   68</td><td>  253</td></tr>\n",
       "</tbody>\n",
       "</table>\n"
      ],
      "text/latex": [
       "\\begin{tabular}{r|llll}\n",
       "\t1 &  159  &  138  &   406 &  1023\\\\\n",
       "\t10 &  120  &  224  &   523 &  1560\\\\\n",
       "\t100 &  231  &  242  &   604 &  2323\\\\\n",
       "\t1000 & 2701  & 5215  & 11812 & 31968\\\\\n",
       "\t100009613 &    7  &   22  &    59 &   240\\\\\n",
       "\t100009676 &   17  &   45  &    68 &   253\\\\\n",
       "\\end{tabular}\n"
      ],
      "text/markdown": [
       "\n",
       "| 1 |  159  |  138  |   406 |  1023 | \n",
       "| 10 |  120  |  224  |   523 |  1560 | \n",
       "| 100 |  231  |  242  |   604 |  2323 | \n",
       "| 1000 | 2701  | 5215  | 11812 | 31968 | \n",
       "| 100009613 |    7  |   22  |    59 |   240 | \n",
       "| 100009676 |   17  |   45  |    68 |   253 | \n",
       "\n",
       "\n"
      ],
      "text/plain": [
       "          [,1] [,2] [,3]  [,4] \n",
       "1          159  138   406  1023\n",
       "10         120  224   523  1560\n",
       "100        231  242   604  2323\n",
       "1000      2701 5215 11812 31968\n",
       "100009613    7   22    59   240\n",
       "100009676   17   45    68   253"
      ]
     },
     "metadata": {},
     "output_type": "display_data"
    }
   ],
   "source": [
    "head(gene_counts)"
   ]
  },
  {
   "cell_type": "code",
   "execution_count": 8,
   "metadata": {},
   "outputs": [],
   "source": [
    "x <- org.Hs.egSYMBOL\n",
    "xf <- function(ids) {\n",
    "    # ids contains gene ids of a given exon\n",
    "    tmp<-c()\n",
    "    n0 <- length(which(ids==0)) # How many of the gene ids for current exon are 0 (missing from TxDB)\n",
    "    if (n0>0) {tmp<-append(tmp,rep(\"NA\",n0))} # If any, append an equal number of \"NA\"s to tmp\n",
    "    nMiss <- length(which(!is.element(ids,mappedkeys(x)))) # How many gene ids are not elements of org.Hs.eg.Db\n",
    "    if (nMiss>0) { # If any, append an equal number of \"NA\"s to tmp\n",
    "        tmp<-append(tmp,rep(\"NA\",nMiss))\n",
    "    }\n",
    "    return(c(as.list(x[ids[ids!=0 & is.element(ids,mappedkeys(x))]]),tmp))\n",
    "}"
   ]
  },
  {
   "cell_type": "code",
   "execution_count": 9,
   "metadata": {},
   "outputs": [],
   "source": [
    "test <- lapply(rownames(gene_counts),xf)"
   ]
  },
  {
   "cell_type": "code",
   "execution_count": 10,
   "metadata": {},
   "outputs": [],
   "source": [
    "test2<-lapply(names(test), function(x) test[[x]])\n"
   ]
  },
  {
   "cell_type": "code",
   "execution_count": 22,
   "metadata": {},
   "outputs": [],
   "source": [
    "rownames(gene_counts) <- unlist(test)"
   ]
  },
  {
   "cell_type": "code",
   "execution_count": 23,
   "metadata": {},
   "outputs": [
    {
     "data": {
      "text/html": [
       "<table>\n",
       "<tbody>\n",
       "\t<tr><th scope=row>A1BG</th><td> 159 </td><td> 138 </td><td>  406</td><td> 1023</td></tr>\n",
       "\t<tr><th scope=row>NAT2</th><td> 120 </td><td> 224 </td><td>  523</td><td> 1560</td></tr>\n",
       "\t<tr><th scope=row>ADA</th><td> 231 </td><td> 242 </td><td>  604</td><td> 2323</td></tr>\n",
       "\t<tr><th scope=row>CDH2</th><td>2701 </td><td>5215 </td><td>11812</td><td>31968</td></tr>\n",
       "\t<tr><th scope=row>ANO1-AS2</th><td>   7 </td><td>  22 </td><td>   59</td><td>  240</td></tr>\n",
       "\t<tr><th scope=row>ZBTB11-AS1</th><td>  17 </td><td>  45 </td><td>   68</td><td>  253</td></tr>\n",
       "</tbody>\n",
       "</table>\n"
      ],
      "text/latex": [
       "\\begin{tabular}{r|llll}\n",
       "\tA1BG &  159  &  138  &   406 &  1023\\\\\n",
       "\tNAT2 &  120  &  224  &   523 &  1560\\\\\n",
       "\tADA &  231  &  242  &   604 &  2323\\\\\n",
       "\tCDH2 & 2701  & 5215  & 11812 & 31968\\\\\n",
       "\tANO1-AS2 &    7  &   22  &    59 &   240\\\\\n",
       "\tZBTB11-AS1 &   17  &   45  &    68 &   253\\\\\n",
       "\\end{tabular}\n"
      ],
      "text/markdown": [
       "\n",
       "| A1BG |  159  |  138  |   406 |  1023 | \n",
       "| NAT2 |  120  |  224  |   523 |  1560 | \n",
       "| ADA |  231  |  242  |   604 |  2323 | \n",
       "| CDH2 | 2701  | 5215  | 11812 | 31968 | \n",
       "| ANO1-AS2 |    7  |   22  |    59 |   240 | \n",
       "| ZBTB11-AS1 |   17  |   45  |    68 |   253 | \n",
       "\n",
       "\n"
      ],
      "text/plain": [
       "           [,1] [,2] [,3]  [,4] \n",
       "A1BG        159  138   406  1023\n",
       "NAT2        120  224   523  1560\n",
       "ADA         231  242   604  2323\n",
       "CDH2       2701 5215 11812 31968\n",
       "ANO1-AS2      7   22    59   240\n",
       "ZBTB11-AS1   17   45    68   253"
      ]
     },
     "metadata": {},
     "output_type": "display_data"
    }
   ],
   "source": [
    "head(gene_counts)"
   ]
  },
  {
   "cell_type": "code",
   "execution_count": 24,
   "metadata": {},
   "outputs": [],
   "source": [
    "colnames(gene_counts) <- c('CT','CL','OT','OL')"
   ]
  },
  {
   "cell_type": "code",
   "execution_count": 25,
   "metadata": {},
   "outputs": [
    {
     "data": {
      "text/html": [
       "<table>\n",
       "<thead><tr><th></th><th scope=col>CT</th><th scope=col>CL</th><th scope=col>OT</th><th scope=col>OL</th></tr></thead>\n",
       "<tbody>\n",
       "\t<tr><th scope=row>A1BG</th><td> 159 </td><td> 138 </td><td>  406</td><td> 1023</td></tr>\n",
       "\t<tr><th scope=row>NAT2</th><td> 120 </td><td> 224 </td><td>  523</td><td> 1560</td></tr>\n",
       "\t<tr><th scope=row>ADA</th><td> 231 </td><td> 242 </td><td>  604</td><td> 2323</td></tr>\n",
       "\t<tr><th scope=row>CDH2</th><td>2701 </td><td>5215 </td><td>11812</td><td>31968</td></tr>\n",
       "\t<tr><th scope=row>ANO1-AS2</th><td>   7 </td><td>  22 </td><td>   59</td><td>  240</td></tr>\n",
       "\t<tr><th scope=row>ZBTB11-AS1</th><td>  17 </td><td>  45 </td><td>   68</td><td>  253</td></tr>\n",
       "</tbody>\n",
       "</table>\n"
      ],
      "text/latex": [
       "\\begin{tabular}{r|llll}\n",
       "  & CT & CL & OT & OL\\\\\n",
       "\\hline\n",
       "\tA1BG &  159  &  138  &   406 &  1023\\\\\n",
       "\tNAT2 &  120  &  224  &   523 &  1560\\\\\n",
       "\tADA &  231  &  242  &   604 &  2323\\\\\n",
       "\tCDH2 & 2701  & 5215  & 11812 & 31968\\\\\n",
       "\tANO1-AS2 &    7  &   22  &    59 &   240\\\\\n",
       "\tZBTB11-AS1 &   17  &   45  &    68 &   253\\\\\n",
       "\\end{tabular}\n"
      ],
      "text/markdown": [
       "\n",
       "| <!--/--> | CT | CL | OT | OL | \n",
       "|---|---|---|---|---|---|\n",
       "| A1BG |  159  |  138  |   406 |  1023 | \n",
       "| NAT2 |  120  |  224  |   523 |  1560 | \n",
       "| ADA |  231  |  242  |   604 |  2323 | \n",
       "| CDH2 | 2701  | 5215  | 11812 | 31968 | \n",
       "| ANO1-AS2 |    7  |   22  |    59 |   240 | \n",
       "| ZBTB11-AS1 |   17  |   45  |    68 |   253 | \n",
       "\n",
       "\n"
      ],
      "text/plain": [
       "           CT   CL   OT    OL   \n",
       "A1BG        159  138   406  1023\n",
       "NAT2        120  224   523  1560\n",
       "ADA         231  242   604  2323\n",
       "CDH2       2701 5215 11812 31968\n",
       "ANO1-AS2      7   22    59   240\n",
       "ZBTB11-AS1   17   45    68   253"
      ]
     },
     "metadata": {},
     "output_type": "display_data"
    }
   ],
   "source": [
    "head(gene_counts)"
   ]
  },
  {
   "cell_type": "code",
   "execution_count": 69,
   "metadata": {},
   "outputs": [
    {
     "data": {
      "text/html": [
       "<table>\n",
       "<thead><tr><th scope=col>Sym</th><th scope=col>CT</th><th scope=col>CL</th><th scope=col>OT</th><th scope=col>OL</th><th scope=col>Len</th></tr></thead>\n",
       "<tbody>\n",
       "\t<tr><td>A1BG      </td><td> 159      </td><td> 138      </td><td>  406     </td><td> 1023     </td><td> 17574    </td></tr>\n",
       "\t<tr><td>NAT2      </td><td> 120      </td><td> 224      </td><td>  523     </td><td> 1560     </td><td>  9974    </td></tr>\n",
       "\t<tr><td>ADA       </td><td> 231      </td><td> 242      </td><td>  604     </td><td> 2323     </td><td> 32221    </td></tr>\n",
       "\t<tr><td>CDH2      </td><td>2701      </td><td>5215      </td><td>11812     </td><td>31968     </td><td>226481    </td></tr>\n",
       "\t<tr><td>ANO1-AS2  </td><td>   7      </td><td>  22      </td><td>   59     </td><td>  240     </td><td>  3000    </td></tr>\n",
       "\t<tr><td>ZBTB11-AS1</td><td>  17      </td><td>  45      </td><td>   68     </td><td>  253     </td><td>  2743    </td></tr>\n",
       "</tbody>\n",
       "</table>\n"
      ],
      "text/latex": [
       "\\begin{tabular}{r|llllll}\n",
       " Sym & CT & CL & OT & OL & Len\\\\\n",
       "\\hline\n",
       "\t A1BG       &  159       &  138       &   406      &  1023      &  17574    \\\\\n",
       "\t NAT2       &  120       &  224       &   523      &  1560      &   9974    \\\\\n",
       "\t ADA        &  231       &  242       &   604      &  2323      &  32221    \\\\\n",
       "\t CDH2       & 2701       & 5215       & 11812      & 31968      & 226481    \\\\\n",
       "\t ANO1-AS2   &    7       &   22       &    59      &   240      &   3000    \\\\\n",
       "\t ZBTB11-AS1 &   17       &   45       &    68      &   253      &   2743    \\\\\n",
       "\\end{tabular}\n"
      ],
      "text/markdown": [
       "\n",
       "Sym | CT | CL | OT | OL | Len | \n",
       "|---|---|---|---|---|---|\n",
       "| A1BG       |  159       |  138       |   406      |  1023      |  17574     | \n",
       "| NAT2       |  120       |  224       |   523      |  1560      |   9974     | \n",
       "| ADA        |  231       |  242       |   604      |  2323      |  32221     | \n",
       "| CDH2       | 2701       | 5215       | 11812      | 31968      | 226481     | \n",
       "| ANO1-AS2   |    7       |   22       |    59      |   240      |   3000     | \n",
       "| ZBTB11-AS1 |   17       |   45       |    68      |   253      |   2743     | \n",
       "\n",
       "\n"
      ],
      "text/plain": [
       "  Sym        CT   CL   OT    OL    Len   \n",
       "1 A1BG        159  138   406  1023  17574\n",
       "2 NAT2        120  224   523  1560   9974\n",
       "3 ADA         231  242   604  2323  32221\n",
       "4 CDH2       2701 5215 11812 31968 226481\n",
       "5 ANO1-AS2      7   22    59   240   3000\n",
       "6 ZBTB11-AS1   17   45    68   253   2743"
      ]
     },
     "metadata": {},
     "output_type": "display_data"
    }
   ],
   "source": [
    "gene_counts <- data.table(gene_counts,keep.rownames=TRUE)\n",
    "names(gene_counts)[1] <- \"Sym\"\n",
    "gene_counts$Len <- width(genesS)\n",
    "head(gene_counts)"
   ]
  },
  {
   "cell_type": "code",
   "execution_count": 70,
   "metadata": {},
   "outputs": [],
   "source": [
    "save(gene_counts,file='./gene_site_counts.rda')"
   ]
  }
 ],
 "metadata": {
  "kernelspec": {
   "display_name": "R",
   "language": "R",
   "name": "ir"
  },
  "language_info": {
   "codemirror_mode": "r",
   "file_extension": ".r",
   "mimetype": "text/x-r-source",
   "name": "R",
   "pygments_lexer": "r",
   "version": "3.4.4"
  }
 },
 "nbformat": 4,
 "nbformat_minor": 2
}
