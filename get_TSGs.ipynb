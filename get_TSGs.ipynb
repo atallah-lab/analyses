{
 "cells": [
  {
   "cell_type": "code",
   "execution_count": 1,
   "metadata": {},
   "outputs": [
    {
     "name": "stderr",
     "output_type": "stream",
     "text": [
      "Loading required package: AnnotationDbi\n",
      "Loading required package: stats4\n",
      "Loading required package: BiocGenerics\n",
      "Loading required package: parallel\n",
      "\n",
      "Attaching package: ‘BiocGenerics’\n",
      "\n",
      "The following objects are masked from ‘package:parallel’:\n",
      "\n",
      "    clusterApply, clusterApplyLB, clusterCall, clusterEvalQ,\n",
      "    clusterExport, clusterMap, parApply, parCapply, parLapply,\n",
      "    parLapplyLB, parRapply, parSapply, parSapplyLB\n",
      "\n",
      "The following objects are masked from ‘package:stats’:\n",
      "\n",
      "    IQR, mad, sd, var, xtabs\n",
      "\n",
      "The following objects are masked from ‘package:base’:\n",
      "\n",
      "    anyDuplicated, append, as.data.frame, basename, cbind, colMeans,\n",
      "    colnames, colSums, dirname, do.call, duplicated, eval, evalq,\n",
      "    Filter, Find, get, grep, grepl, intersect, is.unsorted, lapply,\n",
      "    lengths, Map, mapply, match, mget, order, paste, pmax, pmax.int,\n",
      "    pmin, pmin.int, Position, rank, rbind, Reduce, rowMeans, rownames,\n",
      "    rowSums, sapply, setdiff, sort, table, tapply, union, unique,\n",
      "    unsplit, which, which.max, which.min\n",
      "\n",
      "Loading required package: Biobase\n",
      "Welcome to Bioconductor\n",
      "\n",
      "    Vignettes contain introductory material; view with\n",
      "    'browseVignettes()'. To cite Bioconductor, see\n",
      "    'citation(\"Biobase\")', and for packages 'citation(\"pkgname\")'.\n",
      "\n",
      "Loading required package: IRanges\n",
      "Loading required package: S4Vectors\n",
      "\n",
      "Attaching package: ‘S4Vectors’\n",
      "\n",
      "The following object is masked from ‘package:base’:\n",
      "\n",
      "    expand.grid\n",
      "\n",
      "\n"
     ]
    }
   ],
   "source": [
    "library(org.Hs.eg.db)\n",
    "load('./data/genes.rda')"
   ]
  },
  {
   "cell_type": "code",
   "execution_count": 2,
   "metadata": {
    "scrolled": false
   },
   "outputs": [
    {
     "name": "stdout",
     "output_type": "stream",
     "text": [
      "Number of genes in database: "
     ]
    },
    {
     "data": {
      "text/html": [
       "719"
      ],
      "text/latex": [
       "719"
      ],
      "text/markdown": [
       "719"
      ],
      "text/plain": [
       "[1] 719"
      ]
     },
     "metadata": {},
     "output_type": "display_data"
    },
    {
     "name": "stdout",
     "output_type": "stream",
     "text": [
      "Number of tumor suppressors: "
     ]
    },
    {
     "data": {
      "text/html": [
       "314"
      ],
      "text/latex": [
       "314"
      ],
      "text/markdown": [
       "314"
      ],
      "text/plain": [
       "[1] 314"
      ]
     },
     "metadata": {},
     "output_type": "display_data"
    }
   ],
   "source": [
    "geneList <- read.csv('./data/Census_allThu Sep 13 17_30_17 2018.csv') # Cancer Gene Census Data Table\n",
    "cat('Number of genes in database: ')\n",
    "nrow(geneList)\n",
    "# Filter for TSGs\n",
    "geneList<-geneList[grep('TSG',geneList$Role.in.Cancer),]\n",
    "cat('Number of tumor suppressors: ')\n",
    "nrow(geneList)\n",
    "geneList <- data.frame(entrez_id=as.vector(geneList$Entrez.GeneId),symbol=as.vector(geneList$Gene.Symbol))\n",
    "#--- Convert Entrez IDs to Ensembl IDs\n",
    "geneList$ens_id <- as.list(org.Hs.egENSEMBL[as.character(geneList$entrez_id)])"
   ]
  },
  {
   "cell_type": "code",
   "execution_count": 3,
   "metadata": {},
   "outputs": [
    {
     "data": {
      "text/html": [
       "314"
      ],
      "text/latex": [
       "314"
      ],
      "text/markdown": [
       "314"
      ],
      "text/plain": [
       "[1] 314"
      ]
     },
     "metadata": {},
     "output_type": "display_data"
    }
   ],
   "source": [
    "length(which(unlist(geneList$ens_id) %in% genes$gene_id))"
   ]
  },
  {
   "cell_type": "code",
   "execution_count": 4,
   "metadata": {},
   "outputs": [
    {
     "data": {
      "text/html": [
       "313"
      ],
      "text/latex": [
       "313"
      ],
      "text/markdown": [
       "313"
      ],
      "text/plain": [
       "[1] 313"
      ]
     },
     "metadata": {},
     "output_type": "display_data"
    }
   ],
   "source": [
    "length(which(unlist(lapply(geneList$ens_id,'[[',1)) %in% genes$gene_id))"
   ]
  },
  {
   "cell_type": "markdown",
   "metadata": {},
   "source": [
    "There is one gene in geneList whose first Ensembl ID is not in genes annotation (given below)"
   ]
  },
  {
   "cell_type": "code",
   "execution_count": 5,
   "metadata": {},
   "outputs": [
    {
     "data": {
      "text/html": [
       "<table>\n",
       "<thead><tr><th></th><th scope=col>entrez_id</th><th scope=col>symbol</th><th scope=col>ens_id</th></tr></thead>\n",
       "<tbody>\n",
       "\t<tr><th scope=row>164</th><td>378938         </td><td>MALAT1         </td><td>ENSG00000251562</td></tr>\n",
       "</tbody>\n",
       "</table>\n"
      ],
      "text/latex": [
       "\\begin{tabular}{r|lll}\n",
       "  & entrez\\_id & symbol & ens\\_id\\\\\n",
       "\\hline\n",
       "\t164 & 378938          & MALAT1          & ENSG00000251562\\\\\n",
       "\\end{tabular}\n"
      ],
      "text/markdown": [
       "\n",
       "| <!--/--> | entrez_id | symbol | ens_id | \n",
       "|---|\n",
       "| 164 | 378938          | MALAT1          | ENSG00000251562 | \n",
       "\n",
       "\n"
      ],
      "text/plain": [
       "    entrez_id symbol ens_id         \n",
       "164 378938    MALAT1 ENSG00000251562"
      ]
     },
     "metadata": {},
     "output_type": "display_data"
    }
   ],
   "source": [
    "geneList[!(lapply(geneList$ens_id,'[[',1) %in% genes$gene_id),]"
   ]
  },
  {
   "cell_type": "markdown",
   "metadata": {},
   "source": [
    "It is a long intergenic non-coding RNA"
   ]
  },
  {
   "cell_type": "code",
   "execution_count": 6,
   "metadata": {},
   "outputs": [],
   "source": [
    "geneList <- geneList[lapply(geneList$ens_id,'[[',1) %in% genes$gene_id,]"
   ]
  },
  {
   "cell_type": "code",
   "execution_count": 7,
   "metadata": {},
   "outputs": [
    {
     "data": {
      "text/html": [
       "<table>\n",
       "<thead><tr><th scope=col>entrez_id</th><th scope=col>symbol</th><th scope=col>ens_id</th></tr></thead>\n",
       "<tbody>\n",
       "\t<tr><td> 10006         </td><td>ABI1           </td><td>ENSG00000136754</td></tr>\n",
       "\t<tr><td>    92         </td><td>ACVR2A         </td><td>ENSG00000121989</td></tr>\n",
       "\t<tr><td>139285         </td><td>AMER1          </td><td>ENSG00000184675</td></tr>\n",
       "\t<tr><td>   324         </td><td>APC            </td><td>ENSG00000134982</td></tr>\n",
       "\t<tr><td>  9582         </td><td>APOBEC3B       </td><td>ENSG00000179750</td></tr>\n",
       "\t<tr><td> 23092         </td><td>ARHGAP26       </td><td>ENSG00000145819</td></tr>\n",
       "</tbody>\n",
       "</table>\n"
      ],
      "text/latex": [
       "\\begin{tabular}{r|lll}\n",
       " entrez\\_id & symbol & ens\\_id\\\\\n",
       "\\hline\n",
       "\t  10006          & ABI1            & ENSG00000136754\\\\\n",
       "\t     92          & ACVR2A          & ENSG00000121989\\\\\n",
       "\t 139285          & AMER1           & ENSG00000184675\\\\\n",
       "\t    324          & APC             & ENSG00000134982\\\\\n",
       "\t   9582          & APOBEC3B        & ENSG00000179750\\\\\n",
       "\t  23092          & ARHGAP26        & ENSG00000145819\\\\\n",
       "\\end{tabular}\n"
      ],
      "text/markdown": [
       "\n",
       "entrez_id | symbol | ens_id | \n",
       "|---|---|---|---|---|---|\n",
       "|  10006          | ABI1            | ENSG00000136754 | \n",
       "|     92          | ACVR2A          | ENSG00000121989 | \n",
       "| 139285          | AMER1           | ENSG00000184675 | \n",
       "|    324          | APC             | ENSG00000134982 | \n",
       "|   9582          | APOBEC3B        | ENSG00000179750 | \n",
       "|  23092          | ARHGAP26        | ENSG00000145819 | \n",
       "\n",
       "\n"
      ],
      "text/plain": [
       "  entrez_id symbol   ens_id         \n",
       "1  10006    ABI1     ENSG00000136754\n",
       "2     92    ACVR2A   ENSG00000121989\n",
       "3 139285    AMER1    ENSG00000184675\n",
       "4    324    APC      ENSG00000134982\n",
       "5   9582    APOBEC3B ENSG00000179750\n",
       "6  23092    ARHGAP26 ENSG00000145819"
      ]
     },
     "metadata": {},
     "output_type": "display_data"
    }
   ],
   "source": [
    "head(geneList)"
   ]
  },
  {
   "cell_type": "code",
   "execution_count": 8,
   "metadata": {},
   "outputs": [],
   "source": [
    "human_tsgs_cgc <- geneList\n",
    "save(human_tsgs_cgc,file='./data/human_tsgs_cgc.rda')"
   ]
  }
 ],
 "metadata": {
  "kernelspec": {
   "display_name": "R",
   "language": "R",
   "name": "ir"
  },
  "language_info": {
   "codemirror_mode": "r",
   "file_extension": ".r",
   "mimetype": "text/x-r-source",
   "name": "R",
   "pygments_lexer": "r",
   "version": "3.5.1"
  }
 },
 "nbformat": 4,
 "nbformat_minor": 2
}
