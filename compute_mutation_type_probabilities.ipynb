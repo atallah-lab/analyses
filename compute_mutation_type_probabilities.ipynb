{
 "cells": [
  {
   "cell_type": "code",
   "execution_count": 1,
   "metadata": {
    "collapsed": true
   },
   "outputs": [
    {
     "name": "stderr",
     "output_type": "stream",
     "text": [
      "Loading required package: BSgenome\n",
      "Loading required package: BiocGenerics\n",
      "Loading required package: parallel\n",
      "\n",
      "Attaching package: ‘BiocGenerics’\n",
      "\n",
      "The following objects are masked from ‘package:parallel’:\n",
      "\n",
      "    clusterApply, clusterApplyLB, clusterCall, clusterEvalQ,\n",
      "    clusterExport, clusterMap, parApply, parCapply, parLapply,\n",
      "    parLapplyLB, parRapply, parSapply, parSapplyLB\n",
      "\n",
      "The following objects are masked from ‘package:stats’:\n",
      "\n",
      "    IQR, mad, sd, var, xtabs\n",
      "\n",
      "The following objects are masked from ‘package:base’:\n",
      "\n",
      "    anyDuplicated, append, as.data.frame, cbind, colMeans, colnames,\n",
      "    colSums, do.call, duplicated, eval, evalq, Filter, Find, get, grep,\n",
      "    grepl, intersect, is.unsorted, lapply, lengths, Map, mapply, match,\n",
      "    mget, order, paste, pmax, pmax.int, pmin, pmin.int, Position, rank,\n",
      "    rbind, Reduce, rowMeans, rownames, rowSums, sapply, setdiff, sort,\n",
      "    table, tapply, union, unique, unsplit, which, which.max, which.min\n",
      "\n",
      "Loading required package: S4Vectors\n",
      "Loading required package: stats4\n",
      "\n",
      "Attaching package: ‘S4Vectors’\n",
      "\n",
      "The following object is masked from ‘package:base’:\n",
      "\n",
      "    expand.grid\n",
      "\n",
      "Loading required package: IRanges\n",
      "Loading required package: GenomeInfoDb\n",
      "Loading required package: GenomicRanges\n",
      "Loading required package: Biostrings\n",
      "Loading required package: XVector\n",
      "\n",
      "Attaching package: ‘Biostrings’\n",
      "\n",
      "The following object is masked from ‘package:base’:\n",
      "\n",
      "    strsplit\n",
      "\n",
      "Loading required package: rtracklayer\n",
      "\n",
      "Attaching package: ‘data.table’\n",
      "\n",
      "The following object is masked from ‘package:GenomicRanges’:\n",
      "\n",
      "    shift\n",
      "\n",
      "The following object is masked from ‘package:IRanges’:\n",
      "\n",
      "    shift\n",
      "\n",
      "The following objects are masked from ‘package:S4Vectors’:\n",
      "\n",
      "    first, second\n",
      "\n"
     ]
    },
    {
     "name": "stdout",
     "output_type": "stream",
     "text": [
      "Loading...chr1\n",
      "Loading...chr2\n",
      "Loading...chr3\n",
      "Loading...chr4\n",
      "Loading...chr5\n",
      "Loading...chr6\n",
      "Loading...chr7\n",
      "Loading...chr8\n",
      "Loading...chr9\n",
      "Loading...chr10\n",
      "Loading...chr11\n",
      "Loading...chr12\n",
      "Loading...chr13\n",
      "Loading...chr14\n",
      "Loading...chr15\n",
      "Loading...chr16\n",
      "Loading...chr17\n",
      "Loading...chr18\n",
      "Loading...chr19\n",
      "Loading...chr20\n",
      "Loading...chr21\n",
      "Loading...chr22\n",
      "Loading...chrX\n",
      "Loading...chrY\n"
     ]
    }
   ],
   "source": [
    "library(BSgenome.Hsapiens.UCSC.hg38)\n",
    "library(data.table)\n",
    "for (i in names(Hsapiens)[1:24]){ # load all chromosome map files\n",
    "        cat(paste0('Loading...',i,'\\n'))\n",
    "        load(paste0('../sim-develop/data/root_maps/',i,'.rda'))\n",
    "}\n",
    "load('../sim-develop/data/exann.rda')"
   ]
  },
  {
   "cell_type": "code",
   "execution_count": 2,
   "metadata": {},
   "outputs": [
    {
     "data": {
      "text/html": [
       "<table>\n",
       "<thead><tr><th scope=col>chrom</th><th scope=col>start</th><th scope=col>end</th><th scope=col>gene_id</th><th scope=col>istsg</th><th scope=col>geneSym</th></tr></thead>\n",
       "<tbody>\n",
       "\t<tr><td>chr1     </td><td>11874    </td><td>12227    </td><td>100287102</td><td>0        </td><td>DDX11L1  </td></tr>\n",
       "\t<tr><td>chr1     </td><td>12595    </td><td>12721    </td><td>100287102</td><td>0        </td><td>DDX11L1  </td></tr>\n",
       "\t<tr><td>chr1     </td><td>13221    </td><td>16765    </td><td>100287102</td><td>0        </td><td>DDX11L1  </td></tr>\n",
       "\t<tr><td>chr1  </td><td>16854 </td><td>17055 </td><td>653635</td><td>0     </td><td>WASH7P</td></tr>\n",
       "\t<tr><td>chr1  </td><td>17233 </td><td>18061 </td><td>653635</td><td>0     </td><td>WASH7P</td></tr>\n",
       "\t<tr><td>chr1  </td><td>18268 </td><td>18379 </td><td>653635</td><td>0     </td><td>WASH7P</td></tr>\n",
       "</tbody>\n",
       "</table>\n"
      ],
      "text/latex": [
       "\\begin{tabular}{r|llllll}\n",
       " chrom & start & end & gene\\_id & istsg & geneSym\\\\\n",
       "\\hline\n",
       "\t chr1      & 11874     & 12227     & 100287102 & 0         & DDX11L1  \\\\\n",
       "\t chr1      & 12595     & 12721     & 100287102 & 0         & DDX11L1  \\\\\n",
       "\t chr1      & 13221     & 16765     & 100287102 & 0         & DDX11L1  \\\\\n",
       "\t chr1   & 16854  & 17055  & 653635 & 0      & WASH7P\\\\\n",
       "\t chr1   & 17233  & 18061  & 653635 & 0      & WASH7P\\\\\n",
       "\t chr1   & 18268  & 18379  & 653635 & 0      & WASH7P\\\\\n",
       "\\end{tabular}\n"
      ],
      "text/markdown": [
       "\n",
       "chrom | start | end | gene_id | istsg | geneSym | \n",
       "|---|---|---|---|---|---|\n",
       "| chr1      | 11874     | 12227     | 100287102 | 0         | DDX11L1   | \n",
       "| chr1      | 12595     | 12721     | 100287102 | 0         | DDX11L1   | \n",
       "| chr1      | 13221     | 16765     | 100287102 | 0         | DDX11L1   | \n",
       "| chr1   | 16854  | 17055  | 653635 | 0      | WASH7P | \n",
       "| chr1   | 17233  | 18061  | 653635 | 0      | WASH7P | \n",
       "| chr1   | 18268  | 18379  | 653635 | 0      | WASH7P | \n",
       "\n",
       "\n"
      ],
      "text/plain": [
       "  chrom start end   gene_id   istsg geneSym\n",
       "1 chr1  11874 12227 100287102 0     DDX11L1\n",
       "2 chr1  12595 12721 100287102 0     DDX11L1\n",
       "3 chr1  13221 16765 100287102 0     DDX11L1\n",
       "4 chr1  16854 17055 653635    0     WASH7P \n",
       "5 chr1  17233 18061 653635    0     WASH7P \n",
       "6 chr1  18268 18379 653635    0     WASH7P "
      ]
     },
     "metadata": {},
     "output_type": "display_data"
    }
   ],
   "source": [
    "head(exann)"
   ]
  },
  {
   "cell_type": "markdown",
   "metadata": {},
   "source": [
    "#### In the cell below, we count the number of insertion sites of each Snap-Velcro type in 3 types of regions: TSG exons, non-TSG exons, and non-exonic regions"
   ]
  },
  {
   "cell_type": "code",
   "execution_count": 3,
   "metadata": {},
   "outputs": [],
   "source": [
    "counts <-  array(0,dim=c(24,12)) # Allocate matrix for counts\n",
    "\n",
    "#--- Loop through chromosome names\n",
    "j<-1 # chromosome counter\n",
    "for (i in names(Hsapiens)[1:24]){\n",
    "\n",
    "\n",
    "        # Data objects containing indices of S-V sites for each category are labeled with the chromosome name.\n",
    "        # Here we copy the data objects to a set of variables with generic names which can be used consistently \n",
    "        # in the loop. \n",
    "        map<-get(paste0(i,'Map')) # Get the site map data for the current chrom\n",
    "        ict<-    map[[2]]\n",
    "        icl<-    map[[3]]\n",
    "        iot<-    map[[4]]\n",
    "        iol<-    map[[5]]\n",
    "        insites<-map[[1]]\n",
    "\n",
    "################################################\n",
    "        # count in TSG exons for current chromosome (columns 1-4)\n",
    "        ann_i <- exann[exann$chrom == i & exann$istsg==1,]\n",
    "    \n",
    "        sen        <-inrange(insites[ict[!is.na(ict[,1]),1],1],ann_i$start,ann_i$end) # Check if any Closed-Tight category sites are within the start-end range of ann_i\n",
    "        antisen    <-inrange(insites[ict[!is.na(ict[,2]),2],2],ann_i$start,ann_i$end) \n",
    "        counts[j,1]<-length(which(sen)) + length(which(antisen))               # Fill an element of the counts table with the count\n",
    "        \n",
    "        sen        <-inrange(insites[icl[!is.na(icl[,1]),1],1],ann_i$start,ann_i$end) \n",
    "        antisen    <-inrange(insites[icl[!is.na(icl[,2]),2],2],ann_i$start,ann_i$end)\n",
    "        counts[j,2]<-length(which(sen)) + length(which(antisen))\n",
    "        \n",
    "        sen        <-inrange(insites[iot[!is.na(iot[,1]),1],1],ann_i$start,ann_i$end) \n",
    "        antisen    <-inrange(insites[iot[!is.na(iot[,2]),2],2],ann_i$start,ann_i$end)\n",
    "        counts[j,3]<-length(which(sen)) + length(which(antisen))\n",
    "        \n",
    "        sen        <-inrange(insites[iol[!is.na(iol[,1]),1],1],ann_i$start,ann_i$end) \n",
    "        antisen    <-inrange(insites[iol[!is.na(iol[,2]),2],2],ann_i$start,ann_i$end)\n",
    "        counts[j,4]<-length(which(sen)) + length(which(antisen))  \n",
    "\n",
    "################################################\n",
    "        # count in non-TSG exons for current chromosome (columns 5-8)\n",
    "        ann_i <- exann[exann$chrom == i & exann$istsg==0,] # only difference from last block is setting exann$istsg==0 here (and different columns of 'counts')\n",
    "\n",
    "        sen        <-inrange(insites[ict[!is.na(ict[,1]),1],1],ann_i$start,ann_i$end) # Check if any Closed-Tight category sites are within the start-end range of ann_i\n",
    "        antisen    <-inrange(insites[ict[!is.na(ict[,2]),2],2],ann_i$start,ann_i$end) \n",
    "        counts[j,5]<-length(which(sen)) + length(which(antisen))                      # Fill an element of the counts table with the count\n",
    "        \n",
    "        sen        <-inrange(insites[icl[!is.na(icl[,1]),1],1],ann_i$start,ann_i$end) \n",
    "        antisen    <-inrange(insites[icl[!is.na(icl[,2]),2],2],ann_i$start,ann_i$end)\n",
    "        counts[j,6]<-length(which(sen)) + length(which(antisen))\n",
    "        \n",
    "        sen        <-inrange(insites[iot[!is.na(iot[,1]),1],1],ann_i$start,ann_i$end) \n",
    "        antisen    <-inrange(insites[iot[!is.na(iot[,2]),2],2],ann_i$start,ann_i$end)\n",
    "        counts[j,7]<-length(which(sen)) + length(which(antisen))\n",
    "        \n",
    "        sen        <-inrange(insites[iol[!is.na(iol[,1]),1],1],ann_i$start,ann_i$end) \n",
    "        antisen    <-inrange(insites[iol[!is.na(iol[,2]),2],2],ann_i$start,ann_i$end)\n",
    "        counts[j,8]<-length(which(sen)) + length(which(antisen))  \n",
    "    \n",
    "################################################\n",
    "        # count in non-exons for current chromosome (columns 9-12)\n",
    "        \n",
    "        counts[j,9]   <- length(which(!is.na(as.vector(ict)))) - counts[j,1] - counts[j,5]\n",
    "        counts[j,10]  <- length(which(!is.na(as.vector(icl)))) - counts[j,2] - counts[j,6]\n",
    "        counts[j,11]  <- length(which(!is.na(as.vector(iot)))) - counts[j,3] - counts[j,7]\n",
    "        counts[j,12]  <- length(which(!is.na(as.vector(iol)))) - counts[j,4] - counts[j,8]\n",
    "    \n",
    "        j<-j+1\n",
    "        rm('sen','antisen')\n",
    "}"
   ]
  },
  {
   "cell_type": "code",
   "execution_count": 4,
   "metadata": {},
   "outputs": [
    {
     "data": {
      "text/html": [
       "<table>\n",
       "<thead><tr><th></th><th scope=col>ct_tsg</th><th scope=col>cl_tsg</th><th scope=col>ot_tsg</th><th scope=col>ol_tsg</th><th scope=col>ct_nontsg</th><th scope=col>cl_nontsg</th><th scope=col>ot_nontsg</th><th scope=col>ol_nontsg</th><th scope=col>ct_nonexon</th><th scope=col>cl_nonexon</th><th scope=col>ot_nonexon</th><th scope=col>ol_nonexon</th></tr></thead>\n",
       "<tbody>\n",
       "\t<tr><th scope=row>chr1</th><td>2713    </td><td>5472    </td><td>11420   </td><td>39432   </td><td>46985   </td><td>105613  </td><td>228957  </td><td>812672  </td><td>2622841 </td><td>4089980 </td><td>10248146</td><td>27118910</td></tr>\n",
       "\t<tr><th scope=row>chr2</th><td>2352    </td><td>5160    </td><td>11039   </td><td>34620   </td><td>37507   </td><td> 91020  </td><td>195883  </td><td>665516  </td><td>2747329 </td><td>4668518 </td><td>11573976</td><td>30198334</td></tr>\n",
       "\t<tr><th scope=row>chr3</th><td>3177    </td><td>6653    </td><td>13964   </td><td>46905   </td><td>28745   </td><td> 67379  </td><td>143562  </td><td>494504  </td><td>2281438 </td><td>3924864 </td><td> 9737293</td><td>25445085</td></tr>\n",
       "\t<tr><th scope=row>chr4</th><td>1219    </td><td>3064    </td><td> 6358   </td><td>21576   </td><td>24456   </td><td> 58391  </td><td>127386  </td><td>405276  </td><td>2213927 </td><td>4008126 </td><td>10072339</td><td>25611500</td></tr>\n",
       "\t<tr><th scope=row>chr5</th><td>1232    </td><td>2828    </td><td> 5849   </td><td>20207   </td><td>26986   </td><td> 62472  </td><td>134077  </td><td>446793  </td><td>2062826 </td><td>3615352 </td><td> 8968452</td><td>23484693</td></tr>\n",
       "\t<tr><th scope=row>chr6</th><td>2077    </td><td>4353    </td><td> 9234   </td><td>29694   </td><td>26223   </td><td> 63747  </td><td>137065  </td><td>464873  </td><td>1974473 </td><td>3396230 </td><td> 8463275</td><td>21844592</td></tr>\n",
       "\t<tr><th scope=row>chr7</th><td>1406    </td><td>3367    </td><td> 7100   </td><td>24242   </td><td>25117   </td><td> 57073  </td><td>123541  </td><td>424872  </td><td>1890448 </td><td>3029610 </td><td> 7589918</td><td>19654782</td></tr>\n",
       "\t<tr><th scope=row>chr8</th><td>1416    </td><td>3058    </td><td> 6415   </td><td>21647   </td><td>18621   </td><td> 43580  </td><td> 94079  </td><td>314392  </td><td>1624416 </td><td>2802963 </td><td> 6985742</td><td>18325238</td></tr>\n",
       "\t<tr><th scope=row>chr9</th><td>1236    </td><td>2678    </td><td> 5710   </td><td>19745   </td><td>18054   </td><td> 43017  </td><td> 92306  </td><td>330894  </td><td>1393508 </td><td>2252541 </td><td> 5579878</td><td>14791315</td></tr>\n",
       "\t<tr><th scope=row>chr10</th><td>1188    </td><td>2831    </td><td> 5717   </td><td>19834   </td><td>20928   </td><td> 50012  </td><td>106943  </td><td>365097  </td><td>1509965 </td><td>2414919 </td><td> 6007481</td><td>15971029</td></tr>\n",
       "\t<tr><th scope=row>chr11</th><td>1637    </td><td>3935    </td><td> 7993   </td><td>30397   </td><td>22374   </td><td> 51547  </td><td>112689  </td><td>412009  </td><td>1436786 </td><td>2383864 </td><td> 5973080</td><td>16142073</td></tr>\n",
       "\t<tr><th scope=row>chr12</th><td>1551    </td><td>3335    </td><td> 7116   </td><td>23817   </td><td>24809   </td><td> 57383  </td><td>124007  </td><td>433731  </td><td>1582700 </td><td>2483788 </td><td> 6242723</td><td>16322430</td></tr>\n",
       "\t<tr><th scope=row>chr13</th><td>1180    </td><td>2854    </td><td> 5849   </td><td>18651   </td><td>11920   </td><td> 29476  </td><td> 62809  </td><td>200964  </td><td>1137117 </td><td>2053504 </td><td> 5108868</td><td>13144811</td></tr>\n",
       "\t<tr><th scope=row>chr14</th><td> 891    </td><td>1990    </td><td> 4358   </td><td>13236   </td><td>16224   </td><td> 36769  </td><td> 80250  </td><td>275700  </td><td>1046984 </td><td>1704516 </td><td> 4216284</td><td>11136380</td></tr>\n",
       "\t<tr><th scope=row>chr15</th><td> 481    </td><td>1221    </td><td> 2554   </td><td> 9468   </td><td>16784   </td><td> 40661  </td><td> 87361  </td><td>312717  </td><td> 983752 </td><td>1512252 </td><td> 3691071</td><td> 9902961</td></tr>\n",
       "\t<tr><th scope=row>chr16</th><td>1227    </td><td>2277    </td><td> 4916   </td><td>17905   </td><td>14554   </td><td> 29804  </td><td> 62928  </td><td>248753  </td><td> 959669 </td><td>1264013 </td><td> 3176708</td><td> 8572202</td></tr>\n",
       "\t<tr><th scope=row>chr17</th><td>1195    </td><td>2294    </td><td> 4752   </td><td>18097   </td><td>20460   </td><td> 42456  </td><td> 90468  </td><td>358406  </td><td>1006138 </td><td>1237657 </td><td> 3085277</td><td> 8404945</td></tr>\n",
       "\t<tr><th scope=row>chr18</th><td> 998    </td><td>2212    </td><td> 4517   </td><td>14627   </td><td> 9809   </td><td> 23034  </td><td> 49514  </td><td>160537  </td><td> 871004 </td><td>1586705 </td><td> 3833208</td><td>10530217</td></tr>\n",
       "\t<tr><th scope=row>chr19</th><td> 352    </td><td> 748    </td><td> 1665   </td><td> 6985   </td><td>20037   </td><td> 38518  </td><td> 79838  </td><td>340656  </td><td> 779802 </td><td> 760081 </td><td> 1974669</td><td> 5036568</td></tr>\n",
       "\t<tr><th scope=row>chr20</th><td> 513    </td><td>1187    </td><td> 2388   </td><td> 9387   </td><td>10115   </td><td> 22399  </td><td> 47244  </td><td>180335  </td><td> 682443 </td><td>1041623 </td><td> 2517734</td><td> 7107258</td></tr>\n",
       "\t<tr><th scope=row>chr21</th><td>  33    </td><td> 114    </td><td>  212   </td><td>  753   </td><td> 5787   </td><td> 14113  </td><td> 30064  </td><td>105020  </td><td> 439186 </td><td> 760182 </td><td> 1875507</td><td> 5014070</td></tr>\n",
       "\t<tr><th scope=row>chr22</th><td> 290    </td><td> 601    </td><td> 1158   </td><td> 5529   </td><td> 7804   </td><td> 15379  </td><td> 32486  </td><td>136626  </td><td> 426051 </td><td> 534644 </td><td> 1301600</td><td> 3745439</td></tr>\n",
       "\t<tr><th scope=row>chrX</th><td> 890    </td><td>1838    </td><td> 3847   </td><td>13335   </td><td>17233   </td><td> 43349  </td><td> 93224  </td><td>328410  </td><td>1741261 </td><td>3067519 </td><td> 7785192</td><td>20028016</td></tr>\n",
       "\t<tr><th scope=row>chrY</th><td>   0    </td><td>   0    </td><td>    0   </td><td>    0   </td><td> 1455   </td><td>  4106  </td><td>  8529  </td><td> 30841  </td><td> 296252 </td><td> 503751 </td><td> 1302763</td><td> 3311843</td></tr>\n",
       "</tbody>\n",
       "</table>\n"
      ],
      "text/latex": [
       "\\begin{tabular}{r|llllllllllll}\n",
       "  & ct\\_tsg & cl\\_tsg & ot\\_tsg & ol\\_tsg & ct\\_nontsg & cl\\_nontsg & ot\\_nontsg & ol\\_nontsg & ct\\_nonexon & cl\\_nonexon & ot\\_nonexon & ol\\_nonexon\\\\\n",
       "\\hline\n",
       "\tchr1 & 2713     & 5472     & 11420    & 39432    & 46985    & 105613   & 228957   & 812672   & 2622841  & 4089980  & 10248146 & 27118910\\\\\n",
       "\tchr2 & 2352     & 5160     & 11039    & 34620    & 37507    &  91020   & 195883   & 665516   & 2747329  & 4668518  & 11573976 & 30198334\\\\\n",
       "\tchr3 & 3177     & 6653     & 13964    & 46905    & 28745    &  67379   & 143562   & 494504   & 2281438  & 3924864  &  9737293 & 25445085\\\\\n",
       "\tchr4 & 1219     & 3064     &  6358    & 21576    & 24456    &  58391   & 127386   & 405276   & 2213927  & 4008126  & 10072339 & 25611500\\\\\n",
       "\tchr5 & 1232     & 2828     &  5849    & 20207    & 26986    &  62472   & 134077   & 446793   & 2062826  & 3615352  &  8968452 & 23484693\\\\\n",
       "\tchr6 & 2077     & 4353     &  9234    & 29694    & 26223    &  63747   & 137065   & 464873   & 1974473  & 3396230  &  8463275 & 21844592\\\\\n",
       "\tchr7 & 1406     & 3367     &  7100    & 24242    & 25117    &  57073   & 123541   & 424872   & 1890448  & 3029610  &  7589918 & 19654782\\\\\n",
       "\tchr8 & 1416     & 3058     &  6415    & 21647    & 18621    &  43580   &  94079   & 314392   & 1624416  & 2802963  &  6985742 & 18325238\\\\\n",
       "\tchr9 & 1236     & 2678     &  5710    & 19745    & 18054    &  43017   &  92306   & 330894   & 1393508  & 2252541  &  5579878 & 14791315\\\\\n",
       "\tchr10 & 1188     & 2831     &  5717    & 19834    & 20928    &  50012   & 106943   & 365097   & 1509965  & 2414919  &  6007481 & 15971029\\\\\n",
       "\tchr11 & 1637     & 3935     &  7993    & 30397    & 22374    &  51547   & 112689   & 412009   & 1436786  & 2383864  &  5973080 & 16142073\\\\\n",
       "\tchr12 & 1551     & 3335     &  7116    & 23817    & 24809    &  57383   & 124007   & 433731   & 1582700  & 2483788  &  6242723 & 16322430\\\\\n",
       "\tchr13 & 1180     & 2854     &  5849    & 18651    & 11920    &  29476   &  62809   & 200964   & 1137117  & 2053504  &  5108868 & 13144811\\\\\n",
       "\tchr14 &  891     & 1990     &  4358    & 13236    & 16224    &  36769   &  80250   & 275700   & 1046984  & 1704516  &  4216284 & 11136380\\\\\n",
       "\tchr15 &  481     & 1221     &  2554    &  9468    & 16784    &  40661   &  87361   & 312717   &  983752  & 1512252  &  3691071 &  9902961\\\\\n",
       "\tchr16 & 1227     & 2277     &  4916    & 17905    & 14554    &  29804   &  62928   & 248753   &  959669  & 1264013  &  3176708 &  8572202\\\\\n",
       "\tchr17 & 1195     & 2294     &  4752    & 18097    & 20460    &  42456   &  90468   & 358406   & 1006138  & 1237657  &  3085277 &  8404945\\\\\n",
       "\tchr18 &  998     & 2212     &  4517    & 14627    &  9809    &  23034   &  49514   & 160537   &  871004  & 1586705  &  3833208 & 10530217\\\\\n",
       "\tchr19 &  352     &  748     &  1665    &  6985    & 20037    &  38518   &  79838   & 340656   &  779802  &  760081  &  1974669 &  5036568\\\\\n",
       "\tchr20 &  513     & 1187     &  2388    &  9387    & 10115    &  22399   &  47244   & 180335   &  682443  & 1041623  &  2517734 &  7107258\\\\\n",
       "\tchr21 &   33     &  114     &   212    &   753    &  5787    &  14113   &  30064   & 105020   &  439186  &  760182  &  1875507 &  5014070\\\\\n",
       "\tchr22 &  290     &  601     &  1158    &  5529    &  7804    &  15379   &  32486   & 136626   &  426051  &  534644  &  1301600 &  3745439\\\\\n",
       "\tchrX &  890     & 1838     &  3847    & 13335    & 17233    &  43349   &  93224   & 328410   & 1741261  & 3067519  &  7785192 & 20028016\\\\\n",
       "\tchrY &    0     &    0     &     0    &     0    &  1455    &   4106   &   8529   &  30841   &  296252  &  503751  &  1302763 &  3311843\\\\\n",
       "\\end{tabular}\n"
      ],
      "text/markdown": [
       "\n",
       "| <!--/--> | ct_tsg | cl_tsg | ot_tsg | ol_tsg | ct_nontsg | cl_nontsg | ot_nontsg | ol_nontsg | ct_nonexon | cl_nonexon | ot_nonexon | ol_nonexon | \n",
       "|---|---|---|---|---|---|---|---|---|---|---|---|---|---|---|---|---|---|---|---|---|---|---|---|\n",
       "| chr1 | 2713     | 5472     | 11420    | 39432    | 46985    | 105613   | 228957   | 812672   | 2622841  | 4089980  | 10248146 | 27118910 | \n",
       "| chr2 | 2352     | 5160     | 11039    | 34620    | 37507    |  91020   | 195883   | 665516   | 2747329  | 4668518  | 11573976 | 30198334 | \n",
       "| chr3 | 3177     | 6653     | 13964    | 46905    | 28745    |  67379   | 143562   | 494504   | 2281438  | 3924864  |  9737293 | 25445085 | \n",
       "| chr4 | 1219     | 3064     |  6358    | 21576    | 24456    |  58391   | 127386   | 405276   | 2213927  | 4008126  | 10072339 | 25611500 | \n",
       "| chr5 | 1232     | 2828     |  5849    | 20207    | 26986    |  62472   | 134077   | 446793   | 2062826  | 3615352  |  8968452 | 23484693 | \n",
       "| chr6 | 2077     | 4353     |  9234    | 29694    | 26223    |  63747   | 137065   | 464873   | 1974473  | 3396230  |  8463275 | 21844592 | \n",
       "| chr7 | 1406     | 3367     |  7100    | 24242    | 25117    |  57073   | 123541   | 424872   | 1890448  | 3029610  |  7589918 | 19654782 | \n",
       "| chr8 | 1416     | 3058     |  6415    | 21647    | 18621    |  43580   |  94079   | 314392   | 1624416  | 2802963  |  6985742 | 18325238 | \n",
       "| chr9 | 1236     | 2678     |  5710    | 19745    | 18054    |  43017   |  92306   | 330894   | 1393508  | 2252541  |  5579878 | 14791315 | \n",
       "| chr10 | 1188     | 2831     |  5717    | 19834    | 20928    |  50012   | 106943   | 365097   | 1509965  | 2414919  |  6007481 | 15971029 | \n",
       "| chr11 | 1637     | 3935     |  7993    | 30397    | 22374    |  51547   | 112689   | 412009   | 1436786  | 2383864  |  5973080 | 16142073 | \n",
       "| chr12 | 1551     | 3335     |  7116    | 23817    | 24809    |  57383   | 124007   | 433731   | 1582700  | 2483788  |  6242723 | 16322430 | \n",
       "| chr13 | 1180     | 2854     |  5849    | 18651    | 11920    |  29476   |  62809   | 200964   | 1137117  | 2053504  |  5108868 | 13144811 | \n",
       "| chr14 |  891     | 1990     |  4358    | 13236    | 16224    |  36769   |  80250   | 275700   | 1046984  | 1704516  |  4216284 | 11136380 | \n",
       "| chr15 |  481     | 1221     |  2554    |  9468    | 16784    |  40661   |  87361   | 312717   |  983752  | 1512252  |  3691071 |  9902961 | \n",
       "| chr16 | 1227     | 2277     |  4916    | 17905    | 14554    |  29804   |  62928   | 248753   |  959669  | 1264013  |  3176708 |  8572202 | \n",
       "| chr17 | 1195     | 2294     |  4752    | 18097    | 20460    |  42456   |  90468   | 358406   | 1006138  | 1237657  |  3085277 |  8404945 | \n",
       "| chr18 |  998     | 2212     |  4517    | 14627    |  9809    |  23034   |  49514   | 160537   |  871004  | 1586705  |  3833208 | 10530217 | \n",
       "| chr19 |  352     |  748     |  1665    |  6985    | 20037    |  38518   |  79838   | 340656   |  779802  |  760081  |  1974669 |  5036568 | \n",
       "| chr20 |  513     | 1187     |  2388    |  9387    | 10115    |  22399   |  47244   | 180335   |  682443  | 1041623  |  2517734 |  7107258 | \n",
       "| chr21 |   33     |  114     |   212    |   753    |  5787    |  14113   |  30064   | 105020   |  439186  |  760182  |  1875507 |  5014070 | \n",
       "| chr22 |  290     |  601     |  1158    |  5529    |  7804    |  15379   |  32486   | 136626   |  426051  |  534644  |  1301600 |  3745439 | \n",
       "| chrX |  890     | 1838     |  3847    | 13335    | 17233    |  43349   |  93224   | 328410   | 1741261  | 3067519  |  7785192 | 20028016 | \n",
       "| chrY |    0     |    0     |     0    |     0    |  1455    |   4106   |   8529   |  30841   |  296252  |  503751  |  1302763 |  3311843 | \n",
       "\n",
       "\n"
      ],
      "text/plain": [
       "      ct_tsg cl_tsg ot_tsg ol_tsg ct_nontsg cl_nontsg ot_nontsg ol_nontsg\n",
       "chr1  2713   5472   11420  39432  46985     105613    228957    812672   \n",
       "chr2  2352   5160   11039  34620  37507      91020    195883    665516   \n",
       "chr3  3177   6653   13964  46905  28745      67379    143562    494504   \n",
       "chr4  1219   3064    6358  21576  24456      58391    127386    405276   \n",
       "chr5  1232   2828    5849  20207  26986      62472    134077    446793   \n",
       "chr6  2077   4353    9234  29694  26223      63747    137065    464873   \n",
       "chr7  1406   3367    7100  24242  25117      57073    123541    424872   \n",
       "chr8  1416   3058    6415  21647  18621      43580     94079    314392   \n",
       "chr9  1236   2678    5710  19745  18054      43017     92306    330894   \n",
       "chr10 1188   2831    5717  19834  20928      50012    106943    365097   \n",
       "chr11 1637   3935    7993  30397  22374      51547    112689    412009   \n",
       "chr12 1551   3335    7116  23817  24809      57383    124007    433731   \n",
       "chr13 1180   2854    5849  18651  11920      29476     62809    200964   \n",
       "chr14  891   1990    4358  13236  16224      36769     80250    275700   \n",
       "chr15  481   1221    2554   9468  16784      40661     87361    312717   \n",
       "chr16 1227   2277    4916  17905  14554      29804     62928    248753   \n",
       "chr17 1195   2294    4752  18097  20460      42456     90468    358406   \n",
       "chr18  998   2212    4517  14627   9809      23034     49514    160537   \n",
       "chr19  352    748    1665   6985  20037      38518     79838    340656   \n",
       "chr20  513   1187    2388   9387  10115      22399     47244    180335   \n",
       "chr21   33    114     212    753   5787      14113     30064    105020   \n",
       "chr22  290    601    1158   5529   7804      15379     32486    136626   \n",
       "chrX   890   1838    3847  13335  17233      43349     93224    328410   \n",
       "chrY     0      0       0      0   1455       4106      8529     30841   \n",
       "      ct_nonexon cl_nonexon ot_nonexon ol_nonexon\n",
       "chr1  2622841    4089980    10248146   27118910  \n",
       "chr2  2747329    4668518    11573976   30198334  \n",
       "chr3  2281438    3924864     9737293   25445085  \n",
       "chr4  2213927    4008126    10072339   25611500  \n",
       "chr5  2062826    3615352     8968452   23484693  \n",
       "chr6  1974473    3396230     8463275   21844592  \n",
       "chr7  1890448    3029610     7589918   19654782  \n",
       "chr8  1624416    2802963     6985742   18325238  \n",
       "chr9  1393508    2252541     5579878   14791315  \n",
       "chr10 1509965    2414919     6007481   15971029  \n",
       "chr11 1436786    2383864     5973080   16142073  \n",
       "chr12 1582700    2483788     6242723   16322430  \n",
       "chr13 1137117    2053504     5108868   13144811  \n",
       "chr14 1046984    1704516     4216284   11136380  \n",
       "chr15  983752    1512252     3691071    9902961  \n",
       "chr16  959669    1264013     3176708    8572202  \n",
       "chr17 1006138    1237657     3085277    8404945  \n",
       "chr18  871004    1586705     3833208   10530217  \n",
       "chr19  779802     760081     1974669    5036568  \n",
       "chr20  682443    1041623     2517734    7107258  \n",
       "chr21  439186     760182     1875507    5014070  \n",
       "chr22  426051     534644     1301600    3745439  \n",
       "chrX  1741261    3067519     7785192   20028016  \n",
       "chrY   296252     503751     1302763    3311843  "
      ]
     },
     "metadata": {},
     "output_type": "display_data"
    }
   ],
   "source": [
    "colnames(counts) <- c('ct_tsg','cl_tsg','ot_tsg','ol_tsg','ct_nontsg','cl_nontsg','ot_nontsg','ol_nontsg','ct_nonexon','cl_nonexon','ot_nonexon','ol_nonexon')\n",
    "rownames(counts) <- names(Hsapiens)[1:24]\n",
    "counts"
   ]
  },
  {
   "cell_type": "markdown",
   "metadata": {},
   "source": [
    "## Calculating ENd (endonuclease-dependent) mutation type probabilities"
   ]
  },
  {
   "cell_type": "code",
   "execution_count": 5,
   "metadata": {},
   "outputs": [
    {
     "data": {
      "text/html": [
       "<ol class=list-inline>\n",
       "\t<li>0.00105459956801695</li>\n",
       "\t<li>0.0181282143756041</li>\n",
       "\t<li>0.980817186056379</li>\n",
       "</ol>\n"
      ],
      "text/latex": [
       "\\begin{enumerate*}\n",
       "\\item 0.00105459956801695\n",
       "\\item 0.0181282143756041\n",
       "\\item 0.980817186056379\n",
       "\\end{enumerate*}\n"
      ],
      "text/markdown": [
       "1. 0.00105459956801695\n",
       "2. 0.0181282143756041\n",
       "3. 0.980817186056379\n",
       "\n",
       "\n"
      ],
      "text/plain": [
       "[1] 0.00105460 0.01812821 0.98081719"
      ]
     },
     "metadata": {},
     "output_type": "display_data"
    }
   ],
   "source": [
    "counts_ovchr <- colSums(counts)\n",
    "probs_ENd <- rep(0,3)\n",
    "for (i in 1:3){\n",
    "    probs_ENd[i] = 11.55*counts_ovchr[(i-1)*4+1] + \n",
    "               7.25*counts_ovchr[(i-1)*4+2] + \n",
    "               1.95*counts_ovchr[(i-1)*4+3] + \n",
    "               1*counts_ovchr[(i-1)*4+4]\n",
    "}\n",
    "probs_ENd <- probs_ENd/sum(probs_ENd)\n",
    "probs_ENd"
   ]
  },
  {
   "cell_type": "markdown",
   "metadata": {},
   "source": [
    "## Calculating ENi (endonuclease-independent) mutation type probabilities"
   ]
  },
  {
   "cell_type": "code",
   "execution_count": 6,
   "metadata": {},
   "outputs": [
    {
     "data": {
      "text/html": [
       "3088269832"
      ],
      "text/latex": [
       "3088269832"
      ],
      "text/markdown": [
       "3088269832"
      ],
      "text/plain": [
       "[1] 3088269832"
      ]
     },
     "metadata": {},
     "output_type": "display_data"
    }
   ],
   "source": [
    "genomeLen <- 0\n",
    "for (i in 1:24){\n",
    "    genomeLen <- genomeLen + length(Hsapiens[[i]])\n",
    "}\n",
    "genomeLen"
   ]
  },
  {
   "cell_type": "code",
   "execution_count": 7,
   "metadata": {},
   "outputs": [
    {
     "data": {
      "text/html": [
       "<ol class=list-inline>\n",
       "\t<li>0.00145506974599103</li>\n",
       "\t<li>0.0266873092325049</li>\n",
       "\t<li>0.971857621021504</li>\n",
       "</ol>\n"
      ],
      "text/latex": [
       "\\begin{enumerate*}\n",
       "\\item 0.00145506974599103\n",
       "\\item 0.0266873092325049\n",
       "\\item 0.971857621021504\n",
       "\\end{enumerate*}\n"
      ],
      "text/markdown": [
       "1. 0.00145506974599103\n",
       "2. 0.0266873092325049\n",
       "3. 0.971857621021504\n",
       "\n",
       "\n"
      ],
      "text/plain": [
       "[1] 0.00145507 0.02668731 0.97185762"
      ]
     },
     "metadata": {},
     "output_type": "display_data"
    }
   ],
   "source": [
    "probs_ENi <- rep(0,3)\n",
    "tmp <- exann[exann$istsg==1,]\n",
    "probs_ENi[1] <- sum(tmp$end-tmp$start)/genomeLen\n",
    "tmp2 <- exann[exann$istsg==0,]\n",
    "probs_ENi[2] <- sum(tmp2$end-tmp2$start)/genomeLen\n",
    "probs_ENi[3] <- (genomeLen-sum(tmp$end-tmp$start)-sum(tmp2$end-tmp2$start))/genomeLen\n",
    "probs_ENi"
   ]
  },
  {
   "cell_type": "code",
   "execution_count": 8,
   "metadata": {},
   "outputs": [
    {
     "data": {
      "text/html": [
       "<ol class=list-inline>\n",
       "\t<li>0.00109464658581436</li>\n",
       "\t<li>0.0189841238612942</li>\n",
       "\t<li>0.979921229552891</li>\n",
       "</ol>\n"
      ],
      "text/latex": [
       "\\begin{enumerate*}\n",
       "\\item 0.00109464658581436\n",
       "\\item 0.0189841238612942\n",
       "\\item 0.979921229552891\n",
       "\\end{enumerate*}\n"
      ],
      "text/markdown": [
       "1. 0.00109464658581436\n",
       "2. 0.0189841238612942\n",
       "3. 0.979921229552891\n",
       "\n",
       "\n"
      ],
      "text/plain": [
       "[1] 0.001094647 0.018984124 0.979921230"
      ]
     },
     "metadata": {},
     "output_type": "display_data"
    }
   ],
   "source": [
    "pdfinal <- (.9*probs_ENd)+(0.1*probs_ENi)\n",
    "pdfinal <- pdfinal/sum(pdfinal)\n",
    "pdfinal"
   ]
  },
  {
   "cell_type": "code",
   "execution_count": 9,
   "metadata": {},
   "outputs": [],
   "source": [
    "save(pdfinal,file='../sim-develop/data/mutation_type_pd.rda')"
   ]
  },
  {
   "cell_type": "code",
   "execution_count": null,
   "metadata": {},
   "outputs": [],
   "source": []
  }
 ],
 "metadata": {
  "kernelspec": {
   "display_name": "R",
   "language": "R",
   "name": "ir"
  },
  "language_info": {
   "codemirror_mode": "r",
   "file_extension": ".r",
   "mimetype": "text/x-r-source",
   "name": "R",
   "pygments_lexer": "r",
   "version": "3.4.4"
  }
 },
 "nbformat": 4,
 "nbformat_minor": 2
}
