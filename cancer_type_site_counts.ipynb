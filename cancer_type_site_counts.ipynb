{
 "cells": [
  {
   "cell_type": "code",
   "execution_count": 1,
   "metadata": {
    "collapsed": true
   },
   "outputs": [
    {
     "name": "stderr",
     "output_type": "stream",
     "text": [
      "Loading required package: stats4\n",
      "Loading required package: BiocGenerics\n",
      "Loading required package: parallel\n",
      "\n",
      "Attaching package: ‘BiocGenerics’\n",
      "\n",
      "The following objects are masked from ‘package:parallel’:\n",
      "\n",
      "    clusterApply, clusterApplyLB, clusterCall, clusterEvalQ,\n",
      "    clusterExport, clusterMap, parApply, parCapply, parLapply,\n",
      "    parLapplyLB, parRapply, parSapply, parSapplyLB\n",
      "\n",
      "The following objects are masked from ‘package:stats’:\n",
      "\n",
      "    IQR, mad, sd, var, xtabs\n",
      "\n",
      "The following objects are masked from ‘package:base’:\n",
      "\n",
      "    anyDuplicated, append, as.data.frame, basename, cbind, colMeans,\n",
      "    colnames, colSums, dirname, do.call, duplicated, eval, evalq,\n",
      "    Filter, Find, get, grep, grepl, intersect, is.unsorted, lapply,\n",
      "    lengths, Map, mapply, match, mget, order, paste, pmax, pmax.int,\n",
      "    pmin, pmin.int, Position, rank, rbind, Reduce, rowMeans, rownames,\n",
      "    rowSums, sapply, setdiff, sort, table, tapply, union, unique,\n",
      "    unsplit, which, which.max, which.min\n",
      "\n",
      "Loading required package: S4Vectors\n",
      "\n",
      "Attaching package: ‘S4Vectors’\n",
      "\n",
      "The following object is masked from ‘package:base’:\n",
      "\n",
      "    expand.grid\n",
      "\n",
      "Loading required package: IRanges\n",
      "Loading required package: GenomeInfoDb\n",
      "Loading required package: BSgenome\n",
      "Loading required package: Biostrings\n",
      "Loading required package: XVector\n",
      "\n",
      "Attaching package: ‘Biostrings’\n",
      "\n",
      "The following object is masked from ‘package:base’:\n",
      "\n",
      "    strsplit\n",
      "\n",
      "Loading required package: rtracklayer\n",
      "\n",
      "Attaching package: ‘data.table’\n",
      "\n",
      "The following object is masked from ‘package:GenomicRanges’:\n",
      "\n",
      "    shift\n",
      "\n",
      "The following object is masked from ‘package:IRanges’:\n",
      "\n",
      "    shift\n",
      "\n",
      "The following objects are masked from ‘package:S4Vectors’:\n",
      "\n",
      "    first, second\n",
      "\n"
     ]
    }
   ],
   "source": [
    "library(GenomicRanges)\n",
    "library(BSgenome.Hsapiens.UCSC.hg38)\n",
    "library(data.table)\n",
    "for (i in names(Hsapiens)[1:24]){ # load all chromosome map files\n",
    "        load(paste0('../sim-develop/data/root_maps/',i,'.rda'))\n",
    "}\n",
    "\n",
    "load('../sim-develop/data/exann.rda')\n",
    "load('../sim-develop/data/exonicvsnon_counts.rda')"
   ]
  },
  {
   "cell_type": "code",
   "execution_count": 2,
   "metadata": {},
   "outputs": [],
   "source": [
    "#--- get_drivers()\n",
    "get_drivers <- function(cancer_type){\n",
    "    \n",
    "    geneList <- read.csv('~/jackgl/sim-develop/data/Census_allThu Sep 13 17_30_17 2018.csv') # Cancer Gene Census Data Table\n",
    "    if (cancer_type=='lung') {\n",
    "        toMatch <- c('lung')\n",
    "    } else if (cancer_type=='colon') {\n",
    "        toMatch <- c('colon','colorectal')\n",
    "    } else if (cancer_type=='brain') {\n",
    "        toMatch <- c('astrocytoma','meningioma','head','oligodendroglio')\n",
    "    }\n",
    "    # Get genes affecting chosen cancer type\n",
    "    geneList<-geneList[grep(paste(toMatch,collapse='|'),geneList$Tumour.Types.Somatic),]\n",
    "    # Filter for only Tier 1 genes\n",
    "#     geneList<-geneList[geneList$Tier==1,]\n",
    "    # Filter for TSGs\n",
    "    geneList<-geneList[grep('TSG',geneList$Role.in.Cancer),]\n",
    "    geneList <- as.vector(geneList$Gene.Symbol) # List of genes mutated in 10% of brain cancer cases, from TCGA\n",
    "    \n",
    "    return(geneList)\n",
    "}"
   ]
  },
  {
   "cell_type": "code",
   "execution_count": 3,
   "metadata": {},
   "outputs": [],
   "source": [
    "geneList_lung <- get_drivers('lung')\n",
    "geneList_colon <- get_drivers('colon')\n",
    "geneList_brain <- get_drivers('brain')"
   ]
  },
  {
   "cell_type": "code",
   "execution_count": 4,
   "metadata": {},
   "outputs": [],
   "source": [
    "# This function will count the number of L1 target sites in the provided ranges (assumed to be exonic) (columns 1-4),\n",
    "# in other exonic ranges (col 5-8), and outside of exonic ranges (col 9-12)\n",
    "count_in_ranges <- function(exon_ranges,counts_dipl) {\n",
    "    \n",
    "    counts <-  array(0,dim=c(24,12)) # Allocate matrix for counts\n",
    "\n",
    "    #--- Loop through chromosome names\n",
    "    j<-1 # chromosome counter\n",
    "    for (i in names(Hsapiens)[1:24]){\n",
    "\n",
    "        # If the chromosome is Y and the supplied diploid genome counts are for female genome, leave the \n",
    "        # counts at 0\n",
    "        if (i=='chrY' && sum(counts_dipl[24,])==0) {next}\n",
    "\n",
    "        # Data objects containing indices of S-V sites for each category are labeled with the chromosome name.\n",
    "        # Here we copy the data objects to a set of variables with generic names which can be used consistently \n",
    "        # in the loop. \n",
    "        map<-get(paste0(i,'Map')) # Get the site map data for the current chrom\n",
    "        ict<-    map[[2]]\n",
    "        icl<-    map[[3]]\n",
    "        iot<-    map[[4]]\n",
    "        iol<-    map[[5]]\n",
    "        insites<-map[[1]] \n",
    "\n",
    "        i <- strsplit(i,\"chr\")[[1]][2] # Remove \"chr\" from chromosome name\n",
    "\n",
    "################################################\n",
    "        # Count in exon_ranges for current chromosome (columns 1-4)\n",
    "        ann_i <- exon_ranges[exon_ranges$chrom == i,]\n",
    "\n",
    "        sen        <-inrange(insites[ict[!is.na(ict[,1]),1],1],ann_i$start,ann_i$end) # Check if any Closed-Tight category sites are within the start-end range of ann_i\n",
    "        antisen    <-inrange(insites[ict[!is.na(ict[,2]),2],2],ann_i$start,ann_i$end) \n",
    "        counts[j,1]<-length(which(sen)) + length(which(antisen))                      # Fill an element of the counts table with the count\n",
    "\n",
    "        sen        <-inrange(insites[icl[!is.na(icl[,1]),1],1],ann_i$start,ann_i$end) \n",
    "        antisen    <-inrange(insites[icl[!is.na(icl[,2]),2],2],ann_i$start,ann_i$end)\n",
    "        counts[j,2]<-length(which(sen)) + length(which(antisen))\n",
    "\n",
    "        sen        <-inrange(insites[iot[!is.na(iot[,1]),1],1],ann_i$start,ann_i$end) \n",
    "        antisen    <-inrange(insites[iot[!is.na(iot[,2]),2],2],ann_i$start,ann_i$end)\n",
    "        counts[j,3]<-length(which(sen)) + length(which(antisen))\n",
    "\n",
    "        sen        <-inrange(insites[iol[!is.na(iol[,1]),1],1],ann_i$start,ann_i$end) \n",
    "        antisen    <-inrange(insites[iol[!is.na(iol[,2]),2],2],ann_i$start,ann_i$end)\n",
    "        counts[j,4]<-length(which(sen)) + length(which(antisen)) \n",
    "\n",
    "        # Double the counts if necessary, to account for diploid genome\n",
    "        if (i %in% c('X','Y') & sum(counts_dipl[24,])!=0) { # If the chrom. is X or Y and genome male, do nothing\n",
    "        \n",
    "        } else {\n",
    "            counts[j,1:4] <- counts[j,1:4]*2\n",
    "        }\n",
    "\n",
    "################################################\n",
    "        # Count in the remaining exonic regions, using counts_dipl (generated by analyses/count_sites_exonicvsnon.ipynb)\n",
    "\n",
    "        counts[j,5]<-(counts_dipl[j,1])-counts[j,1]\n",
    "        counts[j,6]<-(counts_dipl[j,2])-counts[j,2]\n",
    "        counts[j,7]<-(counts_dipl[j,3])-counts[j,3]\n",
    "        counts[j,8]<-(counts_dipl[j,4])-counts[j,4]\n",
    "\n",
    "################################################\n",
    "        # Count outside of exonic ranges for current chromosome (columns 9-12)\n",
    "\n",
    "        if (i %in% c('X','Y') && sum(counts_dipl[24,])!=0) { # If X or Y chrom and male genome, don't double count\n",
    "            counts[j,9]   <- length(which(!is.na(as.vector(ict)))) - counts[j,1] - counts[j,5]\n",
    "            counts[j,10]  <- length(which(!is.na(as.vector(icl)))) - counts[j,2] - counts[j,6]\n",
    "            counts[j,11]  <- length(which(!is.na(as.vector(iot)))) - counts[j,3] - counts[j,7]\n",
    "            counts[j,12]  <- length(which(!is.na(as.vector(iol)))) - counts[j,4] - counts[j,8]\n",
    "        } else if (i == 'Y' && sum(counts_dipl[24,]==0)) { # If Y and female genome, don't count any\n",
    "            counts[j,9:12] <- 0\n",
    "        } else { # Else, double counts\n",
    "            counts[j,9]   <- length(which(!is.na(as.vector(ict))))*2 - counts[j,1] - counts[j,5]\n",
    "            counts[j,10]  <- length(which(!is.na(as.vector(icl))))*2 - counts[j,2] - counts[j,6]\n",
    "            counts[j,11]  <- length(which(!is.na(as.vector(iot))))*2 - counts[j,3] - counts[j,7]\n",
    "            counts[j,12]  <- length(which(!is.na(as.vector(iol))))*2 - counts[j,4] - counts[j,8]\n",
    "        }\n",
    "        \n",
    "        \n",
    "        j<-j+1\n",
    "    }\n",
    "    colnames(counts) <- c('ct_sub','cl_sub','ot_sub','ol_sub','ct_rest','cl_rest','ot_rest','ol_rest','ct_outrange','cl_outrange','ot_outrange','ol_outrange')\n",
    "    rownames(counts) <- names(Hsapiens)[1:24]\n",
    "    return(counts)\n",
    "}"
   ]
  },
  {
   "cell_type": "code",
   "execution_count": 5,
   "metadata": {},
   "outputs": [],
   "source": [
    "get_prob_dist <- function(counts_matrix, exon_ranges) {\n",
    "    \n",
    "    if (sum(counts_matrix[24,])==0) {gend='f'} \n",
    "    else {gend='m'}\n",
    "    counts_matrix <- colSums(counts_matrix)\n",
    "    probs_ENd <- rep(0,3)\n",
    "    for (i in 1:3){\n",
    "        probs_ENd[i] = 11.55*counts_matrix[(i-1)*4+1] + \n",
    "                       7.25*counts_matrix[(i-1)*4+2] + \n",
    "                       1.95*counts_matrix[(i-1)*4+3] + \n",
    "                       1*counts_matrix[(i-1)*4+4]\n",
    "    }\n",
    "    probs_ENd <- probs_ENd/sum(probs_ENd)\n",
    "    probs_ENd\n",
    "    \n",
    "    probs_ENi <- rep(0,3)\n",
    "    if (gend=='f') { # If female genome, double all sizes\n",
    "        \n",
    "        target_size <- sum(exon_ranges$end[exon_ranges$chrom!='Y']-exon_ranges$start[exon_ranges$chrom!='Y'])*2\n",
    "        exons_size <- sum(lens[1:23,1]*2)\n",
    "        genome_size <- sum(lens[1:23,2]*2)\n",
    "        \n",
    "    } else { # If male genome, double sizes only for chroms. 1-22\n",
    "        \n",
    "        target_size <- sum(exon_ranges$end[exon_ranges$chrom %in% c('X','Y')]-exon_ranges$start[exon_ranges$chrom %in% c('X','Y')])\n",
    "        target_size <- target_size + sum(exon_ranges$end[!(exon_ranges$chrom %in% c('X','Y'))]\n",
    "                                         -exon_ranges$start[!(exon_ranges$chrom %in% c('X','Y'))])*2\n",
    "        \n",
    "        exons_size <-  sum(lens[1:22,1]*2)+sum(lens[23:24,1])\n",
    "        genome_size <- sum(lens[1:22,2]*2)+sum(lens[23:24,2])\n",
    "    }\n",
    "    \n",
    "    probs_ENi[1] <- target_size/genome_size # Chance of target mutation\n",
    "    probs_ENi[2] <- (exons_size-target_size)/genome_size # Chance of passenger mutation\n",
    "    probs_ENi[3] <- (genome_size - exons_size)/genome_size # Chance of null mutation\n",
    "    \n",
    "    pd <- (.9*probs_ENd)+(0.1*probs_ENi) # Assuming 0.9 probability that insertion will be ENd and 0.1 for ENi\n",
    "    pd <- pd/sum(pd)\n",
    "    return(pd)\n",
    "    \n",
    "}"
   ]
  },
  {
   "cell_type": "markdown",
   "metadata": {},
   "source": [
    "## Lung cancer"
   ]
  },
  {
   "cell_type": "code",
   "execution_count": 6,
   "metadata": {},
   "outputs": [
    {
     "data": {
      "text/html": [
       "<ol class=list-inline>\n",
       "\t<li>'CPEB3'</li>\n",
       "\t<li>'CSMD3'</li>\n",
       "\t<li>'CUL3'</li>\n",
       "\t<li>'EED'</li>\n",
       "\t<li>'GPC5'</li>\n",
       "\t<li>'GRIN2A'</li>\n",
       "</ol>\n"
      ],
      "text/latex": [
       "\\begin{enumerate*}\n",
       "\\item 'CPEB3'\n",
       "\\item 'CSMD3'\n",
       "\\item 'CUL3'\n",
       "\\item 'EED'\n",
       "\\item 'GPC5'\n",
       "\\item 'GRIN2A'\n",
       "\\end{enumerate*}\n"
      ],
      "text/markdown": [
       "1. 'CPEB3'\n",
       "2. 'CSMD3'\n",
       "3. 'CUL3'\n",
       "4. 'EED'\n",
       "5. 'GPC5'\n",
       "6. 'GRIN2A'\n",
       "\n",
       "\n"
      ],
      "text/plain": [
       "[1] \"CPEB3\"  \"CSMD3\"  \"CUL3\"   \"EED\"    \"GPC5\"   \"GRIN2A\""
      ]
     },
     "metadata": {},
     "output_type": "display_data"
    },
    {
     "data": {
      "text/html": [
       "<table>\n",
       "<thead><tr><th scope=col>chrom</th><th scope=col>start</th><th scope=col>end</th><th scope=col>geneSym</th></tr></thead>\n",
       "<tbody>\n",
       "\t<tr><td>1      </td><td>11869  </td><td>12227  </td><td>DDX11L1</td></tr>\n",
       "\t<tr><td>1      </td><td>12010  </td><td>12057  </td><td>DDX11L1</td></tr>\n",
       "\t<tr><td>1      </td><td>12179  </td><td>12227  </td><td>DDX11L1</td></tr>\n",
       "\t<tr><td>1      </td><td>12613  </td><td>12721  </td><td>DDX11L1</td></tr>\n",
       "\t<tr><td>1      </td><td>12613  </td><td>12697  </td><td>DDX11L1</td></tr>\n",
       "\t<tr><td>1      </td><td>12975  </td><td>13052  </td><td>DDX11L1</td></tr>\n",
       "</tbody>\n",
       "</table>\n"
      ],
      "text/latex": [
       "\\begin{tabular}{r|llll}\n",
       " chrom & start & end & geneSym\\\\\n",
       "\\hline\n",
       "\t 1       & 11869   & 12227   & DDX11L1\\\\\n",
       "\t 1       & 12010   & 12057   & DDX11L1\\\\\n",
       "\t 1       & 12179   & 12227   & DDX11L1\\\\\n",
       "\t 1       & 12613   & 12721   & DDX11L1\\\\\n",
       "\t 1       & 12613   & 12697   & DDX11L1\\\\\n",
       "\t 1       & 12975   & 13052   & DDX11L1\\\\\n",
       "\\end{tabular}\n"
      ],
      "text/markdown": [
       "\n",
       "chrom | start | end | geneSym | \n",
       "|---|---|---|---|---|---|\n",
       "| 1       | 11869   | 12227   | DDX11L1 | \n",
       "| 1       | 12010   | 12057   | DDX11L1 | \n",
       "| 1       | 12179   | 12227   | DDX11L1 | \n",
       "| 1       | 12613   | 12721   | DDX11L1 | \n",
       "| 1       | 12613   | 12697   | DDX11L1 | \n",
       "| 1       | 12975   | 13052   | DDX11L1 | \n",
       "\n",
       "\n"
      ],
      "text/plain": [
       "  chrom start end   geneSym\n",
       "1 1     11869 12227 DDX11L1\n",
       "2 1     12010 12057 DDX11L1\n",
       "3 1     12179 12227 DDX11L1\n",
       "4 1     12613 12721 DDX11L1\n",
       "5 1     12613 12697 DDX11L1\n",
       "6 1     12975 13052 DDX11L1"
      ]
     },
     "metadata": {},
     "output_type": "display_data"
    },
    {
     "data": {
      "text/html": [
       "19"
      ],
      "text/latex": [
       "19"
      ],
      "text/markdown": [
       "19"
      ],
      "text/plain": [
       "[1] 19"
      ]
     },
     "metadata": {},
     "output_type": "display_data"
    },
    {
     "data": {
      "text/html": [
       "19"
      ],
      "text/latex": [
       "19"
      ],
      "text/markdown": [
       "19"
      ],
      "text/plain": [
       "[1] 19"
      ]
     },
     "metadata": {},
     "output_type": "display_data"
    }
   ],
   "source": [
    "head(geneList_lung)\n",
    "head(exann)\n",
    "\n",
    "length(geneList_lung)\n",
    "length(which(geneList_lung %in% exann$geneSym))"
   ]
  },
  {
   "cell_type": "code",
   "execution_count": 7,
   "metadata": {},
   "outputs": [],
   "source": [
    "# Here we find the exonic ranges for the gene list of the current cancer, and take the union of any overlapping exonic ranges\n",
    "# exon_ranges <- exann[exann$geneSym %in% geneList_lung,]\n",
    "exon_ranges <- exann[exann$geneSym %in% geneList_lung[1:12],] # For genes mutated in at least 25% of cases\n",
    "\n",
    "exon_ranges <- GRanges(exon_ranges$chrom,IRanges(exon_ranges$start,exon_ranges$end))\n",
    "exon_ranges <- reduce(exon_ranges)\n",
    "exon_ranges <- data.table(chrom=as.vector(seqnames(exon_ranges)),start=start(exon_ranges),end=end(exon_ranges))"
   ]
  },
  {
   "cell_type": "code",
   "execution_count": 8,
   "metadata": {},
   "outputs": [
    {
     "data": {
      "text/html": [
       "<table>\n",
       "<thead><tr><th></th><th scope=col>ct_sub</th><th scope=col>cl_sub</th><th scope=col>ot_sub</th><th scope=col>ol_sub</th><th scope=col>ct_rest</th><th scope=col>cl_rest</th><th scope=col>ot_rest</th><th scope=col>ol_rest</th><th scope=col>ct_outrange</th><th scope=col>cl_outrange</th><th scope=col>ot_outrange</th><th scope=col>ol_outrange</th></tr></thead>\n",
       "<tbody>\n",
       "\t<tr><th scope=row>chr1</th><td>  0     </td><td>  0     </td><td>   0    </td><td>   0    </td><td>151496  </td><td>323602  </td><td>710434  </td><td>2464868 </td><td>5193582 </td><td>8078528 </td><td>20266612</td><td>53477160</td></tr>\n",
       "\t<tr><th scope=row>chr2</th><td>200     </td><td>534     </td><td>1176    </td><td>3488    </td><td>124512  </td><td>283170  </td><td>617718  </td><td>2066236 </td><td>5449664 </td><td>9245692 </td><td>22942902</td><td>59727216</td></tr>\n",
       "\t<tr><th scope=row>chr3</th><td>  0     </td><td>  0     </td><td>   0    </td><td>   0    </td><td>101554  </td><td>223498  </td><td>483424  </td><td>1625082 </td><td>4525166 </td><td>7774294 </td><td>19306214</td><td>50347906</td></tr>\n",
       "\t<tr><th scope=row>chr4</th><td>292     </td><td>830     </td><td>1786    </td><td>5394    </td><td> 79170  </td><td>185476  </td><td>411142  </td><td>1300344 </td><td>4399742 </td><td>7952856 </td><td>19999238</td><td>50770966</td></tr>\n",
       "\t<tr><th scope=row>chr5</th><td>  0     </td><td>  0     </td><td>   0    </td><td>   0    </td><td> 87766  </td><td>198600  </td><td>433212  </td><td>1421296 </td><td>4094322 </td><td>7162704 </td><td>17783544</td><td>46482090</td></tr>\n",
       "\t<tr><th scope=row>chr6</th><td>  0     </td><td>  0     </td><td>   0    </td><td>   0    </td><td> 83758  </td><td>191814  </td><td>418968  </td><td>1389094 </td><td>3921788 </td><td>6736846 </td><td>16800180</td><td>43289224</td></tr>\n",
       "</tbody>\n",
       "</table>\n"
      ],
      "text/latex": [
       "\\begin{tabular}{r|llllllllllll}\n",
       "  & ct\\_sub & cl\\_sub & ot\\_sub & ol\\_sub & ct\\_rest & cl\\_rest & ot\\_rest & ol\\_rest & ct\\_outrange & cl\\_outrange & ot\\_outrange & ol\\_outrange\\\\\n",
       "\\hline\n",
       "\tchr1 &   0      &   0      &    0     &    0     & 151496   & 323602   & 710434   & 2464868  & 5193582  & 8078528  & 20266612 & 53477160\\\\\n",
       "\tchr2 & 200      & 534      & 1176     & 3488     & 124512   & 283170   & 617718   & 2066236  & 5449664  & 9245692  & 22942902 & 59727216\\\\\n",
       "\tchr3 &   0      &   0      &    0     &    0     & 101554   & 223498   & 483424   & 1625082  & 4525166  & 7774294  & 19306214 & 50347906\\\\\n",
       "\tchr4 & 292      & 830      & 1786     & 5394     &  79170   & 185476   & 411142   & 1300344  & 4399742  & 7952856  & 19999238 & 50770966\\\\\n",
       "\tchr5 &   0      &   0      &    0     &    0     &  87766   & 198600   & 433212   & 1421296  & 4094322  & 7162704  & 17783544 & 46482090\\\\\n",
       "\tchr6 &   0      &   0      &    0     &    0     &  83758   & 191814   & 418968   & 1389094  & 3921788  & 6736846  & 16800180 & 43289224\\\\\n",
       "\\end{tabular}\n"
      ],
      "text/markdown": [
       "\n",
       "| <!--/--> | ct_sub | cl_sub | ot_sub | ol_sub | ct_rest | cl_rest | ot_rest | ol_rest | ct_outrange | cl_outrange | ot_outrange | ol_outrange | \n",
       "|---|---|---|---|---|---|\n",
       "| chr1 |   0      |   0      |    0     |    0     | 151496   | 323602   | 710434   | 2464868  | 5193582  | 8078528  | 20266612 | 53477160 | \n",
       "| chr2 | 200      | 534      | 1176     | 3488     | 124512   | 283170   | 617718   | 2066236  | 5449664  | 9245692  | 22942902 | 59727216 | \n",
       "| chr3 |   0      |   0      |    0     |    0     | 101554   | 223498   | 483424   | 1625082  | 4525166  | 7774294  | 19306214 | 50347906 | \n",
       "| chr4 | 292      | 830      | 1786     | 5394     |  79170   | 185476   | 411142   | 1300344  | 4399742  | 7952856  | 19999238 | 50770966 | \n",
       "| chr5 |   0      |   0      |    0     |    0     |  87766   | 198600   | 433212   | 1421296  | 4094322  | 7162704  | 17783544 | 46482090 | \n",
       "| chr6 |   0      |   0      |    0     |    0     |  83758   | 191814   | 418968   | 1389094  | 3921788  | 6736846  | 16800180 | 43289224 | \n",
       "\n",
       "\n"
      ],
      "text/plain": [
       "     ct_sub cl_sub ot_sub ol_sub ct_rest cl_rest ot_rest ol_rest ct_outrange\n",
       "chr1   0      0       0      0   151496  323602  710434  2464868 5193582    \n",
       "chr2 200    534    1176   3488   124512  283170  617718  2066236 5449664    \n",
       "chr3   0      0       0      0   101554  223498  483424  1625082 4525166    \n",
       "chr4 292    830    1786   5394    79170  185476  411142  1300344 4399742    \n",
       "chr5   0      0       0      0    87766  198600  433212  1421296 4094322    \n",
       "chr6   0      0       0      0    83758  191814  418968  1389094 3921788    \n",
       "     cl_outrange ot_outrange ol_outrange\n",
       "chr1 8078528     20266612    53477160   \n",
       "chr2 9245692     22942902    59727216   \n",
       "chr3 7774294     19306214    50347906   \n",
       "chr4 7952856     19999238    50770966   \n",
       "chr5 7162704     17783544    46482090   \n",
       "chr6 6736846     16800180    43289224   "
      ]
     },
     "metadata": {},
     "output_type": "display_data"
    },
    {
     "data": {
      "text/html": [
       "<table>\n",
       "<thead><tr><th></th><th scope=col>ct_sub</th><th scope=col>cl_sub</th><th scope=col>ot_sub</th><th scope=col>ol_sub</th><th scope=col>ct_rest</th><th scope=col>cl_rest</th><th scope=col>ot_rest</th><th scope=col>ol_rest</th><th scope=col>ct_outrange</th><th scope=col>cl_outrange</th><th scope=col>ot_outrange</th><th scope=col>ol_outrange</th></tr></thead>\n",
       "<tbody>\n",
       "\t<tr><th scope=row>chr1</th><td>  0     </td><td>  0     </td><td>   0    </td><td>   0    </td><td>151496  </td><td>323602  </td><td>710434  </td><td>2464868 </td><td>5193582 </td><td>8078528 </td><td>20266612</td><td>53477160</td></tr>\n",
       "\t<tr><th scope=row>chr2</th><td>200     </td><td>534     </td><td>1176    </td><td>3488    </td><td>124512  </td><td>283170  </td><td>617718  </td><td>2066236 </td><td>5449664 </td><td>9245692 </td><td>22942902</td><td>59727216</td></tr>\n",
       "\t<tr><th scope=row>chr3</th><td>  0     </td><td>  0     </td><td>   0    </td><td>   0    </td><td>101554  </td><td>223498  </td><td>483424  </td><td>1625082 </td><td>4525166 </td><td>7774294 </td><td>19306214</td><td>50347906</td></tr>\n",
       "\t<tr><th scope=row>chr4</th><td>292     </td><td>830     </td><td>1786    </td><td>5394    </td><td> 79170  </td><td>185476  </td><td>411142  </td><td>1300344 </td><td>4399742 </td><td>7952856 </td><td>19999238</td><td>50770966</td></tr>\n",
       "\t<tr><th scope=row>chr5</th><td>  0     </td><td>  0     </td><td>   0    </td><td>   0    </td><td> 87766  </td><td>198600  </td><td>433212  </td><td>1421296 </td><td>4094322 </td><td>7162704 </td><td>17783544</td><td>46482090</td></tr>\n",
       "\t<tr><th scope=row>chr6</th><td>  0     </td><td>  0     </td><td>   0    </td><td>   0    </td><td> 83758  </td><td>191814  </td><td>418968  </td><td>1389094 </td><td>3921788 </td><td>6736846 </td><td>16800180</td><td>43289224</td></tr>\n",
       "</tbody>\n",
       "</table>\n"
      ],
      "text/latex": [
       "\\begin{tabular}{r|llllllllllll}\n",
       "  & ct\\_sub & cl\\_sub & ot\\_sub & ol\\_sub & ct\\_rest & cl\\_rest & ot\\_rest & ol\\_rest & ct\\_outrange & cl\\_outrange & ot\\_outrange & ol\\_outrange\\\\\n",
       "\\hline\n",
       "\tchr1 &   0      &   0      &    0     &    0     & 151496   & 323602   & 710434   & 2464868  & 5193582  & 8078528  & 20266612 & 53477160\\\\\n",
       "\tchr2 & 200      & 534      & 1176     & 3488     & 124512   & 283170   & 617718   & 2066236  & 5449664  & 9245692  & 22942902 & 59727216\\\\\n",
       "\tchr3 &   0      &   0      &    0     &    0     & 101554   & 223498   & 483424   & 1625082  & 4525166  & 7774294  & 19306214 & 50347906\\\\\n",
       "\tchr4 & 292      & 830      & 1786     & 5394     &  79170   & 185476   & 411142   & 1300344  & 4399742  & 7952856  & 19999238 & 50770966\\\\\n",
       "\tchr5 &   0      &   0      &    0     &    0     &  87766   & 198600   & 433212   & 1421296  & 4094322  & 7162704  & 17783544 & 46482090\\\\\n",
       "\tchr6 &   0      &   0      &    0     &    0     &  83758   & 191814   & 418968   & 1389094  & 3921788  & 6736846  & 16800180 & 43289224\\\\\n",
       "\\end{tabular}\n"
      ],
      "text/markdown": [
       "\n",
       "| <!--/--> | ct_sub | cl_sub | ot_sub | ol_sub | ct_rest | cl_rest | ot_rest | ol_rest | ct_outrange | cl_outrange | ot_outrange | ol_outrange | \n",
       "|---|---|---|---|---|---|\n",
       "| chr1 |   0      |   0      |    0     |    0     | 151496   | 323602   | 710434   | 2464868  | 5193582  | 8078528  | 20266612 | 53477160 | \n",
       "| chr2 | 200      | 534      | 1176     | 3488     | 124512   | 283170   | 617718   | 2066236  | 5449664  | 9245692  | 22942902 | 59727216 | \n",
       "| chr3 |   0      |   0      |    0     |    0     | 101554   | 223498   | 483424   | 1625082  | 4525166  | 7774294  | 19306214 | 50347906 | \n",
       "| chr4 | 292      | 830      | 1786     | 5394     |  79170   | 185476   | 411142   | 1300344  | 4399742  | 7952856  | 19999238 | 50770966 | \n",
       "| chr5 |   0      |   0      |    0     |    0     |  87766   | 198600   | 433212   | 1421296  | 4094322  | 7162704  | 17783544 | 46482090 | \n",
       "| chr6 |   0      |   0      |    0     |    0     |  83758   | 191814   | 418968   | 1389094  | 3921788  | 6736846  | 16800180 | 43289224 | \n",
       "\n",
       "\n"
      ],
      "text/plain": [
       "     ct_sub cl_sub ot_sub ol_sub ct_rest cl_rest ot_rest ol_rest ct_outrange\n",
       "chr1   0      0       0      0   151496  323602  710434  2464868 5193582    \n",
       "chr2 200    534    1176   3488   124512  283170  617718  2066236 5449664    \n",
       "chr3   0      0       0      0   101554  223498  483424  1625082 4525166    \n",
       "chr4 292    830    1786   5394    79170  185476  411142  1300344 4399742    \n",
       "chr5   0      0       0      0    87766  198600  433212  1421296 4094322    \n",
       "chr6   0      0       0      0    83758  191814  418968  1389094 3921788    \n",
       "     cl_outrange ot_outrange ol_outrange\n",
       "chr1 8078528     20266612    53477160   \n",
       "chr2 9245692     22942902    59727216   \n",
       "chr3 7774294     19306214    50347906   \n",
       "chr4 7952856     19999238    50770966   \n",
       "chr5 7162704     17783544    46482090   \n",
       "chr6 6736846     16800180    43289224   "
      ]
     },
     "metadata": {},
     "output_type": "display_data"
    }
   ],
   "source": [
    "counts_m <- count_in_ranges(exon_ranges,counts_dipl_m)\n",
    "head(counts_m)\n",
    "counts_f <- count_in_ranges(exon_ranges,counts_dipl_f)\n",
    "head(counts_f)"
   ]
  },
  {
   "cell_type": "markdown",
   "metadata": {},
   "source": [
    "Ratio of sites in geneList_lung genes vs. all other Ensembl genes (driver to passenger ratio)"
   ]
  },
  {
   "cell_type": "code",
   "execution_count": 9,
   "metadata": {},
   "outputs": [
    {
     "data": {
      "text/html": [
       "0.00122216987334996"
      ],
      "text/latex": [
       "0.00122216987334996"
      ],
      "text/markdown": [
       "0.00122216987334996"
      ],
      "text/plain": [
       "[1] 0.00122217"
      ]
     },
     "metadata": {},
     "output_type": "display_data"
    },
    {
     "data": {
      "text/html": [
       "0.0012033007872171"
      ],
      "text/latex": [
       "0.0012033007872171"
      ],
      "text/markdown": [
       "0.0012033007872171"
      ],
      "text/plain": [
       "[1] 0.001203301"
      ]
     },
     "metadata": {},
     "output_type": "display_data"
    }
   ],
   "source": [
    "sum(rowSums(counts_m[,1:4]))/sum(rowSums(counts_m[,5:8]))\n",
    "sum(rowSums(counts_f[,1:4]))/sum(rowSums(counts_f[,5:8]))"
   ]
  },
  {
   "cell_type": "code",
   "execution_count": 10,
   "metadata": {},
   "outputs": [],
   "source": [
    "counts_lung_m<-counts_m\n",
    "counts_lung_f<-counts_f"
   ]
  },
  {
   "cell_type": "code",
   "execution_count": 11,
   "metadata": {},
   "outputs": [
    {
     "data": {
      "text/html": [
       "<ol class=list-inline>\n",
       "\t<li>3.81016596322499e-05</li>\n",
       "\t<li>0.0315388454865314</li>\n",
       "\t<li>0.968423052853836</li>\n",
       "</ol>\n"
      ],
      "text/latex": [
       "\\begin{enumerate*}\n",
       "\\item 3.81016596322499e-05\n",
       "\\item 0.0315388454865314\n",
       "\\item 0.968423052853836\n",
       "\\end{enumerate*}\n"
      ],
      "text/markdown": [
       "1. 3.81016596322499e-05\n",
       "2. 0.0315388454865314\n",
       "3. 0.968423052853836\n",
       "\n",
       "\n"
      ],
      "text/plain": [
       "[1] 3.810166e-05 3.153885e-02 9.684231e-01"
      ]
     },
     "metadata": {},
     "output_type": "display_data"
    },
    {
     "data": {
      "text/html": [
       "<ol class=list-inline>\n",
       "\t<li>3.7255817862019e-05</li>\n",
       "\t<li>0.0313153495705746</li>\n",
       "\t<li>0.968647394611563</li>\n",
       "</ol>\n"
      ],
      "text/latex": [
       "\\begin{enumerate*}\n",
       "\\item 3.7255817862019e-05\n",
       "\\item 0.0313153495705746\n",
       "\\item 0.968647394611563\n",
       "\\end{enumerate*}\n"
      ],
      "text/markdown": [
       "1. 3.7255817862019e-05\n",
       "2. 0.0313153495705746\n",
       "3. 0.968647394611563\n",
       "\n",
       "\n"
      ],
      "text/plain": [
       "[1] 3.725582e-05 3.131535e-02 9.686474e-01"
      ]
     },
     "metadata": {},
     "output_type": "display_data"
    }
   ],
   "source": [
    "pd_lung_m <- get_prob_dist(counts_lung_m,exon_ranges)\n",
    "pd_lung_m\n",
    "pd_lung_f <- get_prob_dist(counts_lung_f,exon_ranges)\n",
    "pd_lung_f"
   ]
  },
  {
   "cell_type": "markdown",
   "metadata": {},
   "source": [
    "## Colon cancer"
   ]
  },
  {
   "cell_type": "code",
   "execution_count": 12,
   "metadata": {},
   "outputs": [
    {
     "data": {
      "text/html": [
       "<ol class=list-inline>\n",
       "\t<li>'APC'</li>\n",
       "\t<li>'ARHGEF10'</li>\n",
       "\t<li>'AXIN1'</li>\n",
       "\t<li>'AXIN2'</li>\n",
       "\t<li>'B2M'</li>\n",
       "\t<li>'BAX'</li>\n",
       "</ol>\n"
      ],
      "text/latex": [
       "\\begin{enumerate*}\n",
       "\\item 'APC'\n",
       "\\item 'ARHGEF10'\n",
       "\\item 'AXIN1'\n",
       "\\item 'AXIN2'\n",
       "\\item 'B2M'\n",
       "\\item 'BAX'\n",
       "\\end{enumerate*}\n"
      ],
      "text/markdown": [
       "1. 'APC'\n",
       "2. 'ARHGEF10'\n",
       "3. 'AXIN1'\n",
       "4. 'AXIN2'\n",
       "5. 'B2M'\n",
       "6. 'BAX'\n",
       "\n",
       "\n"
      ],
      "text/plain": [
       "[1] \"APC\"      \"ARHGEF10\" \"AXIN1\"    \"AXIN2\"    \"B2M\"      \"BAX\"     "
      ]
     },
     "metadata": {},
     "output_type": "display_data"
    },
    {
     "data": {
      "text/html": [
       "<table>\n",
       "<thead><tr><th scope=col>chrom</th><th scope=col>start</th><th scope=col>end</th><th scope=col>geneSym</th></tr></thead>\n",
       "<tbody>\n",
       "\t<tr><td>1      </td><td>11869  </td><td>12227  </td><td>DDX11L1</td></tr>\n",
       "\t<tr><td>1      </td><td>12010  </td><td>12057  </td><td>DDX11L1</td></tr>\n",
       "\t<tr><td>1      </td><td>12179  </td><td>12227  </td><td>DDX11L1</td></tr>\n",
       "\t<tr><td>1      </td><td>12613  </td><td>12721  </td><td>DDX11L1</td></tr>\n",
       "\t<tr><td>1      </td><td>12613  </td><td>12697  </td><td>DDX11L1</td></tr>\n",
       "\t<tr><td>1      </td><td>12975  </td><td>13052  </td><td>DDX11L1</td></tr>\n",
       "</tbody>\n",
       "</table>\n"
      ],
      "text/latex": [
       "\\begin{tabular}{r|llll}\n",
       " chrom & start & end & geneSym\\\\\n",
       "\\hline\n",
       "\t 1       & 11869   & 12227   & DDX11L1\\\\\n",
       "\t 1       & 12010   & 12057   & DDX11L1\\\\\n",
       "\t 1       & 12179   & 12227   & DDX11L1\\\\\n",
       "\t 1       & 12613   & 12721   & DDX11L1\\\\\n",
       "\t 1       & 12613   & 12697   & DDX11L1\\\\\n",
       "\t 1       & 12975   & 13052   & DDX11L1\\\\\n",
       "\\end{tabular}\n"
      ],
      "text/markdown": [
       "\n",
       "chrom | start | end | geneSym | \n",
       "|---|---|---|---|---|---|\n",
       "| 1       | 11869   | 12227   | DDX11L1 | \n",
       "| 1       | 12010   | 12057   | DDX11L1 | \n",
       "| 1       | 12179   | 12227   | DDX11L1 | \n",
       "| 1       | 12613   | 12721   | DDX11L1 | \n",
       "| 1       | 12613   | 12697   | DDX11L1 | \n",
       "| 1       | 12975   | 13052   | DDX11L1 | \n",
       "\n",
       "\n"
      ],
      "text/plain": [
       "  chrom start end   geneSym\n",
       "1 1     11869 12227 DDX11L1\n",
       "2 1     12010 12057 DDX11L1\n",
       "3 1     12179 12227 DDX11L1\n",
       "4 1     12613 12721 DDX11L1\n",
       "5 1     12613 12697 DDX11L1\n",
       "6 1     12975 13052 DDX11L1"
      ]
     },
     "metadata": {},
     "output_type": "display_data"
    },
    {
     "data": {
      "text/html": [
       "42"
      ],
      "text/latex": [
       "42"
      ],
      "text/markdown": [
       "42"
      ],
      "text/plain": [
       "[1] 42"
      ]
     },
     "metadata": {},
     "output_type": "display_data"
    },
    {
     "data": {
      "text/html": [
       "42"
      ],
      "text/latex": [
       "42"
      ],
      "text/markdown": [
       "42"
      ],
      "text/plain": [
       "[1] 42"
      ]
     },
     "metadata": {},
     "output_type": "display_data"
    }
   ],
   "source": [
    "head(geneList_colon)\n",
    "head(exann)\n",
    "\n",
    "length(geneList_colon)\n",
    "length(which(geneList_colon %in% exann$geneSym))"
   ]
  },
  {
   "cell_type": "code",
   "execution_count": 13,
   "metadata": {},
   "outputs": [],
   "source": [
    "# exon_ranges <- exann[exann$geneSym %in% geneList_colon,]\n",
    "exon_ranges <- exann[exann$geneSym %in% geneList_colon[1:11],] # For genes mutated in at least 25% of cases\n",
    "\n",
    "exon_ranges <- GRanges(exon_ranges$chrom,IRanges(exon_ranges$start,exon_ranges$end))\n",
    "exon_ranges <- reduce(exon_ranges)\n",
    "exon_ranges <- data.table(chrom=as.vector(seqnames(exon_ranges)),start=start(exon_ranges),end=end(exon_ranges))"
   ]
  },
  {
   "cell_type": "code",
   "execution_count": 14,
   "metadata": {},
   "outputs": [
    {
     "data": {
      "text/html": [
       "<table>\n",
       "<thead><tr><th></th><th scope=col>ct_sub</th><th scope=col>cl_sub</th><th scope=col>ot_sub</th><th scope=col>ol_sub</th><th scope=col>ct_rest</th><th scope=col>cl_rest</th><th scope=col>ot_rest</th><th scope=col>ol_rest</th><th scope=col>ct_outrange</th><th scope=col>cl_outrange</th><th scope=col>ot_outrange</th><th scope=col>ol_outrange</th></tr></thead>\n",
       "<tbody>\n",
       "\t<tr><th scope=row>chr1</th><td>  0     </td><td>  0     </td><td>  0     </td><td>   0    </td><td>151496  </td><td>323602  </td><td>710434  </td><td>2464868 </td><td>5193582 </td><td>8078528 </td><td>20266612</td><td>53477160</td></tr>\n",
       "\t<tr><th scope=row>chr2</th><td>  0     </td><td>  0     </td><td>  0     </td><td>   0    </td><td>124712  </td><td>283704  </td><td>618894  </td><td>2069724 </td><td>5449664 </td><td>9245692 </td><td>22942902</td><td>59727216</td></tr>\n",
       "\t<tr><th scope=row>chr3</th><td>  0     </td><td>  0     </td><td>  0     </td><td>   0    </td><td>101554  </td><td>223498  </td><td>483424  </td><td>1625082 </td><td>4525166 </td><td>7774294 </td><td>19306214</td><td>50347906</td></tr>\n",
       "\t<tr><th scope=row>chr4</th><td>  0     </td><td>  0     </td><td>  0     </td><td>   0    </td><td> 79462  </td><td>186306  </td><td>412928  </td><td>1305738 </td><td>4399742 </td><td>7952856 </td><td>19999238</td><td>50770966</td></tr>\n",
       "\t<tr><th scope=row>chr5</th><td>152     </td><td>438     </td><td>956     </td><td>3260    </td><td> 87614  </td><td>198162  </td><td>432256  </td><td>1418036 </td><td>4094322 </td><td>7162704 </td><td>17783544</td><td>46482090</td></tr>\n",
       "\t<tr><th scope=row>chr6</th><td>  0     </td><td>  0     </td><td>  0     </td><td>   0    </td><td> 83758  </td><td>191814  </td><td>418968  </td><td>1389094 </td><td>3921788 </td><td>6736846 </td><td>16800180</td><td>43289224</td></tr>\n",
       "</tbody>\n",
       "</table>\n"
      ],
      "text/latex": [
       "\\begin{tabular}{r|llllllllllll}\n",
       "  & ct\\_sub & cl\\_sub & ot\\_sub & ol\\_sub & ct\\_rest & cl\\_rest & ot\\_rest & ol\\_rest & ct\\_outrange & cl\\_outrange & ot\\_outrange & ol\\_outrange\\\\\n",
       "\\hline\n",
       "\tchr1 &   0      &   0      &   0      &    0     & 151496   & 323602   & 710434   & 2464868  & 5193582  & 8078528  & 20266612 & 53477160\\\\\n",
       "\tchr2 &   0      &   0      &   0      &    0     & 124712   & 283704   & 618894   & 2069724  & 5449664  & 9245692  & 22942902 & 59727216\\\\\n",
       "\tchr3 &   0      &   0      &   0      &    0     & 101554   & 223498   & 483424   & 1625082  & 4525166  & 7774294  & 19306214 & 50347906\\\\\n",
       "\tchr4 &   0      &   0      &   0      &    0     &  79462   & 186306   & 412928   & 1305738  & 4399742  & 7952856  & 19999238 & 50770966\\\\\n",
       "\tchr5 & 152      & 438      & 956      & 3260     &  87614   & 198162   & 432256   & 1418036  & 4094322  & 7162704  & 17783544 & 46482090\\\\\n",
       "\tchr6 &   0      &   0      &   0      &    0     &  83758   & 191814   & 418968   & 1389094  & 3921788  & 6736846  & 16800180 & 43289224\\\\\n",
       "\\end{tabular}\n"
      ],
      "text/markdown": [
       "\n",
       "| <!--/--> | ct_sub | cl_sub | ot_sub | ol_sub | ct_rest | cl_rest | ot_rest | ol_rest | ct_outrange | cl_outrange | ot_outrange | ol_outrange | \n",
       "|---|---|---|---|---|---|\n",
       "| chr1 |   0      |   0      |   0      |    0     | 151496   | 323602   | 710434   | 2464868  | 5193582  | 8078528  | 20266612 | 53477160 | \n",
       "| chr2 |   0      |   0      |   0      |    0     | 124712   | 283704   | 618894   | 2069724  | 5449664  | 9245692  | 22942902 | 59727216 | \n",
       "| chr3 |   0      |   0      |   0      |    0     | 101554   | 223498   | 483424   | 1625082  | 4525166  | 7774294  | 19306214 | 50347906 | \n",
       "| chr4 |   0      |   0      |   0      |    0     |  79462   | 186306   | 412928   | 1305738  | 4399742  | 7952856  | 19999238 | 50770966 | \n",
       "| chr5 | 152      | 438      | 956      | 3260     |  87614   | 198162   | 432256   | 1418036  | 4094322  | 7162704  | 17783544 | 46482090 | \n",
       "| chr6 |   0      |   0      |   0      |    0     |  83758   | 191814   | 418968   | 1389094  | 3921788  | 6736846  | 16800180 | 43289224 | \n",
       "\n",
       "\n"
      ],
      "text/plain": [
       "     ct_sub cl_sub ot_sub ol_sub ct_rest cl_rest ot_rest ol_rest ct_outrange\n",
       "chr1   0      0      0       0   151496  323602  710434  2464868 5193582    \n",
       "chr2   0      0      0       0   124712  283704  618894  2069724 5449664    \n",
       "chr3   0      0      0       0   101554  223498  483424  1625082 4525166    \n",
       "chr4   0      0      0       0    79462  186306  412928  1305738 4399742    \n",
       "chr5 152    438    956    3260    87614  198162  432256  1418036 4094322    \n",
       "chr6   0      0      0       0    83758  191814  418968  1389094 3921788    \n",
       "     cl_outrange ot_outrange ol_outrange\n",
       "chr1 8078528     20266612    53477160   \n",
       "chr2 9245692     22942902    59727216   \n",
       "chr3 7774294     19306214    50347906   \n",
       "chr4 7952856     19999238    50770966   \n",
       "chr5 7162704     17783544    46482090   \n",
       "chr6 6736846     16800180    43289224   "
      ]
     },
     "metadata": {},
     "output_type": "display_data"
    },
    {
     "data": {
      "text/html": [
       "<table>\n",
       "<thead><tr><th></th><th scope=col>ct_sub</th><th scope=col>cl_sub</th><th scope=col>ot_sub</th><th scope=col>ol_sub</th><th scope=col>ct_rest</th><th scope=col>cl_rest</th><th scope=col>ot_rest</th><th scope=col>ol_rest</th><th scope=col>ct_outrange</th><th scope=col>cl_outrange</th><th scope=col>ot_outrange</th><th scope=col>ol_outrange</th></tr></thead>\n",
       "<tbody>\n",
       "\t<tr><th scope=row>chr1</th><td>  0     </td><td>  0     </td><td>  0     </td><td>   0    </td><td>151496  </td><td>323602  </td><td>710434  </td><td>2464868 </td><td>5193582 </td><td>8078528 </td><td>20266612</td><td>53477160</td></tr>\n",
       "\t<tr><th scope=row>chr2</th><td>  0     </td><td>  0     </td><td>  0     </td><td>   0    </td><td>124712  </td><td>283704  </td><td>618894  </td><td>2069724 </td><td>5449664 </td><td>9245692 </td><td>22942902</td><td>59727216</td></tr>\n",
       "\t<tr><th scope=row>chr3</th><td>  0     </td><td>  0     </td><td>  0     </td><td>   0    </td><td>101554  </td><td>223498  </td><td>483424  </td><td>1625082 </td><td>4525166 </td><td>7774294 </td><td>19306214</td><td>50347906</td></tr>\n",
       "\t<tr><th scope=row>chr4</th><td>  0     </td><td>  0     </td><td>  0     </td><td>   0    </td><td> 79462  </td><td>186306  </td><td>412928  </td><td>1305738 </td><td>4399742 </td><td>7952856 </td><td>19999238</td><td>50770966</td></tr>\n",
       "\t<tr><th scope=row>chr5</th><td>152     </td><td>438     </td><td>956     </td><td>3260    </td><td> 87614  </td><td>198162  </td><td>432256  </td><td>1418036 </td><td>4094322 </td><td>7162704 </td><td>17783544</td><td>46482090</td></tr>\n",
       "\t<tr><th scope=row>chr6</th><td>  0     </td><td>  0     </td><td>  0     </td><td>   0    </td><td> 83758  </td><td>191814  </td><td>418968  </td><td>1389094 </td><td>3921788 </td><td>6736846 </td><td>16800180</td><td>43289224</td></tr>\n",
       "</tbody>\n",
       "</table>\n"
      ],
      "text/latex": [
       "\\begin{tabular}{r|llllllllllll}\n",
       "  & ct\\_sub & cl\\_sub & ot\\_sub & ol\\_sub & ct\\_rest & cl\\_rest & ot\\_rest & ol\\_rest & ct\\_outrange & cl\\_outrange & ot\\_outrange & ol\\_outrange\\\\\n",
       "\\hline\n",
       "\tchr1 &   0      &   0      &   0      &    0     & 151496   & 323602   & 710434   & 2464868  & 5193582  & 8078528  & 20266612 & 53477160\\\\\n",
       "\tchr2 &   0      &   0      &   0      &    0     & 124712   & 283704   & 618894   & 2069724  & 5449664  & 9245692  & 22942902 & 59727216\\\\\n",
       "\tchr3 &   0      &   0      &   0      &    0     & 101554   & 223498   & 483424   & 1625082  & 4525166  & 7774294  & 19306214 & 50347906\\\\\n",
       "\tchr4 &   0      &   0      &   0      &    0     &  79462   & 186306   & 412928   & 1305738  & 4399742  & 7952856  & 19999238 & 50770966\\\\\n",
       "\tchr5 & 152      & 438      & 956      & 3260     &  87614   & 198162   & 432256   & 1418036  & 4094322  & 7162704  & 17783544 & 46482090\\\\\n",
       "\tchr6 &   0      &   0      &   0      &    0     &  83758   & 191814   & 418968   & 1389094  & 3921788  & 6736846  & 16800180 & 43289224\\\\\n",
       "\\end{tabular}\n"
      ],
      "text/markdown": [
       "\n",
       "| <!--/--> | ct_sub | cl_sub | ot_sub | ol_sub | ct_rest | cl_rest | ot_rest | ol_rest | ct_outrange | cl_outrange | ot_outrange | ol_outrange | \n",
       "|---|---|---|---|---|---|\n",
       "| chr1 |   0      |   0      |   0      |    0     | 151496   | 323602   | 710434   | 2464868  | 5193582  | 8078528  | 20266612 | 53477160 | \n",
       "| chr2 |   0      |   0      |   0      |    0     | 124712   | 283704   | 618894   | 2069724  | 5449664  | 9245692  | 22942902 | 59727216 | \n",
       "| chr3 |   0      |   0      |   0      |    0     | 101554   | 223498   | 483424   | 1625082  | 4525166  | 7774294  | 19306214 | 50347906 | \n",
       "| chr4 |   0      |   0      |   0      |    0     |  79462   | 186306   | 412928   | 1305738  | 4399742  | 7952856  | 19999238 | 50770966 | \n",
       "| chr5 | 152      | 438      | 956      | 3260     |  87614   | 198162   | 432256   | 1418036  | 4094322  | 7162704  | 17783544 | 46482090 | \n",
       "| chr6 |   0      |   0      |   0      |    0     |  83758   | 191814   | 418968   | 1389094  | 3921788  | 6736846  | 16800180 | 43289224 | \n",
       "\n",
       "\n"
      ],
      "text/plain": [
       "     ct_sub cl_sub ot_sub ol_sub ct_rest cl_rest ot_rest ol_rest ct_outrange\n",
       "chr1   0      0      0       0   151496  323602  710434  2464868 5193582    \n",
       "chr2   0      0      0       0   124712  283704  618894  2069724 5449664    \n",
       "chr3   0      0      0       0   101554  223498  483424  1625082 4525166    \n",
       "chr4   0      0      0       0    79462  186306  412928  1305738 4399742    \n",
       "chr5 152    438    956    3260    87614  198162  432256  1418036 4094322    \n",
       "chr6   0      0      0       0    83758  191814  418968  1389094 3921788    \n",
       "     cl_outrange ot_outrange ol_outrange\n",
       "chr1 8078528     20266612    53477160   \n",
       "chr2 9245692     22942902    59727216   \n",
       "chr3 7774294     19306214    50347906   \n",
       "chr4 7952856     19999238    50770966   \n",
       "chr5 7162704     17783544    46482090   \n",
       "chr6 6736846     16800180    43289224   "
      ]
     },
     "metadata": {},
     "output_type": "display_data"
    }
   ],
   "source": [
    "counts_m <- count_in_ranges(exon_ranges,counts_dipl_m)\n",
    "head(counts_m)\n",
    "counts_f <- count_in_ranges(exon_ranges,counts_dipl_f)\n",
    "head(counts_f)"
   ]
  },
  {
   "cell_type": "markdown",
   "metadata": {},
   "source": [
    "Ratio of sites in geneList_colon genes vs. all other Ensembl genes (driver to passenger ratio)"
   ]
  },
  {
   "cell_type": "code",
   "execution_count": 15,
   "metadata": {},
   "outputs": [
    {
     "data": {
      "text/html": [
       "0.000744297036869363"
      ],
      "text/latex": [
       "0.000744297036869363"
      ],
      "text/markdown": [
       "0.000744297036869363"
      ],
      "text/plain": [
       "[1] 0.000744297"
      ]
     },
     "metadata": {},
     "output_type": "display_data"
    },
    {
     "data": {
      "text/html": [
       "0.000732811231587356"
      ],
      "text/latex": [
       "0.000732811231587356"
      ],
      "text/markdown": [
       "0.000732811231587356"
      ],
      "text/plain": [
       "[1] 0.0007328112"
      ]
     },
     "metadata": {},
     "output_type": "display_data"
    }
   ],
   "source": [
    "sum(rowSums(counts_m[,1:4]))/sum(rowSums(counts_m[,5:8]))\n",
    "sum(rowSums(counts_f[,1:4]))/sum(rowSums(counts_f[,5:8]))"
   ]
  },
  {
   "cell_type": "code",
   "execution_count": 16,
   "metadata": {},
   "outputs": [],
   "source": [
    "counts_colon_m<-counts_m\n",
    "counts_colon_f<-counts_f"
   ]
  },
  {
   "cell_type": "code",
   "execution_count": 17,
   "metadata": {
    "scrolled": true
   },
   "outputs": [
    {
     "data": {
      "text/html": [
       "<ol class=list-inline>\n",
       "\t<li>2.46378544765482e-05</li>\n",
       "\t<li>0.0315523092916871</li>\n",
       "\t<li>0.968423052853836</li>\n",
       "</ol>\n"
      ],
      "text/latex": [
       "\\begin{enumerate*}\n",
       "\\item 2.46378544765482e-05\n",
       "\\item 0.0315523092916871\n",
       "\\item 0.968423052853836\n",
       "\\end{enumerate*}\n"
      ],
      "text/markdown": [
       "1. 2.46378544765482e-05\n",
       "2. 0.0315523092916871\n",
       "3. 0.968423052853836\n",
       "\n",
       "\n"
      ],
      "text/plain": [
       "[1] 2.463785e-05 3.155231e-02 9.684231e-01"
      ]
     },
     "metadata": {},
     "output_type": "display_data"
    },
    {
     "data": {
      "text/html": [
       "<ol class=list-inline>\n",
       "\t<li>2.40954073581851e-05</li>\n",
       "\t<li>0.0313285099810785</li>\n",
       "\t<li>0.968647394611563</li>\n",
       "</ol>\n"
      ],
      "text/latex": [
       "\\begin{enumerate*}\n",
       "\\item 2.40954073581851e-05\n",
       "\\item 0.0313285099810785\n",
       "\\item 0.968647394611563\n",
       "\\end{enumerate*}\n"
      ],
      "text/markdown": [
       "1. 2.40954073581851e-05\n",
       "2. 0.0313285099810785\n",
       "3. 0.968647394611563\n",
       "\n",
       "\n"
      ],
      "text/plain": [
       "[1] 2.409541e-05 3.132851e-02 9.686474e-01"
      ]
     },
     "metadata": {},
     "output_type": "display_data"
    }
   ],
   "source": [
    "pd_colon_m <- get_prob_dist(counts_colon_m,exon_ranges)\n",
    "pd_colon_m\n",
    "pd_colon_f <- get_prob_dist(counts_colon_f,exon_ranges)\n",
    "pd_colon_f"
   ]
  },
  {
   "cell_type": "markdown",
   "metadata": {},
   "source": [
    "## Brain cancer"
   ]
  },
  {
   "cell_type": "code",
   "execution_count": 18,
   "metadata": {},
   "outputs": [
    {
     "data": {
      "text/html": [
       "<ol class=list-inline>\n",
       "\t<li>'CIC'</li>\n",
       "\t<li>'CTCF'</li>\n",
       "\t<li>'FAT1'</li>\n",
       "\t<li>'FAT4'</li>\n",
       "\t<li>'KLF4'</li>\n",
       "\t<li>'NF2'</li>\n",
       "</ol>\n"
      ],
      "text/latex": [
       "\\begin{enumerate*}\n",
       "\\item 'CIC'\n",
       "\\item 'CTCF'\n",
       "\\item 'FAT1'\n",
       "\\item 'FAT4'\n",
       "\\item 'KLF4'\n",
       "\\item 'NF2'\n",
       "\\end{enumerate*}\n"
      ],
      "text/markdown": [
       "1. 'CIC'\n",
       "2. 'CTCF'\n",
       "3. 'FAT1'\n",
       "4. 'FAT4'\n",
       "5. 'KLF4'\n",
       "6. 'NF2'\n",
       "\n",
       "\n"
      ],
      "text/plain": [
       "[1] \"CIC\"  \"CTCF\" \"FAT1\" \"FAT4\" \"KLF4\" \"NF2\" "
      ]
     },
     "metadata": {},
     "output_type": "display_data"
    },
    {
     "data": {
      "text/html": [
       "<table>\n",
       "<thead><tr><th scope=col>chrom</th><th scope=col>start</th><th scope=col>end</th><th scope=col>geneSym</th></tr></thead>\n",
       "<tbody>\n",
       "\t<tr><td>1      </td><td>11869  </td><td>12227  </td><td>DDX11L1</td></tr>\n",
       "\t<tr><td>1      </td><td>12010  </td><td>12057  </td><td>DDX11L1</td></tr>\n",
       "\t<tr><td>1      </td><td>12179  </td><td>12227  </td><td>DDX11L1</td></tr>\n",
       "\t<tr><td>1      </td><td>12613  </td><td>12721  </td><td>DDX11L1</td></tr>\n",
       "\t<tr><td>1      </td><td>12613  </td><td>12697  </td><td>DDX11L1</td></tr>\n",
       "\t<tr><td>1      </td><td>12975  </td><td>13052  </td><td>DDX11L1</td></tr>\n",
       "</tbody>\n",
       "</table>\n"
      ],
      "text/latex": [
       "\\begin{tabular}{r|llll}\n",
       " chrom & start & end & geneSym\\\\\n",
       "\\hline\n",
       "\t 1       & 11869   & 12227   & DDX11L1\\\\\n",
       "\t 1       & 12010   & 12057   & DDX11L1\\\\\n",
       "\t 1       & 12179   & 12227   & DDX11L1\\\\\n",
       "\t 1       & 12613   & 12721   & DDX11L1\\\\\n",
       "\t 1       & 12613   & 12697   & DDX11L1\\\\\n",
       "\t 1       & 12975   & 13052   & DDX11L1\\\\\n",
       "\\end{tabular}\n"
      ],
      "text/markdown": [
       "\n",
       "chrom | start | end | geneSym | \n",
       "|---|---|---|---|---|---|\n",
       "| 1       | 11869   | 12227   | DDX11L1 | \n",
       "| 1       | 12010   | 12057   | DDX11L1 | \n",
       "| 1       | 12179   | 12227   | DDX11L1 | \n",
       "| 1       | 12613   | 12721   | DDX11L1 | \n",
       "| 1       | 12613   | 12697   | DDX11L1 | \n",
       "| 1       | 12975   | 13052   | DDX11L1 | \n",
       "\n",
       "\n"
      ],
      "text/plain": [
       "  chrom start end   geneSym\n",
       "1 1     11869 12227 DDX11L1\n",
       "2 1     12010 12057 DDX11L1\n",
       "3 1     12179 12227 DDX11L1\n",
       "4 1     12613 12721 DDX11L1\n",
       "5 1     12613 12697 DDX11L1\n",
       "6 1     12975 13052 DDX11L1"
      ]
     },
     "metadata": {},
     "output_type": "display_data"
    },
    {
     "data": {
      "text/html": [
       "10"
      ],
      "text/latex": [
       "10"
      ],
      "text/markdown": [
       "10"
      ],
      "text/plain": [
       "[1] 10"
      ]
     },
     "metadata": {},
     "output_type": "display_data"
    },
    {
     "data": {
      "text/html": [
       "10"
      ],
      "text/latex": [
       "10"
      ],
      "text/markdown": [
       "10"
      ],
      "text/plain": [
       "[1] 10"
      ]
     },
     "metadata": {},
     "output_type": "display_data"
    }
   ],
   "source": [
    "head(geneList_brain)\n",
    "head(exann)\n",
    "\n",
    "length(geneList_brain)\n",
    "length(which(geneList_brain %in% exann$geneSym))"
   ]
  },
  {
   "cell_type": "code",
   "execution_count": 19,
   "metadata": {},
   "outputs": [],
   "source": [
    "# exon_ranges <- exann[exann$geneSym %in% geneList_brain,]\n",
    "exon_ranges <- exann[exann$geneSym %in% geneList_brain[1:3],] # For genes mutated in at least 25% of cases\n",
    "\n",
    "exon_ranges <- GRanges(exon_ranges$chrom,IRanges(exon_ranges$start,exon_ranges$end))\n",
    "exon_ranges <- reduce(exon_ranges)\n",
    "exon_ranges <- data.table(chrom=as.vector(seqnames(exon_ranges)),start=start(exon_ranges),end=end(exon_ranges))"
   ]
  },
  {
   "cell_type": "code",
   "execution_count": 20,
   "metadata": {},
   "outputs": [
    {
     "data": {
      "text/html": [
       "<table>\n",
       "<thead><tr><th></th><th scope=col>ct_sub</th><th scope=col>cl_sub</th><th scope=col>ot_sub</th><th scope=col>ol_sub</th><th scope=col>ct_rest</th><th scope=col>cl_rest</th><th scope=col>ot_rest</th><th scope=col>ol_rest</th><th scope=col>ct_outrange</th><th scope=col>cl_outrange</th><th scope=col>ot_outrange</th><th scope=col>ol_outrange</th></tr></thead>\n",
       "<tbody>\n",
       "\t<tr><th scope=row>chr1</th><td> 0      </td><td>  0     </td><td>  0     </td><td>   0    </td><td>151496  </td><td>323602  </td><td>710434  </td><td>2464868 </td><td>5193582 </td><td>8078528 </td><td>20266612</td><td>53477160</td></tr>\n",
       "\t<tr><th scope=row>chr2</th><td> 0      </td><td>  0     </td><td>  0     </td><td>   0    </td><td>124712  </td><td>283704  </td><td>618894  </td><td>2069724 </td><td>5449664 </td><td>9245692 </td><td>22942902</td><td>59727216</td></tr>\n",
       "\t<tr><th scope=row>chr3</th><td> 0      </td><td>  0     </td><td>  0     </td><td>   0    </td><td>101554  </td><td>223498  </td><td>483424  </td><td>1625082 </td><td>4525166 </td><td>7774294 </td><td>19306214</td><td>50347906</td></tr>\n",
       "\t<tr><th scope=row>chr4</th><td>86      </td><td>378     </td><td>650     </td><td>3424    </td><td> 79376  </td><td>185928  </td><td>412278  </td><td>1302314 </td><td>4399742 </td><td>7952856 </td><td>19999238</td><td>50770966</td></tr>\n",
       "\t<tr><th scope=row>chr5</th><td> 0      </td><td>  0     </td><td>  0     </td><td>   0    </td><td> 87766  </td><td>198600  </td><td>433212  </td><td>1421296 </td><td>4094322 </td><td>7162704 </td><td>17783544</td><td>46482090</td></tr>\n",
       "\t<tr><th scope=row>chr6</th><td> 0      </td><td>  0     </td><td>  0     </td><td>   0    </td><td> 83758  </td><td>191814  </td><td>418968  </td><td>1389094 </td><td>3921788 </td><td>6736846 </td><td>16800180</td><td>43289224</td></tr>\n",
       "</tbody>\n",
       "</table>\n"
      ],
      "text/latex": [
       "\\begin{tabular}{r|llllllllllll}\n",
       "  & ct\\_sub & cl\\_sub & ot\\_sub & ol\\_sub & ct\\_rest & cl\\_rest & ot\\_rest & ol\\_rest & ct\\_outrange & cl\\_outrange & ot\\_outrange & ol\\_outrange\\\\\n",
       "\\hline\n",
       "\tchr1 &  0       &   0      &   0      &    0     & 151496   & 323602   & 710434   & 2464868  & 5193582  & 8078528  & 20266612 & 53477160\\\\\n",
       "\tchr2 &  0       &   0      &   0      &    0     & 124712   & 283704   & 618894   & 2069724  & 5449664  & 9245692  & 22942902 & 59727216\\\\\n",
       "\tchr3 &  0       &   0      &   0      &    0     & 101554   & 223498   & 483424   & 1625082  & 4525166  & 7774294  & 19306214 & 50347906\\\\\n",
       "\tchr4 & 86       & 378      & 650      & 3424     &  79376   & 185928   & 412278   & 1302314  & 4399742  & 7952856  & 19999238 & 50770966\\\\\n",
       "\tchr5 &  0       &   0      &   0      &    0     &  87766   & 198600   & 433212   & 1421296  & 4094322  & 7162704  & 17783544 & 46482090\\\\\n",
       "\tchr6 &  0       &   0      &   0      &    0     &  83758   & 191814   & 418968   & 1389094  & 3921788  & 6736846  & 16800180 & 43289224\\\\\n",
       "\\end{tabular}\n"
      ],
      "text/markdown": [
       "\n",
       "| <!--/--> | ct_sub | cl_sub | ot_sub | ol_sub | ct_rest | cl_rest | ot_rest | ol_rest | ct_outrange | cl_outrange | ot_outrange | ol_outrange | \n",
       "|---|---|---|---|---|---|\n",
       "| chr1 |  0       |   0      |   0      |    0     | 151496   | 323602   | 710434   | 2464868  | 5193582  | 8078528  | 20266612 | 53477160 | \n",
       "| chr2 |  0       |   0      |   0      |    0     | 124712   | 283704   | 618894   | 2069724  | 5449664  | 9245692  | 22942902 | 59727216 | \n",
       "| chr3 |  0       |   0      |   0      |    0     | 101554   | 223498   | 483424   | 1625082  | 4525166  | 7774294  | 19306214 | 50347906 | \n",
       "| chr4 | 86       | 378      | 650      | 3424     |  79376   | 185928   | 412278   | 1302314  | 4399742  | 7952856  | 19999238 | 50770966 | \n",
       "| chr5 |  0       |   0      |   0      |    0     |  87766   | 198600   | 433212   | 1421296  | 4094322  | 7162704  | 17783544 | 46482090 | \n",
       "| chr6 |  0       |   0      |   0      |    0     |  83758   | 191814   | 418968   | 1389094  | 3921788  | 6736846  | 16800180 | 43289224 | \n",
       "\n",
       "\n"
      ],
      "text/plain": [
       "     ct_sub cl_sub ot_sub ol_sub ct_rest cl_rest ot_rest ol_rest ct_outrange\n",
       "chr1  0       0      0       0   151496  323602  710434  2464868 5193582    \n",
       "chr2  0       0      0       0   124712  283704  618894  2069724 5449664    \n",
       "chr3  0       0      0       0   101554  223498  483424  1625082 4525166    \n",
       "chr4 86     378    650    3424    79376  185928  412278  1302314 4399742    \n",
       "chr5  0       0      0       0    87766  198600  433212  1421296 4094322    \n",
       "chr6  0       0      0       0    83758  191814  418968  1389094 3921788    \n",
       "     cl_outrange ot_outrange ol_outrange\n",
       "chr1 8078528     20266612    53477160   \n",
       "chr2 9245692     22942902    59727216   \n",
       "chr3 7774294     19306214    50347906   \n",
       "chr4 7952856     19999238    50770966   \n",
       "chr5 7162704     17783544    46482090   \n",
       "chr6 6736846     16800180    43289224   "
      ]
     },
     "metadata": {},
     "output_type": "display_data"
    },
    {
     "data": {
      "text/html": [
       "<table>\n",
       "<thead><tr><th></th><th scope=col>ct_sub</th><th scope=col>cl_sub</th><th scope=col>ot_sub</th><th scope=col>ol_sub</th><th scope=col>ct_rest</th><th scope=col>cl_rest</th><th scope=col>ot_rest</th><th scope=col>ol_rest</th><th scope=col>ct_outrange</th><th scope=col>cl_outrange</th><th scope=col>ot_outrange</th><th scope=col>ol_outrange</th></tr></thead>\n",
       "<tbody>\n",
       "\t<tr><th scope=row>chr1</th><td> 0      </td><td>  0     </td><td>  0     </td><td>   0    </td><td>151496  </td><td>323602  </td><td>710434  </td><td>2464868 </td><td>5193582 </td><td>8078528 </td><td>20266612</td><td>53477160</td></tr>\n",
       "\t<tr><th scope=row>chr2</th><td> 0      </td><td>  0     </td><td>  0     </td><td>   0    </td><td>124712  </td><td>283704  </td><td>618894  </td><td>2069724 </td><td>5449664 </td><td>9245692 </td><td>22942902</td><td>59727216</td></tr>\n",
       "\t<tr><th scope=row>chr3</th><td> 0      </td><td>  0     </td><td>  0     </td><td>   0    </td><td>101554  </td><td>223498  </td><td>483424  </td><td>1625082 </td><td>4525166 </td><td>7774294 </td><td>19306214</td><td>50347906</td></tr>\n",
       "\t<tr><th scope=row>chr4</th><td>86      </td><td>378     </td><td>650     </td><td>3424    </td><td> 79376  </td><td>185928  </td><td>412278  </td><td>1302314 </td><td>4399742 </td><td>7952856 </td><td>19999238</td><td>50770966</td></tr>\n",
       "\t<tr><th scope=row>chr5</th><td> 0      </td><td>  0     </td><td>  0     </td><td>   0    </td><td> 87766  </td><td>198600  </td><td>433212  </td><td>1421296 </td><td>4094322 </td><td>7162704 </td><td>17783544</td><td>46482090</td></tr>\n",
       "\t<tr><th scope=row>chr6</th><td> 0      </td><td>  0     </td><td>  0     </td><td>   0    </td><td> 83758  </td><td>191814  </td><td>418968  </td><td>1389094 </td><td>3921788 </td><td>6736846 </td><td>16800180</td><td>43289224</td></tr>\n",
       "</tbody>\n",
       "</table>\n"
      ],
      "text/latex": [
       "\\begin{tabular}{r|llllllllllll}\n",
       "  & ct\\_sub & cl\\_sub & ot\\_sub & ol\\_sub & ct\\_rest & cl\\_rest & ot\\_rest & ol\\_rest & ct\\_outrange & cl\\_outrange & ot\\_outrange & ol\\_outrange\\\\\n",
       "\\hline\n",
       "\tchr1 &  0       &   0      &   0      &    0     & 151496   & 323602   & 710434   & 2464868  & 5193582  & 8078528  & 20266612 & 53477160\\\\\n",
       "\tchr2 &  0       &   0      &   0      &    0     & 124712   & 283704   & 618894   & 2069724  & 5449664  & 9245692  & 22942902 & 59727216\\\\\n",
       "\tchr3 &  0       &   0      &   0      &    0     & 101554   & 223498   & 483424   & 1625082  & 4525166  & 7774294  & 19306214 & 50347906\\\\\n",
       "\tchr4 & 86       & 378      & 650      & 3424     &  79376   & 185928   & 412278   & 1302314  & 4399742  & 7952856  & 19999238 & 50770966\\\\\n",
       "\tchr5 &  0       &   0      &   0      &    0     &  87766   & 198600   & 433212   & 1421296  & 4094322  & 7162704  & 17783544 & 46482090\\\\\n",
       "\tchr6 &  0       &   0      &   0      &    0     &  83758   & 191814   & 418968   & 1389094  & 3921788  & 6736846  & 16800180 & 43289224\\\\\n",
       "\\end{tabular}\n"
      ],
      "text/markdown": [
       "\n",
       "| <!--/--> | ct_sub | cl_sub | ot_sub | ol_sub | ct_rest | cl_rest | ot_rest | ol_rest | ct_outrange | cl_outrange | ot_outrange | ol_outrange | \n",
       "|---|---|---|---|---|---|\n",
       "| chr1 |  0       |   0      |   0      |    0     | 151496   | 323602   | 710434   | 2464868  | 5193582  | 8078528  | 20266612 | 53477160 | \n",
       "| chr2 |  0       |   0      |   0      |    0     | 124712   | 283704   | 618894   | 2069724  | 5449664  | 9245692  | 22942902 | 59727216 | \n",
       "| chr3 |  0       |   0      |   0      |    0     | 101554   | 223498   | 483424   | 1625082  | 4525166  | 7774294  | 19306214 | 50347906 | \n",
       "| chr4 | 86       | 378      | 650      | 3424     |  79376   | 185928   | 412278   | 1302314  | 4399742  | 7952856  | 19999238 | 50770966 | \n",
       "| chr5 |  0       |   0      |   0      |    0     |  87766   | 198600   | 433212   | 1421296  | 4094322  | 7162704  | 17783544 | 46482090 | \n",
       "| chr6 |  0       |   0      |   0      |    0     |  83758   | 191814   | 418968   | 1389094  | 3921788  | 6736846  | 16800180 | 43289224 | \n",
       "\n",
       "\n"
      ],
      "text/plain": [
       "     ct_sub cl_sub ot_sub ol_sub ct_rest cl_rest ot_rest ol_rest ct_outrange\n",
       "chr1  0       0      0       0   151496  323602  710434  2464868 5193582    \n",
       "chr2  0       0      0       0   124712  283704  618894  2069724 5449664    \n",
       "chr3  0       0      0       0   101554  223498  483424  1625082 4525166    \n",
       "chr4 86     378    650    3424    79376  185928  412278  1302314 4399742    \n",
       "chr5  0       0      0       0    87766  198600  433212  1421296 4094322    \n",
       "chr6  0       0      0       0    83758  191814  418968  1389094 3921788    \n",
       "     cl_outrange ot_outrange ol_outrange\n",
       "chr1 8078528     20266612    53477160   \n",
       "chr2 9245692     22942902    59727216   \n",
       "chr3 7774294     19306214    50347906   \n",
       "chr4 7952856     19999238    50770966   \n",
       "chr5 7162704     17783544    46482090   \n",
       "chr6 6736846     16800180    43289224   "
      ]
     },
     "metadata": {},
     "output_type": "display_data"
    }
   ],
   "source": [
    "counts_m <- count_in_ranges(exon_ranges,counts_dipl_m)\n",
    "head(counts_m)\n",
    "counts_f <- count_in_ranges(exon_ranges,counts_dipl_f)\n",
    "head(counts_f)"
   ]
  },
  {
   "cell_type": "markdown",
   "metadata": {},
   "source": [
    "Ratio of sites in geneList_brain genes vs. all other Ensembl genes (driver to passenger ratio)"
   ]
  },
  {
   "cell_type": "code",
   "execution_count": 21,
   "metadata": {},
   "outputs": [
    {
     "data": {
      "text/html": [
       "0.000172297586510605"
      ],
      "text/latex": [
       "0.000172297586510605"
      ],
      "text/markdown": [
       "0.000172297586510605"
      ],
      "text/plain": [
       "[1] 0.0001722976"
      ]
     },
     "metadata": {},
     "output_type": "display_data"
    },
    {
     "data": {
      "text/html": [
       "0.00016964022964208"
      ],
      "text/latex": [
       "0.00016964022964208"
      ],
      "text/markdown": [
       "0.00016964022964208"
      ],
      "text/plain": [
       "[1] 0.0001696402"
      ]
     },
     "metadata": {},
     "output_type": "display_data"
    }
   ],
   "source": [
    "sum(rowSums(counts_m[,1:4]))/sum(rowSums(counts_m[,5:8]))\n",
    "sum(rowSums(counts_f[,1:4]))/sum(rowSums(counts_f[,5:8]))"
   ]
  },
  {
   "cell_type": "code",
   "execution_count": 22,
   "metadata": {},
   "outputs": [],
   "source": [
    "counts_brain_m<-counts_m\n",
    "counts_brain_f<-counts_f"
   ]
  },
  {
   "cell_type": "code",
   "execution_count": 23,
   "metadata": {},
   "outputs": [
    {
     "data": {
      "text/html": [
       "<ol class=list-inline>\n",
       "\t<li>5.14495635516397e-06</li>\n",
       "\t<li>0.0315718021898085</li>\n",
       "\t<li>0.968423052853836</li>\n",
       "</ol>\n"
      ],
      "text/latex": [
       "\\begin{enumerate*}\n",
       "\\item 5.14495635516397e-06\n",
       "\\item 0.0315718021898085\n",
       "\\item 0.968423052853836\n",
       "\\end{enumerate*}\n"
      ],
      "text/markdown": [
       "1. 5.14495635516397e-06\n",
       "2. 0.0315718021898085\n",
       "3. 0.968423052853836\n",
       "\n",
       "\n"
      ],
      "text/plain": [
       "[1] 5.144956e-06 3.157180e-02 9.684231e-01"
      ]
     },
     "metadata": {},
     "output_type": "display_data"
    },
    {
     "data": {
      "text/html": [
       "<ol class=list-inline>\n",
       "\t<li>5.03373125292154e-06</li>\n",
       "\t<li>0.0313475716571837</li>\n",
       "\t<li>0.968647394611563</li>\n",
       "</ol>\n"
      ],
      "text/latex": [
       "\\begin{enumerate*}\n",
       "\\item 5.03373125292154e-06\n",
       "\\item 0.0313475716571837\n",
       "\\item 0.968647394611563\n",
       "\\end{enumerate*}\n"
      ],
      "text/markdown": [
       "1. 5.03373125292154e-06\n",
       "2. 0.0313475716571837\n",
       "3. 0.968647394611563\n",
       "\n",
       "\n"
      ],
      "text/plain": [
       "[1] 5.033731e-06 3.134757e-02 9.686474e-01"
      ]
     },
     "metadata": {},
     "output_type": "display_data"
    }
   ],
   "source": [
    "pd_brain_m <- get_prob_dist(counts_brain_m,exon_ranges)\n",
    "pd_brain_m\n",
    "pd_brain_f <- get_prob_dist(counts_brain_f,exon_ranges)\n",
    "pd_brain_f"
   ]
  },
  {
   "cell_type": "code",
   "execution_count": null,
   "metadata": {},
   "outputs": [],
   "source": []
  },
  {
   "cell_type": "code",
   "execution_count": 24,
   "metadata": {},
   "outputs": [],
   "source": [
    "save(pd_lung_m,pd_lung_f,pd_colon_m,pd_colon_f,pd_brain_m,pd_brain_f,file='../sim-develop/data/cancer_type_pd_cgc.rda')"
   ]
  },
  {
   "cell_type": "code",
   "execution_count": null,
   "metadata": {},
   "outputs": [],
   "source": []
  }
 ],
 "metadata": {
  "kernelspec": {
   "display_name": "R",
   "language": "R",
   "name": "ir"
  },
  "language_info": {
   "codemirror_mode": "r",
   "file_extension": ".r",
   "mimetype": "text/x-r-source",
   "name": "R",
   "pygments_lexer": "r",
   "version": "3.5.1"
  }
 },
 "nbformat": 4,
 "nbformat_minor": 2
}
