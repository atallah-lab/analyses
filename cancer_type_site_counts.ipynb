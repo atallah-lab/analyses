{
 "cells": [
  {
   "cell_type": "code",
   "execution_count": 1,
   "metadata": {},
   "outputs": [
    {
     "name": "stderr",
     "output_type": "stream",
     "text": [
      "Loading required package: stats4\n",
      "Loading required package: BiocGenerics\n",
      "Loading required package: parallel\n",
      "\n",
      "Attaching package: ‘BiocGenerics’\n",
      "\n",
      "The following objects are masked from ‘package:parallel’:\n",
      "\n",
      "    clusterApply, clusterApplyLB, clusterCall, clusterEvalQ,\n",
      "    clusterExport, clusterMap, parApply, parCapply, parLapply,\n",
      "    parLapplyLB, parRapply, parSapply, parSapplyLB\n",
      "\n",
      "The following objects are masked from ‘package:stats’:\n",
      "\n",
      "    IQR, mad, sd, var, xtabs\n",
      "\n",
      "The following objects are masked from ‘package:base’:\n",
      "\n",
      "    anyDuplicated, append, as.data.frame, basename, cbind, colMeans,\n",
      "    colnames, colSums, dirname, do.call, duplicated, eval, evalq,\n",
      "    Filter, Find, get, grep, grepl, intersect, is.unsorted, lapply,\n",
      "    lengths, Map, mapply, match, mget, order, paste, pmax, pmax.int,\n",
      "    pmin, pmin.int, Position, rank, rbind, Reduce, rowMeans, rownames,\n",
      "    rowSums, sapply, setdiff, sort, table, tapply, union, unique,\n",
      "    unsplit, which, which.max, which.min\n",
      "\n",
      "Loading required package: S4Vectors\n",
      "\n",
      "Attaching package: ‘S4Vectors’\n",
      "\n",
      "The following object is masked from ‘package:base’:\n",
      "\n",
      "    expand.grid\n",
      "\n",
      "Loading required package: IRanges\n",
      "Loading required package: GenomeInfoDb\n",
      "Loading required package: BSgenome\n",
      "Loading required package: Biostrings\n",
      "Loading required package: XVector\n",
      "\n",
      "Attaching package: ‘Biostrings’\n",
      "\n",
      "The following object is masked from ‘package:base’:\n",
      "\n",
      "    strsplit\n",
      "\n",
      "Loading required package: rtracklayer\n",
      "\n",
      "Attaching package: ‘data.table’\n",
      "\n",
      "The following object is masked from ‘package:GenomicRanges’:\n",
      "\n",
      "    shift\n",
      "\n",
      "The following object is masked from ‘package:IRanges’:\n",
      "\n",
      "    shift\n",
      "\n",
      "The following objects are masked from ‘package:S4Vectors’:\n",
      "\n",
      "    first, second\n",
      "\n"
     ]
    }
   ],
   "source": [
    "library(GenomicRanges)\n",
    "library(BSgenome.Hsapiens.UCSC.hg38)\n",
    "library(data.table)\n",
    "for (i in names(Hsapiens)[1:24]){ # load all chromosome map files\n",
    "#         cat(paste0('Loading...',i,'\\n'))\n",
    "        load(paste0('../sim-develop/data/root_maps/',i,'.rda'))\n",
    "}\n",
    "\n",
    "dftmp <- read.csv('~/jackgl/analyses/tcga_gene_lists/frequently_mutated_genes_TCGA_lung.csv')\n",
    "geneList_lung <- as.vector(dftmp$Symbol) # List of genes mutated in 10% of cases for lung cancer\n",
    "dftmp <- read.csv('~/jackgl/analyses/tcga_gene_lists/frequently_mutated_genes_TCGA_colon.csv')\n",
    "geneList_colon <- as.vector(dftmp$Symbol) # \" \" \" \" \" for colon cancer\n",
    "dftmp <- read.csv('~/jackgl/analyses/tcga_gene_lists/frequently_mutated_genes_TCGA_brain.csv')\n",
    "geneList_brain <- as.vector(dftmp$Symbol) # \" \" \" \" \" for brain cancer\n",
    "\n",
    "load('../sim-develop/data/exann.rda')\n",
    "load('../sim-develop/data/exonicvsnon_counts.rda')"
   ]
  },
  {
   "cell_type": "code",
   "execution_count": 2,
   "metadata": {},
   "outputs": [],
   "source": [
    "# This function will count the number of L1 target sites in the provided ranges (assumed to be exonic) (columns 1-4),\n",
    "# in other exonic ranges (col 5-8), and outside of exonic ranges (col 9-12)\n",
    "count_in_ranges <- function(exon_ranges,counts_dipl) {\n",
    "    \n",
    "    counts <-  array(0,dim=c(24,12)) # Allocate matrix for counts\n",
    "\n",
    "    #--- Loop through chromosome names\n",
    "    j<-1 # chromosome counter\n",
    "    for (i in names(Hsapiens)[1:24]){\n",
    "\n",
    "        # If the chromosome is Y and the supplied diploid genome counts are for female genome, leave the \n",
    "        # counts at 0\n",
    "        if (i=='Y' && sum(counts_dipls[24,])==0) {next}\n",
    "\n",
    "        # Data objects containing indices of S-V sites for each category are labeled with the chromosome name.\n",
    "        # Here we copy the data objects to a set of variables with generic names which can be used consistently \n",
    "        # in the loop. \n",
    "        map<-get(paste0(i,'Map')) # Get the site map data for the current chrom\n",
    "        ict<-    map[[2]]\n",
    "        icl<-    map[[3]]\n",
    "        iot<-    map[[4]]\n",
    "        iol<-    map[[5]]\n",
    "        insites<-map[[1]] \n",
    "\n",
    "        i <- strsplit(i,\"chr\")[[1]][2] # Remove \"chr\" from chromosome name\n",
    "\n",
    "################################################\n",
    "        # Count in exon_ranges for current chromosome (columns 1-4)\n",
    "        ann_i <- exon_ranges[exon_ranges$chrom == i,]\n",
    "\n",
    "        sen        <-inrange(insites[ict[!is.na(ict[,1]),1],1],ann_i$start,ann_i$end) # Check if any Closed-Tight category sites are within the start-end range of ann_i\n",
    "        antisen    <-inrange(insites[ict[!is.na(ict[,2]),2],2],ann_i$start,ann_i$end) \n",
    "        counts[j,1]<-length(which(sen)) + length(which(antisen))                      # Fill an element of the counts table with the count\n",
    "\n",
    "        sen        <-inrange(insites[icl[!is.na(icl[,1]),1],1],ann_i$start,ann_i$end) \n",
    "        antisen    <-inrange(insites[icl[!is.na(icl[,2]),2],2],ann_i$start,ann_i$end)\n",
    "        counts[j,2]<-length(which(sen)) + length(which(antisen))\n",
    "\n",
    "        sen        <-inrange(insites[iot[!is.na(iot[,1]),1],1],ann_i$start,ann_i$end) \n",
    "        antisen    <-inrange(insites[iot[!is.na(iot[,2]),2],2],ann_i$start,ann_i$end)\n",
    "        counts[j,3]<-length(which(sen)) + length(which(antisen))\n",
    "\n",
    "        sen        <-inrange(insites[iol[!is.na(iol[,1]),1],1],ann_i$start,ann_i$end) \n",
    "        antisen    <-inrange(insites[iol[!is.na(iol[,2]),2],2],ann_i$start,ann_i$end)\n",
    "        counts[j,4]<-length(which(sen)) + length(which(antisen)) \n",
    "\n",
    "        # Double the counts if necessary, to account for diploid genome\n",
    "        if (i %in% c('X','Y') & sum(counts_dipl[24,])!=0) { # If the chrom. is X or Y and genome male, do nothing\n",
    "        \n",
    "        } else {\n",
    "            counts[j,1:4] <- counts[j,1:4]*2\n",
    "        }\n",
    "\n",
    "################################################\n",
    "        # Count in the remaining exonic regions, using counts_dipl (generated by analyses/count_sites_exonicvsnon.ipynb)\n",
    "\n",
    "        counts[j,5]<-(counts_dipl[j,1])-counts[j,1]\n",
    "        counts[j,6]<-(counts_dipl[j,2])-counts[j,2]\n",
    "        counts[j,7]<-(counts_dipl[j,3])-counts[j,3]\n",
    "        counts[j,8]<-(counts_dipl[j,4])-counts[j,4]\n",
    "\n",
    "################################################\n",
    "        # Count outside of exonic ranges for current chromosome (columns 9-12)\n",
    "\n",
    "        if (i %in% c('X','Y') && sum(counts_dipl[24,])!=0) {\n",
    "            counts[j,9]   <- length(which(!is.na(as.vector(ict)))) - counts[j,1] - counts[j,5]\n",
    "            counts[j,10]  <- length(which(!is.na(as.vector(icl)))) - counts[j,2] - counts[j,6]\n",
    "            counts[j,11]  <- length(which(!is.na(as.vector(iot)))) - counts[j,3] - counts[j,7]\n",
    "            counts[j,12]  <- length(which(!is.na(as.vector(iol)))) - counts[j,4] - counts[j,8]\n",
    "        } else {\n",
    "            counts[j,9]   <- length(which(!is.na(as.vector(ict))))*2 - counts[j,1] - counts[j,5]\n",
    "            counts[j,10]  <- length(which(!is.na(as.vector(icl))))*2 - counts[j,2] - counts[j,6]\n",
    "            counts[j,11]  <- length(which(!is.na(as.vector(iot))))*2 - counts[j,3] - counts[j,7]\n",
    "            counts[j,12]  <- length(which(!is.na(as.vector(iol))))*2 - counts[j,4] - counts[j,8]\n",
    "        }\n",
    "        \n",
    "        \n",
    "        j<-j+1\n",
    "    }\n",
    "    colnames(counts) <- c('ct_sub','cl_sub','ot_sub','ol_sub','ct_rest','cl_rest','ot_rest','ol_rest','ct_outrange','cl_outrange','ot_outrange','ol_outrange')\n",
    "    rownames(counts) <- names(Hsapiens)[1:24]\n",
    "    return(counts)\n",
    "}"
   ]
  },
  {
   "cell_type": "code",
   "execution_count": 3,
   "metadata": {},
   "outputs": [],
   "source": [
    "get_prob_dist <- function(counts_matrix, exon_ranges) {\n",
    "    \n",
    "    if (sum(counts_matrix[24,])==0) {gend='f'} \n",
    "    else {gend='m'}\n",
    "    counts_matrix <- colSums(counts_matrix)\n",
    "    probs_ENd <- rep(0,3)\n",
    "    for (i in 1:3){\n",
    "        probs_ENd[i] = 11.55*counts_matrix[(i-1)*4+1] + \n",
    "                       7.25*counts_matrix[(i-1)*4+2] + \n",
    "                       1.95*counts_matrix[(i-1)*4+3] + \n",
    "                       1*counts_matrix[(i-1)*4+4]\n",
    "    }\n",
    "    probs_ENd <- probs_ENd/sum(probs_ENd)\n",
    "    probs_ENd\n",
    "    \n",
    "    probs_ENi <- rep(0,3)\n",
    "    if (gend=='f') { # If female genome, double all sizes\n",
    "        \n",
    "        target_size <- sum(exon_ranges$end[exon_ranges$chrom!='Y']-exon_ranges$start[exon_ranges$chrom!='X'])*2\n",
    "        exons_size <- sum(lens[1:23,1]*2)\n",
    "        genome_size <- sum(lens[1:23,2]*2)\n",
    "        \n",
    "    } else { # If male genome, double sizes only for chroms. 1-22\n",
    "        \n",
    "        target_size <- sum(exon_ranges$end[exon_ranges$chrom %in% c('X','Y')]-exon_ranges$start[exon_ranges$chrom %in% c('X','Y')])\n",
    "        target_size <- target_size + sum(exon_ranges$end[!(exon_ranges$chrom %in% c('X','Y'))]\n",
    "                                         -exon_ranges$start[!(exon_ranges$chrom %in% c('X','Y'))])*2\n",
    "        \n",
    "        exons_size <-  sum(lens[1:22,1]*2)+sum(lens[23:24,1])\n",
    "        genome_size <- sum(lens[1:22,2]*2)+sum(lens[23:24,2])\n",
    "    }\n",
    "    \n",
    "    probs_ENi[1] <- target_size/genome_size # Chance of target mutation\n",
    "    probs_ENi[2] <- (exons_size-target_size)/genome_size # Chance of passenger mutation\n",
    "    probs_ENi[3] <- (genome_size - exons_size)/genome_size # Chance of null mutation\n",
    "    \n",
    "    pd <- (.9*probs_ENd)+(0.1*probs_ENi) # Assuming 0.9 probability that insertion will be ENd and 0.1 for ENi\n",
    "    pd <- pd/sum(pd)\n",
    "    return(pd)\n",
    "    \n",
    "}"
   ]
  },
  {
   "cell_type": "markdown",
   "metadata": {},
   "source": [
    "## Lung cancer"
   ]
  },
  {
   "cell_type": "code",
   "execution_count": 23,
   "metadata": {},
   "outputs": [
    {
     "data": {
      "text/html": [
       "<ol class=list-inline>\n",
       "\t<li>'TP53'</li>\n",
       "\t<li>'TTN'</li>\n",
       "\t<li>'MUC16'</li>\n",
       "\t<li>'CSMD3'</li>\n",
       "\t<li>'RYR2'</li>\n",
       "\t<li>'LRP1B'</li>\n",
       "</ol>\n"
      ],
      "text/latex": [
       "\\begin{enumerate*}\n",
       "\\item 'TP53'\n",
       "\\item 'TTN'\n",
       "\\item 'MUC16'\n",
       "\\item 'CSMD3'\n",
       "\\item 'RYR2'\n",
       "\\item 'LRP1B'\n",
       "\\end{enumerate*}\n"
      ],
      "text/markdown": [
       "1. 'TP53'\n",
       "2. 'TTN'\n",
       "3. 'MUC16'\n",
       "4. 'CSMD3'\n",
       "5. 'RYR2'\n",
       "6. 'LRP1B'\n",
       "\n",
       "\n"
      ],
      "text/plain": [
       "[1] \"TP53\"  \"TTN\"   \"MUC16\" \"CSMD3\" \"RYR2\"  \"LRP1B\""
      ]
     },
     "metadata": {},
     "output_type": "display_data"
    },
    {
     "data": {
      "text/html": [
       "<table>\n",
       "<thead><tr><th scope=col>chrom</th><th scope=col>start</th><th scope=col>end</th><th scope=col>geneSym</th></tr></thead>\n",
       "<tbody>\n",
       "\t<tr><td>1      </td><td>11869  </td><td>12227  </td><td>DDX11L1</td></tr>\n",
       "\t<tr><td>1      </td><td>12010  </td><td>12057  </td><td>DDX11L1</td></tr>\n",
       "\t<tr><td>1      </td><td>12179  </td><td>12227  </td><td>DDX11L1</td></tr>\n",
       "\t<tr><td>1      </td><td>12613  </td><td>12721  </td><td>DDX11L1</td></tr>\n",
       "\t<tr><td>1      </td><td>12613  </td><td>12697  </td><td>DDX11L1</td></tr>\n",
       "\t<tr><td>1      </td><td>12975  </td><td>13052  </td><td>DDX11L1</td></tr>\n",
       "</tbody>\n",
       "</table>\n"
      ],
      "text/latex": [
       "\\begin{tabular}{r|llll}\n",
       " chrom & start & end & geneSym\\\\\n",
       "\\hline\n",
       "\t 1       & 11869   & 12227   & DDX11L1\\\\\n",
       "\t 1       & 12010   & 12057   & DDX11L1\\\\\n",
       "\t 1       & 12179   & 12227   & DDX11L1\\\\\n",
       "\t 1       & 12613   & 12721   & DDX11L1\\\\\n",
       "\t 1       & 12613   & 12697   & DDX11L1\\\\\n",
       "\t 1       & 12975   & 13052   & DDX11L1\\\\\n",
       "\\end{tabular}\n"
      ],
      "text/markdown": [
       "\n",
       "chrom | start | end | geneSym | \n",
       "|---|---|---|---|---|---|\n",
       "| 1       | 11869   | 12227   | DDX11L1 | \n",
       "| 1       | 12010   | 12057   | DDX11L1 | \n",
       "| 1       | 12179   | 12227   | DDX11L1 | \n",
       "| 1       | 12613   | 12721   | DDX11L1 | \n",
       "| 1       | 12613   | 12697   | DDX11L1 | \n",
       "| 1       | 12975   | 13052   | DDX11L1 | \n",
       "\n",
       "\n"
      ],
      "text/plain": [
       "  chrom start end   geneSym\n",
       "1 1     11869 12227 DDX11L1\n",
       "2 1     12010 12057 DDX11L1\n",
       "3 1     12179 12227 DDX11L1\n",
       "4 1     12613 12721 DDX11L1\n",
       "5 1     12613 12697 DDX11L1\n",
       "6 1     12975 13052 DDX11L1"
      ]
     },
     "metadata": {},
     "output_type": "display_data"
    },
    {
     "data": {
      "text/html": [
       "246"
      ],
      "text/latex": [
       "246"
      ],
      "text/markdown": [
       "246"
      ],
      "text/plain": [
       "[1] 246"
      ]
     },
     "metadata": {},
     "output_type": "display_data"
    },
    {
     "data": {
      "text/html": [
       "246"
      ],
      "text/latex": [
       "246"
      ],
      "text/markdown": [
       "246"
      ],
      "text/plain": [
       "[1] 246"
      ]
     },
     "metadata": {},
     "output_type": "display_data"
    }
   ],
   "source": [
    "head(geneList_lung)\n",
    "head(exann)\n",
    "\n",
    "length(geneList_lung)\n",
    "length(which(geneList_lung %in% exann$geneSym))"
   ]
  },
  {
   "cell_type": "code",
   "execution_count": 24,
   "metadata": {},
   "outputs": [],
   "source": [
    "# Here we find the exonic ranges for the gene list of the current cancer, and take the union of any overlapping exonic ranges\n",
    "# exon_ranges <- exann[exann$geneSym %in% geneList_lung,]\n",
    "exon_ranges <- exann[exann$geneSym %in% geneList_lung[1:12],] # For genes mutated in at least 25% of cases\n",
    "\n",
    "exon_ranges <- GRanges(exon_ranges$chrom,IRanges(exon_ranges$start,exon_ranges$end))\n",
    "exon_ranges <- reduce(exon_ranges)\n",
    "exon_ranges <- data.table(chrom=as.vector(seqnames(exon_ranges)),start=start(exon_ranges),end=end(exon_ranges))"
   ]
  },
  {
   "cell_type": "code",
   "execution_count": 25,
   "metadata": {},
   "outputs": [
    {
     "data": {
      "text/html": [
       "<table>\n",
       "<thead><tr><th></th><th scope=col>ct_sub</th><th scope=col>cl_sub</th><th scope=col>ot_sub</th><th scope=col>ol_sub</th><th scope=col>ct_rest</th><th scope=col>cl_rest</th><th scope=col>ot_rest</th><th scope=col>ol_rest</th><th scope=col>ct_outrange</th><th scope=col>cl_outrange</th><th scope=col>ot_outrange</th><th scope=col>ol_outrange</th></tr></thead>\n",
       "<tbody>\n",
       "\t<tr><th scope=row>chr1</th><td>408     </td><td>1362    </td><td>3030    </td><td>12570   </td><td>151088  </td><td>322240  </td><td>707404  </td><td>2452298 </td><td>5193582 </td><td>8078528 </td><td>20266612</td><td>53477160</td></tr>\n",
       "\t<tr><th scope=row>chr2</th><td>812     </td><td>4354    </td><td>9032    </td><td>37772   </td><td>123900  </td><td>279350  </td><td>609862  </td><td>2031952 </td><td>5449664 </td><td>9245692 </td><td>22942902</td><td>59727216</td></tr>\n",
       "\t<tr><th scope=row>chr3</th><td>  0     </td><td>   0    </td><td>   0    </td><td>    0   </td><td>101554  </td><td>223498  </td><td>483424  </td><td>1625082 </td><td>4525166 </td><td>7774294 </td><td>19306214</td><td>50347906</td></tr>\n",
       "\t<tr><th scope=row>chr4</th><td>  0     </td><td>   0    </td><td>   0    </td><td>    0   </td><td> 79462  </td><td>186306  </td><td>412928  </td><td>1305738 </td><td>4399742 </td><td>7952856 </td><td>19999238</td><td>50770966</td></tr>\n",
       "\t<tr><th scope=row>chr5</th><td>  0     </td><td>   0    </td><td>   0    </td><td>    0   </td><td> 87766  </td><td>198600  </td><td>433212  </td><td>1421296 </td><td>4094322 </td><td>7162704 </td><td>17783544</td><td>46482090</td></tr>\n",
       "\t<tr><th scope=row>chr6</th><td>558     </td><td>1436    </td><td>2880    </td><td>10958   </td><td> 83200  </td><td>190378  </td><td>416088  </td><td>1378136 </td><td>3921788 </td><td>6736846 </td><td>16800180</td><td>43289224</td></tr>\n",
       "</tbody>\n",
       "</table>\n"
      ],
      "text/latex": [
       "\\begin{tabular}{r|llllllllllll}\n",
       "  & ct\\_sub & cl\\_sub & ot\\_sub & ol\\_sub & ct\\_rest & cl\\_rest & ot\\_rest & ol\\_rest & ct\\_outrange & cl\\_outrange & ot\\_outrange & ol\\_outrange\\\\\n",
       "\\hline\n",
       "\tchr1 & 408      & 1362     & 3030     & 12570    & 151088   & 322240   & 707404   & 2452298  & 5193582  & 8078528  & 20266612 & 53477160\\\\\n",
       "\tchr2 & 812      & 4354     & 9032     & 37772    & 123900   & 279350   & 609862   & 2031952  & 5449664  & 9245692  & 22942902 & 59727216\\\\\n",
       "\tchr3 &   0      &    0     &    0     &     0    & 101554   & 223498   & 483424   & 1625082  & 4525166  & 7774294  & 19306214 & 50347906\\\\\n",
       "\tchr4 &   0      &    0     &    0     &     0    &  79462   & 186306   & 412928   & 1305738  & 4399742  & 7952856  & 19999238 & 50770966\\\\\n",
       "\tchr5 &   0      &    0     &    0     &     0    &  87766   & 198600   & 433212   & 1421296  & 4094322  & 7162704  & 17783544 & 46482090\\\\\n",
       "\tchr6 & 558      & 1436     & 2880     & 10958    &  83200   & 190378   & 416088   & 1378136  & 3921788  & 6736846  & 16800180 & 43289224\\\\\n",
       "\\end{tabular}\n"
      ],
      "text/markdown": [
       "\n",
       "| <!--/--> | ct_sub | cl_sub | ot_sub | ol_sub | ct_rest | cl_rest | ot_rest | ol_rest | ct_outrange | cl_outrange | ot_outrange | ol_outrange | \n",
       "|---|---|---|---|---|---|\n",
       "| chr1 | 408      | 1362     | 3030     | 12570    | 151088   | 322240   | 707404   | 2452298  | 5193582  | 8078528  | 20266612 | 53477160 | \n",
       "| chr2 | 812      | 4354     | 9032     | 37772    | 123900   | 279350   | 609862   | 2031952  | 5449664  | 9245692  | 22942902 | 59727216 | \n",
       "| chr3 |   0      |    0     |    0     |     0    | 101554   | 223498   | 483424   | 1625082  | 4525166  | 7774294  | 19306214 | 50347906 | \n",
       "| chr4 |   0      |    0     |    0     |     0    |  79462   | 186306   | 412928   | 1305738  | 4399742  | 7952856  | 19999238 | 50770966 | \n",
       "| chr5 |   0      |    0     |    0     |     0    |  87766   | 198600   | 433212   | 1421296  | 4094322  | 7162704  | 17783544 | 46482090 | \n",
       "| chr6 | 558      | 1436     | 2880     | 10958    |  83200   | 190378   | 416088   | 1378136  | 3921788  | 6736846  | 16800180 | 43289224 | \n",
       "\n",
       "\n"
      ],
      "text/plain": [
       "     ct_sub cl_sub ot_sub ol_sub ct_rest cl_rest ot_rest ol_rest ct_outrange\n",
       "chr1 408    1362   3030   12570  151088  322240  707404  2452298 5193582    \n",
       "chr2 812    4354   9032   37772  123900  279350  609862  2031952 5449664    \n",
       "chr3   0       0      0       0  101554  223498  483424  1625082 4525166    \n",
       "chr4   0       0      0       0   79462  186306  412928  1305738 4399742    \n",
       "chr5   0       0      0       0   87766  198600  433212  1421296 4094322    \n",
       "chr6 558    1436   2880   10958   83200  190378  416088  1378136 3921788    \n",
       "     cl_outrange ot_outrange ol_outrange\n",
       "chr1 8078528     20266612    53477160   \n",
       "chr2 9245692     22942902    59727216   \n",
       "chr3 7774294     19306214    50347906   \n",
       "chr4 7952856     19999238    50770966   \n",
       "chr5 7162704     17783544    46482090   \n",
       "chr6 6736846     16800180    43289224   "
      ]
     },
     "metadata": {},
     "output_type": "display_data"
    },
    {
     "data": {
      "text/html": [
       "<table>\n",
       "<thead><tr><th></th><th scope=col>ct_sub</th><th scope=col>cl_sub</th><th scope=col>ot_sub</th><th scope=col>ol_sub</th><th scope=col>ct_rest</th><th scope=col>cl_rest</th><th scope=col>ot_rest</th><th scope=col>ol_rest</th><th scope=col>ct_outrange</th><th scope=col>cl_outrange</th><th scope=col>ot_outrange</th><th scope=col>ol_outrange</th></tr></thead>\n",
       "<tbody>\n",
       "\t<tr><th scope=row>chr1</th><td>408     </td><td>1362    </td><td>3030    </td><td>12570   </td><td>151088  </td><td>322240  </td><td>707404  </td><td>2452298 </td><td>5193582 </td><td>8078528 </td><td>20266612</td><td>53477160</td></tr>\n",
       "\t<tr><th scope=row>chr2</th><td>812     </td><td>4354    </td><td>9032    </td><td>37772   </td><td>123900  </td><td>279350  </td><td>609862  </td><td>2031952 </td><td>5449664 </td><td>9245692 </td><td>22942902</td><td>59727216</td></tr>\n",
       "\t<tr><th scope=row>chr3</th><td>  0     </td><td>   0    </td><td>   0    </td><td>    0   </td><td>101554  </td><td>223498  </td><td>483424  </td><td>1625082 </td><td>4525166 </td><td>7774294 </td><td>19306214</td><td>50347906</td></tr>\n",
       "\t<tr><th scope=row>chr4</th><td>  0     </td><td>   0    </td><td>   0    </td><td>    0   </td><td> 79462  </td><td>186306  </td><td>412928  </td><td>1305738 </td><td>4399742 </td><td>7952856 </td><td>19999238</td><td>50770966</td></tr>\n",
       "\t<tr><th scope=row>chr5</th><td>  0     </td><td>   0    </td><td>   0    </td><td>    0   </td><td> 87766  </td><td>198600  </td><td>433212  </td><td>1421296 </td><td>4094322 </td><td>7162704 </td><td>17783544</td><td>46482090</td></tr>\n",
       "\t<tr><th scope=row>chr6</th><td>558     </td><td>1436    </td><td>2880    </td><td>10958   </td><td> 83200  </td><td>190378  </td><td>416088  </td><td>1378136 </td><td>3921788 </td><td>6736846 </td><td>16800180</td><td>43289224</td></tr>\n",
       "</tbody>\n",
       "</table>\n"
      ],
      "text/latex": [
       "\\begin{tabular}{r|llllllllllll}\n",
       "  & ct\\_sub & cl\\_sub & ot\\_sub & ol\\_sub & ct\\_rest & cl\\_rest & ot\\_rest & ol\\_rest & ct\\_outrange & cl\\_outrange & ot\\_outrange & ol\\_outrange\\\\\n",
       "\\hline\n",
       "\tchr1 & 408      & 1362     & 3030     & 12570    & 151088   & 322240   & 707404   & 2452298  & 5193582  & 8078528  & 20266612 & 53477160\\\\\n",
       "\tchr2 & 812      & 4354     & 9032     & 37772    & 123900   & 279350   & 609862   & 2031952  & 5449664  & 9245692  & 22942902 & 59727216\\\\\n",
       "\tchr3 &   0      &    0     &    0     &     0    & 101554   & 223498   & 483424   & 1625082  & 4525166  & 7774294  & 19306214 & 50347906\\\\\n",
       "\tchr4 &   0      &    0     &    0     &     0    &  79462   & 186306   & 412928   & 1305738  & 4399742  & 7952856  & 19999238 & 50770966\\\\\n",
       "\tchr5 &   0      &    0     &    0     &     0    &  87766   & 198600   & 433212   & 1421296  & 4094322  & 7162704  & 17783544 & 46482090\\\\\n",
       "\tchr6 & 558      & 1436     & 2880     & 10958    &  83200   & 190378   & 416088   & 1378136  & 3921788  & 6736846  & 16800180 & 43289224\\\\\n",
       "\\end{tabular}\n"
      ],
      "text/markdown": [
       "\n",
       "| <!--/--> | ct_sub | cl_sub | ot_sub | ol_sub | ct_rest | cl_rest | ot_rest | ol_rest | ct_outrange | cl_outrange | ot_outrange | ol_outrange | \n",
       "|---|---|---|---|---|---|\n",
       "| chr1 | 408      | 1362     | 3030     | 12570    | 151088   | 322240   | 707404   | 2452298  | 5193582  | 8078528  | 20266612 | 53477160 | \n",
       "| chr2 | 812      | 4354     | 9032     | 37772    | 123900   | 279350   | 609862   | 2031952  | 5449664  | 9245692  | 22942902 | 59727216 | \n",
       "| chr3 |   0      |    0     |    0     |     0    | 101554   | 223498   | 483424   | 1625082  | 4525166  | 7774294  | 19306214 | 50347906 | \n",
       "| chr4 |   0      |    0     |    0     |     0    |  79462   | 186306   | 412928   | 1305738  | 4399742  | 7952856  | 19999238 | 50770966 | \n",
       "| chr5 |   0      |    0     |    0     |     0    |  87766   | 198600   | 433212   | 1421296  | 4094322  | 7162704  | 17783544 | 46482090 | \n",
       "| chr6 | 558      | 1436     | 2880     | 10958    |  83200   | 190378   | 416088   | 1378136  | 3921788  | 6736846  | 16800180 | 43289224 | \n",
       "\n",
       "\n"
      ],
      "text/plain": [
       "     ct_sub cl_sub ot_sub ol_sub ct_rest cl_rest ot_rest ol_rest ct_outrange\n",
       "chr1 408    1362   3030   12570  151088  322240  707404  2452298 5193582    \n",
       "chr2 812    4354   9032   37772  123900  279350  609862  2031952 5449664    \n",
       "chr3   0       0      0       0  101554  223498  483424  1625082 4525166    \n",
       "chr4   0       0      0       0   79462  186306  412928  1305738 4399742    \n",
       "chr5   0       0      0       0   87766  198600  433212  1421296 4094322    \n",
       "chr6 558    1436   2880   10958   83200  190378  416088  1378136 3921788    \n",
       "     cl_outrange ot_outrange ol_outrange\n",
       "chr1 8078528     20266612    53477160   \n",
       "chr2 9245692     22942902    59727216   \n",
       "chr3 7774294     19306214    50347906   \n",
       "chr4 7952856     19999238    50770966   \n",
       "chr5 7162704     17783544    46482090   \n",
       "chr6 6736846     16800180    43289224   "
      ]
     },
     "metadata": {},
     "output_type": "display_data"
    }
   ],
   "source": [
    "counts_m <- count_in_ranges(exon_ranges,counts_dipl_m)\n",
    "head(counts_m)\n",
    "counts_f <- count_in_ranges(exon_ranges,counts_dipl_f)\n",
    "head(counts_f)"
   ]
  },
  {
   "cell_type": "markdown",
   "metadata": {},
   "source": [
    "Ratio of sites in geneList_lung genes vs. all other Ensembl genes (driver to passenger ratio)"
   ]
  },
  {
   "cell_type": "code",
   "execution_count": 26,
   "metadata": {},
   "outputs": [
    {
     "data": {
      "text/html": [
       "0.00283050075072355"
      ],
      "text/latex": [
       "0.00283050075072355"
      ],
      "text/markdown": [
       "0.00283050075072355"
      ],
      "text/plain": [
       "[1] 0.002830501"
      ]
     },
     "metadata": {},
     "output_type": "display_data"
    },
    {
     "data": {
      "text/html": [
       "0.00278673152405249"
      ],
      "text/latex": [
       "0.00278673152405249"
      ],
      "text/markdown": [
       "0.00278673152405249"
      ],
      "text/plain": [
       "[1] 0.002786732"
      ]
     },
     "metadata": {},
     "output_type": "display_data"
    }
   ],
   "source": [
    "sum(rowSums(counts_m[,1:4]))/sum(rowSums(counts_m[,5:8]))\n",
    "sum(rowSums(counts_f[,1:4]))/sum(rowSums(counts_f[,5:8]))"
   ]
  },
  {
   "cell_type": "code",
   "execution_count": 27,
   "metadata": {},
   "outputs": [],
   "source": [
    "counts_lung_m<-counts_m\n",
    "counts_lung_f<-counts_f"
   ]
  },
  {
   "cell_type": "code",
   "execution_count": 28,
   "metadata": {},
   "outputs": [
    {
     "data": {
      "text/html": [
       "<ol class=list-inline>\n",
       "\t<li>7.94851881086672e-05</li>\n",
       "\t<li>0.031497461958055</li>\n",
       "\t<li>0.968423052853836</li>\n",
       "</ol>\n"
      ],
      "text/latex": [
       "\\begin{enumerate*}\n",
       "\\item 7.94851881086672e-05\n",
       "\\item 0.031497461958055\n",
       "\\item 0.968423052853836\n",
       "\\end{enumerate*}\n"
      ],
      "text/markdown": [
       "1. 7.94851881086672e-05\n",
       "2. 0.031497461958055\n",
       "3. 0.968423052853836\n",
       "\n",
       "\n"
      ],
      "text/plain": [
       "[1] 7.948519e-05 3.149746e-02 9.684231e-01"
      ]
     },
     "metadata": {},
     "output_type": "display_data"
    },
    {
     "data": {
      "text/html": [
       "<ol class=list-inline>\n",
       "\t<li>7.73261067836621e-05</li>\n",
       "\t<li>0.0310370162425768</li>\n",
       "\t<li>0.968885657650639</li>\n",
       "</ol>\n"
      ],
      "text/latex": [
       "\\begin{enumerate*}\n",
       "\\item 7.73261067836621e-05\n",
       "\\item 0.0310370162425768\n",
       "\\item 0.968885657650639\n",
       "\\end{enumerate*}\n"
      ],
      "text/markdown": [
       "1. 7.73261067836621e-05\n",
       "2. 0.0310370162425768\n",
       "3. 0.968885657650639\n",
       "\n",
       "\n"
      ],
      "text/plain": [
       "[1] 7.732611e-05 3.103702e-02 9.688857e-01"
      ]
     },
     "metadata": {},
     "output_type": "display_data"
    }
   ],
   "source": [
    "pd_lung_m <- get_prob_dist(counts_lung_m,exon_ranges)\n",
    "pd_lung_m\n",
    "pd_lung_f <- get_prob_dist(counts_lung_f,exon_ranges)\n",
    "pd_lung_f"
   ]
  },
  {
   "cell_type": "markdown",
   "metadata": {},
   "source": [
    "## Colon cancer"
   ]
  },
  {
   "cell_type": "code",
   "execution_count": 29,
   "metadata": {},
   "outputs": [
    {
     "data": {
      "text/html": [
       "<ol class=list-inline>\n",
       "\t<li>'APC'</li>\n",
       "\t<li>'TP53'</li>\n",
       "\t<li>'TTN'</li>\n",
       "\t<li>'KRAS'</li>\n",
       "\t<li>'SYNE1'</li>\n",
       "\t<li>'MUC16'</li>\n",
       "</ol>\n"
      ],
      "text/latex": [
       "\\begin{enumerate*}\n",
       "\\item 'APC'\n",
       "\\item 'TP53'\n",
       "\\item 'TTN'\n",
       "\\item 'KRAS'\n",
       "\\item 'SYNE1'\n",
       "\\item 'MUC16'\n",
       "\\end{enumerate*}\n"
      ],
      "text/markdown": [
       "1. 'APC'\n",
       "2. 'TP53'\n",
       "3. 'TTN'\n",
       "4. 'KRAS'\n",
       "5. 'SYNE1'\n",
       "6. 'MUC16'\n",
       "\n",
       "\n"
      ],
      "text/plain": [
       "[1] \"APC\"   \"TP53\"  \"TTN\"   \"KRAS\"  \"SYNE1\" \"MUC16\""
      ]
     },
     "metadata": {},
     "output_type": "display_data"
    },
    {
     "data": {
      "text/html": [
       "<table>\n",
       "<thead><tr><th scope=col>chrom</th><th scope=col>start</th><th scope=col>end</th><th scope=col>geneSym</th></tr></thead>\n",
       "<tbody>\n",
       "\t<tr><td>1      </td><td>11869  </td><td>12227  </td><td>DDX11L1</td></tr>\n",
       "\t<tr><td>1      </td><td>12010  </td><td>12057  </td><td>DDX11L1</td></tr>\n",
       "\t<tr><td>1      </td><td>12179  </td><td>12227  </td><td>DDX11L1</td></tr>\n",
       "\t<tr><td>1      </td><td>12613  </td><td>12721  </td><td>DDX11L1</td></tr>\n",
       "\t<tr><td>1      </td><td>12613  </td><td>12697  </td><td>DDX11L1</td></tr>\n",
       "\t<tr><td>1      </td><td>12975  </td><td>13052  </td><td>DDX11L1</td></tr>\n",
       "</tbody>\n",
       "</table>\n"
      ],
      "text/latex": [
       "\\begin{tabular}{r|llll}\n",
       " chrom & start & end & geneSym\\\\\n",
       "\\hline\n",
       "\t 1       & 11869   & 12227   & DDX11L1\\\\\n",
       "\t 1       & 12010   & 12057   & DDX11L1\\\\\n",
       "\t 1       & 12179   & 12227   & DDX11L1\\\\\n",
       "\t 1       & 12613   & 12721   & DDX11L1\\\\\n",
       "\t 1       & 12613   & 12697   & DDX11L1\\\\\n",
       "\t 1       & 12975   & 13052   & DDX11L1\\\\\n",
       "\\end{tabular}\n"
      ],
      "text/markdown": [
       "\n",
       "chrom | start | end | geneSym | \n",
       "|---|---|---|---|---|---|\n",
       "| 1       | 11869   | 12227   | DDX11L1 | \n",
       "| 1       | 12010   | 12057   | DDX11L1 | \n",
       "| 1       | 12179   | 12227   | DDX11L1 | \n",
       "| 1       | 12613   | 12721   | DDX11L1 | \n",
       "| 1       | 12613   | 12697   | DDX11L1 | \n",
       "| 1       | 12975   | 13052   | DDX11L1 | \n",
       "\n",
       "\n"
      ],
      "text/plain": [
       "  chrom start end   geneSym\n",
       "1 1     11869 12227 DDX11L1\n",
       "2 1     12010 12057 DDX11L1\n",
       "3 1     12179 12227 DDX11L1\n",
       "4 1     12613 12721 DDX11L1\n",
       "5 1     12613 12697 DDX11L1\n",
       "6 1     12975 13052 DDX11L1"
      ]
     },
     "metadata": {},
     "output_type": "display_data"
    },
    {
     "data": {
      "text/html": [
       "353"
      ],
      "text/latex": [
       "353"
      ],
      "text/markdown": [
       "353"
      ],
      "text/plain": [
       "[1] 353"
      ]
     },
     "metadata": {},
     "output_type": "display_data"
    },
    {
     "data": {
      "text/html": [
       "352"
      ],
      "text/latex": [
       "352"
      ],
      "text/markdown": [
       "352"
      ],
      "text/plain": [
       "[1] 352"
      ]
     },
     "metadata": {},
     "output_type": "display_data"
    }
   ],
   "source": [
    "head(geneList_colon)\n",
    "head(exann)\n",
    "\n",
    "length(geneList_colon)\n",
    "length(which(geneList_colon %in% exann$geneSym))"
   ]
  },
  {
   "cell_type": "code",
   "execution_count": 30,
   "metadata": {},
   "outputs": [],
   "source": [
    "# exon_ranges <- exann[exann$geneSym %in% geneList_colon,]\n",
    "exon_ranges <- exann[exann$geneSym %in% geneList_colon[1:11],] # For genes mutated in at least 25% of cases\n",
    "\n",
    "exon_ranges <- GRanges(exon_ranges$chrom,IRanges(exon_ranges$start,exon_ranges$end))\n",
    "exon_ranges <- reduce(exon_ranges)\n",
    "exon_ranges <- data.table(chrom=as.vector(seqnames(exon_ranges)),start=start(exon_ranges),end=end(exon_ranges))"
   ]
  },
  {
   "cell_type": "code",
   "execution_count": 31,
   "metadata": {},
   "outputs": [
    {
     "data": {
      "text/html": [
       "<table>\n",
       "<thead><tr><th></th><th scope=col>ct_sub</th><th scope=col>cl_sub</th><th scope=col>ot_sub</th><th scope=col>ol_sub</th><th scope=col>ct_rest</th><th scope=col>cl_rest</th><th scope=col>ot_rest</th><th scope=col>ol_rest</th><th scope=col>ct_outrange</th><th scope=col>cl_outrange</th><th scope=col>ot_outrange</th><th scope=col>ol_outrange</th></tr></thead>\n",
       "<tbody>\n",
       "\t<tr><th scope=row>chr1</th><td>204     </td><td> 620    </td><td>1376    </td><td> 6430   </td><td>151292  </td><td>322982  </td><td>709058  </td><td>2458438 </td><td>5193582 </td><td>8078528 </td><td>20266612</td><td>53477160</td></tr>\n",
       "\t<tr><th scope=row>chr2</th><td>940     </td><td>3728    </td><td>7400    </td><td>31758   </td><td>123772  </td><td>279976  </td><td>611494  </td><td>2037966 </td><td>5449664 </td><td>9245692 </td><td>22942902</td><td>59727216</td></tr>\n",
       "\t<tr><th scope=row>chr3</th><td>200     </td><td> 530    </td><td> 962    </td><td> 3062   </td><td>101354  </td><td>222968  </td><td>482462  </td><td>1622020 </td><td>4525166 </td><td>7774294 </td><td>19306214</td><td>50347906</td></tr>\n",
       "\t<tr><th scope=row>chr4</th><td> 60     </td><td> 446    </td><td> 740    </td><td> 3768   </td><td> 79402  </td><td>185860  </td><td>412188  </td><td>1301970 </td><td>4399742 </td><td>7952856 </td><td>19999238</td><td>50770966</td></tr>\n",
       "\t<tr><th scope=row>chr5</th><td>152     </td><td> 438    </td><td> 956    </td><td> 3260   </td><td> 87614  </td><td>198162  </td><td>432256  </td><td>1418036 </td><td>4094322 </td><td>7162704 </td><td>17783544</td><td>46482090</td></tr>\n",
       "\t<tr><th scope=row>chr6</th><td>558     </td><td>1436    </td><td>2880    </td><td>10958   </td><td> 83200  </td><td>190378  </td><td>416088  </td><td>1378136 </td><td>3921788 </td><td>6736846 </td><td>16800180</td><td>43289224</td></tr>\n",
       "</tbody>\n",
       "</table>\n"
      ],
      "text/latex": [
       "\\begin{tabular}{r|llllllllllll}\n",
       "  & ct\\_sub & cl\\_sub & ot\\_sub & ol\\_sub & ct\\_rest & cl\\_rest & ot\\_rest & ol\\_rest & ct\\_outrange & cl\\_outrange & ot\\_outrange & ol\\_outrange\\\\\n",
       "\\hline\n",
       "\tchr1 & 204      &  620     & 1376     &  6430    & 151292   & 322982   & 709058   & 2458438  & 5193582  & 8078528  & 20266612 & 53477160\\\\\n",
       "\tchr2 & 940      & 3728     & 7400     & 31758    & 123772   & 279976   & 611494   & 2037966  & 5449664  & 9245692  & 22942902 & 59727216\\\\\n",
       "\tchr3 & 200      &  530     &  962     &  3062    & 101354   & 222968   & 482462   & 1622020  & 4525166  & 7774294  & 19306214 & 50347906\\\\\n",
       "\tchr4 &  60      &  446     &  740     &  3768    &  79402   & 185860   & 412188   & 1301970  & 4399742  & 7952856  & 19999238 & 50770966\\\\\n",
       "\tchr5 & 152      &  438     &  956     &  3260    &  87614   & 198162   & 432256   & 1418036  & 4094322  & 7162704  & 17783544 & 46482090\\\\\n",
       "\tchr6 & 558      & 1436     & 2880     & 10958    &  83200   & 190378   & 416088   & 1378136  & 3921788  & 6736846  & 16800180 & 43289224\\\\\n",
       "\\end{tabular}\n"
      ],
      "text/markdown": [
       "\n",
       "| <!--/--> | ct_sub | cl_sub | ot_sub | ol_sub | ct_rest | cl_rest | ot_rest | ol_rest | ct_outrange | cl_outrange | ot_outrange | ol_outrange | \n",
       "|---|---|---|---|---|---|\n",
       "| chr1 | 204      |  620     | 1376     |  6430    | 151292   | 322982   | 709058   | 2458438  | 5193582  | 8078528  | 20266612 | 53477160 | \n",
       "| chr2 | 940      | 3728     | 7400     | 31758    | 123772   | 279976   | 611494   | 2037966  | 5449664  | 9245692  | 22942902 | 59727216 | \n",
       "| chr3 | 200      |  530     |  962     |  3062    | 101354   | 222968   | 482462   | 1622020  | 4525166  | 7774294  | 19306214 | 50347906 | \n",
       "| chr4 |  60      |  446     |  740     |  3768    |  79402   | 185860   | 412188   | 1301970  | 4399742  | 7952856  | 19999238 | 50770966 | \n",
       "| chr5 | 152      |  438     |  956     |  3260    |  87614   | 198162   | 432256   | 1418036  | 4094322  | 7162704  | 17783544 | 46482090 | \n",
       "| chr6 | 558      | 1436     | 2880     | 10958    |  83200   | 190378   | 416088   | 1378136  | 3921788  | 6736846  | 16800180 | 43289224 | \n",
       "\n",
       "\n"
      ],
      "text/plain": [
       "     ct_sub cl_sub ot_sub ol_sub ct_rest cl_rest ot_rest ol_rest ct_outrange\n",
       "chr1 204     620   1376    6430  151292  322982  709058  2458438 5193582    \n",
       "chr2 940    3728   7400   31758  123772  279976  611494  2037966 5449664    \n",
       "chr3 200     530    962    3062  101354  222968  482462  1622020 4525166    \n",
       "chr4  60     446    740    3768   79402  185860  412188  1301970 4399742    \n",
       "chr5 152     438    956    3260   87614  198162  432256  1418036 4094322    \n",
       "chr6 558    1436   2880   10958   83200  190378  416088  1378136 3921788    \n",
       "     cl_outrange ot_outrange ol_outrange\n",
       "chr1 8078528     20266612    53477160   \n",
       "chr2 9245692     22942902    59727216   \n",
       "chr3 7774294     19306214    50347906   \n",
       "chr4 7952856     19999238    50770966   \n",
       "chr5 7162704     17783544    46482090   \n",
       "chr6 6736846     16800180    43289224   "
      ]
     },
     "metadata": {},
     "output_type": "display_data"
    },
    {
     "data": {
      "text/html": [
       "<table>\n",
       "<thead><tr><th></th><th scope=col>ct_sub</th><th scope=col>cl_sub</th><th scope=col>ot_sub</th><th scope=col>ol_sub</th><th scope=col>ct_rest</th><th scope=col>cl_rest</th><th scope=col>ot_rest</th><th scope=col>ol_rest</th><th scope=col>ct_outrange</th><th scope=col>cl_outrange</th><th scope=col>ot_outrange</th><th scope=col>ol_outrange</th></tr></thead>\n",
       "<tbody>\n",
       "\t<tr><th scope=row>chr1</th><td>204     </td><td> 620    </td><td>1376    </td><td> 6430   </td><td>151292  </td><td>322982  </td><td>709058  </td><td>2458438 </td><td>5193582 </td><td>8078528 </td><td>20266612</td><td>53477160</td></tr>\n",
       "\t<tr><th scope=row>chr2</th><td>940     </td><td>3728    </td><td>7400    </td><td>31758   </td><td>123772  </td><td>279976  </td><td>611494  </td><td>2037966 </td><td>5449664 </td><td>9245692 </td><td>22942902</td><td>59727216</td></tr>\n",
       "\t<tr><th scope=row>chr3</th><td>200     </td><td> 530    </td><td> 962    </td><td> 3062   </td><td>101354  </td><td>222968  </td><td>482462  </td><td>1622020 </td><td>4525166 </td><td>7774294 </td><td>19306214</td><td>50347906</td></tr>\n",
       "\t<tr><th scope=row>chr4</th><td> 60     </td><td> 446    </td><td> 740    </td><td> 3768   </td><td> 79402  </td><td>185860  </td><td>412188  </td><td>1301970 </td><td>4399742 </td><td>7952856 </td><td>19999238</td><td>50770966</td></tr>\n",
       "\t<tr><th scope=row>chr5</th><td>152     </td><td> 438    </td><td> 956    </td><td> 3260   </td><td> 87614  </td><td>198162  </td><td>432256  </td><td>1418036 </td><td>4094322 </td><td>7162704 </td><td>17783544</td><td>46482090</td></tr>\n",
       "\t<tr><th scope=row>chr6</th><td>558     </td><td>1436    </td><td>2880    </td><td>10958   </td><td> 83200  </td><td>190378  </td><td>416088  </td><td>1378136 </td><td>3921788 </td><td>6736846 </td><td>16800180</td><td>43289224</td></tr>\n",
       "</tbody>\n",
       "</table>\n"
      ],
      "text/latex": [
       "\\begin{tabular}{r|llllllllllll}\n",
       "  & ct\\_sub & cl\\_sub & ot\\_sub & ol\\_sub & ct\\_rest & cl\\_rest & ot\\_rest & ol\\_rest & ct\\_outrange & cl\\_outrange & ot\\_outrange & ol\\_outrange\\\\\n",
       "\\hline\n",
       "\tchr1 & 204      &  620     & 1376     &  6430    & 151292   & 322982   & 709058   & 2458438  & 5193582  & 8078528  & 20266612 & 53477160\\\\\n",
       "\tchr2 & 940      & 3728     & 7400     & 31758    & 123772   & 279976   & 611494   & 2037966  & 5449664  & 9245692  & 22942902 & 59727216\\\\\n",
       "\tchr3 & 200      &  530     &  962     &  3062    & 101354   & 222968   & 482462   & 1622020  & 4525166  & 7774294  & 19306214 & 50347906\\\\\n",
       "\tchr4 &  60      &  446     &  740     &  3768    &  79402   & 185860   & 412188   & 1301970  & 4399742  & 7952856  & 19999238 & 50770966\\\\\n",
       "\tchr5 & 152      &  438     &  956     &  3260    &  87614   & 198162   & 432256   & 1418036  & 4094322  & 7162704  & 17783544 & 46482090\\\\\n",
       "\tchr6 & 558      & 1436     & 2880     & 10958    &  83200   & 190378   & 416088   & 1378136  & 3921788  & 6736846  & 16800180 & 43289224\\\\\n",
       "\\end{tabular}\n"
      ],
      "text/markdown": [
       "\n",
       "| <!--/--> | ct_sub | cl_sub | ot_sub | ol_sub | ct_rest | cl_rest | ot_rest | ol_rest | ct_outrange | cl_outrange | ot_outrange | ol_outrange | \n",
       "|---|---|---|---|---|---|\n",
       "| chr1 | 204      |  620     | 1376     |  6430    | 151292   | 322982   | 709058   | 2458438  | 5193582  | 8078528  | 20266612 | 53477160 | \n",
       "| chr2 | 940      | 3728     | 7400     | 31758    | 123772   | 279976   | 611494   | 2037966  | 5449664  | 9245692  | 22942902 | 59727216 | \n",
       "| chr3 | 200      |  530     |  962     |  3062    | 101354   | 222968   | 482462   | 1622020  | 4525166  | 7774294  | 19306214 | 50347906 | \n",
       "| chr4 |  60      |  446     |  740     |  3768    |  79402   | 185860   | 412188   | 1301970  | 4399742  | 7952856  | 19999238 | 50770966 | \n",
       "| chr5 | 152      |  438     |  956     |  3260    |  87614   | 198162   | 432256   | 1418036  | 4094322  | 7162704  | 17783544 | 46482090 | \n",
       "| chr6 | 558      | 1436     | 2880     | 10958    |  83200   | 190378   | 416088   | 1378136  | 3921788  | 6736846  | 16800180 | 43289224 | \n",
       "\n",
       "\n"
      ],
      "text/plain": [
       "     ct_sub cl_sub ot_sub ol_sub ct_rest cl_rest ot_rest ol_rest ct_outrange\n",
       "chr1 204     620   1376    6430  151292  322982  709058  2458438 5193582    \n",
       "chr2 940    3728   7400   31758  123772  279976  611494  2037966 5449664    \n",
       "chr3 200     530    962    3062  101354  222968  482462  1622020 4525166    \n",
       "chr4  60     446    740    3768   79402  185860  412188  1301970 4399742    \n",
       "chr5 152     438    956    3260   87614  198162  432256  1418036 4094322    \n",
       "chr6 558    1436   2880   10958   83200  190378  416088  1378136 3921788    \n",
       "     cl_outrange ot_outrange ol_outrange\n",
       "chr1 8078528     20266612    53477160   \n",
       "chr2 9245692     22942902    59727216   \n",
       "chr3 7774294     19306214    50347906   \n",
       "chr4 7952856     19999238    50770966   \n",
       "chr5 7162704     17783544    46482090   \n",
       "chr6 6736846     16800180    43289224   "
      ]
     },
     "metadata": {},
     "output_type": "display_data"
    }
   ],
   "source": [
    "counts_m <- count_in_ranges(exon_ranges,counts_dipl_m)\n",
    "head(counts_m)\n",
    "counts_f <- count_in_ranges(exon_ranges,counts_dipl_f)\n",
    "head(counts_f)"
   ]
  },
  {
   "cell_type": "markdown",
   "metadata": {},
   "source": [
    "Ratio of sites in geneList_colon genes vs. all other Ensembl genes (driver to passenger ratio)"
   ]
  },
  {
   "cell_type": "code",
   "execution_count": 32,
   "metadata": {},
   "outputs": [
    {
     "data": {
      "text/html": [
       "0.00248729330756779"
      ],
      "text/latex": [
       "0.00248729330756779"
      ],
      "text/markdown": [
       "0.00248729330756779"
      ],
      "text/plain": [
       "[1] 0.002487293"
      ]
     },
     "metadata": {},
     "output_type": "display_data"
    },
    {
     "data": {
      "text/html": [
       "0.00244884420204255"
      ],
      "text/latex": [
       "0.00244884420204255"
      ],
      "text/markdown": [
       "0.00244884420204255"
      ],
      "text/plain": [
       "[1] 0.002448844"
      ]
     },
     "metadata": {},
     "output_type": "display_data"
    }
   ],
   "source": [
    "sum(rowSums(counts_m[,1:4]))/sum(rowSums(counts_m[,5:8]))\n",
    "sum(rowSums(counts_f[,1:4]))/sum(rowSums(counts_f[,5:8]))"
   ]
  },
  {
   "cell_type": "code",
   "execution_count": 33,
   "metadata": {},
   "outputs": [],
   "source": [
    "counts_colon_m<-counts_m\n",
    "counts_colon_f<-counts_f"
   ]
  },
  {
   "cell_type": "code",
   "execution_count": 34,
   "metadata": {
    "scrolled": true
   },
   "outputs": [
    {
     "data": {
      "text/html": [
       "<ol class=list-inline>\n",
       "\t<li>7.16121771399305e-05</li>\n",
       "\t<li>0.0315053349690237</li>\n",
       "\t<li>0.968423052853836</li>\n",
       "</ol>\n"
      ],
      "text/latex": [
       "\\begin{enumerate*}\n",
       "\\item 7.16121771399305e-05\n",
       "\\item 0.0315053349690237\n",
       "\\item 0.968423052853836\n",
       "\\end{enumerate*}\n"
      ],
      "text/markdown": [
       "1. 7.16121771399305e-05\n",
       "2. 0.0315053349690237\n",
       "3. 0.968423052853836\n",
       "\n",
       "\n"
      ],
      "text/plain": [
       "[1] 7.161218e-05 3.150533e-02 9.684231e-01"
      ]
     },
     "metadata": {},
     "output_type": "display_data"
    },
    {
     "data": {
      "text/html": [
       "<ol class=list-inline>\n",
       "\t<li>6.96784537095196e-05</li>\n",
       "\t<li>0.031044663895651</li>\n",
       "\t<li>0.968885657650639</li>\n",
       "</ol>\n"
      ],
      "text/latex": [
       "\\begin{enumerate*}\n",
       "\\item 6.96784537095196e-05\n",
       "\\item 0.031044663895651\n",
       "\\item 0.968885657650639\n",
       "\\end{enumerate*}\n"
      ],
      "text/markdown": [
       "1. 6.96784537095196e-05\n",
       "2. 0.031044663895651\n",
       "3. 0.968885657650639\n",
       "\n",
       "\n"
      ],
      "text/plain": [
       "[1] 6.967845e-05 3.104466e-02 9.688857e-01"
      ]
     },
     "metadata": {},
     "output_type": "display_data"
    }
   ],
   "source": [
    "pd_colon_m <- get_prob_dist(counts_colon_m,exon_ranges)\n",
    "pd_colon_m\n",
    "pd_colon_f <- get_prob_dist(counts_colon_f,exon_ranges)\n",
    "pd_colon_f"
   ]
  },
  {
   "cell_type": "markdown",
   "metadata": {},
   "source": [
    "## Brain cancer"
   ]
  },
  {
   "cell_type": "code",
   "execution_count": 35,
   "metadata": {},
   "outputs": [
    {
     "data": {
      "text/html": [
       "<ol class=list-inline>\n",
       "\t<li>'IDH1'</li>\n",
       "\t<li>'TP53'</li>\n",
       "\t<li>'ATRX'</li>\n",
       "\t<li>'TTN'</li>\n",
       "\t<li>'PTEN'</li>\n",
       "\t<li>'EGFR'</li>\n",
       "</ol>\n"
      ],
      "text/latex": [
       "\\begin{enumerate*}\n",
       "\\item 'IDH1'\n",
       "\\item 'TP53'\n",
       "\\item 'ATRX'\n",
       "\\item 'TTN'\n",
       "\\item 'PTEN'\n",
       "\\item 'EGFR'\n",
       "\\end{enumerate*}\n"
      ],
      "text/markdown": [
       "1. 'IDH1'\n",
       "2. 'TP53'\n",
       "3. 'ATRX'\n",
       "4. 'TTN'\n",
       "5. 'PTEN'\n",
       "6. 'EGFR'\n",
       "\n",
       "\n"
      ],
      "text/plain": [
       "[1] \"IDH1\" \"TP53\" \"ATRX\" \"TTN\"  \"PTEN\" \"EGFR\""
      ]
     },
     "metadata": {},
     "output_type": "display_data"
    },
    {
     "data": {
      "text/html": [
       "<table>\n",
       "<thead><tr><th scope=col>chrom</th><th scope=col>start</th><th scope=col>end</th><th scope=col>geneSym</th></tr></thead>\n",
       "<tbody>\n",
       "\t<tr><td>1      </td><td>11869  </td><td>12227  </td><td>DDX11L1</td></tr>\n",
       "\t<tr><td>1      </td><td>12010  </td><td>12057  </td><td>DDX11L1</td></tr>\n",
       "\t<tr><td>1      </td><td>12179  </td><td>12227  </td><td>DDX11L1</td></tr>\n",
       "\t<tr><td>1      </td><td>12613  </td><td>12721  </td><td>DDX11L1</td></tr>\n",
       "\t<tr><td>1      </td><td>12613  </td><td>12697  </td><td>DDX11L1</td></tr>\n",
       "\t<tr><td>1      </td><td>12975  </td><td>13052  </td><td>DDX11L1</td></tr>\n",
       "</tbody>\n",
       "</table>\n"
      ],
      "text/latex": [
       "\\begin{tabular}{r|llll}\n",
       " chrom & start & end & geneSym\\\\\n",
       "\\hline\n",
       "\t 1       & 11869   & 12227   & DDX11L1\\\\\n",
       "\t 1       & 12010   & 12057   & DDX11L1\\\\\n",
       "\t 1       & 12179   & 12227   & DDX11L1\\\\\n",
       "\t 1       & 12613   & 12721   & DDX11L1\\\\\n",
       "\t 1       & 12613   & 12697   & DDX11L1\\\\\n",
       "\t 1       & 12975   & 13052   & DDX11L1\\\\\n",
       "\\end{tabular}\n"
      ],
      "text/markdown": [
       "\n",
       "chrom | start | end | geneSym | \n",
       "|---|---|---|---|---|---|\n",
       "| 1       | 11869   | 12227   | DDX11L1 | \n",
       "| 1       | 12010   | 12057   | DDX11L1 | \n",
       "| 1       | 12179   | 12227   | DDX11L1 | \n",
       "| 1       | 12613   | 12721   | DDX11L1 | \n",
       "| 1       | 12613   | 12697   | DDX11L1 | \n",
       "| 1       | 12975   | 13052   | DDX11L1 | \n",
       "\n",
       "\n"
      ],
      "text/plain": [
       "  chrom start end   geneSym\n",
       "1 1     11869 12227 DDX11L1\n",
       "2 1     12010 12057 DDX11L1\n",
       "3 1     12179 12227 DDX11L1\n",
       "4 1     12613 12721 DDX11L1\n",
       "5 1     12613 12697 DDX11L1\n",
       "6 1     12975 13052 DDX11L1"
      ]
     },
     "metadata": {},
     "output_type": "display_data"
    },
    {
     "data": {
      "text/html": [
       "10"
      ],
      "text/latex": [
       "10"
      ],
      "text/markdown": [
       "10"
      ],
      "text/plain": [
       "[1] 10"
      ]
     },
     "metadata": {},
     "output_type": "display_data"
    },
    {
     "data": {
      "text/html": [
       "10"
      ],
      "text/latex": [
       "10"
      ],
      "text/markdown": [
       "10"
      ],
      "text/plain": [
       "[1] 10"
      ]
     },
     "metadata": {},
     "output_type": "display_data"
    }
   ],
   "source": [
    "head(geneList_brain)\n",
    "head(exann)\n",
    "\n",
    "length(geneList_brain)\n",
    "length(which(geneList_brain %in% exann$geneSym))"
   ]
  },
  {
   "cell_type": "code",
   "execution_count": 36,
   "metadata": {},
   "outputs": [],
   "source": [
    "# exon_ranges <- exann[exann$geneSym %in% geneList_brain,]\n",
    "exon_ranges <- exann[exann$geneSym %in% geneList_brain[1:3],] # For genes mutated in at least 25% of cases\n",
    "\n",
    "exon_ranges <- GRanges(exon_ranges$chrom,IRanges(exon_ranges$start,exon_ranges$end))\n",
    "exon_ranges <- reduce(exon_ranges)\n",
    "exon_ranges <- data.table(chrom=as.vector(seqnames(exon_ranges)),start=start(exon_ranges),end=end(exon_ranges))"
   ]
  },
  {
   "cell_type": "code",
   "execution_count": 37,
   "metadata": {},
   "outputs": [
    {
     "data": {
      "text/html": [
       "<table>\n",
       "<thead><tr><th></th><th scope=col>ct_sub</th><th scope=col>cl_sub</th><th scope=col>ot_sub</th><th scope=col>ol_sub</th><th scope=col>ct_rest</th><th scope=col>cl_rest</th><th scope=col>ot_rest</th><th scope=col>ol_rest</th><th scope=col>ct_outrange</th><th scope=col>cl_outrange</th><th scope=col>ot_outrange</th><th scope=col>ol_outrange</th></tr></thead>\n",
       "<tbody>\n",
       "\t<tr><th scope=row>chr1</th><td> 0      </td><td>  0     </td><td>  0     </td><td>   0    </td><td>151496  </td><td>323602  </td><td>710434  </td><td>2464868 </td><td>5193582 </td><td>8078528 </td><td>20266612</td><td>53477160</td></tr>\n",
       "\t<tr><th scope=row>chr2</th><td>90      </td><td>168     </td><td>406     </td><td>1010    </td><td>124622  </td><td>283536  </td><td>618488  </td><td>2068714 </td><td>5449664 </td><td>9245692 </td><td>22942902</td><td>59727216</td></tr>\n",
       "\t<tr><th scope=row>chr3</th><td> 0      </td><td>  0     </td><td>  0     </td><td>   0    </td><td>101554  </td><td>223498  </td><td>483424  </td><td>1625082 </td><td>4525166 </td><td>7774294 </td><td>19306214</td><td>50347906</td></tr>\n",
       "\t<tr><th scope=row>chr4</th><td> 0      </td><td>  0     </td><td>  0     </td><td>   0    </td><td> 79462  </td><td>186306  </td><td>412928  </td><td>1305738 </td><td>4399742 </td><td>7952856 </td><td>19999238</td><td>50770966</td></tr>\n",
       "\t<tr><th scope=row>chr5</th><td> 0      </td><td>  0     </td><td>  0     </td><td>   0    </td><td> 87766  </td><td>198600  </td><td>433212  </td><td>1421296 </td><td>4094322 </td><td>7162704 </td><td>17783544</td><td>46482090</td></tr>\n",
       "\t<tr><th scope=row>chr6</th><td> 0      </td><td>  0     </td><td>  0     </td><td>   0    </td><td> 83758  </td><td>191814  </td><td>418968  </td><td>1389094 </td><td>3921788 </td><td>6736846 </td><td>16800180</td><td>43289224</td></tr>\n",
       "</tbody>\n",
       "</table>\n"
      ],
      "text/latex": [
       "\\begin{tabular}{r|llllllllllll}\n",
       "  & ct\\_sub & cl\\_sub & ot\\_sub & ol\\_sub & ct\\_rest & cl\\_rest & ot\\_rest & ol\\_rest & ct\\_outrange & cl\\_outrange & ot\\_outrange & ol\\_outrange\\\\\n",
       "\\hline\n",
       "\tchr1 &  0       &   0      &   0      &    0     & 151496   & 323602   & 710434   & 2464868  & 5193582  & 8078528  & 20266612 & 53477160\\\\\n",
       "\tchr2 & 90       & 168      & 406      & 1010     & 124622   & 283536   & 618488   & 2068714  & 5449664  & 9245692  & 22942902 & 59727216\\\\\n",
       "\tchr3 &  0       &   0      &   0      &    0     & 101554   & 223498   & 483424   & 1625082  & 4525166  & 7774294  & 19306214 & 50347906\\\\\n",
       "\tchr4 &  0       &   0      &   0      &    0     &  79462   & 186306   & 412928   & 1305738  & 4399742  & 7952856  & 19999238 & 50770966\\\\\n",
       "\tchr5 &  0       &   0      &   0      &    0     &  87766   & 198600   & 433212   & 1421296  & 4094322  & 7162704  & 17783544 & 46482090\\\\\n",
       "\tchr6 &  0       &   0      &   0      &    0     &  83758   & 191814   & 418968   & 1389094  & 3921788  & 6736846  & 16800180 & 43289224\\\\\n",
       "\\end{tabular}\n"
      ],
      "text/markdown": [
       "\n",
       "| <!--/--> | ct_sub | cl_sub | ot_sub | ol_sub | ct_rest | cl_rest | ot_rest | ol_rest | ct_outrange | cl_outrange | ot_outrange | ol_outrange | \n",
       "|---|---|---|---|---|---|\n",
       "| chr1 |  0       |   0      |   0      |    0     | 151496   | 323602   | 710434   | 2464868  | 5193582  | 8078528  | 20266612 | 53477160 | \n",
       "| chr2 | 90       | 168      | 406      | 1010     | 124622   | 283536   | 618488   | 2068714  | 5449664  | 9245692  | 22942902 | 59727216 | \n",
       "| chr3 |  0       |   0      |   0      |    0     | 101554   | 223498   | 483424   | 1625082  | 4525166  | 7774294  | 19306214 | 50347906 | \n",
       "| chr4 |  0       |   0      |   0      |    0     |  79462   | 186306   | 412928   | 1305738  | 4399742  | 7952856  | 19999238 | 50770966 | \n",
       "| chr5 |  0       |   0      |   0      |    0     |  87766   | 198600   | 433212   | 1421296  | 4094322  | 7162704  | 17783544 | 46482090 | \n",
       "| chr6 |  0       |   0      |   0      |    0     |  83758   | 191814   | 418968   | 1389094  | 3921788  | 6736846  | 16800180 | 43289224 | \n",
       "\n",
       "\n"
      ],
      "text/plain": [
       "     ct_sub cl_sub ot_sub ol_sub ct_rest cl_rest ot_rest ol_rest ct_outrange\n",
       "chr1  0       0      0       0   151496  323602  710434  2464868 5193582    \n",
       "chr2 90     168    406    1010   124622  283536  618488  2068714 5449664    \n",
       "chr3  0       0      0       0   101554  223498  483424  1625082 4525166    \n",
       "chr4  0       0      0       0    79462  186306  412928  1305738 4399742    \n",
       "chr5  0       0      0       0    87766  198600  433212  1421296 4094322    \n",
       "chr6  0       0      0       0    83758  191814  418968  1389094 3921788    \n",
       "     cl_outrange ot_outrange ol_outrange\n",
       "chr1 8078528     20266612    53477160   \n",
       "chr2 9245692     22942902    59727216   \n",
       "chr3 7774294     19306214    50347906   \n",
       "chr4 7952856     19999238    50770966   \n",
       "chr5 7162704     17783544    46482090   \n",
       "chr6 6736846     16800180    43289224   "
      ]
     },
     "metadata": {},
     "output_type": "display_data"
    },
    {
     "data": {
      "text/html": [
       "<table>\n",
       "<thead><tr><th></th><th scope=col>ct_sub</th><th scope=col>cl_sub</th><th scope=col>ot_sub</th><th scope=col>ol_sub</th><th scope=col>ct_rest</th><th scope=col>cl_rest</th><th scope=col>ot_rest</th><th scope=col>ol_rest</th><th scope=col>ct_outrange</th><th scope=col>cl_outrange</th><th scope=col>ot_outrange</th><th scope=col>ol_outrange</th></tr></thead>\n",
       "<tbody>\n",
       "\t<tr><th scope=row>chr1</th><td> 0      </td><td>  0     </td><td>  0     </td><td>   0    </td><td>151496  </td><td>323602  </td><td>710434  </td><td>2464868 </td><td>5193582 </td><td>8078528 </td><td>20266612</td><td>53477160</td></tr>\n",
       "\t<tr><th scope=row>chr2</th><td>90      </td><td>168     </td><td>406     </td><td>1010    </td><td>124622  </td><td>283536  </td><td>618488  </td><td>2068714 </td><td>5449664 </td><td>9245692 </td><td>22942902</td><td>59727216</td></tr>\n",
       "\t<tr><th scope=row>chr3</th><td> 0      </td><td>  0     </td><td>  0     </td><td>   0    </td><td>101554  </td><td>223498  </td><td>483424  </td><td>1625082 </td><td>4525166 </td><td>7774294 </td><td>19306214</td><td>50347906</td></tr>\n",
       "\t<tr><th scope=row>chr4</th><td> 0      </td><td>  0     </td><td>  0     </td><td>   0    </td><td> 79462  </td><td>186306  </td><td>412928  </td><td>1305738 </td><td>4399742 </td><td>7952856 </td><td>19999238</td><td>50770966</td></tr>\n",
       "\t<tr><th scope=row>chr5</th><td> 0      </td><td>  0     </td><td>  0     </td><td>   0    </td><td> 87766  </td><td>198600  </td><td>433212  </td><td>1421296 </td><td>4094322 </td><td>7162704 </td><td>17783544</td><td>46482090</td></tr>\n",
       "\t<tr><th scope=row>chr6</th><td> 0      </td><td>  0     </td><td>  0     </td><td>   0    </td><td> 83758  </td><td>191814  </td><td>418968  </td><td>1389094 </td><td>3921788 </td><td>6736846 </td><td>16800180</td><td>43289224</td></tr>\n",
       "</tbody>\n",
       "</table>\n"
      ],
      "text/latex": [
       "\\begin{tabular}{r|llllllllllll}\n",
       "  & ct\\_sub & cl\\_sub & ot\\_sub & ol\\_sub & ct\\_rest & cl\\_rest & ot\\_rest & ol\\_rest & ct\\_outrange & cl\\_outrange & ot\\_outrange & ol\\_outrange\\\\\n",
       "\\hline\n",
       "\tchr1 &  0       &   0      &   0      &    0     & 151496   & 323602   & 710434   & 2464868  & 5193582  & 8078528  & 20266612 & 53477160\\\\\n",
       "\tchr2 & 90       & 168      & 406      & 1010     & 124622   & 283536   & 618488   & 2068714  & 5449664  & 9245692  & 22942902 & 59727216\\\\\n",
       "\tchr3 &  0       &   0      &   0      &    0     & 101554   & 223498   & 483424   & 1625082  & 4525166  & 7774294  & 19306214 & 50347906\\\\\n",
       "\tchr4 &  0       &   0      &   0      &    0     &  79462   & 186306   & 412928   & 1305738  & 4399742  & 7952856  & 19999238 & 50770966\\\\\n",
       "\tchr5 &  0       &   0      &   0      &    0     &  87766   & 198600   & 433212   & 1421296  & 4094322  & 7162704  & 17783544 & 46482090\\\\\n",
       "\tchr6 &  0       &   0      &   0      &    0     &  83758   & 191814   & 418968   & 1389094  & 3921788  & 6736846  & 16800180 & 43289224\\\\\n",
       "\\end{tabular}\n"
      ],
      "text/markdown": [
       "\n",
       "| <!--/--> | ct_sub | cl_sub | ot_sub | ol_sub | ct_rest | cl_rest | ot_rest | ol_rest | ct_outrange | cl_outrange | ot_outrange | ol_outrange | \n",
       "|---|---|---|---|---|---|\n",
       "| chr1 |  0       |   0      |   0      |    0     | 151496   | 323602   | 710434   | 2464868  | 5193582  | 8078528  | 20266612 | 53477160 | \n",
       "| chr2 | 90       | 168      | 406      | 1010     | 124622   | 283536   | 618488   | 2068714  | 5449664  | 9245692  | 22942902 | 59727216 | \n",
       "| chr3 |  0       |   0      |   0      |    0     | 101554   | 223498   | 483424   | 1625082  | 4525166  | 7774294  | 19306214 | 50347906 | \n",
       "| chr4 |  0       |   0      |   0      |    0     |  79462   | 186306   | 412928   | 1305738  | 4399742  | 7952856  | 19999238 | 50770966 | \n",
       "| chr5 |  0       |   0      |   0      |    0     |  87766   | 198600   | 433212   | 1421296  | 4094322  | 7162704  | 17783544 | 46482090 | \n",
       "| chr6 |  0       |   0      |   0      |    0     |  83758   | 191814   | 418968   | 1389094  | 3921788  | 6736846  | 16800180 | 43289224 | \n",
       "\n",
       "\n"
      ],
      "text/plain": [
       "     ct_sub cl_sub ot_sub ol_sub ct_rest cl_rest ot_rest ol_rest ct_outrange\n",
       "chr1  0       0      0       0   151496  323602  710434  2464868 5193582    \n",
       "chr2 90     168    406    1010   124622  283536  618488  2068714 5449664    \n",
       "chr3  0       0      0       0   101554  223498  483424  1625082 4525166    \n",
       "chr4  0       0      0       0    79462  186306  412928  1305738 4399742    \n",
       "chr5  0       0      0       0    87766  198600  433212  1421296 4094322    \n",
       "chr6  0       0      0       0    83758  191814  418968  1389094 3921788    \n",
       "     cl_outrange ot_outrange ol_outrange\n",
       "chr1 8078528     20266612    53477160   \n",
       "chr2 9245692     22942902    59727216   \n",
       "chr3 7774294     19306214    50347906   \n",
       "chr4 7952856     19999238    50770966   \n",
       "chr5 7162704     17783544    46482090   \n",
       "chr6 6736846     16800180    43289224   "
      ]
     },
     "metadata": {},
     "output_type": "display_data"
    }
   ],
   "source": [
    "counts_m <- count_in_ranges(exon_ranges,counts_dipl_m)\n",
    "head(counts_m)\n",
    "counts_f <- count_in_ranges(exon_ranges,counts_dipl_f)\n",
    "head(counts_f)"
   ]
  },
  {
   "cell_type": "markdown",
   "metadata": {},
   "source": [
    "Ratio of sites in geneList_brain genes vs. all other Ensembl genes (driver to passenger ratio)"
   ]
  },
  {
   "cell_type": "code",
   "execution_count": 38,
   "metadata": {},
   "outputs": [
    {
     "data": {
      "text/html": [
       "0.000203152343493573"
      ],
      "text/latex": [
       "0.000203152343493573"
      ],
      "text/markdown": [
       "0.000203152343493573"
      ],
      "text/plain": [
       "[1] 0.0002031523"
      ]
     },
     "metadata": {},
     "output_type": "display_data"
    },
    {
     "data": {
      "text/html": [
       "0.000325617800087536"
      ],
      "text/latex": [
       "0.000325617800087536"
      ],
      "text/markdown": [
       "0.000325617800087536"
      ],
      "text/plain": [
       "[1] 0.0003256178"
      ]
     },
     "metadata": {},
     "output_type": "display_data"
    }
   ],
   "source": [
    "sum(rowSums(counts_m[,1:4]))/sum(rowSums(counts_m[,5:8]))\n",
    "sum(rowSums(counts_f[,1:4]))/sum(rowSums(counts_f[,5:8]))"
   ]
  },
  {
   "cell_type": "code",
   "execution_count": 39,
   "metadata": {},
   "outputs": [],
   "source": [
    "counts_brain_m<-counts_m\n",
    "counts_brain_f<-counts_f"
   ]
  },
  {
   "cell_type": "code",
   "execution_count": 40,
   "metadata": {},
   "outputs": [
    {
     "data": {
      "text/html": [
       "<ol class=list-inline>\n",
       "\t<li>6.77434975899048e-06</li>\n",
       "\t<li>0.0315701727964047</li>\n",
       "\t<li>0.968423052853836</li>\n",
       "</ol>\n"
      ],
      "text/latex": [
       "\\begin{enumerate*}\n",
       "\\item 6.77434975899048e-06\n",
       "\\item 0.0315701727964047\n",
       "\\item 0.968423052853836\n",
       "\\end{enumerate*}\n"
      ],
      "text/markdown": [
       "1. 6.77434975899048e-06\n",
       "2. 0.0315701727964047\n",
       "3. 0.968423052853836\n",
       "\n",
       "\n"
      ],
      "text/plain": [
       "[1] 6.774350e-06 3.157017e-02 9.684231e-01"
      ]
     },
     "metadata": {},
     "output_type": "display_data"
    },
    {
     "data": {
      "text/html": [
       "<ol class=list-inline>\n",
       "\t<li>1.01240483603314e-05</li>\n",
       "\t<li>0.0311042183010002</li>\n",
       "\t<li>0.968885657650639</li>\n",
       "</ol>\n"
      ],
      "text/latex": [
       "\\begin{enumerate*}\n",
       "\\item 1.01240483603314e-05\n",
       "\\item 0.0311042183010002\n",
       "\\item 0.968885657650639\n",
       "\\end{enumerate*}\n"
      ],
      "text/markdown": [
       "1. 1.01240483603314e-05\n",
       "2. 0.0311042183010002\n",
       "3. 0.968885657650639\n",
       "\n",
       "\n"
      ],
      "text/plain": [
       "[1] 1.012405e-05 3.110422e-02 9.688857e-01"
      ]
     },
     "metadata": {},
     "output_type": "display_data"
    }
   ],
   "source": [
    "pd_brain_m <- get_prob_dist(counts_brain_m,exon_ranges)\n",
    "pd_brain_m\n",
    "pd_brain_f <- get_prob_dist(counts_brain_f,exon_ranges)\n",
    "pd_brain_f"
   ]
  },
  {
   "cell_type": "code",
   "execution_count": null,
   "metadata": {},
   "outputs": [],
   "source": []
  },
  {
   "cell_type": "code",
   "execution_count": 41,
   "metadata": {},
   "outputs": [],
   "source": [
    "save(pd_lung_m,pd_lung_f,pd_colon_m,pd_colon_f,pd_brain_m,pd_brain_f,file='../sim-develop/data/cancer_type_pd_th25.rda')"
   ]
  },
  {
   "cell_type": "code",
   "execution_count": null,
   "metadata": {},
   "outputs": [],
   "source": []
  }
 ],
 "metadata": {
  "kernelspec": {
   "display_name": "R",
   "language": "R",
   "name": "ir"
  },
  "language_info": {
   "codemirror_mode": "r",
   "file_extension": ".r",
   "mimetype": "text/x-r-source",
   "name": "R",
   "pygments_lexer": "r",
   "version": "3.5.1"
  }
 },
 "nbformat": 4,
 "nbformat_minor": 2
}
