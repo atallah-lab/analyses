{
 "cells": [
  {
   "cell_type": "code",
   "execution_count": 1,
   "metadata": {},
   "outputs": [],
   "source": [
    "load('gene_counts.rda')"
   ]
  },
  {
   "cell_type": "code",
   "execution_count": 2,
   "metadata": {},
   "outputs": [
    {
     "data": {
      "text/html": [
       "'gene_counts'"
      ],
      "text/latex": [
       "'gene\\_counts'"
      ],
      "text/markdown": [
       "'gene_counts'"
      ],
      "text/plain": [
       "[1] \"gene_counts\""
      ]
     },
     "metadata": {},
     "output_type": "display_data"
    }
   ],
   "source": [
    "ls()"
   ]
  },
  {
   "cell_type": "code",
   "execution_count": 3,
   "metadata": {},
   "outputs": [
    {
     "data": {
      "text/html": [
       "<table>\n",
       "<thead><tr><th scope=col>Sym</th><th scope=col>CT</th><th scope=col>CL</th><th scope=col>OT</th><th scope=col>OL</th><th scope=col>Len</th></tr></thead>\n",
       "<tbody>\n",
       "\t<tr><td>A1BG      </td><td> 159      </td><td> 138      </td><td>  406     </td><td> 1023     </td><td> 17574    </td></tr>\n",
       "\t<tr><td>NAT2      </td><td> 120      </td><td> 224      </td><td>  523     </td><td> 1560     </td><td>  9974    </td></tr>\n",
       "\t<tr><td>ADA       </td><td> 231      </td><td> 242      </td><td>  604     </td><td> 2323     </td><td> 32221    </td></tr>\n",
       "\t<tr><td>CDH2      </td><td>2701      </td><td>5215      </td><td>11812     </td><td>31968     </td><td>226481    </td></tr>\n",
       "\t<tr><td>ANO1-AS2  </td><td>   7      </td><td>  22      </td><td>   59     </td><td>  240     </td><td>  3000    </td></tr>\n",
       "\t<tr><td>ZBTB11-AS1</td><td>  17      </td><td>  45      </td><td>   68     </td><td>  253     </td><td>  2743    </td></tr>\n",
       "</tbody>\n",
       "</table>\n"
      ],
      "text/latex": [
       "\\begin{tabular}{r|llllll}\n",
       " Sym & CT & CL & OT & OL & Len\\\\\n",
       "\\hline\n",
       "\t A1BG       &  159       &  138       &   406      &  1023      &  17574    \\\\\n",
       "\t NAT2       &  120       &  224       &   523      &  1560      &   9974    \\\\\n",
       "\t ADA        &  231       &  242       &   604      &  2323      &  32221    \\\\\n",
       "\t CDH2       & 2701       & 5215       & 11812      & 31968      & 226481    \\\\\n",
       "\t ANO1-AS2   &    7       &   22       &    59      &   240      &   3000    \\\\\n",
       "\t ZBTB11-AS1 &   17       &   45       &    68      &   253      &   2743    \\\\\n",
       "\\end{tabular}\n"
      ],
      "text/markdown": [
       "\n",
       "Sym | CT | CL | OT | OL | Len | \n",
       "|---|---|---|---|---|---|\n",
       "| A1BG       |  159       |  138       |   406      |  1023      |  17574     | \n",
       "| NAT2       |  120       |  224       |   523      |  1560      |   9974     | \n",
       "| ADA        |  231       |  242       |   604      |  2323      |  32221     | \n",
       "| CDH2       | 2701       | 5215       | 11812      | 31968      | 226481     | \n",
       "| ANO1-AS2   |    7       |   22       |    59      |   240      |   3000     | \n",
       "| ZBTB11-AS1 |   17       |   45       |    68      |   253      |   2743     | \n",
       "\n",
       "\n"
      ],
      "text/plain": [
       "  Sym        CT   CL   OT    OL    Len   \n",
       "1 A1BG        159  138   406  1023  17574\n",
       "2 NAT2        120  224   523  1560   9974\n",
       "3 ADA         231  242   604  2323  32221\n",
       "4 CDH2       2701 5215 11812 31968 226481\n",
       "5 ANO1-AS2      7   22    59   240   3000\n",
       "6 ZBTB11-AS1   17   45    68   253   2743"
      ]
     },
     "metadata": {},
     "output_type": "display_data"
    }
   ],
   "source": [
    "head(gene_counts)"
   ]
  },
  {
   "cell_type": "code",
   "execution_count": 11,
   "metadata": {},
   "outputs": [],
   "source": [
    "gstats <- c()\n",
    "gstats$Sym <- gene_counts$Sym\n",
    "gstats$nsites <- rowSums(gene_counts[,2:5])\n",
    "gstats$nsitesw <- rowSums(gene_counts[,2:5])/gene_counts$Len"
   ]
  },
  {
   "cell_type": "code",
   "execution_count": 14,
   "metadata": {},
   "outputs": [
    {
     "data": {
      "text/html": [
       "<table>\n",
       "<thead><tr><th scope=col>Sym</th><th scope=col>nsites</th><th scope=col>nsitesw</th></tr></thead>\n",
       "<tbody>\n",
       "\t<tr><td>A1BG      </td><td> 1726     </td><td>0.09821327</td></tr>\n",
       "\t<tr><td>NAT2      </td><td> 2427     </td><td>0.24333266</td></tr>\n",
       "\t<tr><td>ADA       </td><td> 3400     </td><td>0.10552124</td></tr>\n",
       "\t<tr><td>CDH2      </td><td>51696     </td><td>0.22825756</td></tr>\n",
       "\t<tr><td>ANO1-AS2  </td><td>  328     </td><td>0.10933333</td></tr>\n",
       "\t<tr><td>ZBTB11-AS1</td><td>  383     </td><td>0.13962814</td></tr>\n",
       "</tbody>\n",
       "</table>\n"
      ],
      "text/latex": [
       "\\begin{tabular}{r|lll}\n",
       " Sym & nsites & nsitesw\\\\\n",
       "\\hline\n",
       "\t A1BG       &  1726      & 0.09821327\\\\\n",
       "\t NAT2       &  2427      & 0.24333266\\\\\n",
       "\t ADA        &  3400      & 0.10552124\\\\\n",
       "\t CDH2       & 51696      & 0.22825756\\\\\n",
       "\t ANO1-AS2   &   328      & 0.10933333\\\\\n",
       "\t ZBTB11-AS1 &   383      & 0.13962814\\\\\n",
       "\\end{tabular}\n"
      ],
      "text/markdown": [
       "\n",
       "Sym | nsites | nsitesw | \n",
       "|---|---|---|---|---|---|\n",
       "| A1BG       |  1726      | 0.09821327 | \n",
       "| NAT2       |  2427      | 0.24333266 | \n",
       "| ADA        |  3400      | 0.10552124 | \n",
       "| CDH2       | 51696      | 0.22825756 | \n",
       "| ANO1-AS2   |   328      | 0.10933333 | \n",
       "| ZBTB11-AS1 |   383      | 0.13962814 | \n",
       "\n",
       "\n"
      ],
      "text/plain": [
       "  Sym        nsites nsitesw   \n",
       "1 A1BG        1726  0.09821327\n",
       "2 NAT2        2427  0.24333266\n",
       "3 ADA         3400  0.10552124\n",
       "4 CDH2       51696  0.22825756\n",
       "5 ANO1-AS2     328  0.10933333\n",
       "6 ZBTB11-AS1   383  0.13962814"
      ]
     },
     "metadata": {},
     "output_type": "display_data"
    }
   ],
   "source": [
    "gstats <- data.frame(gstats)\n",
    "head(gstats)"
   ]
  },
  {
   "cell_type": "code",
   "execution_count": 32,
   "metadata": {},
   "outputs": [
    {
     "data": {
      "text/html": [
       "<table>\n",
       "<thead><tr><th></th><th scope=col>Sym</th><th scope=col>nsites</th><th scope=col>nsitesw</th></tr></thead>\n",
       "<tbody>\n",
       "\t<tr><th scope=row>20165</th><td>U2AF1    </td><td>7588003  </td><td>0.2071925</td></tr>\n",
       "\t<tr><th scope=row>4053</th><td>U2AF1L5  </td><td>7587987  </td><td>0.2071923</td></tr>\n",
       "\t<tr><th scope=row>22706</th><td>CBS      </td><td>7587150  </td><td>0.2071177</td></tr>\n",
       "\t<tr><th scope=row>6588</th><td>CRYAA    </td><td>7585399  </td><td>0.2071829</td></tr>\n",
       "\t<tr><th scope=row>4060</th><td>CRYAA2   </td><td>7585372  </td><td>0.2071854</td></tr>\n",
       "\t<tr><th scope=row>3964</th><td>SMIM11B  </td><td>5848872  </td><td>0.2193636</td></tr>\n",
       "\t<tr><th scope=row>1103</th><td>MIR3680-1</td><td>1379575  </td><td>0.1704606</td></tr>\n",
       "\t<tr><th scope=row>17666</th><td>PTPRD    </td><td> 559459  </td><td>0.2434041</td></tr>\n",
       "\t<tr><th scope=row>7747</th><td>DMD      </td><td> 524219  </td><td>0.2338421</td></tr>\n",
       "\t<tr><th scope=row>7735</th><td>DLG2     </td><td> 498575  </td><td>0.2294503</td></tr>\n",
       "</tbody>\n",
       "</table>\n"
      ],
      "text/latex": [
       "\\begin{tabular}{r|lll}\n",
       "  & Sym & nsites & nsitesw\\\\\n",
       "\\hline\n",
       "\t20165 & U2AF1     & 7588003   & 0.2071925\\\\\n",
       "\t4053 & U2AF1L5   & 7587987   & 0.2071923\\\\\n",
       "\t22706 & CBS       & 7587150   & 0.2071177\\\\\n",
       "\t6588 & CRYAA     & 7585399   & 0.2071829\\\\\n",
       "\t4060 & CRYAA2    & 7585372   & 0.2071854\\\\\n",
       "\t3964 & SMIM11B   & 5848872   & 0.2193636\\\\\n",
       "\t1103 & MIR3680-1 & 1379575   & 0.1704606\\\\\n",
       "\t17666 & PTPRD     &  559459   & 0.2434041\\\\\n",
       "\t7747 & DMD       &  524219   & 0.2338421\\\\\n",
       "\t7735 & DLG2      &  498575   & 0.2294503\\\\\n",
       "\\end{tabular}\n"
      ],
      "text/markdown": [
       "\n",
       "| <!--/--> | Sym | nsites | nsitesw | \n",
       "|---|---|---|---|---|---|---|---|---|---|\n",
       "| 20165 | U2AF1     | 7588003   | 0.2071925 | \n",
       "| 4053 | U2AF1L5   | 7587987   | 0.2071923 | \n",
       "| 22706 | CBS       | 7587150   | 0.2071177 | \n",
       "| 6588 | CRYAA     | 7585399   | 0.2071829 | \n",
       "| 4060 | CRYAA2    | 7585372   | 0.2071854 | \n",
       "| 3964 | SMIM11B   | 5848872   | 0.2193636 | \n",
       "| 1103 | MIR3680-1 | 1379575   | 0.1704606 | \n",
       "| 17666 | PTPRD     |  559459   | 0.2434041 | \n",
       "| 7747 | DMD       |  524219   | 0.2338421 | \n",
       "| 7735 | DLG2      |  498575   | 0.2294503 | \n",
       "\n",
       "\n"
      ],
      "text/plain": [
       "      Sym       nsites  nsitesw  \n",
       "20165 U2AF1     7588003 0.2071925\n",
       "4053  U2AF1L5   7587987 0.2071923\n",
       "22706 CBS       7587150 0.2071177\n",
       "6588  CRYAA     7585399 0.2071829\n",
       "4060  CRYAA2    7585372 0.2071854\n",
       "3964  SMIM11B   5848872 0.2193636\n",
       "1103  MIR3680-1 1379575 0.1704606\n",
       "17666 PTPRD      559459 0.2434041\n",
       "7747  DMD        524219 0.2338421\n",
       "7735  DLG2       498575 0.2294503"
      ]
     },
     "metadata": {},
     "output_type": "display_data"
    },
    {
     "data": {
      "text/html": [
       "<table>\n",
       "<thead><tr><th></th><th scope=col>Sym</th><th scope=col>nsites</th><th scope=col>nsitesw</th></tr></thead>\n",
       "<tbody>\n",
       "\t<tr><th scope=row>1643</th><td>MIR4668  </td><td>37       </td><td>0.5285714</td></tr>\n",
       "\t<tr><th scope=row>1081</th><td>MIR3611  </td><td>41       </td><td>0.4939759</td></tr>\n",
       "\t<tr><th scope=row>1706</th><td>MIR4679-2</td><td>35       </td><td>0.4545455</td></tr>\n",
       "\t<tr><th scope=row>2081</th><td>MIR5688  </td><td>37       </td><td>0.4457831</td></tr>\n",
       "\t<tr><th scope=row>751</th><td>NCRUPAR  </td><td>43       </td><td>0.4343434</td></tr>\n",
       "\t<tr><th scope=row>19606</th><td>MIR553   </td><td>28       </td><td>0.4117647</td></tr>\n",
       "\t<tr><th scope=row>1781</th><td>MIR4495  </td><td>27       </td><td>0.4090909</td></tr>\n",
       "\t<tr><th scope=row>905</th><td>MIR3133  </td><td>31       </td><td>0.3974359</td></tr>\n",
       "\t<tr><th scope=row>1901</th><td>MIR4801  </td><td>32       </td><td>0.3902439</td></tr>\n",
       "\t<tr><th scope=row>642</th><td>MIR1252  </td><td>25       </td><td>0.3846154</td></tr>\n",
       "</tbody>\n",
       "</table>\n"
      ],
      "text/latex": [
       "\\begin{tabular}{r|lll}\n",
       "  & Sym & nsites & nsitesw\\\\\n",
       "\\hline\n",
       "\t1643 & MIR4668   & 37        & 0.5285714\\\\\n",
       "\t1081 & MIR3611   & 41        & 0.4939759\\\\\n",
       "\t1706 & MIR4679-2 & 35        & 0.4545455\\\\\n",
       "\t2081 & MIR5688   & 37        & 0.4457831\\\\\n",
       "\t751 & NCRUPAR   & 43        & 0.4343434\\\\\n",
       "\t19606 & MIR553    & 28        & 0.4117647\\\\\n",
       "\t1781 & MIR4495   & 27        & 0.4090909\\\\\n",
       "\t905 & MIR3133   & 31        & 0.3974359\\\\\n",
       "\t1901 & MIR4801   & 32        & 0.3902439\\\\\n",
       "\t642 & MIR1252   & 25        & 0.3846154\\\\\n",
       "\\end{tabular}\n"
      ],
      "text/markdown": [
       "\n",
       "| <!--/--> | Sym | nsites | nsitesw | \n",
       "|---|---|---|---|---|---|---|---|---|---|\n",
       "| 1643 | MIR4668   | 37        | 0.5285714 | \n",
       "| 1081 | MIR3611   | 41        | 0.4939759 | \n",
       "| 1706 | MIR4679-2 | 35        | 0.4545455 | \n",
       "| 2081 | MIR5688   | 37        | 0.4457831 | \n",
       "| 751 | NCRUPAR   | 43        | 0.4343434 | \n",
       "| 19606 | MIR553    | 28        | 0.4117647 | \n",
       "| 1781 | MIR4495   | 27        | 0.4090909 | \n",
       "| 905 | MIR3133   | 31        | 0.3974359 | \n",
       "| 1901 | MIR4801   | 32        | 0.3902439 | \n",
       "| 642 | MIR1252   | 25        | 0.3846154 | \n",
       "\n",
       "\n"
      ],
      "text/plain": [
       "      Sym       nsites nsitesw  \n",
       "1643  MIR4668   37     0.5285714\n",
       "1081  MIR3611   41     0.4939759\n",
       "1706  MIR4679-2 35     0.4545455\n",
       "2081  MIR5688   37     0.4457831\n",
       "751   NCRUPAR   43     0.4343434\n",
       "19606 MIR553    28     0.4117647\n",
       "1781  MIR4495   27     0.4090909\n",
       "905   MIR3133   31     0.3974359\n",
       "1901  MIR4801   32     0.3902439\n",
       "642   MIR1252   25     0.3846154"
      ]
     },
     "metadata": {},
     "output_type": "display_data"
    },
    {
     "data": {
      "text/html": [
       "<table>\n",
       "<thead><tr><th></th><th scope=col>Sym</th><th scope=col>nsites</th><th scope=col>nsitesw</th></tr></thead>\n",
       "<tbody>\n",
       "\t<tr><th scope=row>20165</th><td>U2AF1    </td><td>7588003  </td><td>0.2071925</td></tr>\n",
       "\t<tr><th scope=row>4053</th><td>U2AF1L5  </td><td>7587987  </td><td>0.2071923</td></tr>\n",
       "\t<tr><th scope=row>4060</th><td>CRYAA2   </td><td>7585372  </td><td>0.2071854</td></tr>\n",
       "\t<tr><th scope=row>6588</th><td>CRYAA    </td><td>7585399  </td><td>0.2071829</td></tr>\n",
       "\t<tr><th scope=row>22706</th><td>CBS      </td><td>7587150  </td><td>0.2071177</td></tr>\n",
       "\t<tr><th scope=row>3964</th><td>SMIM11B  </td><td>5848872  </td><td>0.2193636</td></tr>\n",
       "\t<tr><th scope=row>1103</th><td>MIR3680-1</td><td>1379575  </td><td>0.1704606</td></tr>\n",
       "\t<tr><th scope=row>17666</th><td>PTPRD    </td><td> 559459  </td><td>0.2434041</td></tr>\n",
       "\t<tr><th scope=row>7747</th><td>DMD      </td><td> 524219  </td><td>0.2338421</td></tr>\n",
       "\t<tr><th scope=row>12189</th><td>EYS      </td><td> 493417  </td><td>0.2482919</td></tr>\n",
       "</tbody>\n",
       "</table>\n"
      ],
      "text/latex": [
       "\\begin{tabular}{r|lll}\n",
       "  & Sym & nsites & nsitesw\\\\\n",
       "\\hline\n",
       "\t20165 & U2AF1     & 7588003   & 0.2071925\\\\\n",
       "\t4053 & U2AF1L5   & 7587987   & 0.2071923\\\\\n",
       "\t4060 & CRYAA2    & 7585372   & 0.2071854\\\\\n",
       "\t6588 & CRYAA     & 7585399   & 0.2071829\\\\\n",
       "\t22706 & CBS       & 7587150   & 0.2071177\\\\\n",
       "\t3964 & SMIM11B   & 5848872   & 0.2193636\\\\\n",
       "\t1103 & MIR3680-1 & 1379575   & 0.1704606\\\\\n",
       "\t17666 & PTPRD     &  559459   & 0.2434041\\\\\n",
       "\t7747 & DMD       &  524219   & 0.2338421\\\\\n",
       "\t12189 & EYS       &  493417   & 0.2482919\\\\\n",
       "\\end{tabular}\n"
      ],
      "text/markdown": [
       "\n",
       "| <!--/--> | Sym | nsites | nsitesw | \n",
       "|---|---|---|---|---|---|---|---|---|---|\n",
       "| 20165 | U2AF1     | 7588003   | 0.2071925 | \n",
       "| 4053 | U2AF1L5   | 7587987   | 0.2071923 | \n",
       "| 4060 | CRYAA2    | 7585372   | 0.2071854 | \n",
       "| 6588 | CRYAA     | 7585399   | 0.2071829 | \n",
       "| 22706 | CBS       | 7587150   | 0.2071177 | \n",
       "| 3964 | SMIM11B   | 5848872   | 0.2193636 | \n",
       "| 1103 | MIR3680-1 | 1379575   | 0.1704606 | \n",
       "| 17666 | PTPRD     |  559459   | 0.2434041 | \n",
       "| 7747 | DMD       |  524219   | 0.2338421 | \n",
       "| 12189 | EYS       |  493417   | 0.2482919 | \n",
       "\n",
       "\n"
      ],
      "text/plain": [
       "      Sym       nsites  nsitesw  \n",
       "20165 U2AF1     7588003 0.2071925\n",
       "4053  U2AF1L5   7587987 0.2071923\n",
       "4060  CRYAA2    7585372 0.2071854\n",
       "6588  CRYAA     7585399 0.2071829\n",
       "22706 CBS       7587150 0.2071177\n",
       "3964  SMIM11B   5848872 0.2193636\n",
       "1103  MIR3680-1 1379575 0.1704606\n",
       "17666 PTPRD      559459 0.2434041\n",
       "7747  DMD        524219 0.2338421\n",
       "12189 EYS        493417 0.2482919"
      ]
     },
     "metadata": {},
     "output_type": "display_data"
    }
   ],
   "source": [
    "gstats[order(-gstats$nsites),][1:10,]\n",
    "gstats[order(-gstats$nsitesw),][1:10,]\n",
    "gstats[order(-(gstats$nsitesw*gstats$nsites)),][1:10,]"
   ]
  },
  {
   "cell_type": "code",
   "execution_count": 22,
   "metadata": {},
   "outputs": [
    {
     "data": {
      "image/png": "[encoded data removed]",
      "text/plain": [
       "plot without title"
      ]
     },
     "metadata": {},
     "output_type": "display_data"
    }
   ],
   "source": [
    "barplot(gstats$nsitesw[order(-gstats$nsitesw)])"
   ]
  }
 ],
 "metadata": {
  "kernelspec": {
   "display_name": "R",
   "language": "R",
   "name": "ir"
  },
  "language_info": {
   "codemirror_mode": "r",
   "file_extension": ".r",
   "mimetype": "text/x-r-source",
   "name": "R",
   "pygments_lexer": "r",
   "version": "3.4.4"
  }
 },
 "nbformat": 4,
 "nbformat_minor": 2
}
