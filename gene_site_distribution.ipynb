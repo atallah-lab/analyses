{
 "cells": [
  {
   "cell_type": "code",
   "execution_count": 1,
   "metadata": {},
   "outputs": [],
   "source": [
    "load('../sim-develop/data/gene_pdt.rda')"
   ]
  },
  {
   "cell_type": "code",
   "execution_count": 2,
   "metadata": {},
   "outputs": [
    {
     "data": {
      "text/html": [
       "'gene_pdt'"
      ],
      "text/latex": [
       "'gene\\_pdt'"
      ],
      "text/markdown": [
       "'gene_pdt'"
      ],
      "text/plain": [
       "[1] \"gene_pdt\""
      ]
     },
     "metadata": {},
     "output_type": "display_data"
    }
   ],
   "source": [
    "ls()"
   ]
  },
  {
   "cell_type": "code",
   "execution_count": 10,
   "metadata": {},
   "outputs": [
    {
     "data": {
      "text/html": [
       "<table>\n",
       "<thead><tr><th scope=col>chrom</th><th scope=col>geneSym</th><th scope=col>p</th><th scope=col>type</th></tr></thead>\n",
       "<tbody>\n",
       "\t<tr><td>12          </td><td>HELLPAR     </td><td>0.0024151324</td><td>0           </td></tr>\n",
       "\t<tr><td>11          </td><td>KCNQ1OT1    </td><td>0.0008796819</td><td>0           </td></tr>\n",
       "\t<tr><td>2           </td><td>TTN         </td><td>0.0008259759</td><td>0           </td></tr>\n",
       "\t<tr><td>22          </td><td>AC006548.28 </td><td>0.0007037804</td><td>0           </td></tr>\n",
       "\t<tr><td>22          </td><td>RP3-394A18.1</td><td>0.0004883942</td><td>0           </td></tr>\n",
       "\t<tr><td>22          </td><td>RP3-323A16.1</td><td>0.0004561191</td><td>0           </td></tr>\n",
       "\t<tr><td>6           </td><td>ARID1B      </td><td>0.0004528678</td><td>0           </td></tr>\n",
       "\t<tr><td>3           </td><td>ZBTB20      </td><td>0.0004155843</td><td>0           </td></tr>\n",
       "\t<tr><td>18          </td><td>SMAD2       </td><td>0.0004133651</td><td>0           </td></tr>\n",
       "\t<tr><td>13          </td><td>PCDH9       </td><td>0.0004091437</td><td>0           </td></tr>\n",
       "\t<tr><td>14          </td><td>FLRT2       </td><td>0.0004078553</td><td>0           </td></tr>\n",
       "\t<tr><td>6           </td><td>DST         </td><td>0.0004037621</td><td>0           </td></tr>\n",
       "\t<tr><td>12          </td><td>MGAT4C      </td><td>0.0003988650</td><td>0           </td></tr>\n",
       "\t<tr><td>14          </td><td>RPS6KA5     </td><td>0.0003935879</td><td>0           </td></tr>\n",
       "\t<tr><td>2           </td><td>CACNB4      </td><td>0.0003818657</td><td>0           </td></tr>\n",
       "\t<tr><td>X           </td><td>TSIX        </td><td>0.0003812980</td><td>0           </td></tr>\n",
       "\t<tr><td>22          </td><td>MIR4534     </td><td>0.0003773115</td><td>0           </td></tr>\n",
       "\t<tr><td>6           </td><td>SYNE1       </td><td>0.0003758242</td><td>0           </td></tr>\n",
       "\t<tr><td>18          </td><td>TCF4        </td><td>0.0003618502</td><td>0           </td></tr>\n",
       "\t<tr><td>13          </td><td>INTS6       </td><td>0.0003394614</td><td>0           </td></tr>\n",
       "</tbody>\n",
       "</table>\n"
      ],
      "text/latex": [
       "\\begin{tabular}{r|llll}\n",
       " chrom & geneSym & p & type\\\\\n",
       "\\hline\n",
       "\t 12           & HELLPAR      & 0.0024151324 & 0           \\\\\n",
       "\t 11           & KCNQ1OT1     & 0.0008796819 & 0           \\\\\n",
       "\t 2            & TTN          & 0.0008259759 & 0           \\\\\n",
       "\t 22           & AC006548.28  & 0.0007037804 & 0           \\\\\n",
       "\t 22           & RP3-394A18.1 & 0.0004883942 & 0           \\\\\n",
       "\t 22           & RP3-323A16.1 & 0.0004561191 & 0           \\\\\n",
       "\t 6            & ARID1B       & 0.0004528678 & 0           \\\\\n",
       "\t 3            & ZBTB20       & 0.0004155843 & 0           \\\\\n",
       "\t 18           & SMAD2        & 0.0004133651 & 0           \\\\\n",
       "\t 13           & PCDH9        & 0.0004091437 & 0           \\\\\n",
       "\t 14           & FLRT2        & 0.0004078553 & 0           \\\\\n",
       "\t 6            & DST          & 0.0004037621 & 0           \\\\\n",
       "\t 12           & MGAT4C       & 0.0003988650 & 0           \\\\\n",
       "\t 14           & RPS6KA5      & 0.0003935879 & 0           \\\\\n",
       "\t 2            & CACNB4       & 0.0003818657 & 0           \\\\\n",
       "\t X            & TSIX         & 0.0003812980 & 0           \\\\\n",
       "\t 22           & MIR4534      & 0.0003773115 & 0           \\\\\n",
       "\t 6            & SYNE1        & 0.0003758242 & 0           \\\\\n",
       "\t 18           & TCF4         & 0.0003618502 & 0           \\\\\n",
       "\t 13           & INTS6        & 0.0003394614 & 0           \\\\\n",
       "\\end{tabular}\n"
      ],
      "text/markdown": [
       "\n",
       "chrom | geneSym | p | type | \n",
       "|---|---|---|---|---|---|---|---|---|---|---|---|---|---|---|---|---|---|---|---|\n",
       "| 12           | HELLPAR      | 0.0024151324 | 0            | \n",
       "| 11           | KCNQ1OT1     | 0.0008796819 | 0            | \n",
       "| 2            | TTN          | 0.0008259759 | 0            | \n",
       "| 22           | AC006548.28  | 0.0007037804 | 0            | \n",
       "| 22           | RP3-394A18.1 | 0.0004883942 | 0            | \n",
       "| 22           | RP3-323A16.1 | 0.0004561191 | 0            | \n",
       "| 6            | ARID1B       | 0.0004528678 | 0            | \n",
       "| 3            | ZBTB20       | 0.0004155843 | 0            | \n",
       "| 18           | SMAD2        | 0.0004133651 | 0            | \n",
       "| 13           | PCDH9        | 0.0004091437 | 0            | \n",
       "| 14           | FLRT2        | 0.0004078553 | 0            | \n",
       "| 6            | DST          | 0.0004037621 | 0            | \n",
       "| 12           | MGAT4C       | 0.0003988650 | 0            | \n",
       "| 14           | RPS6KA5      | 0.0003935879 | 0            | \n",
       "| 2            | CACNB4       | 0.0003818657 | 0            | \n",
       "| X            | TSIX         | 0.0003812980 | 0            | \n",
       "| 22           | MIR4534      | 0.0003773115 | 0            | \n",
       "| 6            | SYNE1        | 0.0003758242 | 0            | \n",
       "| 18           | TCF4         | 0.0003618502 | 0            | \n",
       "| 13           | INTS6        | 0.0003394614 | 0            | \n",
       "\n",
       "\n"
      ],
      "text/plain": [
       "   chrom geneSym      p            type\n",
       "1  12    HELLPAR      0.0024151324 0   \n",
       "2  11    KCNQ1OT1     0.0008796819 0   \n",
       "3  2     TTN          0.0008259759 0   \n",
       "4  22    AC006548.28  0.0007037804 0   \n",
       "5  22    RP3-394A18.1 0.0004883942 0   \n",
       "6  22    RP3-323A16.1 0.0004561191 0   \n",
       "7  6     ARID1B       0.0004528678 0   \n",
       "8  3     ZBTB20       0.0004155843 0   \n",
       "9  18    SMAD2        0.0004133651 0   \n",
       "10 13    PCDH9        0.0004091437 0   \n",
       "11 14    FLRT2        0.0004078553 0   \n",
       "12 6     DST          0.0004037621 0   \n",
       "13 12    MGAT4C       0.0003988650 0   \n",
       "14 14    RPS6KA5      0.0003935879 0   \n",
       "15 2     CACNB4       0.0003818657 0   \n",
       "16 X     TSIX         0.0003812980 0   \n",
       "17 22    MIR4534      0.0003773115 0   \n",
       "18 6     SYNE1        0.0003758242 0   \n",
       "19 18    TCF4         0.0003618502 0   \n",
       "20 13    INTS6        0.0003394614 0   "
      ]
     },
     "metadata": {},
     "output_type": "display_data"
    }
   ],
   "source": [
    "gene_pdt[order(-gene_pdt$p),][1:20,]"
   ]
  }
 ],
 "metadata": {
  "kernelspec": {
   "display_name": "R",
   "language": "R",
   "name": "ir"
  },
  "language_info": {
   "codemirror_mode": "r",
   "file_extension": ".r",
   "mimetype": "text/x-r-source",
   "name": "R",
   "pygments_lexer": "r",
   "version": "3.5.1"
  }
 },
 "nbformat": 4,
 "nbformat_minor": 2
}
