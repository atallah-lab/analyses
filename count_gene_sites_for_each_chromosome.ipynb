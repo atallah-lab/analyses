{
 "cells": [
  {
   "cell_type": "code",
   "execution_count": 2,
   "metadata": {},
   "outputs": [],
   "source": [
    "library(EnsDb.Hsapiens.v86)\n",
    "library(BSgenome.Hsapiens.UCSC.hg38)\n",
    "library(GenomicRanges)\n",
    "library(data.table)"
   ]
  },
  {
   "cell_type": "code",
   "execution_count": 3,
   "metadata": {},
   "outputs": [
    {
     "data": {
      "text/html": [
       "3088269832"
      ],
      "text/latex": [
       "3088269832"
      ],
      "text/markdown": [
       "3088269832"
      ],
      "text/plain": [
       "[1] 3088269832"
      ]
     },
     "metadata": {},
     "output_type": "display_data"
    }
   ],
   "source": [
    "# Get genome length\n",
    "genome_len <- 0\n",
    "for (i in names(Hsapiens)[1:24]) {\n",
    "    genome_len <- genome_len + length(Hsapiens[[i]])\n",
    "}\n",
    "genome_len"
   ]
  },
  {
   "cell_type": "markdown",
   "metadata": {},
   "source": [
    "### Below we create a gene annotation object from the Ensembl Homo Sapiens v86 gff3 annotation"
   ]
  },
  {
   "cell_type": "code",
   "execution_count": 26,
   "metadata": {},
   "outputs": [
    {
     "name": "stdout",
     "output_type": "stream",
     "text": [
      "\n",
      "Filtering hg38 gtf/gff3 file (Ensembl v86) for gene ranges... \n",
      "Reading gene location table...\n",
      "Done"
     ]
    },
    {
     "data": {
      "text/html": [
       "<table>\n",
       "<thead><tr><th scope=col>chrom</th><th scope=col>start</th><th scope=col>end</th></tr></thead>\n",
       "<tbody>\n",
       "\t<tr><td>1    </td><td>11869</td><td>14409</td></tr>\n",
       "\t<tr><td>1    </td><td>14404</td><td>29570</td></tr>\n",
       "\t<tr><td>1    </td><td>17369</td><td>17436</td></tr>\n",
       "\t<tr><td>1    </td><td>29554</td><td>31109</td></tr>\n",
       "\t<tr><td>1    </td><td>34554</td><td>36081</td></tr>\n",
       "\t<tr><td>1    </td><td>52473</td><td>53312</td></tr>\n",
       "</tbody>\n",
       "</table>\n"
      ],
      "text/latex": [
       "\\begin{tabular}{r|lll}\n",
       " chrom & start & end\\\\\n",
       "\\hline\n",
       "\t 1     & 11869 & 14409\\\\\n",
       "\t 1     & 14404 & 29570\\\\\n",
       "\t 1     & 17369 & 17436\\\\\n",
       "\t 1     & 29554 & 31109\\\\\n",
       "\t 1     & 34554 & 36081\\\\\n",
       "\t 1     & 52473 & 53312\\\\\n",
       "\\end{tabular}\n"
      ],
      "text/markdown": [
       "\n",
       "chrom | start | end | \n",
       "|---|---|---|---|---|---|\n",
       "| 1     | 11869 | 14409 | \n",
       "| 1     | 14404 | 29570 | \n",
       "| 1     | 17369 | 17436 | \n",
       "| 1     | 29554 | 31109 | \n",
       "| 1     | 34554 | 36081 | \n",
       "| 1     | 52473 | 53312 | \n",
       "\n",
       "\n"
      ],
      "text/plain": [
       "  chrom start end  \n",
       "1 1     11869 14409\n",
       "2 1     14404 29570\n",
       "3 1     17369 17436\n",
       "4 1     29554 31109\n",
       "5 1     34554 36081\n",
       "6 1     52473 53312"
      ]
     },
     "metadata": {},
     "output_type": "display_data"
    },
    {
     "name": "stdout",
     "output_type": "stream",
     "text": [
      "58051 genes\n",
      "\n",
      "0.574797676876054 of genome"
     ]
    }
   ],
   "source": [
    "#--- Use system (Unix) commands to extract exon locations from a hg38 .gff3 file\n",
    "cat(\"\\nFiltering hg38 gff3 file (Ensembl v86) for gene ranges... \\n\")\n",
    "system(paste(\"grep ID=gene ../Data/humangenome/Homo_sapiens.GRCh38.86.gff3 > ./tmp\")) # Write lines with gene in third column to a tmp file\n",
    "# system(paste(\"grep biotype=protein_coding ./tmp > ./tmp2\")) # If you want to filter for protein-coding genes only\n",
    "# system(paste(\"awk '$3~/gene/{print}' ../Data/humangenome/Homo_sapiens.GRCh38.86.gtf > ./tmp\")) # For gtf file instead of gff3\n",
    "system(paste(\"cut -f1,4,5 ./tmp > ./tmp3\")) # Extract columns 1, 4, 5 from tmp file, and write result to ../Data directory\n",
    "cat(\"Reading gene location table...\\n\")\n",
    "gann <- read.table(\"./tmp3\") # Read exonic regions into table (chromName\tstart\tend)\n",
    "system(paste(\"rm ./tmp\"))\n",
    "# system(paste(\"rm ./tmp2\"))\n",
    "system(paste(\"rm ./tmp3\"))\n",
    "cat(\"Done\")\n",
    "names(gann) <- c('chrom','start','end')\n",
    "\n",
    "tmp<-c()\n",
    "gann <- GRanges(seqnames=gann$chrom,IRanges(gann$start,gann$end)) # Convert gann into GRanges object (bioconductor)\n",
    "# gann <- reduce(gann) # Reduce to non-overlapping ranges\n",
    "tmp$chrom <- as.vector(seqnames(gann)) # Next lines are for conversion back to data.frame\n",
    "tmp$start <- start(gann)\n",
    "tmp$end <- end(gann)\n",
    "gann <- data.frame(tmp)\n",
    "names(gann) <- c('chrom','start','end')\n",
    "head(gann)\n",
    "cat(paste0(toString(nrow(gann)),' genes'))\n",
    "cat(paste0('\\n\\n',toString(sum(gann$end-gann$start)/genome_len),' of genome'))"
   ]
  },
  {
   "cell_type": "markdown",
   "metadata": {},
   "source": [
    "### Alternatively, we can create a gene annotation object from the EnsemblDb Homo Sapiens v86 Bioconductor database"
   ]
  },
  {
   "cell_type": "code",
   "execution_count": 28,
   "metadata": {},
   "outputs": [
    {
     "data": {
      "text/html": [
       "<table>\n",
       "<thead><tr><th scope=col>chrom</th><th scope=col>start</th><th scope=col>end</th><th scope=col>geneSym</th></tr></thead>\n",
       "<tbody>\n",
       "\t<tr><td>1        </td><td>11869    </td><td>14409    </td><td>DDX11L1  </td></tr>\n",
       "\t<tr><td>1        </td><td>14404    </td><td>29570    </td><td>WASH7P   </td></tr>\n",
       "\t<tr><td>1        </td><td>17369    </td><td>17436    </td><td>MIR6859-1</td></tr>\n",
       "\t<tr><td>1        </td><td>29554    </td><td>31109    </td><td>MIR1302-2</td></tr>\n",
       "\t<tr><td>1        </td><td>34554    </td><td>36081    </td><td>FAM138A  </td></tr>\n",
       "\t<tr><td>1        </td><td>52473    </td><td>53312    </td><td>OR4G4P   </td></tr>\n",
       "</tbody>\n",
       "</table>\n"
      ],
      "text/latex": [
       "\\begin{tabular}{r|llll}\n",
       " chrom & start & end & geneSym\\\\\n",
       "\\hline\n",
       "\t 1         & 11869     & 14409     & DDX11L1  \\\\\n",
       "\t 1         & 14404     & 29570     & WASH7P   \\\\\n",
       "\t 1         & 17369     & 17436     & MIR6859-1\\\\\n",
       "\t 1         & 29554     & 31109     & MIR1302-2\\\\\n",
       "\t 1         & 34554     & 36081     & FAM138A  \\\\\n",
       "\t 1         & 52473     & 53312     & OR4G4P   \\\\\n",
       "\\end{tabular}\n"
      ],
      "text/markdown": [
       "\n",
       "chrom | start | end | geneSym | \n",
       "|---|---|---|---|---|---|\n",
       "| 1         | 11869     | 14409     | DDX11L1   | \n",
       "| 1         | 14404     | 29570     | WASH7P    | \n",
       "| 1         | 17369     | 17436     | MIR6859-1 | \n",
       "| 1         | 29554     | 31109     | MIR1302-2 | \n",
       "| 1         | 34554     | 36081     | FAM138A   | \n",
       "| 1         | 52473     | 53312     | OR4G4P    | \n",
       "\n",
       "\n"
      ],
      "text/plain": [
       "  chrom start end   geneSym  \n",
       "1 1     11869 14409 DDX11L1  \n",
       "2 1     14404 29570 WASH7P   \n",
       "3 1     17369 17436 MIR6859-1\n",
       "4 1     29554 31109 MIR1302-2\n",
       "5 1     34554 36081 FAM138A  \n",
       "6 1     52473 53312 OR4G4P   "
      ]
     },
     "metadata": {},
     "output_type": "display_data"
    },
    {
     "name": "stdout",
     "output_type": "stream",
     "text": [
      "63970 genes\n",
      "\n",
      "0.614410695379937 of genome"
     ]
    }
   ],
   "source": [
    "gann <- genes(EnsDb.Hsapiens.v86)\n",
    "gann <- data.table(chrom=as.vector(seqnames(gann)),start=start(gann),end=end(gann),geneSym=gann$gene_name)\n",
    "head(gann)\n",
    "cat(paste0(toString(nrow(gann)),' genes'))\n",
    "cat(paste0('\\n\\n',toString(sum(gann$end-gann$start)/genome_len),' of genome'))"
   ]
  },
  {
   "cell_type": "markdown",
   "metadata": {},
   "source": [
    "### We can also filter the database for only genes with biotype of protein-coding"
   ]
  },
  {
   "cell_type": "code",
   "execution_count": 23,
   "metadata": {},
   "outputs": [
    {
     "data": {
      "text/html": [
       "<table>\n",
       "<thead><tr><th scope=col>chrom</th><th scope=col>start</th><th scope=col>end</th><th scope=col>geneSym</th></tr></thead>\n",
       "<tbody>\n",
       "\t<tr><td>1         </td><td> 69091    </td><td> 70008    </td><td>OR4F5     </td></tr>\n",
       "\t<tr><td>1         </td><td>182393    </td><td>184158    </td><td>FO538757.2</td></tr>\n",
       "\t<tr><td>1         </td><td>184923    </td><td>200322    </td><td>FO538757.1</td></tr>\n",
       "\t<tr><td>1         </td><td>450740    </td><td>451678    </td><td>OR4F29    </td></tr>\n",
       "\t<tr><td>1         </td><td>685716    </td><td>686654    </td><td>OR4F16    </td></tr>\n",
       "\t<tr><td>1         </td><td>923928    </td><td>944581    </td><td>SAMD11    </td></tr>\n",
       "</tbody>\n",
       "</table>\n"
      ],
      "text/latex": [
       "\\begin{tabular}{r|llll}\n",
       " chrom & start & end & geneSym\\\\\n",
       "\\hline\n",
       "\t 1          &  69091     &  70008     & OR4F5     \\\\\n",
       "\t 1          & 182393     & 184158     & FO538757.2\\\\\n",
       "\t 1          & 184923     & 200322     & FO538757.1\\\\\n",
       "\t 1          & 450740     & 451678     & OR4F29    \\\\\n",
       "\t 1          & 685716     & 686654     & OR4F16    \\\\\n",
       "\t 1          & 923928     & 944581     & SAMD11    \\\\\n",
       "\\end{tabular}\n"
      ],
      "text/markdown": [
       "\n",
       "chrom | start | end | geneSym | \n",
       "|---|---|---|---|---|---|\n",
       "| 1          |  69091     |  70008     | OR4F5      | \n",
       "| 1          | 182393     | 184158     | FO538757.2 | \n",
       "| 1          | 184923     | 200322     | FO538757.1 | \n",
       "| 1          | 450740     | 451678     | OR4F29     | \n",
       "| 1          | 685716     | 686654     | OR4F16     | \n",
       "| 1          | 923928     | 944581     | SAMD11     | \n",
       "\n",
       "\n"
      ],
      "text/plain": [
       "  chrom start  end    geneSym   \n",
       "1 1      69091  70008 OR4F5     \n",
       "2 1     182393 184158 FO538757.2\n",
       "3 1     184923 200322 FO538757.1\n",
       "4 1     450740 451678 OR4F29    \n",
       "5 1     685716 686654 OR4F16    \n",
       "6 1     923928 944581 SAMD11    "
      ]
     },
     "metadata": {},
     "output_type": "display_data"
    },
    {
     "name": "stdout",
     "output_type": "stream",
     "text": [
      "22285 genes\n",
      "\n",
      "0.452765256297073 of genome"
     ]
    }
   ],
   "source": [
    "gann <- genes(EnsDb.Hsapiens.v86,filter=GeneBiotypeFilter('protein_coding'))\n",
    "gann <- data.table(chrom=as.vector(seqnames(gann)),start=start(gann),end=end(gann),geneSym=gann$gene_name)\n",
    "head(gann)\n",
    "cat(paste0(toString(nrow(gann)),' genes'))\n",
    "cat(paste0('\\n\\n',toString(sum(gann$end-gann$start)/genome_len),' of genome'))"
   ]
  },
  {
   "cell_type": "markdown",
   "metadata": {},
   "source": [
    "### After choosing the annotation, we count the L1 target sites in gene regions for each chromosome (as well as some other columns, see comments below)"
   ]
  },
  {
   "cell_type": "code",
   "execution_count": null,
   "metadata": {},
   "outputs": [],
   "source": [
    "gene_counts <- \tarray(0,dim=c(24,9)) # Allocate memory for a 2D array containing counts of gene insertion sites of each S-V type for each chromosome, and other information\n",
    "\n",
    "#--- Loop through chromosome names\n",
    "j<-1\n",
    "for (i in names(Hsapiens)[1:24]){\n",
    "\n",
    "\tcat(\"\\nProccessing \",i,\"...\")\n",
    "\tload(paste0(\"../Data/root_maps/\",i,\".rda\")) # Load map file for current chromosome\n",
    "\n",
    "\t# Data objects containing indices of S-V sites for each category are labeled with the chromosome name.\n",
    "\t# Here we copy the data objects to a set of new names which can be used consistently in the following\n",
    "    # code.\n",
    "\tmap<-get(paste0(i,\"Map\"))\t\n",
    "        ict<-map$ict\n",
    "        icl<-map$icl\n",
    "        iot<-map$iot\n",
    "        iol<-map$iol\n",
    "        insites<-map$insites\n",
    "\n",
    "\t# Extract gene regions for the current chromosome\n",
    "\tchrno<-strsplit(i,\"chr\")[[1]][2] # Get the current chromosome number (or letter)\n",
    "\tgann_i <- gann[gann$chrom == chrno,] # Extract a subset of the 'gann' table for regions in the current chromosome\n",
    "\n",
    "\t# Fill in columns 1-4 of the row of the gene_counts array corresponding to current chromosome.\n",
    "\t# These columns contain the number of sites of each S-V category lying within genes \n",
    "\t# Categories are in this order: closed-tight, closed-loose, open-tight, open-loose\n",
    "\ttmp     <-inrange(insites[ict[which(!is.na(ict[,1])),1],1],gann_i$start,gann_i$end) # Check if any Closed-Tight category sites are within the start-end range of gann_i\n",
    "\ttmp2    <-inrange(insites[ict[which(!is.na(ict[,2])),2],2],gann_i$start,gann_i$end) \n",
    "\tgene_counts[j,1]<-length(which(tmp == TRUE)) + length(which(tmp2==TRUE)) \t  # Fill an element of the gene_counts table with the count\n",
    "\ttmp     <-inrange(insites[icl[which(!is.na(icl[,1])),1],1],gann_i$start,gann_i$end) # Check if any Closed-Tight category sites are within the start-end range of gann_i\n",
    "    tmp2    <-inrange(insites[icl[which(!is.na(icl[,2])),2],2],gann_i$start,gann_i$end)\n",
    "\tgene_counts[j,2]<-length(which(tmp == TRUE)) + length(which(tmp2==TRUE))\n",
    "\ttmp     <-inrange(insites[iot[which(!is.na(iot[,1])),1],1],gann_i$start,gann_i$end) # Check if any Closed-Tight category sites are within the start-end range of gann_i\n",
    "\ttmp2    <-inrange(insites[iot[which(!is.na(iot[,2])),2],2],gann_i$start,gann_i$end)\n",
    "\tgene_counts[j,3]<-length(which(tmp == TRUE)) + length(which(tmp2==TRUE))\n",
    "    tmp     <-inrange(insites[iol[which(!is.na(iol[,1])),1],1],gann_i$start,gann_i$end) # Check if any Closed-Tight category sites are within the start-end range of gann_i\n",
    "\ttmp2    <-inrange(insites[iol[which(!is.na(iol[,2])),2],2],gann_i$start,gann_i$end)\n",
    "\tgene_counts[j,4]<-length(which(tmp == TRUE)) + length(which(tmp2==TRUE))  \n",
    "\n",
    "\n",
    "\t# Fill in columns 5-8 of the row of the gene_counts array corresponding to current chromosome.\n",
    "\t# These columns contain the total number of sites of each category\n",
    "\tgene_counts[j,5]<-length(which(!is.na(ict)))\n",
    "\tgene_counts[j,6]<-length(which(!is.na(icl)))\n",
    "\tgene_counts[j,7]<-length(which(!is.na(iot)))\n",
    "\tgene_counts[j,8]<-length(which(!is.na(iol)))\n",
    "\n",
    "\t# The last column contains the gene fraction of the current chromosome\n",
    "\ttmp<-IRanges(gann_i$start,gann_i$end)\n",
    "\tgene_counts[j,9] <- sum(width(tmp))/length(Hsapiens[[i]])\n",
    "\n",
    "\tj<-j+1\n",
    "}"
   ]
  },
  {
   "cell_type": "code",
   "execution_count": null,
   "metadata": {},
   "outputs": [],
   "source": [
    "write.csv(gene_counts,file=\"~/jackgl/gene_counts.csv\")"
   ]
  }
 ],
 "metadata": {
  "kernelspec": {
   "display_name": "R",
   "language": "R",
   "name": "ir"
  },
  "language_info": {
   "codemirror_mode": "r",
   "file_extension": ".r",
   "mimetype": "text/x-r-source",
   "name": "R",
   "pygments_lexer": "r",
   "version": "3.5.1"
  }
 },
 "nbformat": 4,
 "nbformat_minor": 2
}
