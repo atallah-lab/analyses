{
 "cells": [
  {
   "cell_type": "code",
   "execution_count": 5,
   "metadata": {},
   "outputs": [],
   "source": [
    "library(BSgenome.Hsapiens.UCSC.hg38)\n",
    "library(EnsDb.Hsapiens.v86)\n",
    "library(data.table)\n",
    "for (i in names(Hsapiens)[1:24]){ # load all chromosome map files\n",
    "        load(paste0('../sim-develop/data/root_maps/',i,'.rda'))\n",
    "}\n",
    "chroms <- c(1:22,'X','Y')\n",
    "\n",
    "gann <- genes(EnsDb.Hsapiens.v86)\n",
    "# gann <- genes(EnsDb.Hsapiens.v86,filter=GeneBiotypeFilter(\"protein_coding\"))\n",
    "gann <- data.table(chrom=as.vector(seqnames(gann)),start=start(gann),end=end(gann),geneSym=gann$gene_name)\n",
    "gann <- gann[gann$chrom %in% chroms]"
   ]
  },
  {
   "cell_type": "code",
   "execution_count": 6,
   "metadata": {},
   "outputs": [
    {
     "data": {
      "text/html": [
       "<table>\n",
       "<thead><tr><th scope=col>chrom</th><th scope=col>start</th><th scope=col>end</th><th scope=col>geneSym</th></tr></thead>\n",
       "<tbody>\n",
       "\t<tr><td>1        </td><td>11869    </td><td>14409    </td><td>DDX11L1  </td></tr>\n",
       "\t<tr><td>1        </td><td>14404    </td><td>29570    </td><td>WASH7P   </td></tr>\n",
       "\t<tr><td>1        </td><td>17369    </td><td>17436    </td><td>MIR6859-1</td></tr>\n",
       "\t<tr><td>1        </td><td>29554    </td><td>31109    </td><td>MIR1302-2</td></tr>\n",
       "\t<tr><td>1        </td><td>34554    </td><td>36081    </td><td>FAM138A  </td></tr>\n",
       "\t<tr><td>1        </td><td>52473    </td><td>53312    </td><td>OR4G4P   </td></tr>\n",
       "</tbody>\n",
       "</table>\n"
      ],
      "text/latex": [
       "\\begin{tabular}{r|llll}\n",
       " chrom & start & end & geneSym\\\\\n",
       "\\hline\n",
       "\t 1         & 11869     & 14409     & DDX11L1  \\\\\n",
       "\t 1         & 14404     & 29570     & WASH7P   \\\\\n",
       "\t 1         & 17369     & 17436     & MIR6859-1\\\\\n",
       "\t 1         & 29554     & 31109     & MIR1302-2\\\\\n",
       "\t 1         & 34554     & 36081     & FAM138A  \\\\\n",
       "\t 1         & 52473     & 53312     & OR4G4P   \\\\\n",
       "\\end{tabular}\n"
      ],
      "text/markdown": [
       "\n",
       "chrom | start | end | geneSym | \n",
       "|---|---|---|---|---|---|\n",
       "| 1         | 11869     | 14409     | DDX11L1   | \n",
       "| 1         | 14404     | 29570     | WASH7P    | \n",
       "| 1         | 17369     | 17436     | MIR6859-1 | \n",
       "| 1         | 29554     | 31109     | MIR1302-2 | \n",
       "| 1         | 34554     | 36081     | FAM138A   | \n",
       "| 1         | 52473     | 53312     | OR4G4P    | \n",
       "\n",
       "\n"
      ],
      "text/plain": [
       "  chrom start end   geneSym  \n",
       "1 1     11869 14409 DDX11L1  \n",
       "2 1     14404 29570 WASH7P   \n",
       "3 1     17369 17436 MIR6859-1\n",
       "4 1     29554 31109 MIR1302-2\n",
       "5 1     34554 36081 FAM138A  \n",
       "6 1     52473 53312 OR4G4P   "
      ]
     },
     "metadata": {},
     "output_type": "display_data"
    }
   ],
   "source": [
    "head(gann)"
   ]
  },
  {
   "cell_type": "code",
   "execution_count": 7,
   "metadata": {
    "scrolled": true
   },
   "outputs": [
    {
     "data": {
      "text/html": [
       "<table>\n",
       "<thead><tr><th scope=col>chrom</th><th scope=col>start</th><th scope=col>end</th></tr></thead>\n",
       "<tbody>\n",
       "\t<tr><td>1     </td><td>11869 </td><td> 31109</td></tr>\n",
       "\t<tr><td>1     </td><td>34554 </td><td> 36081</td></tr>\n",
       "\t<tr><td>1     </td><td>52473 </td><td> 53312</td></tr>\n",
       "\t<tr><td>1     </td><td>62948 </td><td> 63887</td></tr>\n",
       "\t<tr><td>1     </td><td>69091 </td><td> 70008</td></tr>\n",
       "\t<tr><td>1     </td><td>89295 </td><td>134836</td></tr>\n",
       "</tbody>\n",
       "</table>\n"
      ],
      "text/latex": [
       "\\begin{tabular}{r|lll}\n",
       " chrom & start & end\\\\\n",
       "\\hline\n",
       "\t 1      & 11869  &  31109\\\\\n",
       "\t 1      & 34554  &  36081\\\\\n",
       "\t 1      & 52473  &  53312\\\\\n",
       "\t 1      & 62948  &  63887\\\\\n",
       "\t 1      & 69091  &  70008\\\\\n",
       "\t 1      & 89295  & 134836\\\\\n",
       "\\end{tabular}\n"
      ],
      "text/markdown": [
       "\n",
       "chrom | start | end | \n",
       "|---|---|---|---|---|---|\n",
       "| 1      | 11869  |  31109 | \n",
       "| 1      | 34554  |  36081 | \n",
       "| 1      | 52473  |  53312 | \n",
       "| 1      | 62948  |  63887 | \n",
       "| 1      | 69091  |  70008 | \n",
       "| 1      | 89295  | 134836 | \n",
       "\n",
       "\n"
      ],
      "text/plain": [
       "  chrom start end   \n",
       "1 1     11869  31109\n",
       "2 1     34554  36081\n",
       "3 1     52473  53312\n",
       "4 1     62948  63887\n",
       "5 1     69091  70008\n",
       "6 1     89295 134836"
      ]
     },
     "metadata": {},
     "output_type": "display_data"
    }
   ],
   "source": [
    "# Take the union of overlapping gene ranges, and omit parent gene data\n",
    "gann <- GRanges(gann$chrom,IRanges(gann$start,gann$end))\n",
    "gann <- reduce(gann)\n",
    "gann <- data.table(chrom=as.vector(seqnames(gann)),start=start(gann),end=end(gann))\n",
    "head(gann)"
   ]
  },
  {
   "cell_type": "markdown",
   "metadata": {},
   "source": [
    "#### In the cell below, we count the number of L1 target sites of each Snap-Velcro type in genes and non-gene regions"
   ]
  },
  {
   "cell_type": "code",
   "execution_count": 8,
   "metadata": {},
   "outputs": [],
   "source": [
    "counts <-  array(0,dim=c(24,8)) # Allocate matrix for counts\n",
    "gene_lens <- rep(0,24)\n",
    "\n",
    "#--- Loop through chromosome names\n",
    "j<-1 # chromosome counter\n",
    "for (i in names(Hsapiens)[1:24]){\n",
    "\n",
    "\n",
    "        # Data objects containing indices of S-V sites for each category are labeled with the chromosome name.\n",
    "        # Here we copy the data objects to a set of variables with generic names which can be used consistently \n",
    "        # in the loop. \n",
    "        map<-get(paste0(i,'Map')) # Get the site map data for the current chrom\n",
    "        ict<-    map[[2]]\n",
    "        icl<-    map[[3]]\n",
    "        iot<-    map[[4]]\n",
    "        iol<-    map[[5]]\n",
    "        insites<-map[[1]] \n",
    "    \n",
    "        i <- strsplit(i,\"chr\")[[1]][2] # Remove \"chr\" from chromosome name\n",
    "\n",
    "################################################\n",
    "        # count in genes for current chromosome (columns 1-4)\n",
    "        ann_i <- gann[gann$chrom == i,] \n",
    "    \n",
    "        sen        <-inrange(insites[ict[!is.na(ict[,1]),1],1],ann_i$start,ann_i$end) # Check if any Closed-Tight category sites are within the start-end range of ann_i\n",
    "        antisen    <-inrange(insites[ict[!is.na(ict[,2]),2],2],ann_i$start,ann_i$end) \n",
    "        counts[j,1]<-length(which(sen)) + length(which(antisen))                      # Fill an element of the counts table with the count\n",
    "        \n",
    "        sen        <-inrange(insites[icl[!is.na(icl[,1]),1],1],ann_i$start,ann_i$end) \n",
    "        antisen    <-inrange(insites[icl[!is.na(icl[,2]),2],2],ann_i$start,ann_i$end)\n",
    "        counts[j,2]<-length(which(sen)) + length(which(antisen))\n",
    "        \n",
    "        sen        <-inrange(insites[iot[!is.na(iot[,1]),1],1],ann_i$start,ann_i$end) \n",
    "        antisen    <-inrange(insites[iot[!is.na(iot[,2]),2],2],ann_i$start,ann_i$end)\n",
    "        counts[j,3]<-length(which(sen)) + length(which(antisen))\n",
    "        \n",
    "        sen        <-inrange(insites[iol[!is.na(iol[,1]),1],1],ann_i$start,ann_i$end) \n",
    "        antisen    <-inrange(insites[iol[!is.na(iol[,2]),2],2],ann_i$start,ann_i$end)\n",
    "        counts[j,4]<-length(which(sen)) + length(which(antisen))  \n",
    "    \n",
    "################################################\n",
    "        # count in non-genes for current chromosome (columns 5-8)\n",
    "        \n",
    "        counts[j,5]   <- length(which(!is.na(as.vector(ict)))) - counts[j,1]\n",
    "        counts[j,6]  <- length(which(!is.na(as.vector(icl)))) - counts[j,2]\n",
    "        counts[j,7]  <- length(which(!is.na(as.vector(iot)))) - counts[j,3]\n",
    "        counts[j,8]  <- length(which(!is.na(as.vector(iol)))) - counts[j,4]\n",
    "    \n",
    "        gene_lens[j] <- sum(ann_i$end-ann_i$start)\n",
    "    \n",
    "        j<-j+1\n",
    "        rm('sen','antisen')\n",
    "}"
   ]
  },
  {
   "cell_type": "code",
   "execution_count": 9,
   "metadata": {},
   "outputs": [],
   "source": [
    "colnames(counts) <- c('ct_gene','cl_gene','ot_gene','ol_gene','ct_nongene','cl_nongene','ot_nongene','ol_nongene')\n",
    "rownames(counts) <- names(Hsapiens)[1:24]\n",
    "# counts"
   ]
  },
  {
   "cell_type": "markdown",
   "metadata": {},
   "source": [
    "Here we account for male and female diploid genomes"
   ]
  },
  {
   "cell_type": "markdown",
   "metadata": {},
   "source": [
    "#### Male"
   ]
  },
  {
   "cell_type": "code",
   "execution_count": 10,
   "metadata": {},
   "outputs": [],
   "source": [
    "# Male genome - double the count for chromosomes 1:22\n",
    "counts_dipl_m <- counts\n",
    "counts_dipl_m[1:22,]<-counts_dipl_m[1:22,]*2\n",
    "# counts_dipl_m"
   ]
  },
  {
   "cell_type": "markdown",
   "metadata": {},
   "source": [
    "#### Female"
   ]
  },
  {
   "cell_type": "code",
   "execution_count": 11,
   "metadata": {},
   "outputs": [],
   "source": [
    "# Female genome - double the counts for chroms. 1:23; count for chrom. Y is set to 0\n",
    "counts_dipl_f <- counts\n",
    "counts_dipl_f[1:23,]<-counts_dipl_f[1:23,]*2\n",
    "counts_dipl_f[24,]<-counts_dipl_f[24,]*0\n",
    "# counts_dipl_f"
   ]
  },
  {
   "cell_type": "markdown",
   "metadata": {},
   "source": [
    "## Calculating probabilities of ENd (endonuclease-dependent) gene vs non-gene insertion"
   ]
  },
  {
   "cell_type": "markdown",
   "metadata": {},
   "source": [
    "#### Male"
   ]
  },
  {
   "cell_type": "code",
   "execution_count": 12,
   "metadata": {},
   "outputs": [
    {
     "data": {
      "text/html": [
       "<ol class=list-inline>\n",
       "\t<li>0.54306400612033</li>\n",
       "\t<li>0.45693599387967</li>\n",
       "</ol>\n"
      ],
      "text/latex": [
       "\\begin{enumerate*}\n",
       "\\item 0.54306400612033\n",
       "\\item 0.45693599387967\n",
       "\\end{enumerate*}\n"
      ],
      "text/markdown": [
       "1. 0.54306400612033\n",
       "2. 0.45693599387967\n",
       "\n",
       "\n"
      ],
      "text/plain": [
       "[1] 0.543064 0.456936"
      ]
     },
     "metadata": {},
     "output_type": "display_data"
    }
   ],
   "source": [
    "counts_ovchr_m <- colSums(counts_dipl_m)\n",
    "probs_ENd_m <- rep(0,2)\n",
    "for (i in 1:2){\n",
    "    probs_ENd_m[i] = 11.55*counts_ovchr_m[(i-1)*4+1] + \n",
    "                   7.25*counts_ovchr_m[(i-1)*4+2] + \n",
    "                   1.95*counts_ovchr_m[(i-1)*4+3] + \n",
    "                   1*counts_ovchr_m[(i-1)*4+4]\n",
    "}\n",
    "probs_ENd_m <- probs_ENd_m/sum(probs_ENd_m)\n",
    "probs_ENd_m"
   ]
  },
  {
   "cell_type": "markdown",
   "metadata": {},
   "source": [
    "#### Female"
   ]
  },
  {
   "cell_type": "code",
   "execution_count": 13,
   "metadata": {},
   "outputs": [
    {
     "data": {
      "text/html": [
       "<ol class=list-inline>\n",
       "\t<li>0.539885278520367</li>\n",
       "\t<li>0.460114721479633</li>\n",
       "</ol>\n"
      ],
      "text/latex": [
       "\\begin{enumerate*}\n",
       "\\item 0.539885278520367\n",
       "\\item 0.460114721479633\n",
       "\\end{enumerate*}\n"
      ],
      "text/markdown": [
       "1. 0.539885278520367\n",
       "2. 0.460114721479633\n",
       "\n",
       "\n"
      ],
      "text/plain": [
       "[1] 0.5398853 0.4601147"
      ]
     },
     "metadata": {},
     "output_type": "display_data"
    }
   ],
   "source": [
    "counts_ovchr_f <- colSums(counts_dipl_f)\n",
    "probs_ENd_f <- rep(0,2)\n",
    "for (i in 1:2){\n",
    "    probs_ENd_f[i] = 11.55*counts_ovchr_f[(i-1)*4+1] + \n",
    "                   7.25*counts_ovchr_f[(i-1)*4+2] + \n",
    "                   1.95*counts_ovchr_f[(i-1)*4+3] + \n",
    "                   1*counts_ovchr_f[(i-1)*4+4]\n",
    "}\n",
    "probs_ENd_f <- probs_ENd_f/sum(probs_ENd_f)\n",
    "probs_ENd_f"
   ]
  },
  {
   "cell_type": "markdown",
   "metadata": {},
   "source": [
    "## Calculating probabilities of ENi (endonuclease-independent) gene vs non-gene insertion"
   ]
  },
  {
   "cell_type": "code",
   "execution_count": 14,
   "metadata": {},
   "outputs": [
    {
     "data": {
      "text/html": [
       "3088269832"
      ],
      "text/latex": [
       "3088269832"
      ],
      "text/markdown": [
       "3088269832"
      ],
      "text/plain": [
       "[1] 3088269832"
      ]
     },
     "metadata": {},
     "output_type": "display_data"
    }
   ],
   "source": [
    "chrlens <- rep(0,24)\n",
    "for (i in 1:24){\n",
    "    chrlens[i] <- length(Hsapiens[[i]])\n",
    "}\n",
    "sum(chrlens)"
   ]
  },
  {
   "cell_type": "markdown",
   "metadata": {},
   "source": [
    "#### Male"
   ]
  },
  {
   "cell_type": "code",
   "execution_count": 15,
   "metadata": {},
   "outputs": [
    {
     "data": {
      "text/html": [
       "<ol class=list-inline>\n",
       "\t<li>0.525419244237196</li>\n",
       "\t<li>0.474580755762804</li>\n",
       "</ol>\n"
      ],
      "text/latex": [
       "\\begin{enumerate*}\n",
       "\\item 0.525419244237196\n",
       "\\item 0.474580755762804\n",
       "\\end{enumerate*}\n"
      ],
      "text/markdown": [
       "1. 0.525419244237196\n",
       "2. 0.474580755762804\n",
       "\n",
       "\n"
      ],
      "text/plain": [
       "[1] 0.5254192 0.4745808"
      ]
     },
     "metadata": {},
     "output_type": "display_data"
    }
   ],
   "source": [
    "probs_ENi_m <- rep(0,2)\n",
    "probs_ENi_m[1] <- (sum(gene_lens[1:22]*2)+sum(gene_lens[23:24]))/(sum(chrlens[1:22]*2)+sum(chrlens[23:24]))\n",
    "probs_ENi_m[2] <- 1-probs_ENi_m[1]\n",
    "probs_ENi_m"
   ]
  },
  {
   "cell_type": "markdown",
   "metadata": {},
   "source": [
    "#### Female"
   ]
  },
  {
   "cell_type": "code",
   "execution_count": 16,
   "metadata": {},
   "outputs": [
    {
     "data": {
      "text/html": [
       "<ol class=list-inline>\n",
       "\t<li>0.525729847943596</li>\n",
       "\t<li>0.474270152056404</li>\n",
       "</ol>\n"
      ],
      "text/latex": [
       "\\begin{enumerate*}\n",
       "\\item 0.525729847943596\n",
       "\\item 0.474270152056404\n",
       "\\end{enumerate*}\n"
      ],
      "text/markdown": [
       "1. 0.525729847943596\n",
       "2. 0.474270152056404\n",
       "\n",
       "\n"
      ],
      "text/plain": [
       "[1] 0.5257298 0.4742702"
      ]
     },
     "metadata": {},
     "output_type": "display_data"
    }
   ],
   "source": [
    "probs_ENi_f <- rep(0,2)\n",
    "probs_ENi_f[1] <- sum(gene_lens[1:23]*2)/sum(chrlens[1:23]*2)\n",
    "probs_ENi_f[2] <- 1-probs_ENi_f[1]\n",
    "probs_ENi_f"
   ]
  },
  {
   "cell_type": "markdown",
   "metadata": {},
   "source": [
    "## Calculating final probabilities of gene vs non-gene insertion"
   ]
  },
  {
   "cell_type": "markdown",
   "metadata": {},
   "source": [
    "#### Male"
   ]
  },
  {
   "cell_type": "code",
   "execution_count": 17,
   "metadata": {},
   "outputs": [
    {
     "data": {
      "text/html": [
       "<ol class=list-inline>\n",
       "\t<li>0.541299529932017</li>\n",
       "\t<li>0.458700470067983</li>\n",
       "</ol>\n"
      ],
      "text/latex": [
       "\\begin{enumerate*}\n",
       "\\item 0.541299529932017\n",
       "\\item 0.458700470067983\n",
       "\\end{enumerate*}\n"
      ],
      "text/markdown": [
       "1. 0.541299529932017\n",
       "2. 0.458700470067983\n",
       "\n",
       "\n"
      ],
      "text/plain": [
       "[1] 0.5412995 0.4587005"
      ]
     },
     "metadata": {},
     "output_type": "display_data"
    }
   ],
   "source": [
    "pd_gnvsnon_m <- (.9*probs_ENd_m)+(0.1*probs_ENi_m) # Assuming 0.9 probability that insertion will be ENd and 0.1 for ENi\n",
    "pd_gnvsnon_m <- pd_gnvsnon_m/sum(pd_gnvsnon_m)\n",
    "pd_gnvsnon_m"
   ]
  },
  {
   "cell_type": "markdown",
   "metadata": {},
   "source": [
    "#### Female"
   ]
  },
  {
   "cell_type": "code",
   "execution_count": 18,
   "metadata": {},
   "outputs": [
    {
     "data": {
      "text/html": [
       "<ol class=list-inline>\n",
       "\t<li>0.53846973546269</li>\n",
       "\t<li>0.46153026453731</li>\n",
       "</ol>\n"
      ],
      "text/latex": [
       "\\begin{enumerate*}\n",
       "\\item 0.53846973546269\n",
       "\\item 0.46153026453731\n",
       "\\end{enumerate*}\n"
      ],
      "text/markdown": [
       "1. 0.53846973546269\n",
       "2. 0.46153026453731\n",
       "\n",
       "\n"
      ],
      "text/plain": [
       "[1] 0.5384697 0.4615303"
      ]
     },
     "metadata": {},
     "output_type": "display_data"
    }
   ],
   "source": [
    "pd_gnvsnon_f <- (.9*probs_ENd_f)+(0.1*probs_ENi_f) # Assuming 0.9 probability that insertion will be ENd and 0.1 for ENi\n",
    "pd_gnvsnon_f <- pd_gnvsnon_f/sum(pd_gnvsnon_f)\n",
    "pd_gnvsnon_f"
   ]
  },
  {
   "cell_type": "code",
   "execution_count": 19,
   "metadata": {
    "scrolled": false
   },
   "outputs": [
    {
     "data": {
      "text/html": [
       "<table>\n",
       "<thead><tr><th scope=col>gene_lens</th><th scope=col>chrlens</th></tr></thead>\n",
       "<tbody>\n",
       "\t<tr><td>133088986</td><td>248956422</td></tr>\n",
       "\t<tr><td>135587963</td><td>242193529</td></tr>\n",
       "\t<tr><td>119424238</td><td>198295559</td></tr>\n",
       "\t<tr><td> 95612228</td><td>190214555</td></tr>\n",
       "\t<tr><td> 94539903</td><td>181538259</td></tr>\n",
       "\t<tr><td> 84854934</td><td>170805979</td></tr>\n",
       "\t<tr><td> 91509773</td><td>159345973</td></tr>\n",
       "\t<tr><td> 80702568</td><td>145138636</td></tr>\n",
       "\t<tr><td> 60557467</td><td>138394717</td></tr>\n",
       "\t<tr><td> 72469213</td><td>133797422</td></tr>\n",
       "\t<tr><td> 77246320</td><td>135086622</td></tr>\n",
       "\t<tr><td> 79750443</td><td>133275309</td></tr>\n",
       "\t<tr><td> 41970257</td><td>114364328</td></tr>\n",
       "\t<tr><td> 52899062</td><td>107043718</td></tr>\n",
       "\t<tr><td> 56812957</td><td>101991189</td></tr>\n",
       "\t<tr><td> 49629324</td><td> 90338345</td></tr>\n",
       "\t<tr><td> 52981006</td><td> 83257441</td></tr>\n",
       "\t<tr><td> 39000505</td><td> 80373285</td></tr>\n",
       "\t<tr><td> 38096040</td><td> 58617616</td></tr>\n",
       "\t<tr><td> 33285422</td><td> 64444167</td></tr>\n",
       "\t<tr><td> 20285702</td><td> 46709983</td></tr>\n",
       "\t<tr><td> 23129083</td><td> 50818468</td></tr>\n",
       "\t<tr><td> 60076075</td><td>156040895</td></tr>\n",
       "\t<tr><td>  6274665</td><td> 57227415</td></tr>\n",
       "</tbody>\n",
       "</table>\n"
      ],
      "text/latex": [
       "\\begin{tabular}{ll}\n",
       " gene\\_lens & chrlens\\\\\n",
       "\\hline\n",
       "\t 133088986 & 248956422\\\\\n",
       "\t 135587963 & 242193529\\\\\n",
       "\t 119424238 & 198295559\\\\\n",
       "\t  95612228 & 190214555\\\\\n",
       "\t  94539903 & 181538259\\\\\n",
       "\t  84854934 & 170805979\\\\\n",
       "\t  91509773 & 159345973\\\\\n",
       "\t  80702568 & 145138636\\\\\n",
       "\t  60557467 & 138394717\\\\\n",
       "\t  72469213 & 133797422\\\\\n",
       "\t  77246320 & 135086622\\\\\n",
       "\t  79750443 & 133275309\\\\\n",
       "\t  41970257 & 114364328\\\\\n",
       "\t  52899062 & 107043718\\\\\n",
       "\t  56812957 & 101991189\\\\\n",
       "\t  49629324 &  90338345\\\\\n",
       "\t  52981006 &  83257441\\\\\n",
       "\t  39000505 &  80373285\\\\\n",
       "\t  38096040 &  58617616\\\\\n",
       "\t  33285422 &  64444167\\\\\n",
       "\t  20285702 &  46709983\\\\\n",
       "\t  23129083 &  50818468\\\\\n",
       "\t  60076075 & 156040895\\\\\n",
       "\t   6274665 &  57227415\\\\\n",
       "\\end{tabular}\n"
      ],
      "text/markdown": [
       "\n",
       "gene_lens | chrlens | \n",
       "|---|---|---|---|---|---|---|---|---|---|---|---|---|---|---|---|---|---|---|---|---|---|---|---|\n",
       "| 133088986 | 248956422 | \n",
       "| 135587963 | 242193529 | \n",
       "| 119424238 | 198295559 | \n",
       "|  95612228 | 190214555 | \n",
       "|  94539903 | 181538259 | \n",
       "|  84854934 | 170805979 | \n",
       "|  91509773 | 159345973 | \n",
       "|  80702568 | 145138636 | \n",
       "|  60557467 | 138394717 | \n",
       "|  72469213 | 133797422 | \n",
       "|  77246320 | 135086622 | \n",
       "|  79750443 | 133275309 | \n",
       "|  41970257 | 114364328 | \n",
       "|  52899062 | 107043718 | \n",
       "|  56812957 | 101991189 | \n",
       "|  49629324 |  90338345 | \n",
       "|  52981006 |  83257441 | \n",
       "|  39000505 |  80373285 | \n",
       "|  38096040 |  58617616 | \n",
       "|  33285422 |  64444167 | \n",
       "|  20285702 |  46709983 | \n",
       "|  23129083 |  50818468 | \n",
       "|  60076075 | 156040895 | \n",
       "|   6274665 |  57227415 | \n",
       "\n",
       "\n"
      ],
      "text/plain": [
       "      gene_lens chrlens  \n",
       " [1,] 133088986 248956422\n",
       " [2,] 135587963 242193529\n",
       " [3,] 119424238 198295559\n",
       " [4,]  95612228 190214555\n",
       " [5,]  94539903 181538259\n",
       " [6,]  84854934 170805979\n",
       " [7,]  91509773 159345973\n",
       " [8,]  80702568 145138636\n",
       " [9,]  60557467 138394717\n",
       "[10,]  72469213 133797422\n",
       "[11,]  77246320 135086622\n",
       "[12,]  79750443 133275309\n",
       "[13,]  41970257 114364328\n",
       "[14,]  52899062 107043718\n",
       "[15,]  56812957 101991189\n",
       "[16,]  49629324  90338345\n",
       "[17,]  52981006  83257441\n",
       "[18,]  39000505  80373285\n",
       "[19,]  38096040  58617616\n",
       "[20,]  33285422  64444167\n",
       "[21,]  20285702  46709983\n",
       "[22,]  23129083  50818468\n",
       "[23,]  60076075 156040895\n",
       "[24,]   6274665  57227415"
      ]
     },
     "metadata": {},
     "output_type": "display_data"
    }
   ],
   "source": [
    "lens <- cbind(gene_lens, chrlens)\n",
    "lens"
   ]
  },
  {
   "cell_type": "code",
   "execution_count": 20,
   "metadata": {},
   "outputs": [],
   "source": [
    "save(lens,counts_dipl_m,counts_dipl_f,pd_gnvsnon_m,pd_gnvsnon_f,file='../sim-develop/data/genevsnon_counts.rda')"
   ]
  }
 ],
 "metadata": {
  "kernelspec": {
   "display_name": "R",
   "language": "R",
   "name": "ir"
  },
  "language_info": {
   "codemirror_mode": "r",
   "file_extension": ".r",
   "mimetype": "text/x-r-source",
   "name": "R",
   "pygments_lexer": "r",
   "version": "3.5.1"
  }
 },
 "nbformat": 4,
 "nbformat_minor": 2
}
