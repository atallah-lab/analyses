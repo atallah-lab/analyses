{
 "cells": [
  {
   "cell_type": "code",
   "execution_count": 1,
   "metadata": {},
   "outputs": [
    {
     "name": "stderr",
     "output_type": "stream",
     "text": [
      "Loading required package: BSgenome\n",
      "Loading required package: BiocGenerics\n",
      "Loading required package: parallel\n",
      "\n",
      "Attaching package: ‘BiocGenerics’\n",
      "\n",
      "The following objects are masked from ‘package:parallel’:\n",
      "\n",
      "    clusterApply, clusterApplyLB, clusterCall, clusterEvalQ,\n",
      "    clusterExport, clusterMap, parApply, parCapply, parLapply,\n",
      "    parLapplyLB, parRapply, parSapply, parSapplyLB\n",
      "\n",
      "The following objects are masked from ‘package:stats’:\n",
      "\n",
      "    IQR, mad, sd, var, xtabs\n",
      "\n",
      "The following objects are masked from ‘package:base’:\n",
      "\n",
      "    anyDuplicated, append, as.data.frame, basename, cbind, colMeans,\n",
      "    colnames, colSums, dirname, do.call, duplicated, eval, evalq,\n",
      "    Filter, Find, get, grep, grepl, intersect, is.unsorted, lapply,\n",
      "    lengths, Map, mapply, match, mget, order, paste, pmax, pmax.int,\n",
      "    pmin, pmin.int, Position, rank, rbind, Reduce, rowMeans, rownames,\n",
      "    rowSums, sapply, setdiff, sort, table, tapply, union, unique,\n",
      "    unsplit, which, which.max, which.min\n",
      "\n",
      "Loading required package: S4Vectors\n",
      "Loading required package: stats4\n",
      "\n",
      "Attaching package: ‘S4Vectors’\n",
      "\n",
      "The following object is masked from ‘package:base’:\n",
      "\n",
      "    expand.grid\n",
      "\n",
      "Loading required package: IRanges\n",
      "Loading required package: GenomeInfoDb\n",
      "Loading required package: GenomicRanges\n",
      "Loading required package: Biostrings\n",
      "Loading required package: XVector\n",
      "\n",
      "Attaching package: ‘Biostrings’\n",
      "\n",
      "The following object is masked from ‘package:base’:\n",
      "\n",
      "    strsplit\n",
      "\n",
      "Loading required package: rtracklayer\n",
      "\n",
      "Attaching package: ‘data.table’\n",
      "\n",
      "The following object is masked from ‘package:GenomicRanges’:\n",
      "\n",
      "    shift\n",
      "\n",
      "The following object is masked from ‘package:IRanges’:\n",
      "\n",
      "    shift\n",
      "\n",
      "The following objects are masked from ‘package:S4Vectors’:\n",
      "\n",
      "    first, second\n",
      "\n"
     ]
    }
   ],
   "source": [
    "library(BSgenome.Hsapiens.UCSC.hg38)\n",
    "library(data.table)\n",
    "for (i in names(Hsapiens)[1:24]){ # load all chromosome map files\n",
    "        load(paste0('./data/large_files/',i,'.rda'))\n",
    "}\n",
    "chroms <- c(1:22,'X','Y')\n",
    "load('./data/genes.rda')\n",
    "weights <- read.csv('./data/snap_velcro_weights.csv')\n",
    "weights <- weights[7,2:5]"
   ]
  },
  {
   "cell_type": "code",
   "execution_count": 2,
   "metadata": {
    "scrolled": true
   },
   "outputs": [
    {
     "data": {
      "text/html": [
       "<table>\n",
       "<thead><tr><th scope=col>chrom</th><th scope=col>start</th><th scope=col>end</th></tr></thead>\n",
       "<tbody>\n",
       "\t<tr><td>1     </td><td> 65419</td><td> 71585</td></tr>\n",
       "\t<tr><td>1     </td><td>450703</td><td>451697</td></tr>\n",
       "\t<tr><td>1     </td><td>685679</td><td>686673</td></tr>\n",
       "\t<tr><td>1     </td><td>923928</td><td>959309</td></tr>\n",
       "\t<tr><td>1     </td><td>960587</td><td>965715</td></tr>\n",
       "\t<tr><td>1     </td><td>966497</td><td>982093</td></tr>\n",
       "</tbody>\n",
       "</table>\n"
      ],
      "text/latex": [
       "\\begin{tabular}{r|lll}\n",
       " chrom & start & end\\\\\n",
       "\\hline\n",
       "\t 1      &  65419 &  71585\\\\\n",
       "\t 1      & 450703 & 451697\\\\\n",
       "\t 1      & 685679 & 686673\\\\\n",
       "\t 1      & 923928 & 959309\\\\\n",
       "\t 1      & 960587 & 965715\\\\\n",
       "\t 1      & 966497 & 982093\\\\\n",
       "\\end{tabular}\n"
      ],
      "text/markdown": [
       "\n",
       "chrom | start | end | \n",
       "|---|---|---|---|---|---|\n",
       "| 1      |  65419 |  71585 | \n",
       "| 1      | 450703 | 451697 | \n",
       "| 1      | 685679 | 686673 | \n",
       "| 1      | 923928 | 959309 | \n",
       "| 1      | 960587 | 965715 | \n",
       "| 1      | 966497 | 982093 | \n",
       "\n",
       "\n"
      ],
      "text/plain": [
       "  chrom start  end   \n",
       "1 1      65419  71585\n",
       "2 1     450703 451697\n",
       "3 1     685679 686673\n",
       "4 1     923928 959309\n",
       "5 1     960587 965715\n",
       "6 1     966497 982093"
      ]
     },
     "metadata": {},
     "output_type": "display_data"
    }
   ],
   "source": [
    "# Take the union of overlapping gene ranges, and omit parent gene data\n",
    "genes <- GRanges(genes$chrom,IRanges(genes$start,genes$end))\n",
    "genes <- reduce(genes)\n",
    "genes <- data.table(chrom=as.vector(seqnames(genes)),start=start(genes),end=end(genes))\n",
    "head(genes)"
   ]
  },
  {
   "cell_type": "markdown",
   "metadata": {},
   "source": [
    "#### In the cell below, we count the number of L1 target sites of each Snap-Velcro type in genes and non-gene regions"
   ]
  },
  {
   "cell_type": "code",
   "execution_count": 3,
   "metadata": {},
   "outputs": [],
   "source": [
    "counts <-  array(0,dim=c(24,8)) # Allocate matrix for counts\n",
    "gene_lens <- rep(0,24)\n",
    "\n",
    "#--- Loop through chromosome names\n",
    "j<-1 # chromosome counter\n",
    "for (i in names(Hsapiens)[1:24]){\n",
    "\n",
    "\n",
    "        # Data objects containing indices of S-V sites for each category are labeled with the chromosome name.\n",
    "        # Here we copy the data objects to a set of variables with generic names which can be used consistently \n",
    "        # in the loop. \n",
    "        map<-get(paste0(i,'Map')) # Get the site map data for the current chrom\n",
    "        ict<-    map[[2]]\n",
    "        icl<-    map[[3]]\n",
    "        iot<-    map[[4]]\n",
    "        iol<-    map[[5]]\n",
    "        insites<-map[[1]] \n",
    "    \n",
    "        i <- strsplit(i,\"chr\")[[1]][2] # Remove \"chr\" from chromosome name\n",
    "\n",
    "################################################\n",
    "        # count in genes for current chromosome (columns 1-4)\n",
    "        ann_i <- genes[genes$chrom == i,] \n",
    "    \n",
    "        sen        <-inrange(insites[ict[!is.na(ict[,1]),1],1],ann_i$start,ann_i$end) # Check if any Closed-Tight category sites are within the start-end range of ann_i\n",
    "        antisen    <-inrange(insites[ict[!is.na(ict[,2]),2],2],ann_i$start,ann_i$end) \n",
    "        counts[j,1]<-length(which(sen)) + length(which(antisen))                      # Fill an element of the counts table with the count\n",
    "        \n",
    "        sen        <-inrange(insites[icl[!is.na(icl[,1]),1],1],ann_i$start,ann_i$end) \n",
    "        antisen    <-inrange(insites[icl[!is.na(icl[,2]),2],2],ann_i$start,ann_i$end)\n",
    "        counts[j,2]<-length(which(sen)) + length(which(antisen))\n",
    "        \n",
    "        sen        <-inrange(insites[iot[!is.na(iot[,1]),1],1],ann_i$start,ann_i$end) \n",
    "        antisen    <-inrange(insites[iot[!is.na(iot[,2]),2],2],ann_i$start,ann_i$end)\n",
    "        counts[j,3]<-length(which(sen)) + length(which(antisen))\n",
    "        \n",
    "        sen        <-inrange(insites[iol[!is.na(iol[,1]),1],1],ann_i$start,ann_i$end) \n",
    "        antisen    <-inrange(insites[iol[!is.na(iol[,2]),2],2],ann_i$start,ann_i$end)\n",
    "        counts[j,4]<-length(which(sen)) + length(which(antisen))  \n",
    "    \n",
    "################################################\n",
    "        # count in non-genes for current chromosome (columns 5-8)\n",
    "        \n",
    "        counts[j,5]   <- length(which(!is.na(as.vector(ict)))) - counts[j,1]\n",
    "        counts[j,6]  <- length(which(!is.na(as.vector(icl)))) - counts[j,2]\n",
    "        counts[j,7]  <- length(which(!is.na(as.vector(iot)))) - counts[j,3]\n",
    "        counts[j,8]  <- length(which(!is.na(as.vector(iol)))) - counts[j,4]\n",
    "    \n",
    "        gene_lens[j] <- sum(ann_i$end-ann_i$start)\n",
    "    \n",
    "        j<-j+1\n",
    "        rm('sen','antisen')\n",
    "}"
   ]
  },
  {
   "cell_type": "code",
   "execution_count": 4,
   "metadata": {},
   "outputs": [],
   "source": [
    "colnames(counts) <- c('ct_gene','cl_gene','ot_gene','ol_gene','ct_nongene','cl_nongene','ot_nongene','ol_nongene')\n",
    "rownames(counts) <- names(Hsapiens)[1:24]\n",
    "# counts"
   ]
  },
  {
   "cell_type": "markdown",
   "metadata": {},
   "source": [
    "Here we account for male and female diploid genomes"
   ]
  },
  {
   "cell_type": "markdown",
   "metadata": {},
   "source": [
    "#### Male"
   ]
  },
  {
   "cell_type": "code",
   "execution_count": 5,
   "metadata": {},
   "outputs": [],
   "source": [
    "# Male genome - double the count for chromosomes 1:22\n",
    "counts_dipl_m <- counts\n",
    "counts_dipl_m[1:22,]<-counts_dipl_m[1:22,]*2\n",
    "# counts_dipl_m"
   ]
  },
  {
   "cell_type": "markdown",
   "metadata": {},
   "source": [
    "#### Female"
   ]
  },
  {
   "cell_type": "code",
   "execution_count": 6,
   "metadata": {},
   "outputs": [],
   "source": [
    "# Female genome - double the counts for chroms. 1:23; count for chrom. Y is set to 0\n",
    "counts_dipl_f <- counts\n",
    "counts_dipl_f[1:23,]<-counts_dipl_f[1:23,]*2\n",
    "counts_dipl_f[24,]<-counts_dipl_f[24,]*0\n",
    "# counts_dipl_f"
   ]
  },
  {
   "cell_type": "markdown",
   "metadata": {},
   "source": [
    "## Calculating probabilities of ENd (endonuclease-dependent) gene vs non-gene insertion"
   ]
  },
  {
   "cell_type": "markdown",
   "metadata": {},
   "source": [
    "#### Male"
   ]
  },
  {
   "cell_type": "code",
   "execution_count": 7,
   "metadata": {},
   "outputs": [
    {
     "data": {
      "text/html": [
       "<ol class=list-inline>\n",
       "\t<li>0.433918142259773</li>\n",
       "\t<li>0.566081857740227</li>\n",
       "</ol>\n"
      ],
      "text/latex": [
       "\\begin{enumerate*}\n",
       "\\item 0.433918142259773\n",
       "\\item 0.566081857740227\n",
       "\\end{enumerate*}\n"
      ],
      "text/markdown": [
       "1. 0.433918142259773\n",
       "2. 0.566081857740227\n",
       "\n",
       "\n"
      ],
      "text/plain": [
       "[1] 0.4339181 0.5660819"
      ]
     },
     "metadata": {},
     "output_type": "display_data"
    }
   ],
   "source": [
    "counts_ovchr_m <- colSums(counts_dipl_m)\n",
    "probs_ENd_m <- rep(0,2)\n",
    "for (i in 1:2){\n",
    "    probs_ENd_m[i] = weights$closed_tight*counts_ovchr_m[(i-1)*4+1] + \n",
    "                   weights$closed_loose*counts_ovchr_m[(i-1)*4+2] + \n",
    "                   weights$open_tight*counts_ovchr_m[(i-1)*4+3] + \n",
    "                   weights$open_loose*counts_ovchr_m[(i-1)*4+4]\n",
    "}\n",
    "probs_ENd_m <- probs_ENd_m/sum(probs_ENd_m)\n",
    "probs_ENd_m"
   ]
  },
  {
   "cell_type": "markdown",
   "metadata": {},
   "source": [
    "#### Female"
   ]
  },
  {
   "cell_type": "code",
   "execution_count": 8,
   "metadata": {},
   "outputs": [
    {
     "data": {
      "text/html": [
       "<ol class=list-inline>\n",
       "\t<li>0.431930892439044</li>\n",
       "\t<li>0.568069107560956</li>\n",
       "</ol>\n"
      ],
      "text/latex": [
       "\\begin{enumerate*}\n",
       "\\item 0.431930892439044\n",
       "\\item 0.568069107560956\n",
       "\\end{enumerate*}\n"
      ],
      "text/markdown": [
       "1. 0.431930892439044\n",
       "2. 0.568069107560956\n",
       "\n",
       "\n"
      ],
      "text/plain": [
       "[1] 0.4319309 0.5680691"
      ]
     },
     "metadata": {},
     "output_type": "display_data"
    }
   ],
   "source": [
    "counts_ovchr_f <- colSums(counts_dipl_f)\n",
    "probs_ENd_f <- rep(0,2)\n",
    "for (i in 1:2){\n",
    "    probs_ENd_f[i] = weights$closed_tight*counts_ovchr_f[(i-1)*4+1] + \n",
    "                   weights$closed_loose*counts_ovchr_f[(i-1)*4+2] + \n",
    "                   weights$open_tight*counts_ovchr_f[(i-1)*4+3] + \n",
    "                   weights$open_loose*counts_ovchr_f[(i-1)*4+4]\n",
    "}\n",
    "probs_ENd_f <- probs_ENd_f/sum(probs_ENd_f)\n",
    "probs_ENd_f"
   ]
  },
  {
   "cell_type": "markdown",
   "metadata": {},
   "source": [
    "## Calculating probabilities of ENi (endonuclease-independent) gene vs non-gene insertion"
   ]
  },
  {
   "cell_type": "code",
   "execution_count": 9,
   "metadata": {},
   "outputs": [
    {
     "data": {
      "text/html": [
       "3088269832"
      ],
      "text/latex": [
       "3088269832"
      ],
      "text/markdown": [
       "3088269832"
      ],
      "text/plain": [
       "[1] 3088269832"
      ]
     },
     "metadata": {},
     "output_type": "display_data"
    }
   ],
   "source": [
    "chrlens <- rep(0,24)\n",
    "for (i in 1:24){\n",
    "    chrlens[i] <- length(Hsapiens[[i]])\n",
    "}\n",
    "sum(chrlens)"
   ]
  },
  {
   "cell_type": "markdown",
   "metadata": {},
   "source": [
    "#### Male"
   ]
  },
  {
   "cell_type": "code",
   "execution_count": 10,
   "metadata": {},
   "outputs": [
    {
     "data": {
      "text/html": [
       "<ol class=list-inline>\n",
       "\t<li>0.423379056917556</li>\n",
       "\t<li>0.576620943082444</li>\n",
       "</ol>\n"
      ],
      "text/latex": [
       "\\begin{enumerate*}\n",
       "\\item 0.423379056917556\n",
       "\\item 0.576620943082444\n",
       "\\end{enumerate*}\n"
      ],
      "text/markdown": [
       "1. 0.423379056917556\n",
       "2. 0.576620943082444\n",
       "\n",
       "\n"
      ],
      "text/plain": [
       "[1] 0.4233791 0.5766209"
      ]
     },
     "metadata": {},
     "output_type": "display_data"
    }
   ],
   "source": [
    "probs_ENi_m <- rep(0,2)\n",
    "probs_ENi_m[1] <- (sum(gene_lens[1:22]*2)+sum(gene_lens[23:24]))/(sum(chrlens[1:22]*2)+sum(chrlens[23:24]))\n",
    "probs_ENi_m[2] <- 1-probs_ENi_m[1]\n",
    "probs_ENi_m"
   ]
  },
  {
   "cell_type": "markdown",
   "metadata": {},
   "source": [
    "#### Female"
   ]
  },
  {
   "cell_type": "code",
   "execution_count": 11,
   "metadata": {},
   "outputs": [
    {
     "data": {
      "text/html": [
       "<ol class=list-inline>\n",
       "\t<li>0.424151575969186</li>\n",
       "\t<li>0.575848424030814</li>\n",
       "</ol>\n"
      ],
      "text/latex": [
       "\\begin{enumerate*}\n",
       "\\item 0.424151575969186\n",
       "\\item 0.575848424030814\n",
       "\\end{enumerate*}\n"
      ],
      "text/markdown": [
       "1. 0.424151575969186\n",
       "2. 0.575848424030814\n",
       "\n",
       "\n"
      ],
      "text/plain": [
       "[1] 0.4241516 0.5758484"
      ]
     },
     "metadata": {},
     "output_type": "display_data"
    }
   ],
   "source": [
    "probs_ENi_f <- rep(0,2)\n",
    "probs_ENi_f[1] <- sum(gene_lens[1:23]*2)/sum(chrlens[1:23]*2)\n",
    "probs_ENi_f[2] <- 1-probs_ENi_f[1]\n",
    "probs_ENi_f"
   ]
  },
  {
   "cell_type": "markdown",
   "metadata": {},
   "source": [
    "## Calculating final probabilities of gene vs non-gene insertion"
   ]
  },
  {
   "cell_type": "markdown",
   "metadata": {},
   "source": [
    "#### Male"
   ]
  },
  {
   "cell_type": "code",
   "execution_count": 12,
   "metadata": {},
   "outputs": [
    {
     "data": {
      "text/html": [
       "<ol class=list-inline>\n",
       "\t<li>0.432864233725552</li>\n",
       "\t<li>0.567135766274449</li>\n",
       "</ol>\n"
      ],
      "text/latex": [
       "\\begin{enumerate*}\n",
       "\\item 0.432864233725552\n",
       "\\item 0.567135766274449\n",
       "\\end{enumerate*}\n"
      ],
      "text/markdown": [
       "1. 0.432864233725552\n",
       "2. 0.567135766274449\n",
       "\n",
       "\n"
      ],
      "text/plain": [
       "[1] 0.4328642 0.5671358"
      ]
     },
     "metadata": {},
     "output_type": "display_data"
    }
   ],
   "source": [
    "pd_gnvsnon_m <- (.9*probs_ENd_m)+(0.1*probs_ENi_m) # Assuming 0.9 probability that insertion will be ENd and 0.1 for ENi\n",
    "pd_gnvsnon_m <- pd_gnvsnon_m/sum(pd_gnvsnon_m)\n",
    "pd_gnvsnon_m"
   ]
  },
  {
   "cell_type": "markdown",
   "metadata": {},
   "source": [
    "#### Female"
   ]
  },
  {
   "cell_type": "code",
   "execution_count": 13,
   "metadata": {},
   "outputs": [
    {
     "data": {
      "text/html": [
       "<ol class=list-inline>\n",
       "\t<li>0.431152960792058</li>\n",
       "\t<li>0.568847039207942</li>\n",
       "</ol>\n"
      ],
      "text/latex": [
       "\\begin{enumerate*}\n",
       "\\item 0.431152960792058\n",
       "\\item 0.568847039207942\n",
       "\\end{enumerate*}\n"
      ],
      "text/markdown": [
       "1. 0.431152960792058\n",
       "2. 0.568847039207942\n",
       "\n",
       "\n"
      ],
      "text/plain": [
       "[1] 0.431153 0.568847"
      ]
     },
     "metadata": {},
     "output_type": "display_data"
    }
   ],
   "source": [
    "pd_gnvsnon_f <- (.9*probs_ENd_f)+(0.1*probs_ENi_f) # Assuming 0.9 probability that insertion will be ENd and 0.1 for ENi\n",
    "pd_gnvsnon_f <- pd_gnvsnon_f/sum(pd_gnvsnon_f)\n",
    "pd_gnvsnon_f"
   ]
  },
  {
   "cell_type": "code",
   "execution_count": 14,
   "metadata": {
    "scrolled": false
   },
   "outputs": [
    {
     "data": {
      "text/html": [
       "<table>\n",
       "<thead><tr><th scope=col>gene_lens</th><th scope=col>chrlens</th></tr></thead>\n",
       "<tbody>\n",
       "\t<tr><td>112034113</td><td>248956422</td></tr>\n",
       "\t<tr><td>104246043</td><td>242193529</td></tr>\n",
       "\t<tr><td> 98072541</td><td>198295559</td></tr>\n",
       "\t<tr><td> 72773785</td><td>190214555</td></tr>\n",
       "\t<tr><td> 70407233</td><td>181538259</td></tr>\n",
       "\t<tr><td> 71356941</td><td>170805979</td></tr>\n",
       "\t<tr><td> 76562590</td><td>159345973</td></tr>\n",
       "\t<tr><td> 60676872</td><td>145138636</td></tr>\n",
       "\t<tr><td> 51144913</td><td>138394717</td></tr>\n",
       "\t<tr><td> 63228370</td><td>133797422</td></tr>\n",
       "\t<tr><td> 64851077</td><td>135086622</td></tr>\n",
       "\t<tr><td> 66321933</td><td>133275309</td></tr>\n",
       "\t<tr><td> 32818121</td><td>114364328</td></tr>\n",
       "\t<tr><td> 39817621</td><td>107043718</td></tr>\n",
       "\t<tr><td> 43939646</td><td>101991189</td></tr>\n",
       "\t<tr><td> 39702722</td><td> 90338345</td></tr>\n",
       "\t<tr><td> 45046059</td><td> 83257441</td></tr>\n",
       "\t<tr><td> 29534881</td><td> 80373285</td></tr>\n",
       "\t<tr><td> 32907012</td><td> 58617616</td></tr>\n",
       "\t<tr><td> 28168102</td><td> 64444167</td></tr>\n",
       "\t<tr><td> 13845601</td><td> 46709983</td></tr>\n",
       "\t<tr><td> 19081918</td><td> 50818468</td></tr>\n",
       "\t<tr><td> 49083324</td><td>156040895</td></tr>\n",
       "\t<tr><td>  2564690</td><td> 57227415</td></tr>\n",
       "</tbody>\n",
       "</table>\n"
      ],
      "text/latex": [
       "\\begin{tabular}{ll}\n",
       " gene\\_lens & chrlens\\\\\n",
       "\\hline\n",
       "\t 112034113 & 248956422\\\\\n",
       "\t 104246043 & 242193529\\\\\n",
       "\t  98072541 & 198295559\\\\\n",
       "\t  72773785 & 190214555\\\\\n",
       "\t  70407233 & 181538259\\\\\n",
       "\t  71356941 & 170805979\\\\\n",
       "\t  76562590 & 159345973\\\\\n",
       "\t  60676872 & 145138636\\\\\n",
       "\t  51144913 & 138394717\\\\\n",
       "\t  63228370 & 133797422\\\\\n",
       "\t  64851077 & 135086622\\\\\n",
       "\t  66321933 & 133275309\\\\\n",
       "\t  32818121 & 114364328\\\\\n",
       "\t  39817621 & 107043718\\\\\n",
       "\t  43939646 & 101991189\\\\\n",
       "\t  39702722 &  90338345\\\\\n",
       "\t  45046059 &  83257441\\\\\n",
       "\t  29534881 &  80373285\\\\\n",
       "\t  32907012 &  58617616\\\\\n",
       "\t  28168102 &  64444167\\\\\n",
       "\t  13845601 &  46709983\\\\\n",
       "\t  19081918 &  50818468\\\\\n",
       "\t  49083324 & 156040895\\\\\n",
       "\t   2564690 &  57227415\\\\\n",
       "\\end{tabular}\n"
      ],
      "text/markdown": [
       "\n",
       "gene_lens | chrlens | \n",
       "|---|---|---|---|---|---|---|---|---|---|---|---|---|---|---|---|---|---|---|---|---|---|---|---|\n",
       "| 112034113 | 248956422 | \n",
       "| 104246043 | 242193529 | \n",
       "|  98072541 | 198295559 | \n",
       "|  72773785 | 190214555 | \n",
       "|  70407233 | 181538259 | \n",
       "|  71356941 | 170805979 | \n",
       "|  76562590 | 159345973 | \n",
       "|  60676872 | 145138636 | \n",
       "|  51144913 | 138394717 | \n",
       "|  63228370 | 133797422 | \n",
       "|  64851077 | 135086622 | \n",
       "|  66321933 | 133275309 | \n",
       "|  32818121 | 114364328 | \n",
       "|  39817621 | 107043718 | \n",
       "|  43939646 | 101991189 | \n",
       "|  39702722 |  90338345 | \n",
       "|  45046059 |  83257441 | \n",
       "|  29534881 |  80373285 | \n",
       "|  32907012 |  58617616 | \n",
       "|  28168102 |  64444167 | \n",
       "|  13845601 |  46709983 | \n",
       "|  19081918 |  50818468 | \n",
       "|  49083324 | 156040895 | \n",
       "|   2564690 |  57227415 | \n",
       "\n",
       "\n"
      ],
      "text/plain": [
       "      gene_lens chrlens  \n",
       " [1,] 112034113 248956422\n",
       " [2,] 104246043 242193529\n",
       " [3,]  98072541 198295559\n",
       " [4,]  72773785 190214555\n",
       " [5,]  70407233 181538259\n",
       " [6,]  71356941 170805979\n",
       " [7,]  76562590 159345973\n",
       " [8,]  60676872 145138636\n",
       " [9,]  51144913 138394717\n",
       "[10,]  63228370 133797422\n",
       "[11,]  64851077 135086622\n",
       "[12,]  66321933 133275309\n",
       "[13,]  32818121 114364328\n",
       "[14,]  39817621 107043718\n",
       "[15,]  43939646 101991189\n",
       "[16,]  39702722  90338345\n",
       "[17,]  45046059  83257441\n",
       "[18,]  29534881  80373285\n",
       "[19,]  32907012  58617616\n",
       "[20,]  28168102  64444167\n",
       "[21,]  13845601  46709983\n",
       "[22,]  19081918  50818468\n",
       "[23,]  49083324 156040895\n",
       "[24,]   2564690  57227415"
      ]
     },
     "metadata": {},
     "output_type": "display_data"
    }
   ],
   "source": [
    "lens <- cbind(gene_lens, chrlens)\n",
    "lens"
   ]
  },
  {
   "cell_type": "code",
   "execution_count": 15,
   "metadata": {},
   "outputs": [],
   "source": [
    "save(lens,counts_dipl_m,counts_dipl_f,pd_gnvsnon_m,pd_gnvsnon_f,file='./data/genevsnon_counts.rda')"
   ]
  },
  {
   "cell_type": "code",
   "execution_count": null,
   "metadata": {},
   "outputs": [],
   "source": []
  }
 ],
 "metadata": {
  "kernelspec": {
   "display_name": "R",
   "language": "R",
   "name": "ir"
  },
  "language_info": {
   "codemirror_mode": "r",
   "file_extension": ".r",
   "mimetype": "text/x-r-source",
   "name": "R",
   "pygments_lexer": "r",
   "version": "3.5.1"
  }
 },
 "nbformat": 4,
 "nbformat_minor": 2
}
