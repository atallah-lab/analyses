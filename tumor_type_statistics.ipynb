{
 "cells": [
  {
   "cell_type": "code",
   "execution_count": 2,
   "metadata": {},
   "outputs": [],
   "source": [
    "library(data.table)\n",
    "library(GenomicRanges)\n",
    "library(org.Hs.eg.db)\n",
    "for (i in c(1:22,'X','Y')){ # load all chromosome map files\n",
    "        load(paste0('./data/large_files/chr',i,'.rda'))\n",
    "}\n",
    "load('./data/exons.rda')\n",
    "load('./data/genes.rda')\n",
    "load('./data/exonicvsnon_counts.rda')\n",
    "weights <- read.csv('./data/snap_velcro_weights.csv')\n",
    "weights <- weights[7,2:5]"
   ]
  },
  {
   "cell_type": "code",
   "execution_count": 3,
   "metadata": {},
   "outputs": [],
   "source": [
    "#--- get_drivers()\n",
    "get_drivers <- function(cancer_type){\n",
    "    \n",
    "    geneList <- read.csv('./data/Census_allThu Sep 13 17_30_17 2018.csv') # Cancer Gene Census Data Table\n",
    "    if (cancer_type=='lung') {\n",
    "        toMatch <- c('lung')\n",
    "    } else if (cancer_type=='colon') {\n",
    "        toMatch <- c('colon','colorectal')\n",
    "    } else if (cancer_type=='brain') {\n",
    "        toMatch <- c('astrocytoma','meningioma','head','oligodendroglio')\n",
    "    }\n",
    "    # Get genes affecting chosen cancer type\n",
    "    geneList<-geneList[grep(paste(toMatch,collapse='|'),geneList$Tumour.Types.Somatic),]\n",
    "    # Filter for only Tier 1 genes\n",
    "#     geneList<-geneList[geneList$Tier==1,]\n",
    "    # Filter for TSGs\n",
    "    geneList<-geneList[grep('TSG',geneList$Role.in.Cancer),]\n",
    "    \n",
    "    return(geneList)\n",
    "}"
   ]
  },
  {
   "cell_type": "code",
   "execution_count": 4,
   "metadata": {},
   "outputs": [],
   "source": [
    "geneList_lung <- get_drivers('lung')\n",
    "geneList_colon <- get_drivers('colon')\n",
    "geneList_brain <- get_drivers('brain')"
   ]
  },
  {
   "cell_type": "code",
   "execution_count": 5,
   "metadata": {},
   "outputs": [
    {
     "name": "stdout",
     "output_type": "stream",
     "text": [
      "Genes not in annotation\n",
      "\n",
      "Lung:"
     ]
    },
    {
     "data": {
      "text/html": [
       "<table>\n",
       "<thead><tr><th></th><th scope=col>Gene.Symbol</th><th scope=col>Name</th><th scope=col>Entrez.GeneId</th><th scope=col>Genome.Location</th><th scope=col>Tier</th><th scope=col>Hallmark</th><th scope=col>Chr.Band</th><th scope=col>Somatic</th><th scope=col>Germline</th><th scope=col>Tumour.Types.Somatic.</th><th scope=col>Tumour.Types.Germline.</th><th scope=col>Cancer.Syndrome</th><th scope=col>Tissue.Type</th><th scope=col>Molecular.Genetics</th><th scope=col>Role.in.Cancer</th><th scope=col>Mutation.Types</th><th scope=col>Translocation.Partner</th><th scope=col>Other.Germline.Mut</th><th scope=col>Other.Syndrome</th><th scope=col>Synonyms</th></tr></thead>\n",
       "<tbody>\n",
       "\t<tr><th scope=row>381</th><td>MALAT1                                                                               </td><td>metastasis associated lung adenocarcinoma transcript 1 ( lnc-RNA; non-protein coding)</td><td>378938                                                                               </td><td>11:65502644-65502817                                                                 </td><td>2                                                                                    </td><td>                                                                                     </td><td>11q31.1                                                                              </td><td>yes                                                                                  </td><td>                                                                                     </td><td>renal cell carcinoma (childhood epithelioid), lung                                   </td><td>                                                                                     </td><td>                                                                                     </td><td>E                                                                                    </td><td>Dom                                                                                  </td><td>oncogene, TSG, fusion                                                                </td><td>T                                                                                    </td><td>TFEB                                                                                 </td><td>                                                                                     </td><td>                                                                                     </td><td>378938,MALAT1,PRO1073,Q9UHZ2                                                         </td></tr>\n",
       "</tbody>\n",
       "</table>\n"
      ],
      "text/latex": [
       "\\begin{tabular}{r|llllllllllllllllllll}\n",
       "  & Gene.Symbol & Name & Entrez.GeneId & Genome.Location & Tier & Hallmark & Chr.Band & Somatic & Germline & Tumour.Types.Somatic. & Tumour.Types.Germline. & Cancer.Syndrome & Tissue.Type & Molecular.Genetics & Role.in.Cancer & Mutation.Types & Translocation.Partner & Other.Germline.Mut & Other.Syndrome & Synonyms\\\\\n",
       "\\hline\n",
       "\t381 & MALAT1                                                                                & metastasis associated lung adenocarcinoma transcript 1 ( lnc-RNA; non-protein coding) & 378938                                                                                & 11:65502644-65502817                                                                  & 2                                                                                     &                                                                                       & 11q31.1                                                                               & yes                                                                                   &                                                                                       & renal cell carcinoma (childhood epithelioid), lung                                    &                                                                                       &                                                                                       & E                                                                                     & Dom                                                                                   & oncogene, TSG, fusion                                                                 & T                                                                                     & TFEB                                                                                  &                                                                                       &                                                                                       & 378938,MALAT1,PRO1073,Q9UHZ2                                                         \\\\\n",
       "\\end{tabular}\n"
      ],
      "text/markdown": [
       "\n",
       "| <!--/--> | Gene.Symbol | Name | Entrez.GeneId | Genome.Location | Tier | Hallmark | Chr.Band | Somatic | Germline | Tumour.Types.Somatic. | Tumour.Types.Germline. | Cancer.Syndrome | Tissue.Type | Molecular.Genetics | Role.in.Cancer | Mutation.Types | Translocation.Partner | Other.Germline.Mut | Other.Syndrome | Synonyms | \n",
       "|---|\n",
       "| 381 | MALAT1                                                                                | metastasis associated lung adenocarcinoma transcript 1 ( lnc-RNA; non-protein coding) | 378938                                                                                | 11:65502644-65502817                                                                  | 2                                                                                     |                                                                                       | 11q31.1                                                                               | yes                                                                                   |                                                                                       | renal cell carcinoma (childhood epithelioid), lung                                    |                                                                                       |                                                                                       | E                                                                                     | Dom                                                                                   | oncogene, TSG, fusion                                                                 | T                                                                                     | TFEB                                                                                  |                                                                                       |                                                                                       | 378938,MALAT1,PRO1073,Q9UHZ2                                                          | \n",
       "\n",
       "\n"
      ],
      "text/plain": [
       "    Gene.Symbol\n",
       "381 MALAT1     \n",
       "    Name                                                                                 \n",
       "381 metastasis associated lung adenocarcinoma transcript 1 ( lnc-RNA; non-protein coding)\n",
       "    Entrez.GeneId Genome.Location      Tier Hallmark Chr.Band Somatic Germline\n",
       "381 378938        11:65502644-65502817 2             11q31.1  yes             \n",
       "    Tumour.Types.Somatic.                              Tumour.Types.Germline.\n",
       "381 renal cell carcinoma (childhood epithelioid), lung                       \n",
       "    Cancer.Syndrome Tissue.Type Molecular.Genetics Role.in.Cancer       \n",
       "381                 E           Dom                oncogene, TSG, fusion\n",
       "    Mutation.Types Translocation.Partner Other.Germline.Mut Other.Syndrome\n",
       "381 T              TFEB                                                   \n",
       "    Synonyms                    \n",
       "381 378938,MALAT1,PRO1073,Q9UHZ2"
      ]
     },
     "metadata": {},
     "output_type": "display_data"
    },
    {
     "name": "stdout",
     "output_type": "stream",
     "text": [
      "Colon:"
     ]
    },
    {
     "data": {
      "text/html": [
       "<table>\n",
       "<thead><tr><th scope=col>Gene.Symbol</th><th scope=col>Name</th><th scope=col>Entrez.GeneId</th><th scope=col>Genome.Location</th><th scope=col>Tier</th><th scope=col>Hallmark</th><th scope=col>Chr.Band</th><th scope=col>Somatic</th><th scope=col>Germline</th><th scope=col>Tumour.Types.Somatic.</th><th scope=col>Tumour.Types.Germline.</th><th scope=col>Cancer.Syndrome</th><th scope=col>Tissue.Type</th><th scope=col>Molecular.Genetics</th><th scope=col>Role.in.Cancer</th><th scope=col>Mutation.Types</th><th scope=col>Translocation.Partner</th><th scope=col>Other.Germline.Mut</th><th scope=col>Other.Syndrome</th><th scope=col>Synonyms</th></tr></thead>\n",
       "<tbody>\n",
       "</tbody>\n",
       "</table>\n"
      ],
      "text/latex": [
       "\\begin{tabular}{r|llllllllllllllllllll}\n",
       " Gene.Symbol & Name & Entrez.GeneId & Genome.Location & Tier & Hallmark & Chr.Band & Somatic & Germline & Tumour.Types.Somatic. & Tumour.Types.Germline. & Cancer.Syndrome & Tissue.Type & Molecular.Genetics & Role.in.Cancer & Mutation.Types & Translocation.Partner & Other.Germline.Mut & Other.Syndrome & Synonyms\\\\\n",
       "\\hline\n",
       "\\end{tabular}\n"
      ],
      "text/markdown": [
       "\n",
       "Gene.Symbol | Name | Entrez.GeneId | Genome.Location | Tier | Hallmark | Chr.Band | Somatic | Germline | Tumour.Types.Somatic. | Tumour.Types.Germline. | Cancer.Syndrome | Tissue.Type | Molecular.Genetics | Role.in.Cancer | Mutation.Types | Translocation.Partner | Other.Germline.Mut | Other.Syndrome | Synonyms | \n",
       "||\n",
       "\n",
       "\n"
      ],
      "text/plain": [
       "     Gene.Symbol Name Entrez.GeneId Genome.Location Tier Hallmark Chr.Band\n",
       "     Somatic Germline Tumour.Types.Somatic. Tumour.Types.Germline.\n",
       "     Cancer.Syndrome Tissue.Type Molecular.Genetics Role.in.Cancer\n",
       "     Mutation.Types Translocation.Partner Other.Germline.Mut Other.Syndrome\n",
       "     Synonyms"
      ]
     },
     "metadata": {},
     "output_type": "display_data"
    },
    {
     "name": "stdout",
     "output_type": "stream",
     "text": [
      "Brain:"
     ]
    },
    {
     "data": {
      "text/html": [
       "<table>\n",
       "<thead><tr><th scope=col>Gene.Symbol</th><th scope=col>Name</th><th scope=col>Entrez.GeneId</th><th scope=col>Genome.Location</th><th scope=col>Tier</th><th scope=col>Hallmark</th><th scope=col>Chr.Band</th><th scope=col>Somatic</th><th scope=col>Germline</th><th scope=col>Tumour.Types.Somatic.</th><th scope=col>Tumour.Types.Germline.</th><th scope=col>Cancer.Syndrome</th><th scope=col>Tissue.Type</th><th scope=col>Molecular.Genetics</th><th scope=col>Role.in.Cancer</th><th scope=col>Mutation.Types</th><th scope=col>Translocation.Partner</th><th scope=col>Other.Germline.Mut</th><th scope=col>Other.Syndrome</th><th scope=col>Synonyms</th></tr></thead>\n",
       "<tbody>\n",
       "</tbody>\n",
       "</table>\n"
      ],
      "text/latex": [
       "\\begin{tabular}{r|llllllllllllllllllll}\n",
       " Gene.Symbol & Name & Entrez.GeneId & Genome.Location & Tier & Hallmark & Chr.Band & Somatic & Germline & Tumour.Types.Somatic. & Tumour.Types.Germline. & Cancer.Syndrome & Tissue.Type & Molecular.Genetics & Role.in.Cancer & Mutation.Types & Translocation.Partner & Other.Germline.Mut & Other.Syndrome & Synonyms\\\\\n",
       "\\hline\n",
       "\\end{tabular}\n"
      ],
      "text/markdown": [
       "\n",
       "Gene.Symbol | Name | Entrez.GeneId | Genome.Location | Tier | Hallmark | Chr.Band | Somatic | Germline | Tumour.Types.Somatic. | Tumour.Types.Germline. | Cancer.Syndrome | Tissue.Type | Molecular.Genetics | Role.in.Cancer | Mutation.Types | Translocation.Partner | Other.Germline.Mut | Other.Syndrome | Synonyms | \n",
       "||\n",
       "\n",
       "\n"
      ],
      "text/plain": [
       "     Gene.Symbol Name Entrez.GeneId Genome.Location Tier Hallmark Chr.Band\n",
       "     Somatic Germline Tumour.Types.Somatic. Tumour.Types.Germline.\n",
       "     Cancer.Syndrome Tissue.Type Molecular.Genetics Role.in.Cancer\n",
       "     Mutation.Types Translocation.Partner Other.Germline.Mut Other.Syndrome\n",
       "     Synonyms"
      ]
     },
     "metadata": {},
     "output_type": "display_data"
    }
   ],
   "source": [
    "cat('Genes not in annotation\\n\\n')\n",
    "cat('Lung:')\n",
    "geneList_lung[!(geneList_lung$Gene.Symbol %in% genes$gene_sym),]\n",
    "cat('Colon:')\n",
    "geneList_colon[!(geneList_colon$Gene.Symbol %in% genes$gene_sym),]\n",
    "cat('Brain:')\n",
    "geneList_brain[!(geneList_brain$Gene.Symbol %in% genes$gene_sym),]"
   ]
  },
  {
   "cell_type": "markdown",
   "metadata": {},
   "source": [
    "MALAT1 is a long intergenic non-coding RNA, not in the annotation of protein-coding genes"
   ]
  },
  {
   "cell_type": "code",
   "execution_count": 6,
   "metadata": {},
   "outputs": [],
   "source": [
    "geneList_lung <- geneList_lung[geneList_lung$Gene.Symbol %in% genes$gene_sym,]"
   ]
  },
  {
   "cell_type": "code",
   "execution_count": 7,
   "metadata": {},
   "outputs": [],
   "source": [
    "# This function will count the number of L1 target sites in the provided ranges (assumed to be exonic) (columns 1-4),\n",
    "# in other exonic ranges (col 5-8), and outside of exonic ranges (col 9-12)\n",
    "count_in_ranges <- function(exon_ranges,counts_dipl) {\n",
    "    \n",
    "    counts <-  array(0,dim=c(24,12)) # Allocate matrix for counts\n",
    "\n",
    "    #--- Loop through chromosome names\n",
    "    j<-1 # chromosome counter\n",
    "    for (i in c(1:22,'X','Y')){\n",
    "\n",
    "        # If the chromosome is Y and the supplied diploid genome counts are for female genome, leave the \n",
    "        # counts at 0\n",
    "        if (i=='Y' && sum(counts_dipl[24,])==0) {next}\n",
    "\n",
    "        # Data objects containing indices of S-V sites for each category are labeled with the chromosome name.\n",
    "        # Here we copy the data objects to a set of variables with generic names which can be used consistently \n",
    "        # in the loop. \n",
    "        map<-get(paste0('chr',i,'Map')) # Get the site map data for the current chrom\n",
    "        ict<-    map[[2]]\n",
    "        icl<-    map[[3]]\n",
    "        iot<-    map[[4]]\n",
    "        iol<-    map[[5]]\n",
    "        insites<-map[[1]] \n",
    "\n",
    "################################################\n",
    "        # Count in exon_ranges for current chromosome (columns 1-4)\n",
    "        ann_i <- exon_ranges[exon_ranges$chrom == i,]\n",
    "\n",
    "        sen        <-inrange(insites[ict[!is.na(ict[,1]),1],1],ann_i$start,ann_i$end) # Check if any Closed-Tight category sites are within the start-end range of ann_i\n",
    "        antisen    <-inrange(insites[ict[!is.na(ict[,2]),2],2],ann_i$start,ann_i$end) \n",
    "        counts[j,1]<-length(which(sen)) + length(which(antisen))                      # Fill an element of the counts table with the count\n",
    "\n",
    "        sen        <-inrange(insites[icl[!is.na(icl[,1]),1],1],ann_i$start,ann_i$end) \n",
    "        antisen    <-inrange(insites[icl[!is.na(icl[,2]),2],2],ann_i$start,ann_i$end)\n",
    "        counts[j,2]<-length(which(sen)) + length(which(antisen))\n",
    "\n",
    "        sen        <-inrange(insites[iot[!is.na(iot[,1]),1],1],ann_i$start,ann_i$end) \n",
    "        antisen    <-inrange(insites[iot[!is.na(iot[,2]),2],2],ann_i$start,ann_i$end)\n",
    "        counts[j,3]<-length(which(sen)) + length(which(antisen))\n",
    "\n",
    "        sen        <-inrange(insites[iol[!is.na(iol[,1]),1],1],ann_i$start,ann_i$end) \n",
    "        antisen    <-inrange(insites[iol[!is.na(iol[,2]),2],2],ann_i$start,ann_i$end)\n",
    "        counts[j,4]<-length(which(sen)) + length(which(antisen)) \n",
    "\n",
    "        # Double the counts if necessary, to account for diploid genome\n",
    "        if (i %in% c('X','Y') & sum(counts_dipl[24,])!=0) { # If the chrom. is X or Y and genome male, do nothing\n",
    "        \n",
    "        } else {\n",
    "            counts[j,1:4] <- counts[j,1:4]*2\n",
    "        }\n",
    "\n",
    "################################################\n",
    "        # Count in the remaining exonic regions, using counts_dipl (generated by analyses/count_sites_exonicvsnon.ipynb)\n",
    "\n",
    "        counts[j,5]<-(counts_dipl[j,1])-counts[j,1]\n",
    "        counts[j,6]<-(counts_dipl[j,2])-counts[j,2]\n",
    "        counts[j,7]<-(counts_dipl[j,3])-counts[j,3]\n",
    "        counts[j,8]<-(counts_dipl[j,4])-counts[j,4]\n",
    "\n",
    "################################################\n",
    "        # Count outside of exonic ranges for current chromosome (columns 9-12)\n",
    "\n",
    "        if (i %in% c('X','Y') && sum(counts_dipl[24,])!=0) { # If X or Y chrom and male genome, don't double count\n",
    "            counts[j,9]   <- length(which(!is.na(as.vector(ict)))) - counts[j,1] - counts[j,5]\n",
    "            counts[j,10]  <- length(which(!is.na(as.vector(icl)))) - counts[j,2] - counts[j,6]\n",
    "            counts[j,11]  <- length(which(!is.na(as.vector(iot)))) - counts[j,3] - counts[j,7]\n",
    "            counts[j,12]  <- length(which(!is.na(as.vector(iol)))) - counts[j,4] - counts[j,8]\n",
    "        } else if (i == 'Y' && sum(counts_dipl[24,]==0)) { # If Y and female genome, don't count any\n",
    "            counts[j,9:12] <- 0\n",
    "        } else { # Else, double counts\n",
    "            counts[j,9]   <- length(which(!is.na(as.vector(ict))))*2 - counts[j,1] - counts[j,5]\n",
    "            counts[j,10]  <- length(which(!is.na(as.vector(icl))))*2 - counts[j,2] - counts[j,6]\n",
    "            counts[j,11]  <- length(which(!is.na(as.vector(iot))))*2 - counts[j,3] - counts[j,7]\n",
    "            counts[j,12]  <- length(which(!is.na(as.vector(iol))))*2 - counts[j,4] - counts[j,8]\n",
    "        }\n",
    "        \n",
    "        \n",
    "        j<-j+1\n",
    "    }\n",
    "    colnames(counts) <- c('ct_sub','cl_sub','ot_sub','ol_sub','ct_rest','cl_rest','ot_rest','ol_rest','ct_outrange','cl_outrange','ot_outrange','ol_outrange')\n",
    "    rownames(counts) <- paste0('chr',c(1:22,'X','Y'))\n",
    "    return(counts)\n",
    "}"
   ]
  },
  {
   "cell_type": "code",
   "execution_count": 8,
   "metadata": {},
   "outputs": [],
   "source": [
    "get_prob_dist <- function(counts_matrix, exon_ranges) {\n",
    "    \n",
    "    if (sum(counts_matrix[24,])==0) {gend='f'} \n",
    "    else {gend='m'}\n",
    "    counts_matrix <- colSums(counts_matrix)\n",
    "    probs_ENd <- rep(0,3)\n",
    "    for (i in 1:3){\n",
    "        probs_ENd[i] = weights$closed_tight*counts_matrix[(i-1)*4+1] + \n",
    "                       weights$closed_loose*counts_matrix[(i-1)*4+2] + \n",
    "                       weights$open_tight*counts_matrix[(i-1)*4+3] + \n",
    "                       weights$open_loose*counts_matrix[(i-1)*4+4]\n",
    "    }\n",
    "    probs_ENd <- probs_ENd/sum(probs_ENd)\n",
    "    probs_ENd\n",
    "    \n",
    "    probs_ENi <- rep(0,3)\n",
    "    if (gend=='f') { # If female genome, double all sizes\n",
    "        \n",
    "        target_size <- sum(exon_ranges$end[exon_ranges$chrom!='Y']-exon_ranges$start[exon_ranges$chrom!='Y'])*2\n",
    "        exons_size <- sum(lens[1:23,1]*2)\n",
    "        genome_size <- sum(lens[1:23,2]*2)\n",
    "        \n",
    "    } else { # If male genome, double sizes only for chroms. 1-22\n",
    "        \n",
    "        target_size <- sum(exon_ranges$end[exon_ranges$chrom %in% c('X','Y')]-exon_ranges$start[exon_ranges$chrom %in% c('X','Y')])\n",
    "        target_size <- target_size + sum(exon_ranges$end[!(exon_ranges$chrom %in% c('X','Y'))]\n",
    "                                         -exon_ranges$start[!(exon_ranges$chrom %in% c('X','Y'))])*2\n",
    "        \n",
    "        exons_size <-  sum(lens[1:22,1]*2)+sum(lens[23:24,1])\n",
    "        genome_size <- sum(lens[1:22,2]*2)+sum(lens[23:24,2])\n",
    "    }\n",
    "    \n",
    "    probs_ENi[1] <- target_size/genome_size # Chance of target mutation\n",
    "    probs_ENi[2] <- (exons_size-target_size)/genome_size # Chance of passenger mutation\n",
    "    probs_ENi[3] <- (genome_size - exons_size)/genome_size # Chance of null mutation\n",
    "    \n",
    "    pd <- (.9*probs_ENd)+(0.1*probs_ENi) # Assuming 0.9 probability that insertion will be ENd and 0.1 for ENi\n",
    "    pd <- pd/sum(pd)\n",
    "    return(pd)\n",
    "    \n",
    "}"
   ]
  },
  {
   "cell_type": "code",
   "execution_count": 9,
   "metadata": {},
   "outputs": [],
   "source": [
    "get_stats <- function(driver_list) {\n",
    "\n",
    "    # Here we find the exonic ranges for the gene list of the current cancer, and take the union of any overlapping exonic ranges\n",
    "    driver_exons <- exons[exons$gene_sym %in% driver_list$Gene.Symbol,]\n",
    "\n",
    "    driver_exons <- GRanges(driver_exons$chrom,IRanges(driver_exons$start,driver_exons$end))\n",
    "    driver_exons <- reduce(driver_exons)\n",
    "    driver_exons <- data.table(chrom=as.vector(seqnames(driver_exons)),start=start(driver_exons),end=end(driver_exons))\n",
    "\n",
    "    counts_m <- count_in_ranges(driver_exons,counts_dipl_m)\n",
    "    # head(counts_m)\n",
    "    counts_f <- count_in_ranges(driver_exons,counts_dipl_f)\n",
    "    # head(counts_f)\n",
    "\n",
    "    cat('Male driver to passenger site count ratio (unweighted)\\n')\n",
    "    print(sum(rowSums(counts_m[,1:4]))/sum(rowSums(counts_m[,5:8])))\n",
    "    cat('Female driver to passenger site count ratio (unweighted)\\n')\n",
    "    print(sum(rowSums(counts_f[,1:4]))/sum(rowSums(counts_f[,5:8])))\n",
    "\n",
    "    counts_m<-counts_m\n",
    "    counts_f<-counts_f\n",
    "\n",
    "    pd_m <- get_prob_dist(counts_m,driver_exons)\n",
    "    cat('Male probabilities of driver, passenger and null L1 insertion (per L1 insertion)\\n')\n",
    "    print(pd_m)\n",
    "    pd_f <- get_prob_dist(counts_f,driver_exons)\n",
    "    cat('Female probabilities of driver, passenger and null L1 insertion\\n')\n",
    "    print(pd_f)\n",
    "    \n",
    "    return(list(pd_m, pd_f))\n",
    "}"
   ]
  },
  {
   "cell_type": "markdown",
   "metadata": {},
   "source": [
    "## Lung cancer"
   ]
  },
  {
   "cell_type": "code",
   "execution_count": 10,
   "metadata": {},
   "outputs": [
    {
     "name": "stdout",
     "output_type": "stream",
     "text": [
      "Sample of associated drivers:"
     ]
    },
    {
     "data": {
      "text/html": [
       "<table>\n",
       "<thead><tr><th></th><th scope=col>Gene.Symbol</th><th scope=col>Name</th><th scope=col>Entrez.GeneId</th><th scope=col>Genome.Location</th><th scope=col>Tier</th><th scope=col>Hallmark</th><th scope=col>Chr.Band</th><th scope=col>Somatic</th><th scope=col>Germline</th><th scope=col>Tumour.Types.Somatic.</th><th scope=col>Tumour.Types.Germline.</th><th scope=col>Cancer.Syndrome</th><th scope=col>Tissue.Type</th><th scope=col>Molecular.Genetics</th><th scope=col>Role.in.Cancer</th><th scope=col>Mutation.Types</th><th scope=col>Translocation.Partner</th><th scope=col>Other.Germline.Mut</th><th scope=col>Other.Syndrome</th><th scope=col>Synonyms</th></tr></thead>\n",
       "<tbody>\n",
       "\t<tr><th scope=row>147</th><td>CPEB3                                                                          </td><td>cytoplasmic polyadenylation element binding protein 3                          </td><td> 22849                                                                         </td><td>10:92052212-92240350                                                           </td><td>2                                                                              </td><td>                                                                               </td><td>10q23.32                                                                       </td><td>yes                                                                            </td><td>                                                                               </td><td>lung cancer                                                                    </td><td>                                                                               </td><td>                                                                               </td><td>E                                                                              </td><td>                                                                               </td><td>TSG                                                                            </td><td>D                                                                              </td><td>                                                                               </td><td>                                                                               </td><td>                                                                               </td><td>22849,CPEB3,ENSG00000107864,Q8NE35                                             </td></tr>\n",
       "\t<tr><th scope=row>158</th><td>CSMD3                                                                          </td><td>CUB and Sushi multiple domains 3                                               </td><td>114788                                                                         </td><td>8:112224771-113436854                                                          </td><td>2                                                                              </td><td>                                                                               </td><td>8q23.3                                                                         </td><td>yes                                                                            </td><td>                                                                               </td><td>ovarian cancer, oral SCC, lung cancer                                          </td><td>                                                                               </td><td>                                                                               </td><td>E                                                                              </td><td>                                                                               </td><td>TSG                                                                            </td><td>Mis, N                                                                         </td><td>                                                                               </td><td>                                                                               </td><td>                                                                               </td><td>114788,CSMD3,ENSG00000164796,Q7Z407                                            </td></tr>\n",
       "\t<tr><th scope=row>164</th><td>CUL3                                                                           </td><td>cullin 3                                                                       </td><td>  8452                                                                         </td><td>2:224474245-224585009                                                          </td><td>2                                                                              </td><td>                                                                               </td><td>2q36.2                                                                         </td><td>yes                                                                            </td><td>                                                                               </td><td>lung cancer                                                                    </td><td>                                                                               </td><td>                                                                               </td><td>E                                                                              </td><td>                                                                               </td><td>TSG                                                                            </td><td>N                                                                              </td><td>                                                                               </td><td>                                                                               </td><td>                                                                               </td><td>8452,CUL3,ENSG00000036257,Q13618                                               </td></tr>\n",
       "\t<tr><th scope=row>191</th><td>EED                                                                            </td><td>embryonic ectoderm development                                                 </td><td>  8726                                                                         </td><td>11:86245230-86278525                                                           </td><td>2                                                                              </td><td>                                                                               </td><td>11q14.2                                                                        </td><td>yes                                                                            </td><td>                                                                               </td><td>malignant peripheral nerve sheath tumours, MDS and related, lung adenocarcinoma</td><td>                                                                               </td><td>                                                                               </td><td>E, L                                                                           </td><td>                                                                               </td><td>TSG                                                                            </td><td>Mis, F                                                                         </td><td>                                                                               </td><td>                                                                               </td><td>                                                                               </td><td>8726,EED,ENSG00000074266,O75530                                                </td></tr>\n",
       "\t<tr><th scope=row>286</th><td>GPC5                                                                           </td><td>glypican 5                                                                     </td><td>  2262                                                                         </td><td>13:91399047-92866439                                                           </td><td>2                                                                              </td><td>                                                                               </td><td>13q31.3                                                                        </td><td>yes                                                                            </td><td>                                                                               </td><td>lung adenocarcinoma                                                            </td><td>                                                                               </td><td>                                                                               </td><td>E                                                                              </td><td>                                                                               </td><td>TSG                                                                            </td><td>D                                                                              </td><td>                                                                               </td><td>                                                                               </td><td>                                                                               </td><td>2262,ENSG00000179399,GPC5,P78333                                               </td></tr>\n",
       "\t<tr><th scope=row>288</th><td>GRIN2A                                                                         </td><td>glutamate receptor, ionotropic, N-methyl D-aspartate 2A                        </td><td>  2903                                                                         </td><td>16:9763149-10180411                                                            </td><td>1                                                                              </td><td>                                                                               </td><td>16p13.2                                                                        </td><td>yes                                                                            </td><td>                                                                               </td><td>melanoma, colorectal carcinoma, gastric carcinoma, lung carcinoma              </td><td>                                                                               </td><td>                                                                               </td><td>E                                                                              </td><td>Rec                                                                            </td><td>TSG                                                                            </td><td>Mis, N, F, O                                                                   </td><td>                                                                               </td><td>yes                                                                            </td><td>Focal epilepsy and speech disorder with or without mental retardation          </td><td>2903,ENSG00000183454,GRIN2A,NMDAR2A,Q12879                                     </td></tr>\n",
       "</tbody>\n",
       "</table>\n"
      ],
      "text/latex": [
       "\\begin{tabular}{r|llllllllllllllllllll}\n",
       "  & Gene.Symbol & Name & Entrez.GeneId & Genome.Location & Tier & Hallmark & Chr.Band & Somatic & Germline & Tumour.Types.Somatic. & Tumour.Types.Germline. & Cancer.Syndrome & Tissue.Type & Molecular.Genetics & Role.in.Cancer & Mutation.Types & Translocation.Partner & Other.Germline.Mut & Other.Syndrome & Synonyms\\\\\n",
       "\\hline\n",
       "\t147 & CPEB3                                                                           & cytoplasmic polyadenylation element binding protein 3                           &  22849                                                                          & 10:92052212-92240350                                                            & 2                                                                               &                                                                                 & 10q23.32                                                                        & yes                                                                             &                                                                                 & lung cancer                                                                     &                                                                                 &                                                                                 & E                                                                               &                                                                                 & TSG                                                                             & D                                                                               &                                                                                 &                                                                                 &                                                                                 & 22849,CPEB3,ENSG00000107864,Q8NE35                                             \\\\\n",
       "\t158 & CSMD3                                                                           & CUB and Sushi multiple domains 3                                                & 114788                                                                          & 8:112224771-113436854                                                           & 2                                                                               &                                                                                 & 8q23.3                                                                          & yes                                                                             &                                                                                 & ovarian cancer, oral SCC, lung cancer                                           &                                                                                 &                                                                                 & E                                                                               &                                                                                 & TSG                                                                             & Mis, N                                                                          &                                                                                 &                                                                                 &                                                                                 & 114788,CSMD3,ENSG00000164796,Q7Z407                                            \\\\\n",
       "\t164 & CUL3                                                                            & cullin 3                                                                        &   8452                                                                          & 2:224474245-224585009                                                           & 2                                                                               &                                                                                 & 2q36.2                                                                          & yes                                                                             &                                                                                 & lung cancer                                                                     &                                                                                 &                                                                                 & E                                                                               &                                                                                 & TSG                                                                             & N                                                                               &                                                                                 &                                                                                 &                                                                                 & 8452,CUL3,ENSG00000036257,Q13618                                               \\\\\n",
       "\t191 & EED                                                                             & embryonic ectoderm development                                                  &   8726                                                                          & 11:86245230-86278525                                                            & 2                                                                               &                                                                                 & 11q14.2                                                                         & yes                                                                             &                                                                                 & malignant peripheral nerve sheath tumours, MDS and related, lung adenocarcinoma &                                                                                 &                                                                                 & E, L                                                                            &                                                                                 & TSG                                                                             & Mis, F                                                                          &                                                                                 &                                                                                 &                                                                                 & 8726,EED,ENSG00000074266,O75530                                                \\\\\n",
       "\t286 & GPC5                                                                            & glypican 5                                                                      &   2262                                                                          & 13:91399047-92866439                                                            & 2                                                                               &                                                                                 & 13q31.3                                                                         & yes                                                                             &                                                                                 & lung adenocarcinoma                                                             &                                                                                 &                                                                                 & E                                                                               &                                                                                 & TSG                                                                             & D                                                                               &                                                                                 &                                                                                 &                                                                                 & 2262,ENSG00000179399,GPC5,P78333                                               \\\\\n",
       "\t288 & GRIN2A                                                                          & glutamate receptor, ionotropic, N-methyl D-aspartate 2A                         &   2903                                                                          & 16:9763149-10180411                                                             & 1                                                                               &                                                                                 & 16p13.2                                                                         & yes                                                                             &                                                                                 & melanoma, colorectal carcinoma, gastric carcinoma, lung carcinoma               &                                                                                 &                                                                                 & E                                                                               & Rec                                                                             & TSG                                                                             & Mis, N, F, O                                                                    &                                                                                 & yes                                                                             & Focal epilepsy and speech disorder with or without mental retardation           & 2903,ENSG00000183454,GRIN2A,NMDAR2A,Q12879                                     \\\\\n",
       "\\end{tabular}\n"
      ],
      "text/markdown": [
       "\n",
       "| <!--/--> | Gene.Symbol | Name | Entrez.GeneId | Genome.Location | Tier | Hallmark | Chr.Band | Somatic | Germline | Tumour.Types.Somatic. | Tumour.Types.Germline. | Cancer.Syndrome | Tissue.Type | Molecular.Genetics | Role.in.Cancer | Mutation.Types | Translocation.Partner | Other.Germline.Mut | Other.Syndrome | Synonyms | \n",
       "|---|---|---|---|---|---|\n",
       "| 147 | CPEB3                                                                           | cytoplasmic polyadenylation element binding protein 3                           |  22849                                                                          | 10:92052212-92240350                                                            | 2                                                                               |                                                                                 | 10q23.32                                                                        | yes                                                                             |                                                                                 | lung cancer                                                                     |                                                                                 |                                                                                 | E                                                                               |                                                                                 | TSG                                                                             | D                                                                               |                                                                                 |                                                                                 |                                                                                 | 22849,CPEB3,ENSG00000107864,Q8NE35                                              | \n",
       "| 158 | CSMD3                                                                           | CUB and Sushi multiple domains 3                                                | 114788                                                                          | 8:112224771-113436854                                                           | 2                                                                               |                                                                                 | 8q23.3                                                                          | yes                                                                             |                                                                                 | ovarian cancer, oral SCC, lung cancer                                           |                                                                                 |                                                                                 | E                                                                               |                                                                                 | TSG                                                                             | Mis, N                                                                          |                                                                                 |                                                                                 |                                                                                 | 114788,CSMD3,ENSG00000164796,Q7Z407                                             | \n",
       "| 164 | CUL3                                                                            | cullin 3                                                                        |   8452                                                                          | 2:224474245-224585009                                                           | 2                                                                               |                                                                                 | 2q36.2                                                                          | yes                                                                             |                                                                                 | lung cancer                                                                     |                                                                                 |                                                                                 | E                                                                               |                                                                                 | TSG                                                                             | N                                                                               |                                                                                 |                                                                                 |                                                                                 | 8452,CUL3,ENSG00000036257,Q13618                                                | \n",
       "| 191 | EED                                                                             | embryonic ectoderm development                                                  |   8726                                                                          | 11:86245230-86278525                                                            | 2                                                                               |                                                                                 | 11q14.2                                                                         | yes                                                                             |                                                                                 | malignant peripheral nerve sheath tumours, MDS and related, lung adenocarcinoma |                                                                                 |                                                                                 | E, L                                                                            |                                                                                 | TSG                                                                             | Mis, F                                                                          |                                                                                 |                                                                                 |                                                                                 | 8726,EED,ENSG00000074266,O75530                                                 | \n",
       "| 286 | GPC5                                                                            | glypican 5                                                                      |   2262                                                                          | 13:91399047-92866439                                                            | 2                                                                               |                                                                                 | 13q31.3                                                                         | yes                                                                             |                                                                                 | lung adenocarcinoma                                                             |                                                                                 |                                                                                 | E                                                                               |                                                                                 | TSG                                                                             | D                                                                               |                                                                                 |                                                                                 |                                                                                 | 2262,ENSG00000179399,GPC5,P78333                                                | \n",
       "| 288 | GRIN2A                                                                          | glutamate receptor, ionotropic, N-methyl D-aspartate 2A                         |   2903                                                                          | 16:9763149-10180411                                                             | 1                                                                               |                                                                                 | 16p13.2                                                                         | yes                                                                             |                                                                                 | melanoma, colorectal carcinoma, gastric carcinoma, lung carcinoma               |                                                                                 |                                                                                 | E                                                                               | Rec                                                                             | TSG                                                                             | Mis, N, F, O                                                                    |                                                                                 | yes                                                                             | Focal epilepsy and speech disorder with or without mental retardation           | 2903,ENSG00000183454,GRIN2A,NMDAR2A,Q12879                                      | \n",
       "\n",
       "\n"
      ],
      "text/plain": [
       "    Gene.Symbol Name                                                   \n",
       "147 CPEB3       cytoplasmic polyadenylation element binding protein 3  \n",
       "158 CSMD3       CUB and Sushi multiple domains 3                       \n",
       "164 CUL3        cullin 3                                               \n",
       "191 EED         embryonic ectoderm development                         \n",
       "286 GPC5        glypican 5                                             \n",
       "288 GRIN2A      glutamate receptor, ionotropic, N-methyl D-aspartate 2A\n",
       "    Entrez.GeneId Genome.Location       Tier Hallmark Chr.Band Somatic Germline\n",
       "147  22849        10:92052212-92240350  2             10q23.32 yes             \n",
       "158 114788        8:112224771-113436854 2             8q23.3   yes             \n",
       "164   8452        2:224474245-224585009 2             2q36.2   yes             \n",
       "191   8726        11:86245230-86278525  2             11q14.2  yes             \n",
       "286   2262        13:91399047-92866439  2             13q31.3  yes             \n",
       "288   2903        16:9763149-10180411   1             16p13.2  yes             \n",
       "    Tumour.Types.Somatic.                                                          \n",
       "147 lung cancer                                                                    \n",
       "158 ovarian cancer, oral SCC, lung cancer                                          \n",
       "164 lung cancer                                                                    \n",
       "191 malignant peripheral nerve sheath tumours, MDS and related, lung adenocarcinoma\n",
       "286 lung adenocarcinoma                                                            \n",
       "288 melanoma, colorectal carcinoma, gastric carcinoma, lung carcinoma              \n",
       "    Tumour.Types.Germline. Cancer.Syndrome Tissue.Type Molecular.Genetics\n",
       "147                                        E                             \n",
       "158                                        E                             \n",
       "164                                        E                             \n",
       "191                                        E, L                          \n",
       "286                                        E                             \n",
       "288                                        E           Rec               \n",
       "    Role.in.Cancer Mutation.Types Translocation.Partner Other.Germline.Mut\n",
       "147 TSG            D                                                      \n",
       "158 TSG            Mis, N                                                 \n",
       "164 TSG            N                                                      \n",
       "191 TSG            Mis, F                                                 \n",
       "286 TSG            D                                                      \n",
       "288 TSG            Mis, N, F, O                         yes               \n",
       "    Other.Syndrome                                                       \n",
       "147                                                                      \n",
       "158                                                                      \n",
       "164                                                                      \n",
       "191                                                                      \n",
       "286                                                                      \n",
       "288 Focal epilepsy and speech disorder with or without mental retardation\n",
       "    Synonyms                                  \n",
       "147 22849,CPEB3,ENSG00000107864,Q8NE35        \n",
       "158 114788,CSMD3,ENSG00000164796,Q7Z407       \n",
       "164 8452,CUL3,ENSG00000036257,Q13618          \n",
       "191 8726,EED,ENSG00000074266,O75530           \n",
       "286 2262,ENSG00000179399,GPC5,P78333          \n",
       "288 2903,ENSG00000183454,GRIN2A,NMDAR2A,Q12879"
      ]
     },
     "metadata": {},
     "output_type": "display_data"
    },
    {
     "name": "stdout",
     "output_type": "stream",
     "text": [
      "Male driver to passenger site count ratio (unweighted)\n",
      "[1] 0.001959844\n",
      "Female driver to passenger site count ratio (unweighted)\n",
      "[1] 0.001933592\n",
      "Male probabilities of driver, passenger and null L1 insertion (per L1 insertion)\n",
      "[1] 4.728702e-05 2.458201e-02 9.753707e-01\n",
      "Female probabilities of driver, passenger and null L1 insertion\n",
      "[1] 0.0000464248 0.0244492341 0.9755043411\n"
     ]
    }
   ],
   "source": [
    "cat('Sample of associated drivers:')\n",
    "head(geneList_lung)\n",
    "out <- get_stats(geneList_lung)\n",
    "pd_lung_m <- out[[1]]\n",
    "pd_lung_f <- out[[2]]"
   ]
  },
  {
   "cell_type": "markdown",
   "metadata": {},
   "source": [
    "## Colon cancer"
   ]
  },
  {
   "cell_type": "code",
   "execution_count": 11,
   "metadata": {},
   "outputs": [
    {
     "name": "stdout",
     "output_type": "stream",
     "text": [
      "Sample of associated drivers:"
     ]
    },
    {
     "data": {
      "text/html": [
       "<table>\n",
       "<thead><tr><th></th><th scope=col>Gene.Symbol</th><th scope=col>Name</th><th scope=col>Entrez.GeneId</th><th scope=col>Genome.Location</th><th scope=col>Tier</th><th scope=col>Hallmark</th><th scope=col>Chr.Band</th><th scope=col>Somatic</th><th scope=col>Germline</th><th scope=col>Tumour.Types.Somatic.</th><th scope=col>Tumour.Types.Germline.</th><th scope=col>Cancer.Syndrome</th><th scope=col>Tissue.Type</th><th scope=col>Molecular.Genetics</th><th scope=col>Role.in.Cancer</th><th scope=col>Mutation.Types</th><th scope=col>Translocation.Partner</th><th scope=col>Other.Germline.Mut</th><th scope=col>Other.Syndrome</th><th scope=col>Synonyms</th></tr></thead>\n",
       "<tbody>\n",
       "\t<tr><th scope=row>21</th><td>APC                                                                                                  </td><td>adenomatous polyposis of the colon gene                                                              </td><td> 324                                                                                                 </td><td>5:112754891-112844126                                                                                </td><td>1                                                                                                    </td><td>Yes                                                                                                  </td><td>5q21                                                                                                 </td><td>yes                                                                                                  </td><td>yes                                                                                                  </td><td>colorectal, pancreatic, desmoid, hepatoblastoma, glioma, other CNS                                   </td><td>colorectal, pancreatic, desmoid, hepatoblastoma, glioma, other CNS                                   </td><td>adenomatous polyposis coli; Turcot syndrome                                                          </td><td>E, M, O                                                                                              </td><td>Rec                                                                                                  </td><td>TSG                                                                                                  </td><td>D, Mis, N, F, S                                                                                      </td><td>                                                                                                     </td><td>                                                                                                     </td><td>                                                                                                     </td><td>324,APC,ENSG00000134982,P25054                                                                       </td></tr>\n",
       "\t<tr><th scope=row>27</th><td>ARHGEF10                                                                                             </td><td>Rho guanine nucleotide exchange factor 10                                                            </td><td>9639                                                                                                 </td><td>8:1876561-1957263                                                                                    </td><td>2                                                                                                    </td><td>                                                                                                     </td><td>8p23.3                                                                                               </td><td>yes                                                                                                  </td><td>                                                                                                     </td><td>colon cancer                                                                                         </td><td>                                                                                                     </td><td>                                                                                                     </td><td>E                                                                                                    </td><td>                                                                                                     </td><td>TSG                                                                                                  </td><td>D                                                                                                    </td><td>                                                                                                     </td><td>                                                                                                     </td><td>                                                                                                     </td><td>9639,ARHGEF10,ENSG00000104728,O15013                                                                 </td></tr>\n",
       "\t<tr><th scope=row>44</th><td>AXIN1                                                                                                </td><td>axin 1                                                                                               </td><td>8312                                                                                                 </td><td>16:288122-347025                                                                                     </td><td>1                                                                                                    </td><td>Yes                                                                                                  </td><td>16p13.3                                                                                              </td><td>yes                                                                                                  </td><td>                                                                                                     </td><td>colorectal, endometrial, prostate, hepatocellular carcinoma, hepatoblastoma, sporadic medulloblastoma</td><td>                                                                                                     </td><td>                                                                                                     </td><td>E, O                                                                                                 </td><td>Rec                                                                                                  </td><td>TSG                                                                                                  </td><td>D, Mis, N, F, S                                                                                      </td><td>                                                                                                     </td><td>                                                                                                     </td><td>                                                                                                     </td><td>8312,AXIN1,ENSG00000103126,O15169                                                                    </td></tr>\n",
       "\t<tr><th scope=row>45</th><td>AXIN2                                                                                                </td><td>axin 2                                                                                               </td><td>8313                                                                                                 </td><td>17:65529976-65558620                                                                                 </td><td>1                                                                                                    </td><td>Yes                                                                                                  </td><td>17q24.1                                                                                              </td><td>yes                                                                                                  </td><td>yes                                                                                                  </td><td>colorectal carcinoma, stomach carcinoma, hepatocellular carcinoma                                    </td><td>colorectal carcinoma                                                                                 </td><td>oligodontia-colorectal cancer syndrome                                                               </td><td>E                                                                                                    </td><td>Rec                                                                                                  </td><td>TSG                                                                                                  </td><td>Mis, F, N                                                                                            </td><td>                                                                                                     </td><td>                                                                                                     </td><td>                                                                                                     </td><td>8313,AXIN2,ENSG00000168646,Q9Y2T1                                                                    </td></tr>\n",
       "\t<tr><th scope=row>46</th><td>B2M                                                                                                  </td><td>beta-2-microglobulin                                                                                 </td><td> 567                                                                                                 </td><td>15:44711547-44716342                                                                                 </td><td>1                                                                                                    </td><td>Yes                                                                                                  </td><td>15q21.1                                                                                              </td><td>yes                                                                                                  </td><td>                                                                                                     </td><td>DLBCL, melanoma, colorectal adenocarcinoma                                                           </td><td>                                                                                                     </td><td>                                                                                                     </td><td>E, L                                                                                                 </td><td>Rec                                                                                                  </td><td>TSG                                                                                                  </td><td>Mis, N, F                                                                                            </td><td>                                                                                                     </td><td>yes                                                                                                  </td><td>Immunodeficiency 43                                                                                  </td><td>567,B2M,ENSG00000166710,P61769                                                                       </td></tr>\n",
       "\t<tr><th scope=row>49</th><td>BAX                                                                                                  </td><td>BCL2 associated X, apoptosis regulator                                                               </td><td> 581                                                                                                 </td><td>19:48954929-48961097                                                                                 </td><td>1                                                                                                    </td><td>                                                                                                     </td><td>19q13.33                                                                                             </td><td>yes                                                                                                  </td><td>                                                                                                     </td><td>colorectal cancer                                                                                    </td><td>                                                                                                     </td><td>                                                                                                     </td><td>E                                                                                                    </td><td>                                                                                                     </td><td>TSG                                                                                                  </td><td>F, Mis                                                                                               </td><td>                                                                                                     </td><td>                                                                                                     </td><td>                                                                                                     </td><td>581,BAX,ENSG00000087088,Q07812                                                                       </td></tr>\n",
       "</tbody>\n",
       "</table>\n"
      ],
      "text/latex": [
       "\\begin{tabular}{r|llllllllllllllllllll}\n",
       "  & Gene.Symbol & Name & Entrez.GeneId & Genome.Location & Tier & Hallmark & Chr.Band & Somatic & Germline & Tumour.Types.Somatic. & Tumour.Types.Germline. & Cancer.Syndrome & Tissue.Type & Molecular.Genetics & Role.in.Cancer & Mutation.Types & Translocation.Partner & Other.Germline.Mut & Other.Syndrome & Synonyms\\\\\n",
       "\\hline\n",
       "\t21 & APC                                                                                                   & adenomatous polyposis of the colon gene                                                               &  324                                                                                                  & 5:112754891-112844126                                                                                 & 1                                                                                                     & Yes                                                                                                   & 5q21                                                                                                  & yes                                                                                                   & yes                                                                                                   & colorectal, pancreatic, desmoid, hepatoblastoma, glioma, other CNS                                    & colorectal, pancreatic, desmoid, hepatoblastoma, glioma, other CNS                                    & adenomatous polyposis coli; Turcot syndrome                                                           & E, M, O                                                                                               & Rec                                                                                                   & TSG                                                                                                   & D, Mis, N, F, S                                                                                       &                                                                                                       &                                                                                                       &                                                                                                       & 324,APC,ENSG00000134982,P25054                                                                       \\\\\n",
       "\t27 & ARHGEF10                                                                                              & Rho guanine nucleotide exchange factor 10                                                             & 9639                                                                                                  & 8:1876561-1957263                                                                                     & 2                                                                                                     &                                                                                                       & 8p23.3                                                                                                & yes                                                                                                   &                                                                                                       & colon cancer                                                                                          &                                                                                                       &                                                                                                       & E                                                                                                     &                                                                                                       & TSG                                                                                                   & D                                                                                                     &                                                                                                       &                                                                                                       &                                                                                                       & 9639,ARHGEF10,ENSG00000104728,O15013                                                                 \\\\\n",
       "\t44 & AXIN1                                                                                                 & axin 1                                                                                                & 8312                                                                                                  & 16:288122-347025                                                                                      & 1                                                                                                     & Yes                                                                                                   & 16p13.3                                                                                               & yes                                                                                                   &                                                                                                       & colorectal, endometrial, prostate, hepatocellular carcinoma, hepatoblastoma, sporadic medulloblastoma &                                                                                                       &                                                                                                       & E, O                                                                                                  & Rec                                                                                                   & TSG                                                                                                   & D, Mis, N, F, S                                                                                       &                                                                                                       &                                                                                                       &                                                                                                       & 8312,AXIN1,ENSG00000103126,O15169                                                                    \\\\\n",
       "\t45 & AXIN2                                                                                                 & axin 2                                                                                                & 8313                                                                                                  & 17:65529976-65558620                                                                                  & 1                                                                                                     & Yes                                                                                                   & 17q24.1                                                                                               & yes                                                                                                   & yes                                                                                                   & colorectal carcinoma, stomach carcinoma, hepatocellular carcinoma                                     & colorectal carcinoma                                                                                  & oligodontia-colorectal cancer syndrome                                                                & E                                                                                                     & Rec                                                                                                   & TSG                                                                                                   & Mis, F, N                                                                                             &                                                                                                       &                                                                                                       &                                                                                                       & 8313,AXIN2,ENSG00000168646,Q9Y2T1                                                                    \\\\\n",
       "\t46 & B2M                                                                                                   & beta-2-microglobulin                                                                                  &  567                                                                                                  & 15:44711547-44716342                                                                                  & 1                                                                                                     & Yes                                                                                                   & 15q21.1                                                                                               & yes                                                                                                   &                                                                                                       & DLBCL, melanoma, colorectal adenocarcinoma                                                            &                                                                                                       &                                                                                                       & E, L                                                                                                  & Rec                                                                                                   & TSG                                                                                                   & Mis, N, F                                                                                             &                                                                                                       & yes                                                                                                   & Immunodeficiency 43                                                                                   & 567,B2M,ENSG00000166710,P61769                                                                       \\\\\n",
       "\t49 & BAX                                                                                                   & BCL2 associated X, apoptosis regulator                                                                &  581                                                                                                  & 19:48954929-48961097                                                                                  & 1                                                                                                     &                                                                                                       & 19q13.33                                                                                              & yes                                                                                                   &                                                                                                       & colorectal cancer                                                                                     &                                                                                                       &                                                                                                       & E                                                                                                     &                                                                                                       & TSG                                                                                                   & F, Mis                                                                                                &                                                                                                       &                                                                                                       &                                                                                                       & 581,BAX,ENSG00000087088,Q07812                                                                       \\\\\n",
       "\\end{tabular}\n"
      ],
      "text/markdown": [
       "\n",
       "| <!--/--> | Gene.Symbol | Name | Entrez.GeneId | Genome.Location | Tier | Hallmark | Chr.Band | Somatic | Germline | Tumour.Types.Somatic. | Tumour.Types.Germline. | Cancer.Syndrome | Tissue.Type | Molecular.Genetics | Role.in.Cancer | Mutation.Types | Translocation.Partner | Other.Germline.Mut | Other.Syndrome | Synonyms | \n",
       "|---|---|---|---|---|---|\n",
       "| 21 | APC                                                                                                   | adenomatous polyposis of the colon gene                                                               |  324                                                                                                  | 5:112754891-112844126                                                                                 | 1                                                                                                     | Yes                                                                                                   | 5q21                                                                                                  | yes                                                                                                   | yes                                                                                                   | colorectal, pancreatic, desmoid, hepatoblastoma, glioma, other CNS                                    | colorectal, pancreatic, desmoid, hepatoblastoma, glioma, other CNS                                    | adenomatous polyposis coli; Turcot syndrome                                                           | E, M, O                                                                                               | Rec                                                                                                   | TSG                                                                                                   | D, Mis, N, F, S                                                                                       |                                                                                                       |                                                                                                       |                                                                                                       | 324,APC,ENSG00000134982,P25054                                                                        | \n",
       "| 27 | ARHGEF10                                                                                              | Rho guanine nucleotide exchange factor 10                                                             | 9639                                                                                                  | 8:1876561-1957263                                                                                     | 2                                                                                                     |                                                                                                       | 8p23.3                                                                                                | yes                                                                                                   |                                                                                                       | colon cancer                                                                                          |                                                                                                       |                                                                                                       | E                                                                                                     |                                                                                                       | TSG                                                                                                   | D                                                                                                     |                                                                                                       |                                                                                                       |                                                                                                       | 9639,ARHGEF10,ENSG00000104728,O15013                                                                  | \n",
       "| 44 | AXIN1                                                                                                 | axin 1                                                                                                | 8312                                                                                                  | 16:288122-347025                                                                                      | 1                                                                                                     | Yes                                                                                                   | 16p13.3                                                                                               | yes                                                                                                   |                                                                                                       | colorectal, endometrial, prostate, hepatocellular carcinoma, hepatoblastoma, sporadic medulloblastoma |                                                                                                       |                                                                                                       | E, O                                                                                                  | Rec                                                                                                   | TSG                                                                                                   | D, Mis, N, F, S                                                                                       |                                                                                                       |                                                                                                       |                                                                                                       | 8312,AXIN1,ENSG00000103126,O15169                                                                     | \n",
       "| 45 | AXIN2                                                                                                 | axin 2                                                                                                | 8313                                                                                                  | 17:65529976-65558620                                                                                  | 1                                                                                                     | Yes                                                                                                   | 17q24.1                                                                                               | yes                                                                                                   | yes                                                                                                   | colorectal carcinoma, stomach carcinoma, hepatocellular carcinoma                                     | colorectal carcinoma                                                                                  | oligodontia-colorectal cancer syndrome                                                                | E                                                                                                     | Rec                                                                                                   | TSG                                                                                                   | Mis, F, N                                                                                             |                                                                                                       |                                                                                                       |                                                                                                       | 8313,AXIN2,ENSG00000168646,Q9Y2T1                                                                     | \n",
       "| 46 | B2M                                                                                                   | beta-2-microglobulin                                                                                  |  567                                                                                                  | 15:44711547-44716342                                                                                  | 1                                                                                                     | Yes                                                                                                   | 15q21.1                                                                                               | yes                                                                                                   |                                                                                                       | DLBCL, melanoma, colorectal adenocarcinoma                                                            |                                                                                                       |                                                                                                       | E, L                                                                                                  | Rec                                                                                                   | TSG                                                                                                   | Mis, N, F                                                                                             |                                                                                                       | yes                                                                                                   | Immunodeficiency 43                                                                                   | 567,B2M,ENSG00000166710,P61769                                                                        | \n",
       "| 49 | BAX                                                                                                   | BCL2 associated X, apoptosis regulator                                                                |  581                                                                                                  | 19:48954929-48961097                                                                                  | 1                                                                                                     |                                                                                                       | 19q13.33                                                                                              | yes                                                                                                   |                                                                                                       | colorectal cancer                                                                                     |                                                                                                       |                                                                                                       | E                                                                                                     |                                                                                                       | TSG                                                                                                   | F, Mis                                                                                                |                                                                                                       |                                                                                                       |                                                                                                       | 581,BAX,ENSG00000087088,Q07812                                                                        | \n",
       "\n",
       "\n"
      ],
      "text/plain": [
       "   Gene.Symbol Name                                      Entrez.GeneId\n",
       "21 APC         adenomatous polyposis of the colon gene    324         \n",
       "27 ARHGEF10    Rho guanine nucleotide exchange factor 10 9639         \n",
       "44 AXIN1       axin 1                                    8312         \n",
       "45 AXIN2       axin 2                                    8313         \n",
       "46 B2M         beta-2-microglobulin                       567         \n",
       "49 BAX         BCL2 associated X, apoptosis regulator     581         \n",
       "   Genome.Location       Tier Hallmark Chr.Band Somatic Germline\n",
       "21 5:112754891-112844126 1    Yes      5q21     yes     yes     \n",
       "27 8:1876561-1957263     2             8p23.3   yes             \n",
       "44 16:288122-347025      1    Yes      16p13.3  yes             \n",
       "45 17:65529976-65558620  1    Yes      17q24.1  yes     yes     \n",
       "46 15:44711547-44716342  1    Yes      15q21.1  yes             \n",
       "49 19:48954929-48961097  1             19q13.33 yes             \n",
       "   Tumour.Types.Somatic.                                                                                \n",
       "21 colorectal, pancreatic, desmoid, hepatoblastoma, glioma, other CNS                                   \n",
       "27 colon cancer                                                                                         \n",
       "44 colorectal, endometrial, prostate, hepatocellular carcinoma, hepatoblastoma, sporadic medulloblastoma\n",
       "45 colorectal carcinoma, stomach carcinoma, hepatocellular carcinoma                                    \n",
       "46 DLBCL, melanoma, colorectal adenocarcinoma                                                           \n",
       "49 colorectal cancer                                                                                    \n",
       "   Tumour.Types.Germline.                                            \n",
       "21 colorectal, pancreatic, desmoid, hepatoblastoma, glioma, other CNS\n",
       "27                                                                   \n",
       "44                                                                   \n",
       "45 colorectal carcinoma                                              \n",
       "46                                                                   \n",
       "49                                                                   \n",
       "   Cancer.Syndrome                             Tissue.Type Molecular.Genetics\n",
       "21 adenomatous polyposis coli; Turcot syndrome E, M, O     Rec               \n",
       "27                                             E                             \n",
       "44                                             E, O        Rec               \n",
       "45 oligodontia-colorectal cancer syndrome      E           Rec               \n",
       "46                                             E, L        Rec               \n",
       "49                                             E                             \n",
       "   Role.in.Cancer Mutation.Types  Translocation.Partner Other.Germline.Mut\n",
       "21 TSG            D, Mis, N, F, S                                         \n",
       "27 TSG            D                                                       \n",
       "44 TSG            D, Mis, N, F, S                                         \n",
       "45 TSG            Mis, F, N                                               \n",
       "46 TSG            Mis, N, F                             yes               \n",
       "49 TSG            F, Mis                                                  \n",
       "   Other.Syndrome      Synonyms                            \n",
       "21                     324,APC,ENSG00000134982,P25054      \n",
       "27                     9639,ARHGEF10,ENSG00000104728,O15013\n",
       "44                     8312,AXIN1,ENSG00000103126,O15169   \n",
       "45                     8313,AXIN2,ENSG00000168646,Q9Y2T1   \n",
       "46 Immunodeficiency 43 567,B2M,ENSG00000166710,P61769      \n",
       "49                     581,BAX,ENSG00000087088,Q07812      "
      ]
     },
     "metadata": {},
     "output_type": "display_data"
    },
    {
     "name": "stdout",
     "output_type": "stream",
     "text": [
      "Male driver to passenger site count ratio (unweighted)\n",
      "[1] 0.004747007\n",
      "Female driver to passenger site count ratio (unweighted)\n",
      "[1] 0.004665248\n",
      "Male probabilities of driver, passenger and null L1 insertion (per L1 insertion)\n",
      "[1] 0.0001169808 0.0245123119 0.9753707073\n",
      "Female probabilities of driver, passenger and null L1 insertion\n",
      "[1] 0.0001143815 0.0243812774 0.9755043411\n"
     ]
    }
   ],
   "source": [
    "cat('Sample of associated drivers:')\n",
    "head(geneList_colon)\n",
    "out <- get_stats(geneList_colon)\n",
    "pd_colon_m <- out[[1]]\n",
    "pd_colon_f <- out[[2]]"
   ]
  },
  {
   "cell_type": "markdown",
   "metadata": {},
   "source": [
    "## Brain cancer"
   ]
  },
  {
   "cell_type": "code",
   "execution_count": 12,
   "metadata": {},
   "outputs": [
    {
     "name": "stdout",
     "output_type": "stream",
     "text": [
      "Sample of associated drivers:"
     ]
    },
    {
     "data": {
      "text/html": [
       "<table>\n",
       "<thead><tr><th></th><th scope=col>Gene.Symbol</th><th scope=col>Name</th><th scope=col>Entrez.GeneId</th><th scope=col>Genome.Location</th><th scope=col>Tier</th><th scope=col>Hallmark</th><th scope=col>Chr.Band</th><th scope=col>Somatic</th><th scope=col>Germline</th><th scope=col>Tumour.Types.Somatic.</th><th scope=col>Tumour.Types.Germline.</th><th scope=col>Cancer.Syndrome</th><th scope=col>Tissue.Type</th><th scope=col>Molecular.Genetics</th><th scope=col>Role.in.Cancer</th><th scope=col>Mutation.Types</th><th scope=col>Translocation.Partner</th><th scope=col>Other.Germline.Mut</th><th scope=col>Other.Syndrome</th><th scope=col>Synonyms</th></tr></thead>\n",
       "<tbody>\n",
       "\t<tr><th scope=row>132</th><td>CIC                                                                                     </td><td>capicua homolog                                                                         </td><td>23152                                                                                   </td><td>19:42284705-42295191                                                                    </td><td>1                                                                                       </td><td>Yes                                                                                     </td><td>19q13.2                                                                                 </td><td>yes                                                                                     </td><td>                                                                                        </td><td>oligodendroglioma, soft tissue sarcoma                                                  </td><td>                                                                                        </td><td>                                                                                        </td><td>O, M                                                                                    </td><td>Rec                                                                                     </td><td>oncogene, TSG, fusion                                                                   </td><td>Mis, F, S,T                                                                             </td><td>DUX4L1, FOXO4                                                                           </td><td>                                                                                        </td><td>                                                                                        </td><td>23152,CIC,ENSG00000079432                                                               </td></tr>\n",
       "\t<tr><th scope=row>159</th><td>CTCF                                                                                    </td><td>CCCTC-binding factor                                                                    </td><td>10664                                                                                   </td><td>16:67610833-67637872                                                                    </td><td>1                                                                                       </td><td>Yes                                                                                     </td><td>16q22.1                                                                                 </td><td>yes                                                                                     </td><td>                                                                                        </td><td>endometrial, breast, head and neck cancer                                               </td><td>                                                                                        </td><td>                                                                                        </td><td>E                                                                                       </td><td>Dom                                                                                     </td><td>TSG                                                                                     </td><td>Mis, N                                                                                  </td><td>                                                                                        </td><td>                                                                                        </td><td>Mental retardation, autosomal dominant 21                                               </td><td>10664,CTCF,ENSG00000102974,P49711                                                       </td></tr>\n",
       "\t<tr><th scope=row>238</th><td>FAT1                                                                                    </td><td>FAT atypical cadherin 1                                                                 </td><td> 2195                                                                                   </td><td>4:186588592-186709827                                                                   </td><td>1                                                                                       </td><td>Yes                                                                                     </td><td>4q35.2                                                                                  </td><td>yes                                                                                     </td><td>yes                                                                                     </td><td>oral squamous cell, chemorefractory CLL, head and neck, pancreatic acinar cell carcinoma</td><td>pancreatic                                                                              </td><td>                                                                                        </td><td>E, L                                                                                    </td><td>                                                                                        </td><td>TSG                                                                                     </td><td>Mis, N, F, S                                                                            </td><td>                                                                                        </td><td>                                                                                        </td><td>                                                                                        </td><td>2195,ENSG00000083857,FAT,FAT1,Q14517                                                    </td></tr>\n",
       "\t<tr><th scope=row>240</th><td>FAT4                                                                                    </td><td>FAT atypical cadherin 4                                                                 </td><td>79633                                                                                   </td><td>4:125316412-125491768                                                                   </td><td>1                                                                                       </td><td>Yes                                                                                     </td><td>4q28.1                                                                                  </td><td>yes                                                                                     </td><td>                                                                                        </td><td>lymphoma, pancreatic, head and neck, melanoma, hepatocellular carcinoma                 </td><td>                                                                                        </td><td>                                                                                        </td><td>E, L                                                                                    </td><td>                                                                                        </td><td>TSG                                                                                     </td><td>Mis, N                                                                                  </td><td>                                                                                        </td><td>yes                                                                                     </td><td>Hennekam lymphangiectasia-lymphedema syndrome 2, Van Maldergem syndrome 2               </td><td>79633,ENSG00000196159,FAT4                                                              </td></tr>\n",
       "\t<tr><th scope=row>353</th><td>KLF4                                                                                    </td><td>Kruppel-like factor 4                                                                   </td><td> 9314                                                                                   </td><td>9:107485751-107489172                                                                   </td><td>1                                                                                       </td><td>Yes                                                                                     </td><td>9q31                                                                                    </td><td>yes                                                                                     </td><td>                                                                                        </td><td>meningioma                                                                              </td><td>                                                                                        </td><td>                                                                                        </td><td>O                                                                                       </td><td>Dom                                                                                     </td><td>oncogene, TSG                                                                           </td><td>Mis                                                                                     </td><td>                                                                                        </td><td>                                                                                        </td><td>                                                                                        </td><td>9314,ENSG00000136826,KLF4,O43474                                                        </td></tr>\n",
       "\t<tr><th scope=row>445</th><td>NF2                                                                                     </td><td>neurofibromatosis type 2 gene                                                           </td><td> 4771                                                                                   </td><td>22:29603999-29694802                                                                    </td><td>1                                                                                       </td><td>Yes                                                                                     </td><td>22q12.2                                                                                 </td><td>yes                                                                                     </td><td>yes                                                                                     </td><td>meningioma, acoustic neuroma, renal                                                     </td><td>meningioma, acoustic neuroma                                                            </td><td>neurofibromatosis type 2                                                                </td><td>O                                                                                       </td><td>Rec                                                                                     </td><td>TSG                                                                                     </td><td>D, Mis, N, F, S, O                                                                      </td><td>                                                                                        </td><td>                                                                                        </td><td>                                                                                        </td><td>4771,ENSG00000186575,NF2,P35240                                                         </td></tr>\n",
       "</tbody>\n",
       "</table>\n"
      ],
      "text/latex": [
       "\\begin{tabular}{r|llllllllllllllllllll}\n",
       "  & Gene.Symbol & Name & Entrez.GeneId & Genome.Location & Tier & Hallmark & Chr.Band & Somatic & Germline & Tumour.Types.Somatic. & Tumour.Types.Germline. & Cancer.Syndrome & Tissue.Type & Molecular.Genetics & Role.in.Cancer & Mutation.Types & Translocation.Partner & Other.Germline.Mut & Other.Syndrome & Synonyms\\\\\n",
       "\\hline\n",
       "\t132 & CIC                                                                                      & capicua homolog                                                                          & 23152                                                                                    & 19:42284705-42295191                                                                     & 1                                                                                        & Yes                                                                                      & 19q13.2                                                                                  & yes                                                                                      &                                                                                          & oligodendroglioma, soft tissue sarcoma                                                   &                                                                                          &                                                                                          & O, M                                                                                     & Rec                                                                                      & oncogene, TSG, fusion                                                                    & Mis, F, S,T                                                                              & DUX4L1, FOXO4                                                                            &                                                                                          &                                                                                          & 23152,CIC,ENSG00000079432                                                               \\\\\n",
       "\t159 & CTCF                                                                                     & CCCTC-binding factor                                                                     & 10664                                                                                    & 16:67610833-67637872                                                                     & 1                                                                                        & Yes                                                                                      & 16q22.1                                                                                  & yes                                                                                      &                                                                                          & endometrial, breast, head and neck cancer                                                &                                                                                          &                                                                                          & E                                                                                        & Dom                                                                                      & TSG                                                                                      & Mis, N                                                                                   &                                                                                          &                                                                                          & Mental retardation, autosomal dominant 21                                                & 10664,CTCF,ENSG00000102974,P49711                                                       \\\\\n",
       "\t238 & FAT1                                                                                     & FAT atypical cadherin 1                                                                  &  2195                                                                                    & 4:186588592-186709827                                                                    & 1                                                                                        & Yes                                                                                      & 4q35.2                                                                                   & yes                                                                                      & yes                                                                                      & oral squamous cell, chemorefractory CLL, head and neck, pancreatic acinar cell carcinoma & pancreatic                                                                               &                                                                                          & E, L                                                                                     &                                                                                          & TSG                                                                                      & Mis, N, F, S                                                                             &                                                                                          &                                                                                          &                                                                                          & 2195,ENSG00000083857,FAT,FAT1,Q14517                                                    \\\\\n",
       "\t240 & FAT4                                                                                     & FAT atypical cadherin 4                                                                  & 79633                                                                                    & 4:125316412-125491768                                                                    & 1                                                                                        & Yes                                                                                      & 4q28.1                                                                                   & yes                                                                                      &                                                                                          & lymphoma, pancreatic, head and neck, melanoma, hepatocellular carcinoma                  &                                                                                          &                                                                                          & E, L                                                                                     &                                                                                          & TSG                                                                                      & Mis, N                                                                                   &                                                                                          & yes                                                                                      & Hennekam lymphangiectasia-lymphedema syndrome 2, Van Maldergem syndrome 2                & 79633,ENSG00000196159,FAT4                                                              \\\\\n",
       "\t353 & KLF4                                                                                     & Kruppel-like factor 4                                                                    &  9314                                                                                    & 9:107485751-107489172                                                                    & 1                                                                                        & Yes                                                                                      & 9q31                                                                                     & yes                                                                                      &                                                                                          & meningioma                                                                               &                                                                                          &                                                                                          & O                                                                                        & Dom                                                                                      & oncogene, TSG                                                                            & Mis                                                                                      &                                                                                          &                                                                                          &                                                                                          & 9314,ENSG00000136826,KLF4,O43474                                                        \\\\\n",
       "\t445 & NF2                                                                                      & neurofibromatosis type 2 gene                                                            &  4771                                                                                    & 22:29603999-29694802                                                                     & 1                                                                                        & Yes                                                                                      & 22q12.2                                                                                  & yes                                                                                      & yes                                                                                      & meningioma, acoustic neuroma, renal                                                      & meningioma, acoustic neuroma                                                             & neurofibromatosis type 2                                                                 & O                                                                                        & Rec                                                                                      & TSG                                                                                      & D, Mis, N, F, S, O                                                                       &                                                                                          &                                                                                          &                                                                                          & 4771,ENSG00000186575,NF2,P35240                                                         \\\\\n",
       "\\end{tabular}\n"
      ],
      "text/markdown": [
       "\n",
       "| <!--/--> | Gene.Symbol | Name | Entrez.GeneId | Genome.Location | Tier | Hallmark | Chr.Band | Somatic | Germline | Tumour.Types.Somatic. | Tumour.Types.Germline. | Cancer.Syndrome | Tissue.Type | Molecular.Genetics | Role.in.Cancer | Mutation.Types | Translocation.Partner | Other.Germline.Mut | Other.Syndrome | Synonyms | \n",
       "|---|---|---|---|---|---|\n",
       "| 132 | CIC                                                                                      | capicua homolog                                                                          | 23152                                                                                    | 19:42284705-42295191                                                                     | 1                                                                                        | Yes                                                                                      | 19q13.2                                                                                  | yes                                                                                      |                                                                                          | oligodendroglioma, soft tissue sarcoma                                                   |                                                                                          |                                                                                          | O, M                                                                                     | Rec                                                                                      | oncogene, TSG, fusion                                                                    | Mis, F, S,T                                                                              | DUX4L1, FOXO4                                                                            |                                                                                          |                                                                                          | 23152,CIC,ENSG00000079432                                                                | \n",
       "| 159 | CTCF                                                                                     | CCCTC-binding factor                                                                     | 10664                                                                                    | 16:67610833-67637872                                                                     | 1                                                                                        | Yes                                                                                      | 16q22.1                                                                                  | yes                                                                                      |                                                                                          | endometrial, breast, head and neck cancer                                                |                                                                                          |                                                                                          | E                                                                                        | Dom                                                                                      | TSG                                                                                      | Mis, N                                                                                   |                                                                                          |                                                                                          | Mental retardation, autosomal dominant 21                                                | 10664,CTCF,ENSG00000102974,P49711                                                        | \n",
       "| 238 | FAT1                                                                                     | FAT atypical cadherin 1                                                                  |  2195                                                                                    | 4:186588592-186709827                                                                    | 1                                                                                        | Yes                                                                                      | 4q35.2                                                                                   | yes                                                                                      | yes                                                                                      | oral squamous cell, chemorefractory CLL, head and neck, pancreatic acinar cell carcinoma | pancreatic                                                                               |                                                                                          | E, L                                                                                     |                                                                                          | TSG                                                                                      | Mis, N, F, S                                                                             |                                                                                          |                                                                                          |                                                                                          | 2195,ENSG00000083857,FAT,FAT1,Q14517                                                     | \n",
       "| 240 | FAT4                                                                                     | FAT atypical cadherin 4                                                                  | 79633                                                                                    | 4:125316412-125491768                                                                    | 1                                                                                        | Yes                                                                                      | 4q28.1                                                                                   | yes                                                                                      |                                                                                          | lymphoma, pancreatic, head and neck, melanoma, hepatocellular carcinoma                  |                                                                                          |                                                                                          | E, L                                                                                     |                                                                                          | TSG                                                                                      | Mis, N                                                                                   |                                                                                          | yes                                                                                      | Hennekam lymphangiectasia-lymphedema syndrome 2, Van Maldergem syndrome 2                | 79633,ENSG00000196159,FAT4                                                               | \n",
       "| 353 | KLF4                                                                                     | Kruppel-like factor 4                                                                    |  9314                                                                                    | 9:107485751-107489172                                                                    | 1                                                                                        | Yes                                                                                      | 9q31                                                                                     | yes                                                                                      |                                                                                          | meningioma                                                                               |                                                                                          |                                                                                          | O                                                                                        | Dom                                                                                      | oncogene, TSG                                                                            | Mis                                                                                      |                                                                                          |                                                                                          |                                                                                          | 9314,ENSG00000136826,KLF4,O43474                                                         | \n",
       "| 445 | NF2                                                                                      | neurofibromatosis type 2 gene                                                            |  4771                                                                                    | 22:29603999-29694802                                                                     | 1                                                                                        | Yes                                                                                      | 22q12.2                                                                                  | yes                                                                                      | yes                                                                                      | meningioma, acoustic neuroma, renal                                                      | meningioma, acoustic neuroma                                                             | neurofibromatosis type 2                                                                 | O                                                                                        | Rec                                                                                      | TSG                                                                                      | D, Mis, N, F, S, O                                                                       |                                                                                          |                                                                                          |                                                                                          | 4771,ENSG00000186575,NF2,P35240                                                          | \n",
       "\n",
       "\n"
      ],
      "text/plain": [
       "    Gene.Symbol Name                          Entrez.GeneId\n",
       "132 CIC         capicua homolog               23152        \n",
       "159 CTCF        CCCTC-binding factor          10664        \n",
       "238 FAT1        FAT atypical cadherin 1        2195        \n",
       "240 FAT4        FAT atypical cadherin 4       79633        \n",
       "353 KLF4        Kruppel-like factor 4          9314        \n",
       "445 NF2         neurofibromatosis type 2 gene  4771        \n",
       "    Genome.Location       Tier Hallmark Chr.Band Somatic Germline\n",
       "132 19:42284705-42295191  1    Yes      19q13.2  yes             \n",
       "159 16:67610833-67637872  1    Yes      16q22.1  yes             \n",
       "238 4:186588592-186709827 1    Yes      4q35.2   yes     yes     \n",
       "240 4:125316412-125491768 1    Yes      4q28.1   yes             \n",
       "353 9:107485751-107489172 1    Yes      9q31     yes             \n",
       "445 22:29603999-29694802  1    Yes      22q12.2  yes     yes     \n",
       "    Tumour.Types.Somatic.                                                                   \n",
       "132 oligodendroglioma, soft tissue sarcoma                                                  \n",
       "159 endometrial, breast, head and neck cancer                                               \n",
       "238 oral squamous cell, chemorefractory CLL, head and neck, pancreatic acinar cell carcinoma\n",
       "240 lymphoma, pancreatic, head and neck, melanoma, hepatocellular carcinoma                 \n",
       "353 meningioma                                                                              \n",
       "445 meningioma, acoustic neuroma, renal                                                     \n",
       "    Tumour.Types.Germline.       Cancer.Syndrome          Tissue.Type\n",
       "132                                                       O, M       \n",
       "159                                                       E          \n",
       "238 pancreatic                                            E, L       \n",
       "240                                                       E, L       \n",
       "353                                                       O          \n",
       "445 meningioma, acoustic neuroma neurofibromatosis type 2 O          \n",
       "    Molecular.Genetics Role.in.Cancer        Mutation.Types    \n",
       "132 Rec                oncogene, TSG, fusion Mis, F, S,T       \n",
       "159 Dom                TSG                   Mis, N            \n",
       "238                    TSG                   Mis, N, F, S      \n",
       "240                    TSG                   Mis, N            \n",
       "353 Dom                oncogene, TSG         Mis               \n",
       "445 Rec                TSG                   D, Mis, N, F, S, O\n",
       "    Translocation.Partner Other.Germline.Mut\n",
       "132 DUX4L1, FOXO4                           \n",
       "159                                         \n",
       "238                                         \n",
       "240                       yes               \n",
       "353                                         \n",
       "445                                         \n",
       "    Other.Syndrome                                                           \n",
       "132                                                                          \n",
       "159 Mental retardation, autosomal dominant 21                                \n",
       "238                                                                          \n",
       "240 Hennekam lymphangiectasia-lymphedema syndrome 2, Van Maldergem syndrome 2\n",
       "353                                                                          \n",
       "445                                                                          \n",
       "    Synonyms                            \n",
       "132 23152,CIC,ENSG00000079432           \n",
       "159 10664,CTCF,ENSG00000102974,P49711   \n",
       "238 2195,ENSG00000083857,FAT,FAT1,Q14517\n",
       "240 79633,ENSG00000196159,FAT4          \n",
       "353 9314,ENSG00000136826,KLF4,O43474    \n",
       "445 4771,ENSG00000186575,NF2,P35240     "
      ]
     },
     "metadata": {},
     "output_type": "display_data"
    },
    {
     "name": "stdout",
     "output_type": "stream",
     "text": [
      "Male driver to passenger site count ratio (unweighted)\n",
      "[1] 0.0006636383\n",
      "Female driver to passenger site count ratio (unweighted)\n",
      "[1] 0.000652254\n",
      "Male probabilities of driver, passenger and null L1 insertion (per L1 insertion)\n",
      "[1] 1.653611e-05 2.461276e-02 9.753707e-01\n",
      "Female probabilities of driver, passenger and null L1 insertion\n",
      "[1] 1.617498e-05 2.447948e-02 9.755043e-01\n"
     ]
    }
   ],
   "source": [
    "cat('Sample of associated drivers:')\n",
    "head(geneList_brain)\n",
    "out <- get_stats(geneList_brain)\n",
    "pd_brain_m <- out[[1]]\n",
    "pd_brain_f <- out[[2]]"
   ]
  },
  {
   "cell_type": "code",
   "execution_count": 13,
   "metadata": {},
   "outputs": [],
   "source": [
    "save(pd_lung_m,pd_lung_f,pd_colon_m,pd_colon_f,pd_brain_m,pd_brain_f,file='./data/tumor_type_pd_cgc.rda')\n",
    "save(geneList_lung,geneList_colon,geneList_brain,file='./data/tumor_type_driver_lists_cgc.rda')"
   ]
  }
 ],
 "metadata": {
  "kernelspec": {
   "display_name": "R",
   "language": "R",
   "name": "ir"
  },
  "language_info": {
   "codemirror_mode": "r",
   "file_extension": ".r",
   "mimetype": "text/x-r-source",
   "name": "R",
   "pygments_lexer": "r",
   "version": "3.5.1"
  }
 },
 "nbformat": 4,
 "nbformat_minor": 2
}
