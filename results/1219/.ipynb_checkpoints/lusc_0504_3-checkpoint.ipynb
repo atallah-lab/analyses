{
 "cells": [
  {
   "cell_type": "code",
   "execution_count": 1,
   "metadata": {},
   "outputs": [
    {
     "name": "stderr",
     "output_type": "stream",
     "text": [
      "Loading required package: spam\n",
      "\n",
      "Loading required package: dotCall64\n",
      "\n",
      "Loading required package: grid\n",
      "\n",
      "Spam version 2.5-1 (2019-12-12) is loaded.\n",
      "Type 'help( Spam)' or 'demo( spam)' for a short introduction \n",
      "and overview of this package.\n",
      "Help for individual functions is also obtained by adding the\n",
      "suffix '.spam' to the function name, e.g. 'help( chol.spam)'.\n",
      "\n",
      "\n",
      "Attaching package: ‘spam’\n",
      "\n",
      "\n",
      "The following objects are masked from ‘package:base’:\n",
      "\n",
      "    backsolve, forwardsolve\n",
      "\n",
      "\n",
      "Loading required package: maps\n",
      "\n",
      "See https://github.com/NCAR/Fields for\n",
      " an extensive vignette, other supplements and source code \n",
      "\n",
      "Loading required package: viridisLite\n",
      "\n"
     ]
    }
   ],
   "source": [
    "library(naturalsort)\n",
    "library(fields)\n",
    "library(viridis)\n",
    "\n",
    "dataDir <- '~/jackgl/data/simulations/1219/lusc_0504_3/'\n",
    "ctype <- 'LUSC'"
   ]
  },
  {
   "cell_type": "code",
   "execution_count": 2,
   "metadata": {},
   "outputs": [],
   "source": [
    "flst <- naturalsort(list.files(dataDir))\n",
    "flst <- flst[2:(length(flst))]"
   ]
  },
  {
   "cell_type": "code",
   "execution_count": null,
   "metadata": {},
   "outputs": [],
   "source": [
    "nd_het <- rep(NA,length(flst))\n",
    "nd_hom <- rep(NA,length(flst))\n",
    "np_het <- rep(NA,length(flst))\n",
    "np_hom <- rep(NA,length(flst))\n",
    "Ns <- array(NA,dim=c(length(flst),5e3))\n",
    "sPs <- rep(NA,length(flst))\n",
    "mus <- rep(NA,length(flst))\n",
    "\n",
    "for (ii in 1:length(flst)) {\n",
    "    load(paste0(dataDir,flst[ii]))\n",
    "    N[N==0] <- NA\n",
    "    Ns[ii,] <- N\n",
    "    nd_het[ii] <- sum(Pop$nd_het[Pop$ncells!=0]*Pop$ncells[Pop$ncells!=0]/sum(Pop$ncells))\n",
    "    nd_hom[ii] <- sum(Pop$nd_hom[Pop$ncells!=0]*Pop$ncells[Pop$ncells!=0]/sum(Pop$ncells))\n",
    "    np_het[ii] <- sum(Pop$np_het[Pop$ncells!=0]*Pop$ncells[Pop$ncells!=0]/sum(Pop$ncells))\n",
    "    np_hom[ii] <- sum(Pop$np_hom[Pop$ncells!=0]*Pop$ncells[Pop$ncells!=0]/sum(Pop$ncells))\n",
    "    sPs[ii] <- sP\n",
    "    mus[ii] <- mu\n",
    "    rm(Pop,gen_time,N,mut_genes)\n",
    "}"
   ]
  },
  {
   "cell_type": "code",
   "execution_count": null,
   "metadata": {},
   "outputs": [],
   "source": [
    "get_fc <- function(N) {\n",
    "    return(N[length(which(!is.na(N)))]/N[1])\n",
    "}"
   ]
  },
  {
   "cell_type": "code",
   "execution_count": null,
   "metadata": {
    "scrolled": false
   },
   "outputs": [],
   "source": [
    "# Assign data to temporary objects\n",
    "x <- mus\n",
    "y <- log(sPs)\n",
    "z <- as.vector(apply(Ns,1,get_fc))\n",
    "# z <- nd_hom\n",
    "\n",
    "quant <- function(x) {quantile(x,0.5)}\n",
    "closest <- function(x,v) {\n",
    "    return(which.min(abs(v - x)))\n",
    "}\n",
    "\n",
    "cor <- data.frame(x=x,y=y,z=z)\n",
    "test <- aggregate(cor, by=list(x,y), FUN=quant)\n",
    "test$x <- test$Group.1\n",
    "test$y <- test$Group.2\n",
    "# test <- test[test$y>=100,]\n",
    "\n",
    "# Thin plate spline interpolation to irregular data\n",
    "test.spline <- Tps(data.frame(test$x,test$y), test$z)#,lambda=0.01)\n",
    "\n",
    "new.grid <- predictSurface(test.spline, nx = 50, ny = 50)\n",
    "# v=quantile(seq(0,.3,0.01),seq(0.01,1,.01),na.rm=TRUE) # for standard dev.\n",
    "v=quantile(seq(0.6,1.4,0.01),seq(0.01,1,.01),na.rm=TRUE) # for fold change\n",
    "# v=quantile(seq(0,8,0.01),seq(0.01,1,.01),na.rm=TRUE) # for driver count\n",
    "\n",
    "cols <- magma(100)\n",
    "image.plot(new.grid,\n",
    "          col=cols[closest(min(new.grid$z[!is.na(new.grid$z)]),v):closest(max(new.grid$z[!is.na(new.grid$z)]),v)],\n",
    "          xlab=expression(mu),\n",
    "          ylab=expression(s[P]),\n",
    "          cex.lab=1.5,\n",
    "          main=bquote(paste(.(ctype),' (',N[0],'= 1e3, ',s[D],'= 0.1)')),\n",
    "          yaxt = 'n')\n",
    "# contour(new.grid,add=TRUE,nlevels=5,col='white',labcex=1.2)\n",
    "# Add log axis labels manually\n",
    "axis(2,at=c(log(1e-4),log(1e-3),log(1e-2),log(1e-1),log(1e0)),label=round(exp(c(log(1e-4),log(1e-3),log(1e-2),log(1e-1),log(1e0))),4))\n",
    "\n",
    "# points(test$x,test$y,\n",
    "#        col=cols[as.numeric(lapply(test$z,closest,v))],\n",
    "#        pch=20,\n",
    "#        cex=3)\n",
    "# points(test$x,test$y,pch=1,col='beige')\n",
    "\n",
    "# z <- np_het\n",
    "# cor <- data.frame(x=x,y=y,z=z)\n",
    "# test <- aggregate(cor, by=list(x,y), FUN=quant)\n",
    "# test$x <- test$Group.1\n",
    "# test$y <- test$Group.2\n",
    "# # test <- test[test$y>=50,]\n",
    "# # Thin plate spline interpolation to irregular data\n",
    "# test.spline <- Tps(data.frame(test$x,test$y), test$z,lambda=0.01)\n",
    "# new.grid <- predictSurface(test.spline, nx = 50, ny = 50)\n",
    "# contour(new.grid,add=TRUE,nlevels=10,lty=1,col='white',labcex=1.5,method='flattest')"
   ]
  },
  {
   "cell_type": "code",
   "execution_count": null,
   "metadata": {},
   "outputs": [],
   "source": []
  },
  {
   "cell_type": "code",
   "execution_count": null,
   "metadata": {},
   "outputs": [],
   "source": []
  },
  {
   "cell_type": "code",
   "execution_count": null,
   "metadata": {},
   "outputs": [],
   "source": []
  },
  {
   "cell_type": "code",
   "execution_count": null,
   "metadata": {},
   "outputs": [],
   "source": []
  },
  {
   "cell_type": "code",
   "execution_count": null,
   "metadata": {},
   "outputs": [],
   "source": []
  },
  {
   "cell_type": "code",
   "execution_count": null,
   "metadata": {},
   "outputs": [],
   "source": []
  },
  {
   "cell_type": "code",
   "execution_count": null,
   "metadata": {},
   "outputs": [],
   "source": []
  },
  {
   "cell_type": "code",
   "execution_count": null,
   "metadata": {},
   "outputs": [],
   "source": []
  },
  {
   "cell_type": "code",
   "execution_count": null,
   "metadata": {},
   "outputs": [],
   "source": []
  },
  {
   "cell_type": "code",
   "execution_count": null,
   "metadata": {},
   "outputs": [],
   "source": []
  }
 ],
 "metadata": {
  "kernelspec": {
   "display_name": "R",
   "language": "R",
   "name": "ir"
  },
  "language_info": {
   "codemirror_mode": "r",
   "file_extension": ".r",
   "mimetype": "text/x-r-source",
   "name": "R",
   "pygments_lexer": "r",
   "version": "3.6.1"
  }
 },
 "nbformat": 4,
 "nbformat_minor": 2
}
