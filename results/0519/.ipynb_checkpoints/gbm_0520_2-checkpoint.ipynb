{
 "cells": [
  {
   "cell_type": "markdown",
   "metadata": {},
   "source": [
    "### 500 simulations with static parameters, evaluating frequency of homozygous TSG disruption"
   ]
  },
  {
   "cell_type": "code",
   "execution_count": 20,
   "metadata": {},
   "outputs": [],
   "source": [
    "library(naturalsort)\n",
    "library(boot)\n",
    "library(pracma)\n",
    "library(viridis)\n",
    "cols1 <- magma(520)\n",
    "\n",
    "dataDir <- '~/jackgl/Data/simulations/0519/gbm_0520_2/'\n",
    "ctype <- 'GBM'\n",
    "\n",
    "# Constant parameters for the simulations:\n",
    "mu <- 0.1\n",
    "sd <- 0.1\n",
    "sp <- 0.005\n",
    "N0 <- 1000"
   ]
  },
  {
   "cell_type": "code",
   "execution_count": 21,
   "metadata": {},
   "outputs": [],
   "source": [
    "flst <- naturalsort(list.files(dataDir))\n",
    "flst <- flst[2:(length(flst))]"
   ]
  },
  {
   "cell_type": "markdown",
   "metadata": {},
   "source": [
    "#### Load population size time series"
   ]
  },
  {
   "cell_type": "code",
   "execution_count": 22,
   "metadata": {},
   "outputs": [
    {
     "data": {
      "text/html": [
       "<ol class=list-inline>\n",
       "\t<li>500</li>\n",
       "\t<li>5000</li>\n",
       "</ol>\n"
      ],
      "text/latex": [
       "\\begin{enumerate*}\n",
       "\\item 500\n",
       "\\item 5000\n",
       "\\end{enumerate*}\n"
      ],
      "text/markdown": [
       "1. 500\n",
       "2. 5000\n",
       "\n",
       "\n"
      ],
      "text/plain": [
       "[1]  500 5000"
      ]
     },
     "metadata": {},
     "output_type": "display_data"
    }
   ],
   "source": [
    "Ns <- array(NA,dim=c(length(flst),5e3))\n",
    "\n",
    "for (ii in 1:length(flst)) {\n",
    "load(paste0(dataDir,flst[ii]))\n",
    "N[N==0] <- NA\n",
    "Ns[ii,] <- N\n",
    "}\n",
    "dim(Ns)\n"
   ]
  },
  {
   "cell_type": "markdown",
   "metadata": {},
   "source": [
    "#### Calculate statistics over time"
   ]
  },
  {
   "cell_type": "code",
   "execution_count": 23,
   "metadata": {},
   "outputs": [],
   "source": [
    "Ns_repmean <- apply(Ns,c(2),mean)\n",
    "Ns_repmed <- apply(Ns,c(2),median)\n",
    "Ns_repstd <- apply(Ns,c(2),std)"
   ]
  },
  {
   "cell_type": "markdown",
   "metadata": {},
   "source": [
    "#### Get average number of heterozygous and homozygous driver and passenger mutations per cell"
   ]
  },
  {
   "cell_type": "code",
   "execution_count": 24,
   "metadata": {},
   "outputs": [],
   "source": [
    "nd_het <- array(NA,dim=c(length(flst),1))\n",
    "np_het <- array(NA,dim=c(length(flst),1))\n",
    "nd_hom <- array(NA,dim=c(length(flst),1))\n",
    "np_hom <- array(NA,dim=c(length(flst),1))\n",
    "\n",
    "for (ii in 1:length(flst)) {\n",
    "    load(paste0(dataDir,flst[ii]))\n",
    "    nd_het[ii] <- sum(Pop$nd_het[Pop$ncells!=0]*Pop$ncells[Pop$ncells!=0]/sum(Pop$ncells))\n",
    "    np_het[ii] <- sum(Pop$np_het[Pop$ncells!=0]*Pop$ncells[Pop$ncells!=0]/sum(Pop$ncells))\n",
    "    nd_hom[ii] <- sum(Pop$nd_hom[Pop$ncells!=0]*Pop$ncells[Pop$ncells!=0]/sum(Pop$ncells))\n",
    "    np_hom[ii] <- sum(Pop$np_hom[Pop$ncells!=0]*Pop$ncells[Pop$ncells!=0]/sum(Pop$ncells))\n",
    "}\n"
   ]
  },
  {
   "cell_type": "markdown",
   "metadata": {},
   "source": [
    "#### Plot smoothed population size time series for all simulations"
   ]
  },
  {
   "cell_type": "code",
   "execution_count": null,
   "metadata": {},
   "outputs": [],
   "source": [
    "plot(100:length(Ns[1,]),tail(movavg(Ns[1,],100,'s'),4901),type='l',main=paste0(ctype,' (Moving Average Plot; mu=',toString(mu),';',' sd= ',toString(sd),' sp= ',toString(sp),')'),xlab='Generation',ylab='Population Size',col=cols1[1],lwd=2,ylim=c(900,1250))\n",
    "for (i in 1:length(flst)) {lines(100:length(Ns[i,]),tail(movavg(Ns[i,],100,'s'),4901),type='l',col=cols1[i],lwd=2)}"
   ]
  },
  {
   "cell_type": "markdown",
   "metadata": {},
   "source": [
    "#### Get population size fold changes"
   ]
  },
  {
   "cell_type": "code",
   "execution_count": null,
   "metadata": {},
   "outputs": [],
   "source": [
    "Ns_fc <- array(NA,dim=c(500,1))\n",
    "\n",
    "for (ii in 1:length(flst)) {\n",
    "    tmp <- movavg(Ns[ii,],100,'s')\n",
    "    Ns_fc[ii] <- tmp[length(which(!is.na(tmp)))]/tmp[1]\n",
    "}\n",
    "\n",
    "rm(tmp)\n",
    "Ns_fc_mean <- mean(Ns_fc)\n",
    "Ns_fc_med <- median(Ns_fc)\n",
    "Ns_fc_std <- std(Ns_fc)"
   ]
  },
  {
   "cell_type": "code",
   "execution_count": null,
   "metadata": {},
   "outputs": [],
   "source": [
    "options(repr.plot.width=10, repr.plot.height=7)\n",
    "hist(Ns_fc,20,main=paste0('Histogram of Population Size Fold Change (',toString(length(flst)),' Trials)'),xlab='Fold Change',col=rgb(0.1,0.1,0.1,0.5))"
   ]
  },
  {
   "cell_type": "code",
   "execution_count": null,
   "metadata": {},
   "outputs": [],
   "source": [
    "hist((np_het+(np_hom*2)),25,col=rgb(0.1,0.1,0.1,0.5),main='Ave. passenger count (all)',\n",
    "     xlab='Count')"
   ]
  },
  {
   "cell_type": "code",
   "execution_count": null,
   "metadata": {},
   "outputs": [],
   "source": [
    "hist((nd_het+(nd_hom*2)),25,col=rgb(0.1,0.1,0.1,0.5),main='Ave. driver count (all)',\n",
    "     xlab='Count')"
   ]
  },
  {
   "cell_type": "code",
   "execution_count": null,
   "metadata": {},
   "outputs": [],
   "source": [
    "hist(nd_hom,25,col=rgb(0.1,0.1,0.1,0.5),main='Ave. homozygous driver count',\n",
    "     xlab='Count')"
   ]
  },
  {
   "cell_type": "markdown",
   "metadata": {},
   "source": [
    "#### Frequency of populations with at least one L1 heterzygous driver occurring"
   ]
  },
  {
   "cell_type": "code",
   "execution_count": null,
   "metadata": {},
   "outputs": [],
   "source": [
    "length(which((nd_het+(nd_hom*2))>=1))/length(flst)"
   ]
  },
  {
   "cell_type": "markdown",
   "metadata": {},
   "source": [
    "#### Frequency of populations with at least one L1 homozygous driver occurring (average number of hom. drivers > 0.5)"
   ]
  },
  {
   "cell_type": "code",
   "execution_count": null,
   "metadata": {},
   "outputs": [],
   "source": [
    "length(which(nd_hom>=0.5))/length(flst)"
   ]
  },
  {
   "cell_type": "markdown",
   "metadata": {},
   "source": [
    "#### Frequency of homozygous TP53 mutation (% cases in which 50% cells become homozygous)"
   ]
  },
  {
   "cell_type": "code",
   "execution_count": null,
   "metadata": {},
   "outputs": [],
   "source": [
    "tp53_log <- rep(0,length(flst))\n",
    "for (i in 1:length(flst)) { # Loop over files\n",
    "    load(paste0(dataDir,flst[i])) # Load file\n",
    "    # Check for homozygous APC mutation in each clone\n",
    "    tmp <- lapply(Pop[Pop$ncells>0,]$genes_hom, function(x) 'ENSG00000141510' %in% x)\n",
    "    tmp2 <- Pop[Pop$ncells>0,]$ncells\n",
    "    if (sum(as.numeric(tmp)*tmp2)/sum(tmp2) > 0.5) {\n",
    "        tp53_log[i] <- 1\n",
    "    }\n",
    "}"
   ]
  },
  {
   "cell_type": "code",
   "execution_count": null,
   "metadata": {},
   "outputs": [],
   "source": [
    "length(which(tp53_log==1))/length(flst)"
   ]
  },
  {
   "cell_type": "markdown",
   "metadata": {},
   "source": [
    "#### Get frequency for all TSGs"
   ]
  },
  {
   "cell_type": "code",
   "execution_count": null,
   "metadata": {},
   "outputs": [],
   "source": [
    "geneList <- as.vector(read.csv('~/jackgl/sim-develop/data/gene_lists/drivers_gbm_filt.txt',header=F)$V1)\n",
    "d_log <- array(0,c(length(geneList),length(flst)))\n",
    "for (i in 1:length(flst)) {\n",
    "    load(paste0(dataDir,flst[i]))\n",
    "    for (j in 1:length(geneList)) {\n",
    "        tmp <- lapply(Pop[Pop$ncells>0,]$genes_hom, function(x) geneList[j] %in% x)\n",
    "        tmp2 <- Pop[Pop$ncells>0,]$ncells\n",
    "        if (sum(as.numeric(tmp)*tmp2)/sum(tmp2) > 0.5) {\n",
    "            d_log[j,i] <- 1\n",
    "        }\n",
    "    }\n",
    "}"
   ]
  },
  {
   "cell_type": "code",
   "execution_count": null,
   "metadata": {},
   "outputs": [],
   "source": [
    "d_dist <- rep(0,length(geneList))\n",
    "for (i in 1:length(geneList)) {\n",
    "    d_dist[i] <- length(which(d_log[i,]==1))/length(flst)\n",
    "}\n",
    "                      \n",
    "names(d_dist) <- geneList\n",
    "barplot(d_dist,cex.names=0.5)"
   ]
  },
  {
   "cell_type": "code",
   "execution_count": null,
   "metadata": {},
   "outputs": [],
   "source": [
    "prop <- function(data,indices) {\n",
    "    d <- data[indices]\n",
    "    return(length(which(d>=0.5))/length(d))\n",
    "}\n",
    "\n",
    "tmp <- colSums(d_log) # For each run, sum the number of driver genes homozygous disrupted in >=50% of cells\n",
    "tmp[tmp>1] = 1 # Create a logical vector for the case of at least 1\n",
    "\n",
    "boottest <- boot(tmp,prop,1e4)\n",
    "\n",
    "boot.ci(boottest, type='basic')\n",
    "\n",
    "# print(boottest)"
   ]
  },
  {
   "cell_type": "code",
   "execution_count": null,
   "metadata": {},
   "outputs": [],
   "source": [
    "boottest <- boot(d_log[1,],prop,1e4)\n",
    "\n",
    "boot.ci(boottest, type='basic')\n",
    "\n",
    "# print(boottest)"
   ]
  }
 ],
 "metadata": {
  "kernelspec": {
   "display_name": "R",
   "language": "R",
   "name": "ir"
  },
  "language_info": {
   "codemirror_mode": "r",
   "file_extension": ".r",
   "mimetype": "text/x-r-source",
   "name": "R",
   "pygments_lexer": "r",
   "version": "3.6.0"
  }
 },
 "nbformat": 4,
 "nbformat_minor": 2
}
