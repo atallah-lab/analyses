{
 "cells": [
  {
   "cell_type": "markdown",
   "metadata": {},
   "source": [
    "#### Simulations were v2.4, used a tau of 1, max pop size fold change of 3, 5e3 generations, random initial driver mutation, CGC driver gene lists, heterozygous mutations 1/10th the effect of homozygous"
   ]
  },
  {
   "cell_type": "code",
   "execution_count": 12,
   "metadata": {},
   "outputs": [],
   "source": [
    "library(naturalsort)\n",
    "library(fields)\n",
    "library(rasterImage)\n",
    "library(pracma) # only needed for moving-average plot\n",
    "library(viridis)\n",
    "cols1 = magma(7)\n",
    "cols2 = magma(100)\n",
    "\n",
    "muv <- c(0.05,0.10,0.50,1.00,5.00)\n",
    "N0v <- c(1e2,5e2,1e3,2e3)\n",
    "sdv <- c(0.005,0.010,0.050,0.100,0.500,1.000)\n",
    "spv <- c(0.005,0.010,0.050,0.100,0.500,1.000)\n",
    "\n",
    "dataDir <- '~/jackgl/lung_1030/'\n",
    "ctype <- 'Lung'"
   ]
  },
  {
   "cell_type": "markdown",
   "metadata": {},
   "source": [
    "## Population size time series"
   ]
  },
  {
   "cell_type": "code",
   "execution_count": 13,
   "metadata": {},
   "outputs": [],
   "source": [
    "flst <- naturalsort(list.files(dataDir))\n",
    "flst <- flst[3:(length(flst))]"
   ]
  },
  {
   "cell_type": "code",
   "execution_count": null,
   "metadata": {},
   "outputs": [],
   "source": [
    "Ns <- array(NA,dim=c(4,6,6,6,5,2e4/4))\n",
    "\n",
    "nn <- 1\n",
    "for (ii in 1:4) {\n",
    "    for (jj in 1:6) {\n",
    "        for (kk in 1:6) {\n",
    "            for (ll in 1:6) {\n",
    "                for (mm in 1:5) {\n",
    "                    load(paste0(dataDir,flst[nn]))\n",
    "                    N[N==0] <- NA\n",
    "                    Ns[ii,jj,kk,ll,mm,] <- N\n",
    "#                     filenames[ii,jj,kk,ll,mm] <- flst[nn]\n",
    "                    nn <- nn+1\n",
    "                }\n",
    "            }\n",
    "        }\n",
    "    }\n",
    "}"
   ]
  },
  {
   "cell_type": "code",
   "execution_count": null,
   "metadata": {},
   "outputs": [],
   "source": [
    "Ns_repmean <- apply(Ns,c(1,2,3,4,6),mean)\n",
    "Ns_repmed <- apply(Ns,c(1,2,3,4,6),median)\n",
    "Ns_repstd <- apply(Ns,c(1,2,3,4,6),std)"
   ]
  },
  {
   "cell_type": "code",
   "execution_count": null,
   "metadata": {},
   "outputs": [],
   "source": [
    "nd_het <- array(NA,dim=c(4,6,6,6,5))\n",
    "np_het <- array(NA,dim=c(4,6,6,6,5))\n",
    "nd_hom <- array(NA,dim=c(4,6,6,6,5))\n",
    "np_hom <- array(NA,dim=c(4,6,6,6,5))\n",
    "\n",
    "nn <- 1\n",
    "for (ii in 1:4) {\n",
    "    for (jj in 1:6) {\n",
    "        for (kk in 1:6) {\n",
    "            for (ll in 1:6) {\n",
    "                for (mm in 1:5) {\n",
    "                    load(paste0(dataDir,flst[nn]))\n",
    "                    nd_het[ii,jj,kk,ll,mm] <- sum(Pop$nd_het[Pop$ncells!=0]*Pop$ncells[Pop$ncells!=0]/sum(Pop$ncells))\n",
    "                    np_het[ii,jj,kk,ll,mm] <- sum(Pop$np_het[Pop$ncells!=0]*Pop$ncells[Pop$ncells!=0]/sum(Pop$ncells))\n",
    "                    nd_hom[ii,jj,kk,ll,mm] <- sum(Pop$nd_hom[Pop$ncells!=0]*Pop$ncells[Pop$ncells!=0]/sum(Pop$ncells))\n",
    "                    np_hom[ii,jj,kk,ll,mm] <- sum(Pop$np_hom[Pop$ncells!=0]*Pop$ncells[Pop$ncells!=0]/sum(Pop$ncells))\n",
    "                    nn <- nn+1\n",
    "                }\n",
    "            }\n",
    "        }\n",
    "    }\n",
    "}"
   ]
  },
  {
   "cell_type": "code",
   "execution_count": null,
   "metadata": {},
   "outputs": [],
   "source": [
    "N0 <- 1000\n",
    "mu <- 1\n",
    "sd <- .1\n",
    "\n",
    "tmp <- Ns_repmean[which(N0v==N0),which(muv==mu),which(sdv==sd),1:6,]\n",
    "plot(1:length(tmp[1,]),movavg(tmp[1,],100,'s'),type='l',main=paste0(ctype,' (Moving Average Plot; mu=',toString(mu),';',' sd= ',toString(sd),')'),xlab='Generation',ylab='Population Size',ylim=c(min(tmp[!is.na(tmp)]),max(tmp[!is.na(tmp)])),col=cols1[1],lwd=2)\n",
    "for (i in 2:6) {lines(1:length(tmp[i,]),movavg(tmp[i,],100,'s'),type='l',xlab='Generation',ylab='Population Size',col=cols1[i],lwd=2)}\n",
    "legend('bottomleft',legend=c(\"sp = 0.005\",\"sp = 0.01\",\"sp = 0.05\",\"sp = 0.1\",\"sp = 0.5\",\"sp = 1\"),lty=1,lwd=2,col=head(cols1,n=6),inset=0.05)\n",
    "options(repr.plot.width=7, repr.plot.height=7)"
   ]
  },
  {
   "cell_type": "code",
   "execution_count": null,
   "metadata": {},
   "outputs": [],
   "source": [
    "mu <- 1\n",
    "sd <- .5\n",
    "sp <- .05\n",
    "# tmp <- Ns_repmean[,which(muv==mu),which(sdv==sd),which(spv==sp),]\n",
    "tmp <- Ns[,which(muv==mu),which(sdv==sd),which(spv==sp),1,]\n",
    "plot(1:length(tmp[1,]),tmp[1,],type='l',main=paste(ctype,'Examples'),xlab='Generation',ylab='Population Size',ylim=c(10,1e4),log='y')\n",
    "for (i in 2:4) {lines(1:length(tmp[i,]),tmp[i,],type='l',xlab='Generation',ylab='Population Size')}\n",
    "legend('topright',legend=c(paste0(\"mu = \",toString(mu)),\n",
    "                          paste0(\"Sd = \",toString(sd)),\n",
    "                          paste0(\"Sp = \",toString(sp))),lty=0,inset=0.02)"
   ]
  },
  {
   "cell_type": "markdown",
   "metadata": {},
   "source": [
    "## Heat maps"
   ]
  },
  {
   "cell_type": "code",
   "execution_count": null,
   "metadata": {},
   "outputs": [],
   "source": [
    "Ns_fc <- array(NA,dim=c(4,6,6,6,5))\n",
    "for (ii in 1:4) {\n",
    "    for (jj in 1:6) {\n",
    "        for (kk in 1:6) {\n",
    "            for (ll in 1:6) {\n",
    "                for (mm in 1:5) {\n",
    "                    tmpN <- Ns[ii,jj,kk,ll,mm,]\n",
    "                    Ns_fc[ii,jj,kk,ll,mm] <- tmpN[length(which(!is.na(tmpN)))]/tmpN[1]\n",
    "                }\n",
    "            }\n",
    "        }\n",
    "    }\n",
    "}\n",
    "rm(tmpN)\n",
    "Ns_fc_mean <- apply(Ns_fc,c(1,2,3,4),mean)\n",
    "Ns_fc_med <- apply(Ns_fc,c(1,2,3,4),median)\n",
    "Ns_fc_std <- apply(Ns_fc,c(1,2,3,4),std)\n",
    "\n",
    "dim(Ns_fc)"
   ]
  },
  {
   "cell_type": "code",
   "execution_count": null,
   "metadata": {},
   "outputs": [],
   "source": [
    "#--- Fold change\n",
    "mu <- 1\n",
    "N0 <- 1000\n",
    "tmp <- Ns_fc_mean[which(N0v==N0),which(muv==mu),,]\n",
    "image.plot(t(tmp),axes=F,col=cols2[(round(min(as.vector(tmp))*(length(cols2)/3.2))):(round(max(as.vector(tmp))*(length(cols2)/3.2)))])\n",
    "title(main=bquote(paste('Population Size Fold Change (',.(ctype),'; ',N[0],'=',.(N0),'; ',mu,'=',.(mu),')')),xlab=bquote(s[p]),ylab=bquote(s[d]),cex.lab=1.5);\n",
    "axis(1, at=seq(0,1,0.20), labels=c(5e-3,1e-2,5e-2,1e-1,5e-1,1e-0),cex.axis=1.2);  \n",
    "axis(2, at=seq(0,1,0.20), labels=c(5e-3,1e-2,5e-2,1e-1,5e-1,1e-0),cex.axis=1.2);  "
   ]
  },
  {
   "cell_type": "code",
   "execution_count": null,
   "metadata": {},
   "outputs": [],
   "source": [
    "#--- Fold change\n",
    "sd <- .1\n",
    "sp <- .005\n",
    "tmp <- Ns_fc_mean[,,which(sdv==sd),which(spv==sp)]\n",
    "image.plot(t(tmp),axes=F,col=cols2[(round(min(as.vector(tmp))*(length(cols2)/3.1))):(round(max(as.vector(tmp))*(length(cols2)/3.1)))])\n",
    "title(main=bquote(paste('Population Size Fold Change (',.(ctype),'; ',s[d],'=',.(toString(sd)),'; ',s[p],'=',.(toString(sp)),')')),xlab=expression(mu),ylab=expression(N[0]),cex.lab=1.5);\n",
    "axis(1, at=seq(0,1,0.25), labels=muv,cex.axis=1.2); \n",
    "axis(2, at=seq(0,1,0.33), labels=N0v,cex.axis=1.2); "
   ]
  },
  {
   "cell_type": "code",
   "execution_count": null,
   "metadata": {},
   "outputs": [],
   "source": [
    "#--- Expected drivers\n",
    "sd <- .1\n",
    "sp <- .005\n",
    "tmp <- (apply(nd_hom,c(1,2,3,4),mean)*2)+apply(nd_het,c(1,2,3,4),mean)\n",
    "tmp <- tmp[,,which(sdv==sd),which(spv==sp)]\n",
    "tmp <- log(tmp+1)\n",
    "ticks <- c(log(1),log(2),log(4),log(8),log(16))\n",
    "image.plot(t(tmp),axes=F,col=cols2[(round(min(as.vector(tmp))*(length(cols2)/7))):(round(max(as.vector(tmp))*(length(cols2)/7)))],axis.args=list(at=ticks, labels=round(exp(ticks)-1)))\n",
    "title(main=bquote(paste('Expected Number of Drivers (',.(ctype),'; ',s[d],'=',.(toString(sd)),'; ',s[p],'=',.(toString(sp)),')')),xlab=expression(mu),ylab=expression(N[0]),cex.lab=1.5);\n",
    "axis(1, at=seq(0,1,0.25), labels=muv,cex.axis=1.2); \n",
    "axis(2, at=seq(0,1,0.33), labels=N0v,cex.axis=1.2)"
   ]
  },
  {
   "cell_type": "code",
   "execution_count": null,
   "metadata": {},
   "outputs": [],
   "source": [
    "#--- Expected drivers\n",
    "N0 <- 1000\n",
    "sd <- .1\n",
    "tmp <- (apply(nd_hom,c(1,2,3,4),mean)*2)+apply(nd_het,c(1,2,3,4),mean)\n",
    "tmp <- tmp[which(N0v==N0),,which(sdv==sd),]\n",
    "tmp <- log(tmp+1)\n",
    "ticks <- c(log(1),log(2),log(4),log(8),log(16))\n",
    "image.plot(tmp,axes=F,col=cols2[(round(min(as.vector(tmp))*(length(cols2)/7))):(round(max(as.vector(tmp))*(length(cols2)/7)))],axis.args=list(at=ticks, labels=round(exp(ticks)-1)))\n",
    "title(main=bquote(paste('Expected Number of Drivers (',.(ctype),'; ',N[0],'=',.(toString(N0)),'; ',s[d],'=',.(toString(sd)),')')),xlab=expression(mu),ylab=expression(s[p]),cex.lab=1.5);\n",
    "axis(2, at=seq(0,1,0.20), labels=spv,cex.axis=1.2); \n",
    "axis(1, at=seq(0,1,0.25), labels=muv,cex.axis=1.2); "
   ]
  },
  {
   "cell_type": "code",
   "execution_count": null,
   "metadata": {},
   "outputs": [],
   "source": [
    "#--- Expected passengers\n",
    "sd <- .1\n",
    "sp <- .005\n",
    "tmp <- (apply(np_hom,c(1,2,3,4),mean)*2)+apply(np_het,c(1,2,3,4),mean)\n",
    "tmp <- tmp[,,which(sdv==sd),which(spv==sp)]\n",
    "tmp <- log(tmp+1)\n",
    "ticks <- c(log(1),log(11),log(101),log(501))\n",
    "image.plot(t(tmp),axes=F,col=cols2[(round(min(as.vector(tmp))*(length(cols2)/7))):(round(max(as.vector(tmp))*(length(cols2)/7)))],axis.args=list(at=ticks, labels=round(exp(ticks)-1)))\n",
    "title(main=bquote(paste('Expected Number of Passengers (',.(ctype),'; ',s[d],'=',.(sd),'; ',s[p],'=',.(sp),')')),xlab=bquote(mu),ylab=bquote(N[0]),cex.lab=1.5);\n",
    "axis(1, at=seq(0,1,0.25), labels=muv,cex.axis=1.2); \n",
    "axis(2, at=seq(0,1,0.33), labels=N0v,cex.axis=1.2); "
   ]
  },
  {
   "cell_type": "code",
   "execution_count": null,
   "metadata": {},
   "outputs": [],
   "source": [
    "#--- Expected passengers\n",
    "N0 <- 1000\n",
    "sd <- .1\n",
    "tmp <- ((apply(np_hom,c(1,2,3,4),mean)*2)+apply(np_het,c(1,2,3,4),mean))\n",
    "tmp <- tmp[which(N0v==N0),,which(sdv==sd),]\n",
    "tmp <- log(tmp+1)\n",
    "ticks<- c(0, log(2), log(11), log(101), log(501))\n",
    "image.plot(tmp,axes=F,col=cols2[(round(min(as.vector(tmp))*(length(cols2)/7))):(round(max(as.vector(tmp))*(length(cols2)/7)))],axis.args=list(at=ticks, labels=round(exp(ticks)-1)))\n",
    "title(main=bquote(paste('Expected Number of Passengers (',.(ctype),'; ',N[0],'=',.(toString(N0)),'; ',s[d],'=',.(toString(sd)),')')),xlab=expression(mu),ylab=expression(s[p]),cex.lab=1.5);\n",
    "axis(2, at=seq(0,1,0.20), labels=spv,cex.axis=1.2); \n",
    "axis(1, at=seq(0,1,0.25), labels=muv,cex.axis=1.2); "
   ]
  },
  {
   "cell_type": "code",
   "execution_count": null,
   "metadata": {},
   "outputs": [],
   "source": [
    "#--- Homoyzygous drivers\n",
    "mu <- 1\n",
    "N0 <- 500\n",
    "tmp <- apply(nd_hom,c(1,2,3,4),mean)\n",
    "tmp <- tmp[which(N0v==N0),which(muv==mu),,]\n",
    "tmp <- log(tmp+1)\n",
    "ticks <- c(log(1),log(2),log(3),log(4))\n",
    "image.plot(t(tmp),axes=F,col=cols2[(round(min(as.vector(tmp))*(length(cols2)/3))):(round(max(as.vector(tmp))*(length(cols2)/3)))],axis.args=list(at=ticks, labels=round(exp(ticks)-1)))\n",
    "title(main=bquote(paste('Expected No. Homozygous Drivers (',.(ctype),'; ',N[0],'=',.(N0),'; ',mu,'=',.(mu),')')),xlab=bquote(s[p]),ylab=bquote(s[d]),cex.lab=1.5);\n",
    "axis(1, at=seq(0,1,0.20), labels=c(5e-3,1e-2,5e-2,1e-1,5e-1,1e-0),cex.axis=1.2);  \n",
    "axis(2, at=seq(0,1,0.20), labels=c(5e-3,1e-2,5e-2,1e-1,5e-1,1e-0),cex.axis=1.2); "
   ]
  },
  {
   "cell_type": "code",
   "execution_count": null,
   "metadata": {},
   "outputs": [],
   "source": [
    "#--- Homozygous drivers\n",
    "sd <- .1\n",
    "sp <- .005\n",
    "tmp <- apply(nd_hom,c(1,2,3,4),mean)\n",
    "tmp <- tmp[,,which(sdv==sd),which(spv==sp)]\n",
    "tmp <- log(tmp+1)\n",
    "ticks <- c(log(1),log(2),log(4),log(6))\n",
    "image.plot(t(tmp),axes=F,col=cols2[(round(min(as.vector(tmp))*(length(cols2)/3))):(round(max(as.vector(tmp))*(length(cols2)/3)))],axis.args=list(at=ticks, labels=round(exp(ticks)-1)))\n",
    "title(main=bquote(paste('Expected No. Homozygous Drivers (',.(ctype),'; ',s[d],'=',.(toString(sd)),'; ',s[p],'=',.(toString(sp)),')')),xlab=expression(mu),ylab=expression(N[0]),cex.lab=1.5);\n",
    "axis(1, at=seq(0,1,0.25), labels=muv,cex.axis=1.2); \n",
    "axis(2, at=seq(0,1,0.33), labels=N0v,cex.axis=1.2)"
   ]
  },
  {
   "cell_type": "code",
   "execution_count": null,
   "metadata": {},
   "outputs": [],
   "source": [
    "#--- Homozygous passengers\n",
    "mu <- 1\n",
    "N0 <- 1000\n",
    "tmp <- apply(np_hom,c(1,2,3,4),mean)\n",
    "tmp <- tmp[which(N0v==N0),which(muv==mu),,]\n",
    "tmp <- log(tmp+1)\n",
    "ticks <- c(log(1),log(2),log(4),log(8),log(16))\n",
    "image.plot(t(tmp),axes=F,col=cols2[(round(min(as.vector(tmp))*(length(cols2)/3))):(round(max(as.vector(tmp))*(length(cols2)/3)))+1],axis.args=list(at=ticks, labels=round(exp(ticks)-1)))\n",
    "title(main=bquote(paste('Expected No. Homozygous Passengers (',.(ctype),'; ',N[0],'=',.(N0),'; ',mu,'=',.(mu),')')),xlab=bquote(s[p]),ylab=bquote(s[d]),cex.lab=1.5);\n",
    "axis(1, at=seq(0,1,0.20), labels=sdv,cex.axis=1.2); \n",
    "axis(2, at=seq(0,1,0.20), labels=spv,cex.axis=1.2); "
   ]
  },
  {
   "cell_type": "code",
   "execution_count": null,
   "metadata": {},
   "outputs": [],
   "source": [
    "#--- Homozygous passengers\n",
    "sd <- .1\n",
    "sp <- .005\n",
    "tmp <- apply(np_hom,c(1,2,3,4),mean)\n",
    "tmp <- tmp[,,which(sdv==sd),which(spv==sp)]\n",
    "tmp <- log(tmp+1)\n",
    "ticks <- c(log(1),log(2),log(4),log(8),log(16))\n",
    "image.plot(t(tmp),axes=F,col=cols2[(round(min(as.vector(tmp))*(length(cols2)/3.55))):(round(max(as.vector(tmp))*(length(cols2)/3.55)))],axis.args=list(at=ticks, labels=round(exp(ticks)-1)))\n",
    "title(main=bquote(paste('Expected No. Homozygous Passengers (',.(ctype),'; ',s[d],'=',.(toString(sd)),'; ',s[p],'=',.(toString(sp)),')')),xlab=expression(mu),ylab=expression(N[0]),cex.lab=1.5);\n",
    "axis(1, at=seq(0,1,0.25), labels=muv,cex.axis=1.2); \n",
    "axis(2, at=seq(0,1,0.33), labels=N0v,cex.axis=1.2)"
   ]
  }
 ],
 "metadata": {
  "kernelspec": {
   "display_name": "R",
   "language": "R",
   "name": "ir"
  },
  "language_info": {
   "codemirror_mode": "r",
   "file_extension": ".r",
   "mimetype": "text/x-r-source",
   "name": "R",
   "pygments_lexer": "r",
   "version": "3.5.1"
  }
 },
 "nbformat": 4,
 "nbformat_minor": 2
}
