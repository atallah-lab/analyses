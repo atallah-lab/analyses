{
 "cells": [
  {
   "cell_type": "code",
   "execution_count": 7,
   "metadata": {},
   "outputs": [],
   "source": [
    "library(BSgenome.Hsapiens.UCSC.hg38)\n",
    "library(GenomicRanges)\n",
    "library(naturalsort)\n",
    "library(data.table)"
   ]
  },
  {
   "cell_type": "code",
   "execution_count": 8,
   "metadata": {},
   "outputs": [
    {
     "name": "stdout",
     "output_type": "stream",
     "text": [
      "\n",
      "Filtering hg38 gff3 file (Ensembl v86) for CDS locations... \n",
      "Reading CDS location table...\n",
      "Done"
     ]
    }
   ],
   "source": [
    "#--- Use system (Unix) commands to extract exon locations from a hg38 .gff3 file\n",
    "cat(\"\\nFiltering hg38 gff3 file (Ensembl v86) for CDS locations... \\n\")\n",
    "system(paste(\"grep ID=CDS ../Data/humangenome/Homo_sapiens.GRCh38.86.gff3 > tmp\")) # Write lines containing \"ID=CDS\" to a tmp file\n",
    "system(paste(\"cut -f1,4,5 tmp > tmp2\")) # Extract columns 1, 4, 5 from tmp file, and write result to tmp2 directory\n",
    "cat(\"Reading CDS location table...\\n\")\n",
    "anno <- read.table(\"tmp2\") # Read exonic regions into table (chromName\tstart\tend)\n",
    "system(paste(\"rm tmp\"))\n",
    "system(paste(\"rm tmp2\"))\n",
    "cat(\"Done\")"
   ]
  },
  {
   "cell_type": "code",
   "execution_count": 9,
   "metadata": {
    "scrolled": false
   },
   "outputs": [
    {
     "data": {
      "text/html": [
       "<table>\n",
       "<thead><tr><th scope=col>chrom</th><th scope=col>start</th><th scope=col>end</th></tr></thead>\n",
       "<tbody>\n",
       "\t<tr><td>1     </td><td> 69091</td><td> 70008</td></tr>\n",
       "\t<tr><td>1     </td><td>182709</td><td>182746</td></tr>\n",
       "\t<tr><td>1     </td><td>183114</td><td>183240</td></tr>\n",
       "\t<tr><td>1     </td><td>183922</td><td>184158</td></tr>\n",
       "\t<tr><td>1     </td><td>184927</td><td>184971</td></tr>\n",
       "\t<tr><td>1     </td><td>184977</td><td>185049</td></tr>\n",
       "</tbody>\n",
       "</table>\n"
      ],
      "text/latex": [
       "\\begin{tabular}{r|lll}\n",
       " chrom & start & end\\\\\n",
       "\\hline\n",
       "\t 1      &  69091 &  70008\\\\\n",
       "\t 1      & 182709 & 182746\\\\\n",
       "\t 1      & 183114 & 183240\\\\\n",
       "\t 1      & 183922 & 184158\\\\\n",
       "\t 1      & 184927 & 184971\\\\\n",
       "\t 1      & 184977 & 185049\\\\\n",
       "\\end{tabular}\n"
      ],
      "text/markdown": [
       "\n",
       "chrom | start | end | \n",
       "|---|---|---|---|---|---|\n",
       "| 1      |  69091 |  70008 | \n",
       "| 1      | 182709 | 182746 | \n",
       "| 1      | 183114 | 183240 | \n",
       "| 1      | 183922 | 184158 | \n",
       "| 1      | 184927 | 184971 | \n",
       "| 1      | 184977 | 185049 | \n",
       "\n",
       "\n"
      ],
      "text/plain": [
       "  chrom start  end   \n",
       "1 1      69091  70008\n",
       "2 1     182709 182746\n",
       "3 1     183114 183240\n",
       "4 1     183922 184158\n",
       "5 1     184927 184971\n",
       "6 1     184977 185049"
      ]
     },
     "metadata": {},
     "output_type": "display_data"
    }
   ],
   "source": [
    "anno <- GRanges(seqnames=anno$V1,IRanges(anno$V2,anno$V3)) # Convert anno into GRanges object (bioconductor)\n",
    "anno <- reduce(anno) # Reduce to non-overlapping ranges\n",
    "anno <- data.table(chrom=as.vector(seqnames(anno)),start=start(anno),end=end(anno))\n",
    "names(anno) <- c('chrom','start','end')\n",
    "head(anno)"
   ]
  },
  {
   "cell_type": "code",
   "execution_count": 10,
   "metadata": {},
   "outputs": [
    {
     "name": "stdout",
     "output_type": "stream",
     "text": [
      "\n",
      "Proccessing  chr1 ...\n",
      "Proccessing  chr2 ...\n",
      "Proccessing  chr3 ...\n",
      "Proccessing  chr4 ...\n",
      "Proccessing  chr5 ...\n",
      "Proccessing  chr6 ...\n",
      "Proccessing  chr7 ...\n",
      "Proccessing  chr8 ...\n",
      "Proccessing  chr9 ...\n",
      "Proccessing  chr10 ...\n",
      "Proccessing  chr11 ...\n",
      "Proccessing  chr12 ...\n",
      "Proccessing  chr13 ...\n",
      "Proccessing  chr14 ...\n",
      "Proccessing  chr15 ...\n",
      "Proccessing  chr16 ...\n",
      "Proccessing  chr17 ...\n",
      "Proccessing  chr18 ...\n",
      "Proccessing  chr19 ...\n",
      "Proccessing  chr20 ...\n",
      "Proccessing  chr21 ...\n",
      "Proccessing  chr22 ...\n",
      "Proccessing  chrX ...\n",
      "Proccessing  chrY ..."
     ]
    }
   ],
   "source": [
    "cds_counts <- \tarray(0,dim=c(24,9)) # Allocate memory for a 2D array containing counts of CDS insertion sites of each S-V type for each chromosome, and other information\n",
    "\n",
    "#--- Loop through chromosome names\n",
    "j<-1\n",
    "for (i in names(Hsapiens)[1:24]){\n",
    "\n",
    "\tcat(\"\\nProccessing \",i,\"...\")\n",
    "\tload(paste0(\"../Data/root_maps/\",i,\".rda\")) # Load map file for current chromosome\n",
    "\n",
    "\t# Data objects containing indices of S-V sites for each category are labeled with the chromosome name.\n",
    "\t# Here we copy the data objects to a set of new names which can be used consistently in the following\n",
    "    # code.\n",
    "\tmap<-get(paste0(i,\"Map\"))\t\n",
    "        ict<-map$ict\n",
    "        icl<-map$icl\n",
    "        iot<-map$iot\n",
    "        iol<-map$iol\n",
    "        insites<-map$insites\n",
    "\n",
    "\t# Extract exonic regions for the current chromosome\n",
    "\tchrno<-strsplit(i,\"chr\")[[1]][2] # Get the current chromosome number (or letter)\n",
    "\tanno_i <- anno[anno$chrom == chrno,] # Extract a subset of the 'anno' table for regions in the current chromosome\n",
    "\n",
    "\t# Fill in columns 1-4 of the row of the cds_counts array corresponding to current chromosome.\n",
    "\t# These columns contain the number of sites of each S-V category lying within coding regions \n",
    "\t# Categories are in this order: closed-tight, closed-loose, open-tight, open-loose\n",
    "\ttmp\t<-inrange(insites[ict[which(!is.na(ict[,1])),1],1],anno_i$start,anno_i$end) # Check if any Closed-Tight category sites are within the start-end range of anno_i\n",
    "\ttmp2 \t<-inrange(insites[ict[which(!is.na(ict[,2])),2],2],anno_i$start,anno_i$end) \n",
    "\tcds_counts[j,1]<-length(which(tmp == TRUE)) + length(which(tmp2==TRUE)) \t  # Fill an element of the cds_counts table with the count\n",
    "\ttmp     <-inrange(insites[icl[which(!is.na(icl[,1])),1],1],anno_i$start,anno_i$end) # Check if any Closed-Tight category sites are within the start-end range of anno_i\n",
    "        tmp2    <-inrange(insites[icl[which(!is.na(icl[,2])),2],2],anno_i$start,anno_i$end)\n",
    "\tcds_counts[j,2]<-length(which(tmp == TRUE)) + length(which(tmp2==TRUE))\n",
    "\ttmp     <-inrange(insites[iot[which(!is.na(iot[,1])),1],1],anno_i$start,anno_i$end) # Check if any Closed-Tight category sites are within the start-end range of anno_i\n",
    "\ttmp2    <-inrange(insites[iot[which(!is.na(iot[,2])),2],2],anno_i$start,anno_i$end)\n",
    "\tcds_counts[j,3]<-length(which(tmp == TRUE)) + length(which(tmp2==TRUE))\n",
    "        tmp     <-inrange(insites[iol[which(!is.na(iol[,1])),1],1],anno_i$start,anno_i$end) # Check if any Closed-Tight category sites are within the start-end range of anno_i\n",
    "\ttmp2    <-inrange(insites[iol[which(!is.na(iol[,2])),2],2],anno_i$start,anno_i$end)\n",
    "\tcds_counts[j,4]<-length(which(tmp == TRUE)) + length(which(tmp2==TRUE))  \n",
    "\n",
    "\n",
    "\t# Fill in columns 5-8 of the row of the cds_counts array corresponding to current chromosome.\n",
    "\t# These columns contain the total number of sites of each category\n",
    "\tcds_counts[j,5]<-length(which(!is.na(ict)))\n",
    "\tcds_counts[j,6]<-length(which(!is.na(icl)))\n",
    "\tcds_counts[j,7]<-length(which(!is.na(iot)))\n",
    "\tcds_counts[j,8]<-length(which(!is.na(iol)))\n",
    "\n",
    "\t# The last column contains the coding region fraction of the current chromosome\n",
    "\ttmp<-IRanges(anno_i$start,anno_i$end)\n",
    "\tcds_counts[j,9] <- sum(width(tmp))/length(Hsapiens[[i]])\n",
    "\n",
    "\tj<-j+1\n",
    "}"
   ]
  },
  {
   "cell_type": "code",
   "execution_count": 11,
   "metadata": {},
   "outputs": [],
   "source": [
    "write.csv(cds_counts,file=\"~/jackgl/cds_counts.csv\")"
   ]
  },
  {
   "cell_type": "code",
   "execution_count": null,
   "metadata": {},
   "outputs": [],
   "source": []
  }
 ],
 "metadata": {
  "kernelspec": {
   "display_name": "R",
   "language": "R",
   "name": "ir"
  },
  "language_info": {
   "codemirror_mode": "r",
   "file_extension": ".r",
   "mimetype": "text/x-r-source",
   "name": "R",
   "pygments_lexer": "r",
   "version": "3.5.1"
  }
 },
 "nbformat": 4,
 "nbformat_minor": 2
}
