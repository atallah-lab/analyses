{
 "cells": [
  {
   "cell_type": "code",
   "execution_count": 1,
   "metadata": {},
   "outputs": [
    {
     "name": "stderr",
     "output_type": "stream",
     "text": [
      "Loading required package: BSgenome\n",
      "\n",
      "Loading required package: BiocGenerics\n",
      "\n",
      "Loading required package: parallel\n",
      "\n",
      "\n",
      "Attaching package: ‘BiocGenerics’\n",
      "\n",
      "\n",
      "The following objects are masked from ‘package:parallel’:\n",
      "\n",
      "    clusterApply, clusterApplyLB, clusterCall, clusterEvalQ,\n",
      "    clusterExport, clusterMap, parApply, parCapply, parLapply,\n",
      "    parLapplyLB, parRapply, parSapply, parSapplyLB\n",
      "\n",
      "\n",
      "The following objects are masked from ‘package:stats’:\n",
      "\n",
      "    IQR, mad, sd, var, xtabs\n",
      "\n",
      "\n",
      "The following objects are masked from ‘package:base’:\n",
      "\n",
      "    anyDuplicated, append, as.data.frame, basename, cbind, colnames,\n",
      "    dirname, do.call, duplicated, eval, evalq, Filter, Find, get, grep,\n",
      "    grepl, intersect, is.unsorted, lapply, Map, mapply, match, mget,\n",
      "    order, paste, pmax, pmax.int, pmin, pmin.int, Position, rank,\n",
      "    rbind, Reduce, rownames, sapply, setdiff, sort, table, tapply,\n",
      "    union, unique, unsplit, which, which.max, which.min\n",
      "\n",
      "\n",
      "Loading required package: S4Vectors\n",
      "\n",
      "Loading required package: stats4\n",
      "\n",
      "\n",
      "Attaching package: ‘S4Vectors’\n",
      "\n",
      "\n",
      "The following object is masked from ‘package:base’:\n",
      "\n",
      "    expand.grid\n",
      "\n",
      "\n",
      "Loading required package: IRanges\n",
      "\n",
      "Loading required package: GenomeInfoDb\n",
      "\n",
      "Loading required package: GenomicRanges\n",
      "\n",
      "Loading required package: Biostrings\n",
      "\n",
      "Loading required package: XVector\n",
      "\n",
      "\n",
      "Attaching package: ‘Biostrings’\n",
      "\n",
      "\n",
      "The following object is masked from ‘package:base’:\n",
      "\n",
      "    strsplit\n",
      "\n",
      "\n",
      "Loading required package: rtracklayer\n",
      "\n",
      "\n",
      "Attaching package: ‘data.table’\n",
      "\n",
      "\n",
      "The following object is masked from ‘package:GenomicRanges’:\n",
      "\n",
      "    shift\n",
      "\n",
      "\n",
      "The following object is masked from ‘package:IRanges’:\n",
      "\n",
      "    shift\n",
      "\n",
      "\n",
      "The following objects are masked from ‘package:S4Vectors’:\n",
      "\n",
      "    first, second\n",
      "\n",
      "\n"
     ]
    }
   ],
   "source": [
    "library(BSgenome.Hsapiens.UCSC.hg38)\n",
    "library(data.table)"
   ]
  },
  {
   "cell_type": "code",
   "execution_count": 3,
   "metadata": {},
   "outputs": [
    {
     "name": "stdout",
     "output_type": "stream",
     "text": [
      "\n",
      "Filtering hg38 gff3 file (Ensembl v86) for CDS locations... \n",
      "Reading CDS location table...\n",
      "Done"
     ]
    }
   ],
   "source": [
    "#--- Use system (Unix) commands to extract exon locations from a hg38 .gff3 file\n",
    "cat(\"\\nFiltering hg38 gff3 file (Ensembl v86) for CDS locations... \\n\")\n",
    "system(paste(\"grep ID=CDS ./data/large_files/Homo_sapiens.GRCh38.94.gff3 > tmp\")) # Write lines containing \"ID=CDS\" to a tmp file\n",
    "system(paste(\"cut -f1,4,5 tmp > tmp2\")) # Extract columns 1, 4, 5 from tmp file, and write result to tmp2 directory\n",
    "cat(\"Reading CDS location table...\\n\")\n",
    "anno <- read.table(\"tmp2\") # Read exonic regions into table (chromName\tstart\tend)\n",
    "system(paste(\"rm tmp\"))\n",
    "system(paste(\"rm tmp2\"))\n",
    "cat(\"Done\")"
   ]
  },
  {
   "cell_type": "code",
   "execution_count": 4,
   "metadata": {
    "scrolled": false
   },
   "outputs": [
    {
     "data": {
      "text/html": [
       "<table>\n",
       "<caption>A data.table: 6 × 3</caption>\n",
       "<thead>\n",
       "\t<tr><th scope=col>chrom</th><th scope=col>start</th><th scope=col>end</th></tr>\n",
       "\t<tr><th scope=col>&lt;chr&gt;</th><th scope=col>&lt;int&gt;</th><th scope=col>&lt;int&gt;</th></tr>\n",
       "</thead>\n",
       "<tbody>\n",
       "\t<tr><td>1</td><td> 65565</td><td> 65573</td></tr>\n",
       "\t<tr><td>1</td><td> 69037</td><td> 70008</td></tr>\n",
       "\t<tr><td>1</td><td>450740</td><td>451678</td></tr>\n",
       "\t<tr><td>1</td><td>685716</td><td>686654</td></tr>\n",
       "\t<tr><td>1</td><td>924432</td><td>924948</td></tr>\n",
       "\t<tr><td>1</td><td>925922</td><td>926013</td></tr>\n",
       "</tbody>\n",
       "</table>\n"
      ],
      "text/latex": [
       "A data.table: 6 × 3\n",
       "\\begin{tabular}{r|lll}\n",
       " chrom & start & end\\\\\n",
       " <chr> & <int> & <int>\\\\\n",
       "\\hline\n",
       "\t 1 &  65565 &  65573\\\\\n",
       "\t 1 &  69037 &  70008\\\\\n",
       "\t 1 & 450740 & 451678\\\\\n",
       "\t 1 & 685716 & 686654\\\\\n",
       "\t 1 & 924432 & 924948\\\\\n",
       "\t 1 & 925922 & 926013\\\\\n",
       "\\end{tabular}\n"
      ],
      "text/markdown": [
       "\n",
       "A data.table: 6 × 3\n",
       "\n",
       "| chrom &lt;chr&gt; | start &lt;int&gt; | end &lt;int&gt; |\n",
       "|---|---|---|\n",
       "| 1 |  65565 |  65573 |\n",
       "| 1 |  69037 |  70008 |\n",
       "| 1 | 450740 | 451678 |\n",
       "| 1 | 685716 | 686654 |\n",
       "| 1 | 924432 | 924948 |\n",
       "| 1 | 925922 | 926013 |\n",
       "\n"
      ],
      "text/plain": [
       "  chrom start  end   \n",
       "1 1      65565  65573\n",
       "2 1      69037  70008\n",
       "3 1     450740 451678\n",
       "4 1     685716 686654\n",
       "5 1     924432 924948\n",
       "6 1     925922 926013"
      ]
     },
     "metadata": {},
     "output_type": "display_data"
    }
   ],
   "source": [
    "anno <- GRanges(seqnames=anno$V1,IRanges(anno$V2,anno$V3)) # Convert anno into GRanges object (bioconductor)\n",
    "anno <- reduce(anno) # Reduce to non-overlapping ranges\n",
    "anno <- data.table(chrom=as.vector(seqnames(anno)),start=start(anno),end=end(anno))\n",
    "names(anno) <- c('chrom','start','end')\n",
    "head(anno)"
   ]
  },
  {
   "cell_type": "code",
   "execution_count": 5,
   "metadata": {},
   "outputs": [
    {
     "name": "stdout",
     "output_type": "stream",
     "text": [
      "\n",
      "Proccessing  chr1 ...\n",
      "Proccessing  chr2 ...\n",
      "Proccessing  chr3 ...\n",
      "Proccessing  chr4 ...\n",
      "Proccessing  chr5 ...\n",
      "Proccessing  chr6 ...\n",
      "Proccessing  chr7 ...\n",
      "Proccessing  chr8 ...\n",
      "Proccessing  chr9 ...\n",
      "Proccessing  chr10 ...\n",
      "Proccessing  chr11 ...\n",
      "Proccessing  chr12 ...\n",
      "Proccessing  chr13 ...\n",
      "Proccessing  chr14 ...\n",
      "Proccessing  chr15 ...\n",
      "Proccessing  chr16 ...\n",
      "Proccessing  chr17 ...\n",
      "Proccessing  chr18 ...\n",
      "Proccessing  chr19 ...\n",
      "Proccessing  chr20 ...\n",
      "Proccessing  chr21 ...\n",
      "Proccessing  chr22 ...\n",
      "Proccessing  chrX ...\n",
      "Proccessing  chrY ..."
     ]
    }
   ],
   "source": [
    "cds_counts <- \tarray(0,dim=c(24,9)) # Allocate memory for a 2D array containing counts of CDS insertion sites of each S-V type for each chromosome, and other information\n",
    "\n",
    "#--- Loop through chromosome names\n",
    "j<-1\n",
    "for (i in names(Hsapiens)[1:24]){\n",
    "\n",
    "\tcat(\"\\nProccessing \",i,\"...\")\n",
    "\tload(paste0(\"./data/l1_site_maps/\",i,\".rda\")) # Load map file for current chromosome\n",
    "\n",
    "\t# Data objects containing indices of S-V sites for each category are labeled with the chromosome name.\n",
    "\t# Here we copy the data objects to a set of new names which can be used consistently in the following\n",
    "    # code.\n",
    "\tmap<-get(paste0(i,\"Map\"))\t\n",
    "        ict<-map$ict\n",
    "        icl<-map$icl\n",
    "        iot<-map$iot\n",
    "        iol<-map$iol\n",
    "        insites<-map$insites\n",
    "\n",
    "\t# Extract exonic regions for the current chromosome\n",
    "\tchrno<-strsplit(i,\"chr\")[[1]][2] # Get the current chromosome number (or letter)\n",
    "\tanno_i <- anno[anno$chrom == chrno,] # Extract a subset of the 'anno' table for regions in the current chromosome\n",
    "\n",
    "\t# Fill in columns 1-4 of the row of the cds_counts array corresponding to current chromosome.\n",
    "\t# These columns contain the number of sites of each S-V category lying within coding regions \n",
    "\t# Categories are in this order: closed-tight, closed-loose, open-tight, open-loose\n",
    "\ttmp\t<-inrange(insites[ict[which(!is.na(ict[,1])),1],1],anno_i$start,anno_i$end) # Check if any Closed-Tight category sites are within the start-end range of anno_i\n",
    "\ttmp2 \t<-inrange(insites[ict[which(!is.na(ict[,2])),2],2],anno_i$start,anno_i$end) \n",
    "\tcds_counts[j,1]<-length(which(tmp == TRUE)) + length(which(tmp2==TRUE)) \t  # Fill an element of the cds_counts table with the count\n",
    "\ttmp     <-inrange(insites[icl[which(!is.na(icl[,1])),1],1],anno_i$start,anno_i$end) # Check if any Closed-Tight category sites are within the start-end range of anno_i\n",
    "        tmp2    <-inrange(insites[icl[which(!is.na(icl[,2])),2],2],anno_i$start,anno_i$end)\n",
    "\tcds_counts[j,2]<-length(which(tmp == TRUE)) + length(which(tmp2==TRUE))\n",
    "\ttmp     <-inrange(insites[iot[which(!is.na(iot[,1])),1],1],anno_i$start,anno_i$end) # Check if any Closed-Tight category sites are within the start-end range of anno_i\n",
    "\ttmp2    <-inrange(insites[iot[which(!is.na(iot[,2])),2],2],anno_i$start,anno_i$end)\n",
    "\tcds_counts[j,3]<-length(which(tmp == TRUE)) + length(which(tmp2==TRUE))\n",
    "        tmp     <-inrange(insites[iol[which(!is.na(iol[,1])),1],1],anno_i$start,anno_i$end) # Check if any Closed-Tight category sites are within the start-end range of anno_i\n",
    "\ttmp2    <-inrange(insites[iol[which(!is.na(iol[,2])),2],2],anno_i$start,anno_i$end)\n",
    "\tcds_counts[j,4]<-length(which(tmp == TRUE)) + length(which(tmp2==TRUE))  \n",
    "\n",
    "\n",
    "\t# Fill in columns 5-8 of the row of the cds_counts array corresponding to current chromosome.\n",
    "\t# These columns contain the total number of sites of each category\n",
    "\tcds_counts[j,5]<-length(which(!is.na(ict)))\n",
    "\tcds_counts[j,6]<-length(which(!is.na(icl)))\n",
    "\tcds_counts[j,7]<-length(which(!is.na(iot)))\n",
    "\tcds_counts[j,8]<-length(which(!is.na(iol)))\n",
    "\n",
    "\t# The last column contains the coding region fraction of the current chromosome\n",
    "\ttmp<-IRanges(anno_i$start,anno_i$end)\n",
    "    tmp<-reduce(tmp) # Reduce to non overlapping ranges\n",
    "\tcds_counts[j,9] <- sum(width(tmp))/length(Hsapiens[[i]])\n",
    "\n",
    "\tj<-j+1\n",
    "}"
   ]
  },
  {
   "cell_type": "code",
   "execution_count": 6,
   "metadata": {},
   "outputs": [],
   "source": [
    "write.csv(cds_counts,file=\"./data/cds_counts.csv\")"
   ]
  },
  {
   "cell_type": "code",
   "execution_count": null,
   "metadata": {},
   "outputs": [],
   "source": []
  }
 ],
 "metadata": {
  "kernelspec": {
   "display_name": "R",
   "language": "R",
   "name": "ir"
  },
  "language_info": {
   "codemirror_mode": "r",
   "file_extension": ".r",
   "mimetype": "text/x-r-source",
   "name": "R",
   "pygments_lexer": "r",
   "version": "3.6.1"
  }
 },
 "nbformat": 4,
 "nbformat_minor": 2
}
