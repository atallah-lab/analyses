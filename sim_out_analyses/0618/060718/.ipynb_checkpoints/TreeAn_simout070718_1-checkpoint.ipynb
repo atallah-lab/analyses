{
 "cells": [
  {
   "cell_type": "code",
   "execution_count": 1,
   "metadata": {
    "scrolled": true
   },
   "outputs": [
    {
     "name": "stderr",
     "output_type": "stream",
     "text": [
      "Loading required package: BiocGenerics\n",
      "Loading required package: parallel\n",
      "\n",
      "Attaching package: ‘BiocGenerics’\n",
      "\n",
      "The following objects are masked from ‘package:parallel’:\n",
      "\n",
      "    clusterApply, clusterApplyLB, clusterCall, clusterEvalQ,\n",
      "    clusterExport, clusterMap, parApply, parCapply, parLapply,\n",
      "    parLapplyLB, parRapply, parSapply, parSapplyLB\n",
      "\n",
      "The following objects are masked from ‘package:stats’:\n",
      "\n",
      "    IQR, mad, sd, var, xtabs\n",
      "\n",
      "The following objects are masked from ‘package:base’:\n",
      "\n",
      "    anyDuplicated, append, as.data.frame, cbind, colMeans, colnames,\n",
      "    colSums, do.call, duplicated, eval, evalq, Filter, Find, get, grep,\n",
      "    grepl, intersect, is.unsorted, lapply, lengths, Map, mapply, match,\n",
      "    mget, order, paste, pmax, pmax.int, pmin, pmin.int, Position, rank,\n",
      "    rbind, Reduce, rowMeans, rownames, rowSums, sapply, setdiff, sort,\n",
      "    table, tapply, union, unique, unsplit, which, which.max, which.min\n",
      "\n",
      "Loading required package: S4Vectors\n",
      "Loading required package: stats4\n",
      "\n",
      "Attaching package: ‘S4Vectors’\n",
      "\n",
      "The following objects are masked from ‘package:data.table’:\n",
      "\n",
      "    first, second\n",
      "\n",
      "The following object is masked from ‘package:base’:\n",
      "\n",
      "    expand.grid\n",
      "\n",
      "Loading required package: IRanges\n",
      "\n",
      "Attaching package: ‘IRanges’\n",
      "\n",
      "The following object is masked from ‘package:data.table’:\n",
      "\n",
      "    shift\n",
      "\n",
      "Loading required package: XVector\n",
      "\n",
      "Attaching package: ‘Biostrings’\n",
      "\n",
      "The following object is masked from ‘package:base’:\n",
      "\n",
      "    strsplit\n",
      "\n",
      "Loading required package: spam\n",
      "Loading required package: dotCall64\n",
      "Loading required package: grid\n",
      "Spam version 2.1-4 (2018-04-12) is loaded.\n",
      "Type 'help( Spam)' or 'demo( spam)' for a short introduction \n",
      "and overview of this package.\n",
      "Help for individual functions is also obtained by adding the\n",
      "suffix '.spam' to the function name, e.g. 'help( chol.spam)'.\n",
      "\n",
      "Attaching package: ‘spam’\n",
      "\n",
      "The following object is masked from ‘package:stats4’:\n",
      "\n",
      "    mle\n",
      "\n",
      "The following objects are masked from ‘package:base’:\n",
      "\n",
      "    backsolve, forwardsolve\n",
      "\n",
      "Loading required package: maps\n",
      "See www.image.ucar.edu/~nychka/Fields for\n",
      " a vignette and other supplements. \n"
     ]
    }
   ],
   "source": [
    "library(naturalsort)\n",
    "library(data.table)\n",
    "library(data.tree)\n",
    "library(Biostrings)\n",
    "library(fields)\n",
    "dataDir <- '~/jackgl/Data/Simulations/070718/simout070718_1/'"
   ]
  },
  {
   "cell_type": "code",
   "execution_count": null,
   "metadata": {
    "scrolled": true
   },
   "outputs": [],
   "source": [
    "flst<-list.files(dataDir) # Get list of files from directory\n",
    "flst <- naturalsort(flst) # Natural sort the files\n",
    "nclst <- c() # Total number of cells for each simulation\n",
    "ncls <- c() # Number of cells for each genotype\n",
    "rs <- c() # Birth rate for each genotype\n",
    "\n",
    "nGeno <- c() # Number of genotypes for each simulation\n",
    "\n",
    "for (i in 1:25) { # Loop over files\n",
    "    load(paste0(dataDir,flst[i])) # Load the current simulation output file\n",
    "    nGeno[i] <- CellPop$totalCount # Get number of genotypes in population (number of L1 insertions)\n",
    "    if (CellPop$totalCount==1) { # If the genotype tree has 1 node\n",
    "        ncls[[i]] <- CellPop$ncells[length(CellPop$ncells)]\n",
    "    }\n",
    "    else {\n",
    "        ncls[[i]] <- vapply(CellPop$Get('ncells'),tail,n=1L,FUN.VALUE = numeric(1))\n",
    "    }\n",
    "    nclst[[i]] <- N # Get total number of cells\n",
    "    rs[[i]] <- CellPop$Get('B') # Get the division rates of all nodes\n",
    "    rm('CellPop','N')\n",
    "    \n",
    "}"
   ]
  },
  {
   "cell_type": "code",
   "execution_count": null,
   "metadata": {},
   "outputs": [],
   "source": [
    "# Function for computing mode value\n",
    "getmode <- function(v) {\n",
    "   uniqv <- unique(v)\n",
    "   uniqv[which.max(tabulate(match(v, uniqv)))]\n",
    "}"
   ]
  },
  {
   "cell_type": "code",
   "execution_count": null,
   "metadata": {},
   "outputs": [],
   "source": [
    "rs_var <- c()\n",
    "rs_mean <- c()\n",
    "rs_max <- c()\n",
    "# cellPs_var <- c()\n",
    "# cellPs_mean <- c()\n",
    "ncls_var <- c()\n",
    "\n",
    "for (i in 1:length(rs)) {\n",
    "    \n",
    "    if (length(rs[[i]])==1) {rs_var[i] <- 0}\n",
    "#     if (length(cellPs[[i]])==1) {cellPs_var[i] <- 0}\n",
    "    \n",
    "    else {\n",
    "        rs_var[i] <- var(rs[[i]])\n",
    "        rs_mean[i] <- mean(rs[[i]])\n",
    "        rs_max[i] <- max(rs[[i]])\n",
    "#         cellPs_var[i] <- var(cellPs[[i]])\n",
    "#         cellPs_mean[i] <- mean(cellPs[[i]])\n",
    "    }\n",
    "    ncls_var[i] <- var(ncls[[i]])\n",
    "\n",
    "}"
   ]
  },
  {
   "cell_type": "code",
   "execution_count": null,
   "metadata": {},
   "outputs": [],
   "source": [
    "norml <- function(x) {\n",
    "    x = (x-min(x))/(max(x)-min(x))\n",
    "    return(x)}"
   ]
  },
  {
   "cell_type": "code",
   "execution_count": null,
   "metadata": {
    "scrolled": true
   },
   "outputs": [],
   "source": [
    "nclsot <- nclst\n",
    "nclst <- lapply(nclst,tail,n=1)"
   ]
  },
  {
   "cell_type": "code",
   "execution_count": null,
   "metadata": {},
   "outputs": [],
   "source": [
    "matrix(nclst[1:25],nrow=5,ncol=5,byrow=TRUE)"
   ]
  },
  {
   "cell_type": "code",
   "execution_count": null,
   "metadata": {},
   "outputs": [],
   "source": [
    "matrix(rs_mean[1:25],nrow=5,ncol=5,byrow=TRUE)"
   ]
  },
  {
   "cell_type": "code",
   "execution_count": null,
   "metadata": {
    "scrolled": false
   },
   "outputs": [],
   "source": [
    "rotate <- function(x) t(apply(x, 2, rev))\n",
    "\n",
    "image.plot(rotate(apply(matrix(rs_mean[1:25],nrow=5,ncol=5,byrow=TRUE),2,rev)),axes=F,col=cm.colors(256))\n",
    "\n",
    "title(main=\"Mean Division Rate\",xlab='Sp',ylab='Sd');\n",
    "axis(1, at=seq(0,1,0.25), labels=c(0.0,0.001,0.01,0.1,1.0)); \n",
    "axis(2, at=seq(0,1,0.25), labels=c(0.0,0.001,0.01,0.1,1.0)); "
   ]
  },
  {
   "cell_type": "code",
   "execution_count": null,
   "metadata": {},
   "outputs": [],
   "source": [
    "rotate <- function(x) t(apply(x, 2, rev))\n",
    "\n",
    "image.plot(rotate(apply(matrix(unlist(nclst[1:25]),nrow=5,ncol=5,byrow=TRUE),2,rev)),axes=F)\n",
    "\n",
    "title(main=\"Population Size\",xlab='Sp',ylab='Sd');\n",
    "axis(1, at=seq(0,1,0.25), labels=c(0.0,0.001,0.01,0.1,1.0)); \n",
    "axis(2, at=seq(0,1,0.25), labels=c(0.0,0.001,0.01,0.1,1.0)); "
   ]
  },
  {
   "cell_type": "code",
   "execution_count": null,
   "metadata": {},
   "outputs": [],
   "source": [
    "rotate <- function(x) t(apply(x, 2, rev))\n",
    "\n",
    "image.plot(rotate(apply(matrix(nGeno[1:25],nrow=5,ncol=5,byrow=TRUE),2,rev)),axes=F)\n",
    "\n",
    "title(main=\"Number of Genotypes\",xlab='Sp',ylab='Sd');\n",
    "axis(1, at=seq(0,1,0.25), labels=seq(1.0,0.2,-0.2)); \n",
    "axis(2, at=seq(0,1,0.25), labels=c(1.00,1.25,1.67,2.50,5.00)); "
   ]
  },
  {
   "cell_type": "code",
   "execution_count": null,
   "metadata": {},
   "outputs": [],
   "source": [
    "colscheme = c(\"green2\",\"turquoise3\",\"steelblue3\",\"grey\",\"black\")\n",
    "plot(tail(nclsot[[1]],n=13)/(2^c(4:16)),type='n',ylim=c(0.935,1.02))\n",
    "# plot(tail(nclsot[[1]],n=13))\n",
    "# cols = c(rep(c(2:6),5))\n",
    "cols = c(2,2,2,2,2,3,3,3,3,3,4,4,4,4,4,5,5,5,5,5,6,6,6,6,6)\n",
    "for (i in 1:25) {\n",
    "    lines(tail(nclsot[[i]],n=13)/(2^c(4:16)),col=cols[i])\n",
    "#     lines(tail(nclsot[[i]],n=13))\n",
    "}"
   ]
  },
  {
   "cell_type": "code",
   "execution_count": null,
   "metadata": {
    "scrolled": true
   },
   "outputs": [],
   "source": [
    "save(nclsot,nclst,ncls,rs,file='~/Desktop/out070718/1.rda')"
   ]
  },
  {
   "cell_type": "code",
   "execution_count": null,
   "metadata": {},
   "outputs": [],
   "source": []
  },
  {
   "cell_type": "code",
   "execution_count": null,
   "metadata": {},
   "outputs": [],
   "source": []
  },
  {
   "cell_type": "code",
   "execution_count": null,
   "metadata": {},
   "outputs": [],
   "source": []
  },
  {
   "cell_type": "code",
   "execution_count": null,
   "metadata": {},
   "outputs": [],
   "source": []
  }
 ],
 "metadata": {
  "kernelspec": {
   "display_name": "R",
   "language": "R",
   "name": "ir"
  },
  "language_info": {
   "codemirror_mode": "r",
   "file_extension": ".r",
   "mimetype": "text/x-r-source",
   "name": "R",
   "pygments_lexer": "r",
   "version": "3.4.4"
  }
 },
 "nbformat": 4,
 "nbformat_minor": 2
}
