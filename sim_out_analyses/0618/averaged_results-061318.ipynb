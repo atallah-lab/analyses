{
 "cells": [
  {
   "cell_type": "code",
   "execution_count": 11,
   "metadata": {},
   "outputs": [],
   "source": [
    "library(fields)\n",
    "library(rasterImage)"
   ]
  },
  {
   "cell_type": "markdown",
   "metadata": {},
   "source": [
    "List of files "
   ]
  },
  {
   "cell_type": "code",
   "execution_count": 12,
   "metadata": {
    "scrolled": true
   },
   "outputs": [],
   "source": [
    "files<-c('~/Desktop/out053018/1.rda','~/Desktop/out053018/2.rda','~/Desktop/out053018/3.rda','~/Desktop/out053018/4.rda','~/Desktop/out053018/5.rda','~/Desktop/out053018/6.rda','~/Desktop/out053018/8.rda','~/Desktop/out053018/9.rda','~/Desktop/out053018/10.rda','~/Desktop/out053018/11.rda','~/Desktop/out070718/1.rda','~/Desktop/out070718/2.rda','~/Desktop/out070718/3.rda','~/Desktop/out070718/4.rda','~/Desktop/out070718/5.rda','~/Desktop/out070718/6.rda','~/Desktop/out070718/7.rda','~/Desktop/out070718/8.rda','~/Desktop/out070718/9.rda','~/Desktop/out070718/10.rda','~/Desktop/out070718/11.rda','~/Desktop/out070718/12.rda')"
   ]
  },
  {
   "cell_type": "code",
   "execution_count": 21,
   "metadata": {},
   "outputs": [],
   "source": [
    "files<-c('~/Desktop/out053018/1.rda','~/Desktop/out053018/2.rda','~/Desktop/out053018/3.rda','~/Desktop/out053018/4.rda','~/Desktop/out053018/5.rda','~/Desktop/out053018/8.rda','~/Desktop/out053018/9.rda','~/Desktop/out053018/10.rda','~/Desktop/out053018/11.rda','~/Desktop/out070718/1.rda','~/Desktop/out070718/2.rda','~/Desktop/out070718/3.rda','~/Desktop/out070718/4.rda','~/Desktop/out070718/5.rda','~/Desktop/out070718/6.rda','~/Desktop/out070718/7.rda','~/Desktop/out070718/9.rda','~/Desktop/out070718/10.rda','~/Desktop/out070718/11.rda','~/Desktop/out070718/12.rda')"
   ]
  },
  {
   "cell_type": "markdown",
   "metadata": {},
   "source": [
    "Get population size over time for each simulation (25x22)"
   ]
  },
  {
   "cell_type": "code",
   "execution_count": 22,
   "metadata": {},
   "outputs": [],
   "source": [
    "N<-c()\n",
    "for (i in files) {\n",
    "    \n",
    "    load(i)\n",
    "    N <- append(N,nclsot)\n",
    "    \n",
    "}"
   ]
  },
  {
   "cell_type": "code",
   "execution_count": 23,
   "metadata": {},
   "outputs": [
    {
     "data": {
      "text/html": [
       "500"
      ],
      "text/latex": [
       "500"
      ],
      "text/markdown": [
       "500"
      ],
      "text/plain": [
       "[1] 500"
      ]
     },
     "metadata": {},
     "output_type": "display_data"
    }
   ],
   "source": [
    "length(N)"
   ]
  },
  {
   "cell_type": "markdown",
   "metadata": {},
   "source": [
    "Get average trajectory over 10 simulations for each parameter combination (25 combinations)"
   ]
  },
  {
   "cell_type": "code",
   "execution_count": 24,
   "metadata": {},
   "outputs": [],
   "source": [
    "N_arc <- N\n",
    "N <- simplify2array(N)\n",
    "N_av <- matrix(data=NA,nrow=17,ncol=25)\n",
    "for (j in 1:25) {\n",
    "    for (i in 1:17) {\n",
    "\n",
    "        N_av[i,j] <- mean(N[i,seq(1,500,25)+(j-1)])\n",
    "\n",
    "    }\n",
    "}"
   ]
  },
  {
   "cell_type": "markdown",
   "metadata": {},
   "source": [
    "Plot averaged trajectories for each parameter combination"
   ]
  },
  {
   "cell_type": "code",
   "execution_count": 79,
   "metadata": {},
   "outputs": [
    {
     "data": {
      "text/html": [
       "<strong>png:</strong> 2"
      ],
      "text/latex": [
       "\\textbf{png:} 2"
      ],
      "text/markdown": [
       "**png:** 2"
      ],
      "text/plain": [
       "png \n",
       "  2 "
      ]
     },
     "metadata": {},
     "output_type": "display_data"
    }
   ],
   "source": [
    "pdf('trajectories_passenger.pdf')\n",
    "colscheme = c(\"green2\",\"turquoise3\",\"steelblue3\",\"grey\",\"black\")\n",
    "plot(tail(N_av[,1],n=13)/(2^c(4:16)),type='n',ylim=c(0.935,1.07),xaxt='n',ylab='Normalized Population Size',xlab='Generation')\n",
    "# plot(tail(nclsot[[1]],n=13))\n",
    "cols = c(rep(colscheme,5))\n",
    "for (i in 1:25) {\n",
    "    lines(tail(N_av[,i],n=13)/(2^c(4:16)),col=cols[i],xaxt='n')\n",
    "}\n",
    "axis(1, at = seq(1,13,1),labels=seq(5,17,1))\n",
    "legend(1, 1.07, legend=c(\"Sp = 0.0\", \"Sp = 0.25\", \"Sp = 0.5\", \"Sp = 0.75\", \"Sp = 1.0\"),\n",
    "       col=c(\"green2\",\"turquoise3\",\"steelblue3\",\"grey\",\"black\"), lty=1, cex=0.8)\n",
    "dev.off()"
   ]
  },
  {
   "cell_type": "code",
   "execution_count": 80,
   "metadata": {},
   "outputs": [
    {
     "data": {
      "text/html": [
       "<strong>png:</strong> 2"
      ],
      "text/latex": [
       "\\textbf{png:} 2"
      ],
      "text/markdown": [
       "**png:** 2"
      ],
      "text/plain": [
       "png \n",
       "  2 "
      ]
     },
     "metadata": {},
     "output_type": "display_data"
    }
   ],
   "source": [
    "pdf('trajectories_driver.pdf')\n",
    "colscheme = c(\"green2\",\"turquoise3\",\"steelblue3\",\"grey\",\"black\")\n",
    "plot(tail(N_av[,1],n=13)/(2^c(4:16)),type='n',ylim=c(0.935,1.07),xaxt='n',ylab='Normalized Population Size',xlab='Generation')\n",
    "# plot(tail(nclsot[[1]],n=13))\n",
    "# cols = c(rep(colscheme,5))\n",
    "cols = c(rep(\"green2\",5),rep(\"turquoise3\",5),rep(\"steelblue3\",5),rep(\"grey\",5),rep(\"black\",5))\n",
    "\n",
    "for (i in 1:25) {\n",
    "    lines(tail(N_av[,i],n=13)/(2^c(4:16)),col=cols[i],xaxt='n')\n",
    "}\n",
    "axis(1, at = seq(1,13,1),labels=seq(5,17,1))\n",
    "legend(1, 1.07, legend=c(\"Sd = 0.0\", \"Sd = 0.25\", \"Sd = 0.5\", \"Sd = 0.75\", \"Sd = 1.0\"),\n",
    "       col=c(\"green2\",\"turquoise3\",\"steelblue3\",\"grey\",\"black\"), lty=1, cex=0.8)\n",
    "dev.off()"
   ]
  },
  {
   "cell_type": "code",
   "execution_count": 36,
   "metadata": {},
   "outputs": [],
   "source": [
    "Nt<-c()\n",
    "for (i in files) {\n",
    "    \n",
    "    load(i)\n",
    "    Nt <- append(Nt,nclst)\n",
    "    \n",
    "}"
   ]
  },
  {
   "cell_type": "code",
   "execution_count": 37,
   "metadata": {},
   "outputs": [],
   "source": [
    "Nt <- matrix(Nt,nrow=20,ncol=25,byrow=TRUE)"
   ]
  },
  {
   "cell_type": "code",
   "execution_count": 57,
   "metadata": {},
   "outputs": [],
   "source": [
    "getmode <- function(v) {\n",
    "   uniqv <- unique(v)\n",
    "   uniqv[which.max(tabulate(match(v, uniqv)))]\n",
    "}"
   ]
  },
  {
   "cell_type": "code",
   "execution_count": 72,
   "metadata": {},
   "outputs": [],
   "source": [
    "Ntav <- c()\n",
    "Ntstd <- c()\n",
    "for (i in 1:25) {\n",
    "    Ntav[i] <- median(unlist(Nt[,i]))\n",
    "#     Ntav[i] <- mean(unlist(Nt[,i]))\n",
    "    Ntstd[i] <- sd(unlist(Nt[,i]))\n",
    "}"
   ]
  },
  {
   "cell_type": "code",
   "execution_count": 74,
   "metadata": {
    "scrolled": false
   },
   "outputs": [
    {
     "data": {
      "image/png": "[encoded data removed]",
      "text/plain": [
       "Plot with title “Median Final Population Size”"
      ]
     },
     "metadata": {},
     "output_type": "display_data"
    }
   ],
   "source": [
    "# pdf('rasterPopSize.pdf')\n",
    "rotate <- function(x) t(apply(x, 2, rev))\n",
    "n=256\n",
    "cols = rainbow(n, s = 1, v = 1, start = 0.7, end = 0, alpha = 1)\n",
    "image.plot(rotate(apply(matrix(Ntav[1:25],nrow=5,ncol=5,byrow=TRUE),2,rev)),axes=F,col=cols)\n",
    "\n",
    "title(main=\"Median Final Population Size\",xlab='Sp',ylab='Sd');\n",
    "axis(1, at=seq(0,1,0.25), labels=c(0.0,0.25,0.5,0.75,1.0)); \n",
    "axis(2, at=seq(0,1,0.25), labels=c(0.0,0.25,0.5,0.75,1.0)); \n",
    "# dev.off()"
   ]
  },
  {
   "cell_type": "code",
   "execution_count": null,
   "metadata": {},
   "outputs": [],
   "source": []
  },
  {
   "cell_type": "code",
   "execution_count": null,
   "metadata": {},
   "outputs": [],
   "source": []
  },
  {
   "cell_type": "code",
   "execution_count": null,
   "metadata": {},
   "outputs": [],
   "source": []
  },
  {
   "cell_type": "code",
   "execution_count": null,
   "metadata": {},
   "outputs": [],
   "source": []
  },
  {
   "cell_type": "code",
   "execution_count": null,
   "metadata": {},
   "outputs": [],
   "source": []
  },
  {
   "cell_type": "code",
   "execution_count": null,
   "metadata": {},
   "outputs": [],
   "source": []
  },
  {
   "cell_type": "code",
   "execution_count": null,
   "metadata": {},
   "outputs": [],
   "source": []
  },
  {
   "cell_type": "code",
   "execution_count": null,
   "metadata": {},
   "outputs": [],
   "source": []
  },
  {
   "cell_type": "code",
   "execution_count": null,
   "metadata": {},
   "outputs": [],
   "source": []
  }
 ],
 "metadata": {
  "kernelspec": {
   "display_name": "R",
   "language": "R",
   "name": "ir"
  },
  "language_info": {
   "codemirror_mode": "r",
   "file_extension": ".r",
   "mimetype": "text/x-r-source",
   "name": "R",
   "pygments_lexer": "r",
   "version": "3.5.1"
  }
 },
 "nbformat": 4,
 "nbformat_minor": 2
}
