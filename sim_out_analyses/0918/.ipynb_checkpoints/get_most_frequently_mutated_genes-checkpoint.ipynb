{
 "cells": [
  {
   "cell_type": "code",
   "execution_count": 15,
   "metadata": {},
   "outputs": [],
   "source": [
    "library(naturalsort)\n",
    "dataDir <- '~/jackgl/Data/Simulations/sims0918/brain_0903/'\n",
    "flst <- naturalsort(list.files(dataDir))"
   ]
  },
  {
   "cell_type": "code",
   "execution_count": 17,
   "metadata": {},
   "outputs": [],
   "source": [
    "geneList <- c()\n",
    "for (i in 1:1000) {\n",
    "    load(paste0(dataDir,flst[i]))\n",
    "    geneList <- append(geneList,genes)\n",
    "}"
   ]
  },
  {
   "cell_type": "code",
   "execution_count": 19,
   "metadata": {},
   "outputs": [
    {
     "data": {
      "image/png": "[encoded data removed]",
      "text/plain": [
       "plot without title"
      ]
     },
     "metadata": {},
     "output_type": "display_data"
    }
   ],
   "source": [
    "test <- table(geneList)\n",
    "test <- test[order(-test)]\n",
    "par(mar=c(10,5,5,5))\n",
    "barplot(test[2:10],las=2)\n",
    "options(repr.plot.width=9, repr.plot.height=5)"
   ]
  },
  {
   "cell_type": "code",
   "execution_count": null,
   "metadata": {},
   "outputs": [],
   "source": []
  },
  {
   "cell_type": "code",
   "execution_count": 22,
   "metadata": {},
   "outputs": [],
   "source": [
    "library(naturalsort)\n",
    "dataDir <- '~/jackgl/Data/Simulations/sims0918/lung_0903/'\n",
    "flst <- naturalsort(list.files(dataDir))"
   ]
  },
  {
   "cell_type": "code",
   "execution_count": null,
   "metadata": {},
   "outputs": [],
   "source": [
    "geneList <- c()\n",
    "for (i in 1:1000) {\n",
    "    load(paste0(dataDir,flst[i]))\n",
    "    geneList <- append(geneList,genes)\n",
    "}"
   ]
  },
  {
   "cell_type": "code",
   "execution_count": null,
   "metadata": {},
   "outputs": [],
   "source": [
    "test <- table(geneList)\n",
    "test <- test[order(-test)]\n",
    "par(mar=c(10,5,5,5))\n",
    "barplot(test[2:10],las=2)\n",
    "options(repr.plot.width=9, repr.plot.height=5)"
   ]
  },
  {
   "cell_type": "code",
   "execution_count": null,
   "metadata": {},
   "outputs": [],
   "source": []
  },
  {
   "cell_type": "code",
   "execution_count": null,
   "metadata": {},
   "outputs": [],
   "source": [
    "library(naturalsort)\n",
    "dataDir <- '~/jackgl/colon_0903/'\n",
    "flst <- naturalsort(list.files(dataDir))"
   ]
  },
  {
   "cell_type": "code",
   "execution_count": null,
   "metadata": {},
   "outputs": [],
   "source": [
    "geneList <- c()\n",
    "for (i in 1:1000) {\n",
    "    load(paste0(dataDir,flst[i]))\n",
    "    geneList <- append(geneList,genes)\n",
    "}"
   ]
  },
  {
   "cell_type": "code",
   "execution_count": null,
   "metadata": {},
   "outputs": [],
   "source": [
    "test <- table(geneList)\n",
    "test <- test[order(-test)]\n",
    "par(mar=c(10,5,5,5))\n",
    "barplot(test[2:10],las=2)\n",
    "options(repr.plot.width=9, repr.plot.height=5)"
   ]
  },
  {
   "cell_type": "code",
   "execution_count": null,
   "metadata": {},
   "outputs": [],
   "source": []
  },
  {
   "cell_type": "code",
   "execution_count": null,
   "metadata": {},
   "outputs": [],
   "source": []
  },
  {
   "cell_type": "code",
   "execution_count": null,
   "metadata": {},
   "outputs": [],
   "source": []
  }
 ],
 "metadata": {
  "kernelspec": {
   "display_name": "R",
   "language": "R",
   "name": "ir"
  },
  "language_info": {
   "codemirror_mode": "r",
   "file_extension": ".r",
   "mimetype": "text/x-r-source",
   "name": "R",
   "pygments_lexer": "r",
   "version": "3.5.1"
  }
 },
 "nbformat": 4,
 "nbformat_minor": 2
}
