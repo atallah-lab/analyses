{
 "cells": [
  {
   "cell_type": "code",
   "execution_count": 1,
   "metadata": {
    "collapsed": true
   },
   "outputs": [
    {
     "name": "stderr",
     "output_type": "stream",
     "text": [
      "Loading required package: BiocGenerics\n",
      "Loading required package: parallel\n",
      "\n",
      "Attaching package: ‘BiocGenerics’\n",
      "\n",
      "The following objects are masked from ‘package:parallel’:\n",
      "\n",
      "    clusterApply, clusterApplyLB, clusterCall, clusterEvalQ,\n",
      "    clusterExport, clusterMap, parApply, parCapply, parLapply,\n",
      "    parLapplyLB, parRapply, parSapply, parSapplyLB\n",
      "\n",
      "The following objects are masked from ‘package:stats’:\n",
      "\n",
      "    IQR, mad, xtabs\n",
      "\n",
      "The following objects are masked from ‘package:base’:\n",
      "\n",
      "    anyDuplicated, append, as.data.frame, as.vector, cbind, colnames,\n",
      "    do.call, duplicated, eval, evalq, Filter, Find, get, grep, grepl,\n",
      "    intersect, is.unsorted, lapply, lengths, Map, mapply, match, mget,\n",
      "    order, paste, pmax, pmax.int, pmin, pmin.int, Position, rank,\n",
      "    rbind, Reduce, rownames, sapply, setdiff, sort, table, tapply,\n",
      "    union, unique, unlist, unsplit\n",
      "\n",
      "Loading required package: S4Vectors\n",
      "Loading required package: stats4\n",
      "Loading required package: IRanges\n",
      "\n",
      "Attaching package: ‘IRanges’\n",
      "\n",
      "The following object is masked from ‘package:data.table’:\n",
      "\n",
      "    shift\n",
      "\n",
      "Loading required package: XVector\n",
      "Loading required package: spam\n",
      "Loading required package: dotCall64\n",
      "Loading required package: grid\n",
      "Spam version 2.1-2 (2017-12-21) is loaded.\n",
      "Type 'help( Spam)' or 'demo( spam)' for a short introduction \n",
      "and overview of this package.\n",
      "Help for individual functions is also obtained by adding the\n",
      "suffix '.spam' to the function name, e.g. 'help( chol.spam)'.\n",
      "\n",
      "Attaching package: ‘spam’\n",
      "\n",
      "The following object is masked from ‘package:stats4’:\n",
      "\n",
      "    mle\n",
      "\n",
      "The following objects are masked from ‘package:base’:\n",
      "\n",
      "    backsolve, forwardsolve\n",
      "\n",
      "Loading required package: maps\n",
      "See www.image.ucar.edu/~nychka/Fields for\n",
      " a vignette and other supplements. \n"
     ]
    }
   ],
   "source": [
    "library(naturalsort)\n",
    "library(data.table)\n",
    "library(data.tree)\n",
    "library(Biostrings)\n",
    "library(fields)\n",
    "dataDir <- '../../Data/Simulations/SimOut040118_genomics/'"
   ]
  },
  {
   "cell_type": "code",
   "execution_count": 2,
   "metadata": {
    "scrolled": true
   },
   "outputs": [],
   "source": [
    "flst<-list.files(dataDir) # Get list of files from directory\n",
    "flst <- naturalsort(flst) # Natural sort the files\n",
    "nclst <- c() # Total number of cells for each simulation\n",
    "ncls <- c() # Number of cells for each genotype\n",
    "rs <- c() # Division rate for each genotype\n",
    "cellPs <- c() # transposition probabilities for each genotype\n",
    "nGeno <- c() # Number of genotypes for each simulation\n",
    "\n",
    "k<-1\n",
    "for (i in 1:15) { # Loop over files\n",
    "    load(paste0(dataDir,flst[i])) # Load the current simulation output file\n",
    "    nGeno[k] <- CellPop$totalCount # Get number of genotypes in population (number of L1 insertions)\n",
    "    if (CellPop$totalCount==1) { # If the genotype tree has 1 node\n",
    "        nclst[[k]] <- CellPop$ncells[length(CellPop$ncells)] # Get number of cells of node\n",
    "        ncls[[k]] <- CellPop$ncells[length(CellPop$ncells)]\n",
    "    }\n",
    "    else {\n",
    "        nclst[[k]] <- sum(vapply(CellPop$Get('ncells'),tail,n=1L,FUN.VALUE = numeric(1))) # Get number of cells for all nodes\n",
    "        ncls[[k]] <- vapply(CellPop$Get('ncells'),tail,n=1L,FUN.VALUE = numeric(1))\n",
    "    }\n",
    "    rs[[k]] <- CellPop$Get('r') # Get the division rates of all nodes\n",
    "    cellPs[[k]] <- CellPop$Get('cellP') # Get the transposition probabilities for all nodes\n",
    "    rm('CellPop')\n",
    "    k <- k+1 \n",
    "    \n",
    "}"
   ]
  },
  {
   "cell_type": "code",
   "execution_count": 3,
   "metadata": {},
   "outputs": [],
   "source": [
    "# Function for computing mode value\n",
    "getmode <- function(v) {\n",
    "   uniqv <- unique(v)\n",
    "   uniqv[which.max(tabulate(match(v, uniqv)))]\n",
    "}"
   ]
  },
  {
   "cell_type": "code",
   "execution_count": 4,
   "metadata": {},
   "outputs": [],
   "source": [
    "rs_var <- c()\n",
    "rs_mean <- c()\n",
    "rs_max <- c()\n",
    "cellPs_var <- c()\n",
    "cellPs_mean <- c()\n",
    "ncls_var <- c()\n",
    "\n",
    "for (i in 1:length(rs)) {\n",
    "    \n",
    "    if (length(rs[[i]])==1) {rs_var[i] <- 0}\n",
    "    if (length(cellPs[[i]])==1) {cellPs_var[i] <- 0}\n",
    "    \n",
    "    else {\n",
    "        rs_var[i] <- var(rs[[i]])\n",
    "        rs_mean[i] <- mean(rs[[i]])\n",
    "        rs_max[i] <- max(rs[[i]])\n",
    "        cellPs_var[i] <- var(cellPs[[i]])\n",
    "        cellPs_mean[i] <- mean(cellPs[[i]])\n",
    "    }\n",
    "    ncls_var[i] <- var(ncls[[i]])\n",
    "\n",
    "}"
   ]
  },
  {
   "cell_type": "code",
   "execution_count": 5,
   "metadata": {},
   "outputs": [],
   "source": [
    "norml <- function(x) {\n",
    "    x = (x-min(x))/(max(x)-min(x))\n",
    "    return(x)}"
   ]
  },
  {
   "cell_type": "code",
   "execution_count": 6,
   "metadata": {},
   "outputs": [
    {
     "data": {
      "text/html": [
       "<table>\n",
       "<tbody>\n",
       "\t<tr><td> 65317</td><td>64737 </td><td> 63497</td><td>63589 </td><td> 62196</td></tr>\n",
       "\t<tr><td> 65293</td><td>65094 </td><td> 61141</td><td>63803 </td><td> 55587</td></tr>\n",
       "\t<tr><td>268554</td><td>84726 </td><td>119106</td><td>47175 </td><td>114130</td></tr>\n",
       "\t<tr><td>    NA</td><td>   NA </td><td>    NA</td><td>   NA </td><td>    NA</td></tr>\n",
       "</tbody>\n",
       "</table>\n"
      ],
      "text/latex": [
       "\\begin{tabular}{lllll}\n",
       "\t  65317 & 64737  &  63497 & 63589  &  62196\\\\\n",
       "\t  65293 & 65094  &  61141 & 63803  &  55587\\\\\n",
       "\t 268554 & 84726  & 119106 & 47175  & 114130\\\\\n",
       "\t     NA &    NA  &     NA &    NA  &     NA\\\\\n",
       "\\end{tabular}\n"
      ],
      "text/markdown": [
       "\n",
       "|  65317 | 64737  |  63497 | 63589  |  62196 | \n",
       "|  65293 | 65094  |  61141 | 63803  |  55587 | \n",
       "| 268554 | 84726  | 119106 | 47175  | 114130 | \n",
       "|     NA |    NA  |     NA |    NA  |     NA | \n",
       "\n",
       "\n"
      ],
      "text/plain": [
       "     [,1]   [,2]  [,3]   [,4]  [,5]  \n",
       "[1,]  65317 64737  63497 63589  62196\n",
       "[2,]  65293 65094  61141 63803  55587\n",
       "[3,] 268554 84726 119106 47175 114130\n",
       "[4,]     NA    NA     NA    NA     NA"
      ]
     },
     "metadata": {},
     "output_type": "display_data"
    }
   ],
   "source": [
    "matrix(nclst[1:20],nrow=4,ncol=5,byrow=TRUE)"
   ]
  },
  {
   "cell_type": "code",
   "execution_count": 7,
   "metadata": {},
   "outputs": [
    {
     "data": {
      "text/html": [
       "<table>\n",
       "<tbody>\n",
       "\t<tr><td>0.9924125</td><td>0.9861387</td><td>0.9866942</td><td>0.9807722</td><td>0.9798125</td></tr>\n",
       "\t<tr><td>0.9931060</td><td>0.9870570</td><td>0.9865803</td><td>0.9826135</td><td>0.9838530</td></tr>\n",
       "\t<tr><td>2.0442017</td><td>1.1424153</td><td>1.5741442</td><td>0.9887616</td><td>1.6181221</td></tr>\n",
       "\t<tr><td>       NA</td><td>       NA</td><td>       NA</td><td>       NA</td><td>       NA</td></tr>\n",
       "</tbody>\n",
       "</table>\n"
      ],
      "text/latex": [
       "\\begin{tabular}{lllll}\n",
       "\t 0.9924125 & 0.9861387 & 0.9866942 & 0.9807722 & 0.9798125\\\\\n",
       "\t 0.9931060 & 0.9870570 & 0.9865803 & 0.9826135 & 0.9838530\\\\\n",
       "\t 2.0442017 & 1.1424153 & 1.5741442 & 0.9887616 & 1.6181221\\\\\n",
       "\t        NA &        NA &        NA &        NA &        NA\\\\\n",
       "\\end{tabular}\n"
      ],
      "text/markdown": [
       "\n",
       "| 0.9924125 | 0.9861387 | 0.9866942 | 0.9807722 | 0.9798125 | \n",
       "| 0.9931060 | 0.9870570 | 0.9865803 | 0.9826135 | 0.9838530 | \n",
       "| 2.0442017 | 1.1424153 | 1.5741442 | 0.9887616 | 1.6181221 | \n",
       "|        NA |        NA |        NA |        NA |        NA | \n",
       "\n",
       "\n"
      ],
      "text/plain": [
       "     [,1]      [,2]      [,3]      [,4]      [,5]     \n",
       "[1,] 0.9924125 0.9861387 0.9866942 0.9807722 0.9798125\n",
       "[2,] 0.9931060 0.9870570 0.9865803 0.9826135 0.9838530\n",
       "[3,] 2.0442017 1.1424153 1.5741442 0.9887616 1.6181221\n",
       "[4,]        NA        NA        NA        NA        NA"
      ]
     },
     "metadata": {},
     "output_type": "display_data"
    }
   ],
   "source": [
    "matrix(rs_mean[1:20],nrow=4,ncol=5,byrow=TRUE)"
   ]
  },
  {
   "cell_type": "code",
   "execution_count": 8,
   "metadata": {
    "scrolled": false
   },
   "outputs": [
    {
     "data": {
      "image/png": "[encoded data removed]",
      "text/plain": [
       "Plot with title “Mean Division Rate”"
      ]
     },
     "metadata": {},
     "output_type": "display_data"
    }
   ],
   "source": [
    "rotate <- function(x) t(apply(x, 2, rev))\n",
    "\n",
    "image.plot(rotate(apply(matrix(rs_mean[1:20],nrow=4,ncol=5,byrow=TRUE),2,rev)),axes=F)\n",
    "\n",
    "title(main=\"Mean Division Rate\",xlab='Sp',ylab='Sd');\n",
    "axis(1, at=seq(0,1,0.25), labels=seq(0.8,0.0,-0.2)); \n",
    "axis(2, at=seq(0,1,0.33), labels=c(1.25,1.67,2.50,5.00)); "
   ]
  },
  {
   "cell_type": "code",
   "execution_count": 9,
   "metadata": {},
   "outputs": [
    {
     "data": {
      "image/png": "[encoded data removed]",
      "text/plain": [
       "Plot with title “Population Size (# Cells)”"
      ]
     },
     "metadata": {},
     "output_type": "display_data"
    }
   ],
   "source": [
    "rotate <- function(x) t(apply(x, 2, rev))\n",
    "\n",
    "image.plot(rotate(apply(matrix(nclst[1:20],nrow=4,ncol=5,byrow=TRUE),2,rev)),axes=F)\n",
    "\n",
    "title(main=\"Population Size (# Cells)\",xlab='Sp',ylab='Sd');\n",
    "axis(1, at=seq(0,1,0.25), labels=seq(0.8,0.0,-0.2)); \n",
    "axis(2, at=seq(0,1,0.33), labels=c(1.25,1.67,2.50,5.00)); "
   ]
  },
  {
   "cell_type": "code",
   "execution_count": null,
   "metadata": {},
   "outputs": [],
   "source": [
    "rotate <- function(x) t(apply(x, 2, rev))\n",
    "\n",
    "image.plot(rotate(apply(matrix(nGeno[1:20],nrow=4,ncol=5,byrow=TRUE),2,rev)),axes=F)\n",
    "\n",
    "title(main=\"Number of Genotypes (L1 insertions)\",xlab='Sp',ylab='Sd');\n",
    "axis(1, at=seq(0,1,0.25), labels=seq(0.8,0.0,-0.2)); \n",
    "axis(2, at=seq(0,1,0.33), labels=c(1.25,1.67,2.50,5.00)); "
   ]
  },
  {
   "cell_type": "code",
   "execution_count": null,
   "metadata": {},
   "outputs": [],
   "source": []
  }
 ],
 "metadata": {
  "kernelspec": {
   "display_name": "R",
   "language": "R",
   "name": "ir"
  },
  "language_info": {
   "codemirror_mode": "r",
   "file_extension": ".r",
   "mimetype": "text/x-r-source",
   "name": "R",
   "pygments_lexer": "r",
   "version": "3.3.2"
  }
 },
 "nbformat": 4,
 "nbformat_minor": 2
}
