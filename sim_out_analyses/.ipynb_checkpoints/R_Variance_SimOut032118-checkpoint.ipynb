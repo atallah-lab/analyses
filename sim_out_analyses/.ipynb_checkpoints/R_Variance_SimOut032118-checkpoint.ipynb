{
 "cells": [
  {
   "cell_type": "code",
   "execution_count": 21,
   "metadata": {},
   "outputs": [],
   "source": [
    "library(naturalsort)\n",
    "library(data.table)\n",
    "library(data.tree)\n",
    "library(Biostrings)\n",
    "library(fields)\n",
    "dataDir <- '../../Data/SimOut032118/'"
   ]
  },
  {
   "cell_type": "code",
   "execution_count": 22,
   "metadata": {
    "scrolled": true
   },
   "outputs": [],
   "source": [
    "flst<-list.files(dataDir) # Get list of files from directory\n",
    "flst <- naturalsort(flst) # Natural sort the files\n",
    "ncls <- c()\n",
    "rs <- c()\n",
    "k<-1\n",
    "for (i in 1:(length(flst))) {\n",
    "    load(paste0(dataDir,flst[i]))\n",
    "    if (CellPop$totalCount==1) {\n",
    "        ncls[[k]] <- CellPop$ncells[length(CellPop$ncells)]\n",
    "    }\n",
    "    else {\n",
    "        ncls[[k]] <- sum(vapply(CellPop$Get('ncells'),tail,n=1L,FUN.VALUE = numeric(1)))\n",
    "    }\n",
    "    rs[[k]] <- CellPop$Get('r')\n",
    "    rm('CellPop')\n",
    "    k <- k+1\n",
    "    \n",
    "}"
   ]
  },
  {
   "cell_type": "code",
   "execution_count": 14,
   "metadata": {},
   "outputs": [],
   "source": [
    "rs_var <- c()\n",
    "rs_mean <- c()\n",
    "ncells_var <- c()\n",
    "\n",
    "for (i in 1:length(rs)) {\n",
    "    \n",
    "    if (length(rs[[i]])==1) {rs_var[i] <- 0}\n",
    "    else {\n",
    "        rs_var[i] <- var(rs[[i]])\n",
    "        rs_mean[i] <- mean(rs[[i]])\n",
    "    }\n",
    "    ncells_var[i] <- var(ncls[[i]])\n",
    "\n",
    "}"
   ]
  },
  {
   "cell_type": "code",
   "execution_count": 15,
   "metadata": {},
   "outputs": [],
   "source": [
    "norml <- function(x) {\n",
    "    x = (x-min(x))/(max(x)-min(x))\n",
    "    return(x)}"
   ]
  },
  {
   "cell_type": "code",
   "execution_count": 16,
   "metadata": {},
   "outputs": [
    {
     "data": {
      "text/html": [
       "<ol class=list-inline>\n",
       "\t<li>2048</li>\n",
       "\t<li>2004</li>\n",
       "\t<li>2038</li>\n",
       "\t<li>1980</li>\n",
       "\t<li>2010</li>\n",
       "\t<li>2091</li>\n",
       "\t<li>2027</li>\n",
       "\t<li>2030</li>\n",
       "\t<li>2003</li>\n",
       "\t<li>1968</li>\n",
       "\t<li>2050</li>\n",
       "\t<li>2048</li>\n",
       "\t<li>2011</li>\n",
       "\t<li>1885</li>\n",
       "\t<li>2030</li>\n",
       "\t<li>2052</li>\n",
       "\t<li>2042</li>\n",
       "\t<li>3307</li>\n",
       "\t<li>1977</li>\n",
       "\t<li>2050</li>\n",
       "\t<li>4231</li>\n",
       "\t<li>2018</li>\n",
       "\t<li>2053</li>\n",
       "\t<li>2136</li>\n",
       "\t<li>2007</li>\n",
       "</ol>\n"
      ],
      "text/latex": [
       "\\begin{enumerate*}\n",
       "\\item 2048\n",
       "\\item 2004\n",
       "\\item 2038\n",
       "\\item 1980\n",
       "\\item 2010\n",
       "\\item 2091\n",
       "\\item 2027\n",
       "\\item 2030\n",
       "\\item 2003\n",
       "\\item 1968\n",
       "\\item 2050\n",
       "\\item 2048\n",
       "\\item 2011\n",
       "\\item 1885\n",
       "\\item 2030\n",
       "\\item 2052\n",
       "\\item 2042\n",
       "\\item 3307\n",
       "\\item 1977\n",
       "\\item 2050\n",
       "\\item 4231\n",
       "\\item 2018\n",
       "\\item 2053\n",
       "\\item 2136\n",
       "\\item 2007\n",
       "\\end{enumerate*}\n"
      ],
      "text/markdown": [
       "1. 2048\n",
       "2. 2004\n",
       "3. 2038\n",
       "4. 1980\n",
       "5. 2010\n",
       "6. 2091\n",
       "7. 2027\n",
       "8. 2030\n",
       "9. 2003\n",
       "10. 1968\n",
       "11. 2050\n",
       "12. 2048\n",
       "13. 2011\n",
       "14. 1885\n",
       "15. 2030\n",
       "16. 2052\n",
       "17. 2042\n",
       "18. 3307\n",
       "19. 1977\n",
       "20. 2050\n",
       "21. 4231\n",
       "22. 2018\n",
       "23. 2053\n",
       "24. 2136\n",
       "25. 2007\n",
       "\n",
       "\n"
      ],
      "text/plain": [
       " [1] 2048 2004 2038 1980 2010 2091 2027 2030 2003 1968 2050 2048 2011 1885 2030\n",
       "[16] 2052 2042 3307 1977 2050 4231 2018 2053 2136 2007"
      ]
     },
     "metadata": {},
     "output_type": "display_data"
    }
   ],
   "source": [
    "ncls"
   ]
  },
  {
   "cell_type": "code",
   "execution_count": 17,
   "metadata": {},
   "outputs": [
    {
     "data": {
      "text/html": [
       "<table>\n",
       "<tbody>\n",
       "\t<tr><td>2048</td><td>2004</td><td>2038</td><td>1980</td><td>2010</td></tr>\n",
       "\t<tr><td>2091</td><td>2027</td><td>2030</td><td>2003</td><td>1968</td></tr>\n",
       "\t<tr><td>2050</td><td>2048</td><td>2011</td><td>1885</td><td>2030</td></tr>\n",
       "\t<tr><td>2052</td><td>2042</td><td>3307</td><td>1977</td><td>2050</td></tr>\n",
       "</tbody>\n",
       "</table>\n"
      ],
      "text/latex": [
       "\\begin{tabular}{lllll}\n",
       "\t 2048 & 2004 & 2038 & 1980 & 2010\\\\\n",
       "\t 2091 & 2027 & 2030 & 2003 & 1968\\\\\n",
       "\t 2050 & 2048 & 2011 & 1885 & 2030\\\\\n",
       "\t 2052 & 2042 & 3307 & 1977 & 2050\\\\\n",
       "\\end{tabular}\n"
      ],
      "text/markdown": [
       "\n",
       "| 2048 | 2004 | 2038 | 1980 | 2010 | \n",
       "| 2091 | 2027 | 2030 | 2003 | 1968 | \n",
       "| 2050 | 2048 | 2011 | 1885 | 2030 | \n",
       "| 2052 | 2042 | 3307 | 1977 | 2050 | \n",
       "\n",
       "\n"
      ],
      "text/plain": [
       "     [,1] [,2] [,3] [,4] [,5]\n",
       "[1,] 2048 2004 2038 1980 2010\n",
       "[2,] 2091 2027 2030 2003 1968\n",
       "[3,] 2050 2048 2011 1885 2030\n",
       "[4,] 2052 2042 3307 1977 2050"
      ]
     },
     "metadata": {},
     "output_type": "display_data"
    }
   ],
   "source": [
    "matrix(ncls[1:20],nrow=4,ncol=5,byrow=TRUE)"
   ]
  },
  {
   "cell_type": "code",
   "execution_count": 18,
   "metadata": {},
   "outputs": [
    {
     "data": {
      "text/html": [
       "<table>\n",
       "<tbody>\n",
       "\t<tr><td>0.9938279</td><td>0.9700496</td><td>0.9891667</td><td>0.9817490</td><td>0.9862708</td></tr>\n",
       "\t<tr><td>1.0096557</td><td>0.9841939</td><td>0.9901861</td><td>0.9887510</td><td>0.9798489</td></tr>\n",
       "\t<tr><td>1.0014335</td><td>0.9941323</td><td>0.9831812</td><td>0.9774967</td><td>0.9843562</td></tr>\n",
       "\t<tr><td>1.0054502</td><td>1.0156479</td><td>2.0656610</td><td>0.9653863</td><td>1.0525031</td></tr>\n",
       "</tbody>\n",
       "</table>\n"
      ],
      "text/latex": [
       "\\begin{tabular}{lllll}\n",
       "\t 0.9938279 & 0.9700496 & 0.9891667 & 0.9817490 & 0.9862708\\\\\n",
       "\t 1.0096557 & 0.9841939 & 0.9901861 & 0.9887510 & 0.9798489\\\\\n",
       "\t 1.0014335 & 0.9941323 & 0.9831812 & 0.9774967 & 0.9843562\\\\\n",
       "\t 1.0054502 & 1.0156479 & 2.0656610 & 0.9653863 & 1.0525031\\\\\n",
       "\\end{tabular}\n"
      ],
      "text/markdown": [
       "\n",
       "| 0.9938279 | 0.9700496 | 0.9891667 | 0.9817490 | 0.9862708 | \n",
       "| 1.0096557 | 0.9841939 | 0.9901861 | 0.9887510 | 0.9798489 | \n",
       "| 1.0014335 | 0.9941323 | 0.9831812 | 0.9774967 | 0.9843562 | \n",
       "| 1.0054502 | 1.0156479 | 2.0656610 | 0.9653863 | 1.0525031 | \n",
       "\n",
       "\n"
      ],
      "text/plain": [
       "     [,1]      [,2]      [,3]      [,4]      [,5]     \n",
       "[1,] 0.9938279 0.9700496 0.9891667 0.9817490 0.9862708\n",
       "[2,] 1.0096557 0.9841939 0.9901861 0.9887510 0.9798489\n",
       "[3,] 1.0014335 0.9941323 0.9831812 0.9774967 0.9843562\n",
       "[4,] 1.0054502 1.0156479 2.0656610 0.9653863 1.0525031"
      ]
     },
     "metadata": {},
     "output_type": "display_data"
    }
   ],
   "source": [
    "matrix(rs_mean[1:20],nrow=4,ncol=5,byrow=TRUE)"
   ]
  },
  {
   "cell_type": "code",
   "execution_count": 19,
   "metadata": {
    "scrolled": false
   },
   "outputs": [
    {
     "data": {
      "image/png": "[encoded data removed]",
      "text/plain": [
       "Plot with title “Division Rate Variance”"
      ]
     },
     "metadata": {},
     "output_type": "display_data"
    }
   ],
   "source": [
    "rotate <- function(x) t(apply(x, 2, rev))\n",
    "\n",
    "image.plot(rotate(apply(matrix(rs_mean[1:20],nrow=4,ncol=5,byrow=TRUE),2,rev)),axes=F)\n",
    "\n",
    "title(main=\"Division Rate Variance\",xlab='Sp',ylab='Sd');\n",
    "axis(1, at=seq(0,1,0.25), labels=seq(0.8,0.0,-0.2)); \n",
    "axis(2, at=seq(0,1,0.31), labels=seq(1.2,1.8,0.2)); \n"
   ]
  },
  {
   "cell_type": "code",
   "execution_count": 20,
   "metadata": {},
   "outputs": [
    {
     "data": {
      "image/png": "[encoded data removed]",
      "text/plain": [
       "Plot with title “Population Size (# Cells)”"
      ]
     },
     "metadata": {},
     "output_type": "display_data"
    }
   ],
   "source": [
    "rotate <- function(x) t(apply(x, 2, rev))\n",
    "\n",
    "image.plot(rotate(apply(matrix(ncls[1:20],nrow=4,ncol=5,byrow=TRUE),2,rev)),axes=F)\n",
    "\n",
    "title(main=\"Population Size (# Cells)\",xlab='Sp',ylab='Sd');\n",
    "axis(1, at=seq(0,1,0.25), labels=seq(0.8,0.0,-0.2)); \n",
    "axis(2, at=seq(0,1,0.25), labels=seq(1.2,2.0,0.2)); "
   ]
  },
  {
   "cell_type": "code",
   "execution_count": null,
   "metadata": {},
   "outputs": [],
   "source": []
  }
 ],
 "metadata": {
  "kernelspec": {
   "display_name": "R",
   "language": "R",
   "name": "ir"
  },
  "language_info": {
   "codemirror_mode": "r",
   "file_extension": ".r",
   "mimetype": "text/x-r-source",
   "name": "R",
   "pygments_lexer": "r",
   "version": "3.3.2"
  }
 },
 "nbformat": 4,
 "nbformat_minor": 2
}
