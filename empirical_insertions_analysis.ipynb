{
 "cells": [
  {
   "cell_type": "markdown",
   "metadata": {},
   "source": [
    "## Get tables of genes by weighted target site count, and length\n",
    "---"
   ]
  },
  {
   "cell_type": "code",
   "execution_count": 6,
   "metadata": {},
   "outputs": [],
   "source": [
    "library(naturalsort)\n",
    "library(data.table)\n",
    "library(EnsDb.Hsapiens.v86)\n",
    "library(org.Hs.eg.db)\n",
    "\n",
    "flst <- naturalsort(list.files('~/jackgl/analyses/gene_all_counts/')) # File names are same for each directory (lung, colon, brain)"
   ]
  },
  {
   "cell_type": "code",
   "execution_count": 28,
   "metadata": {},
   "outputs": [],
   "source": [
    "#--- Make a table containing the weighted L1 snap-velcro target site count for each Ensembl v86 human gene\n",
    "chroms <- c(1:22,'X','Y')\n",
    "for (i in 1:24) {\n",
    "    load(paste0('~/jackgl/analyses/gene_all_counts/',flst[i+1]))\n",
    "    rownames(counts) <- gnames\n",
    "    counts[,1] <- counts[,1]*7.46\n",
    "    counts[,2] <- counts[,2]*3.48\n",
    "    counts[,3] <- counts[,3]*2.05\n",
    "    counts[,4] <- counts[,4]*1.00\n",
    "    counts <- round(rowSums(counts))\n",
    "    if (i==1) {\n",
    "        out <- data.table(chrom=rep(chroms[i],length(counts)),geneSym=as.vector(gnames),tar=counts)\n",
    "    } else {\n",
    "        tmp <- data.table(chrom=rep(chroms[i],length(counts)),geneSym=as.vector(gnames),tar=counts)\n",
    "        out <- rbind(out,tmp)\n",
    "    }\n",
    "}\n",
    "out$tar <- out$tar/sum(out$tar)\n",
    "gene_pdt <- out"
   ]
  },
  {
   "cell_type": "markdown",
   "metadata": {},
   "source": [
    "### All genes ordered by weighted insertion site count"
   ]
  },
  {
   "cell_type": "code",
   "execution_count": 29,
   "metadata": {
    "scrolled": false
   },
   "outputs": [
    {
     "data": {
      "text/html": [
       "56234"
      ],
      "text/latex": [
       "56234"
      ],
      "text/markdown": [
       "56234"
      ],
      "text/plain": [
       "[1] 56234"
      ]
     },
     "metadata": {},
     "output_type": "display_data"
    },
    {
     "data": {
      "text/html": [
       "<table>\n",
       "<thead><tr><th scope=col>chrom</th><th scope=col>geneSym</th><th scope=col>tar</th></tr></thead>\n",
       "<tbody>\n",
       "\t<tr><td>6           </td><td>yR211F11.2  </td><td>2.936999e-07</td></tr>\n",
       "\t<tr><td>1           </td><td>uc_338      </td><td>1.376718e-07</td></tr>\n",
       "\t<tr><td>11          </td><td>snosnR66    </td><td>1.422609e-07</td></tr>\n",
       "\t<tr><td>5           </td><td>snoZ6       </td><td>3.059374e-09</td></tr>\n",
       "\t<tr><td>3           </td><td>snoZ40      </td><td>3.977186e-08</td></tr>\n",
       "\t<tr><td>15          </td><td>snoZ278     </td><td>1.835624e-08</td></tr>\n",
       "\t<tr><td>2           </td><td>snoZ196     </td><td>5.659842e-08</td></tr>\n",
       "\t<tr><td>14          </td><td>snoU83B     </td><td>6.730623e-08</td></tr>\n",
       "\t<tr><td>4           </td><td>snoU2_19    </td><td>3.365312e-08</td></tr>\n",
       "\t<tr><td>11          </td><td>snoU2-30    </td><td>3.059374e-08</td></tr>\n",
       "</tbody>\n",
       "</table>\n"
      ],
      "text/latex": [
       "\\begin{tabular}{r|lll}\n",
       " chrom & geneSym & tar\\\\\n",
       "\\hline\n",
       "\t 6            & yR211F11.2   & 2.936999e-07\\\\\n",
       "\t 1            & uc\\_338     & 1.376718e-07\\\\\n",
       "\t 11           & snosnR66     & 1.422609e-07\\\\\n",
       "\t 5            & snoZ6        & 3.059374e-09\\\\\n",
       "\t 3            & snoZ40       & 3.977186e-08\\\\\n",
       "\t 15           & snoZ278      & 1.835624e-08\\\\\n",
       "\t 2            & snoZ196      & 5.659842e-08\\\\\n",
       "\t 14           & snoU83B      & 6.730623e-08\\\\\n",
       "\t 4            & snoU2\\_19   & 3.365312e-08\\\\\n",
       "\t 11           & snoU2-30     & 3.059374e-08\\\\\n",
       "\\end{tabular}\n"
      ],
      "text/markdown": [
       "\n",
       "chrom | geneSym | tar | \n",
       "|---|---|---|---|---|---|---|---|---|---|\n",
       "| 6            | yR211F11.2   | 2.936999e-07 | \n",
       "| 1            | uc_338       | 1.376718e-07 | \n",
       "| 11           | snosnR66     | 1.422609e-07 | \n",
       "| 5            | snoZ6        | 3.059374e-09 | \n",
       "| 3            | snoZ40       | 3.977186e-08 | \n",
       "| 15           | snoZ278      | 1.835624e-08 | \n",
       "| 2            | snoZ196      | 5.659842e-08 | \n",
       "| 14           | snoU83B      | 6.730623e-08 | \n",
       "| 4            | snoU2_19     | 3.365312e-08 | \n",
       "| 11           | snoU2-30     | 3.059374e-08 | \n",
       "\n",
       "\n"
      ],
      "text/plain": [
       "   chrom geneSym    tar         \n",
       "1  6     yR211F11.2 2.936999e-07\n",
       "2  1     uc_338     1.376718e-07\n",
       "3  11    snosnR66   1.422609e-07\n",
       "4  5     snoZ6      3.059374e-09\n",
       "5  3     snoZ40     3.977186e-08\n",
       "6  15    snoZ278    1.835624e-08\n",
       "7  2     snoZ196    5.659842e-08\n",
       "8  14    snoU83B    6.730623e-08\n",
       "9  4     snoU2_19   3.365312e-08\n",
       "10 11    snoU2-30   3.059374e-08"
      ]
     },
     "metadata": {},
     "output_type": "display_data"
    }
   ],
   "source": [
    "gene_pdt <- gene_pdt[!duplicated(gene_pdt$geneSym),] # Remove duplicate genes, by symbol\n",
    "nrow(gene_pdt)\n",
    "gene_pdt <- gene_pdt[order(-gene_pdt$geneSym),] # Order the table by gene symbol\n",
    "gene_pdt[1:10]"
   ]
  },
  {
   "cell_type": "markdown",
   "metadata": {},
   "source": [
    "### All genes ordered by length"
   ]
  },
  {
   "cell_type": "code",
   "execution_count": 30,
   "metadata": {},
   "outputs": [
    {
     "data": {
      "text/html": [
       "56234"
      ],
      "text/latex": [
       "56234"
      ],
      "text/markdown": [
       "56234"
      ],
      "text/plain": [
       "[1] 56234"
      ]
     },
     "metadata": {},
     "output_type": "display_data"
    },
    {
     "data": {
      "text/html": [
       "<table>\n",
       "<thead><tr><th scope=col>chrom</th><th scope=col>start</th><th scope=col>end</th><th scope=col>geneSym</th><th scope=col>len</th></tr></thead>\n",
       "<tbody>\n",
       "\t<tr><td>6         </td><td>158921271 </td><td>158922150 </td><td>yR211F11.2</td><td>879       </td></tr>\n",
       "\t<tr><td>1         </td><td> 29171285 </td><td> 29171453 </td><td>uc_338    </td><td>168       </td></tr>\n",
       "\t<tr><td>11        </td><td>112602354 </td><td>112602452 </td><td>snosnR66  </td><td> 98       </td></tr>\n",
       "\t<tr><td>19        </td><td> 44725984 </td><td> 44726058 </td><td>snoZ6     </td><td> 74       </td></tr>\n",
       "\t<tr><td>3         </td><td> 86125216 </td><td> 86125287 </td><td>snoZ40    </td><td> 71       </td></tr>\n",
       "\t<tr><td>15        </td><td> 29233868 </td><td> 29233979 </td><td>snoZ278   </td><td>111       </td></tr>\n",
       "\t<tr><td>2         </td><td>206161841 </td><td>206161929 </td><td>snoZ196   </td><td> 88       </td></tr>\n",
       "\t<tr><td>14        </td><td> 50844625 </td><td> 50844712 </td><td>snoU83B   </td><td> 87       </td></tr>\n",
       "\t<tr><td>11        </td><td> 93721542 </td><td> 93721621 </td><td>snoU2_19  </td><td> 79       </td></tr>\n",
       "\t<tr><td>11        </td><td> 93721797 </td><td> 93721866 </td><td>snoU2-30  </td><td> 69       </td></tr>\n",
       "</tbody>\n",
       "</table>\n"
      ],
      "text/latex": [
       "\\begin{tabular}{r|lllll}\n",
       " chrom & start & end & geneSym & len\\\\\n",
       "\\hline\n",
       "\t 6          & 158921271  & 158922150  & yR211F11.2 & 879       \\\\\n",
       "\t 1            &  29171285    &  29171453    & uc\\_338     & 168         \\\\\n",
       "\t 11         & 112602354  & 112602452  & snosnR66   &  98       \\\\\n",
       "\t 19         &  44725984  &  44726058  & snoZ6      &  74       \\\\\n",
       "\t 3          &  86125216  &  86125287  & snoZ40     &  71       \\\\\n",
       "\t 15         &  29233868  &  29233979  & snoZ278    & 111       \\\\\n",
       "\t 2          & 206161841  & 206161929  & snoZ196    &  88       \\\\\n",
       "\t 14         &  50844625  &  50844712  & snoU83B    &  87       \\\\\n",
       "\t 11           &  93721542    &  93721621    & snoU2\\_19   &  79         \\\\\n",
       "\t 11         &  93721797  &  93721866  & snoU2-30   &  69       \\\\\n",
       "\\end{tabular}\n"
      ],
      "text/markdown": [
       "\n",
       "chrom | start | end | geneSym | len | \n",
       "|---|---|---|---|---|---|---|---|---|---|\n",
       "| 6          | 158921271  | 158922150  | yR211F11.2 | 879        | \n",
       "| 1          |  29171285  |  29171453  | uc_338     | 168        | \n",
       "| 11         | 112602354  | 112602452  | snosnR66   |  98        | \n",
       "| 19         |  44725984  |  44726058  | snoZ6      |  74        | \n",
       "| 3          |  86125216  |  86125287  | snoZ40     |  71        | \n",
       "| 15         |  29233868  |  29233979  | snoZ278    | 111        | \n",
       "| 2          | 206161841  | 206161929  | snoZ196    |  88        | \n",
       "| 14         |  50844625  |  50844712  | snoU83B    |  87        | \n",
       "| 11         |  93721542  |  93721621  | snoU2_19   |  79        | \n",
       "| 11         |  93721797  |  93721866  | snoU2-30   |  69        | \n",
       "\n",
       "\n"
      ],
      "text/plain": [
       "   chrom start     end       geneSym    len\n",
       "1  6     158921271 158922150 yR211F11.2 879\n",
       "2  1      29171285  29171453 uc_338     168\n",
       "3  11    112602354 112602452 snosnR66    98\n",
       "4  19     44725984  44726058 snoZ6       74\n",
       "5  3      86125216  86125287 snoZ40      71\n",
       "6  15     29233868  29233979 snoZ278    111\n",
       "7  2     206161841 206161929 snoZ196     88\n",
       "8  14     50844625  50844712 snoU83B     87\n",
       "9  11     93721542  93721621 snoU2_19    79\n",
       "10 11     93721797  93721866 snoU2-30    69"
      ]
     },
     "metadata": {},
     "output_type": "display_data"
    }
   ],
   "source": [
    "tmp <- genes(EnsDb.Hsapiens.v86)\n",
    "tmp <- data.table(chrom=as.vector(seqnames(tmp)),start=start(tmp),end=end(tmp),geneSym=tmp$gene_name)\n",
    "tmp$len <- tmp$end-tmp$start\n",
    "tmp <- tmp[tmp$chrom %in% c(1:22,'X','Y'),]\n",
    "tmp <- tmp[!duplicated(tmp$geneSym),]\n",
    "tmp <- tmp[order(-tmp$geneSym),]\n",
    "nrow(tmp)\n",
    "tmp[1:10]"
   ]
  },
  {
   "cell_type": "code",
   "execution_count": 31,
   "metadata": {},
   "outputs": [
    {
     "data": {
      "text/html": [
       "56234"
      ],
      "text/latex": [
       "56234"
      ],
      "text/markdown": [
       "56234"
      ],
      "text/plain": [
       "[1] 56234"
      ]
     },
     "metadata": {},
     "output_type": "display_data"
    },
    {
     "data": {
      "text/html": [
       "56234"
      ],
      "text/latex": [
       "56234"
      ],
      "text/markdown": [
       "56234"
      ],
      "text/plain": [
       "[1] 56234"
      ]
     },
     "metadata": {},
     "output_type": "display_data"
    },
    {
     "data": {
      "text/html": [
       "56234"
      ],
      "text/latex": [
       "56234"
      ],
      "text/markdown": [
       "56234"
      ],
      "text/plain": [
       "[1] 56234"
      ]
     },
     "metadata": {},
     "output_type": "display_data"
    }
   ],
   "source": [
    "#--- This shows that tmp and gene_pdt have the same set of genes, in order\n",
    "nrow(tmp)\n",
    "nrow(gene_pdt)\n",
    "length(which(tmp$geneSym %in% gene_pdt$geneSym))"
   ]
  },
  {
   "cell_type": "code",
   "execution_count": 32,
   "metadata": {},
   "outputs": [],
   "source": [
    "gene_pdt$len <- tmp$len # Assign length of each gene in gene_pdt\n",
    "gene_pdt <- gene_pdt[order(-gene_pdt$tar),] # Order by target size\n",
    "rm(tmp)"
   ]
  },
  {
   "cell_type": "markdown",
   "metadata": {},
   "source": [
    "### Tumor suppressor genes (Cancer Gene Census) ordered by weighted insertion site count"
   ]
  },
  {
   "cell_type": "code",
   "execution_count": 33,
   "metadata": {},
   "outputs": [
    {
     "name": "stdout",
     "output_type": "stream",
     "text": [
      "Tumor Suppressor Genes in Cancer Gene Census"
     ]
    },
    {
     "data": {
      "text/html": [
       "314"
      ],
      "text/latex": [
       "314"
      ],
      "text/markdown": [
       "314"
      ],
      "text/plain": [
       "[1] 314"
      ]
     },
     "metadata": {},
     "output_type": "display_data"
    },
    {
     "name": "stdout",
     "output_type": "stream",
     "text": [
      "Found in Ensembl v86 gene annotation:"
     ]
    },
    {
     "data": {
      "text/html": [
       "312"
      ],
      "text/latex": [
       "312"
      ],
      "text/markdown": [
       "312"
      ],
      "text/plain": [
       "[1] 312"
      ]
     },
     "metadata": {},
     "output_type": "display_data"
    },
    {
     "name": "stdout",
     "output_type": "stream",
     "text": [
      "99.3630573248408 %"
     ]
    },
    {
     "data": {
      "text/html": [
       "<table>\n",
       "<thead><tr><th scope=col>chrom</th><th scope=col>geneSym</th><th scope=col>tar</th><th scope=col>len</th></tr></thead>\n",
       "<tbody>\n",
       "\t<tr><td>9           </td><td>PTPRD       </td><td>0.0015571939</td><td>2298477     </td></tr>\n",
       "\t<tr><td>7           </td><td>CNTNAP2     </td><td>0.0014701822</td><td>2304996     </td></tr>\n",
       "\t<tr><td>2           </td><td>LRP1B       </td><td>0.0013241675</td><td>1900278     </td></tr>\n",
       "\t<tr><td>3           </td><td>ROBO2       </td><td>0.0011671084</td><td>1743269     </td></tr>\n",
       "\t<tr><td>13          </td><td>GPC5        </td><td>0.0009794739</td><td>1475075     </td></tr>\n",
       "\t<tr><td>3           </td><td>FHIT        </td><td>0.0008821568</td><td>1502149     </td></tr>\n",
       "\t<tr><td>8           </td><td>CSMD3       </td><td>0.0008755485</td><td>1214171     </td></tr>\n",
       "\t<tr><td>2           </td><td>ERBB4       </td><td>0.0008040372</td><td>1163124     </td></tr>\n",
       "\t<tr><td>8           </td><td>NRG1        </td><td>0.0007121244</td><td>1128573     </td></tr>\n",
       "\t<tr><td>21          </td><td>RUNX1       </td><td>0.0006391186</td><td>1216866     </td></tr>\n",
       "</tbody>\n",
       "</table>\n"
      ],
      "text/latex": [
       "\\begin{tabular}{r|llll}\n",
       " chrom & geneSym & tar & len\\\\\n",
       "\\hline\n",
       "\t 9            & PTPRD        & 0.0015571939 & 2298477     \\\\\n",
       "\t 7            & CNTNAP2      & 0.0014701822 & 2304996     \\\\\n",
       "\t 2            & LRP1B        & 0.0013241675 & 1900278     \\\\\n",
       "\t 3            & ROBO2        & 0.0011671084 & 1743269     \\\\\n",
       "\t 13           & GPC5         & 0.0009794739 & 1475075     \\\\\n",
       "\t 3            & FHIT         & 0.0008821568 & 1502149     \\\\\n",
       "\t 8            & CSMD3        & 0.0008755485 & 1214171     \\\\\n",
       "\t 2            & ERBB4        & 0.0008040372 & 1163124     \\\\\n",
       "\t 8            & NRG1         & 0.0007121244 & 1128573     \\\\\n",
       "\t 21           & RUNX1        & 0.0006391186 & 1216866     \\\\\n",
       "\\end{tabular}\n"
      ],
      "text/markdown": [
       "\n",
       "chrom | geneSym | tar | len | \n",
       "|---|---|---|---|---|---|---|---|---|---|\n",
       "| 9            | PTPRD        | 0.0015571939 | 2298477      | \n",
       "| 7            | CNTNAP2      | 0.0014701822 | 2304996      | \n",
       "| 2            | LRP1B        | 0.0013241675 | 1900278      | \n",
       "| 3            | ROBO2        | 0.0011671084 | 1743269      | \n",
       "| 13           | GPC5         | 0.0009794739 | 1475075      | \n",
       "| 3            | FHIT         | 0.0008821568 | 1502149      | \n",
       "| 8            | CSMD3        | 0.0008755485 | 1214171      | \n",
       "| 2            | ERBB4        | 0.0008040372 | 1163124      | \n",
       "| 8            | NRG1         | 0.0007121244 | 1128573      | \n",
       "| 21           | RUNX1        | 0.0006391186 | 1216866      | \n",
       "\n",
       "\n"
      ],
      "text/plain": [
       "   chrom geneSym tar          len    \n",
       "1  9     PTPRD   0.0015571939 2298477\n",
       "2  7     CNTNAP2 0.0014701822 2304996\n",
       "3  2     LRP1B   0.0013241675 1900278\n",
       "4  3     ROBO2   0.0011671084 1743269\n",
       "5  13    GPC5    0.0009794739 1475075\n",
       "6  3     FHIT    0.0008821568 1502149\n",
       "7  8     CSMD3   0.0008755485 1214171\n",
       "8  2     ERBB4   0.0008040372 1163124\n",
       "9  8     NRG1    0.0007121244 1128573\n",
       "10 21    RUNX1   0.0006391186 1216866"
      ]
     },
     "metadata": {},
     "output_type": "display_data"
    }
   ],
   "source": [
    "tsgs <- read.table('~/jackgl/sim-develop/data/human_tsgs_cgc.txt')\n",
    "tsgs <- tsgs$V1\n",
    "tsgs <- tsgs[2:length(tsgs)]\n",
    "\n",
    "cat('Tumor Suppressor Genes in Cancer Gene Census')\n",
    "length(tsgs)\n",
    "cat('Found in Ensembl v86 gene annotation:')\n",
    "length(which(gene_pdt$geneSym %in% tsgs))\n",
    "cat(paste(length(which(gene_pdt$geneSym %in% tsgs))/length(tsgs)*100,'%'))\n",
    "\n",
    "gene_pdt_tsgs <- gene_pdt[gene_pdt$geneSym %in% tsgs]\n",
    "gene_pdt_tsgs <- gene_pdt_tsgs[order(-gene_pdt_tsgs$tar),]\n",
    "gene_pdt_tsgs[1:10]"
   ]
  },
  {
   "cell_type": "code",
   "execution_count": 34,
   "metadata": {},
   "outputs": [
    {
     "data": {
      "image/png": "[encoded data removed]",
      "text/plain": [
       "Plot with title \"Cumulative Distribution of TSG Target Sites\""
      ]
     },
     "metadata": {},
     "output_type": "display_data"
    }
   ],
   "source": [
    "options(repr.plot.width=9, repr.plot.height=5)\n",
    "plot(cumsum(gene_pdt_tsgs$tar[order(-gene_pdt_tsgs$tar)]*100/sum(gene_pdt_tsgs$tar)),\n",
    "     ylab='Percent of TSG sites', xlab='Number of genes', main='Cumulative Distribution of TSG Target Sites',\n",
    "     ylim=c(0,100), xlim=c(0,312))\n",
    "axis(1,seq(0,312,25),tck=1,lty = 2, col = \"grey\",labels=NA)\n",
    "axis(2,seq(0,100,20),tck=1,lty = 2, col = \"grey\",)"
   ]
  },
  {
   "cell_type": "code",
   "execution_count": 59,
   "metadata": {},
   "outputs": [
    {
     "data": {
      "image/png": "[encoded data removed]",
      "text/plain": [
       "Plot with title \"Cumulative Distribution of TSG Lengths\""
      ]
     },
     "metadata": {},
     "output_type": "display_data"
    }
   ],
   "source": [
    "options(repr.plot.width=9, repr.plot.height=5)\n",
    "plot(cumsum(gene_pdt_tsgs$len[order(-gene_pdt_tsgs$len)]*100/sum(gene_pdt_tsgs$len)),\n",
    "     ylab='Percent of TSG bp', xlab='Number of genes', main='Cumulative Distribution of TSG Lengths',\n",
    "     ylim=c(0,100), xlim=c(0,312))\n",
    "axis(1,seq(0,312,25),tck=1,lty = 2, col = \"grey\",labels=NA)\n",
    "axis(2,seq(0,100,20),tck=1,lty = 2, col = \"grey\",)"
   ]
  },
  {
   "cell_type": "markdown",
   "metadata": {},
   "source": [
    "## Compare with Lee et al. (2012) gene lists\n",
    "---"
   ]
  },
  {
   "cell_type": "code",
   "execution_count": 35,
   "metadata": {},
   "outputs": [
    {
     "name": "stdout",
     "output_type": "stream",
     "text": [
      "Genes in Table S2"
     ]
    },
    {
     "data": {
      "text/html": [
       "65"
      ],
      "text/latex": [
       "65"
      ],
      "text/markdown": [
       "65"
      ],
      "text/plain": [
       "[1] 65"
      ]
     },
     "metadata": {},
     "output_type": "display_data"
    },
    {
     "name": "stdout",
     "output_type": "stream",
     "text": [
      "Genes in Fig. 2C"
     ]
    },
    {
     "data": {
      "text/html": [
       "44"
      ],
      "text/latex": [
       "44"
      ],
      "text/markdown": [
       "44"
      ],
      "text/plain": [
       "[1] 44"
      ]
     },
     "metadata": {},
     "output_type": "display_data"
    },
    {
     "name": "stdout",
     "output_type": "stream",
     "text": [
      "Genes in union"
     ]
    },
    {
     "data": {
      "text/html": [
       "71"
      ],
      "text/latex": [
       "71"
      ],
      "text/markdown": [
       "71"
      ],
      "text/plain": [
       "[1] 71"
      ]
     },
     "metadata": {},
     "output_type": "display_data"
    },
    {
     "data": {
      "text/html": [
       "<table>\n",
       "<thead><tr><th scope=col>geneSym</th></tr></thead>\n",
       "<tbody>\n",
       "\t<tr><td>SPHKAP </td></tr>\n",
       "\t<tr><td>ERBB4  </td></tr>\n",
       "\t<tr><td>KCNIP1 </td></tr>\n",
       "\t<tr><td>FPR2   </td></tr>\n",
       "\t<tr><td>COL11A1</td></tr>\n",
       "\t<tr><td>GPR158 </td></tr>\n",
       "</tbody>\n",
       "</table>\n"
      ],
      "text/latex": [
       "\\begin{tabular}{r|l}\n",
       " geneSym\\\\\n",
       "\\hline\n",
       "\t SPHKAP \\\\\n",
       "\t ERBB4  \\\\\n",
       "\t KCNIP1 \\\\\n",
       "\t FPR2   \\\\\n",
       "\t COL11A1\\\\\n",
       "\t GPR158 \\\\\n",
       "\\end{tabular}\n"
      ],
      "text/markdown": [
       "\n",
       "geneSym | \n",
       "|---|---|---|---|---|---|\n",
       "| SPHKAP  | \n",
       "| ERBB4   | \n",
       "| KCNIP1  | \n",
       "| FPR2    | \n",
       "| COL11A1 | \n",
       "| GPR158  | \n",
       "\n",
       "\n"
      ],
      "text/plain": [
       "  geneSym\n",
       "1 SPHKAP \n",
       "2 ERBB4  \n",
       "3 KCNIP1 \n",
       "4 FPR2   \n",
       "5 COL11A1\n",
       "6 GPR158 "
      ]
     },
     "metadata": {},
     "output_type": "display_data"
    }
   ],
   "source": [
    "lee_genes <- read.table('~/jackgl/Lee_tableS2_genes.txt')\n",
    "cat('Genes in Table S2')\n",
    "length(lee_genes$V1)\n",
    "tmp <- read.table('~/jackgl/Lee_fig2_genes.txt')\n",
    "cat('Genes in Fig. 2C')\n",
    "length(tmp$V1)\n",
    "lee_genes <- rbind(lee_genes,tmp)\n",
    "names(lee_genes) <- 'geneSym'\n",
    "lee_genes <- unique(lee_genes$geneSym)\n",
    "cat('Genes in union')\n",
    "length(lee_genes)\n",
    "lee_genes <- data.frame(geneSym=lee_genes)\n",
    "head(lee_genes)"
   ]
  },
  {
   "cell_type": "markdown",
   "metadata": {},
   "source": [
    "### All genes with insertions reported by Lee et al. (2012)"
   ]
  },
  {
   "cell_type": "code",
   "execution_count": 56,
   "metadata": {
    "scrolled": false
   },
   "outputs": [
    {
     "name": "stdout",
     "output_type": "stream",
     "text": [
      "Number of genes from Tubio list found in gene annotation:"
     ]
    },
    {
     "data": {
      "text/html": [
       "63"
      ],
      "text/latex": [
       "63"
      ],
      "text/markdown": [
       "63"
      ],
      "text/plain": [
       "[1] 63"
      ]
     },
     "metadata": {},
     "output_type": "display_data"
    },
    {
     "data": {
      "text/html": [
       "<table>\n",
       "<thead><tr><th scope=col>geneSym</th><th scope=col>tar</th><th scope=col>len</th><th scope=col>tarrank</th><th scope=col>lenrank</th><th scope=col>tarf</th><th scope=col>tarfrank</th></tr></thead>\n",
       "<tbody>\n",
       "\t<tr><td>SPHKAP      </td><td>1.251039e-04</td><td> 201695     </td><td> 1696       </td><td> 1815       </td><td>1.239800e-04</td><td> 1713       </td></tr>\n",
       "\t<tr><td>ERBB4       </td><td>8.040372e-04</td><td>1163124     </td><td>   36       </td><td>   51       </td><td>7.892964e-04</td><td>   38       </td></tr>\n",
       "\t<tr><td>KCNIP1      </td><td>1.496982e-04</td><td> 383145     </td><td> 1278       </td><td>  631       </td><td>1.563585e-04</td><td> 1181       </td></tr>\n",
       "\t<tr><td>FPR2        </td><td>9.029743e-06</td><td>  18500     </td><td>16116       </td><td>16254       </td><td>9.171167e-06</td><td>16167       </td></tr>\n",
       "\t<tr><td>COL11A1     </td><td>1.719537e-04</td><td> 232029     </td><td> 1027       </td><td> 1461       </td><td>1.678572e-04</td><td> 1054       </td></tr>\n",
       "\t<tr><td>GPR158      </td><td>2.788298e-04</td><td> 427164     </td><td>  418       </td><td>  503       </td><td>2.750619e-04</td><td>  427       </td></tr>\n",
       "</tbody>\n",
       "</table>\n"
      ],
      "text/latex": [
       "\\begin{tabular}{r|lllllll}\n",
       " geneSym & tar & len & tarrank & lenrank & tarf & tarfrank\\\\\n",
       "\\hline\n",
       "\t SPHKAP       & 1.251039e-04 &  201695      &  1696        &  1815        & 1.239800e-04 &  1713       \\\\\n",
       "\t ERBB4        & 8.040372e-04 & 1163124      &    36        &    51        & 7.892964e-04 &    38       \\\\\n",
       "\t KCNIP1       & 1.496982e-04 &  383145      &  1278        &   631        & 1.563585e-04 &  1181       \\\\\n",
       "\t FPR2         & 9.029743e-06 &   18500      & 16116        & 16254        & 9.171167e-06 & 16167       \\\\\n",
       "\t COL11A1      & 1.719537e-04 &  232029      &  1027        &  1461        & 1.678572e-04 &  1054       \\\\\n",
       "\t GPR158       & 2.788298e-04 &  427164      &   418        &   503        & 2.750619e-04 &   427       \\\\\n",
       "\\end{tabular}\n"
      ],
      "text/markdown": [
       "\n",
       "geneSym | tar | len | tarrank | lenrank | tarf | tarfrank | \n",
       "|---|---|---|---|---|---|\n",
       "| SPHKAP       | 1.251039e-04 |  201695      |  1696        |  1815        | 1.239800e-04 |  1713        | \n",
       "| ERBB4        | 8.040372e-04 | 1163124      |    36        |    51        | 7.892964e-04 |    38        | \n",
       "| KCNIP1       | 1.496982e-04 |  383145      |  1278        |   631        | 1.563585e-04 |  1181        | \n",
       "| FPR2         | 9.029743e-06 |   18500      | 16116        | 16254        | 9.171167e-06 | 16167        | \n",
       "| COL11A1      | 1.719537e-04 |  232029      |  1027        |  1461        | 1.678572e-04 |  1054        | \n",
       "| GPR158       | 2.788298e-04 |  427164      |   418        |   503        | 2.750619e-04 |   427        | \n",
       "\n",
       "\n"
      ],
      "text/plain": [
       "  geneSym tar          len     tarrank lenrank tarf         tarfrank\n",
       "1 SPHKAP  1.251039e-04  201695  1696    1815   1.239800e-04  1713   \n",
       "2 ERBB4   8.040372e-04 1163124    36      51   7.892964e-04    38   \n",
       "3 KCNIP1  1.496982e-04  383145  1278     631   1.563585e-04  1181   \n",
       "4 FPR2    9.029743e-06   18500 16116   16254   9.171167e-06 16167   \n",
       "5 COL11A1 1.719537e-04  232029  1027    1461   1.678572e-04  1054   \n",
       "6 GPR158  2.788298e-04  427164   418     503   2.750619e-04   427   "
      ]
     },
     "metadata": {},
     "output_type": "display_data"
    },
    {
     "name": "stderr",
     "output_type": "stream",
     "text": [
      "Warning message in xy.coords(x, y, xlabel, ylabel, log):\n",
      "\"58 y values <= 0 omitted from logarithmic plot\""
     ]
    },
    {
     "name": "stdout",
     "output_type": "stream",
     "text": [
      "Correlation between log(counts) and log(length rank)"
     ]
    },
    {
     "data": {
      "text/html": [
       "<table>\n",
       "<tbody>\n",
       "\t<tr><td> 1.0000000</td><td>-0.7033383</td></tr>\n",
       "\t<tr><td>-0.7033383</td><td> 1.0000000</td></tr>\n",
       "</tbody>\n",
       "</table>\n"
      ],
      "text/latex": [
       "\\begin{tabular}{ll}\n",
       "\t  1.0000000 & -0.7033383\\\\\n",
       "\t -0.7033383 &  1.0000000\\\\\n",
       "\\end{tabular}\n"
      ],
      "text/markdown": [
       "\n",
       "|  1.0000000 | -0.7033383 | \n",
       "| -0.7033383 |  1.0000000 | \n",
       "\n",
       "\n"
      ],
      "text/plain": [
       "     [,1]       [,2]      \n",
       "[1,]  1.0000000 -0.7033383\n",
       "[2,] -0.7033383  1.0000000"
      ]
     },
     "metadata": {},
     "output_type": "display_data"
    },
    {
     "name": "stdout",
     "output_type": "stream",
     "text": [
      "Correlation between log(counts) and log(target size rank)"
     ]
    },
    {
     "data": {
      "text/html": [
       "<table>\n",
       "<tbody>\n",
       "\t<tr><td> 1.0000000</td><td>-0.6511489</td></tr>\n",
       "\t<tr><td>-0.6511489</td><td> 1.0000000</td></tr>\n",
       "</tbody>\n",
       "</table>\n"
      ],
      "text/latex": [
       "\\begin{tabular}{ll}\n",
       "\t  1.0000000 & -0.6511489\\\\\n",
       "\t -0.6511489 &  1.0000000\\\\\n",
       "\\end{tabular}\n"
      ],
      "text/markdown": [
       "\n",
       "|  1.0000000 | -0.6511489 | \n",
       "| -0.6511489 |  1.0000000 | \n",
       "\n",
       "\n"
      ],
      "text/plain": [
       "     [,1]       [,2]      \n",
       "[1,]  1.0000000 -0.6511489\n",
       "[2,] -0.6511489  1.0000000"
      ]
     },
     "metadata": {},
     "output_type": "display_data"
    },
    {
     "data": {
      "image/png": "[encoded data removed]",
      "text/plain": [
       "plot without title"
      ]
     },
     "metadata": {},
     "output_type": "display_data"
    }
   ],
   "source": [
    "cat('Number of genes from Tubio list found in gene annotation:')\n",
    "length(which(lee_genes$geneSym %in% gene_pdt$geneSym))\n",
    "\n",
    "tmp <- lee_genes\n",
    "tmp$tar <- NA\n",
    "tmp$len <- NA\n",
    "gene_pdt <- gene_pdt[order(-gene_pdt$tar),]\n",
    "for (i in which(lee_genes$geneSym %in% gene_pdt$geneSym)) {\n",
    "    tmp$tar[i] <- gene_pdt$tar[gene_pdt$geneSym==lee_genes$geneSym[i]]\n",
    "    tmp$tarrank[i] <- which(gene_pdt$geneSym==lee_genes$geneSym[i])\n",
    "}\n",
    "gene_pdt <- gene_pdt[order(-gene_pdt$len),]\n",
    "for (i in which(lee_genes$geneSym %in% gene_pdt$geneSym)) {\n",
    "    tmp$len[i] <- gene_pdt$len[gene_pdt$geneSym==lee_genes$geneSym[i]]\n",
    "    tmp$lenrank[i] <- which(gene_pdt$geneSym==lee_genes$geneSym[i])\n",
    "}\n",
    "gene_pdt$tarf <- (0.9*gene_pdt$tar)+(0.1*(gene_pdt$len/sum(gene_pdt$len)))\n",
    "gene_pdt <- gene_pdt[order(-gene_pdt$tarf),]\n",
    "for (i in which(lee_genes$geneSym %in% gene_pdt$geneSym)) {\n",
    "    tmp$tarf[i] <- gene_pdt$tarf[gene_pdt$geneSym==lee_genes$geneSym[i]]\n",
    "    tmp$tarfrank[i] <- which(gene_pdt$geneSym==lee_genes$geneSym[i])\n",
    "}\n",
    "\n",
    "tmp <- tmp[!is.na(tmp$tar),]\n",
    "tmp <- tmp[!is.na(tmp$len),]\n",
    "\n",
    "head(tmp)\n",
    "\n",
    "# hist(tmp$tarrank,50,col='black',xlab='Gene Rank (by L1 target size)',ylab='Insertion Frequency',main='')\n",
    "# hist(tmp$lenrank,50,col='black',xlab='Gene Rank (by length)',ylab='Insertion Frequency',main='')\n",
    "\n",
    "tmp2 <- hist(tmp$lenrank,100,plot=FALSE)\n",
    "tmp3 <- hist(tmp$tarfrank,100,plot=FALSE)\n",
    "plot(tmp2$mids,tmp2$counts,xlab='Rank (Log-scaled)',ylab='Insertion Frequency (Log-scaled)',log='xy')\n",
    "points(tmp3$mids,tmp3$counts,col='blue',)\n",
    "legend('topright',legend=c(\"Gene Length\",\"Gene Target Size\"),pch=1,col=c('black','blue'),inset=0.05)\n",
    "\n",
    "cat('Correlation between log(counts) and log(length rank)')\n",
    "cor(cbind(log(tmp2$mids),log(tmp2$counts+0.01)),method='pearson')\n",
    "cat('Correlation between log(counts) and log(target size rank)')\n",
    "cor(cbind(log(tmp3$mids),log(tmp3$counts+0.01)),method='pearson')"
   ]
  },
  {
   "cell_type": "markdown",
   "metadata": {},
   "source": [
    "### Cancer Gene Census TSGs with insertions reported by Lee et al. (2012)"
   ]
  },
  {
   "cell_type": "code",
   "execution_count": 38,
   "metadata": {},
   "outputs": [
    {
     "data": {
      "text/html": [
       "4"
      ],
      "text/latex": [
       "4"
      ],
      "text/markdown": [
       "4"
      ],
      "text/plain": [
       "[1] 4"
      ]
     },
     "metadata": {},
     "output_type": "display_data"
    },
    {
     "data": {
      "text/html": [
       "<ol class=list-inline>\n",
       "\t<li>ERBB4</li>\n",
       "\t<li>ROBO2</li>\n",
       "\t<li>ARHGEF12</li>\n",
       "\t<li>PTPRD</li>\n",
       "</ol>\n",
       "\n",
       "<details>\n",
       "\t<summary style=display:list-item;cursor:pointer>\n",
       "\t\t<strong>Levels</strong>:\n",
       "\t</summary>\n",
       "\t<ol class=list-inline>\n",
       "\t\t<li>'1-Dec'</li>\n",
       "\t\t<li>'ALS2CR8'</li>\n",
       "\t\t<li>'ANKS1B'</li>\n",
       "\t\t<li>'ANO9'</li>\n",
       "\t\t<li>'ARHGEF12'</li>\n",
       "\t\t<li>'BBS7'</li>\n",
       "\t\t<li>'CACNA2D3'</li>\n",
       "\t\t<li>'CDH12'</li>\n",
       "\t\t<li>'CDH20'</li>\n",
       "\t\t<li>'CETN3'</li>\n",
       "\t\t<li>'CLMN'</li>\n",
       "\t\t<li>'COL11A1'</li>\n",
       "\t\t<li>'COL9A1'</li>\n",
       "\t\t<li>'COX7B2'</li>\n",
       "\t\t<li>'CTNNA2'</li>\n",
       "\t\t<li>'DBC1'</li>\n",
       "\t\t<li>'DYNC2H1'</li>\n",
       "\t\t<li>'EPHA6'</li>\n",
       "\t\t<li>'ERBB4'</li>\n",
       "\t\t<li>'EXOC6B'</li>\n",
       "\t\t<li>'EYA4'</li>\n",
       "\t\t<li>'F13B'</li>\n",
       "\t\t<li>'FOXP2'</li>\n",
       "\t\t<li>'FPR2'</li>\n",
       "\t\t<li>'GABRG3'</li>\n",
       "\t\t<li>'GPATCH2'</li>\n",
       "\t\t<li>'GPR158'</li>\n",
       "\t\t<li>'GRID2'</li>\n",
       "\t\t<li>'HAO1'</li>\n",
       "\t\t<li>'ITFG1'</li>\n",
       "\t\t<li>'KATNA1'</li>\n",
       "\t\t<li>'KCNIP1'</li>\n",
       "\t\t<li>'KDR'</li>\n",
       "\t\t<li>'KIAA1217'</li>\n",
       "\t\t<li>'KIF16B'</li>\n",
       "\t\t<li>'KLHL25'</li>\n",
       "\t\t<li>'MCTP2'</li>\n",
       "\t\t<li>'MTMR7'</li>\n",
       "\t\t<li>'NEGR1'</li>\n",
       "\t\t<li>'NEK5'</li>\n",
       "\t\t<li>'NELL1'</li>\n",
       "\t\t<li>'NPAS3'</li>\n",
       "\t\t<li>'NRXN3'</li>\n",
       "\t\t<li>'NTM'</li>\n",
       "\t\t<li>'PARK2'</li>\n",
       "\t\t<li>'PLS3'</li>\n",
       "\t\t<li>'PRKD1'</li>\n",
       "\t\t<li>'PTPRD'</li>\n",
       "\t\t<li>'RBFOX1'</li>\n",
       "\t\t<li>'RGS7'</li>\n",
       "\t\t<li>'RIMS2'</li>\n",
       "\t\t<li>'ROBO2'</li>\n",
       "\t\t<li>'RPL10L'</li>\n",
       "\t\t<li>'S100A7L2'</li>\n",
       "\t\t<li>'SDK1'</li>\n",
       "\t\t<li>'SGCZ'</li>\n",
       "\t\t<li>'SLC35F1'</li>\n",
       "\t\t<li>'SLC44A5'</li>\n",
       "\t\t<li>'SPAG16'</li>\n",
       "\t\t<li>'SPHKAP'</li>\n",
       "\t\t<li>'STXBP5L'</li>\n",
       "\t\t<li>'TRHDE'</li>\n",
       "\t\t<li>'ZFHX4'</li>\n",
       "\t\t<li>'A2BP1'</li>\n",
       "\t\t<li>'DEC1'</li>\n",
       "\t\t<li>'FPRL1'</li>\n",
       "\t\t<li>'HNT'</li>\n",
       "\t\t<li>'SKIP'</li>\n",
       "\t\t<li>'TMED7'</li>\n",
       "\t\t<li>'TMEM16J'</li>\n",
       "\t\t<li>'TMEM56'</li>\n",
       "\t</ol>\n",
       "</details>"
      ],
      "text/latex": [
       "\\begin{enumerate*}\n",
       "\\item ERBB4\n",
       "\\item ROBO2\n",
       "\\item ARHGEF12\n",
       "\\item PTPRD\n",
       "\\end{enumerate*}\n",
       "\n",
       "\\emph{Levels}: \\begin{enumerate*}\n",
       "\\item '1-Dec'\n",
       "\\item 'ALS2CR8'\n",
       "\\item 'ANKS1B'\n",
       "\\item 'ANO9'\n",
       "\\item 'ARHGEF12'\n",
       "\\item 'BBS7'\n",
       "\\item 'CACNA2D3'\n",
       "\\item 'CDH12'\n",
       "\\item 'CDH20'\n",
       "\\item 'CETN3'\n",
       "\\item 'CLMN'\n",
       "\\item 'COL11A1'\n",
       "\\item 'COL9A1'\n",
       "\\item 'COX7B2'\n",
       "\\item 'CTNNA2'\n",
       "\\item 'DBC1'\n",
       "\\item 'DYNC2H1'\n",
       "\\item 'EPHA6'\n",
       "\\item 'ERBB4'\n",
       "\\item 'EXOC6B'\n",
       "\\item 'EYA4'\n",
       "\\item 'F13B'\n",
       "\\item 'FOXP2'\n",
       "\\item 'FPR2'\n",
       "\\item 'GABRG3'\n",
       "\\item 'GPATCH2'\n",
       "\\item 'GPR158'\n",
       "\\item 'GRID2'\n",
       "\\item 'HAO1'\n",
       "\\item 'ITFG1'\n",
       "\\item 'KATNA1'\n",
       "\\item 'KCNIP1'\n",
       "\\item 'KDR'\n",
       "\\item 'KIAA1217'\n",
       "\\item 'KIF16B'\n",
       "\\item 'KLHL25'\n",
       "\\item 'MCTP2'\n",
       "\\item 'MTMR7'\n",
       "\\item 'NEGR1'\n",
       "\\item 'NEK5'\n",
       "\\item 'NELL1'\n",
       "\\item 'NPAS3'\n",
       "\\item 'NRXN3'\n",
       "\\item 'NTM'\n",
       "\\item 'PARK2'\n",
       "\\item 'PLS3'\n",
       "\\item 'PRKD1'\n",
       "\\item 'PTPRD'\n",
       "\\item 'RBFOX1'\n",
       "\\item 'RGS7'\n",
       "\\item 'RIMS2'\n",
       "\\item 'ROBO2'\n",
       "\\item 'RPL10L'\n",
       "\\item 'S100A7L2'\n",
       "\\item 'SDK1'\n",
       "\\item 'SGCZ'\n",
       "\\item 'SLC35F1'\n",
       "\\item 'SLC44A5'\n",
       "\\item 'SPAG16'\n",
       "\\item 'SPHKAP'\n",
       "\\item 'STXBP5L'\n",
       "\\item 'TRHDE'\n",
       "\\item 'ZFHX4'\n",
       "\\item 'A2BP1'\n",
       "\\item 'DEC1'\n",
       "\\item 'FPRL1'\n",
       "\\item 'HNT'\n",
       "\\item 'SKIP'\n",
       "\\item 'TMED7'\n",
       "\\item 'TMEM16J'\n",
       "\\item 'TMEM56'\n",
       "\\end{enumerate*}\n"
      ],
      "text/markdown": [
       "1. ERBB4\n",
       "2. ROBO2\n",
       "3. ARHGEF12\n",
       "4. PTPRD\n",
       "\n",
       "\n",
       "\n",
       "**Levels**: 1. '1-Dec'\n",
       "2. 'ALS2CR8'\n",
       "3. 'ANKS1B'\n",
       "4. 'ANO9'\n",
       "5. 'ARHGEF12'\n",
       "6. 'BBS7'\n",
       "7. 'CACNA2D3'\n",
       "8. 'CDH12'\n",
       "9. 'CDH20'\n",
       "10. 'CETN3'\n",
       "11. 'CLMN'\n",
       "12. 'COL11A1'\n",
       "13. 'COL9A1'\n",
       "14. 'COX7B2'\n",
       "15. 'CTNNA2'\n",
       "16. 'DBC1'\n",
       "17. 'DYNC2H1'\n",
       "18. 'EPHA6'\n",
       "19. 'ERBB4'\n",
       "20. 'EXOC6B'\n",
       "21. 'EYA4'\n",
       "22. 'F13B'\n",
       "23. 'FOXP2'\n",
       "24. 'FPR2'\n",
       "25. 'GABRG3'\n",
       "26. 'GPATCH2'\n",
       "27. 'GPR158'\n",
       "28. 'GRID2'\n",
       "29. 'HAO1'\n",
       "30. 'ITFG1'\n",
       "31. 'KATNA1'\n",
       "32. 'KCNIP1'\n",
       "33. 'KDR'\n",
       "34. 'KIAA1217'\n",
       "35. 'KIF16B'\n",
       "36. 'KLHL25'\n",
       "37. 'MCTP2'\n",
       "38. 'MTMR7'\n",
       "39. 'NEGR1'\n",
       "40. 'NEK5'\n",
       "41. 'NELL1'\n",
       "42. 'NPAS3'\n",
       "43. 'NRXN3'\n",
       "44. 'NTM'\n",
       "45. 'PARK2'\n",
       "46. 'PLS3'\n",
       "47. 'PRKD1'\n",
       "48. 'PTPRD'\n",
       "49. 'RBFOX1'\n",
       "50. 'RGS7'\n",
       "51. 'RIMS2'\n",
       "52. 'ROBO2'\n",
       "53. 'RPL10L'\n",
       "54. 'S100A7L2'\n",
       "55. 'SDK1'\n",
       "56. 'SGCZ'\n",
       "57. 'SLC35F1'\n",
       "58. 'SLC44A5'\n",
       "59. 'SPAG16'\n",
       "60. 'SPHKAP'\n",
       "61. 'STXBP5L'\n",
       "62. 'TRHDE'\n",
       "63. 'ZFHX4'\n",
       "64. 'A2BP1'\n",
       "65. 'DEC1'\n",
       "66. 'FPRL1'\n",
       "67. 'HNT'\n",
       "68. 'SKIP'\n",
       "69. 'TMED7'\n",
       "70. 'TMEM16J'\n",
       "71. 'TMEM56'\n",
       "\n",
       "\n"
      ],
      "text/plain": [
       "[1] ERBB4    ROBO2    ARHGEF12 PTPRD   \n",
       "71 Levels: 1-Dec ALS2CR8 ANKS1B ANO9 ARHGEF12 BBS7 CACNA2D3 CDH12 ... TMEM56"
      ]
     },
     "metadata": {},
     "output_type": "display_data"
    },
    {
     "data": {
      "text/html": [
       "<ol class=list-inline>\n",
       "\t<li>1</li>\n",
       "\t<li>4</li>\n",
       "\t<li>8</li>\n",
       "\t<li>56</li>\n",
       "</ol>\n"
      ],
      "text/latex": [
       "\\begin{enumerate*}\n",
       "\\item 1\n",
       "\\item 4\n",
       "\\item 8\n",
       "\\item 56\n",
       "\\end{enumerate*}\n"
      ],
      "text/markdown": [
       "1. 1\n",
       "2. 4\n",
       "3. 8\n",
       "4. 56\n",
       "\n",
       "\n"
      ],
      "text/plain": [
       "[1]  1  4  8 56"
      ]
     },
     "metadata": {},
     "output_type": "display_data"
    }
   ],
   "source": [
    "length(which(gene_pdt_tsgs$geneSym %in% lee_genes$geneSym))\n",
    "head(lee_genes[which(lee_genes$geneSym %in% gene_pdt_tsgs$geneSym),])\n",
    "which(gene_pdt_tsgs$geneSym %in% lee_genes$geneSym)"
   ]
  },
  {
   "cell_type": "code",
   "execution_count": 13,
   "metadata": {},
   "outputs": [],
   "source": [
    "# lee_genes[which(!(lee_genes$geneSym %in% gene_pdt$geneSym)),]"
   ]
  },
  {
   "cell_type": "markdown",
   "metadata": {},
   "source": [
    "## Compare with Tubio et al. (2014) gene lists\n",
    "---"
   ]
  },
  {
   "cell_type": "code",
   "execution_count": 39,
   "metadata": {},
   "outputs": [
    {
     "data": {
      "text/html": [
       "1022"
      ],
      "text/latex": [
       "1022"
      ],
      "text/markdown": [
       "1022"
      ],
      "text/plain": [
       "[1] 1022"
      ]
     },
     "metadata": {},
     "output_type": "display_data"
    },
    {
     "data": {
      "text/html": [
       "<table>\n",
       "<thead><tr><th></th><th scope=col>geneSym</th><th scope=col>count</th></tr></thead>\n",
       "<tbody>\n",
       "\t<tr><th scope=row>293</th><td>CTNND2    </td><td>9         </td></tr>\n",
       "\t<tr><th scope=row>230</th><td>CDH18     </td><td>8         </td></tr>\n",
       "\t<tr><th scope=row>320</th><td>DLG2      </td><td>8         </td></tr>\n",
       "\t<tr><th scope=row>360</th><td>EPHA6     </td><td>8         </td></tr>\n",
       "\t<tr><th scope=row>322</th><td>DMD       </td><td>6         </td></tr>\n",
       "\t<tr><th scope=row>62</th><td>AC067959.1</td><td>5         </td></tr>\n",
       "</tbody>\n",
       "</table>\n"
      ],
      "text/latex": [
       "\\begin{tabular}{r|ll}\n",
       "  & geneSym & count\\\\\n",
       "\\hline\n",
       "\t293 & CTNND2     & 9         \\\\\n",
       "\t230 & CDH18      & 8         \\\\\n",
       "\t320 & DLG2       & 8         \\\\\n",
       "\t360 & EPHA6      & 8         \\\\\n",
       "\t322 & DMD        & 6         \\\\\n",
       "\t62 & AC067959.1 & 5         \\\\\n",
       "\\end{tabular}\n"
      ],
      "text/markdown": [
       "\n",
       "| <!--/--> | geneSym | count | \n",
       "|---|---|---|---|---|---|\n",
       "| 293 | CTNND2     | 9          | \n",
       "| 230 | CDH18      | 8          | \n",
       "| 320 | DLG2       | 8          | \n",
       "| 360 | EPHA6      | 8          | \n",
       "| 322 | DMD        | 6          | \n",
       "| 62 | AC067959.1 | 5          | \n",
       "\n",
       "\n"
      ],
      "text/plain": [
       "    geneSym    count\n",
       "293 CTNND2     9    \n",
       "230 CDH18      8    \n",
       "320 DLG2       8    \n",
       "360 EPHA6      8    \n",
       "322 DMD        6    \n",
       "62  AC067959.1 5    "
      ]
     },
     "metadata": {},
     "output_type": "display_data"
    }
   ],
   "source": [
    "tubio_genes <- read.table('~/jackgl/Tubio_TableS3_genes.csv')\n",
    "tubio_genes <- toString(tubio_genes$V1)\n",
    "tubio_genes <- strsplit(tubio_genes,',')[[1]]\n",
    "tubio_genes <- data.frame(geneSym=names(table(tubio_genes)),count=as.vector(table(tubio_genes)))\n",
    "tubio_genes$geneSym <- trimws(as.character(tubio_genes$geneSym))\n",
    "tubio_genes <- tubio_genes[order(-tubio_genes$count),]\n",
    "length(tubio_genes$geneSym)\n",
    "head(tubio_genes)"
   ]
  },
  {
   "cell_type": "markdown",
   "metadata": {},
   "source": [
    "### All genes with insertions reported by Tubio et al. (2014)"
   ]
  },
  {
   "cell_type": "code",
   "execution_count": 60,
   "metadata": {
    "scrolled": false
   },
   "outputs": [
    {
     "name": "stdout",
     "output_type": "stream",
     "text": [
      "Number of genes from Tubio list found in gene annotation:"
     ]
    },
    {
     "data": {
      "text/html": [
       "843"
      ],
      "text/latex": [
       "843"
      ],
      "text/markdown": [
       "843"
      ],
      "text/plain": [
       "[1] 843"
      ]
     },
     "metadata": {},
     "output_type": "display_data"
    },
    {
     "data": {
      "text/html": [
       "<table>\n",
       "<thead><tr><th></th><th scope=col>geneSym</th><th scope=col>count</th><th scope=col>tar</th><th scope=col>len</th><th scope=col>tarrank</th><th scope=col>lenrank</th><th scope=col>tarf</th><th scope=col>tarfrank</th></tr></thead>\n",
       "<tbody>\n",
       "\t<tr><th scope=row>293</th><td>CTNND2      </td><td>9           </td><td>0.0005259034</td><td> 932203     </td><td>115         </td><td> 88         </td><td>0.0005259396</td><td>110         </td></tr>\n",
       "\t<tr><th scope=row>230</th><td>CDH18       </td><td>8           </td><td>0.0007735061</td><td>1102922     </td><td> 44         </td><td> 64         </td><td>0.0007584198</td><td> 46         </td></tr>\n",
       "\t<tr><th scope=row>320</th><td>DLG2        </td><td>8           </td><td>0.0013705797</td><td>2172910     </td><td>  4         </td><td>  4         </td><td>0.0013561911</td><td>  4         </td></tr>\n",
       "\t<tr><th scope=row>360</th><td>EPHA6       </td><td>8           </td><td>0.0006311887</td><td> 937879     </td><td> 66         </td><td> 87         </td><td>0.0006210168</td><td> 66         </td></tr>\n",
       "\t<tr><th scope=row>322</th><td>DMD         </td><td>6           </td><td>0.0014518138</td><td>2241764     </td><td>  3         </td><td>  3         </td><td>0.0014331888</td><td>  3         </td></tr>\n",
       "\t<tr><th scope=row>62</th><td>AC067959.1  </td><td>5           </td><td>0.0004352770</td><td> 749784     </td><td>172         </td><td>152         </td><td>0.0004340776</td><td>169         </td></tr>\n",
       "</tbody>\n",
       "</table>\n"
      ],
      "text/latex": [
       "\\begin{tabular}{r|llllllll}\n",
       "  & geneSym & count & tar & len & tarrank & lenrank & tarf & tarfrank\\\\\n",
       "\\hline\n",
       "\t293 & CTNND2       & 9            & 0.0005259034 &  932203      & 115          &  88          & 0.0005259396 & 110         \\\\\n",
       "\t230 & CDH18        & 8            & 0.0007735061 & 1102922      &  44          &  64          & 0.0007584198 &  46         \\\\\n",
       "\t320 & DLG2         & 8            & 0.0013705797 & 2172910      &   4          &   4          & 0.0013561911 &   4         \\\\\n",
       "\t360 & EPHA6        & 8            & 0.0006311887 &  937879      &  66          &  87          & 0.0006210168 &  66         \\\\\n",
       "\t322 & DMD          & 6            & 0.0014518138 & 2241764      &   3          &   3          & 0.0014331888 &   3         \\\\\n",
       "\t62 & AC067959.1   & 5            & 0.0004352770 &  749784      & 172          & 152          & 0.0004340776 & 169         \\\\\n",
       "\\end{tabular}\n"
      ],
      "text/markdown": [
       "\n",
       "| <!--/--> | geneSym | count | tar | len | tarrank | lenrank | tarf | tarfrank | \n",
       "|---|---|---|---|---|---|\n",
       "| 293 | CTNND2       | 9            | 0.0005259034 |  932203      | 115          |  88          | 0.0005259396 | 110          | \n",
       "| 230 | CDH18        | 8            | 0.0007735061 | 1102922      |  44          |  64          | 0.0007584198 |  46          | \n",
       "| 320 | DLG2         | 8            | 0.0013705797 | 2172910      |   4          |   4          | 0.0013561911 |   4          | \n",
       "| 360 | EPHA6        | 8            | 0.0006311887 |  937879      |  66          |  87          | 0.0006210168 |  66          | \n",
       "| 322 | DMD          | 6            | 0.0014518138 | 2241764      |   3          |   3          | 0.0014331888 |   3          | \n",
       "| 62 | AC067959.1   | 5            | 0.0004352770 |  749784      | 172          | 152          | 0.0004340776 | 169          | \n",
       "\n",
       "\n"
      ],
      "text/plain": [
       "    geneSym    count tar          len     tarrank lenrank tarf         tarfrank\n",
       "293 CTNND2     9     0.0005259034  932203 115      88     0.0005259396 110     \n",
       "230 CDH18      8     0.0007735061 1102922  44      64     0.0007584198  46     \n",
       "320 DLG2       8     0.0013705797 2172910   4       4     0.0013561911   4     \n",
       "360 EPHA6      8     0.0006311887  937879  66      87     0.0006210168  66     \n",
       "322 DMD        6     0.0014518138 2241764   3       3     0.0014331888   3     \n",
       "62  AC067959.1 5     0.0004352770  749784 172     152     0.0004340776 169     "
      ]
     },
     "metadata": {},
     "output_type": "display_data"
    },
    {
     "name": "stderr",
     "output_type": "stream",
     "text": [
      "Warning message in xy.coords(x, y, xlabel, ylabel, log):\n",
      "\"49 y values <= 0 omitted from logarithmic plot\""
     ]
    },
    {
     "name": "stdout",
     "output_type": "stream",
     "text": [
      "Correlation between log(counts) and log(length rank)"
     ]
    },
    {
     "data": {
      "text/html": [
       "<table>\n",
       "<tbody>\n",
       "\t<tr><td> 1.0000000</td><td>-0.7998553</td></tr>\n",
       "\t<tr><td>-0.7998553</td><td> 1.0000000</td></tr>\n",
       "</tbody>\n",
       "</table>\n"
      ],
      "text/latex": [
       "\\begin{tabular}{ll}\n",
       "\t  1.0000000 & -0.7998553\\\\\n",
       "\t -0.7998553 &  1.0000000\\\\\n",
       "\\end{tabular}\n"
      ],
      "text/markdown": [
       "\n",
       "|  1.0000000 | -0.7998553 | \n",
       "| -0.7998553 |  1.0000000 | \n",
       "\n",
       "\n"
      ],
      "text/plain": [
       "     [,1]       [,2]      \n",
       "[1,]  1.0000000 -0.7998553\n",
       "[2,] -0.7998553  1.0000000"
      ]
     },
     "metadata": {},
     "output_type": "display_data"
    },
    {
     "name": "stdout",
     "output_type": "stream",
     "text": [
      "Correlation between log(counts) and log(target size rank)"
     ]
    },
    {
     "data": {
      "text/html": [
       "<table>\n",
       "<tbody>\n",
       "\t<tr><td> 1.0000000</td><td>-0.8036678</td></tr>\n",
       "\t<tr><td>-0.8036678</td><td> 1.0000000</td></tr>\n",
       "</tbody>\n",
       "</table>\n"
      ],
      "text/latex": [
       "\\begin{tabular}{ll}\n",
       "\t  1.0000000 & -0.8036678\\\\\n",
       "\t -0.8036678 &  1.0000000\\\\\n",
       "\\end{tabular}\n"
      ],
      "text/markdown": [
       "\n",
       "|  1.0000000 | -0.8036678 | \n",
       "| -0.8036678 |  1.0000000 | \n",
       "\n",
       "\n"
      ],
      "text/plain": [
       "     [,1]       [,2]      \n",
       "[1,]  1.0000000 -0.8036678\n",
       "[2,] -0.8036678  1.0000000"
      ]
     },
     "metadata": {},
     "output_type": "display_data"
    },
    {
     "data": {
      "image/png": "[encoded data removed]",
      "text/plain": [
       "plot without title"
      ]
     },
     "metadata": {},
     "output_type": "display_data"
    }
   ],
   "source": [
    "cat('Number of genes from Tubio list found in gene annotation:')\n",
    "length(which(tubio_genes$geneSym %in% gene_pdt$geneSym))\n",
    "\n",
    "tmp <- tubio_genes\n",
    "tmp$tar <- NA\n",
    "tmp$len <- NA\n",
    "gene_pdt <- gene_pdt[order(-gene_pdt$tar),]\n",
    "for (i in which(tubio_genes$geneSym %in% gene_pdt$geneSym)) {\n",
    "    tmp$tar[i] <- gene_pdt$tar[gene_pdt$geneSym==tubio_genes$geneSym[i]]\n",
    "    tmp$tarrank[i] <- which(gene_pdt$geneSym==tubio_genes$geneSym[i])\n",
    "}\n",
    "gene_pdt <- gene_pdt[order(-gene_pdt$len),]\n",
    "for (i in which(tubio_genes$geneSym %in% gene_pdt$geneSym)) {\n",
    "    tmp$len[i] <- gene_pdt$len[gene_pdt$geneSym==tubio_genes$geneSym[i]]\n",
    "    tmp$lenrank[i] <- which(gene_pdt$geneSym==tubio_genes$geneSym[i])\n",
    "}\n",
    "gene_pdt$tarf <- (0.9*gene_pdt$tar)+(0.1*(gene_pdt$len/sum(gene_pdt$len)))\n",
    "gene_pdt <- gene_pdt[order(-gene_pdt$tarf),]\n",
    "for (i in which(tubio_genes$geneSym %in% gene_pdt$geneSym)) {\n",
    "    tmp$tarf[i] <- gene_pdt$tarf[gene_pdt$geneSym==tubio_genes$geneSym[i]]\n",
    "    tmp$tarfrank[i] <- which(gene_pdt$geneSym==tubio_genes$geneSym[i])\n",
    "}\n",
    "\n",
    "tmp <- tmp[!is.na(tmp$tar),]\n",
    "tmp <- tmp[!is.na(tmp$len),]\n",
    "\n",
    "head(tmp)\n",
    "\n",
    "# hist(rep(tmp$tarrank,tmp$count),50,col='black',xlab='Gene Rank (by L1 target size)',ylab='Insertion Frequency',main='')\n",
    "# hist(rep(tmp$lenrank,tmp$count),50,col='black',xlab='Gene Rank (by length)',ylab='Insertion Frequency',main='')\n",
    "\n",
    "tmp2 <- hist(rep(tmp$lenrank,tmp$count),100,plot=FALSE)\n",
    "tmp3 <- hist(rep(tmp$tarfrank,tmp$count),100,plot=FALSE)\n",
    "plot(tmp2$mids,tmp2$counts,xlab='Rank (Log-scaled)',ylab='Insertion Frequency (Log-scaled)',log='xy')\n",
    "points(tmp3$mids,tmp3$counts,col='blue',)\n",
    "grid()\n",
    "legend('topright',legend=c(\"Gene Length\",\"Gene Target Size\"),pch=1,col=c('black','blue'),inset=0.05)\n",
    "\n",
    "cat('Correlation between log(counts) and log(length rank)')\n",
    "cor(cbind(log(tmp2$mids),log(tmp2$counts+0.01)),method='pearson')\n",
    "cat('Correlation between log(counts) and log(target size rank)')\n",
    "cor(cbind(log(tmp3$mids),log(tmp3$counts+0.01)),method='pearson')"
   ]
  },
  {
   "cell_type": "markdown",
   "metadata": {},
   "source": [
    "### Cancer Gene Census TSGs with insertions reported by Tubio et al. (2014)"
   ]
  },
  {
   "cell_type": "code",
   "execution_count": 57,
   "metadata": {
    "scrolled": false
   },
   "outputs": [
    {
     "data": {
      "text/html": [
       "21"
      ],
      "text/latex": [
       "21"
      ],
      "text/markdown": [
       "21"
      ],
      "text/plain": [
       "[1] 21"
      ]
     },
     "metadata": {},
     "output_type": "display_data"
    },
    {
     "data": {
      "text/html": [
       "<table>\n",
       "<thead><tr><th></th><th scope=col>geneSym</th><th scope=col>count</th><th scope=col>tar</th><th scope=col>len</th><th scope=col>tarrank</th><th scope=col>lenrank</th><th scope=col>tarf</th><th scope=col>tarfrank</th></tr></thead>\n",
       "<tbody>\n",
       "\t<tr><th scope=row>254</th><td>CNTNAP2     </td><td>5           </td><td>0.0014701822</td><td>2304996     </td><td>2           </td><td>1           </td><td>0.006249191 </td><td>2           </td></tr>\n",
       "\t<tr><th scope=row>666</th><td>PTPRD       </td><td>4           </td><td>0.0015571939</td><td>2298477     </td><td>1           </td><td>2           </td><td>0.006313570 </td><td>1           </td></tr>\n",
       "\t<tr><th scope=row>513</th><td>LRP1B       </td><td>3           </td><td>0.0013241675</td><td>1900278     </td><td>3           </td><td>3           </td><td>0.005252852 </td><td>3           </td></tr>\n",
       "\t<tr><th scope=row>271</th><td>CSMD3       </td><td>2           </td><td>0.0008755485</td><td>1214171     </td><td>7           </td><td>8           </td><td>0.003382809 </td><td>7           </td></tr>\n",
       "\t<tr><th scope=row>361</th><td>ERBB4       </td><td>2           </td><td>0.0008040372</td><td>1163124     </td><td>8           </td><td>9           </td><td>0.003209356 </td><td>8           </td></tr>\n",
       "\t<tr><th scope=row>424</th><td>GPC5        </td><td>2           </td><td>0.0009794739</td><td>1475075     </td><td>5           </td><td>6           </td><td>0.004033922 </td><td>5           </td></tr>\n",
       "</tbody>\n",
       "</table>\n"
      ],
      "text/latex": [
       "\\begin{tabular}{r|llllllll}\n",
       "  & geneSym & count & tar & len & tarrank & lenrank & tarf & tarfrank\\\\\n",
       "\\hline\n",
       "\t254 & CNTNAP2      & 5            & 0.0014701822 & 2304996      & 2            & 1            & 0.006249191  & 2           \\\\\n",
       "\t666 & PTPRD        & 4            & 0.0015571939 & 2298477      & 1            & 2            & 0.006313570  & 1           \\\\\n",
       "\t513 & LRP1B        & 3            & 0.0013241675 & 1900278      & 3            & 3            & 0.005252852  & 3           \\\\\n",
       "\t271 & CSMD3        & 2            & 0.0008755485 & 1214171      & 7            & 8            & 0.003382809  & 7           \\\\\n",
       "\t361 & ERBB4        & 2            & 0.0008040372 & 1163124      & 8            & 9            & 0.003209356  & 8           \\\\\n",
       "\t424 & GPC5         & 2            & 0.0009794739 & 1475075      & 5            & 6            & 0.004033922  & 5           \\\\\n",
       "\\end{tabular}\n"
      ],
      "text/markdown": [
       "\n",
       "| <!--/--> | geneSym | count | tar | len | tarrank | lenrank | tarf | tarfrank | \n",
       "|---|---|---|---|---|---|\n",
       "| 254 | CNTNAP2      | 5            | 0.0014701822 | 2304996      | 2            | 1            | 0.006249191  | 2            | \n",
       "| 666 | PTPRD        | 4            | 0.0015571939 | 2298477      | 1            | 2            | 0.006313570  | 1            | \n",
       "| 513 | LRP1B        | 3            | 0.0013241675 | 1900278      | 3            | 3            | 0.005252852  | 3            | \n",
       "| 271 | CSMD3        | 2            | 0.0008755485 | 1214171      | 7            | 8            | 0.003382809  | 7            | \n",
       "| 361 | ERBB4        | 2            | 0.0008040372 | 1163124      | 8            | 9            | 0.003209356  | 8            | \n",
       "| 424 | GPC5         | 2            | 0.0009794739 | 1475075      | 5            | 6            | 0.004033922  | 5            | \n",
       "\n",
       "\n"
      ],
      "text/plain": [
       "    geneSym count tar          len     tarrank lenrank tarf        tarfrank\n",
       "254 CNTNAP2 5     0.0014701822 2304996 2       1       0.006249191 2       \n",
       "666 PTPRD   4     0.0015571939 2298477 1       2       0.006313570 1       \n",
       "513 LRP1B   3     0.0013241675 1900278 3       3       0.005252852 3       \n",
       "271 CSMD3   2     0.0008755485 1214171 7       8       0.003382809 7       \n",
       "361 ERBB4   2     0.0008040372 1163124 8       9       0.003209356 8       \n",
       "424 GPC5    2     0.0009794739 1475075 5       6       0.004033922 5       "
      ]
     },
     "metadata": {},
     "output_type": "display_data"
    },
    {
     "name": "stderr",
     "output_type": "stream",
     "text": [
      "Warning message in xy.coords(x, y, xlabel, ylabel, log):\n",
      "\"102 y values <= 0 omitted from logarithmic plot\""
     ]
    },
    {
     "name": "stdout",
     "output_type": "stream",
     "text": [
      "Correlation between log(counts) and log(length rank)"
     ]
    },
    {
     "data": {
      "text/html": [
       "<table>\n",
       "<tbody>\n",
       "\t<tr><td> 1.0000000</td><td>-0.7033902</td></tr>\n",
       "\t<tr><td>-0.7033902</td><td> 1.0000000</td></tr>\n",
       "</tbody>\n",
       "</table>\n"
      ],
      "text/latex": [
       "\\begin{tabular}{ll}\n",
       "\t  1.0000000 & -0.7033902\\\\\n",
       "\t -0.7033902 &  1.0000000\\\\\n",
       "\\end{tabular}\n"
      ],
      "text/markdown": [
       "\n",
       "|  1.0000000 | -0.7033902 | \n",
       "| -0.7033902 |  1.0000000 | \n",
       "\n",
       "\n"
      ],
      "text/plain": [
       "     [,1]       [,2]      \n",
       "[1,]  1.0000000 -0.7033902\n",
       "[2,] -0.7033902  1.0000000"
      ]
     },
     "metadata": {},
     "output_type": "display_data"
    },
    {
     "name": "stdout",
     "output_type": "stream",
     "text": [
      "Correlation between log(counts) and log(target size rank)"
     ]
    },
    {
     "data": {
      "text/html": [
       "<table>\n",
       "<tbody>\n",
       "\t<tr><td> 1.0000000</td><td>-0.6994801</td></tr>\n",
       "\t<tr><td>-0.6994801</td><td> 1.0000000</td></tr>\n",
       "</tbody>\n",
       "</table>\n"
      ],
      "text/latex": [
       "\\begin{tabular}{ll}\n",
       "\t  1.0000000 & -0.6994801\\\\\n",
       "\t -0.6994801 &  1.0000000\\\\\n",
       "\\end{tabular}\n"
      ],
      "text/markdown": [
       "\n",
       "|  1.0000000 | -0.6994801 | \n",
       "| -0.6994801 |  1.0000000 | \n",
       "\n",
       "\n"
      ],
      "text/plain": [
       "     [,1]       [,2]      \n",
       "[1,]  1.0000000 -0.6994801\n",
       "[2,] -0.6994801  1.0000000"
      ]
     },
     "metadata": {},
     "output_type": "display_data"
    },
    {
     "data": {
      "image/png": "[encoded data removed]",
      "text/plain": [
       "plot without title"
      ]
     },
     "metadata": {},
     "output_type": "display_data"
    }
   ],
   "source": [
    "length(which(tubio_genes$geneSym %in% gene_pdt_tsgs$geneSym))\n",
    "\n",
    "tmp <- tubio_genes\n",
    "tmp$tar <- NA\n",
    "tmp$len <- NA\n",
    "gene_pdt_tsgs <- gene_pdt_tsgs[order(-gene_pdt_tsgs$tar),]\n",
    "for (i in which(tubio_genes$geneSym %in% gene_pdt_tsgs$geneSym)) {\n",
    "    tmp$tar[i] <- gene_pdt_tsgs$tar[gene_pdt_tsgs$geneSym==tubio_genes$geneSym[i]]\n",
    "    tmp$tarrank[i] <- which(gene_pdt_tsgs$geneSym==tubio_genes$geneSym[i])\n",
    "}\n",
    "gene_pdt_tsgs <- gene_pdt_tsgs[order(-gene_pdt_tsgs$len),]\n",
    "for (i in which(tubio_genes$geneSym %in% gene_pdt_tsgs$geneSym)) {\n",
    "    tmp$len[i] <- gene_pdt_tsgs$len[gene_pdt_tsgs$geneSym==tubio_genes$geneSym[i]]\n",
    "    tmp$lenrank[i] <- which(gene_pdt_tsgs$geneSym==tubio_genes$geneSym[i])\n",
    "}\n",
    "gene_pdt_tsgs$tarf <- (0.9*gene_pdt_tsgs$tar)+(0.1*(gene_pdt_tsgs$len/sum(gene_pdt_tsgs$len)))\n",
    "gene_pdt_tsgs <- gene_pdt_tsgs[order(-gene_pdt_tsgs$tarf),]\n",
    "for (i in which(tubio_genes$geneSym %in% gene_pdt_tsgs$geneSym)) {\n",
    "    tmp$tarf[i] <- gene_pdt_tsgs$tarf[gene_pdt_tsgs$geneSym==tubio_genes$geneSym[i]]\n",
    "    tmp$tarfrank[i] <- which(gene_pdt_tsgs$geneSym==tubio_genes$geneSym[i])\n",
    "}\n",
    "\n",
    "tmp <- tmp[!is.na(tmp$tar),]\n",
    "tmp <- tmp[!is.na(tmp$len),]\n",
    "\n",
    "head(tmp)\n",
    "\n",
    "# hist(rep(tmp$tarrank,tmp$count),50,col='black',xlab='Gene Rank (by L1 target size)',ylab='Insertion Frequency',main='')\n",
    "# hist(rep(tmp$lenrank,tmp$count),50,col='black',xlab='Gene Rank (by length)',ylab='Insertion Frequency',main='')\n",
    "\n",
    "tmp2 <- hist(rep(tmp$lenrank,tmp$count),100,plot=FALSE)\n",
    "tmp3 <- hist(rep(tmp$tarfrank,tmp$count),100,plot=FALSE)\n",
    "plot(tmp2$mids,tmp2$counts,xlab='Rank (Log-scaled)',ylab='Insertion Frequency (Log-scaled)',log='xy')\n",
    "points(tmp3$mids,tmp3$counts,col='blue',)\n",
    "legend('topright',legend=c(\"Gene Length\",\"Gene Target Size\"),pch=1,col=c('black','blue'),inset=0.05)\n",
    "\n",
    "cat('Correlation between log(counts) and log(length rank)')\n",
    "cor(cbind(log(tmp2$mids),log(tmp2$counts+0.01)),method='pearson')\n",
    "cat('Correlation between log(counts) and log(target size rank)')\n",
    "cor(cbind(log(tmp3$mids),log(tmp3$counts+0.01)),method='pearson')"
   ]
  }
 ],
 "metadata": {
  "kernelspec": {
   "display_name": "R",
   "language": "R",
   "name": "ir"
  },
  "language_info": {
   "codemirror_mode": "r",
   "file_extension": ".r",
   "mimetype": "text/x-r-source",
   "name": "R",
   "pygments_lexer": "r",
   "version": "3.5.1"
  }
 },
 "nbformat": 4,
 "nbformat_minor": 2
}
