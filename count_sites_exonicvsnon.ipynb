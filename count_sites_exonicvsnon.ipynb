{
 "cells": [
  {
   "cell_type": "code",
   "execution_count": 1,
   "metadata": {},
   "outputs": [
    {
     "name": "stderr",
     "output_type": "stream",
     "text": [
      "Loading required package: BSgenome\n",
      "Loading required package: BiocGenerics\n",
      "Loading required package: parallel\n",
      "\n",
      "Attaching package: ‘BiocGenerics’\n",
      "\n",
      "The following objects are masked from ‘package:parallel’:\n",
      "\n",
      "    clusterApply, clusterApplyLB, clusterCall, clusterEvalQ,\n",
      "    clusterExport, clusterMap, parApply, parCapply, parLapply,\n",
      "    parLapplyLB, parRapply, parSapply, parSapplyLB\n",
      "\n",
      "The following objects are masked from ‘package:stats’:\n",
      "\n",
      "    IQR, mad, sd, var, xtabs\n",
      "\n",
      "The following objects are masked from ‘package:base’:\n",
      "\n",
      "    anyDuplicated, append, as.data.frame, basename, cbind, colMeans,\n",
      "    colnames, colSums, dirname, do.call, duplicated, eval, evalq,\n",
      "    Filter, Find, get, grep, grepl, intersect, is.unsorted, lapply,\n",
      "    lengths, Map, mapply, match, mget, order, paste, pmax, pmax.int,\n",
      "    pmin, pmin.int, Position, rank, rbind, Reduce, rowMeans, rownames,\n",
      "    rowSums, sapply, setdiff, sort, table, tapply, union, unique,\n",
      "    unsplit, which, which.max, which.min\n",
      "\n",
      "Loading required package: S4Vectors\n",
      "Loading required package: stats4\n",
      "\n",
      "Attaching package: ‘S4Vectors’\n",
      "\n",
      "The following object is masked from ‘package:base’:\n",
      "\n",
      "    expand.grid\n",
      "\n",
      "Loading required package: IRanges\n",
      "Loading required package: GenomeInfoDb\n",
      "Loading required package: GenomicRanges\n",
      "Loading required package: Biostrings\n",
      "Loading required package: XVector\n",
      "\n",
      "Attaching package: ‘Biostrings’\n",
      "\n",
      "The following object is masked from ‘package:base’:\n",
      "\n",
      "    strsplit\n",
      "\n",
      "Loading required package: rtracklayer\n",
      "\n",
      "Attaching package: ‘data.table’\n",
      "\n",
      "The following object is masked from ‘package:GenomicRanges’:\n",
      "\n",
      "    shift\n",
      "\n",
      "The following object is masked from ‘package:IRanges’:\n",
      "\n",
      "    shift\n",
      "\n",
      "The following objects are masked from ‘package:S4Vectors’:\n",
      "\n",
      "    first, second\n",
      "\n"
     ]
    }
   ],
   "source": [
    "library(BSgenome.Hsapiens.UCSC.hg38)\n",
    "library(data.table)\n",
    "for (i in names(Hsapiens)[1:24]){ # load all chromosome map files\n",
    "        load(paste0('../sim-develop/data/root_maps/',i,'.rda'))\n",
    "}\n",
    "load('../sim-develop/data/exann.rda')"
   ]
  },
  {
   "cell_type": "code",
   "execution_count": 2,
   "metadata": {},
   "outputs": [
    {
     "data": {
      "text/html": [
       "<table>\n",
       "<thead><tr><th scope=col>chrom</th><th scope=col>start</th><th scope=col>end</th><th scope=col>geneSym</th></tr></thead>\n",
       "<tbody>\n",
       "\t<tr><td>1      </td><td>11869  </td><td>12227  </td><td>DDX11L1</td></tr>\n",
       "\t<tr><td>1      </td><td>12010  </td><td>12057  </td><td>DDX11L1</td></tr>\n",
       "\t<tr><td>1      </td><td>12179  </td><td>12227  </td><td>DDX11L1</td></tr>\n",
       "\t<tr><td>1      </td><td>12613  </td><td>12721  </td><td>DDX11L1</td></tr>\n",
       "\t<tr><td>1      </td><td>12613  </td><td>12697  </td><td>DDX11L1</td></tr>\n",
       "\t<tr><td>1      </td><td>12975  </td><td>13052  </td><td>DDX11L1</td></tr>\n",
       "</tbody>\n",
       "</table>\n"
      ],
      "text/latex": [
       "\\begin{tabular}{r|llll}\n",
       " chrom & start & end & geneSym\\\\\n",
       "\\hline\n",
       "\t 1       & 11869   & 12227   & DDX11L1\\\\\n",
       "\t 1       & 12010   & 12057   & DDX11L1\\\\\n",
       "\t 1       & 12179   & 12227   & DDX11L1\\\\\n",
       "\t 1       & 12613   & 12721   & DDX11L1\\\\\n",
       "\t 1       & 12613   & 12697   & DDX11L1\\\\\n",
       "\t 1       & 12975   & 13052   & DDX11L1\\\\\n",
       "\\end{tabular}\n"
      ],
      "text/markdown": [
       "\n",
       "chrom | start | end | geneSym | \n",
       "|---|---|---|---|---|---|\n",
       "| 1       | 11869   | 12227   | DDX11L1 | \n",
       "| 1       | 12010   | 12057   | DDX11L1 | \n",
       "| 1       | 12179   | 12227   | DDX11L1 | \n",
       "| 1       | 12613   | 12721   | DDX11L1 | \n",
       "| 1       | 12613   | 12697   | DDX11L1 | \n",
       "| 1       | 12975   | 13052   | DDX11L1 | \n",
       "\n",
       "\n"
      ],
      "text/plain": [
       "  chrom start end   geneSym\n",
       "1 1     11869 12227 DDX11L1\n",
       "2 1     12010 12057 DDX11L1\n",
       "3 1     12179 12227 DDX11L1\n",
       "4 1     12613 12721 DDX11L1\n",
       "5 1     12613 12697 DDX11L1\n",
       "6 1     12975 13052 DDX11L1"
      ]
     },
     "metadata": {},
     "output_type": "display_data"
    }
   ],
   "source": [
    "head(exann)"
   ]
  },
  {
   "cell_type": "code",
   "execution_count": 3,
   "metadata": {},
   "outputs": [
    {
     "data": {
      "text/html": [
       "<table>\n",
       "<thead><tr><th scope=col>chrom</th><th scope=col>start</th><th scope=col>end</th></tr></thead>\n",
       "<tbody>\n",
       "\t<tr><td>1    </td><td>11869</td><td>12227</td></tr>\n",
       "\t<tr><td>1    </td><td>12613</td><td>12721</td></tr>\n",
       "\t<tr><td>1    </td><td>12975</td><td>13052</td></tr>\n",
       "\t<tr><td>1    </td><td>13221</td><td>14501</td></tr>\n",
       "\t<tr><td>1    </td><td>15005</td><td>15038</td></tr>\n",
       "\t<tr><td>1    </td><td>15796</td><td>15947</td></tr>\n",
       "</tbody>\n",
       "</table>\n"
      ],
      "text/latex": [
       "\\begin{tabular}{r|lll}\n",
       " chrom & start & end\\\\\n",
       "\\hline\n",
       "\t 1     & 11869 & 12227\\\\\n",
       "\t 1     & 12613 & 12721\\\\\n",
       "\t 1     & 12975 & 13052\\\\\n",
       "\t 1     & 13221 & 14501\\\\\n",
       "\t 1     & 15005 & 15038\\\\\n",
       "\t 1     & 15796 & 15947\\\\\n",
       "\\end{tabular}\n"
      ],
      "text/markdown": [
       "\n",
       "chrom | start | end | \n",
       "|---|---|---|---|---|---|\n",
       "| 1     | 11869 | 12227 | \n",
       "| 1     | 12613 | 12721 | \n",
       "| 1     | 12975 | 13052 | \n",
       "| 1     | 13221 | 14501 | \n",
       "| 1     | 15005 | 15038 | \n",
       "| 1     | 15796 | 15947 | \n",
       "\n",
       "\n"
      ],
      "text/plain": [
       "  chrom start end  \n",
       "1 1     11869 12227\n",
       "2 1     12613 12721\n",
       "3 1     12975 13052\n",
       "4 1     13221 14501\n",
       "5 1     15005 15038\n",
       "6 1     15796 15947"
      ]
     },
     "metadata": {},
     "output_type": "display_data"
    }
   ],
   "source": [
    "# Take the union of overlapping exonic ranges, and omit parent gene data\n",
    "exann <- GRanges(exann$chrom,IRanges(exann$start,exann$end))\n",
    "exann <- reduce(exann)\n",
    "exann <- data.table(chrom=as.vector(seqnames(exann)),start=start(exann),end=end(exann))\n",
    "head(exann)"
   ]
  },
  {
   "cell_type": "markdown",
   "metadata": {},
   "source": [
    "#### In the cell below, we count the number of L1 target sites of each Snap-Velcro type in exons and non-exonic regions"
   ]
  },
  {
   "cell_type": "code",
   "execution_count": 4,
   "metadata": {},
   "outputs": [],
   "source": [
    "counts <-  array(0,dim=c(24,8)) # Allocate matrix for counts\n",
    "exon_lens <- rep(0,24)\n",
    "\n",
    "#--- Loop through chromosome names\n",
    "j<-1 # chromosome counter\n",
    "for (i in names(Hsapiens)[1:24]){\n",
    "\n",
    "\n",
    "        # Data objects containing indices of S-V sites for each category are labeled with the chromosome name.\n",
    "        # Here we copy the data objects to a set of variables with generic names which can be used consistently \n",
    "        # in the loop. \n",
    "        map<-get(paste0(i,'Map')) # Get the site map data for the current chrom\n",
    "        ict<-    map[[2]]\n",
    "        icl<-    map[[3]]\n",
    "        iot<-    map[[4]]\n",
    "        iol<-    map[[5]]\n",
    "        insites<-map[[1]] \n",
    "    \n",
    "        i <- strsplit(i,\"chr\")[[1]][2] # Remove \"chr\" from chromosome name\n",
    "\n",
    "################################################\n",
    "        # count in exons for current chromosome (columns 1-4)\n",
    "        ann_i <- exann[exann$chrom == i,] \n",
    "    \n",
    "        sen        <-inrange(insites[ict[!is.na(ict[,1]),1],1],ann_i$start,ann_i$end) # Check if any Closed-Tight category sites are within the start-end range of ann_i\n",
    "        antisen    <-inrange(insites[ict[!is.na(ict[,2]),2],2],ann_i$start,ann_i$end) \n",
    "        counts[j,1]<-length(which(sen)) + length(which(antisen))                      # Fill an element of the counts table with the count\n",
    "        \n",
    "        sen        <-inrange(insites[icl[!is.na(icl[,1]),1],1],ann_i$start,ann_i$end) \n",
    "        antisen    <-inrange(insites[icl[!is.na(icl[,2]),2],2],ann_i$start,ann_i$end)\n",
    "        counts[j,2]<-length(which(sen)) + length(which(antisen))\n",
    "        \n",
    "        sen        <-inrange(insites[iot[!is.na(iot[,1]),1],1],ann_i$start,ann_i$end) \n",
    "        antisen    <-inrange(insites[iot[!is.na(iot[,2]),2],2],ann_i$start,ann_i$end)\n",
    "        counts[j,3]<-length(which(sen)) + length(which(antisen))\n",
    "        \n",
    "        sen        <-inrange(insites[iol[!is.na(iol[,1]),1],1],ann_i$start,ann_i$end) \n",
    "        antisen    <-inrange(insites[iol[!is.na(iol[,2]),2],2],ann_i$start,ann_i$end)\n",
    "        counts[j,4]<-length(which(sen)) + length(which(antisen))  \n",
    "    \n",
    "################################################\n",
    "        # count in non-exons for current chromosome (columns 5-8)\n",
    "        \n",
    "        counts[j,5]   <- length(which(!is.na(as.vector(ict)))) - counts[j,1]\n",
    "        counts[j,6]  <- length(which(!is.na(as.vector(icl)))) - counts[j,2]\n",
    "        counts[j,7]  <- length(which(!is.na(as.vector(iot)))) - counts[j,3]\n",
    "        counts[j,8]  <- length(which(!is.na(as.vector(iol)))) - counts[j,4]\n",
    "    \n",
    "        exon_lens[j] <- sum(ann_i$end-ann_i$start)\n",
    "    \n",
    "        j<-j+1\n",
    "        rm('sen','antisen')\n",
    "}"
   ]
  },
  {
   "cell_type": "code",
   "execution_count": 5,
   "metadata": {},
   "outputs": [],
   "source": [
    "colnames(counts) <- c('ct_exon','cl_exon','ot_exon','ol_exon','ct_nonexon','cl_nonexon','ot_nonexon','ol_nonexon')\n",
    "rownames(counts) <- names(Hsapiens)[1:24]\n",
    "# counts"
   ]
  },
  {
   "cell_type": "markdown",
   "metadata": {},
   "source": [
    "Here we account for male and female diploid genomes"
   ]
  },
  {
   "cell_type": "markdown",
   "metadata": {},
   "source": [
    "#### Male"
   ]
  },
  {
   "cell_type": "code",
   "execution_count": 6,
   "metadata": {},
   "outputs": [],
   "source": [
    "# Male genome - double the count for chromosomes 1:22\n",
    "counts_dipl_m <- counts\n",
    "counts_dipl_m[1:22,]<-counts_dipl_m[1:22,]*2\n",
    "# counts_dipl_m"
   ]
  },
  {
   "cell_type": "markdown",
   "metadata": {},
   "source": [
    "#### Female"
   ]
  },
  {
   "cell_type": "code",
   "execution_count": 7,
   "metadata": {},
   "outputs": [],
   "source": [
    "# Female genome - double the counts for chroms. 1:23; count for chrom. Y is set to 0\n",
    "counts_dipl_f <- counts\n",
    "counts_dipl_f[1:23,]<-counts_dipl_f[1:23,]*2\n",
    "counts_dipl_f[24,]<-counts_dipl_f[24,]*0\n",
    "# counts_dipl_f"
   ]
  },
  {
   "cell_type": "markdown",
   "metadata": {},
   "source": [
    "## Calculating probabilities of ENd (endonuclease-dependent) exonic vs non-exonic insertion"
   ]
  },
  {
   "cell_type": "markdown",
   "metadata": {},
   "source": [
    "#### Male"
   ]
  },
  {
   "cell_type": "code",
   "execution_count": 8,
   "metadata": {},
   "outputs": [
    {
     "data": {
      "text/html": [
       "<ol class=list-inline>\n",
       "\t<li>0.0307366804208911</li>\n",
       "\t<li>0.969263319579109</li>\n",
       "</ol>\n"
      ],
      "text/latex": [
       "\\begin{enumerate*}\n",
       "\\item 0.0307366804208911\n",
       "\\item 0.969263319579109\n",
       "\\end{enumerate*}\n"
      ],
      "text/markdown": [
       "1. 0.0307366804208911\n",
       "2. 0.969263319579109\n",
       "\n",
       "\n"
      ],
      "text/plain": [
       "[1] 0.03073668 0.96926332"
      ]
     },
     "metadata": {},
     "output_type": "display_data"
    }
   ],
   "source": [
    "counts_ovchr_m <- colSums(counts_dipl_m)\n",
    "probs_ENd_m <- rep(0,2)\n",
    "for (i in 1:2){\n",
    "    probs_ENd_m[i] = 7.46*counts_ovchr_m[(i-1)*4+1] + \n",
    "                   3.48*counts_ovchr_m[(i-1)*4+2] + \n",
    "                   2.05*counts_ovchr_m[(i-1)*4+3] + \n",
    "                   1.00*counts_ovchr_m[(i-1)*4+4]\n",
    "}\n",
    "probs_ENd_m <- probs_ENd_m/sum(probs_ENd_m)\n",
    "probs_ENd_m"
   ]
  },
  {
   "cell_type": "markdown",
   "metadata": {},
   "source": [
    "#### Female"
   ]
  },
  {
   "cell_type": "code",
   "execution_count": 9,
   "metadata": {},
   "outputs": [
    {
     "data": {
      "text/html": [
       "<ol class=list-inline>\n",
       "\t<li>0.0304902929369582</li>\n",
       "\t<li>0.969509707063042</li>\n",
       "</ol>\n"
      ],
      "text/latex": [
       "\\begin{enumerate*}\n",
       "\\item 0.0304902929369582\n",
       "\\item 0.969509707063042\n",
       "\\end{enumerate*}\n"
      ],
      "text/markdown": [
       "1. 0.0304902929369582\n",
       "2. 0.969509707063042\n",
       "\n",
       "\n"
      ],
      "text/plain": [
       "[1] 0.03049029 0.96950971"
      ]
     },
     "metadata": {},
     "output_type": "display_data"
    }
   ],
   "source": [
    "counts_ovchr_f <- colSums(counts_dipl_f)\n",
    "probs_ENd_f <- rep(0,2)\n",
    "for (i in 1:2){\n",
    "    probs_ENd_f[i] = 7.46*counts_ovchr_f[(i-1)*4+1] + \n",
    "                   3.48*counts_ovchr_f[(i-1)*4+2] + \n",
    "                   2.05*counts_ovchr_f[(i-1)*4+3] + \n",
    "                   1.00*counts_ovchr_f[(i-1)*4+4]\n",
    "}\n",
    "probs_ENd_f <- probs_ENd_f/sum(probs_ENd_f)\n",
    "probs_ENd_f"
   ]
  },
  {
   "cell_type": "markdown",
   "metadata": {},
   "source": [
    "## Calculating probabilities of ENi (endonuclease-independent) exonic vs non-exonic insertion"
   ]
  },
  {
   "cell_type": "code",
   "execution_count": 10,
   "metadata": {},
   "outputs": [
    {
     "data": {
      "text/html": [
       "3088269832"
      ],
      "text/latex": [
       "3088269832"
      ],
      "text/markdown": [
       "3088269832"
      ],
      "text/plain": [
       "[1] 3088269832"
      ]
     },
     "metadata": {},
     "output_type": "display_data"
    }
   ],
   "source": [
    "chrlens <- rep(0,24)\n",
    "for (i in 1:24){\n",
    "    chrlens[i] <- length(Hsapiens[[i]])\n",
    "}\n",
    "sum(chrlens)"
   ]
  },
  {
   "cell_type": "markdown",
   "metadata": {},
   "source": [
    "#### Male"
   ]
  },
  {
   "cell_type": "code",
   "execution_count": 11,
   "metadata": {},
   "outputs": [
    {
     "data": {
      "text/html": [
       "<ol class=list-inline>\n",
       "\t<li>0.0427768060275997</li>\n",
       "\t<li>0.9572231939724</li>\n",
       "</ol>\n"
      ],
      "text/latex": [
       "\\begin{enumerate*}\n",
       "\\item 0.0427768060275997\n",
       "\\item 0.9572231939724\n",
       "\\end{enumerate*}\n"
      ],
      "text/markdown": [
       "1. 0.0427768060275997\n",
       "2. 0.9572231939724\n",
       "\n",
       "\n"
      ],
      "text/plain": [
       "[1] 0.04277681 0.95722319"
      ]
     },
     "metadata": {},
     "output_type": "display_data"
    }
   ],
   "source": [
    "probs_ENi_m <- rep(0,2)\n",
    "probs_ENi_m[1] <- (sum(exon_lens[1:22]*2)+sum(exon_lens[23:24]))/(sum(chrlens[1:22]*2)+sum(chrlens[23:24]))\n",
    "probs_ENi_m[2] <- 1-probs_ENi_m[1]\n",
    "probs_ENi_m"
   ]
  },
  {
   "cell_type": "markdown",
   "metadata": {},
   "source": [
    "#### Female"
   ]
  },
  {
   "cell_type": "code",
   "execution_count": 12,
   "metadata": {},
   "outputs": [
    {
     "data": {
      "text/html": [
       "<ol class=list-inline>\n",
       "\t<li>0.0427195555805381</li>\n",
       "\t<li>0.957280444419462</li>\n",
       "</ol>\n"
      ],
      "text/latex": [
       "\\begin{enumerate*}\n",
       "\\item 0.0427195555805381\n",
       "\\item 0.957280444419462\n",
       "\\end{enumerate*}\n"
      ],
      "text/markdown": [
       "1. 0.0427195555805381\n",
       "2. 0.957280444419462\n",
       "\n",
       "\n"
      ],
      "text/plain": [
       "[1] 0.04271956 0.95728044"
      ]
     },
     "metadata": {},
     "output_type": "display_data"
    }
   ],
   "source": [
    "probs_ENi_f <- rep(0,2)\n",
    "probs_ENi_f[1] <- sum(exon_lens[1:23]*2)/sum(chrlens[1:23]*2)\n",
    "probs_ENi_f[2] <- 1-probs_ENi_f[1]\n",
    "probs_ENi_f"
   ]
  },
  {
   "cell_type": "markdown",
   "metadata": {},
   "source": [
    "## Calculating final probabilities of exonic vs non-exonic insertion"
   ]
  },
  {
   "cell_type": "markdown",
   "metadata": {},
   "source": [
    "#### Male"
   ]
  },
  {
   "cell_type": "code",
   "execution_count": 13,
   "metadata": {},
   "outputs": [
    {
     "data": {
      "text/html": [
       "<ol class=list-inline>\n",
       "\t<li>0.031940692981562</li>\n",
       "\t<li>0.968059307018438</li>\n",
       "</ol>\n"
      ],
      "text/latex": [
       "\\begin{enumerate*}\n",
       "\\item 0.031940692981562\n",
       "\\item 0.968059307018438\n",
       "\\end{enumerate*}\n"
      ],
      "text/markdown": [
       "1. 0.031940692981562\n",
       "2. 0.968059307018438\n",
       "\n",
       "\n"
      ],
      "text/plain": [
       "[1] 0.03194069 0.96805931"
      ]
     },
     "metadata": {},
     "output_type": "display_data"
    }
   ],
   "source": [
    "pd_exvsnon_m <- (.9*probs_ENd_m)+(0.1*probs_ENi_m) # Assuming 0.9 probability that insertion will be ENd and 0.1 for ENi\n",
    "pd_exvsnon_m <- pd_exvsnon_m/sum(pd_exvsnon_m)\n",
    "pd_exvsnon_m"
   ]
  },
  {
   "cell_type": "markdown",
   "metadata": {},
   "source": [
    "#### Female"
   ]
  },
  {
   "cell_type": "code",
   "execution_count": 14,
   "metadata": {},
   "outputs": [
    {
     "data": {
      "text/html": [
       "<ol class=list-inline>\n",
       "\t<li>0.0317132192013162</li>\n",
       "\t<li>0.968286780798684</li>\n",
       "</ol>\n"
      ],
      "text/latex": [
       "\\begin{enumerate*}\n",
       "\\item 0.0317132192013162\n",
       "\\item 0.968286780798684\n",
       "\\end{enumerate*}\n"
      ],
      "text/markdown": [
       "1. 0.0317132192013162\n",
       "2. 0.968286780798684\n",
       "\n",
       "\n"
      ],
      "text/plain": [
       "[1] 0.03171322 0.96828678"
      ]
     },
     "metadata": {},
     "output_type": "display_data"
    }
   ],
   "source": [
    "pd_exvsnon_f <- (.9*probs_ENd_f)+(0.1*probs_ENi_f) # Assuming 0.9 probability that insertion will be ENd and 0.1 for ENi\n",
    "pd_exvsnon_f <- pd_exvsnon_f/sum(pd_exvsnon_f)\n",
    "pd_exvsnon_f"
   ]
  },
  {
   "cell_type": "code",
   "execution_count": 15,
   "metadata": {},
   "outputs": [
    {
     "data": {
      "text/html": [
       "<table>\n",
       "<thead><tr><th scope=col>exon_lens</th><th scope=col>chrlens</th></tr></thead>\n",
       "<tbody>\n",
       "\t<tr><td>12208560 </td><td>248956422</td></tr>\n",
       "\t<tr><td> 9306870 </td><td>242193529</td></tr>\n",
       "\t<tr><td> 7418406 </td><td>198295559</td></tr>\n",
       "\t<tr><td> 5433490 </td><td>190214555</td></tr>\n",
       "\t<tr><td> 6290982 </td><td>181538259</td></tr>\n",
       "\t<tr><td> 6245624 </td><td>170805979</td></tr>\n",
       "\t<tr><td> 6261771 </td><td>159345973</td></tr>\n",
       "\t<tr><td> 4859198 </td><td>145138636</td></tr>\n",
       "\t<tr><td> 4925084 </td><td>138394717</td></tr>\n",
       "\t<tr><td> 4933365 </td><td>133797422</td></tr>\n",
       "\t<tr><td> 7128782 </td><td>135086622</td></tr>\n",
       "\t<tr><td> 7378781 </td><td>133275309</td></tr>\n",
       "\t<tr><td> 2759484 </td><td>114364328</td></tr>\n",
       "\t<tr><td> 4458785 </td><td>107043718</td></tr>\n",
       "\t<tr><td> 5212293 </td><td>101991189</td></tr>\n",
       "\t<tr><td> 5760349 </td><td> 90338345</td></tr>\n",
       "\t<tr><td> 7032018 </td><td> 83257441</td></tr>\n",
       "\t<tr><td> 2641942 </td><td> 80373285</td></tr>\n",
       "\t<tr><td> 6868634 </td><td> 58617616</td></tr>\n",
       "\t<tr><td> 2925996 </td><td> 64444167</td></tr>\n",
       "\t<tr><td> 1668214 </td><td> 46709983</td></tr>\n",
       "\t<tr><td> 3324814 </td><td> 50818468</td></tr>\n",
       "\t<tr><td> 4441343 </td><td>156040895</td></tr>\n",
       "\t<tr><td>  561475 </td><td> 57227415</td></tr>\n",
       "</tbody>\n",
       "</table>\n"
      ],
      "text/latex": [
       "\\begin{tabular}{ll}\n",
       " exon\\_lens & chrlens\\\\\n",
       "\\hline\n",
       "\t 12208560  & 248956422\\\\\n",
       "\t  9306870  & 242193529\\\\\n",
       "\t  7418406  & 198295559\\\\\n",
       "\t  5433490  & 190214555\\\\\n",
       "\t  6290982  & 181538259\\\\\n",
       "\t  6245624  & 170805979\\\\\n",
       "\t  6261771  & 159345973\\\\\n",
       "\t  4859198  & 145138636\\\\\n",
       "\t  4925084  & 138394717\\\\\n",
       "\t  4933365  & 133797422\\\\\n",
       "\t  7128782  & 135086622\\\\\n",
       "\t  7378781  & 133275309\\\\\n",
       "\t  2759484  & 114364328\\\\\n",
       "\t  4458785  & 107043718\\\\\n",
       "\t  5212293  & 101991189\\\\\n",
       "\t  5760349  &  90338345\\\\\n",
       "\t  7032018  &  83257441\\\\\n",
       "\t  2641942  &  80373285\\\\\n",
       "\t  6868634  &  58617616\\\\\n",
       "\t  2925996  &  64444167\\\\\n",
       "\t  1668214  &  46709983\\\\\n",
       "\t  3324814  &  50818468\\\\\n",
       "\t  4441343  & 156040895\\\\\n",
       "\t   561475  &  57227415\\\\\n",
       "\\end{tabular}\n"
      ],
      "text/markdown": [
       "\n",
       "exon_lens | chrlens | \n",
       "|---|---|---|---|---|---|---|---|---|---|---|---|---|---|---|---|---|---|---|---|---|---|---|---|\n",
       "| 12208560  | 248956422 | \n",
       "|  9306870  | 242193529 | \n",
       "|  7418406  | 198295559 | \n",
       "|  5433490  | 190214555 | \n",
       "|  6290982  | 181538259 | \n",
       "|  6245624  | 170805979 | \n",
       "|  6261771  | 159345973 | \n",
       "|  4859198  | 145138636 | \n",
       "|  4925084  | 138394717 | \n",
       "|  4933365  | 133797422 | \n",
       "|  7128782  | 135086622 | \n",
       "|  7378781  | 133275309 | \n",
       "|  2759484  | 114364328 | \n",
       "|  4458785  | 107043718 | \n",
       "|  5212293  | 101991189 | \n",
       "|  5760349  |  90338345 | \n",
       "|  7032018  |  83257441 | \n",
       "|  2641942  |  80373285 | \n",
       "|  6868634  |  58617616 | \n",
       "|  2925996  |  64444167 | \n",
       "|  1668214  |  46709983 | \n",
       "|  3324814  |  50818468 | \n",
       "|  4441343  | 156040895 | \n",
       "|   561475  |  57227415 | \n",
       "\n",
       "\n"
      ],
      "text/plain": [
       "      exon_lens chrlens  \n",
       " [1,] 12208560  248956422\n",
       " [2,]  9306870  242193529\n",
       " [3,]  7418406  198295559\n",
       " [4,]  5433490  190214555\n",
       " [5,]  6290982  181538259\n",
       " [6,]  6245624  170805979\n",
       " [7,]  6261771  159345973\n",
       " [8,]  4859198  145138636\n",
       " [9,]  4925084  138394717\n",
       "[10,]  4933365  133797422\n",
       "[11,]  7128782  135086622\n",
       "[12,]  7378781  133275309\n",
       "[13,]  2759484  114364328\n",
       "[14,]  4458785  107043718\n",
       "[15,]  5212293  101991189\n",
       "[16,]  5760349   90338345\n",
       "[17,]  7032018   83257441\n",
       "[18,]  2641942   80373285\n",
       "[19,]  6868634   58617616\n",
       "[20,]  2925996   64444167\n",
       "[21,]  1668214   46709983\n",
       "[22,]  3324814   50818468\n",
       "[23,]  4441343  156040895\n",
       "[24,]   561475   57227415"
      ]
     },
     "metadata": {},
     "output_type": "display_data"
    }
   ],
   "source": [
    "lens <- cbind(exon_lens, chrlens)\n",
    "lens"
   ]
  },
  {
   "cell_type": "code",
   "execution_count": 16,
   "metadata": {},
   "outputs": [],
   "source": [
    "save(lens,counts_dipl_m,counts_dipl_f,pd_exvsnon_m,pd_exvsnon_f,file='../sim-develop/data/exonicvsnon_counts.rda')"
   ]
  }
 ],
 "metadata": {
  "kernelspec": {
   "display_name": "R",
   "language": "R",
   "name": "ir"
  },
  "language_info": {
   "codemirror_mode": "r",
   "file_extension": ".r",
   "mimetype": "text/x-r-source",
   "name": "R",
   "pygments_lexer": "r",
   "version": "3.5.1"
  }
 },
 "nbformat": 4,
 "nbformat_minor": 2
}
