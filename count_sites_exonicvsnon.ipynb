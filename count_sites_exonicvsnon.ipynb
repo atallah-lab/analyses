{
 "cells": [
  {
   "cell_type": "code",
   "execution_count": 1,
   "metadata": {},
   "outputs": [
    {
     "name": "stderr",
     "output_type": "stream",
     "text": [
      "Loading required package: BSgenome\n",
      "Loading required package: BiocGenerics\n",
      "Loading required package: parallel\n",
      "\n",
      "Attaching package: ‘BiocGenerics’\n",
      "\n",
      "The following objects are masked from ‘package:parallel’:\n",
      "\n",
      "    clusterApply, clusterApplyLB, clusterCall, clusterEvalQ,\n",
      "    clusterExport, clusterMap, parApply, parCapply, parLapply,\n",
      "    parLapplyLB, parRapply, parSapply, parSapplyLB\n",
      "\n",
      "The following objects are masked from ‘package:stats’:\n",
      "\n",
      "    IQR, mad, sd, var, xtabs\n",
      "\n",
      "The following objects are masked from ‘package:base’:\n",
      "\n",
      "    anyDuplicated, append, as.data.frame, basename, cbind, colMeans,\n",
      "    colnames, colSums, dirname, do.call, duplicated, eval, evalq,\n",
      "    Filter, Find, get, grep, grepl, intersect, is.unsorted, lapply,\n",
      "    lengths, Map, mapply, match, mget, order, paste, pmax, pmax.int,\n",
      "    pmin, pmin.int, Position, rank, rbind, Reduce, rowMeans, rownames,\n",
      "    rowSums, sapply, setdiff, sort, table, tapply, union, unique,\n",
      "    unsplit, which, which.max, which.min\n",
      "\n",
      "Loading required package: S4Vectors\n",
      "Loading required package: stats4\n",
      "\n",
      "Attaching package: ‘S4Vectors’\n",
      "\n",
      "The following object is masked from ‘package:base’:\n",
      "\n",
      "    expand.grid\n",
      "\n",
      "Loading required package: IRanges\n",
      "Loading required package: GenomeInfoDb\n",
      "Loading required package: GenomicRanges\n",
      "Loading required package: Biostrings\n",
      "Loading required package: XVector\n",
      "\n",
      "Attaching package: ‘Biostrings’\n",
      "\n",
      "The following object is masked from ‘package:base’:\n",
      "\n",
      "    strsplit\n",
      "\n",
      "Loading required package: rtracklayer\n",
      "\n",
      "Attaching package: ‘data.table’\n",
      "\n",
      "The following object is masked from ‘package:GenomicRanges’:\n",
      "\n",
      "    shift\n",
      "\n",
      "The following object is masked from ‘package:IRanges’:\n",
      "\n",
      "    shift\n",
      "\n",
      "The following objects are masked from ‘package:S4Vectors’:\n",
      "\n",
      "    first, second\n",
      "\n"
     ]
    }
   ],
   "source": [
    "library(BSgenome.Hsapiens.UCSC.hg38)\n",
    "library(data.table)\n",
    "for (i in names(Hsapiens)[1:24]){ # load all chromosome map files\n",
    "        load(paste0('./data/large_files/',i,'.rda'))\n",
    "}\n",
    "load('./data/exons.rda')\n",
    "weights <- read.csv('./data/snap_velcro_weights.csv')\n",
    "weights <- weights[7,2:5]"
   ]
  },
  {
   "cell_type": "code",
   "execution_count": 2,
   "metadata": {},
   "outputs": [
    {
     "data": {
      "text/html": [
       "<table>\n",
       "<thead><tr><th scope=col>chrom</th><th scope=col>start</th><th scope=col>end</th></tr></thead>\n",
       "<tbody>\n",
       "\t<tr><td>1     </td><td> 65419</td><td> 65433</td></tr>\n",
       "\t<tr><td>1     </td><td> 65520</td><td> 65573</td></tr>\n",
       "\t<tr><td>1     </td><td> 69037</td><td> 71585</td></tr>\n",
       "\t<tr><td>1     </td><td>450703</td><td>451697</td></tr>\n",
       "\t<tr><td>1     </td><td>685679</td><td>686673</td></tr>\n",
       "\t<tr><td>1     </td><td>923928</td><td>924948</td></tr>\n",
       "</tbody>\n",
       "</table>\n"
      ],
      "text/latex": [
       "\\begin{tabular}{r|lll}\n",
       " chrom & start & end\\\\\n",
       "\\hline\n",
       "\t 1      &  65419 &  65433\\\\\n",
       "\t 1      &  65520 &  65573\\\\\n",
       "\t 1      &  69037 &  71585\\\\\n",
       "\t 1      & 450703 & 451697\\\\\n",
       "\t 1      & 685679 & 686673\\\\\n",
       "\t 1      & 923928 & 924948\\\\\n",
       "\\end{tabular}\n"
      ],
      "text/markdown": [
       "\n",
       "chrom | start | end | \n",
       "|---|---|---|---|---|---|\n",
       "| 1      |  65419 |  65433 | \n",
       "| 1      |  65520 |  65573 | \n",
       "| 1      |  69037 |  71585 | \n",
       "| 1      | 450703 | 451697 | \n",
       "| 1      | 685679 | 686673 | \n",
       "| 1      | 923928 | 924948 | \n",
       "\n",
       "\n"
      ],
      "text/plain": [
       "  chrom start  end   \n",
       "1 1      65419  65433\n",
       "2 1      65520  65573\n",
       "3 1      69037  71585\n",
       "4 1     450703 451697\n",
       "5 1     685679 686673\n",
       "6 1     923928 924948"
      ]
     },
     "metadata": {},
     "output_type": "display_data"
    }
   ],
   "source": [
    "# Take the union of overlapping exonic ranges, and omit parent gene data\n",
    "exons <- GRanges(exons$chrom,IRanges(exons$start,exons$end))\n",
    "exons <- reduce(exons)\n",
    "exons <- data.table(chrom=as.vector(seqnames(exons)),start=start(exons),end=end(exons))\n",
    "head(exons)"
   ]
  },
  {
   "cell_type": "markdown",
   "metadata": {},
   "source": [
    "#### In the cell below, we count the number of L1 target sites of each Snap-Velcro type in exons and non-exonic regions"
   ]
  },
  {
   "cell_type": "code",
   "execution_count": 3,
   "metadata": {},
   "outputs": [],
   "source": [
    "counts <-  array(0,dim=c(24,8)) # Allocate matrix for counts\n",
    "exon_lens <- rep(0,24)\n",
    "\n",
    "#--- Loop through chromosome names\n",
    "j<-1 # chromosome counter\n",
    "for (i in names(Hsapiens)[1:24]){\n",
    "\n",
    "\n",
    "        # Data objects containing indices of S-V sites for each category are labeled with the chromosome name.\n",
    "        # Here we copy the data objects to a set of variables with generic names which can be used consistently \n",
    "        # in the loop. \n",
    "        map<-get(paste0(i,'Map')) # Get the site map data for the current chrom\n",
    "        ict<-    map[[2]]\n",
    "        icl<-    map[[3]]\n",
    "        iot<-    map[[4]]\n",
    "        iol<-    map[[5]]\n",
    "        insites<-map[[1]] \n",
    "    \n",
    "        i <- strsplit(i,\"chr\")[[1]][2] # Remove \"chr\" from chromosome name\n",
    "\n",
    "################################################\n",
    "        # count in exons for current chromosome (columns 1-4)\n",
    "        ann_i <- exons[exons$chrom == i,] \n",
    "    \n",
    "        sen        <-inrange(insites[ict[!is.na(ict[,1]),1],1],ann_i$start,ann_i$end) # Check if any Closed-Tight category sites are within the start-end range of ann_i\n",
    "        antisen    <-inrange(insites[ict[!is.na(ict[,2]),2],2],ann_i$start,ann_i$end) \n",
    "        counts[j,1]<-length(which(sen)) + length(which(antisen))                      # Fill an element of the counts table with the count\n",
    "        \n",
    "        sen        <-inrange(insites[icl[!is.na(icl[,1]),1],1],ann_i$start,ann_i$end) \n",
    "        antisen    <-inrange(insites[icl[!is.na(icl[,2]),2],2],ann_i$start,ann_i$end)\n",
    "        counts[j,2]<-length(which(sen)) + length(which(antisen))\n",
    "        \n",
    "        sen        <-inrange(insites[iot[!is.na(iot[,1]),1],1],ann_i$start,ann_i$end) \n",
    "        antisen    <-inrange(insites[iot[!is.na(iot[,2]),2],2],ann_i$start,ann_i$end)\n",
    "        counts[j,3]<-length(which(sen)) + length(which(antisen))\n",
    "        \n",
    "        sen        <-inrange(insites[iol[!is.na(iol[,1]),1],1],ann_i$start,ann_i$end) \n",
    "        antisen    <-inrange(insites[iol[!is.na(iol[,2]),2],2],ann_i$start,ann_i$end)\n",
    "        counts[j,4]<-length(which(sen)) + length(which(antisen))  \n",
    "    \n",
    "################################################\n",
    "        # count in non-exons for current chromosome (columns 5-8)\n",
    "        \n",
    "        counts[j,5]   <- length(which(!is.na(as.vector(ict)))) - counts[j,1]\n",
    "        counts[j,6]  <- length(which(!is.na(as.vector(icl)))) - counts[j,2]\n",
    "        counts[j,7]  <- length(which(!is.na(as.vector(iot)))) - counts[j,3]\n",
    "        counts[j,8]  <- length(which(!is.na(as.vector(iol)))) - counts[j,4]\n",
    "    \n",
    "        exon_lens[j] <- sum(ann_i$end-ann_i$start)\n",
    "    \n",
    "        j<-j+1\n",
    "        rm('sen','antisen')\n",
    "}"
   ]
  },
  {
   "cell_type": "code",
   "execution_count": 4,
   "metadata": {},
   "outputs": [],
   "source": [
    "colnames(counts) <- c('ct_exon','cl_exon','ot_exon','ol_exon','ct_nonexon','cl_nonexon','ot_nonexon','ol_nonexon')\n",
    "rownames(counts) <- names(Hsapiens)[1:24]\n",
    "# counts"
   ]
  },
  {
   "cell_type": "markdown",
   "metadata": {},
   "source": [
    "Here we account for male and female diploid genomes"
   ]
  },
  {
   "cell_type": "markdown",
   "metadata": {},
   "source": [
    "#### Male"
   ]
  },
  {
   "cell_type": "code",
   "execution_count": 5,
   "metadata": {},
   "outputs": [],
   "source": [
    "# Male genome - double the count for chromosomes 1:22\n",
    "counts_dipl_m <- counts\n",
    "counts_dipl_m[1:22,]<-counts_dipl_m[1:22,]*2\n",
    "# counts_dipl_m"
   ]
  },
  {
   "cell_type": "markdown",
   "metadata": {},
   "source": [
    "#### Female"
   ]
  },
  {
   "cell_type": "code",
   "execution_count": 6,
   "metadata": {},
   "outputs": [],
   "source": [
    "# Female genome - double the counts for chroms. 1:23; count for chrom. Y is set to 0\n",
    "counts_dipl_f <- counts\n",
    "counts_dipl_f[1:23,]<-counts_dipl_f[1:23,]*2\n",
    "counts_dipl_f[24,]<-counts_dipl_f[24,]*0\n",
    "# counts_dipl_f"
   ]
  },
  {
   "cell_type": "markdown",
   "metadata": {},
   "source": [
    "## Calculating probabilities of ENd (endonuclease-dependent) exonic vs non-exonic insertion"
   ]
  },
  {
   "cell_type": "markdown",
   "metadata": {},
   "source": [
    "#### Male"
   ]
  },
  {
   "cell_type": "code",
   "execution_count": 7,
   "metadata": {},
   "outputs": [
    {
     "data": {
      "text/html": [
       "<ol class=list-inline>\n",
       "\t<li>0.0237257732381615</li>\n",
       "\t<li>0.976274226761838</li>\n",
       "</ol>\n"
      ],
      "text/latex": [
       "\\begin{enumerate*}\n",
       "\\item 0.0237257732381615\n",
       "\\item 0.976274226761838\n",
       "\\end{enumerate*}\n"
      ],
      "text/markdown": [
       "1. 0.0237257732381615\n",
       "2. 0.976274226761838\n",
       "\n",
       "\n"
      ],
      "text/plain": [
       "[1] 0.02372577 0.97627423"
      ]
     },
     "metadata": {},
     "output_type": "display_data"
    }
   ],
   "source": [
    "counts_ovchr_m <- colSums(counts_dipl_m)\n",
    "probs_ENd_m <- rep(0,2)\n",
    "for (i in 1:2){\n",
    "    probs_ENd_m[i] = weights$closed_tight*counts_ovchr_m[(i-1)*4+1] + \n",
    "                   weights$closed_loose*counts_ovchr_m[(i-1)*4+2] + \n",
    "                   weights$open_tight*counts_ovchr_m[(i-1)*4+3] + \n",
    "                   weights$open_loose*counts_ovchr_m[(i-1)*4+4]\n",
    "}\n",
    "probs_ENd_m <- probs_ENd_m/sum(probs_ENd_m)\n",
    "probs_ENd_m"
   ]
  },
  {
   "cell_type": "markdown",
   "metadata": {},
   "source": [
    "#### Female"
   ]
  },
  {
   "cell_type": "code",
   "execution_count": 8,
   "metadata": {},
   "outputs": [
    {
     "data": {
      "text/html": [
       "<ol class=list-inline>\n",
       "\t<li>0.0235766432320843</li>\n",
       "\t<li>0.976423356767916</li>\n",
       "</ol>\n"
      ],
      "text/latex": [
       "\\begin{enumerate*}\n",
       "\\item 0.0235766432320843\n",
       "\\item 0.976423356767916\n",
       "\\end{enumerate*}\n"
      ],
      "text/markdown": [
       "1. 0.0235766432320843\n",
       "2. 0.976423356767916\n",
       "\n",
       "\n"
      ],
      "text/plain": [
       "[1] 0.02357664 0.97642336"
      ]
     },
     "metadata": {},
     "output_type": "display_data"
    }
   ],
   "source": [
    "counts_ovchr_f <- colSums(counts_dipl_f)\n",
    "probs_ENd_f <- rep(0,2)\n",
    "for (i in 1:2){\n",
    "    probs_ENd_f[i] = weights$closed_tight*counts_ovchr_f[(i-1)*4+1] + \n",
    "                   weights$closed_loose*counts_ovchr_f[(i-1)*4+2] + \n",
    "                   weights$open_tight*counts_ovchr_f[(i-1)*4+3] + \n",
    "                   weights$open_loose*counts_ovchr_f[(i-1)*4+4]\n",
    "}\n",
    "probs_ENd_f <- probs_ENd_f/sum(probs_ENd_f)\n",
    "probs_ENd_f"
   ]
  },
  {
   "cell_type": "markdown",
   "metadata": {},
   "source": [
    "## Calculating probabilities of ENi (endonuclease-independent) exonic vs non-exonic insertion"
   ]
  },
  {
   "cell_type": "code",
   "execution_count": 9,
   "metadata": {},
   "outputs": [
    {
     "data": {
      "text/html": [
       "3088269832"
      ],
      "text/latex": [
       "3088269832"
      ],
      "text/markdown": [
       "3088269832"
      ],
      "text/plain": [
       "[1] 3088269832"
      ]
     },
     "metadata": {},
     "output_type": "display_data"
    }
   ],
   "source": [
    "chrlens <- rep(0,24)\n",
    "for (i in 1:24){\n",
    "    chrlens[i] <- length(Hsapiens[[i]])\n",
    "}\n",
    "sum(chrlens)"
   ]
  },
  {
   "cell_type": "markdown",
   "metadata": {},
   "source": [
    "#### Male"
   ]
  },
  {
   "cell_type": "code",
   "execution_count": 10,
   "metadata": {},
   "outputs": [
    {
     "data": {
      "text/html": [
       "<ol class=list-inline>\n",
       "\t<li>0.0327609683347641</li>\n",
       "\t<li>0.967239031665236</li>\n",
       "</ol>\n"
      ],
      "text/latex": [
       "\\begin{enumerate*}\n",
       "\\item 0.0327609683347641\n",
       "\\item 0.967239031665236\n",
       "\\end{enumerate*}\n"
      ],
      "text/markdown": [
       "1. 0.0327609683347641\n",
       "2. 0.967239031665236\n",
       "\n",
       "\n"
      ],
      "text/plain": [
       "[1] 0.03276097 0.96723903"
      ]
     },
     "metadata": {},
     "output_type": "display_data"
    }
   ],
   "source": [
    "probs_ENi_m <- rep(0,2)\n",
    "probs_ENi_m[1] <- (sum(exon_lens[1:22]*2)+sum(exon_lens[23:24]))/(sum(chrlens[1:22]*2)+sum(chrlens[23:24]))\n",
    "probs_ENi_m[2] <- 1-probs_ENi_m[1]\n",
    "probs_ENi_m"
   ]
  },
  {
   "cell_type": "markdown",
   "metadata": {},
   "source": [
    "#### Female"
   ]
  },
  {
   "cell_type": "code",
   "execution_count": 11,
   "metadata": {},
   "outputs": [
    {
     "data": {
      "text/html": [
       "<ol class=list-inline>\n",
       "\t<li>0.032766799449247</li>\n",
       "\t<li>0.967233200550753</li>\n",
       "</ol>\n"
      ],
      "text/latex": [
       "\\begin{enumerate*}\n",
       "\\item 0.032766799449247\n",
       "\\item 0.967233200550753\n",
       "\\end{enumerate*}\n"
      ],
      "text/markdown": [
       "1. 0.032766799449247\n",
       "2. 0.967233200550753\n",
       "\n",
       "\n"
      ],
      "text/plain": [
       "[1] 0.0327668 0.9672332"
      ]
     },
     "metadata": {},
     "output_type": "display_data"
    }
   ],
   "source": [
    "probs_ENi_f <- rep(0,2)\n",
    "probs_ENi_f[1] <- sum(exon_lens[1:23]*2)/sum(chrlens[1:23]*2)\n",
    "probs_ENi_f[2] <- 1-probs_ENi_f[1]\n",
    "probs_ENi_f"
   ]
  },
  {
   "cell_type": "markdown",
   "metadata": {},
   "source": [
    "## Calculating final probabilities of exonic vs non-exonic insertion"
   ]
  },
  {
   "cell_type": "markdown",
   "metadata": {},
   "source": [
    "#### Male"
   ]
  },
  {
   "cell_type": "code",
   "execution_count": 12,
   "metadata": {},
   "outputs": [
    {
     "data": {
      "text/html": [
       "<ol class=list-inline>\n",
       "\t<li>0.0246292927478217</li>\n",
       "\t<li>0.975370707252178</li>\n",
       "</ol>\n"
      ],
      "text/latex": [
       "\\begin{enumerate*}\n",
       "\\item 0.0246292927478217\n",
       "\\item 0.975370707252178\n",
       "\\end{enumerate*}\n"
      ],
      "text/markdown": [
       "1. 0.0246292927478217\n",
       "2. 0.975370707252178\n",
       "\n",
       "\n"
      ],
      "text/plain": [
       "[1] 0.02462929 0.97537071"
      ]
     },
     "metadata": {},
     "output_type": "display_data"
    }
   ],
   "source": [
    "pd_exvsnon_m <- (.9*probs_ENd_m)+(0.1*probs_ENi_m) # Assuming 0.9 probability that insertion will be ENd and 0.1 for ENi\n",
    "pd_exvsnon_m <- pd_exvsnon_m/sum(pd_exvsnon_m)\n",
    "pd_exvsnon_m"
   ]
  },
  {
   "cell_type": "markdown",
   "metadata": {},
   "source": [
    "#### Female"
   ]
  },
  {
   "cell_type": "code",
   "execution_count": 13,
   "metadata": {},
   "outputs": [
    {
     "data": {
      "text/html": [
       "<ol class=list-inline>\n",
       "\t<li>0.0244956588538006</li>\n",
       "\t<li>0.975504341146199</li>\n",
       "</ol>\n"
      ],
      "text/latex": [
       "\\begin{enumerate*}\n",
       "\\item 0.0244956588538006\n",
       "\\item 0.975504341146199\n",
       "\\end{enumerate*}\n"
      ],
      "text/markdown": [
       "1. 0.0244956588538006\n",
       "2. 0.975504341146199\n",
       "\n",
       "\n"
      ],
      "text/plain": [
       "[1] 0.02449566 0.97550434"
      ]
     },
     "metadata": {},
     "output_type": "display_data"
    }
   ],
   "source": [
    "pd_exvsnon_f <- (.9*probs_ENd_f)+(0.1*probs_ENi_f) # Assuming 0.9 probability that insertion will be ENd and 0.1 for ENi\n",
    "pd_exvsnon_f <- pd_exvsnon_f/sum(pd_exvsnon_f)\n",
    "pd_exvsnon_f"
   ]
  },
  {
   "cell_type": "code",
   "execution_count": 14,
   "metadata": {},
   "outputs": [
    {
     "data": {
      "text/html": [
       "<table>\n",
       "<thead><tr><th scope=col>exon_lens</th><th scope=col>chrlens</th></tr></thead>\n",
       "<tbody>\n",
       "\t<tr><td>9914687  </td><td>248956422</td></tr>\n",
       "\t<tr><td>7203029  </td><td>242193529</td></tr>\n",
       "\t<tr><td>5937840  </td><td>198295559</td></tr>\n",
       "\t<tr><td>4055667  </td><td>190214555</td></tr>\n",
       "\t<tr><td>4778798  </td><td>181538259</td></tr>\n",
       "\t<tr><td>4799952  </td><td>170805979</td></tr>\n",
       "\t<tr><td>4696552  </td><td>159345973</td></tr>\n",
       "\t<tr><td>3495005  </td><td>145138636</td></tr>\n",
       "\t<tr><td>3762545  </td><td>138394717</td></tr>\n",
       "\t<tr><td>3707409  </td><td>133797422</td></tr>\n",
       "\t<tr><td>5835651  </td><td>135086622</td></tr>\n",
       "\t<tr><td>5650224  </td><td>133275309</td></tr>\n",
       "\t<tr><td>1875673  </td><td>114364328</td></tr>\n",
       "\t<tr><td>3442137  </td><td>107043718</td></tr>\n",
       "\t<tr><td>3736105  </td><td>101991189</td></tr>\n",
       "\t<tr><td>4300087  </td><td> 90338345</td></tr>\n",
       "\t<tr><td>5574386  </td><td> 83257441</td></tr>\n",
       "\t<tr><td>1873647  </td><td> 80373285</td></tr>\n",
       "\t<tr><td>5814177  </td><td> 58617616</td></tr>\n",
       "\t<tr><td>2300055  </td><td> 64444167</td></tr>\n",
       "\t<tr><td>1075710  </td><td> 46709983</td></tr>\n",
       "\t<tr><td>2075442  </td><td> 50818468</td></tr>\n",
       "\t<tr><td>3412781  </td><td>156040895</td></tr>\n",
       "\t<tr><td> 140207  </td><td> 57227415</td></tr>\n",
       "</tbody>\n",
       "</table>\n"
      ],
      "text/latex": [
       "\\begin{tabular}{ll}\n",
       " exon\\_lens & chrlens\\\\\n",
       "\\hline\n",
       "\t 9914687   & 248956422\\\\\n",
       "\t 7203029   & 242193529\\\\\n",
       "\t 5937840   & 198295559\\\\\n",
       "\t 4055667   & 190214555\\\\\n",
       "\t 4778798   & 181538259\\\\\n",
       "\t 4799952   & 170805979\\\\\n",
       "\t 4696552   & 159345973\\\\\n",
       "\t 3495005   & 145138636\\\\\n",
       "\t 3762545   & 138394717\\\\\n",
       "\t 3707409   & 133797422\\\\\n",
       "\t 5835651   & 135086622\\\\\n",
       "\t 5650224   & 133275309\\\\\n",
       "\t 1875673   & 114364328\\\\\n",
       "\t 3442137   & 107043718\\\\\n",
       "\t 3736105   & 101991189\\\\\n",
       "\t 4300087   &  90338345\\\\\n",
       "\t 5574386   &  83257441\\\\\n",
       "\t 1873647   &  80373285\\\\\n",
       "\t 5814177   &  58617616\\\\\n",
       "\t 2300055   &  64444167\\\\\n",
       "\t 1075710   &  46709983\\\\\n",
       "\t 2075442   &  50818468\\\\\n",
       "\t 3412781   & 156040895\\\\\n",
       "\t  140207   &  57227415\\\\\n",
       "\\end{tabular}\n"
      ],
      "text/markdown": [
       "\n",
       "exon_lens | chrlens | \n",
       "|---|---|---|---|---|---|---|---|---|---|---|---|---|---|---|---|---|---|---|---|---|---|---|---|\n",
       "| 9914687   | 248956422 | \n",
       "| 7203029   | 242193529 | \n",
       "| 5937840   | 198295559 | \n",
       "| 4055667   | 190214555 | \n",
       "| 4778798   | 181538259 | \n",
       "| 4799952   | 170805979 | \n",
       "| 4696552   | 159345973 | \n",
       "| 3495005   | 145138636 | \n",
       "| 3762545   | 138394717 | \n",
       "| 3707409   | 133797422 | \n",
       "| 5835651   | 135086622 | \n",
       "| 5650224   | 133275309 | \n",
       "| 1875673   | 114364328 | \n",
       "| 3442137   | 107043718 | \n",
       "| 3736105   | 101991189 | \n",
       "| 4300087   |  90338345 | \n",
       "| 5574386   |  83257441 | \n",
       "| 1873647   |  80373285 | \n",
       "| 5814177   |  58617616 | \n",
       "| 2300055   |  64444167 | \n",
       "| 1075710   |  46709983 | \n",
       "| 2075442   |  50818468 | \n",
       "| 3412781   | 156040895 | \n",
       "|  140207   |  57227415 | \n",
       "\n",
       "\n"
      ],
      "text/plain": [
       "      exon_lens chrlens  \n",
       " [1,] 9914687   248956422\n",
       " [2,] 7203029   242193529\n",
       " [3,] 5937840   198295559\n",
       " [4,] 4055667   190214555\n",
       " [5,] 4778798   181538259\n",
       " [6,] 4799952   170805979\n",
       " [7,] 4696552   159345973\n",
       " [8,] 3495005   145138636\n",
       " [9,] 3762545   138394717\n",
       "[10,] 3707409   133797422\n",
       "[11,] 5835651   135086622\n",
       "[12,] 5650224   133275309\n",
       "[13,] 1875673   114364328\n",
       "[14,] 3442137   107043718\n",
       "[15,] 3736105   101991189\n",
       "[16,] 4300087    90338345\n",
       "[17,] 5574386    83257441\n",
       "[18,] 1873647    80373285\n",
       "[19,] 5814177    58617616\n",
       "[20,] 2300055    64444167\n",
       "[21,] 1075710    46709983\n",
       "[22,] 2075442    50818468\n",
       "[23,] 3412781   156040895\n",
       "[24,]  140207    57227415"
      ]
     },
     "metadata": {},
     "output_type": "display_data"
    }
   ],
   "source": [
    "lens <- cbind(exon_lens, chrlens)\n",
    "lens"
   ]
  },
  {
   "cell_type": "code",
   "execution_count": 15,
   "metadata": {},
   "outputs": [],
   "source": [
    "save(lens,counts_dipl_m,counts_dipl_f,pd_exvsnon_m,pd_exvsnon_f,file='./data/exonicvsnon_counts.rda')"
   ]
  }
 ],
 "metadata": {
  "kernelspec": {
   "display_name": "R",
   "language": "R",
   "name": "ir"
  },
  "language_info": {
   "codemirror_mode": "r",
   "file_extension": ".r",
   "mimetype": "text/x-r-source",
   "name": "R",
   "pygments_lexer": "r",
   "version": "3.5.1"
  }
 },
 "nbformat": 4,
 "nbformat_minor": 2
}
