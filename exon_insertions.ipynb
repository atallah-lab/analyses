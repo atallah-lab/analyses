{
 "cells": [
  {
   "cell_type": "code",
   "execution_count": 1,
   "metadata": {
    "collapsed": true
   },
   "outputs": [
    {
     "name": "stderr",
     "output_type": "stream",
     "text": [
      "Loading required package: BSgenome\n",
      "Loading required package: BiocGenerics\n",
      "Loading required package: parallel\n",
      "\n",
      "Attaching package: ‘BiocGenerics’\n",
      "\n",
      "The following objects are masked from ‘package:parallel’:\n",
      "\n",
      "    clusterApply, clusterApplyLB, clusterCall, clusterEvalQ,\n",
      "    clusterExport, clusterMap, parApply, parCapply, parLapply,\n",
      "    parLapplyLB, parRapply, parSapply, parSapplyLB\n",
      "\n",
      "The following objects are masked from ‘package:stats’:\n",
      "\n",
      "    IQR, mad, xtabs\n",
      "\n",
      "The following objects are masked from ‘package:base’:\n",
      "\n",
      "    anyDuplicated, append, as.data.frame, as.vector, cbind, colnames,\n",
      "    do.call, duplicated, eval, evalq, Filter, Find, get, grep, grepl,\n",
      "    intersect, is.unsorted, lapply, lengths, Map, mapply, match, mget,\n",
      "    order, paste, pmax, pmax.int, pmin, pmin.int, Position, rank,\n",
      "    rbind, Reduce, rownames, sapply, setdiff, sort, table, tapply,\n",
      "    union, unique, unlist, unsplit\n",
      "\n",
      "Loading required package: S4Vectors\n",
      "Loading required package: stats4\n",
      "Loading required package: IRanges\n",
      "Loading required package: GenomeInfoDb\n",
      "Loading required package: GenomicRanges\n",
      "Loading required package: Biostrings\n",
      "Loading required package: XVector\n",
      "Loading required package: rtracklayer\n",
      "\n",
      "Attaching package: ‘data.table’\n",
      "\n",
      "The following object is masked from ‘package:GenomicRanges’:\n",
      "\n",
      "    shift\n",
      "\n",
      "The following object is masked from ‘package:IRanges’:\n",
      "\n",
      "    shift\n",
      "\n"
     ]
    }
   ],
   "source": [
    "library(BSgenome.Hsapiens.UCSC.hg38)\n",
    "library(GenomicRanges)\n",
    "library(naturalsort)\n",
    "library(data.table)\n"
   ]
  },
  {
   "cell_type": "code",
   "execution_count": 2,
   "metadata": {},
   "outputs": [
    {
     "name": "stdout",
     "output_type": "stream",
     "text": [
      "\n",
      "Filtering hg38 gff3 file for exon locations... \n",
      "Reading exon location table...\n",
      "Done"
     ]
    }
   ],
   "source": [
    "#--- Use system (Unix) commands to extract exon locations from a hg38 .gff3 file\n",
    "cat(\"\\nFiltering hg38 gff3 file for exon locations... \\n\")\n",
    "system(paste(\"grep exon ../Data/humangenome/Homo_sapiens.GRCh38.89.gff3 > tmp\")) # Write lines containing \"exon\" to a tmp file\n",
    "system(paste(\"cut -f1,4,5 tmp > tmp2\")) # Extract columns 1, 4, 5 from tmp file, and write result to ../Data directory\n",
    "cat(\"Reading exon location table...\\n\")\n",
    "exann <- read.table(\"tmp2\") # Read exonic regions into table (chromName\tstart\tend)\n",
    "system(paste(\"rm tmp\"))\n",
    "system(paste(\"rm tmp2\"))\n",
    "cat(\"Done\")"
   ]
  },
  {
   "cell_type": "code",
   "execution_count": 3,
   "metadata": {
    "scrolled": false
   },
   "outputs": [
    {
     "data": {
      "text/html": [
       "<table>\n",
       "<thead><tr><th scope=col>chrom</th><th scope=col>start</th><th scope=col>end</th></tr></thead>\n",
       "<tbody>\n",
       "\t<tr><td>1    </td><td>11869</td><td>12227</td></tr>\n",
       "\t<tr><td>1    </td><td>12613</td><td>12721</td></tr>\n",
       "\t<tr><td>1    </td><td>12975</td><td>13052</td></tr>\n",
       "\t<tr><td>1    </td><td>13221</td><td>14501</td></tr>\n",
       "\t<tr><td>1    </td><td>15005</td><td>15038</td></tr>\n",
       "\t<tr><td>1    </td><td>15796</td><td>15947</td></tr>\n",
       "</tbody>\n",
       "</table>\n"
      ],
      "text/latex": [
       "\\begin{tabular}{r|lll}\n",
       " chrom & start & end\\\\\n",
       "\\hline\n",
       "\t 1     & 11869 & 12227\\\\\n",
       "\t 1     & 12613 & 12721\\\\\n",
       "\t 1     & 12975 & 13052\\\\\n",
       "\t 1     & 13221 & 14501\\\\\n",
       "\t 1     & 15005 & 15038\\\\\n",
       "\t 1     & 15796 & 15947\\\\\n",
       "\\end{tabular}\n"
      ],
      "text/markdown": [
       "\n",
       "chrom | start | end | \n",
       "|---|---|---|---|---|---|\n",
       "| 1     | 11869 | 12227 | \n",
       "| 1     | 12613 | 12721 | \n",
       "| 1     | 12975 | 13052 | \n",
       "| 1     | 13221 | 14501 | \n",
       "| 1     | 15005 | 15038 | \n",
       "| 1     | 15796 | 15947 | \n",
       "\n",
       "\n"
      ],
      "text/plain": [
       "  chrom start end  \n",
       "1 1     11869 12227\n",
       "2 1     12613 12721\n",
       "3 1     12975 13052\n",
       "4 1     13221 14501\n",
       "5 1     15005 15038\n",
       "6 1     15796 15947"
      ]
     },
     "metadata": {},
     "output_type": "display_data"
    }
   ],
   "source": [
    "tmp<-c()\n",
    "exann <- GRanges(seqnames=exann$V1,IRanges(exann$V2,exann$V3)) # Convert anno into GRanges object (bioconductor)\n",
    "exann <- reduce(exann) # Reduce to non-overlapping ranges\n",
    "tmp$chrom <- as.vector(seqnames(exann)) # Next lines are for conversion back to data.frame\n",
    "tmp$start <- start(exann)\n",
    "tmp$end <- end(exann)\n",
    "exann <- data.frame(tmp)\n",
    "names(exann) <- c('chrom','start','end')\n",
    "head(exann)"
   ]
  },
  {
   "cell_type": "code",
   "execution_count": 5,
   "metadata": {},
   "outputs": [
    {
     "name": "stdout",
     "output_type": "stream",
     "text": [
      "\n",
      "Proccessing  chr1 ...\n",
      "Proccessing  chr2 ...\n",
      "Proccessing  chr3 ...\n",
      "Proccessing  chr4 ...\n",
      "Proccessing  chr5 ...\n",
      "Proccessing  chr6 ...\n",
      "Proccessing  chr7 ...\n",
      "Proccessing  chr8 ...\n",
      "Proccessing  chr9 ...\n",
      "Proccessing  chr10 ...\n",
      "Proccessing  chr11 ...\n",
      "Proccessing  chr12 ...\n",
      "Proccessing  chr13 ...\n",
      "Proccessing  chr14 ...\n",
      "Proccessing  chr15 ...\n",
      "Proccessing  chr16 ...\n",
      "Proccessing  chr17 ...\n",
      "Proccessing  chr18 ...\n",
      "Proccessing  chr19 ...\n",
      "Proccessing  chr20 ...\n",
      "Proccessing  chr21 ...\n",
      "Proccessing  chr22 ...\n",
      "Proccessing  chrX ...\n",
      "Proccessing  chrY ..."
     ]
    }
   ],
   "source": [
    "exon_counts <- \tarray(0,dim=c(24,9)) # Allocate memory for a 2D array containing counts of exonic insertion sites of each S-V type for each chromosome, and other information\n",
    "\n",
    "#--- Loop through chromosome names\n",
    "j<-1\n",
    "for (i in names(Hsapiens)[1:24]){\n",
    "\n",
    "\tcat(\"\\nProccessing \",i,\"...\")\n",
    "\tload(paste0(\"../Data/root_maps/\",i,\".rda\")) # Load map file for current chromosome\n",
    "\n",
    "\t# Data objects containing indices of S-V sites for each category are labeled with the chromosome name.\n",
    "\t# Here we copy the data objects to a set of new names which can be used consistently in the following\n",
    "    # code.\n",
    "\tmap<-get(paste0(i,\"Map\"))\t\n",
    "        ict<-map$ict\n",
    "        icl<-map$icl\n",
    "        iot<-map$iot\n",
    "        iol<-map$iol\n",
    "        insites<-map$insites\n",
    "\n",
    "\t# Extract exonic regions for the current chromosome\n",
    "\tchrno<-strsplit(i,\"chr\")[[1]][2] # Get the current chromosome number (or letter)\n",
    "\texann_i <- exann[exann$chrom == chrno,] # Extract a subset of the 'exann' table for regions in the current chromosome\n",
    "\n",
    "\t# Fill in columns 1-4 of the row of the exon_counts array corresponding to current chromosome.\n",
    "\t# These columns contain the number of sites of each S-V category lying within exons \n",
    "\t# Categories are in this order: closed-tight, closed-loose, open-tight, open-loose\n",
    "\ttmp\t<-inrange(insites[ict[which(!is.na(ict[,1])),1],1],exann_i$start,exann_i$end) # Check if any Closed-Tight category sites are within the start-end range of exann_i\n",
    "\ttmp2<-inrange(insites[ict[which(!is.na(ict[,2])),2],2],exann_i$start,exann_i$end) \n",
    "\texon_counts[j,1]<-length(which(tmp == TRUE)) + length(which(tmp2==TRUE)) \t  # Fill an element of the exon_counts table with the count\n",
    "\ttmp     <-inrange(insites[icl[which(!is.na(icl[,1])),1],1],exann_i$start,exann_i$end) # Check if any Closed-Tight category sites are within the start-end range of exann_i\n",
    "        tmp2    <-inrange(insites[icl[which(!is.na(icl[,2])),2],2],exann_i$start,exann_i$end)\n",
    "\texon_counts[j,2]<-length(which(tmp == TRUE)) + length(which(tmp2==TRUE))\n",
    "\ttmp     <-inrange(insites[iot[which(!is.na(iot[,1])),1],1],exann_i$start,exann_i$end) # Check if any Closed-Tight category sites are within the start-end range of exann_i\n",
    "\ttmp2    <-inrange(insites[iot[which(!is.na(iot[,2])),2],2],exann_i$start,exann_i$end)\n",
    "\texon_counts[j,3]<-length(which(tmp == TRUE)) + length(which(tmp2==TRUE))\n",
    "        tmp     <-inrange(insites[iol[which(!is.na(iol[,1])),1],1],exann_i$start,exann_i$end) # Check if any Closed-Tight category sites are within the start-end range of exann_i\n",
    "\ttmp2    <-inrange(insites[iol[which(!is.na(iol[,2])),2],2],exann_i$start,exann_i$end)\n",
    "\texon_counts[j,4]<-length(which(tmp == TRUE)) + length(which(tmp2==TRUE))  \n",
    "\n",
    "\n",
    "\t# Fill in columns 5-8 of the row of the exon_counts array corresponding to current chromosome.\n",
    "\t# These columns contain the total number of sites of each category\n",
    "\texon_counts[j,5]<-length(which(!is.na(ict)))\n",
    "\texon_counts[j,6]<-length(which(!is.na(icl)))\n",
    "\texon_counts[j,7]<-length(which(!is.na(iot)))\n",
    "\texon_counts[j,8]<-length(which(!is.na(iol)))\n",
    "\n",
    "\t# The last column contains the exon fraction of the current chromosome\n",
    "\ttmp<-IRanges(exann_i$start,exann_i$end)\n",
    "\texon_counts[j,9] <- sum(width(tmp))/length(Hsapiens[[i]])\n",
    "\n",
    "\tj<-j+1\n",
    "}"
   ]
  },
  {
   "cell_type": "code",
   "execution_count": 7,
   "metadata": {},
   "outputs": [],
   "source": [
    "write.csv(exon_counts,file=\"~/jackgl/exon_counts.csv\")"
   ]
  },
  {
   "cell_type": "code",
   "execution_count": null,
   "metadata": {},
   "outputs": [],
   "source": []
  }
 ],
 "metadata": {
  "kernelspec": {
   "display_name": "R",
   "language": "R",
   "name": "ir"
  },
  "language_info": {
   "codemirror_mode": "r",
   "file_extension": ".r",
   "mimetype": "text/x-r-source",
   "name": "R",
   "pygments_lexer": "r",
   "version": "3.3.2"
  }
 },
 "nbformat": 4,
 "nbformat_minor": 2
}
