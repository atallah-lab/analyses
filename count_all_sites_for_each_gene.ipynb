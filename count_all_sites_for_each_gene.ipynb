{
 "cells": [
  {
   "cell_type": "code",
   "execution_count": null,
   "metadata": {},
   "outputs": [],
   "source": [
    "library(data.table)\n",
    "for (i in c(1:22,'X','Y')){ # Load L1 target site annotation files\n",
    "        load(paste0('./data/large_files/chr',i,'.rda'))\n",
    "}\n",
    "load('./data/genes.rda') # Load gene annotation\n",
    "dir.create('./data/gene_counts_all/')\n",
    "outPath <- './data/gene_counts_all/out'"
   ]
  },
  {
   "cell_type": "code",
   "execution_count": null,
   "metadata": {},
   "outputs": [],
   "source": [
    "for (ii in c(1:22,'X','Y')){ # Loop over chromosomes\n",
    "\n",
    "    ptm <- proc.time()\n",
    "    line <- paste0('######## Chromosome ',ii,' #########\\n')\n",
    "    write(line,file=paste0(outPath,'.log'),append=TRUE)\n",
    "    \n",
    "    map<-get(paste0('chr',ii,'Map')) # Get the L1 target site annotation for the current chromosome\n",
    "    ict<-    map[[2]]\n",
    "    icl<-    map[[3]]\n",
    "    iot<-    map[[4]]\n",
    "    iol<-    map[[5]]\n",
    "    insites<-map[[1]]\n",
    "\n",
    "    tmp_chrom <- genes[genes$chrom==ii,] # Extract genes entries for current chromosome\n",
    "    currGenes <- unique(tmp_chrom$gene_id) # Get list of genes in current chromosome\n",
    "    numCurrGenes <- length(currGenes) # Get length of the list\n",
    "    counts <-  array(NA,dim=c(numCurrGenes,4)) # Allocate matrix for counts\n",
    "    gnames <- array(NA,dim=c(numCurrGenes,1))\n",
    "    lens <- array(NA,dim=c(numCurrGenes,1))\n",
    "    l<-1\n",
    "\n",
    "    for (jj in currGenes) { # Loop over genes of current chromosome\n",
    "\n",
    "        line <- paste0('gene ',l,'/',numCurrGenes,' for ',ii,':\\t',jj)\n",
    "        write(line,file=paste0(outPath,'.log'),append=TRUE)\n",
    "        \n",
    "        # count sites in current gene\n",
    "        tmp_gene <- tmp_chrom[tmp_chrom$gene_id==jj,] # Extract genes entries for current gene\n",
    "\n",
    "        sen        <-inrange(insites[ict[!is.na(ict[,1]),1],1],tmp_gene$start,tmp_gene$end) # Check if any Closed-Tight category sites are within the start-end range of tmp_gene\n",
    "        antisen    <-inrange(insites[ict[!is.na(ict[,2]),2],2],tmp_gene$start,tmp_gene$end)\n",
    "        counts[l,1]<-length(which(sen)) + length(which(antisen))                            # Fill an element of the counts table\n",
    "\n",
    "        sen        <-inrange(insites[icl[!is.na(icl[,1]),1],1],tmp_gene$start,tmp_gene$end)\n",
    "        antisen    <-inrange(insites[icl[!is.na(icl[,2]),2],2],tmp_gene$start,tmp_gene$end)\n",
    "        counts[l,2]<-length(which(sen)) + length(which(antisen))\n",
    "\n",
    "        sen        <-inrange(insites[iot[!is.na(iot[,1]),1],1],tmp_gene$start,tmp_gene$end)\n",
    "        antisen    <-inrange(insites[iot[!is.na(iot[,2]),2],2],tmp_gene$start,tmp_gene$end)\n",
    "        counts[l,3]<-length(which(sen)) + length(which(antisen))\n",
    "\n",
    "        sen        <-inrange(insites[iol[!is.na(iol[,1]),1],1],tmp_gene$start,tmp_gene$end)\n",
    "        antisen    <-inrange(insites[iol[!is.na(iol[,2]),2],2],tmp_gene$start,tmp_gene$end)\n",
    "        counts[l,4]<-length(which(sen)) + length(which(antisen))\n",
    "\n",
    "        gnames[l] <- jj\n",
    "        lens[l] <- tmp_gene$end-tmp_gene$start\n",
    "\n",
    "        l <- l+1\n",
    "\n",
    "    }\n",
    "    print(proc.time() - ptm)\n",
    "    save(counts, gnames, lens, file=paste0(outPath,ii,'.rda'))\n",
    "}"
   ]
  },
  {
   "cell_type": "code",
   "execution_count": null,
   "metadata": {},
   "outputs": [],
   "source": []
  }
 ],
 "metadata": {
  "kernelspec": {
   "display_name": "R",
   "language": "R",
   "name": "ir"
  },
  "language_info": {
   "codemirror_mode": "r",
   "file_extension": ".r",
   "mimetype": "text/x-r-source",
   "name": "R",
   "pygments_lexer": "r",
   "version": "3.5.1"
  }
 },
 "nbformat": 4,
 "nbformat_minor": 2
}
