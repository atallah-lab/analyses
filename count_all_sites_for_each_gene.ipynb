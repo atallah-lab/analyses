{
 "cells": [
  {
   "cell_type": "code",
   "execution_count": 1,
   "metadata": {},
   "outputs": [
    {
     "name": "stderr",
     "output_type": "stream",
     "text": [
      "Warning message in dir.create(\"./data/gene_counts_all/\"):\n",
      "“'./data/gene_counts_all' already exists”\n"
     ]
    }
   ],
   "source": [
    "library(data.table)\n",
    "for (i in c(1:22,'X','Y')){ # Load L1 target site annotation files\n",
    "        load(paste0('./data/l1_site_maps/chr',i,'.rda'))\n",
    "}\n",
    "load('./data/genes.rda') # Load gene annotation\n",
    "dir.create('./data/gene_counts_all/')\n",
    "outPath <- './data/gene_counts_all/out'"
   ]
  },
  {
   "cell_type": "code",
   "execution_count": 2,
   "metadata": {},
   "outputs": [
    {
     "name": "stdout",
     "output_type": "stream",
     "text": [
      "    user   system  elapsed \n",
      "9644.937   42.246 1230.438 \n",
      "    user   system  elapsed \n",
      "6514.508   23.141  842.094 \n",
      "    user   system  elapsed \n",
      "4965.483   16.659  623.654 \n",
      "    user   system  elapsed \n",
      "3549.484   12.192  446.238 \n",
      "    user   system  elapsed \n",
      "3789.950   14.076  472.642 \n",
      "    user   system  elapsed \n",
      "4286.813   13.196  525.401 \n",
      "    user   system  elapsed \n",
      "3390.679    9.112  407.518 \n",
      "    user   system  elapsed \n",
      "2412.262    6.249  286.070 \n",
      "    user   system  elapsed \n",
      "2328.261    6.791  263.862 \n",
      "    user   system  elapsed \n",
      "2350.973    6.114  269.772 \n",
      "    user   system  elapsed \n",
      "4111.373   10.883  473.121 \n",
      "    user   system  elapsed \n",
      "3443.302    8.203  398.773 \n",
      "   user  system elapsed \n",
      "947.218   2.173 105.772 \n",
      "    user   system  elapsed \n",
      "1524.332    4.161  164.002 \n",
      "    user   system  elapsed \n",
      "1341.646    4.439  141.480 \n",
      "    user   system  elapsed \n",
      "1676.755    5.019  171.255 \n",
      "    user   system  elapsed \n",
      "2316.224    5.943  232.485 \n",
      "   user  system elapsed \n",
      "637.485   1.832  68.222 \n",
      "    user   system  elapsed \n",
      "1913.695    6.067  176.458 \n",
      "   user  system elapsed \n",
      "897.358   3.433  89.340 \n",
      "   user  system elapsed \n",
      "327.927   1.248  30.863 \n",
      "   user  system elapsed \n",
      "448.572   1.383  38.505 \n",
      "    user   system  elapsed \n",
      "3194.696    9.303  379.764 \n",
      "   user  system elapsed \n",
      " 45.144   0.169   3.885 \n"
     ]
    }
   ],
   "source": [
    "for (ii in c(1:22,'X','Y')){ # Loop over chromosomes\n",
    "\n",
    "    ptm <- proc.time()\n",
    "    line <- paste0('######## Chromosome ',ii,' #########\\n')\n",
    "    write(line,file=paste0(outPath,'.log'),append=TRUE)\n",
    "    \n",
    "    map<-get(paste0('chr',ii,'Map')) # Get the L1 target site annotation for the current chromosome\n",
    "    ict<-    map[[2]]\n",
    "    icl<-    map[[3]]\n",
    "    iot<-    map[[4]]\n",
    "    iol<-    map[[5]]\n",
    "    insites<-map[[1]]\n",
    "\n",
    "    tmp_chrom <- genes[genes$chrom==ii,] # Extract genes entries for current chromosome\n",
    "    currGenes <- unique(tmp_chrom$gene_id) # Get list of genes in current chromosome\n",
    "    numCurrGenes <- length(currGenes) # Get length of the list\n",
    "    counts <-  array(NA,dim=c(numCurrGenes,4)) # Allocate matrix for counts\n",
    "    gnames <- array(NA,dim=c(numCurrGenes,1))\n",
    "    lens <- array(NA,dim=c(numCurrGenes,1))\n",
    "    l<-1\n",
    "\n",
    "    for (jj in currGenes) { # Loop over genes of current chromosome\n",
    "\n",
    "        line <- paste0('gene ',l,'/',numCurrGenes,' for ',ii,':\\t',jj)\n",
    "        write(line,file=paste0(outPath,'.log'),append=TRUE)\n",
    "        \n",
    "        # count sites in current gene\n",
    "        tmp_gene <- tmp_chrom[tmp_chrom$gene_id==jj,] # Extract genes entries for current gene\n",
    "\n",
    "        sen        <-inrange(insites[ict[!is.na(ict[,1]),1],1],tmp_gene$start,tmp_gene$end) # Check if any Closed-Tight category sites are within the start-end range of tmp_gene\n",
    "        antisen    <-inrange(insites[ict[!is.na(ict[,2]),2],2],tmp_gene$start,tmp_gene$end)\n",
    "        counts[l,1]<-length(which(sen)) + length(which(antisen))                            # Fill an element of the counts table\n",
    "\n",
    "        sen        <-inrange(insites[icl[!is.na(icl[,1]),1],1],tmp_gene$start,tmp_gene$end)\n",
    "        antisen    <-inrange(insites[icl[!is.na(icl[,2]),2],2],tmp_gene$start,tmp_gene$end)\n",
    "        counts[l,2]<-length(which(sen)) + length(which(antisen))\n",
    "\n",
    "        sen        <-inrange(insites[iot[!is.na(iot[,1]),1],1],tmp_gene$start,tmp_gene$end)\n",
    "        antisen    <-inrange(insites[iot[!is.na(iot[,2]),2],2],tmp_gene$start,tmp_gene$end)\n",
    "        counts[l,3]<-length(which(sen)) + length(which(antisen))\n",
    "\n",
    "        sen        <-inrange(insites[iol[!is.na(iol[,1]),1],1],tmp_gene$start,tmp_gene$end)\n",
    "        antisen    <-inrange(insites[iol[!is.na(iol[,2]),2],2],tmp_gene$start,tmp_gene$end)\n",
    "        counts[l,4]<-length(which(sen)) + length(which(antisen))\n",
    "\n",
    "        gnames[l] <- jj\n",
    "        lens[l] <- tmp_gene$end-tmp_gene$start\n",
    "\n",
    "        l <- l+1\n",
    "\n",
    "    }\n",
    "    print(proc.time() - ptm)\n",
    "    save(counts, gnames, lens, file=paste0(outPath,ii,'.rda'))\n",
    "}"
   ]
  },
  {
   "cell_type": "code",
   "execution_count": null,
   "metadata": {},
   "outputs": [],
   "source": []
  }
 ],
 "metadata": {
  "kernelspec": {
   "display_name": "R",
   "language": "R",
   "name": "ir"
  },
  "language_info": {
   "codemirror_mode": "r",
   "file_extension": ".r",
   "mimetype": "text/x-r-source",
   "name": "R",
   "pygments_lexer": "r",
   "version": "3.6.1"
  }
 },
 "nbformat": 4,
 "nbformat_minor": 2
}
