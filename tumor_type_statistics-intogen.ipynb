{
 "cells": [
  {
   "cell_type": "code",
   "execution_count": 22,
   "metadata": {},
   "outputs": [],
   "source": [
    "library(data.table)\n",
    "library(GenomicRanges)\n",
    "library(org.Hs.eg.db)\n",
    "for (i in c(1:22,'X','Y')){ # load all chromosome map files\n",
    "        load(paste0('./data/large_files/chr',i,'.rda'))\n",
    "}\n",
    "load('./data/exons.rda')\n",
    "load('./data/genes.rda')\n",
    "load('./data/exonicvsnon_counts.rda')\n",
    "weights <- read.csv('./data/snap_velcro_weights.csv')\n",
    "weights <- weights[7,2:5]"
   ]
  },
  {
   "cell_type": "code",
   "execution_count": 23,
   "metadata": {},
   "outputs": [],
   "source": [
    "get_drivers <- function(gene_file) {\n",
    "    geneList <- read.csv(paste0('~/jackgl/',gene_file),header=F)\n",
    "    geneList <- geneList$V1\n",
    "    print(genes[genes$gene_id %in% geneList])\n",
    "    geneList <- genes[genes$gene_id %in% geneList]$gene_sym\n",
    "    return(geneList)\n",
    "}"
   ]
  },
  {
   "cell_type": "code",
   "execution_count": 24,
   "metadata": {},
   "outputs": [
    {
     "name": "stdout",
     "output_type": "stream",
     "text": [
      "    chrom     start       end         gene_id gene_sym   gene_biotype    len\n",
      " 1:    10  87863113  87971930 ENSG00000171862     PTEN protein_coding 108817\n",
      " 2:    11 118436464 118526832 ENSG00000118058    KMT2A protein_coding  90368\n",
      " 3:    13  48303726  48599436 ENSG00000139687      RB1 protein_coding 295710\n",
      " 4:    16   3725054   3880726 ENSG00000005339   CREBBP protein_coding 155672\n",
      " 5:    17   7661779   7687550 ENSG00000141510     TP53 protein_coding  25771\n",
      " 6:     2  88556741  88627576 ENSG00000172071  EIF2AK3 protein_coding  70835\n",
      " 7:    22  41091786  41180079 ENSG00000100393    EP300 protein_coding  88293\n",
      " 8:     3 142449235 142578826 ENSG00000175054      ATR protein_coding 129591\n",
      " 9:     4 186587783 186726722 ENSG00000083857     FAT1 protein_coding 138939\n",
      "10:     7  81699008  81770438 ENSG00000019991      HGF protein_coding  71430\n",
      "11:     7 152134922 152436005 ENSG00000055609    KMT2C protein_coding 301083\n",
      "12:     9  16409503  16870843 ENSG00000173068     BNC2 protein_coding 461340\n",
      "13:     9 136494433 136545786 ENSG00000148400   NOTCH1 protein_coding  51353\n",
      "14:     X  64185117  64205744 ENSG00000184675    AMER1 protein_coding  20627\n"
     ]
    }
   ],
   "source": [
    "geneList_lung <- get_drivers('drivers_sclc.txt')"
   ]
  },
  {
   "cell_type": "code",
   "execution_count": 25,
   "metadata": {},
   "outputs": [
    {
     "name": "stdout",
     "output_type": "stream",
     "text": [
      "   chrom     start       end         gene_id gene_sym   gene_biotype    len\n",
      "1:    10 112950250 113167678 ENSG00000148737   TCF7L2 protein_coding 217428\n",
      "2:    17   7661779   7687550 ENSG00000141510     TP53 protein_coding  25771\n",
      "3:    18  47808957  47931146 ENSG00000175387    SMAD2 protein_coding 122189\n",
      "4:    18  51028394  51085045 ENSG00000141646    SMAD4 protein_coding  56651\n",
      "5:     4 152320544 152536063 ENSG00000109670    FBXW7 protein_coding 215519\n",
      "6:     5 112707498 112846239 ENSG00000134982      APC protein_coding 138741\n",
      "7:     X  64185117  64205744 ENSG00000184675    AMER1 protein_coding  20627\n"
     ]
    }
   ],
   "source": [
    "geneList_colon <- get_drivers('drivers_coread.txt')"
   ]
  },
  {
   "cell_type": "code",
   "execution_count": 26,
   "metadata": {},
   "outputs": [
    {
     "name": "stdout",
     "output_type": "stream",
     "text": [
      "   chrom    start      end         gene_id gene_sym   gene_biotype    len\n",
      "1:    10 87863113 87971930 ENSG00000171862     PTEN protein_coding 108817\n",
      "2:    13 48303726 48599436 ENSG00000139687      RB1 protein_coding 295710\n",
      "3:    17  7661779  7687550 ENSG00000141510     TP53 protein_coding  25771\n",
      "4:    17 31094927 31382116 ENSG00000196712      NF1 protein_coding 287189\n",
      "5:     5 68215720 68301821 ENSG00000145675   PIK3R1 protein_coding  86101\n"
     ]
    }
   ],
   "source": [
    "geneList_brain <- get_drivers('drivers_gbm.txt')"
   ]
  },
  {
   "cell_type": "code",
   "execution_count": 27,
   "metadata": {},
   "outputs": [
    {
     "name": "stdout",
     "output_type": "stream",
     "text": [
      "Genes not in annotation\n",
      "\n",
      "Lung:"
     ]
    },
    {
     "data": {
      "text/html": [],
      "text/latex": [],
      "text/markdown": [],
      "text/plain": [
       "character(0)"
      ]
     },
     "metadata": {},
     "output_type": "display_data"
    },
    {
     "name": "stdout",
     "output_type": "stream",
     "text": [
      "Colon:"
     ]
    },
    {
     "data": {
      "text/html": [],
      "text/latex": [],
      "text/markdown": [],
      "text/plain": [
       "character(0)"
      ]
     },
     "metadata": {},
     "output_type": "display_data"
    },
    {
     "name": "stdout",
     "output_type": "stream",
     "text": [
      "Brain:"
     ]
    },
    {
     "data": {
      "text/html": [],
      "text/latex": [],
      "text/markdown": [],
      "text/plain": [
       "character(0)"
      ]
     },
     "metadata": {},
     "output_type": "display_data"
    }
   ],
   "source": [
    "cat('Genes not in annotation\\n\\n')\n",
    "cat('Lung:')\n",
    "geneList_lung[!(geneList_lung %in% genes$gene_sym)]\n",
    "cat('Colon:')\n",
    "geneList_colon[!(geneList_colon %in% genes$gene_sym)]\n",
    "cat('Brain:')\n",
    "geneList_brain[!(geneList_brain %in% genes$gene_sym)]"
   ]
  },
  {
   "cell_type": "code",
   "execution_count": 28,
   "metadata": {},
   "outputs": [],
   "source": [
    "# This function will count the number of L1 target sites in the provided ranges (assumed to be exonic) (columns 1-4),\n",
    "# in other exonic ranges (col 5-8), and outside of exonic ranges (col 9-12)\n",
    "count_in_ranges <- function(exon_ranges,counts_dipl) {\n",
    "    \n",
    "    counts <-  array(0,dim=c(24,12)) # Allocate matrix for counts\n",
    "\n",
    "    #--- Loop through chromosome names\n",
    "    j<-1 # chromosome counter\n",
    "    for (i in c(1:22,'X','Y')){\n",
    "\n",
    "        # If the chromosome is Y and the supplied diploid genome counts are for female genome, leave the \n",
    "        # counts at 0\n",
    "        if (i=='Y' && sum(counts_dipl[24,])==0) {next}\n",
    "\n",
    "        # Data objects containing indices of S-V sites for each category are labeled with the chromosome name.\n",
    "        # Here we copy the data objects to a set of variables with generic names which can be used consistently \n",
    "        # in the loop. \n",
    "        map<-get(paste0('chr',i,'Map')) # Get the site map data for the current chrom\n",
    "        ict<-    map[[2]]\n",
    "        icl<-    map[[3]]\n",
    "        iot<-    map[[4]]\n",
    "        iol<-    map[[5]]\n",
    "        insites<-map[[1]] \n",
    "\n",
    "################################################\n",
    "        # Count in exon_ranges for current chromosome (columns 1-4)\n",
    "        ann_i <- exon_ranges[exon_ranges$chrom == i,]\n",
    "\n",
    "        sen        <-inrange(insites[ict[!is.na(ict[,1]),1],1],ann_i$start,ann_i$end) # Check if any Closed-Tight category sites are within the start-end range of ann_i\n",
    "        antisen    <-inrange(insites[ict[!is.na(ict[,2]),2],2],ann_i$start,ann_i$end) \n",
    "        counts[j,1]<-length(which(sen)) + length(which(antisen))                      # Fill an element of the counts table with the count\n",
    "\n",
    "        sen        <-inrange(insites[icl[!is.na(icl[,1]),1],1],ann_i$start,ann_i$end) \n",
    "        antisen    <-inrange(insites[icl[!is.na(icl[,2]),2],2],ann_i$start,ann_i$end)\n",
    "        counts[j,2]<-length(which(sen)) + length(which(antisen))\n",
    "\n",
    "        sen        <-inrange(insites[iot[!is.na(iot[,1]),1],1],ann_i$start,ann_i$end) \n",
    "        antisen    <-inrange(insites[iot[!is.na(iot[,2]),2],2],ann_i$start,ann_i$end)\n",
    "        counts[j,3]<-length(which(sen)) + length(which(antisen))\n",
    "\n",
    "        sen        <-inrange(insites[iol[!is.na(iol[,1]),1],1],ann_i$start,ann_i$end) \n",
    "        antisen    <-inrange(insites[iol[!is.na(iol[,2]),2],2],ann_i$start,ann_i$end)\n",
    "        counts[j,4]<-length(which(sen)) + length(which(antisen)) \n",
    "\n",
    "        # Double the counts if necessary, to account for diploid genome\n",
    "        if (i %in% c('X','Y') & sum(counts_dipl[24,])!=0) { # If the chrom. is X or Y and genome male, do nothing\n",
    "        \n",
    "        } else {\n",
    "            counts[j,1:4] <- counts[j,1:4]*2\n",
    "        }\n",
    "\n",
    "################################################\n",
    "        # Count in the remaining exonic regions, using counts_dipl (generated by analyses/count_sites_exonicvsnon.ipynb)\n",
    "\n",
    "        counts[j,5]<-(counts_dipl[j,1])-counts[j,1]\n",
    "        counts[j,6]<-(counts_dipl[j,2])-counts[j,2]\n",
    "        counts[j,7]<-(counts_dipl[j,3])-counts[j,3]\n",
    "        counts[j,8]<-(counts_dipl[j,4])-counts[j,4]\n",
    "\n",
    "################################################\n",
    "        # Count outside of exonic ranges for current chromosome (columns 9-12)\n",
    "\n",
    "        if (i %in% c('X','Y') && sum(counts_dipl[24,])!=0) { # If X or Y chrom and male genome, don't double count\n",
    "            counts[j,9]   <- length(which(!is.na(as.vector(ict)))) - counts[j,1] - counts[j,5]\n",
    "            counts[j,10]  <- length(which(!is.na(as.vector(icl)))) - counts[j,2] - counts[j,6]\n",
    "            counts[j,11]  <- length(which(!is.na(as.vector(iot)))) - counts[j,3] - counts[j,7]\n",
    "            counts[j,12]  <- length(which(!is.na(as.vector(iol)))) - counts[j,4] - counts[j,8]\n",
    "        } else if (i == 'Y' && sum(counts_dipl[24,]==0)) { # If Y and female genome, don't count any\n",
    "            counts[j,9:12] <- 0\n",
    "        } else { # Else, double counts\n",
    "            counts[j,9]   <- length(which(!is.na(as.vector(ict))))*2 - counts[j,1] - counts[j,5]\n",
    "            counts[j,10]  <- length(which(!is.na(as.vector(icl))))*2 - counts[j,2] - counts[j,6]\n",
    "            counts[j,11]  <- length(which(!is.na(as.vector(iot))))*2 - counts[j,3] - counts[j,7]\n",
    "            counts[j,12]  <- length(which(!is.na(as.vector(iol))))*2 - counts[j,4] - counts[j,8]\n",
    "        }\n",
    "        \n",
    "        \n",
    "        j<-j+1\n",
    "    }\n",
    "    colnames(counts) <- c('ct_sub','cl_sub','ot_sub','ol_sub','ct_rest','cl_rest','ot_rest','ol_rest','ct_outrange','cl_outrange','ot_outrange','ol_outrange')\n",
    "    rownames(counts) <- paste0('chr',c(1:22,'X','Y'))\n",
    "    return(counts)\n",
    "}"
   ]
  },
  {
   "cell_type": "code",
   "execution_count": 29,
   "metadata": {},
   "outputs": [],
   "source": [
    "get_prob_dist <- function(counts_matrix, exon_ranges) {\n",
    "    \n",
    "    if (sum(counts_matrix[24,])==0) {gend='f'} \n",
    "    else {gend='m'}\n",
    "    counts_matrix <- colSums(counts_matrix)\n",
    "    probs_ENd <- rep(0,3)\n",
    "    for (i in 1:3){\n",
    "        probs_ENd[i] = weights$closed_tight*counts_matrix[(i-1)*4+1] + \n",
    "                       weights$closed_loose*counts_matrix[(i-1)*4+2] + \n",
    "                       weights$open_tight*counts_matrix[(i-1)*4+3] + \n",
    "                       weights$open_loose*counts_matrix[(i-1)*4+4]\n",
    "    }\n",
    "    probs_ENd <- probs_ENd/sum(probs_ENd)\n",
    "    probs_ENd\n",
    "    \n",
    "    probs_ENi <- rep(0,3)\n",
    "    if (gend=='f') { # If female genome, double all sizes\n",
    "        \n",
    "        target_size <- sum(exon_ranges$end[exon_ranges$chrom!='Y']-exon_ranges$start[exon_ranges$chrom!='Y'])*2\n",
    "        exons_size <- sum(lens[1:23,1]*2)\n",
    "        genome_size <- sum(lens[1:23,2]*2)\n",
    "        \n",
    "    } else { # If male genome, double sizes only for chroms. 1-22\n",
    "        \n",
    "        target_size <- sum(exon_ranges$end[exon_ranges$chrom %in% c('X','Y')]-exon_ranges$start[exon_ranges$chrom %in% c('X','Y')])\n",
    "        target_size <- target_size + sum(exon_ranges$end[!(exon_ranges$chrom %in% c('X','Y'))]\n",
    "                                         -exon_ranges$start[!(exon_ranges$chrom %in% c('X','Y'))])*2\n",
    "        \n",
    "        exons_size <-  sum(lens[1:22,1]*2)+sum(lens[23:24,1])\n",
    "        genome_size <- sum(lens[1:22,2]*2)+sum(lens[23:24,2])\n",
    "    }\n",
    "    \n",
    "    probs_ENi[1] <- target_size/genome_size # Chance of target mutation\n",
    "    probs_ENi[2] <- (exons_size-target_size)/genome_size # Chance of passenger mutation\n",
    "    probs_ENi[3] <- (genome_size - exons_size)/genome_size # Chance of null mutation\n",
    "    \n",
    "    pd <- (.9*probs_ENd)+(0.1*probs_ENi) # Assuming 0.9 probability that insertion will be ENd and 0.1 for ENi\n",
    "    pd <- pd/sum(pd)\n",
    "    return(pd)\n",
    "    \n",
    "}"
   ]
  },
  {
   "cell_type": "code",
   "execution_count": 32,
   "metadata": {},
   "outputs": [],
   "source": [
    "get_stats <- function(driver_list) {\n",
    "\n",
    "    # Here we find the exonic ranges for the gene list of the current cancer, and take the union of any overlapping exonic ranges\n",
    "    driver_exons <- exons[exons$gene_sym %in% driver_list,]\n",
    "\n",
    "    driver_exons <- GRanges(driver_exons$chrom,IRanges(driver_exons$start,driver_exons$end))\n",
    "    driver_exons <- reduce(driver_exons)\n",
    "    driver_exons <- data.table(chrom=as.vector(seqnames(driver_exons)),start=start(driver_exons),end=end(driver_exons))\n",
    "\n",
    "    counts_m <- count_in_ranges(driver_exons,counts_dipl_m)\n",
    "    # head(counts_m)\n",
    "    counts_f <- count_in_ranges(driver_exons,counts_dipl_f)\n",
    "    # head(counts_f)\n",
    "\n",
    "    cat('Male driver to passenger site count ratio (unweighted)\\n')\n",
    "    print(sum(rowSums(counts_m[,1:4]))/sum(rowSums(counts_m[,5:8])))\n",
    "    cat('Female driver to passenger site count ratio (unweighted)\\n')\n",
    "    print(sum(rowSums(counts_f[,1:4]))/sum(rowSums(counts_f[,5:8])))\n",
    "\n",
    "    counts_m<-counts_m\n",
    "    counts_f<-counts_f\n",
    "\n",
    "    pd_m <- get_prob_dist(counts_m,driver_exons)\n",
    "    cat('Male probabilities of driver, passenger and null L1 insertion (per L1 insertion)\\n')\n",
    "    print(pd_m)\n",
    "    pd_f <- get_prob_dist(counts_f,driver_exons)\n",
    "    cat('Female probabilities of driver, passenger and null L1 insertion\\n')\n",
    "    print(pd_f)\n",
    "    \n",
    "    return(list(pd_m, pd_f))\n",
    "}"
   ]
  },
  {
   "cell_type": "markdown",
   "metadata": {},
   "source": [
    "## Lung cancer"
   ]
  },
  {
   "cell_type": "code",
   "execution_count": 34,
   "metadata": {},
   "outputs": [
    {
     "name": "stdout",
     "output_type": "stream",
     "text": [
      "Sample of associated drivers:"
     ]
    },
    {
     "data": {
      "text/html": [
       "<ol class=list-inline>\n",
       "\t<li>'PTEN'</li>\n",
       "\t<li>'KMT2A'</li>\n",
       "\t<li>'RB1'</li>\n",
       "\t<li>'CREBBP'</li>\n",
       "\t<li>'TP53'</li>\n",
       "\t<li>'EIF2AK3'</li>\n",
       "</ol>\n"
      ],
      "text/latex": [
       "\\begin{enumerate*}\n",
       "\\item 'PTEN'\n",
       "\\item 'KMT2A'\n",
       "\\item 'RB1'\n",
       "\\item 'CREBBP'\n",
       "\\item 'TP53'\n",
       "\\item 'EIF2AK3'\n",
       "\\end{enumerate*}\n"
      ],
      "text/markdown": [
       "1. 'PTEN'\n",
       "2. 'KMT2A'\n",
       "3. 'RB1'\n",
       "4. 'CREBBP'\n",
       "5. 'TP53'\n",
       "6. 'EIF2AK3'\n",
       "\n",
       "\n"
      ],
      "text/plain": [
       "[1] \"PTEN\"    \"KMT2A\"   \"RB1\"     \"CREBBP\"  \"TP53\"    \"EIF2AK3\""
      ]
     },
     "metadata": {},
     "output_type": "display_data"
    },
    {
     "name": "stdout",
     "output_type": "stream",
     "text": [
      "Male driver to passenger site count ratio (unweighted)\n",
      "[1] 0.002045646\n",
      "Female driver to passenger site count ratio (unweighted)\n",
      "[1] 0.002043483\n",
      "Male probabilities of driver, passenger and null L1 insertion (per L1 insertion)\n",
      "[1] 5.017602e-05 2.457912e-02 9.753707e-01\n",
      "Female probabilities of driver, passenger and null L1 insertion\n",
      "[1] 4.981933e-05 2.444584e-02 9.755043e-01\n"
     ]
    }
   ],
   "source": [
    "cat('Sample of associated drivers:')\n",
    "head(geneList_lung)\n",
    "out <- get_stats(geneList_lung)\n",
    "pd_lung_m <- out[[1]]\n",
    "pd_lung_f <- out[[2]]"
   ]
  },
  {
   "cell_type": "markdown",
   "metadata": {},
   "source": [
    "## Colon cancer"
   ]
  },
  {
   "cell_type": "code",
   "execution_count": 35,
   "metadata": {},
   "outputs": [
    {
     "name": "stdout",
     "output_type": "stream",
     "text": [
      "Sample of associated drivers:"
     ]
    },
    {
     "data": {
      "text/html": [
       "<ol class=list-inline>\n",
       "\t<li>'TCF7L2'</li>\n",
       "\t<li>'TP53'</li>\n",
       "\t<li>'SMAD2'</li>\n",
       "\t<li>'SMAD4'</li>\n",
       "\t<li>'FBXW7'</li>\n",
       "\t<li>'APC'</li>\n",
       "</ol>\n"
      ],
      "text/latex": [
       "\\begin{enumerate*}\n",
       "\\item 'TCF7L2'\n",
       "\\item 'TP53'\n",
       "\\item 'SMAD2'\n",
       "\\item 'SMAD4'\n",
       "\\item 'FBXW7'\n",
       "\\item 'APC'\n",
       "\\end{enumerate*}\n"
      ],
      "text/markdown": [
       "1. 'TCF7L2'\n",
       "2. 'TP53'\n",
       "3. 'SMAD2'\n",
       "4. 'SMAD4'\n",
       "5. 'FBXW7'\n",
       "6. 'APC'\n",
       "\n",
       "\n"
      ],
      "text/plain": [
       "[1] \"TCF7L2\" \"TP53\"   \"SMAD2\"  \"SMAD4\"  \"FBXW7\"  \"APC\"   "
      ]
     },
     "metadata": {},
     "output_type": "display_data"
    },
    {
     "name": "stdout",
     "output_type": "stream",
     "text": [
      "Male driver to passenger site count ratio (unweighted)\n",
      "[1] 0.001202801\n",
      "Female driver to passenger site count ratio (unweighted)\n",
      "[1] 0.001215079\n",
      "Male probabilities of driver, passenger and null L1 insertion (per L1 insertion)\n",
      "[1] 3.032403e-05 2.459897e-02 9.753707e-01\n",
      "Female probabilities of driver, passenger and null L1 insertion\n",
      "[1] 3.040437e-05 2.446525e-02 9.755043e-01\n"
     ]
    }
   ],
   "source": [
    "cat('Sample of associated drivers:')\n",
    "head(geneList_colon)\n",
    "out <- get_stats(geneList_colon)\n",
    "pd_colon_m <- out[[1]]\n",
    "pd_colon_f <- out[[2]]"
   ]
  },
  {
   "cell_type": "markdown",
   "metadata": {},
   "source": [
    "## Brain cancer"
   ]
  },
  {
   "cell_type": "code",
   "execution_count": 36,
   "metadata": {},
   "outputs": [
    {
     "name": "stdout",
     "output_type": "stream",
     "text": [
      "Sample of associated drivers:"
     ]
    },
    {
     "data": {
      "text/html": [
       "<ol class=list-inline>\n",
       "\t<li>'PTEN'</li>\n",
       "\t<li>'RB1'</li>\n",
       "\t<li>'TP53'</li>\n",
       "\t<li>'NF1'</li>\n",
       "\t<li>'PIK3R1'</li>\n",
       "</ol>\n"
      ],
      "text/latex": [
       "\\begin{enumerate*}\n",
       "\\item 'PTEN'\n",
       "\\item 'RB1'\n",
       "\\item 'TP53'\n",
       "\\item 'NF1'\n",
       "\\item 'PIK3R1'\n",
       "\\end{enumerate*}\n"
      ],
      "text/markdown": [
       "1. 'PTEN'\n",
       "2. 'RB1'\n",
       "3. 'TP53'\n",
       "4. 'NF1'\n",
       "5. 'PIK3R1'\n",
       "\n",
       "\n"
      ],
      "text/plain": [
       "[1] \"PTEN\"   \"RB1\"    \"TP53\"   \"NF1\"    \"PIK3R1\""
      ]
     },
     "metadata": {},
     "output_type": "display_data"
    },
    {
     "name": "stdout",
     "output_type": "stream",
     "text": [
      "Male driver to passenger site count ratio (unweighted)\n",
      "[1] 0.0009180281\n",
      "Female driver to passenger site count ratio (unweighted)\n",
      "[1] 0.0009022759\n",
      "Male probabilities of driver, passenger and null L1 insertion (per L1 insertion)\n",
      "[1] 2.295825e-05 2.460633e-02 9.753707e-01\n",
      "Female probabilities of driver, passenger and null L1 insertion\n",
      "[1] 2.244402e-05 2.447321e-02 9.755043e-01\n"
     ]
    }
   ],
   "source": [
    "cat('Sample of associated drivers:')\n",
    "head(geneList_brain)\n",
    "out <- get_stats(geneList_brain)\n",
    "pd_brain_m <- out[[1]]\n",
    "pd_brain_f <- out[[2]]"
   ]
  },
  {
   "cell_type": "code",
   "execution_count": 37,
   "metadata": {},
   "outputs": [],
   "source": [
    "save(pd_lung_m,pd_lung_f,pd_colon_m,pd_colon_f,pd_brain_m,pd_brain_f,file='./data/tumor_type_pd_intogen.rda')\n",
    "save(geneList_lung,geneList_colon,geneList_brain,file='./data/tumor_type_driver_lists_intogen.rda')"
   ]
  },
  {
   "cell_type": "code",
   "execution_count": null,
   "metadata": {},
   "outputs": [],
   "source": []
  },
  {
   "cell_type": "code",
   "execution_count": null,
   "metadata": {},
   "outputs": [],
   "source": []
  },
  {
   "cell_type": "code",
   "execution_count": null,
   "metadata": {},
   "outputs": [],
   "source": []
  },
  {
   "cell_type": "code",
   "execution_count": null,
   "metadata": {},
   "outputs": [],
   "source": []
  },
  {
   "cell_type": "code",
   "execution_count": null,
   "metadata": {},
   "outputs": [],
   "source": []
  }
 ],
 "metadata": {
  "kernelspec": {
   "display_name": "R",
   "language": "R",
   "name": "ir"
  },
  "language_info": {
   "codemirror_mode": "r",
   "file_extension": ".r",
   "mimetype": "text/x-r-source",
   "name": "R",
   "pygments_lexer": "r",
   "version": "3.5.1"
  }
 },
 "nbformat": 4,
 "nbformat_minor": 2
}
