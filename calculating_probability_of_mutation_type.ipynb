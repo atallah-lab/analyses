{
 "cells": [
  {
   "cell_type": "code",
   "execution_count": 1,
   "metadata": {},
   "outputs": [
    {
     "name": "stderr",
     "output_type": "stream",
     "text": [
      "Loading required package: BSgenome\n",
      "Loading required package: BiocGenerics\n",
      "Loading required package: parallel\n",
      "\n",
      "Attaching package: ‘BiocGenerics’\n",
      "\n",
      "The following objects are masked from ‘package:parallel’:\n",
      "\n",
      "    clusterApply, clusterApplyLB, clusterCall, clusterEvalQ,\n",
      "    clusterExport, clusterMap, parApply, parCapply, parLapply,\n",
      "    parLapplyLB, parRapply, parSapply, parSapplyLB\n",
      "\n",
      "The following objects are masked from ‘package:stats’:\n",
      "\n",
      "    IQR, mad, sd, var, xtabs\n",
      "\n",
      "The following objects are masked from ‘package:base’:\n",
      "\n",
      "    anyDuplicated, append, as.data.frame, cbind, colMeans, colnames,\n",
      "    colSums, do.call, duplicated, eval, evalq, Filter, Find, get, grep,\n",
      "    grepl, intersect, is.unsorted, lapply, lengths, Map, mapply, match,\n",
      "    mget, order, paste, pmax, pmax.int, pmin, pmin.int, Position, rank,\n",
      "    rbind, Reduce, rowMeans, rownames, rowSums, sapply, setdiff, sort,\n",
      "    table, tapply, union, unique, unsplit, which, which.max, which.min\n",
      "\n",
      "Loading required package: S4Vectors\n",
      "Loading required package: stats4\n",
      "\n",
      "Attaching package: ‘S4Vectors’\n",
      "\n",
      "The following object is masked from ‘package:base’:\n",
      "\n",
      "    expand.grid\n",
      "\n",
      "Loading required package: IRanges\n",
      "Loading required package: GenomeInfoDb\n",
      "Loading required package: GenomicRanges\n",
      "Loading required package: Biostrings\n",
      "Loading required package: XVector\n",
      "\n",
      "Attaching package: ‘Biostrings’\n",
      "\n",
      "The following object is masked from ‘package:base’:\n",
      "\n",
      "    strsplit\n",
      "\n",
      "Loading required package: rtracklayer\n",
      "\n",
      "Attaching package: ‘data.table’\n",
      "\n",
      "The following object is masked from ‘package:GenomicRanges’:\n",
      "\n",
      "    shift\n",
      "\n",
      "The following object is masked from ‘package:IRanges’:\n",
      "\n",
      "    shift\n",
      "\n",
      "The following objects are masked from ‘package:S4Vectors’:\n",
      "\n",
      "    first, second\n",
      "\n"
     ]
    },
    {
     "name": "stdout",
     "output_type": "stream",
     "text": [
      "Loading...chr1\n"
     ]
    },
    {
     "name": "stderr",
     "output_type": "stream",
     "text": [
      "Warning message in readChar(con, 5L, useBytes = TRUE):\n",
      "“cannot open compressed file './sim-develop/data/root_maps/chr1.rda', probable reason 'No such file or directory'”"
     ]
    },
    {
     "ename": "ERROR",
     "evalue": "Error in readChar(con, 5L, useBytes = TRUE): cannot open the connection\n",
     "output_type": "error",
     "traceback": [
      "Error in readChar(con, 5L, useBytes = TRUE): cannot open the connection\nTraceback:\n",
      "1. load(paste0(\"./sim-develop/data/root_maps/\", i, \".rda\"))",
      "2. readChar(con, 5L, useBytes = TRUE)"
     ]
    }
   ],
   "source": [
    "library(BSgenome.Hsapiens.UCSC.hg38)\n",
    "library(data.table)\n",
    "for (i in names(Hsapiens)[1:24]){ # load all chromosome map files\n",
    "        cat(paste0('Loading...',i,'\\n'))\n",
    "        load(paste0('./sim-develop/data/root_maps/',i,'.rda'))\n",
    "}\n",
    "load('./sim-develop/data/exann.rda')"
   ]
  },
  {
   "cell_type": "code",
   "execution_count": 2,
   "metadata": {},
   "outputs": [
    {
     "data": {
      "text/html": [
       "<table>\n",
       "<thead><tr><th scope=col>chrom</th><th scope=col>start</th><th scope=col>end</th><th scope=col>gene_id</th><th scope=col>istsg</th><th scope=col>geneSym</th></tr></thead>\n",
       "<tbody>\n",
       "\t<tr><td>chr1     </td><td>11874    </td><td>12227    </td><td>100287102</td><td>0        </td><td>DDX11L1  </td></tr>\n",
       "\t<tr><td>chr1     </td><td>12595    </td><td>12721    </td><td>100287102</td><td>0        </td><td>DDX11L1  </td></tr>\n",
       "\t<tr><td>chr1     </td><td>13221    </td><td>16765    </td><td>100287102</td><td>0        </td><td>DDX11L1  </td></tr>\n",
       "\t<tr><td>chr1  </td><td>16854 </td><td>17055 </td><td>653635</td><td>0     </td><td>WASH7P</td></tr>\n",
       "\t<tr><td>chr1  </td><td>17233 </td><td>18061 </td><td>653635</td><td>0     </td><td>WASH7P</td></tr>\n",
       "\t<tr><td>chr1  </td><td>18268 </td><td>18379 </td><td>653635</td><td>0     </td><td>WASH7P</td></tr>\n",
       "</tbody>\n",
       "</table>\n"
      ],
      "text/latex": [
       "\\begin{tabular}{r|llllll}\n",
       " chrom & start & end & gene\\_id & istsg & geneSym\\\\\n",
       "\\hline\n",
       "\t chr1      & 11874     & 12227     & 100287102 & 0         & DDX11L1  \\\\\n",
       "\t chr1      & 12595     & 12721     & 100287102 & 0         & DDX11L1  \\\\\n",
       "\t chr1      & 13221     & 16765     & 100287102 & 0         & DDX11L1  \\\\\n",
       "\t chr1   & 16854  & 17055  & 653635 & 0      & WASH7P\\\\\n",
       "\t chr1   & 17233  & 18061  & 653635 & 0      & WASH7P\\\\\n",
       "\t chr1   & 18268  & 18379  & 653635 & 0      & WASH7P\\\\\n",
       "\\end{tabular}\n"
      ],
      "text/markdown": [
       "\n",
       "chrom | start | end | gene_id | istsg | geneSym | \n",
       "|---|---|---|---|---|---|\n",
       "| chr1      | 11874     | 12227     | 100287102 | 0         | DDX11L1   | \n",
       "| chr1      | 12595     | 12721     | 100287102 | 0         | DDX11L1   | \n",
       "| chr1      | 13221     | 16765     | 100287102 | 0         | DDX11L1   | \n",
       "| chr1   | 16854  | 17055  | 653635 | 0      | WASH7P | \n",
       "| chr1   | 17233  | 18061  | 653635 | 0      | WASH7P | \n",
       "| chr1   | 18268  | 18379  | 653635 | 0      | WASH7P | \n",
       "\n",
       "\n"
      ],
      "text/plain": [
       "  chrom start end   gene_id   istsg geneSym\n",
       "1 chr1  11874 12227 100287102 0     DDX11L1\n",
       "2 chr1  12595 12721 100287102 0     DDX11L1\n",
       "3 chr1  13221 16765 100287102 0     DDX11L1\n",
       "4 chr1  16854 17055 653635    0     WASH7P \n",
       "5 chr1  17233 18061 653635    0     WASH7P \n",
       "6 chr1  18268 18379 653635    0     WASH7P "
      ]
     },
     "metadata": {},
     "output_type": "display_data"
    }
   ],
   "source": [
    "head(exann)"
   ]
  },
  {
   "cell_type": "code",
   "execution_count": 36,
   "metadata": {},
   "outputs": [],
   "source": [
    "counts <-  array(0,dim=c(24,12)) # Allocate memory\n",
    "\n",
    "#--- Loop through chromosome names\n",
    "j<-1 # chromosome counter\n",
    "for (i in names(Hsapiens)[1:24]){\n",
    "\n",
    "\n",
    "        # Data objects containing indices of S-V sites for each category are labeled with the chromosome name.\n",
    "        # Here we copy the data objects to a set of variables with generic names which can be used consistently \n",
    "        # in the loop. \n",
    "        map<-get(paste0(i,'Map')) # Get the site map data for the current chrom\n",
    "        ict<-    map[[2]]\n",
    "        icl<-    map[[3]]\n",
    "        iot<-    map[[4]]\n",
    "        iol<-    map[[5]]\n",
    "        insites<-map[[1]]\n",
    "\n",
    "################################################\n",
    "        # count in TSG exons for current chromosome (columns 1-4)\n",
    "        ann_i <- exann[exann$chrom == i & exann$istsg==1,]\n",
    "    \n",
    "        sen        <-inrange(insites[ict[!is.na(ict[,1]),1],1],ann_i$start,ann_i$end) # Check if any Closed-Tight category sites are within the start-end range of ann_i\n",
    "        antisen    <-inrange(insites[ict[!is.na(ict[,2]),2],2],ann_i$start,ann_i$end) \n",
    "        counts[j,1]<-length(which(sen)) + length(which(antisen))               # Fill an element of the counts table with the count\n",
    "        \n",
    "        sen        <-inrange(insites[icl[!is.na(icl[,1]),1],1],ann_i$start,ann_i$end) \n",
    "        antisen    <-inrange(insites[icl[!is.na(icl[,2]),2],2],ann_i$start,ann_i$end)\n",
    "        counts[j,2]<-length(which(sen)) + length(which(antisen))\n",
    "        \n",
    "        sen        <-inrange(insites[iot[!is.na(iot[,1]),1],1],ann_i$start,ann_i$end) \n",
    "        antisen    <-inrange(insites[iot[!is.na(iot[,2]),2],2],ann_i$start,ann_i$end)\n",
    "        counts[j,3]<-length(which(sen)) + length(which(antisen))\n",
    "        \n",
    "        sen        <-inrange(insites[iol[!is.na(iol[,1]),1],1],ann_i$start,ann_i$end) \n",
    "        antisen    <-inrange(insites[iol[!is.na(iol[,2]),2],2],ann_i$start,ann_i$end)\n",
    "        counts[j,4]<-length(which(sen)) + length(which(antisen))  \n",
    "\n",
    "################################################\n",
    "        # count in non-TSG exons for current chromosome (columns 5-8)\n",
    "        ann_i <- exann[exann$chrom == i & exann$istsg==0,] # only difference from last block is setting exann$istsg==0 here (and different columns of 'counts')\n",
    "\n",
    "        sen        <-inrange(insites[ict[!is.na(ict[,1]),1],1],ann_i$start,ann_i$end) # Check if any Closed-Tight category sites are within the start-end range of ann_i\n",
    "        antisen    <-inrange(insites[ict[!is.na(ict[,2]),2],2],ann_i$start,ann_i$end) \n",
    "        counts[j,5]<-length(which(sen)) + length(which(antisen))                      # Fill an element of the counts table with the count\n",
    "        \n",
    "        sen        <-inrange(insites[icl[!is.na(icl[,1]),1],1],ann_i$start,ann_i$end) \n",
    "        antisen    <-inrange(insites[icl[!is.na(icl[,2]),2],2],ann_i$start,ann_i$end)\n",
    "        counts[j,6]<-length(which(sen)) + length(which(antisen))\n",
    "        \n",
    "        sen        <-inrange(insites[iot[!is.na(iot[,1]),1],1],ann_i$start,ann_i$end) \n",
    "        antisen    <-inrange(insites[iot[!is.na(iot[,2]),2],2],ann_i$start,ann_i$end)\n",
    "        counts[j,7]<-length(which(sen)) + length(which(antisen))\n",
    "        \n",
    "        sen        <-inrange(insites[iol[!is.na(iol[,1]),1],1],ann_i$start,ann_i$end) \n",
    "        antisen    <-inrange(insites[iol[!is.na(iol[,2]),2],2],ann_i$start,ann_i$end)\n",
    "        counts[j,8]<-length(which(sen)) + length(which(antisen))  \n",
    "    \n",
    "################################################\n",
    "        # count in non-exons for current chromosome (columns 9-12)\n",
    "        \n",
    "        counts[j,9]   <- length(which(!is.na(as.vector(ict)))) - counts[j,1] - counts[j,5]\n",
    "        counts[j,10]  <- length(which(!is.na(as.vector(icl)))) - counts[j,2] - counts[j,6]\n",
    "        counts[j,11]  <- length(which(!is.na(as.vector(iot)))) - counts[j,3] - counts[j,7]\n",
    "        counts[j,12]  <- length(which(!is.na(as.vector(iol)))) - counts[j,4] - counts[j,8]\n",
    "    \n",
    "        j<-j+1\n",
    "        rm('sen','antisen')\n",
    "}"
   ]
  },
  {
   "cell_type": "code",
   "execution_count": 37,
   "metadata": {},
   "outputs": [
    {
     "data": {
      "text/html": [
       "<table>\n",
       "<tbody>\n",
       "\t<tr><td>2713    </td><td>5472    </td><td>11420   </td><td>39432   </td><td>46985   </td><td>105613  </td><td>228957  </td><td>812672  </td><td>2622841 </td><td>4089980 </td><td>10248146</td><td>27118910</td></tr>\n",
       "\t<tr><td>2352    </td><td>5160    </td><td>11039   </td><td>34620   </td><td>37507   </td><td> 91020  </td><td>195883  </td><td>665516  </td><td>2747329 </td><td>4668518 </td><td>11573976</td><td>30198334</td></tr>\n",
       "\t<tr><td>3177    </td><td>6653    </td><td>13964   </td><td>46905   </td><td>28745   </td><td> 67379  </td><td>143562  </td><td>494504  </td><td>2281438 </td><td>3924864 </td><td> 9737293</td><td>25445085</td></tr>\n",
       "\t<tr><td>1219    </td><td>3064    </td><td> 6358   </td><td>21576   </td><td>24456   </td><td> 58391  </td><td>127386  </td><td>405276  </td><td>2213927 </td><td>4008126 </td><td>10072339</td><td>25611500</td></tr>\n",
       "\t<tr><td>1232    </td><td>2828    </td><td> 5849   </td><td>20207   </td><td>26986   </td><td> 62472  </td><td>134077  </td><td>446793  </td><td>2062826 </td><td>3615352 </td><td> 8968452</td><td>23484693</td></tr>\n",
       "\t<tr><td>2077    </td><td>4353    </td><td> 9234   </td><td>29694   </td><td>26223   </td><td> 63747  </td><td>137065  </td><td>464873  </td><td>1974473 </td><td>3396230 </td><td> 8463275</td><td>21844592</td></tr>\n",
       "\t<tr><td>1406    </td><td>3367    </td><td> 7100   </td><td>24242   </td><td>25117   </td><td> 57073  </td><td>123541  </td><td>424872  </td><td>1890448 </td><td>3029610 </td><td> 7589918</td><td>19654782</td></tr>\n",
       "\t<tr><td>1416    </td><td>3058    </td><td> 6415   </td><td>21647   </td><td>18621   </td><td> 43580  </td><td> 94079  </td><td>314392  </td><td>1624416 </td><td>2802963 </td><td> 6985742</td><td>18325238</td></tr>\n",
       "\t<tr><td>1236    </td><td>2678    </td><td> 5710   </td><td>19745   </td><td>18054   </td><td> 43017  </td><td> 92306  </td><td>330894  </td><td>1393508 </td><td>2252541 </td><td> 5579878</td><td>14791315</td></tr>\n",
       "\t<tr><td>1188    </td><td>2831    </td><td> 5717   </td><td>19834   </td><td>20928   </td><td> 50012  </td><td>106943  </td><td>365097  </td><td>1509965 </td><td>2414919 </td><td> 6007481</td><td>15971029</td></tr>\n",
       "\t<tr><td>1637    </td><td>3935    </td><td> 7993   </td><td>30397   </td><td>22374   </td><td> 51547  </td><td>112689  </td><td>412009  </td><td>1436786 </td><td>2383864 </td><td> 5973080</td><td>16142073</td></tr>\n",
       "\t<tr><td>1551    </td><td>3335    </td><td> 7116   </td><td>23817   </td><td>24809   </td><td> 57383  </td><td>124007  </td><td>433731  </td><td>1582700 </td><td>2483788 </td><td> 6242723</td><td>16322430</td></tr>\n",
       "\t<tr><td>1180    </td><td>2854    </td><td> 5849   </td><td>18651   </td><td>11920   </td><td> 29476  </td><td> 62809  </td><td>200964  </td><td>1137117 </td><td>2053504 </td><td> 5108868</td><td>13144811</td></tr>\n",
       "\t<tr><td> 891    </td><td>1990    </td><td> 4358   </td><td>13236   </td><td>16224   </td><td> 36769  </td><td> 80250  </td><td>275700  </td><td>1046984 </td><td>1704516 </td><td> 4216284</td><td>11136380</td></tr>\n",
       "\t<tr><td> 481    </td><td>1221    </td><td> 2554   </td><td> 9468   </td><td>16784   </td><td> 40661  </td><td> 87361  </td><td>312717  </td><td> 983752 </td><td>1512252 </td><td> 3691071</td><td> 9902961</td></tr>\n",
       "\t<tr><td>1227    </td><td>2277    </td><td> 4916   </td><td>17905   </td><td>14554   </td><td> 29804  </td><td> 62928  </td><td>248753  </td><td> 959669 </td><td>1264013 </td><td> 3176708</td><td> 8572202</td></tr>\n",
       "\t<tr><td>1195    </td><td>2294    </td><td> 4752   </td><td>18097   </td><td>20460   </td><td> 42456  </td><td> 90468  </td><td>358406  </td><td>1006138 </td><td>1237657 </td><td> 3085277</td><td> 8404945</td></tr>\n",
       "\t<tr><td> 998    </td><td>2212    </td><td> 4517   </td><td>14627   </td><td> 9809   </td><td> 23034  </td><td> 49514  </td><td>160537  </td><td> 871004 </td><td>1586705 </td><td> 3833208</td><td>10530217</td></tr>\n",
       "\t<tr><td> 352    </td><td> 748    </td><td> 1665   </td><td> 6985   </td><td>20037   </td><td> 38518  </td><td> 79838  </td><td>340656  </td><td> 779802 </td><td> 760081 </td><td> 1974669</td><td> 5036568</td></tr>\n",
       "\t<tr><td> 513    </td><td>1187    </td><td> 2388   </td><td> 9387   </td><td>10115   </td><td> 22399  </td><td> 47244  </td><td>180335  </td><td> 682443 </td><td>1041623 </td><td> 2517734</td><td> 7107258</td></tr>\n",
       "\t<tr><td>  33    </td><td> 114    </td><td>  212   </td><td>  753   </td><td> 5787   </td><td> 14113  </td><td> 30064  </td><td>105020  </td><td> 439186 </td><td> 760182 </td><td> 1875507</td><td> 5014070</td></tr>\n",
       "\t<tr><td> 290    </td><td> 601    </td><td> 1158   </td><td> 5529   </td><td> 7804   </td><td> 15379  </td><td> 32486  </td><td>136626  </td><td> 426051 </td><td> 534644 </td><td> 1301600</td><td> 3745439</td></tr>\n",
       "\t<tr><td> 890    </td><td>1838    </td><td> 3847   </td><td>13335   </td><td>17233   </td><td> 43349  </td><td> 93224  </td><td>328410  </td><td>1741261 </td><td>3067519 </td><td> 7785192</td><td>20028016</td></tr>\n",
       "\t<tr><td>   0    </td><td>   0    </td><td>    0   </td><td>    0   </td><td> 1455   </td><td>  4106  </td><td>  8529  </td><td> 30841  </td><td> 296252 </td><td> 503751 </td><td> 1302763</td><td> 3311843</td></tr>\n",
       "</tbody>\n",
       "</table>\n"
      ],
      "text/latex": [
       "\\begin{tabular}{llllllllllll}\n",
       "\t 2713     & 5472     & 11420    & 39432    & 46985    & 105613   & 228957   & 812672   & 2622841  & 4089980  & 10248146 & 27118910\\\\\n",
       "\t 2352     & 5160     & 11039    & 34620    & 37507    &  91020   & 195883   & 665516   & 2747329  & 4668518  & 11573976 & 30198334\\\\\n",
       "\t 3177     & 6653     & 13964    & 46905    & 28745    &  67379   & 143562   & 494504   & 2281438  & 3924864  &  9737293 & 25445085\\\\\n",
       "\t 1219     & 3064     &  6358    & 21576    & 24456    &  58391   & 127386   & 405276   & 2213927  & 4008126  & 10072339 & 25611500\\\\\n",
       "\t 1232     & 2828     &  5849    & 20207    & 26986    &  62472   & 134077   & 446793   & 2062826  & 3615352  &  8968452 & 23484693\\\\\n",
       "\t 2077     & 4353     &  9234    & 29694    & 26223    &  63747   & 137065   & 464873   & 1974473  & 3396230  &  8463275 & 21844592\\\\\n",
       "\t 1406     & 3367     &  7100    & 24242    & 25117    &  57073   & 123541   & 424872   & 1890448  & 3029610  &  7589918 & 19654782\\\\\n",
       "\t 1416     & 3058     &  6415    & 21647    & 18621    &  43580   &  94079   & 314392   & 1624416  & 2802963  &  6985742 & 18325238\\\\\n",
       "\t 1236     & 2678     &  5710    & 19745    & 18054    &  43017   &  92306   & 330894   & 1393508  & 2252541  &  5579878 & 14791315\\\\\n",
       "\t 1188     & 2831     &  5717    & 19834    & 20928    &  50012   & 106943   & 365097   & 1509965  & 2414919  &  6007481 & 15971029\\\\\n",
       "\t 1637     & 3935     &  7993    & 30397    & 22374    &  51547   & 112689   & 412009   & 1436786  & 2383864  &  5973080 & 16142073\\\\\n",
       "\t 1551     & 3335     &  7116    & 23817    & 24809    &  57383   & 124007   & 433731   & 1582700  & 2483788  &  6242723 & 16322430\\\\\n",
       "\t 1180     & 2854     &  5849    & 18651    & 11920    &  29476   &  62809   & 200964   & 1137117  & 2053504  &  5108868 & 13144811\\\\\n",
       "\t  891     & 1990     &  4358    & 13236    & 16224    &  36769   &  80250   & 275700   & 1046984  & 1704516  &  4216284 & 11136380\\\\\n",
       "\t  481     & 1221     &  2554    &  9468    & 16784    &  40661   &  87361   & 312717   &  983752  & 1512252  &  3691071 &  9902961\\\\\n",
       "\t 1227     & 2277     &  4916    & 17905    & 14554    &  29804   &  62928   & 248753   &  959669  & 1264013  &  3176708 &  8572202\\\\\n",
       "\t 1195     & 2294     &  4752    & 18097    & 20460    &  42456   &  90468   & 358406   & 1006138  & 1237657  &  3085277 &  8404945\\\\\n",
       "\t  998     & 2212     &  4517    & 14627    &  9809    &  23034   &  49514   & 160537   &  871004  & 1586705  &  3833208 & 10530217\\\\\n",
       "\t  352     &  748     &  1665    &  6985    & 20037    &  38518   &  79838   & 340656   &  779802  &  760081  &  1974669 &  5036568\\\\\n",
       "\t  513     & 1187     &  2388    &  9387    & 10115    &  22399   &  47244   & 180335   &  682443  & 1041623  &  2517734 &  7107258\\\\\n",
       "\t   33     &  114     &   212    &   753    &  5787    &  14113   &  30064   & 105020   &  439186  &  760182  &  1875507 &  5014070\\\\\n",
       "\t  290     &  601     &  1158    &  5529    &  7804    &  15379   &  32486   & 136626   &  426051  &  534644  &  1301600 &  3745439\\\\\n",
       "\t  890     & 1838     &  3847    & 13335    & 17233    &  43349   &  93224   & 328410   & 1741261  & 3067519  &  7785192 & 20028016\\\\\n",
       "\t    0     &    0     &     0    &     0    &  1455    &   4106   &   8529   &  30841   &  296252  &  503751  &  1302763 &  3311843\\\\\n",
       "\\end{tabular}\n"
      ],
      "text/markdown": [
       "\n",
       "| 2713     | 5472     | 11420    | 39432    | 46985    | 105613   | 228957   | 812672   | 2622841  | 4089980  | 10248146 | 27118910 | \n",
       "| 2352     | 5160     | 11039    | 34620    | 37507    |  91020   | 195883   | 665516   | 2747329  | 4668518  | 11573976 | 30198334 | \n",
       "| 3177     | 6653     | 13964    | 46905    | 28745    |  67379   | 143562   | 494504   | 2281438  | 3924864  |  9737293 | 25445085 | \n",
       "| 1219     | 3064     |  6358    | 21576    | 24456    |  58391   | 127386   | 405276   | 2213927  | 4008126  | 10072339 | 25611500 | \n",
       "| 1232     | 2828     |  5849    | 20207    | 26986    |  62472   | 134077   | 446793   | 2062826  | 3615352  |  8968452 | 23484693 | \n",
       "| 2077     | 4353     |  9234    | 29694    | 26223    |  63747   | 137065   | 464873   | 1974473  | 3396230  |  8463275 | 21844592 | \n",
       "| 1406     | 3367     |  7100    | 24242    | 25117    |  57073   | 123541   | 424872   | 1890448  | 3029610  |  7589918 | 19654782 | \n",
       "| 1416     | 3058     |  6415    | 21647    | 18621    |  43580   |  94079   | 314392   | 1624416  | 2802963  |  6985742 | 18325238 | \n",
       "| 1236     | 2678     |  5710    | 19745    | 18054    |  43017   |  92306   | 330894   | 1393508  | 2252541  |  5579878 | 14791315 | \n",
       "| 1188     | 2831     |  5717    | 19834    | 20928    |  50012   | 106943   | 365097   | 1509965  | 2414919  |  6007481 | 15971029 | \n",
       "| 1637     | 3935     |  7993    | 30397    | 22374    |  51547   | 112689   | 412009   | 1436786  | 2383864  |  5973080 | 16142073 | \n",
       "| 1551     | 3335     |  7116    | 23817    | 24809    |  57383   | 124007   | 433731   | 1582700  | 2483788  |  6242723 | 16322430 | \n",
       "| 1180     | 2854     |  5849    | 18651    | 11920    |  29476   |  62809   | 200964   | 1137117  | 2053504  |  5108868 | 13144811 | \n",
       "|  891     | 1990     |  4358    | 13236    | 16224    |  36769   |  80250   | 275700   | 1046984  | 1704516  |  4216284 | 11136380 | \n",
       "|  481     | 1221     |  2554    |  9468    | 16784    |  40661   |  87361   | 312717   |  983752  | 1512252  |  3691071 |  9902961 | \n",
       "| 1227     | 2277     |  4916    | 17905    | 14554    |  29804   |  62928   | 248753   |  959669  | 1264013  |  3176708 |  8572202 | \n",
       "| 1195     | 2294     |  4752    | 18097    | 20460    |  42456   |  90468   | 358406   | 1006138  | 1237657  |  3085277 |  8404945 | \n",
       "|  998     | 2212     |  4517    | 14627    |  9809    |  23034   |  49514   | 160537   |  871004  | 1586705  |  3833208 | 10530217 | \n",
       "|  352     |  748     |  1665    |  6985    | 20037    |  38518   |  79838   | 340656   |  779802  |  760081  |  1974669 |  5036568 | \n",
       "|  513     | 1187     |  2388    |  9387    | 10115    |  22399   |  47244   | 180335   |  682443  | 1041623  |  2517734 |  7107258 | \n",
       "|   33     |  114     |   212    |   753    |  5787    |  14113   |  30064   | 105020   |  439186  |  760182  |  1875507 |  5014070 | \n",
       "|  290     |  601     |  1158    |  5529    |  7804    |  15379   |  32486   | 136626   |  426051  |  534644  |  1301600 |  3745439 | \n",
       "|  890     | 1838     |  3847    | 13335    | 17233    |  43349   |  93224   | 328410   | 1741261  | 3067519  |  7785192 | 20028016 | \n",
       "|    0     |    0     |     0    |     0    |  1455    |   4106   |   8529   |  30841   |  296252  |  503751  |  1302763 |  3311843 | \n",
       "\n",
       "\n"
      ],
      "text/plain": [
       "      [,1] [,2] [,3]  [,4]  [,5]  [,6]   [,7]   [,8]   [,9]    [,10]   [,11]   \n",
       " [1,] 2713 5472 11420 39432 46985 105613 228957 812672 2622841 4089980 10248146\n",
       " [2,] 2352 5160 11039 34620 37507  91020 195883 665516 2747329 4668518 11573976\n",
       " [3,] 3177 6653 13964 46905 28745  67379 143562 494504 2281438 3924864  9737293\n",
       " [4,] 1219 3064  6358 21576 24456  58391 127386 405276 2213927 4008126 10072339\n",
       " [5,] 1232 2828  5849 20207 26986  62472 134077 446793 2062826 3615352  8968452\n",
       " [6,] 2077 4353  9234 29694 26223  63747 137065 464873 1974473 3396230  8463275\n",
       " [7,] 1406 3367  7100 24242 25117  57073 123541 424872 1890448 3029610  7589918\n",
       " [8,] 1416 3058  6415 21647 18621  43580  94079 314392 1624416 2802963  6985742\n",
       " [9,] 1236 2678  5710 19745 18054  43017  92306 330894 1393508 2252541  5579878\n",
       "[10,] 1188 2831  5717 19834 20928  50012 106943 365097 1509965 2414919  6007481\n",
       "[11,] 1637 3935  7993 30397 22374  51547 112689 412009 1436786 2383864  5973080\n",
       "[12,] 1551 3335  7116 23817 24809  57383 124007 433731 1582700 2483788  6242723\n",
       "[13,] 1180 2854  5849 18651 11920  29476  62809 200964 1137117 2053504  5108868\n",
       "[14,]  891 1990  4358 13236 16224  36769  80250 275700 1046984 1704516  4216284\n",
       "[15,]  481 1221  2554  9468 16784  40661  87361 312717  983752 1512252  3691071\n",
       "[16,] 1227 2277  4916 17905 14554  29804  62928 248753  959669 1264013  3176708\n",
       "[17,] 1195 2294  4752 18097 20460  42456  90468 358406 1006138 1237657  3085277\n",
       "[18,]  998 2212  4517 14627  9809  23034  49514 160537  871004 1586705  3833208\n",
       "[19,]  352  748  1665  6985 20037  38518  79838 340656  779802  760081  1974669\n",
       "[20,]  513 1187  2388  9387 10115  22399  47244 180335  682443 1041623  2517734\n",
       "[21,]   33  114   212   753  5787  14113  30064 105020  439186  760182  1875507\n",
       "[22,]  290  601  1158  5529  7804  15379  32486 136626  426051  534644  1301600\n",
       "[23,]  890 1838  3847 13335 17233  43349  93224 328410 1741261 3067519  7785192\n",
       "[24,]    0    0     0     0  1455   4106   8529  30841  296252  503751  1302763\n",
       "      [,12]   \n",
       " [1,] 27118910\n",
       " [2,] 30198334\n",
       " [3,] 25445085\n",
       " [4,] 25611500\n",
       " [5,] 23484693\n",
       " [6,] 21844592\n",
       " [7,] 19654782\n",
       " [8,] 18325238\n",
       " [9,] 14791315\n",
       "[10,] 15971029\n",
       "[11,] 16142073\n",
       "[12,] 16322430\n",
       "[13,] 13144811\n",
       "[14,] 11136380\n",
       "[15,]  9902961\n",
       "[16,]  8572202\n",
       "[17,]  8404945\n",
       "[18,] 10530217\n",
       "[19,]  5036568\n",
       "[20,]  7107258\n",
       "[21,]  5014070\n",
       "[22,]  3745439\n",
       "[23,] 20028016\n",
       "[24,]  3311843"
      ]
     },
     "metadata": {},
     "output_type": "display_data"
    }
   ],
   "source": [
    "counts"
   ]
  },
  {
   "cell_type": "code",
   "execution_count": 18,
   "metadata": {},
   "outputs": [
    {
     "data": {
      "text/html": [
       "<ol class=list-inline>\n",
       "\t<li>2713</li>\n",
       "\t<li>5472</li>\n",
       "\t<li>11420</li>\n",
       "\t<li>39432</li>\n",
       "\t<li>46985</li>\n",
       "\t<li>105613</li>\n",
       "\t<li>228957</li>\n",
       "\t<li>812672</li>\n",
       "\t<li>2622841</li>\n",
       "\t<li>4089980</li>\n",
       "\t<li>10248146</li>\n",
       "\t<li>27118910</li>\n",
       "</ol>\n"
      ],
      "text/latex": [
       "\\begin{enumerate*}\n",
       "\\item 2713\n",
       "\\item 5472\n",
       "\\item 11420\n",
       "\\item 39432\n",
       "\\item 46985\n",
       "\\item 105613\n",
       "\\item 228957\n",
       "\\item 812672\n",
       "\\item 2622841\n",
       "\\item 4089980\n",
       "\\item 10248146\n",
       "\\item 27118910\n",
       "\\end{enumerate*}\n"
      ],
      "text/markdown": [
       "1. 2713\n",
       "2. 5472\n",
       "3. 11420\n",
       "4. 39432\n",
       "5. 46985\n",
       "6. 105613\n",
       "7. 228957\n",
       "8. 812672\n",
       "9. 2622841\n",
       "10. 4089980\n",
       "11. 10248146\n",
       "12. 27118910\n",
       "\n",
       "\n"
      ],
      "text/plain": [
       " [1]     2713     5472    11420    39432    46985   105613   228957   812672\n",
       " [9]  2622841  4089980 10248146 27118910"
      ]
     },
     "metadata": {},
     "output_type": "display_data"
    }
   ],
   "source": [
    "save(counts,file='../sim-develop/data')"
   ]
  },
  {
   "cell_type": "code",
   "execution_count": 35,
   "metadata": {},
   "outputs": [
    {
     "data": {
      "text/html": [
       "0.0276456467024864"
      ],
      "text/latex": [
       "0.0276456467024864"
      ],
      "text/markdown": [
       "0.0276456467024864"
      ],
      "text/plain": [
       "[1] 0.02764565"
      ]
     },
     "metadata": {},
     "output_type": "display_data"
    }
   ],
   "source": [
    "sum(counts[1,1:8])/sum(counts[1,])"
   ]
  },
  {
   "cell_type": "code",
   "execution_count": null,
   "metadata": {},
   "outputs": [],
   "source": []
  },
  {
   "cell_type": "code",
   "execution_count": null,
   "metadata": {},
   "outputs": [],
   "source": []
  }
 ],
 "metadata": {
  "kernelspec": {
   "display_name": "R",
   "language": "R",
   "name": "ir"
  },
  "language_info": {
   "codemirror_mode": "r",
   "file_extension": ".r",
   "mimetype": "text/x-r-source",
   "name": "R",
   "pygments_lexer": "r",
   "version": "3.4.4"
  }
 },
 "nbformat": 4,
 "nbformat_minor": 2
}
