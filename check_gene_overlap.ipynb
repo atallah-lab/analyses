{
 "cells": [
  {
   "cell_type": "code",
   "execution_count": 1,
   "metadata": {},
   "outputs": [],
   "source": [
    "load('./data/genes.rda')"
   ]
  },
  {
   "cell_type": "code",
   "execution_count": 2,
   "metadata": {},
   "outputs": [
    {
     "data": {
      "text/html": [
       "<table>\n",
       "<thead><tr><th scope=col>chrom</th><th scope=col>start</th><th scope=col>end</th><th scope=col>gene_id</th><th scope=col>gene_sym</th><th scope=col>gene_biotype</th><th scope=col>len</th></tr></thead>\n",
       "<tbody>\n",
       "\t<tr><td>1              </td><td> 65419         </td><td> 71585         </td><td>ENSG00000186092</td><td>OR4F5          </td><td>protein_coding </td><td> 6166          </td></tr>\n",
       "\t<tr><td>1              </td><td>450703         </td><td>451697         </td><td>ENSG00000284733</td><td>OR4F29         </td><td>protein_coding </td><td>  994          </td></tr>\n",
       "\t<tr><td>1              </td><td>685679         </td><td>686673         </td><td>ENSG00000284662</td><td>OR4F16         </td><td>protein_coding </td><td>  994          </td></tr>\n",
       "\t<tr><td>1              </td><td>923928         </td><td>944581         </td><td>ENSG00000187634</td><td>SAMD11         </td><td>protein_coding </td><td>20653          </td></tr>\n",
       "\t<tr><td>1              </td><td>944204         </td><td>959309         </td><td>ENSG00000188976</td><td>NOC2L          </td><td>protein_coding </td><td>15105          </td></tr>\n",
       "\t<tr><td>1              </td><td>960587         </td><td>965715         </td><td>ENSG00000187961</td><td>KLHL17         </td><td>protein_coding </td><td> 5128          </td></tr>\n",
       "</tbody>\n",
       "</table>\n"
      ],
      "text/latex": [
       "\\begin{tabular}{r|lllllll}\n",
       " chrom & start & end & gene\\_id & gene\\_sym & gene\\_biotype & len\\\\\n",
       "\\hline\n",
       "\t 1                &  65419           &  71585           & ENSG00000186092  & OR4F5            & protein\\_coding &  6166           \\\\\n",
       "\t 1                & 450703           & 451697           & ENSG00000284733  & OR4F29           & protein\\_coding &   994           \\\\\n",
       "\t 1                & 685679           & 686673           & ENSG00000284662  & OR4F16           & protein\\_coding &   994           \\\\\n",
       "\t 1                & 923928           & 944581           & ENSG00000187634  & SAMD11           & protein\\_coding & 20653           \\\\\n",
       "\t 1                & 944204           & 959309           & ENSG00000188976  & NOC2L            & protein\\_coding & 15105           \\\\\n",
       "\t 1                & 960587           & 965715           & ENSG00000187961  & KLHL17           & protein\\_coding &  5128           \\\\\n",
       "\\end{tabular}\n"
      ],
      "text/markdown": [
       "\n",
       "chrom | start | end | gene_id | gene_sym | gene_biotype | len | \n",
       "|---|---|---|---|---|---|\n",
       "| 1               |  65419          |  71585          | ENSG00000186092 | OR4F5           | protein_coding  |  6166           | \n",
       "| 1               | 450703          | 451697          | ENSG00000284733 | OR4F29          | protein_coding  |   994           | \n",
       "| 1               | 685679          | 686673          | ENSG00000284662 | OR4F16          | protein_coding  |   994           | \n",
       "| 1               | 923928          | 944581          | ENSG00000187634 | SAMD11          | protein_coding  | 20653           | \n",
       "| 1               | 944204          | 959309          | ENSG00000188976 | NOC2L           | protein_coding  | 15105           | \n",
       "| 1               | 960587          | 965715          | ENSG00000187961 | KLHL17          | protein_coding  |  5128           | \n",
       "\n",
       "\n"
      ],
      "text/plain": [
       "  chrom start  end    gene_id         gene_sym gene_biotype   len  \n",
       "1 1      65419  71585 ENSG00000186092 OR4F5    protein_coding  6166\n",
       "2 1     450703 451697 ENSG00000284733 OR4F29   protein_coding   994\n",
       "3 1     685679 686673 ENSG00000284662 OR4F16   protein_coding   994\n",
       "4 1     923928 944581 ENSG00000187634 SAMD11   protein_coding 20653\n",
       "5 1     944204 959309 ENSG00000188976 NOC2L    protein_coding 15105\n",
       "6 1     960587 965715 ENSG00000187961 KLHL17   protein_coding  5128"
      ]
     },
     "metadata": {},
     "output_type": "display_data"
    }
   ],
   "source": [
    "head(genes)"
   ]
  },
  {
   "cell_type": "code",
   "execution_count": 13,
   "metadata": {},
   "outputs": [],
   "source": [
    "library(IRanges)\n",
    "out1 <- c()\n",
    "out2 <- c()\n",
    "for (i in unique(genes$chrom)){\n",
    "    tmp <- genes[genes$chrom==i,]\n",
    "    tmp <- IRanges(tmp$start,tmp$end)\n",
    "    tmp2 <- reduce(tmp)\n",
    "    out1 <- append(out1,sum(width(tmp)))\n",
    "    out2 <- append(out2,sum(width(tmp2)))\n",
    "}"
   ]
  },
  {
   "cell_type": "code",
   "execution_count": 14,
   "metadata": {},
   "outputs": [
    {
     "data": {
      "text/html": [
       "0.950586402795474"
      ],
      "text/latex": [
       "0.950586402795474"
      ],
      "text/markdown": [
       "0.950586402795474"
      ],
      "text/plain": [
       "[1] 0.9505864"
      ]
     },
     "metadata": {},
     "output_type": "display_data"
    }
   ],
   "source": [
    "sum(out2)/sum(out1)"
   ]
  },
  {
   "cell_type": "markdown",
   "metadata": {},
   "source": [
    "~5% of the gene ranges are overlapping. This probability is distributed amongst the genes."
   ]
  }
 ],
 "metadata": {
  "kernelspec": {
   "display_name": "R",
   "language": "R",
   "name": "ir"
  },
  "language_info": {
   "codemirror_mode": "r",
   "file_extension": ".r",
   "mimetype": "text/x-r-source",
   "name": "R",
   "pygments_lexer": "r",
   "version": "3.5.1"
  }
 },
 "nbformat": 4,
 "nbformat_minor": 2
}
