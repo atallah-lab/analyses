{
 "cells": [
  {
   "cell_type": "code",
   "execution_count": 21,
   "metadata": {},
   "outputs": [],
   "source": [
    "library(naturalsort)\n",
    "library(data.table)\n",
    "library(data.tree)\n",
    "library(Biostrings)\n",
    "library(fields)\n",
    "dataDir <- '../../Data/SimOut032118/'"
   ]
  },
  {
   "cell_type": "code",
   "execution_count": 22,
   "metadata": {
    "scrolled": true
   },
   "outputs": [],
   "source": [
    "flst<-list.files(dataDir) # Get list of files from directory\n",
    "flst <- naturalsort(flst) # Natural sort the files\n",
    "ncls <- c()\n",
    "rs <- c()\n",
    "k<-1\n",
    "for (i in 1:(length(flst))) {\n",
    "    load(paste0(dataDir,flst[i]))\n",
    "    if (CellPop$totalCount==1) {\n",
    "        ncls[[k]] <- CellPop$ncells[length(CellPop$ncells)]\n",
    "    }\n",
    "    else {\n",
    "        ncls[[k]] <- sum(vapply(CellPop$Get('ncells'),tail,n=1L,FUN.VALUE = numeric(1)))\n",
    "    }\n",
    "    rs[[k]] <- CellPop$Get('r')\n",
    "    rm('CellPop')\n",
    "    k <- k+1\n",
    "    \n",
    "}"
   ]
  },
  {
   "cell_type": "code",
   "execution_count": 35,
   "metadata": {},
   "outputs": [],
   "source": [
    "# Create the function.\n",
    "getmode <- function(v) {\n",
    "   uniqv <- unique(v)\n",
    "   uniqv[which.max(tabulate(match(v, uniqv)))]\n",
    "}"
   ]
  },
  {
   "cell_type": "code",
   "execution_count": 40,
   "metadata": {},
   "outputs": [],
   "source": [
    "rs_var <- c()\n",
    "rs_mean <- c()\n",
    "ncells_var <- c()\n",
    "\n",
    "for (i in 1:length(rs)) {\n",
    "    \n",
    "    if (length(rs[[i]])==1) {rs_var[i] <- 0}\n",
    "    else {\n",
    "        rs_var[i] <- var(rs[[i]])\n",
    "        rs_mean[i] <- mean(rs[[i]])\n",
    "    }\n",
    "    ncells_var[i] <- var(ncls[[i]])\n",
    "\n",
    "}"
   ]
  },
  {
   "cell_type": "code",
   "execution_count": 24,
   "metadata": {},
   "outputs": [],
   "source": [
    "norml <- function(x) {\n",
    "    x = (x-min(x))/(max(x)-min(x))\n",
    "    return(x)}"
   ]
  },
  {
   "cell_type": "code",
   "execution_count": 25,
   "metadata": {},
   "outputs": [
    {
     "data": {
      "text/html": [
       "<ol class=list-inline>\n",
       "\t<li>16232</li>\n",
       "\t<li>16141</li>\n",
       "\t<li>15826</li>\n",
       "\t<li>15317</li>\n",
       "\t<li>15457</li>\n",
       "\t<li>16356</li>\n",
       "\t<li>16028</li>\n",
       "\t<li>16213</li>\n",
       "\t<li>16143</li>\n",
       "\t<li>15503</li>\n",
       "\t<li>16346</li>\n",
       "\t<li>16175</li>\n",
       "\t<li>15411</li>\n",
       "\t<li>16417</li>\n",
       "\t<li>17362</li>\n",
       "\t<li>24309</li>\n",
       "\t<li>16310</li>\n",
       "\t<li>23278</li>\n",
       "\t<li>14045</li>\n",
       "\t<li>15649</li>\n",
       "</ol>\n"
      ],
      "text/latex": [
       "\\begin{enumerate*}\n",
       "\\item 16232\n",
       "\\item 16141\n",
       "\\item 15826\n",
       "\\item 15317\n",
       "\\item 15457\n",
       "\\item 16356\n",
       "\\item 16028\n",
       "\\item 16213\n",
       "\\item 16143\n",
       "\\item 15503\n",
       "\\item 16346\n",
       "\\item 16175\n",
       "\\item 15411\n",
       "\\item 16417\n",
       "\\item 17362\n",
       "\\item 24309\n",
       "\\item 16310\n",
       "\\item 23278\n",
       "\\item 14045\n",
       "\\item 15649\n",
       "\\end{enumerate*}\n"
      ],
      "text/markdown": [
       "1. 16232\n",
       "2. 16141\n",
       "3. 15826\n",
       "4. 15317\n",
       "5. 15457\n",
       "6. 16356\n",
       "7. 16028\n",
       "8. 16213\n",
       "9. 16143\n",
       "10. 15503\n",
       "11. 16346\n",
       "12. 16175\n",
       "13. 15411\n",
       "14. 16417\n",
       "15. 17362\n",
       "16. 24309\n",
       "17. 16310\n",
       "18. 23278\n",
       "19. 14045\n",
       "20. 15649\n",
       "\n",
       "\n"
      ],
      "text/plain": [
       " [1] 16232 16141 15826 15317 15457 16356 16028 16213 16143 15503 16346 16175\n",
       "[13] 15411 16417 17362 24309 16310 23278 14045 15649"
      ]
     },
     "metadata": {},
     "output_type": "display_data"
    }
   ],
   "source": [
    "ncls"
   ]
  },
  {
   "cell_type": "code",
   "execution_count": 26,
   "metadata": {},
   "outputs": [
    {
     "data": {
      "text/html": [
       "<table>\n",
       "<tbody>\n",
       "\t<tr><td>16232</td><td>16141</td><td>15826</td><td>15317</td><td>15457</td></tr>\n",
       "\t<tr><td>16356</td><td>16028</td><td>16213</td><td>16143</td><td>15503</td></tr>\n",
       "\t<tr><td>16346</td><td>16175</td><td>15411</td><td>16417</td><td>17362</td></tr>\n",
       "\t<tr><td>24309</td><td>16310</td><td>23278</td><td>14045</td><td>15649</td></tr>\n",
       "</tbody>\n",
       "</table>\n"
      ],
      "text/latex": [
       "\\begin{tabular}{lllll}\n",
       "\t 16232 & 16141 & 15826 & 15317 & 15457\\\\\n",
       "\t 16356 & 16028 & 16213 & 16143 & 15503\\\\\n",
       "\t 16346 & 16175 & 15411 & 16417 & 17362\\\\\n",
       "\t 24309 & 16310 & 23278 & 14045 & 15649\\\\\n",
       "\\end{tabular}\n"
      ],
      "text/markdown": [
       "\n",
       "| 16232 | 16141 | 15826 | 15317 | 15457 | \n",
       "| 16356 | 16028 | 16213 | 16143 | 15503 | \n",
       "| 16346 | 16175 | 15411 | 16417 | 17362 | \n",
       "| 24309 | 16310 | 23278 | 14045 | 15649 | \n",
       "\n",
       "\n"
      ],
      "text/plain": [
       "     [,1]  [,2]  [,3]  [,4]  [,5] \n",
       "[1,] 16232 16141 15826 15317 15457\n",
       "[2,] 16356 16028 16213 16143 15503\n",
       "[3,] 16346 16175 15411 16417 17362\n",
       "[4,] 24309 16310 23278 14045 15649"
      ]
     },
     "metadata": {},
     "output_type": "display_data"
    }
   ],
   "source": [
    "matrix(ncls[1:20],nrow=4,ncol=5,byrow=TRUE)"
   ]
  },
  {
   "cell_type": "code",
   "execution_count": 41,
   "metadata": {},
   "outputs": [
    {
     "data": {
      "text/html": [
       "<table>\n",
       "<tbody>\n",
       "\t<tr><td>0.9881649</td><td>0.9832135</td><td>0.9849344</td><td>0.9771787</td><td>0.9807845</td></tr>\n",
       "\t<tr><td>0.9921933</td><td>0.9840880</td><td>0.9891923</td><td>0.9818919</td><td>0.9796405</td></tr>\n",
       "\t<tr><td>0.9944837</td><td>0.9875816</td><td>0.9937745</td><td>1.0713844</td><td>1.4484481</td></tr>\n",
       "\t<tr><td>1.9404974</td><td>0.9966734</td><td>1.8985716</td><td>0.9951609</td><td>1.0635256</td></tr>\n",
       "</tbody>\n",
       "</table>\n"
      ],
      "text/latex": [
       "\\begin{tabular}{lllll}\n",
       "\t 0.9881649 & 0.9832135 & 0.9849344 & 0.9771787 & 0.9807845\\\\\n",
       "\t 0.9921933 & 0.9840880 & 0.9891923 & 0.9818919 & 0.9796405\\\\\n",
       "\t 0.9944837 & 0.9875816 & 0.9937745 & 1.0713844 & 1.4484481\\\\\n",
       "\t 1.9404974 & 0.9966734 & 1.8985716 & 0.9951609 & 1.0635256\\\\\n",
       "\\end{tabular}\n"
      ],
      "text/markdown": [
       "\n",
       "| 0.9881649 | 0.9832135 | 0.9849344 | 0.9771787 | 0.9807845 | \n",
       "| 0.9921933 | 0.9840880 | 0.9891923 | 0.9818919 | 0.9796405 | \n",
       "| 0.9944837 | 0.9875816 | 0.9937745 | 1.0713844 | 1.4484481 | \n",
       "| 1.9404974 | 0.9966734 | 1.8985716 | 0.9951609 | 1.0635256 | \n",
       "\n",
       "\n"
      ],
      "text/plain": [
       "     [,1]      [,2]      [,3]      [,4]      [,5]     \n",
       "[1,] 0.9881649 0.9832135 0.9849344 0.9771787 0.9807845\n",
       "[2,] 0.9921933 0.9840880 0.9891923 0.9818919 0.9796405\n",
       "[3,] 0.9944837 0.9875816 0.9937745 1.0713844 1.4484481\n",
       "[4,] 1.9404974 0.9966734 1.8985716 0.9951609 1.0635256"
      ]
     },
     "metadata": {},
     "output_type": "display_data"
    }
   ],
   "source": [
    "matrix(rs_mean[1:20],nrow=4,ncol=5,byrow=TRUE)"
   ]
  },
  {
   "cell_type": "code",
   "execution_count": 42,
   "metadata": {
    "scrolled": false
   },
   "outputs": [
    {
     "data": {
      "image/png": "[encoded data removed]",
      "text/plain": [
       "Plot with title “Mean Division Rate”"
      ]
     },
     "metadata": {},
     "output_type": "display_data"
    }
   ],
   "source": [
    "rotate <- function(x) t(apply(x, 2, rev))\n",
    "\n",
    "image.plot(rotate(apply(matrix(rs_mean[1:20],nrow=4,ncol=5,byrow=TRUE),2,rev)),axes=F)\n",
    "\n",
    "title(main=\"Mean Division Rate\",xlab='Sp',ylab='Sd');\n",
    "axis(1, at=seq(0,1,0.25), labels=seq(0.8,0.0,-0.2)); \n",
    "axis(2, at=seq(0,1,0.31), labels=seq(1.2,1.8,0.2)); \n"
   ]
  },
  {
   "cell_type": "code",
   "execution_count": 29,
   "metadata": {},
   "outputs": [
    {
     "data": {
      "image/png": "[encoded data removed]",
      "text/plain": [
       "Plot with title “Population Size (# Cells)”"
      ]
     },
     "metadata": {},
     "output_type": "display_data"
    }
   ],
   "source": [
    "rotate <- function(x) t(apply(x, 2, rev))\n",
    "\n",
    "image.plot(rotate(apply(matrix(ncls[1:20],nrow=4,ncol=5,byrow=TRUE),2,rev)),axes=F)\n",
    "\n",
    "title(main=\"Population Size (# Cells)\",xlab='Sp',ylab='Sd');\n",
    "axis(1, at=seq(0,1,0.25), labels=seq(0.8,0.0,-0.2)); \n",
    "axis(2, at=seq(0,1,0.25), labels=seq(1.2,2.0,0.2)); "
   ]
  },
  {
   "cell_type": "code",
   "execution_count": null,
   "metadata": {},
   "outputs": [],
   "source": []
  }
 ],
 "metadata": {
  "kernelspec": {
   "display_name": "R",
   "language": "R",
   "name": "ir"
  },
  "language_info": {
   "codemirror_mode": "r",
   "file_extension": ".r",
   "mimetype": "text/x-r-source",
   "name": "R",
   "pygments_lexer": "r",
   "version": "3.3.2"
  }
 },
 "nbformat": 4,
 "nbformat_minor": 2
}
