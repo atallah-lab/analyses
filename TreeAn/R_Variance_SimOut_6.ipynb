{
 "cells": [
  {
   "cell_type": "code",
   "execution_count": 1,
   "metadata": {
    "collapsed": true
   },
   "outputs": [
    {
     "name": "stderr",
     "output_type": "stream",
     "text": [
      "Loading required package: BiocGenerics\n",
      "Loading required package: parallel\n",
      "\n",
      "Attaching package: ‘BiocGenerics’\n",
      "\n",
      "The following objects are masked from ‘package:parallel’:\n",
      "\n",
      "    clusterApply, clusterApplyLB, clusterCall, clusterEvalQ,\n",
      "    clusterExport, clusterMap, parApply, parCapply, parLapply,\n",
      "    parLapplyLB, parRapply, parSapply, parSapplyLB\n",
      "\n",
      "The following objects are masked from ‘package:stats’:\n",
      "\n",
      "    IQR, mad, xtabs\n",
      "\n",
      "The following objects are masked from ‘package:base’:\n",
      "\n",
      "    anyDuplicated, append, as.data.frame, as.vector, cbind, colnames,\n",
      "    do.call, duplicated, eval, evalq, Filter, Find, get, grep, grepl,\n",
      "    intersect, is.unsorted, lapply, lengths, Map, mapply, match, mget,\n",
      "    order, paste, pmax, pmax.int, pmin, pmin.int, Position, rank,\n",
      "    rbind, Reduce, rownames, sapply, setdiff, sort, table, tapply,\n",
      "    union, unique, unlist, unsplit\n",
      "\n",
      "Loading required package: S4Vectors\n",
      "Loading required package: stats4\n",
      "Loading required package: IRanges\n",
      "\n",
      "Attaching package: ‘IRanges’\n",
      "\n",
      "The following object is masked from ‘package:data.table’:\n",
      "\n",
      "    shift\n",
      "\n",
      "Loading required package: XVector\n"
     ]
    }
   ],
   "source": [
    "library(naturalsort)\n",
    "library(data.table)\n",
    "library(data.tree)\n",
    "library(Biostrings)\n",
    "dataDir <- '../../Data/SimOut6/'"
   ]
  },
  {
   "cell_type": "code",
   "execution_count": 2,
   "metadata": {
    "scrolled": true
   },
   "outputs": [],
   "source": [
    "flst<-list.files(dataDir) # Get list of files from directory\n",
    "flst <- naturalsort(flst) # Natural sort the files\n",
    "ncls <- c()\n",
    "rs <- c()\n",
    "k<-1\n",
    "for (i in 1:(length(flst)-1)) {\n",
    "    load(paste0(dataDir,flst[i]))\n",
    "    if (CellPop$totalCount==1) {\n",
    "        ncls[[k]] <- CellPop$ncells[length(CellPop$ncells)]\n",
    "    }\n",
    "    else {\n",
    "        ncls[[k]] <- sum(vapply(CellPop$Get('ncells'),tail,n=1L,FUN.VALUE = numeric(1)))\n",
    "    }\n",
    "    rs[[k]] <- CellPop$Get('r')\n",
    "    rm('CellPop')\n",
    "    k <- k+1\n",
    "    \n",
    "}"
   ]
  },
  {
   "cell_type": "code",
   "execution_count": 3,
   "metadata": {},
   "outputs": [],
   "source": [
    "rs_var <- c()\n",
    "ncells_var <- c()\n",
    "\n",
    "for (i in 1:length(rs)) {\n",
    "    \n",
    "    if (length(rs[[i]])==1) {rs_var[i] <- 0}\n",
    "    else {rs_var[i] <- var(rs[[i]])}\n",
    "    ncells_var[i] <- var(ncls[[i]])\n",
    "\n",
    "}"
   ]
  },
  {
   "cell_type": "code",
   "execution_count": 4,
   "metadata": {},
   "outputs": [],
   "source": [
    "norml <- function(x) {\n",
    "    x = (x-min(x))/(max(x)-min(x))\n",
    "    return(x)}"
   ]
  },
  {
   "cell_type": "code",
   "execution_count": 19,
   "metadata": {},
   "outputs": [
    {
     "data": {
      "image/png": "[encoded data removed]",
      "text/plain": [
       "plot without title"
      ]
     },
     "metadata": {},
     "output_type": "display_data"
    }
   ],
   "source": [
    "barplot(as.matrix(rbind(norml(rs_var),norml(ncls))),beside=TRUE)\n",
    "options(repr.plot.width=9, repr.plot.height=4)"
   ]
  },
  {
   "cell_type": "code",
   "execution_count": 6,
   "metadata": {},
   "outputs": [],
   "source": [
    "load('../../Data/SimOut6/8.rda')"
   ]
  },
  {
   "cell_type": "code",
   "execution_count": 7,
   "metadata": {},
   "outputs": [
    {
     "name": "stdout",
     "output_type": "stream",
     "text": [
      "  levelName   r\n",
      "1     1     1.0\n",
      "2      ¦--2 0.2\n",
      "3      ¦--3 1.0\n",
      "4      °--4 1.0\n"
     ]
    }
   ],
   "source": [
    "print(CellPop,'r')"
   ]
  },
  {
   "cell_type": "code",
   "execution_count": 8,
   "metadata": {},
   "outputs": [],
   "source": [
    "traversal <- Traverse(CellPop, traversal = \"post-order\", filterFun = function(x) x$r != 1)"
   ]
  },
  {
   "cell_type": "code",
   "execution_count": 9,
   "metadata": {},
   "outputs": [
    {
     "data": {
      "text/plain": [
       "[[1]]\n",
       "  A DNAStringSet instance of length 1\n",
       "    width seq\n",
       "[1]   443 GGGGGAGGAGCCAAGATGGCCGAATAGGAACAGC...TGCAAGGCGGCAACGAGGCTGGGGGAGGGGCGC\n",
       "\n",
       "[[2]]\n",
       "[1] \"chr20\"\n",
       "\n",
       "[[3]]\n",
       "[1] 299348\n",
       "\n",
       "[[4]]\n",
       "[1] \"-\"\n"
      ]
     },
     "metadata": {},
     "output_type": "display_data"
    }
   ],
   "source": [
    "traversal[[1]]$tes"
   ]
  },
  {
   "cell_type": "code",
   "execution_count": 10,
   "metadata": {},
   "outputs": [],
   "source": [
    "# PURPOSE: Updates the gene annotation of the clone\n",
    "#\n",
    "# INPUT:\n",
    "#   anno         (data frame) Annotation of genes (i.e. chromosome   start   end)\n",
    "#   simout          (list of lists) gen_sim output\n",
    "#   tes             (list of lists) Node tes\n",
    "#\n",
    "# OUTPUT: anno\n",
    "\n",
    "update_anno <- function(anno,  tes) {\n",
    "    \n",
    "#     tmp = mapply(append, simout, tes, SIMPLIFY = FALSE)\n",
    "    tmp=tes\n",
    "    for (i in 1:length(tmp[[3]])) {\n",
    "        # Shift the start loci of genes with start loci beyond the insertion by the width of the L1\n",
    "        anno[anno$chrom==tmp[[2]][i] & anno$start>tmp[[3]][i],]$start <- anno[anno$chrom==tmp[[2]][i] & anno$start>tmp[[3]][i],]$start + width(tmp[[1]][i])  \n",
    "        # Shift the end loci of genes with start loci beyond the insertion by the width of the L1\n",
    "        anno[anno$chrom==tmp[[2]][i] & anno$start>tmp[[3]][i],]$end <- anno[anno$chrom==tmp[[2]][i] & anno$start>tmp[[3]][i],]$end + width(tmp[[1]][i])  \n",
    "        # Shift the end locus of any gene with only end locus beyond the insertion by the width of the L1\n",
    "        anno[anno$chrom==tmp[[2]][i] & anno$end>tmp[[3]][i] & anno$start<tmp[[3]][i],]$end <- anno[anno$chrom==tmp[[2]][i] & anno$end>tmp[[3]][i] & anno$start<tmp[[3]][i],]$end + width(tmp[[1]][i])        \n",
    "    }\n",
    "    return(anno) \n",
    "}"
   ]
  },
  {
   "cell_type": "code",
   "execution_count": 11,
   "metadata": {},
   "outputs": [],
   "source": [
    "rank_clone <- function(r, anno, sites_chrm, sites_loci, gainp, lossp) {\n",
    "\n",
    "    gene_hits=0; # set counter to zero\n",
    "    tsg_hits=0;\n",
    "    for (i in 1:length(unique(sites_chrm))) { # loop over chromosomes inserted into\n",
    "        tmp=anno[anno$chrom==unique(sites_chrm)[i],] # reduce annotation table to entries for current chrom\n",
    "        chrmann_ntsg=tmp[tmp$istsg==0,]\n",
    "        chrmann_tsg =tmp[tmp$istsg==1,]\n",
    "        tmp = sites_loci[sites_chrm==unique(sites_chrm)[i]] # reduce insertion loci to entries for current chrom\n",
    "        tmp_hits = between(tmp,chrmann_ntsg$start,chrmann_ntsg$end) # create logical for insertions, whether into non-tsg-gene or not\n",
    "        gene_hits=gene_hits+length(which(tmp_hits==TRUE)) # count the number of non-tsg-gene insertions\n",
    "#         print(gene_hits)\n",
    "        tmp_hits  = between(tmp,chrmann_tsg$start,chrmann_tsg$end) # same for tsg-gene insertions\n",
    "        tsg_hits =tsg_hits+length(which(tmp_hits==TRUE))\n",
    "    }\n",
    "\n",
    "    if (gene_hits > 0 || tsg_hits > 0){\n",
    "        r=r*(lossp^gene_hits)*(gainp^tsg_hits)\n",
    "    }\n",
    "\n",
    "    if (r < 0.25) { # If the division rate is below 0.25, the clone stops growing\n",
    "        r<-0\n",
    "    }\n",
    "\n",
    "    return(r)\n",
    "}\n"
   ]
  },
  {
   "cell_type": "code",
   "execution_count": 12,
   "metadata": {},
   "outputs": [],
   "source": [
    "load('../../sim-develop/data/exann.rda')"
   ]
  },
  {
   "cell_type": "code",
   "execution_count": 13,
   "metadata": {},
   "outputs": [
    {
     "data": {
      "text/html": [
       "<table>\n",
       "<thead><tr><th scope=col>chrom</th><th scope=col>start</th><th scope=col>end</th><th scope=col>istsg</th></tr></thead>\n",
       "<tbody>\n",
       "\t<tr><td>chr1  </td><td> 11874</td><td> 12227</td><td>0     </td></tr>\n",
       "\t<tr><td>chr1  </td><td> 12595</td><td> 12721</td><td>0     </td></tr>\n",
       "\t<tr><td>chr1  </td><td> 13221</td><td> 14409</td><td>0     </td></tr>\n",
       "\t<tr><td>chr1  </td><td> 30366</td><td> 30503</td><td>0     </td></tr>\n",
       "\t<tr><td>chr1  </td><td> 69091</td><td> 70008</td><td>0     </td></tr>\n",
       "\t<tr><td>chr1  </td><td>182393</td><td>182746</td><td>0     </td></tr>\n",
       "</tbody>\n",
       "</table>\n"
      ],
      "text/latex": [
       "\\begin{tabular}{r|llll}\n",
       " chrom & start & end & istsg\\\\\n",
       "\\hline\n",
       "\t chr1   &  11874 &  12227 & 0     \\\\\n",
       "\t chr1   &  12595 &  12721 & 0     \\\\\n",
       "\t chr1   &  13221 &  14409 & 0     \\\\\n",
       "\t chr1   &  30366 &  30503 & 0     \\\\\n",
       "\t chr1   &  69091 &  70008 & 0     \\\\\n",
       "\t chr1   & 182393 & 182746 & 0     \\\\\n",
       "\\end{tabular}\n"
      ],
      "text/markdown": [
       "\n",
       "chrom | start | end | istsg | \n",
       "|---|---|---|---|---|---|\n",
       "| chr1   |  11874 |  12227 | 0      | \n",
       "| chr1   |  12595 |  12721 | 0      | \n",
       "| chr1   |  13221 |  14409 | 0      | \n",
       "| chr1   |  30366 |  30503 | 0      | \n",
       "| chr1   |  69091 |  70008 | 0      | \n",
       "| chr1   | 182393 | 182746 | 0      | \n",
       "\n",
       "\n"
      ],
      "text/plain": [
       "  chrom start  end    istsg\n",
       "1 chr1   11874  12227 0    \n",
       "2 chr1   12595  12721 0    \n",
       "3 chr1   13221  14409 0    \n",
       "4 chr1   30366  30503 0    \n",
       "5 chr1   69091  70008 0    \n",
       "6 chr1  182393 182746 0    "
      ]
     },
     "metadata": {},
     "output_type": "display_data"
    }
   ],
   "source": [
    "head(exann)"
   ]
  },
  {
   "cell_type": "code",
   "execution_count": 14,
   "metadata": {},
   "outputs": [],
   "source": [
    "k <- traversal[[1]]$tes"
   ]
  },
  {
   "cell_type": "code",
   "execution_count": 15,
   "metadata": {},
   "outputs": [
    {
     "data": {
      "text/plain": [
       "[[1]]\n",
       "  A DNAStringSet instance of length 1\n",
       "    width seq\n",
       "[1]   443 GGGGGAGGAGCCAAGATGGCCGAATAGGAACAGC...TGCAAGGCGGCAACGAGGCTGGGGGAGGGGCGC\n",
       "\n",
       "[[2]]\n",
       "[1] \"chr20\"\n",
       "\n",
       "[[3]]\n",
       "[1] 299348\n",
       "\n",
       "[[4]]\n",
       "[1] \"-\"\n"
      ]
     },
     "metadata": {},
     "output_type": "display_data"
    }
   ],
   "source": [
    "k"
   ]
  },
  {
   "cell_type": "code",
   "execution_count": 16,
   "metadata": {},
   "outputs": [],
   "source": [
    "tmpAnn <- update_anno(exann,k)"
   ]
  },
  {
   "cell_type": "code",
   "execution_count": 17,
   "metadata": {},
   "outputs": [],
   "source": [
    "load('../../sim-develop/data/exann.rda')\n",
    "for (node in traversal) {\n",
    "    nodeTes <- node$tes\n",
    "    tmpAnn <- update_anno(exann,nodeTes)\n",
    "    \n",
    "    \n",
    "}"
   ]
  },
  {
   "cell_type": "code",
   "execution_count": 18,
   "metadata": {},
   "outputs": [
    {
     "data": {
      "text/html": [
       "0.8"
      ],
      "text/latex": [
       "0.8"
      ],
      "text/markdown": [
       "0.8"
      ],
      "text/plain": [
       "[1] 0.8"
      ]
     },
     "metadata": {},
     "output_type": "display_data"
    }
   ],
   "source": [
    "r <- rank_clone(1,tmpAnn,k[[2]],k[[3]],1.2,.8)\n",
    "r"
   ]
  },
  {
   "cell_type": "code",
   "execution_count": null,
   "metadata": {},
   "outputs": [],
   "source": []
  }
 ],
 "metadata": {
  "kernelspec": {
   "display_name": "R",
   "language": "R",
   "name": "ir"
  },
  "language_info": {
   "codemirror_mode": "r",
   "file_extension": ".r",
   "mimetype": "text/x-r-source",
   "name": "R",
   "pygments_lexer": "r",
   "version": "3.3.2"
  }
 },
 "nbformat": 4,
 "nbformat_minor": 2
}
