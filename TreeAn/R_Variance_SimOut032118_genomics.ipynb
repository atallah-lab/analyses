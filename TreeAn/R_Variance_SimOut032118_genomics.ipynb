{
 "cells": [
  {
   "cell_type": "code",
   "execution_count": 1,
   "metadata": {
    "collapsed": true
   },
   "outputs": [
    {
     "name": "stderr",
     "output_type": "stream",
     "text": [
      "Loading required package: BiocGenerics\n",
      "Loading required package: parallel\n",
      "\n",
      "Attaching package: ‘BiocGenerics’\n",
      "\n",
      "The following objects are masked from ‘package:parallel’:\n",
      "\n",
      "    clusterApply, clusterApplyLB, clusterCall, clusterEvalQ,\n",
      "    clusterExport, clusterMap, parApply, parCapply, parLapply,\n",
      "    parLapplyLB, parRapply, parSapply, parSapplyLB\n",
      "\n",
      "The following objects are masked from ‘package:stats’:\n",
      "\n",
      "    IQR, mad, xtabs\n",
      "\n",
      "The following objects are masked from ‘package:base’:\n",
      "\n",
      "    anyDuplicated, append, as.data.frame, as.vector, cbind, colnames,\n",
      "    do.call, duplicated, eval, evalq, Filter, Find, get, grep, grepl,\n",
      "    intersect, is.unsorted, lapply, lengths, Map, mapply, match, mget,\n",
      "    order, paste, pmax, pmax.int, pmin, pmin.int, Position, rank,\n",
      "    rbind, Reduce, rownames, sapply, setdiff, sort, table, tapply,\n",
      "    union, unique, unlist, unsplit\n",
      "\n",
      "Loading required package: S4Vectors\n",
      "Loading required package: stats4\n",
      "Loading required package: IRanges\n",
      "\n",
      "Attaching package: ‘IRanges’\n",
      "\n",
      "The following object is masked from ‘package:data.table’:\n",
      "\n",
      "    shift\n",
      "\n",
      "Loading required package: XVector\n",
      "Loading required package: spam\n",
      "Loading required package: dotCall64\n",
      "Loading required package: grid\n",
      "Spam version 2.1-2 (2017-12-21) is loaded.\n",
      "Type 'help( Spam)' or 'demo( spam)' for a short introduction \n",
      "and overview of this package.\n",
      "Help for individual functions is also obtained by adding the\n",
      "suffix '.spam' to the function name, e.g. 'help( chol.spam)'.\n",
      "\n",
      "Attaching package: ‘spam’\n",
      "\n",
      "The following object is masked from ‘package:stats4’:\n",
      "\n",
      "    mle\n",
      "\n",
      "The following objects are masked from ‘package:base’:\n",
      "\n",
      "    backsolve, forwardsolve\n",
      "\n",
      "Loading required package: maps\n",
      "See www.image.ucar.edu/~nychka/Fields for\n",
      " a vignette and other supplements. \n"
     ]
    }
   ],
   "source": [
    "library(naturalsort)\n",
    "library(data.table)\n",
    "library(data.tree)\n",
    "library(Biostrings)\n",
    "library(fields)\n",
    "dataDir <- '../../Data/SimOut032118_genomics/'"
   ]
  },
  {
   "cell_type": "code",
   "execution_count": 2,
   "metadata": {
    "scrolled": true
   },
   "outputs": [],
   "source": [
    "flst<-list.files(dataDir) # Get list of files from directory\n",
    "flst <- naturalsort(flst) # Natural sort the files\n",
    "ncls <- c()\n",
    "rs <- c()\n",
    "k<-1\n",
    "for (i in 1:(length(flst))) {\n",
    "    load(paste0(dataDir,flst[i]))\n",
    "    if (CellPop$totalCount==1) {\n",
    "        ncls[[k]] <- CellPop$ncells[length(CellPop$ncells)]\n",
    "    }\n",
    "    else {\n",
    "        ncls[[k]] <- sum(vapply(CellPop$Get('ncells'),tail,n=1L,FUN.VALUE = numeric(1)))\n",
    "    }\n",
    "    rs[[k]] <- CellPop$Get('r')\n",
    "    rm('CellPop')\n",
    "    k <- k+1\n",
    "    \n",
    "}"
   ]
  },
  {
   "cell_type": "code",
   "execution_count": 3,
   "metadata": {},
   "outputs": [],
   "source": [
    "rs_var <- c()\n",
    "rs_mean <- c()\n",
    "ncells_var <- c()\n",
    "\n",
    "for (i in 1:length(rs)) {\n",
    "    \n",
    "    if (length(rs[[i]])==1) {rs_var[i] <- 0}\n",
    "    else {\n",
    "        rs_var[i] <- var(rs[[i]])\n",
    "        rs_mean[i] <- mean(rs[[i]])\n",
    "    }\n",
    "    ncells_var[i] <- var(ncls[[i]])\n",
    "\n",
    "}"
   ]
  },
  {
   "cell_type": "code",
   "execution_count": 4,
   "metadata": {},
   "outputs": [],
   "source": [
    "norml <- function(x) {\n",
    "    x = (x-min(x))/(max(x)-min(x))\n",
    "    return(x)}"
   ]
  },
  {
   "cell_type": "code",
   "execution_count": 5,
   "metadata": {},
   "outputs": [
    {
     "data": {
      "text/html": [
       "<ol class=list-inline>\n",
       "\t<li>16307</li>\n",
       "\t<li>16358</li>\n",
       "\t<li>15759</li>\n",
       "\t<li>15904</li>\n",
       "\t<li>16121</li>\n",
       "\t<li>16359</li>\n",
       "\t<li>16133</li>\n",
       "\t<li>16162</li>\n",
       "\t<li>15772</li>\n",
       "\t<li>16171</li>\n",
       "\t<li>16367</li>\n",
       "\t<li>16133</li>\n",
       "\t<li>16056</li>\n",
       "\t<li>17626</li>\n",
       "\t<li>16147</li>\n",
       "\t<li>19277</li>\n",
       "\t<li>15413</li>\n",
       "\t<li>16082</li>\n",
       "\t<li>16026</li>\n",
       "\t<li>15932</li>\n",
       "\t<li>16472</li>\n",
       "\t<li>16</li>\n",
       "\t<li>16</li>\n",
       "\t<li>16</li>\n",
       "\t<li>16</li>\n",
       "</ol>\n"
      ],
      "text/latex": [
       "\\begin{enumerate*}\n",
       "\\item 16307\n",
       "\\item 16358\n",
       "\\item 15759\n",
       "\\item 15904\n",
       "\\item 16121\n",
       "\\item 16359\n",
       "\\item 16133\n",
       "\\item 16162\n",
       "\\item 15772\n",
       "\\item 16171\n",
       "\\item 16367\n",
       "\\item 16133\n",
       "\\item 16056\n",
       "\\item 17626\n",
       "\\item 16147\n",
       "\\item 19277\n",
       "\\item 15413\n",
       "\\item 16082\n",
       "\\item 16026\n",
       "\\item 15932\n",
       "\\item 16472\n",
       "\\item 16\n",
       "\\item 16\n",
       "\\item 16\n",
       "\\item 16\n",
       "\\end{enumerate*}\n"
      ],
      "text/markdown": [
       "1. 16307\n",
       "2. 16358\n",
       "3. 15759\n",
       "4. 15904\n",
       "5. 16121\n",
       "6. 16359\n",
       "7. 16133\n",
       "8. 16162\n",
       "9. 15772\n",
       "10. 16171\n",
       "11. 16367\n",
       "12. 16133\n",
       "13. 16056\n",
       "14. 17626\n",
       "15. 16147\n",
       "16. 19277\n",
       "17. 15413\n",
       "18. 16082\n",
       "19. 16026\n",
       "20. 15932\n",
       "21. 16472\n",
       "22. 16\n",
       "23. 16\n",
       "24. 16\n",
       "25. 16\n",
       "\n",
       "\n"
      ],
      "text/plain": [
       " [1] 16307 16358 15759 15904 16121 16359 16133 16162 15772 16171 16367 16133\n",
       "[13] 16056 17626 16147 19277 15413 16082 16026 15932 16472    16    16    16\n",
       "[25]    16"
      ]
     },
     "metadata": {},
     "output_type": "display_data"
    }
   ],
   "source": [
    "ncls"
   ]
  },
  {
   "cell_type": "code",
   "execution_count": 6,
   "metadata": {},
   "outputs": [
    {
     "data": {
      "text/html": [
       "<table>\n",
       "<tbody>\n",
       "\t<tr><td>16307</td><td>16358</td><td>15759</td><td>15904</td><td>16121</td></tr>\n",
       "\t<tr><td>16359</td><td>16133</td><td>16162</td><td>15772</td><td>16171</td></tr>\n",
       "\t<tr><td>16367</td><td>16133</td><td>16056</td><td>17626</td><td>16147</td></tr>\n",
       "\t<tr><td>19277</td><td>15413</td><td>16082</td><td>16026</td><td>15932</td></tr>\n",
       "</tbody>\n",
       "</table>\n"
      ],
      "text/latex": [
       "\\begin{tabular}{lllll}\n",
       "\t 16307 & 16358 & 15759 & 15904 & 16121\\\\\n",
       "\t 16359 & 16133 & 16162 & 15772 & 16171\\\\\n",
       "\t 16367 & 16133 & 16056 & 17626 & 16147\\\\\n",
       "\t 19277 & 15413 & 16082 & 16026 & 15932\\\\\n",
       "\\end{tabular}\n"
      ],
      "text/markdown": [
       "\n",
       "| 16307 | 16358 | 15759 | 15904 | 16121 | \n",
       "| 16359 | 16133 | 16162 | 15772 | 16171 | \n",
       "| 16367 | 16133 | 16056 | 17626 | 16147 | \n",
       "| 19277 | 15413 | 16082 | 16026 | 15932 | \n",
       "\n",
       "\n"
      ],
      "text/plain": [
       "     [,1]  [,2]  [,3]  [,4]  [,5] \n",
       "[1,] 16307 16358 15759 15904 16121\n",
       "[2,] 16359 16133 16162 15772 16171\n",
       "[3,] 16367 16133 16056 17626 16147\n",
       "[4,] 19277 15413 16082 16026 15932"
      ]
     },
     "metadata": {},
     "output_type": "display_data"
    }
   ],
   "source": [
    "matrix(ncls[1:20],nrow=4,ncol=5,byrow=TRUE)"
   ]
  },
  {
   "cell_type": "code",
   "execution_count": 7,
   "metadata": {},
   "outputs": [
    {
     "data": {
      "text/html": [
       "<table>\n",
       "<tbody>\n",
       "\t<tr><td>0.9899725</td><td>0.9917382</td><td>0.9865572</td><td>0.9817480</td><td>0.9773799</td></tr>\n",
       "\t<tr><td>0.9949466</td><td>0.9889942</td><td>0.9865364</td><td>0.9819192</td><td>0.9842637</td></tr>\n",
       "\t<tr><td>0.9990326</td><td>0.9895837</td><td>0.9873509</td><td>1.0869147</td><td>0.9870261</td></tr>\n",
       "\t<tr><td>1.4062675</td><td>0.9805559</td><td>1.0071581</td><td>0.9865929</td><td>0.9833539</td></tr>\n",
       "</tbody>\n",
       "</table>\n"
      ],
      "text/latex": [
       "\\begin{tabular}{lllll}\n",
       "\t 0.9899725 & 0.9917382 & 0.9865572 & 0.9817480 & 0.9773799\\\\\n",
       "\t 0.9949466 & 0.9889942 & 0.9865364 & 0.9819192 & 0.9842637\\\\\n",
       "\t 0.9990326 & 0.9895837 & 0.9873509 & 1.0869147 & 0.9870261\\\\\n",
       "\t 1.4062675 & 0.9805559 & 1.0071581 & 0.9865929 & 0.9833539\\\\\n",
       "\\end{tabular}\n"
      ],
      "text/markdown": [
       "\n",
       "| 0.9899725 | 0.9917382 | 0.9865572 | 0.9817480 | 0.9773799 | \n",
       "| 0.9949466 | 0.9889942 | 0.9865364 | 0.9819192 | 0.9842637 | \n",
       "| 0.9990326 | 0.9895837 | 0.9873509 | 1.0869147 | 0.9870261 | \n",
       "| 1.4062675 | 0.9805559 | 1.0071581 | 0.9865929 | 0.9833539 | \n",
       "\n",
       "\n"
      ],
      "text/plain": [
       "     [,1]      [,2]      [,3]      [,4]      [,5]     \n",
       "[1,] 0.9899725 0.9917382 0.9865572 0.9817480 0.9773799\n",
       "[2,] 0.9949466 0.9889942 0.9865364 0.9819192 0.9842637\n",
       "[3,] 0.9990326 0.9895837 0.9873509 1.0869147 0.9870261\n",
       "[4,] 1.4062675 0.9805559 1.0071581 0.9865929 0.9833539"
      ]
     },
     "metadata": {},
     "output_type": "display_data"
    }
   ],
   "source": [
    "matrix(rs_mean[1:20],nrow=4,ncol=5,byrow=TRUE)"
   ]
  },
  {
   "cell_type": "code",
   "execution_count": 8,
   "metadata": {
    "scrolled": false
   },
   "outputs": [
    {
     "data": {
      "image/png": "[encoded data removed]",
      "text/plain": [
       "Plot with title “Division Rate Variance”"
      ]
     },
     "metadata": {},
     "output_type": "display_data"
    }
   ],
   "source": [
    "rotate <- function(x) t(apply(x, 2, rev))\n",
    "\n",
    "image.plot(rotate(apply(matrix(rs_mean[1:20],nrow=4,ncol=5,byrow=TRUE),2,rev)),axes=F)\n",
    "\n",
    "title(main=\"Division Rate Variance\",xlab='Sp',ylab='Sd');\n",
    "axis(1, at=seq(0,1,0.25), labels=seq(0.8,0.0,-0.2)); \n",
    "axis(2, at=seq(0,1,0.31), labels=seq(1.2,1.8,0.2)); \n"
   ]
  },
  {
   "cell_type": "code",
   "execution_count": 29,
   "metadata": {},
   "outputs": [
    {
     "data": {
      "image/png": "[encoded data removed]",
      "text/plain": [
       "Plot with title “Population Size (# Cells)”"
      ]
     },
     "metadata": {},
     "output_type": "display_data"
    }
   ],
   "source": [
    "rotate <- function(x) t(apply(x, 2, rev))\n",
    "\n",
    "image.plot(rotate(apply(matrix(ncls[1:20],nrow=4,ncol=5,byrow=TRUE),2,rev)),axes=F)\n",
    "\n",
    "title(main=\"Population Size (# Cells)\",xlab='Sp',ylab='Sd');\n",
    "axis(1, at=seq(0,1,0.25), labels=seq(0.8,0.0,-0.2)); \n",
    "axis(2, at=seq(0,1,0.25), labels=seq(1.2,2.0,0.2)); "
   ]
  },
  {
   "cell_type": "code",
   "execution_count": null,
   "metadata": {},
   "outputs": [],
   "source": []
  }
 ],
 "metadata": {
  "kernelspec": {
   "display_name": "R",
   "language": "R",
   "name": "ir"
  },
  "language_info": {
   "codemirror_mode": "r",
   "file_extension": ".r",
   "mimetype": "text/x-r-source",
   "name": "R",
   "pygments_lexer": "r",
   "version": "3.3.2"
  }
 },
 "nbformat": 4,
 "nbformat_minor": 2
}
