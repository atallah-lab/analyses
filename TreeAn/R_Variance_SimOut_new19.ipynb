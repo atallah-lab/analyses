{
 "cells": [
  {
   "cell_type": "code",
   "execution_count": 15,
   "metadata": {},
   "outputs": [
    {
     "name": "stderr",
     "output_type": "stream",
     "text": [
      "Loading required package: spam\n",
      "Loading required package: dotCall64\n",
      "Loading required package: grid\n",
      "Spam version 2.1-2 (2017-12-21) is loaded.\n",
      "Type 'help( Spam)' or 'demo( spam)' for a short introduction \n",
      "and overview of this package.\n",
      "Help for individual functions is also obtained by adding the\n",
      "suffix '.spam' to the function name, e.g. 'help( chol.spam)'.\n",
      "\n",
      "Attaching package: ‘spam’\n",
      "\n",
      "The following object is masked from ‘package:stats4’:\n",
      "\n",
      "    mle\n",
      "\n",
      "The following objects are masked from ‘package:base’:\n",
      "\n",
      "    backsolve, forwardsolve\n",
      "\n",
      "Loading required package: maps\n",
      "See www.image.ucar.edu/~nychka/Fields for\n",
      " a vignette and other supplements. \n"
     ]
    }
   ],
   "source": [
    "library(naturalsort)\n",
    "library(data.table)\n",
    "library(data.tree)\n",
    "library(Biostrings)\n",
    "library(fields)\n",
    "dataDir <- '../../Data/SimOut1/'"
   ]
  },
  {
   "cell_type": "code",
   "execution_count": 5,
   "metadata": {
    "scrolled": true
   },
   "outputs": [],
   "source": [
    "flst<-list.files(dataDir) # Get list of files from directory\n",
    "flst <- naturalsort(flst) # Natural sort the files\n",
    "ncls <- c()\n",
    "rs <- c()\n",
    "k<-1\n",
    "for (i in 1:(length(flst))) {\n",
    "    load(paste0(dataDir,flst[i]))\n",
    "    if (CellPop$totalCount==1) {\n",
    "        ncls[[k]] <- CellPop$ncells[length(CellPop$ncells)]\n",
    "    }\n",
    "    else {\n",
    "        ncls[[k]] <- sum(vapply(CellPop$Get('ncells'),tail,n=1L,FUN.VALUE = numeric(1)))\n",
    "    }\n",
    "    rs[[k]] <- CellPop$Get('r')\n",
    "    rm('CellPop')\n",
    "    k <- k+1\n",
    "    \n",
    "}"
   ]
  },
  {
   "cell_type": "code",
   "execution_count": 6,
   "metadata": {},
   "outputs": [],
   "source": [
    "rs_var <- c()\n",
    "ncells_var <- c()\n",
    "\n",
    "for (i in 1:length(rs)) {\n",
    "    \n",
    "    if (length(rs[[i]])==1) {rs_var[i] <- 0}\n",
    "    else {rs_var[i] <- var(rs[[i]])}\n",
    "    ncells_var[i] <- var(ncls[[i]])\n",
    "\n",
    "}"
   ]
  },
  {
   "cell_type": "code",
   "execution_count": 7,
   "metadata": {},
   "outputs": [],
   "source": [
    "norml <- function(x) {\n",
    "    x = (x-min(x))/(max(x)-min(x))\n",
    "    return(x)}"
   ]
  },
  {
   "cell_type": "code",
   "execution_count": 18,
   "metadata": {},
   "outputs": [
    {
     "data": {
      "text/html": [
       "<ol class=list-inline>\n",
       "\t<li>261719</li>\n",
       "\t<li>257422</li>\n",
       "\t<li>260216</li>\n",
       "\t<li>258999</li>\n",
       "\t<li>260759</li>\n",
       "\t<li>260544</li>\n",
       "\t<li>260958</li>\n",
       "\t<li>261102</li>\n",
       "\t<li>259481</li>\n",
       "\t<li>260521</li>\n",
       "\t<li>260065</li>\n",
       "\t<li>260895</li>\n",
       "\t<li>258648</li>\n",
       "\t<li>260510</li>\n",
       "\t<li>259841</li>\n",
       "\t<li>258012</li>\n",
       "\t<li>258504</li>\n",
       "\t<li>259421</li>\n",
       "\t<li>259679</li>\n",
       "\t<li>260962</li>\n",
       "\t<li>261222</li>\n",
       "</ol>\n"
      ],
      "text/latex": [
       "\\begin{enumerate*}\n",
       "\\item 261719\n",
       "\\item 257422\n",
       "\\item 260216\n",
       "\\item 258999\n",
       "\\item 260759\n",
       "\\item 260544\n",
       "\\item 260958\n",
       "\\item 261102\n",
       "\\item 259481\n",
       "\\item 260521\n",
       "\\item 260065\n",
       "\\item 260895\n",
       "\\item 258648\n",
       "\\item 260510\n",
       "\\item 259841\n",
       "\\item 258012\n",
       "\\item 258504\n",
       "\\item 259421\n",
       "\\item 259679\n",
       "\\item 260962\n",
       "\\item 261222\n",
       "\\end{enumerate*}\n"
      ],
      "text/markdown": [
       "1. 261719\n",
       "2. 257422\n",
       "3. 260216\n",
       "4. 258999\n",
       "5. 260759\n",
       "6. 260544\n",
       "7. 260958\n",
       "8. 261102\n",
       "9. 259481\n",
       "10. 260521\n",
       "11. 260065\n",
       "12. 260895\n",
       "13. 258648\n",
       "14. 260510\n",
       "15. 259841\n",
       "16. 258012\n",
       "17. 258504\n",
       "18. 259421\n",
       "19. 259679\n",
       "20. 260962\n",
       "21. 261222\n",
       "\n",
       "\n"
      ],
      "text/plain": [
       " [1] 261719 257422 260216 258999 260759 260544 260958 261102 259481 260521\n",
       "[11] 260065 260895 258648 260510 259841 258012 258504 259421 259679 260962\n",
       "[21] 261222"
      ]
     },
     "metadata": {},
     "output_type": "display_data"
    }
   ],
   "source": [
    "ncls"
   ]
  },
  {
   "cell_type": "code",
   "execution_count": 9,
   "metadata": {},
   "outputs": [
    {
     "data": {
      "text/html": [
       "<table>\n",
       "<tbody>\n",
       "\t<tr><td>261719</td><td>257422</td><td>260216</td><td>258999</td><td>260759</td></tr>\n",
       "\t<tr><td>260544</td><td>260958</td><td>261102</td><td>259481</td><td>260521</td></tr>\n",
       "\t<tr><td>260065</td><td>260895</td><td>258648</td><td>260510</td><td>259841</td></tr>\n",
       "\t<tr><td>258012</td><td>258504</td><td>259421</td><td>259679</td><td>260962</td></tr>\n",
       "</tbody>\n",
       "</table>\n"
      ],
      "text/latex": [
       "\\begin{tabular}{lllll}\n",
       "\t 261719 & 257422 & 260216 & 258999 & 260759\\\\\n",
       "\t 260544 & 260958 & 261102 & 259481 & 260521\\\\\n",
       "\t 260065 & 260895 & 258648 & 260510 & 259841\\\\\n",
       "\t 258012 & 258504 & 259421 & 259679 & 260962\\\\\n",
       "\\end{tabular}\n"
      ],
      "text/markdown": [
       "\n",
       "| 261719 | 257422 | 260216 | 258999 | 260759 | \n",
       "| 260544 | 260958 | 261102 | 259481 | 260521 | \n",
       "| 260065 | 260895 | 258648 | 260510 | 259841 | \n",
       "| 258012 | 258504 | 259421 | 259679 | 260962 | \n",
       "\n",
       "\n"
      ],
      "text/plain": [
       "     [,1]   [,2]   [,3]   [,4]   [,5]  \n",
       "[1,] 261719 257422 260216 258999 260759\n",
       "[2,] 260544 260958 261102 259481 260521\n",
       "[3,] 260065 260895 258648 260510 259841\n",
       "[4,] 258012 258504 259421 259679 260962"
      ]
     },
     "metadata": {},
     "output_type": "display_data"
    }
   ],
   "source": [
    "matrix(ncls[1:20],nrow=4,ncol=5,byrow=TRUE)"
   ]
  },
  {
   "cell_type": "code",
   "execution_count": 10,
   "metadata": {},
   "outputs": [
    {
     "data": {
      "text/html": [
       "<table>\n",
       "<tbody>\n",
       "\t<tr><td>0.001117065</td><td>0.004368317</td><td>0.007490437</td><td>0.01307617 </td><td>0.02025206 </td></tr>\n",
       "\t<tr><td>0.001698628</td><td>0.004685942</td><td>0.009939573</td><td>0.01375753 </td><td>0.02087027 </td></tr>\n",
       "\t<tr><td>0.001807852</td><td>0.004608279</td><td>0.009108393</td><td>0.01434587 </td><td>0.02022069 </td></tr>\n",
       "\t<tr><td>0.002838599</td><td>0.008083436</td><td>0.016810635</td><td>0.01604677 </td><td>0.02627520 </td></tr>\n",
       "</tbody>\n",
       "</table>\n"
      ],
      "text/latex": [
       "\\begin{tabular}{lllll}\n",
       "\t 0.001117065 & 0.004368317 & 0.007490437 & 0.01307617  & 0.02025206 \\\\\n",
       "\t 0.001698628 & 0.004685942 & 0.009939573 & 0.01375753  & 0.02087027 \\\\\n",
       "\t 0.001807852 & 0.004608279 & 0.009108393 & 0.01434587  & 0.02022069 \\\\\n",
       "\t 0.002838599 & 0.008083436 & 0.016810635 & 0.01604677  & 0.02627520 \\\\\n",
       "\\end{tabular}\n"
      ],
      "text/markdown": [
       "\n",
       "| 0.001117065 | 0.004368317 | 0.007490437 | 0.01307617  | 0.02025206  | \n",
       "| 0.001698628 | 0.004685942 | 0.009939573 | 0.01375753  | 0.02087027  | \n",
       "| 0.001807852 | 0.004608279 | 0.009108393 | 0.01434587  | 0.02022069  | \n",
       "| 0.002838599 | 0.008083436 | 0.016810635 | 0.01604677  | 0.02627520  | \n",
       "\n",
       "\n"
      ],
      "text/plain": [
       "     [,1]        [,2]        [,3]        [,4]       [,5]      \n",
       "[1,] 0.001117065 0.004368317 0.007490437 0.01307617 0.02025206\n",
       "[2,] 0.001698628 0.004685942 0.009939573 0.01375753 0.02087027\n",
       "[3,] 0.001807852 0.004608279 0.009108393 0.01434587 0.02022069\n",
       "[4,] 0.002838599 0.008083436 0.016810635 0.01604677 0.02627520"
      ]
     },
     "metadata": {},
     "output_type": "display_data"
    }
   ],
   "source": [
    "matrix(rs_var[1:20],nrow=4,ncol=5,byrow=TRUE)"
   ]
  },
  {
   "cell_type": "code",
   "execution_count": 26,
   "metadata": {},
   "outputs": [
    {
     "data": {
      "image/png": "[encoded data removed]",
      "text/plain": [
       "Plot with title “Division Rate Variance”"
      ]
     },
     "metadata": {},
     "output_type": "display_data"
    }
   ],
   "source": [
    "rotate <- function(x) t(apply(x, 2, rev))\n",
    "\n",
    "image.plot(rotate(apply(matrix(rs_var[1:20],nrow=4,ncol=5,byrow=TRUE),2,rev)),axes=F)\n",
    "\n",
    "title(main=\"Division Rate Variance\",xlab='Sp',ylab='Sd');\n",
    "axis(1, at=seq(0,1,0.25), labels=seq(0.8,0.0,-0.2)); \n",
    "axis(2, at=seq(0,1,0.31), labels=seq(1.2,1.8,0.2)); \n"
   ]
  },
  {
   "cell_type": "code",
   "execution_count": 27,
   "metadata": {},
   "outputs": [
    {
     "data": {
      "image/png": "[encoded data removed]",
      "text/plain": [
       "Plot with title “Population Size (# Cells)”"
      ]
     },
     "metadata": {},
     "output_type": "display_data"
    }
   ],
   "source": [
    "rotate <- function(x) t(apply(x, 2, rev))\n",
    "\n",
    "image.plot(rotate(apply(matrix(ncls[1:20],nrow=4,ncol=5,byrow=TRUE),2,rev)),axes=F)\n",
    "\n",
    "title(main=\"Population Size (# Cells)\",xlab='Sp',ylab='Sd');\n",
    "axis(1, at=seq(0,1,0.25), labels=seq(0.8,0.0,-0.2)); \n",
    "axis(2, at=seq(0,1,0.25), labels=seq(1.2,2.0,0.2)); "
   ]
  },
  {
   "cell_type": "code",
   "execution_count": null,
   "metadata": {},
   "outputs": [],
   "source": [
    "load('../../Data/SimOut1_2/0.rda')"
   ]
  },
  {
   "cell_type": "code",
   "execution_count": null,
   "metadata": {},
   "outputs": [],
   "source": [
    "print(CellPop,'r')"
   ]
  },
  {
   "cell_type": "code",
   "execution_count": null,
   "metadata": {},
   "outputs": [],
   "source": [
    "traversal <- Traverse(CellPop, traversal = \"post-order\", filterFun = function(x) x$r != 1)"
   ]
  },
  {
   "cell_type": "code",
   "execution_count": null,
   "metadata": {},
   "outputs": [],
   "source": [
    "traversal[[1]]$tes"
   ]
  },
  {
   "cell_type": "code",
   "execution_count": null,
   "metadata": {},
   "outputs": [],
   "source": [
    "# PURPOSE: Updates the gene annotation of the clone\n",
    "#\n",
    "# INPUT:\n",
    "#   anno         (data frame) Annotation of genes (i.e. chromosome   start   end)\n",
    "#   simout          (list of lists) gen_sim output\n",
    "#   tes             (list of lists) Node tes\n",
    "#\n",
    "# OUTPUT: anno\n",
    "\n",
    "update_anno <- function(anno,  tes) {\n",
    "    \n",
    "#     tmp = mapply(append, simout, tes, SIMPLIFY = FALSE)\n",
    "    tmp=tes\n",
    "    for (i in 1:length(tmp[[3]])) {\n",
    "        # Shift the start loci of genes with start loci beyond the insertion by the width of the L1\n",
    "        anno[anno$chrom==tmp[[2]][i] & anno$start>tmp[[3]][i],]$start <- anno[anno$chrom==tmp[[2]][i] & anno$start>tmp[[3]][i],]$start + width(tmp[[1]][i])  \n",
    "        # Shift the end loci of genes with start loci beyond the insertion by the width of the L1\n",
    "        anno[anno$chrom==tmp[[2]][i] & anno$start>tmp[[3]][i],]$end <- anno[anno$chrom==tmp[[2]][i] & anno$start>tmp[[3]][i],]$end + width(tmp[[1]][i])  \n",
    "        # Shift the end locus of any gene with only end locus beyond the insertion by the width of the L1\n",
    "        anno[anno$chrom==tmp[[2]][i] & anno$end>tmp[[3]][i] & anno$start<tmp[[3]][i],]$end <- anno[anno$chrom==tmp[[2]][i] & anno$end>tmp[[3]][i] & anno$start<tmp[[3]][i],]$end + width(tmp[[1]][i])        \n",
    "    }\n",
    "    return(anno) \n",
    "}"
   ]
  },
  {
   "cell_type": "code",
   "execution_count": null,
   "metadata": {},
   "outputs": [],
   "source": [
    "rank_clone <- function(r, anno, sites_chrm, sites_loci, gainp, lossp) {\n",
    "\n",
    "    gene_hits=0; # set counter to zero\n",
    "    tsg_hits=0;\n",
    "    for (i in 1:length(unique(sites_chrm))) { # loop over chromosomes inserted into\n",
    "        tmp=anno[anno$chrom==unique(sites_chrm)[i],] # reduce annotation table to entries for current chrom\n",
    "        chrmann_ntsg=tmp[tmp$istsg==0,]\n",
    "        chrmann_tsg =tmp[tmp$istsg==1,]\n",
    "        tmp = sites_loci[sites_chrm==unique(sites_chrm)[i]] # reduce insertion loci to entries for current chrom\n",
    "        tmp_hits = between(tmp,chrmann_ntsg$start,chrmann_ntsg$end) # create logical for insertions, whether into non-tsg-gene or not\n",
    "        gene_hits=gene_hits+length(which(tmp_hits==TRUE)) # count the number of non-tsg-gene insertions\n",
    "#         print(gene_hits)\n",
    "        tmp_hits  = between(tmp,chrmann_tsg$start,chrmann_tsg$end) # same for tsg-gene insertions\n",
    "        tsg_hits =tsg_hits+length(which(tmp_hits==TRUE))\n",
    "    }\n",
    "\n",
    "    if (gene_hits > 0 || tsg_hits > 0){\n",
    "        r=r*(lossp^gene_hits)*(gainp^tsg_hits)\n",
    "    }\n",
    "\n",
    "    if (r < 0.25) { # If the division rate is below 0.25, the clone stops growing\n",
    "        r<-0\n",
    "    }\n",
    "\n",
    "    return(r)\n",
    "}\n"
   ]
  },
  {
   "cell_type": "code",
   "execution_count": null,
   "metadata": {},
   "outputs": [],
   "source": [
    "load('../../sim-develop/data/exann.rda')"
   ]
  },
  {
   "cell_type": "code",
   "execution_count": null,
   "metadata": {},
   "outputs": [],
   "source": [
    "head(exann)"
   ]
  },
  {
   "cell_type": "code",
   "execution_count": null,
   "metadata": {},
   "outputs": [],
   "source": [
    "k <- traversal[[1]]$tes"
   ]
  },
  {
   "cell_type": "code",
   "execution_count": null,
   "metadata": {},
   "outputs": [],
   "source": [
    "k"
   ]
  },
  {
   "cell_type": "code",
   "execution_count": null,
   "metadata": {},
   "outputs": [],
   "source": [
    "tmpAnn <- update_anno(exann,k)"
   ]
  },
  {
   "cell_type": "code",
   "execution_count": null,
   "metadata": {},
   "outputs": [],
   "source": [
    "load('../../sim-develop/data/exann.rda')\n",
    "for (node in traversal) {\n",
    "    nodeTes <- node$tes\n",
    "    tmpAnn <- update_anno(exann,nodeTes)\n",
    "    \n",
    "    \n",
    "}"
   ]
  },
  {
   "cell_type": "code",
   "execution_count": null,
   "metadata": {},
   "outputs": [],
   "source": [
    "r <- rank_clone(1,tmpAnn,k[[2]],k[[3]],1.2,.8)\n",
    "r"
   ]
  },
  {
   "cell_type": "code",
   "execution_count": null,
   "metadata": {},
   "outputs": [],
   "source": []
  }
 ],
 "metadata": {
  "kernelspec": {
   "display_name": "R",
   "language": "R",
   "name": "ir"
  },
  "language_info": {
   "codemirror_mode": "r",
   "file_extension": ".r",
   "mimetype": "text/x-r-source",
   "name": "R",
   "pygments_lexer": "r",
   "version": "3.3.2"
  }
 },
 "nbformat": 4,
 "nbformat_minor": 2
}
