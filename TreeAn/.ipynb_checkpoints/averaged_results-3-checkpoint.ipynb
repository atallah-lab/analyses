{
 "cells": [
  {
   "cell_type": "code",
   "execution_count": 1,
   "metadata": {
    "collapsed": true
   },
   "outputs": [
    {
     "name": "stderr",
     "output_type": "stream",
     "text": [
      "Loading required package: spam\n",
      "Loading required package: dotCall64\n",
      "Loading required package: grid\n",
      "Spam version 2.1-4 (2018-04-12) is loaded.\n",
      "Type 'help( Spam)' or 'demo( spam)' for a short introduction \n",
      "and overview of this package.\n",
      "Help for individual functions is also obtained by adding the\n",
      "suffix '.spam' to the function name, e.g. 'help( chol.spam)'.\n",
      "\n",
      "Attaching package: ‘spam’\n",
      "\n",
      "The following objects are masked from ‘package:base’:\n",
      "\n",
      "    backsolve, forwardsolve\n",
      "\n",
      "Loading required package: maps\n",
      "See www.image.ucar.edu/~nychka/Fields for\n",
      " a vignette and other supplements. \n",
      "Loading required package: plotrix\n",
      "\n",
      "Attaching package: ‘plotrix’\n",
      "\n",
      "The following object is masked from ‘package:fields’:\n",
      "\n",
      "    color.scale\n",
      "\n"
     ]
    }
   ],
   "source": [
    "library(fields)\n",
    "library(rasterImage)"
   ]
  },
  {
   "cell_type": "code",
   "execution_count": 2,
   "metadata": {},
   "outputs": [],
   "source": [
    "files<-c('~/Desktop/out0507_1.rda','~/Desktop/out0507_2.rda','~/Desktop/out0507_3.rda','~/Desktop/out0507_4.rda','~/Desktop/out0507_5.rda','~/Desktop/out0507_6.rda','~/Desktop/out0507_7.rda','~/Desktop/out0507_8.rda')"
   ]
  },
  {
   "cell_type": "code",
   "execution_count": 3,
   "metadata": {},
   "outputs": [],
   "source": [
    "N<-c()\n",
    "for (i in files) {\n",
    "    \n",
    "    load(i)\n",
    "    N <- append(N,nclsot)\n",
    "    \n",
    "}"
   ]
  },
  {
   "cell_type": "code",
   "execution_count": 4,
   "metadata": {},
   "outputs": [],
   "source": [
    "N_arc <- N\n",
    "N <- simplify2array(N)\n",
    "N_av <- matrix(data=NA,nrow=17,ncol=25)\n",
    "for (j in 1:25) {\n",
    "    for (i in 1:17) {\n",
    "\n",
    "        N_av[i,j] <- mean(N[i,seq(1,200,25)+(j-1)])\n",
    "\n",
    "    }\n",
    "}"
   ]
  },
  {
   "cell_type": "code",
   "execution_count": 95,
   "metadata": {},
   "outputs": [
    {
     "data": {
      "text/html": [
       "<strong>png:</strong> 2"
      ],
      "text/latex": [
       "\\textbf{png:} 2"
      ],
      "text/markdown": [
       "**png:** 2"
      ],
      "text/plain": [
       "png \n",
       "  2 "
      ]
     },
     "metadata": {},
     "output_type": "display_data"
    }
   ],
   "source": [
    "pdf('test2.pdf')\n",
    "colscheme = c(\"green2\",\"turquoise3\",\"steelblue3\",\"grey\",\"black\")\n",
    "plot(tail(N_av[,1],n=13)/(2^c(4:16)),type='n',ylim=c(0.935,1.07),xaxt='n',ylab='Normalized Population Size',xlab='Time Step')\n",
    "# plot(tail(nclsot[[1]],n=13))\n",
    "cols = c(rep(colscheme,5))\n",
    "for (i in 1:25) {\n",
    "    lines(tail(N_av[,i],n=13)/(2^c(4:16)),col=cols[i],xaxt='n')\n",
    "}\n",
    "axis(1, at = seq(1,13,1),labels=seq(5,17,1))\n",
    "legend(1, 1.07, legend=c(\"Sp = 0.0\", \"Sp = 0.001\", \"Sp = 0.01\", \"Sp = 0.1\", \"Sp = 1.0\"),\n",
    "       col=c(\"green2\",\"turquoise3\",\"steelblue3\",\"grey\",\"black\"), lty=1, cex=0.8)\n",
    "dev.off()"
   ]
  },
  {
   "cell_type": "code",
   "execution_count": 84,
   "metadata": {},
   "outputs": [
    {
     "data": {
      "text/html": [
       "<strong>png:</strong> 2"
      ],
      "text/latex": [
       "\\textbf{png:} 2"
      ],
      "text/markdown": [
       "**png:** 2"
      ],
      "text/plain": [
       "png \n",
       "  2 "
      ]
     },
     "metadata": {},
     "output_type": "display_data"
    }
   ],
   "source": [
    "pdf('test2.pdf')\n",
    "colscheme = c(\"green2\",\"turquoise3\",\"steelblue3\",\"grey\",\"black\")\n",
    "plot(tail(N_av[,1],n=13)/(2^c(4:16)),type='n',ylim=c(0.935,1.07),xaxt='n',ylab='Normalized Population Size',xlab='Time Step')\n",
    "# plot(tail(nclsot[[1]],n=13))\n",
    "# cols = c(rep(colscheme,5))\n",
    "cols = c(rep(\"green2\",5),rep(\"turquoise3\",5),rep(\"steelblue3\",5),rep(\"grey\",5),rep(\"black\",5))\n",
    "\n",
    "for (i in 1:25) {\n",
    "    lines(tail(N_av[,i],n=13)/(2^c(4:16)),col=cols[i],xaxt='n')\n",
    "}\n",
    "axis(1, at = seq(1,13,1),labels=seq(5,17,1))\n",
    "legend(1, 1.07, legend=c(\"Sd = 0.0\", \"Sd = 0.001\", \"Sd = 0.01\", \"Sd = 0.1\", \"Sd = 1.0\"),\n",
    "       col=c(\"green2\",\"turquoise3\",\"steelblue3\",\"grey\",\"black\"), lty=1, cex=0.8)\n",
    "dev.off()"
   ]
  },
  {
   "cell_type": "code",
   "execution_count": 42,
   "metadata": {},
   "outputs": [
    {
     "data": {
      "text/html": [
       "<table>\n",
       "<tbody>\n",
       "\t<tr><td>    1.000</td><td>    1.000</td><td>    1.000</td><td>    1.000</td><td>    1.000</td></tr>\n",
       "\t<tr><td>    2.750</td><td>    2.875</td><td>    2.500</td><td>    2.625</td><td>    2.625</td></tr>\n",
       "\t<tr><td>    5.125</td><td>    4.750</td><td>    4.000</td><td>    4.750</td><td>    4.375</td></tr>\n",
       "\t<tr><td>    8.000</td><td>    8.000</td><td>    8.000</td><td>    7.875</td><td>    7.875</td></tr>\n",
       "\t<tr><td>   16.000</td><td>   16.000</td><td>   16.000</td><td>   15.625</td><td>   15.625</td></tr>\n",
       "\t<tr><td>   32.000</td><td>   32.000</td><td>   31.750</td><td>   31.125</td><td>   31.125</td></tr>\n",
       "\t<tr><td>   63.875</td><td>   63.875</td><td>   63.125</td><td>   61.750</td><td>   62.000</td></tr>\n",
       "\t<tr><td>  127.625</td><td>  127.500</td><td>  125.625</td><td>  122.875</td><td>  123.375</td></tr>\n",
       "\t<tr><td>  254.625</td><td>  254.000</td><td>  249.875</td><td>  244.750</td><td>  246.125</td></tr>\n",
       "\t<tr><td>  507.375</td><td>  505.875</td><td>  497.750</td><td>  487.500</td><td>  490.875</td></tr>\n",
       "\t<tr><td> 1011.125</td><td> 1008.125</td><td>  991.125</td><td>  970.125</td><td>  978.625</td></tr>\n",
       "\t<tr><td> 2013.875</td><td> 2008.125</td><td> 1973.000</td><td> 1931.500</td><td> 1950.875</td></tr>\n",
       "\t<tr><td> 4010.875</td><td> 3998.625</td><td> 3927.625</td><td> 3845.000</td><td> 3889.750</td></tr>\n",
       "\t<tr><td> 7986.500</td><td> 7964.125</td><td> 7818.375</td><td> 7652.750</td><td> 7760.250</td></tr>\n",
       "\t<tr><td>15905.500</td><td>15859.375</td><td>15565.875</td><td>15234.750</td><td>15497.750</td></tr>\n",
       "\t<tr><td>31679.875</td><td>31577.750</td><td>30995.750</td><td>30339.000</td><td>30995.875</td></tr>\n",
       "\t<tr><td>63088.875</td><td>62877.875</td><td>61728.625</td><td>60418.125</td><td>62158.875</td></tr>\n",
       "</tbody>\n",
       "</table>\n"
      ],
      "text/latex": [
       "\\begin{tabular}{lllll}\n",
       "\t     1.000 &     1.000 &     1.000 &     1.000 &     1.000\\\\\n",
       "\t     2.750 &     2.875 &     2.500 &     2.625 &     2.625\\\\\n",
       "\t     5.125 &     4.750 &     4.000 &     4.750 &     4.375\\\\\n",
       "\t     8.000 &     8.000 &     8.000 &     7.875 &     7.875\\\\\n",
       "\t    16.000 &    16.000 &    16.000 &    15.625 &    15.625\\\\\n",
       "\t    32.000 &    32.000 &    31.750 &    31.125 &    31.125\\\\\n",
       "\t    63.875 &    63.875 &    63.125 &    61.750 &    62.000\\\\\n",
       "\t   127.625 &   127.500 &   125.625 &   122.875 &   123.375\\\\\n",
       "\t   254.625 &   254.000 &   249.875 &   244.750 &   246.125\\\\\n",
       "\t   507.375 &   505.875 &   497.750 &   487.500 &   490.875\\\\\n",
       "\t  1011.125 &  1008.125 &   991.125 &   970.125 &   978.625\\\\\n",
       "\t  2013.875 &  2008.125 &  1973.000 &  1931.500 &  1950.875\\\\\n",
       "\t  4010.875 &  3998.625 &  3927.625 &  3845.000 &  3889.750\\\\\n",
       "\t  7986.500 &  7964.125 &  7818.375 &  7652.750 &  7760.250\\\\\n",
       "\t 15905.500 & 15859.375 & 15565.875 & 15234.750 & 15497.750\\\\\n",
       "\t 31679.875 & 31577.750 & 30995.750 & 30339.000 & 30995.875\\\\\n",
       "\t 63088.875 & 62877.875 & 61728.625 & 60418.125 & 62158.875\\\\\n",
       "\\end{tabular}\n"
      ],
      "text/markdown": [
       "\n",
       "|     1.000 |     1.000 |     1.000 |     1.000 |     1.000 | \n",
       "|     2.750 |     2.875 |     2.500 |     2.625 |     2.625 | \n",
       "|     5.125 |     4.750 |     4.000 |     4.750 |     4.375 | \n",
       "|     8.000 |     8.000 |     8.000 |     7.875 |     7.875 | \n",
       "|    16.000 |    16.000 |    16.000 |    15.625 |    15.625 | \n",
       "|    32.000 |    32.000 |    31.750 |    31.125 |    31.125 | \n",
       "|    63.875 |    63.875 |    63.125 |    61.750 |    62.000 | \n",
       "|   127.625 |   127.500 |   125.625 |   122.875 |   123.375 | \n",
       "|   254.625 |   254.000 |   249.875 |   244.750 |   246.125 | \n",
       "|   507.375 |   505.875 |   497.750 |   487.500 |   490.875 | \n",
       "|  1011.125 |  1008.125 |   991.125 |   970.125 |   978.625 | \n",
       "|  2013.875 |  2008.125 |  1973.000 |  1931.500 |  1950.875 | \n",
       "|  4010.875 |  3998.625 |  3927.625 |  3845.000 |  3889.750 | \n",
       "|  7986.500 |  7964.125 |  7818.375 |  7652.750 |  7760.250 | \n",
       "| 15905.500 | 15859.375 | 15565.875 | 15234.750 | 15497.750 | \n",
       "| 31679.875 | 31577.750 | 30995.750 | 30339.000 | 30995.875 | \n",
       "| 63088.875 | 62877.875 | 61728.625 | 60418.125 | 62158.875 | \n",
       "\n",
       "\n"
      ],
      "text/plain": [
       "      [,1]      [,2]      [,3]      [,4]      [,5]     \n",
       " [1,]     1.000     1.000     1.000     1.000     1.000\n",
       " [2,]     2.750     2.875     2.500     2.625     2.625\n",
       " [3,]     5.125     4.750     4.000     4.750     4.375\n",
       " [4,]     8.000     8.000     8.000     7.875     7.875\n",
       " [5,]    16.000    16.000    16.000    15.625    15.625\n",
       " [6,]    32.000    32.000    31.750    31.125    31.125\n",
       " [7,]    63.875    63.875    63.125    61.750    62.000\n",
       " [8,]   127.625   127.500   125.625   122.875   123.375\n",
       " [9,]   254.625   254.000   249.875   244.750   246.125\n",
       "[10,]   507.375   505.875   497.750   487.500   490.875\n",
       "[11,]  1011.125  1008.125   991.125   970.125   978.625\n",
       "[12,]  2013.875  2008.125  1973.000  1931.500  1950.875\n",
       "[13,]  4010.875  3998.625  3927.625  3845.000  3889.750\n",
       "[14,]  7986.500  7964.125  7818.375  7652.750  7760.250\n",
       "[15,] 15905.500 15859.375 15565.875 15234.750 15497.750\n",
       "[16,] 31679.875 31577.750 30995.750 30339.000 30995.875\n",
       "[17,] 63088.875 62877.875 61728.625 60418.125 62158.875"
      ]
     },
     "metadata": {},
     "output_type": "display_data"
    }
   ],
   "source": [
    "N_av[,seq(1,25,5)+4]"
   ]
  },
  {
   "cell_type": "code",
   "execution_count": 43,
   "metadata": {},
   "outputs": [],
   "source": [
    "NavPass <-matrix(1,17,5)\n",
    "    \n",
    "NavPass[,1] <- rowSums(N_av[,1:5])/5\n",
    "NavPass[,2] <- rowSums(N_av[,6:10])/5\n",
    "NavPass[,3] <- rowSums(N_av[,11:15])/5\n",
    "NavPass[,4] <- rowSums(N_av[,16:20])/5\n",
    "NavPass[,5] <- rowSums(N_av[,21:25])/5\n"
   ]
  },
  {
   "cell_type": "code",
   "execution_count": 44,
   "metadata": {},
   "outputs": [],
   "source": [
    "NavPass <-matrix(1,17,5)\n",
    "pts <- c(1,6,11,16,21)\n",
    "for (i in 0:4) {\n",
    "    if (i!=2) {\n",
    "        NavPass[,i+1] <- rowSums(N_av[,seq(1,25,5)+i])/5\n",
    "    }\n",
    "    else {\n",
    "        NavPass[,i+1] <- rowSums(N_av[,c(3,8,13,18)])/4\n",
    "    }\n",
    "    \n",
    "}"
   ]
  },
  {
   "cell_type": "code",
   "execution_count": 45,
   "metadata": {},
   "outputs": [
    {
     "data": {
      "image/png": "[encoded data removed]",
      "text/plain": [
       "plot without title"
      ]
     },
     "metadata": {},
     "output_type": "display_data"
    }
   ],
   "source": [
    "colscheme = c(\"deeppink\",\"darkgreen\",\"dodgerblue\",\"grey\",\"black\")\n",
    "plot(tail(NavPass[,1],n=13)/(2^c(4:16)),type='n',ylim=c(0.935,1.07),xaxt='n',ylab='Normalized Population Size',xlab='Time Step')\n",
    "# plot(tail(nclsot[[1]],n=13))\n",
    "cols = c(rep(colscheme,5))\n",
    "# cols = c(rep(\"deeppink\",5),rep(\"darkgreen\",5),rep(\"dodgerblue\",5),rep(\"grey\",5),rep(\"black\",5))\n",
    "for (i in 1:5) {\n",
    "    lines(tail(NavPass[,i],n=13)/(2^c(4:16)),col=cols[i],xaxt='n')\n",
    "#     lines(tail(nclsot[[i]],n=13))\n",
    "}\n",
    "axis(1, at = seq(1,13,1),labels=seq(5,17,1))"
   ]
  },
  {
   "cell_type": "code",
   "execution_count": 46,
   "metadata": {},
   "outputs": [],
   "source": [
    "Nt<-c()\n",
    "for (i in files) {\n",
    "    \n",
    "    load(i)\n",
    "    Nt <- append(Nt,nclst)\n",
    "    \n",
    "}"
   ]
  },
  {
   "cell_type": "code",
   "execution_count": 47,
   "metadata": {},
   "outputs": [],
   "source": [
    "Nt <- matrix(Nt,nrow=8,ncol=25,byrow=TRUE)"
   ]
  },
  {
   "cell_type": "code",
   "execution_count": 48,
   "metadata": {},
   "outputs": [],
   "source": [
    "Ntav <- c()\n",
    "for (i in 1:25) {\n",
    "    Ntav[i] <- mean(unlist(Nt[,i]))\n",
    "}"
   ]
  },
  {
   "cell_type": "code",
   "execution_count": 49,
   "metadata": {},
   "outputs": [],
   "source": [
    "Ntav[23]=67000;"
   ]
  },
  {
   "cell_type": "code",
   "execution_count": 75,
   "metadata": {
    "scrolled": false
   },
   "outputs": [
    {
     "data": {
      "image/png": "[encoded data removed]",
      "text/plain": [
       "Plot with title “Population Size”"
      ]
     },
     "metadata": {},
     "output_type": "display_data"
    }
   ],
   "source": [
    "# pdf('rasterPopSize.pdf')\n",
    "rotate <- function(x) t(apply(x, 2, rev))\n",
    "n=256\n",
    "cols = rainbow(n, s = 1, v = 1, start = 0.7, end = 0, alpha = 1)\n",
    "image.plot(rotate(apply(matrix(Ntav[1:25],nrow=5,ncol=5,byrow=TRUE),2,rev)),axes=F,col=cols)\n",
    "\n",
    "title(main=\"Population Size\",xlab='Sp',ylab='Sd');\n",
    "axis(1, at=seq(0,1,0.25), labels=c(0.0,0.001,0.01,0.1,1.0)); \n",
    "axis(2, at=seq(0,1,0.25), labels=c(0.0,0.001,0.01,0.1,1.0)); \n",
    "# dev.off()"
   ]
  },
  {
   "cell_type": "code",
   "execution_count": 77,
   "metadata": {},
   "outputs": [
    {
     "data": {
      "text/html": [
       "<table>\n",
       "<tbody>\n",
       "\t<tr><td>73304.62</td><td>66060.75</td><td>67000.00</td><td>66199.75</td><td>62158.88</td></tr>\n",
       "\t<tr><td>65610.38</td><td>65540.62</td><td>65537.62</td><td>63623.12</td><td>60418.12</td></tr>\n",
       "\t<tr><td>65536.00</td><td>65536.00</td><td>65534.88</td><td>65319.75</td><td>61728.62</td></tr>\n",
       "\t<tr><td>65536.00</td><td>65536.00</td><td>65533.12</td><td>65290.88</td><td>62877.88</td></tr>\n",
       "\t<tr><td>65536.00</td><td>65535.88</td><td>65521.25</td><td>65031.88</td><td>63088.88</td></tr>\n",
       "</tbody>\n",
       "</table>\n"
      ],
      "text/latex": [
       "\\begin{tabular}{lllll}\n",
       "\t 73304.62 & 66060.75 & 67000.00 & 66199.75 & 62158.88\\\\\n",
       "\t 65610.38 & 65540.62 & 65537.62 & 63623.12 & 60418.12\\\\\n",
       "\t 65536.00 & 65536.00 & 65534.88 & 65319.75 & 61728.62\\\\\n",
       "\t 65536.00 & 65536.00 & 65533.12 & 65290.88 & 62877.88\\\\\n",
       "\t 65536.00 & 65535.88 & 65521.25 & 65031.88 & 63088.88\\\\\n",
       "\\end{tabular}\n"
      ],
      "text/markdown": [
       "\n",
       "| 73304.62 | 66060.75 | 67000.00 | 66199.75 | 62158.88 | \n",
       "| 65610.38 | 65540.62 | 65537.62 | 63623.12 | 60418.12 | \n",
       "| 65536.00 | 65536.00 | 65534.88 | 65319.75 | 61728.62 | \n",
       "| 65536.00 | 65536.00 | 65533.12 | 65290.88 | 62877.88 | \n",
       "| 65536.00 | 65535.88 | 65521.25 | 65031.88 | 63088.88 | \n",
       "\n",
       "\n"
      ],
      "text/plain": [
       "     [,1]     [,2]     [,3]     [,4]     [,5]    \n",
       "[1,] 73304.62 66060.75 67000.00 66199.75 62158.88\n",
       "[2,] 65610.38 65540.62 65537.62 63623.12 60418.12\n",
       "[3,] 65536.00 65536.00 65534.88 65319.75 61728.62\n",
       "[4,] 65536.00 65536.00 65533.12 65290.88 62877.88\n",
       "[5,] 65536.00 65535.88 65521.25 65031.88 63088.88"
      ]
     },
     "metadata": {},
     "output_type": "display_data"
    }
   ],
   "source": [
    "test <- t(rotate(matrix(Ntav[1:25],nrow=5,ncol=5,byrow=TRUE)))\n",
    "test"
   ]
  },
  {
   "cell_type": "code",
   "execution_count": 78,
   "metadata": {},
   "outputs": [],
   "source": [
    "gna<-c()\n",
    "for (i in files) {\n",
    "    \n",
    "    load(i)\n",
    "    gna <- append(gna,gns)\n",
    "    \n",
    "}"
   ]
  },
  {
   "cell_type": "code",
   "execution_count": 79,
   "metadata": {},
   "outputs": [],
   "source": [
    "for (i in 1:200) {\n",
    "    \n",
    "    gna[[i]] <- length(which(!as.logical(gna[[i]]$tsg)))/length(which(as.logical(gna[[i]]$tsg)))\n",
    "    \n",
    "}"
   ]
  },
  {
   "cell_type": "code",
   "execution_count": 82,
   "metadata": {},
   "outputs": [
    {
     "ename": "ERROR",
     "evalue": "Error in color.hist(): could not find function \"color.hist\"\n",
     "output_type": "error",
     "traceback": [
      "Error in color.hist(): could not find function \"color.hist\"\nTraceback:\n"
     ]
    }
   ],
   "source": [
    "color.hist()"
   ]
  },
  {
   "cell_type": "code",
   "execution_count": 94,
   "metadata": {},
   "outputs": [
    {
     "data": {
      "image/png": "[encoded data removed]",
      "text/plain": [
       "Plot with title “Histogram of Passenger/Driver Count Ratio”"
      ]
     },
     "metadata": {},
     "output_type": "display_data"
    }
   ],
   "source": [
    "# pdf('pass_driv_hist.pdf')\n",
    "hist(unlist(gna),breaks=25,main=\"Histogram of Passenger/Driver Count Ratio\",xlab=\"Ratio of Passenger Count to Driver Count\",col=1,ylim=c(0,30))\n",
    "# dev.off()"
   ]
  },
  {
   "cell_type": "code",
   "execution_count": null,
   "metadata": {},
   "outputs": [],
   "source": []
  },
  {
   "cell_type": "code",
   "execution_count": null,
   "metadata": {},
   "outputs": [],
   "source": []
  },
  {
   "cell_type": "code",
   "execution_count": null,
   "metadata": {},
   "outputs": [],
   "source": []
  },
  {
   "cell_type": "code",
   "execution_count": null,
   "metadata": {},
   "outputs": [],
   "source": []
  },
  {
   "cell_type": "code",
   "execution_count": null,
   "metadata": {},
   "outputs": [],
   "source": []
  },
  {
   "cell_type": "code",
   "execution_count": null,
   "metadata": {},
   "outputs": [],
   "source": []
  },
  {
   "cell_type": "code",
   "execution_count": null,
   "metadata": {},
   "outputs": [],
   "source": []
  },
  {
   "cell_type": "code",
   "execution_count": null,
   "metadata": {},
   "outputs": [],
   "source": []
  },
  {
   "cell_type": "code",
   "execution_count": null,
   "metadata": {},
   "outputs": [],
   "source": []
  }
 ],
 "metadata": {
  "kernelspec": {
   "display_name": "R",
   "language": "R",
   "name": "ir"
  },
  "language_info": {
   "codemirror_mode": "r",
   "file_extension": ".r",
   "mimetype": "text/x-r-source",
   "name": "R",
   "pygments_lexer": "r",
   "version": "3.4.4"
  }
 },
 "nbformat": 4,
 "nbformat_minor": 2
}
