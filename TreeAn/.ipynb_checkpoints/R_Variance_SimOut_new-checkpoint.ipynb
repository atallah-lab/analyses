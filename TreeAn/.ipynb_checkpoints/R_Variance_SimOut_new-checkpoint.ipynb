{
 "cells": [
  {
   "cell_type": "code",
   "execution_count": 1,
   "metadata": {
    "collapsed": true
   },
   "outputs": [
    {
     "name": "stderr",
     "output_type": "stream",
     "text": [
      "Loading required package: BiocGenerics\n",
      "Loading required package: parallel\n",
      "\n",
      "Attaching package: ‘BiocGenerics’\n",
      "\n",
      "The following objects are masked from ‘package:parallel’:\n",
      "\n",
      "    clusterApply, clusterApplyLB, clusterCall, clusterEvalQ,\n",
      "    clusterExport, clusterMap, parApply, parCapply, parLapply,\n",
      "    parLapplyLB, parRapply, parSapply, parSapplyLB\n",
      "\n",
      "The following objects are masked from ‘package:stats’:\n",
      "\n",
      "    IQR, mad, xtabs\n",
      "\n",
      "The following objects are masked from ‘package:base’:\n",
      "\n",
      "    anyDuplicated, append, as.data.frame, as.vector, cbind, colnames,\n",
      "    do.call, duplicated, eval, evalq, Filter, Find, get, grep, grepl,\n",
      "    intersect, is.unsorted, lapply, lengths, Map, mapply, match, mget,\n",
      "    order, paste, pmax, pmax.int, pmin, pmin.int, Position, rank,\n",
      "    rbind, Reduce, rownames, sapply, setdiff, sort, table, tapply,\n",
      "    union, unique, unlist, unsplit\n",
      "\n",
      "Loading required package: S4Vectors\n",
      "Loading required package: stats4\n",
      "Loading required package: IRanges\n",
      "\n",
      "Attaching package: ‘IRanges’\n",
      "\n",
      "The following object is masked from ‘package:data.table’:\n",
      "\n",
      "    shift\n",
      "\n",
      "Loading required package: XVector\n",
      "Loading required package: spam\n",
      "Loading required package: dotCall64\n",
      "Loading required package: grid\n",
      "Spam version 2.1-2 (2017-12-21) is loaded.\n",
      "Type 'help( Spam)' or 'demo( spam)' for a short introduction \n",
      "and overview of this package.\n",
      "Help for individual functions is also obtained by adding the\n",
      "suffix '.spam' to the function name, e.g. 'help( chol.spam)'.\n",
      "\n",
      "Attaching package: ‘spam’\n",
      "\n",
      "The following object is masked from ‘package:stats4’:\n",
      "\n",
      "    mle\n",
      "\n",
      "The following objects are masked from ‘package:base’:\n",
      "\n",
      "    backsolve, forwardsolve\n",
      "\n",
      "Loading required package: maps\n",
      "See www.image.ucar.edu/~nychka/Fields for\n",
      " a vignette and other supplements. \n"
     ]
    }
   ],
   "source": [
    "library(naturalsort)\n",
    "library(data.table)\n",
    "library(data.tree)\n",
    "library(Biostrings)\n",
    "library(fields)\n",
    "dataDir <- '../../Data/SimOut1_2/'"
   ]
  },
  {
   "cell_type": "code",
   "execution_count": 30,
   "metadata": {
    "scrolled": true
   },
   "outputs": [],
   "source": [
    "flst<-list.files(dataDir) # Get list of files from directory\n",
    "flst <- naturalsort(flst) # Natural sort the files\n",
    "ncls <- c()\n",
    "rs <- c()\n",
    "\n",
    "ncells_max <- c()\n",
    "nclones <- c()\n",
    "\n",
    "k<-1\n",
    "for (i in 1:(length(flst))) {\n",
    "    load(paste0(dataDir,flst[i]))\n",
    "    if (CellPop$totalCount==1) {\n",
    "        ncls[[k]] <- CellPop$ncells[length(CellPop$ncells)]\n",
    "        ncells_max[k] <- CellPop$ncells[length(CellPop$ncells)]\n",
    "    }\n",
    "    else {\n",
    "        ncls[[k]] <- sum(vapply(CellPop$Get('ncells'),tail,n=1L,FUN.VALUE = numeric(1)))\n",
    "        ncells_max[k] <- max(vapply(CellPop$Get('ncells'),tail,n=1L,FUN.VALUE = numeric(1)))\n",
    "    }\n",
    "    rs[[k]] <- CellPop$Get('r')\n",
    "    nclones[k] <- CellPop$totalCount\n",
    "    rm('CellPop')\n",
    "    k <- k+1\n",
    "    \n",
    "}"
   ]
  },
  {
   "cell_type": "code",
   "execution_count": 23,
   "metadata": {},
   "outputs": [],
   "source": [
    "rs_var <- c()\n",
    "\n",
    "for (i in 1:length(rs)) {\n",
    "    \n",
    "    if (length(rs[[i]])==1) {rs_var[i] <- 0}\n",
    "    else {rs_var[i] <- var(rs[[i]])}\n",
    "\n",
    "}"
   ]
  },
  {
   "cell_type": "code",
   "execution_count": 24,
   "metadata": {},
   "outputs": [],
   "source": [
    "norml <- function(x) {\n",
    "    x = (x-min(x))/(max(x)-min(x))\n",
    "    return(x)}"
   ]
  },
  {
   "cell_type": "code",
   "execution_count": 25,
   "metadata": {},
   "outputs": [
    {
     "data": {
      "text/html": [
       "<table>\n",
       "<tbody>\n",
       "\t<tr><td>65424</td><td>64179</td><td>65114</td><td>65164</td><td>64779</td></tr>\n",
       "\t<tr><td>65418</td><td>65106</td><td>65055</td><td>65076</td><td>64740</td></tr>\n",
       "\t<tr><td>65570</td><td>65686</td><td>65385</td><td>65313</td><td>65295</td></tr>\n",
       "\t<tr><td>64709</td><td>64676</td><td>65351</td><td>64645</td><td>63308</td></tr>\n",
       "\t<tr><td>65449</td><td>65009</td><td>65208</td><td>66735</td><td>65055</td></tr>\n",
       "</tbody>\n",
       "</table>\n"
      ],
      "text/latex": [
       "\\begin{tabular}{lllll}\n",
       "\t 65424 & 64179 & 65114 & 65164 & 64779\\\\\n",
       "\t 65418 & 65106 & 65055 & 65076 & 64740\\\\\n",
       "\t 65570 & 65686 & 65385 & 65313 & 65295\\\\\n",
       "\t 64709 & 64676 & 65351 & 64645 & 63308\\\\\n",
       "\t 65449 & 65009 & 65208 & 66735 & 65055\\\\\n",
       "\\end{tabular}\n"
      ],
      "text/markdown": [
       "\n",
       "| 65424 | 64179 | 65114 | 65164 | 64779 | \n",
       "| 65418 | 65106 | 65055 | 65076 | 64740 | \n",
       "| 65570 | 65686 | 65385 | 65313 | 65295 | \n",
       "| 64709 | 64676 | 65351 | 64645 | 63308 | \n",
       "| 65449 | 65009 | 65208 | 66735 | 65055 | \n",
       "\n",
       "\n"
      ],
      "text/plain": [
       "     [,1]  [,2]  [,3]  [,4]  [,5] \n",
       "[1,] 65424 64179 65114 65164 64779\n",
       "[2,] 65418 65106 65055 65076 64740\n",
       "[3,] 65570 65686 65385 65313 65295\n",
       "[4,] 64709 64676 65351 64645 63308\n",
       "[5,] 65449 65009 65208 66735 65055"
      ]
     },
     "metadata": {},
     "output_type": "display_data"
    }
   ],
   "source": [
    "matrix(ncls,nrow=5,ncol=5,byrow=TRUE)"
   ]
  },
  {
   "cell_type": "code",
   "execution_count": 26,
   "metadata": {},
   "outputs": [
    {
     "data": {
      "text/html": [
       "<table>\n",
       "<tbody>\n",
       "\t<tr><td>0.0009987085</td><td>0.004296954 </td><td>0.006820636 </td><td>0.01284631  </td><td>0.01990471  </td></tr>\n",
       "\t<tr><td>0.0013481165</td><td>0.004827211 </td><td>0.008074572 </td><td>0.01351966  </td><td>0.02364084  </td></tr>\n",
       "\t<tr><td>0.0017678959</td><td>0.005706909 </td><td>0.007740795 </td><td>0.01345069  </td><td>0.02062615  </td></tr>\n",
       "\t<tr><td>0.0034896534</td><td>0.007893052 </td><td>0.011945190 </td><td>0.01356945  </td><td>0.01876561  </td></tr>\n",
       "\t<tr><td>0.0015078763</td><td>0.004683837 </td><td>0.007747996 </td><td>0.03769863  </td><td>0.02033556  </td></tr>\n",
       "</tbody>\n",
       "</table>\n"
      ],
      "text/latex": [
       "\\begin{tabular}{lllll}\n",
       "\t 0.0009987085 & 0.004296954  & 0.006820636  & 0.01284631   & 0.01990471  \\\\\n",
       "\t 0.0013481165 & 0.004827211  & 0.008074572  & 0.01351966   & 0.02364084  \\\\\n",
       "\t 0.0017678959 & 0.005706909  & 0.007740795  & 0.01345069   & 0.02062615  \\\\\n",
       "\t 0.0034896534 & 0.007893052  & 0.011945190  & 0.01356945   & 0.01876561  \\\\\n",
       "\t 0.0015078763 & 0.004683837  & 0.007747996  & 0.03769863   & 0.02033556  \\\\\n",
       "\\end{tabular}\n"
      ],
      "text/markdown": [
       "\n",
       "| 0.0009987085 | 0.004296954  | 0.006820636  | 0.01284631   | 0.01990471   | \n",
       "| 0.0013481165 | 0.004827211  | 0.008074572  | 0.01351966   | 0.02364084   | \n",
       "| 0.0017678959 | 0.005706909  | 0.007740795  | 0.01345069   | 0.02062615   | \n",
       "| 0.0034896534 | 0.007893052  | 0.011945190  | 0.01356945   | 0.01876561   | \n",
       "| 0.0015078763 | 0.004683837  | 0.007747996  | 0.03769863   | 0.02033556   | \n",
       "\n",
       "\n"
      ],
      "text/plain": [
       "     [,1]         [,2]        [,3]        [,4]       [,5]      \n",
       "[1,] 0.0009987085 0.004296954 0.006820636 0.01284631 0.01990471\n",
       "[2,] 0.0013481165 0.004827211 0.008074572 0.01351966 0.02364084\n",
       "[3,] 0.0017678959 0.005706909 0.007740795 0.01345069 0.02062615\n",
       "[4,] 0.0034896534 0.007893052 0.011945190 0.01356945 0.01876561\n",
       "[5,] 0.0015078763 0.004683837 0.007747996 0.03769863 0.02033556"
      ]
     },
     "metadata": {},
     "output_type": "display_data"
    }
   ],
   "source": [
    "matrix(rs_var,nrow=5,ncol=5,byrow=TRUE)"
   ]
  },
  {
   "cell_type": "code",
   "execution_count": 37,
   "metadata": {
    "scrolled": false
   },
   "outputs": [
    {
     "data": {
      "image/png": "[encoded data removed]",
      "text/plain": [
       "Plot with title “Division Rate Variance”"
      ]
     },
     "metadata": {},
     "output_type": "display_data"
    }
   ],
   "source": [
    "rotate <- function(x) t(apply(x, 2, rev))\n",
    "\n",
    "image.plot(rotate(apply(matrix(rs_var,nrow=5,ncol=5,byrow=TRUE),2,rev)),axes=F)\n",
    "\n",
    "title(main=\"Division Rate Variance\",xlab='Sp',ylab='Sd');\n",
    "axis(1, at=seq(0,1,0.25), labels=seq(0.8,0.0,-0.2)); \n",
    "axis(2, at=seq(0,1,0.25), labels=seq(1.2,2.0,0.2)); \n"
   ]
  },
  {
   "cell_type": "code",
   "execution_count": 38,
   "metadata": {},
   "outputs": [
    {
     "data": {
      "image/png": "[encoded data removed]",
      "text/plain": [
       "Plot with title “Population Size (# Cells)”"
      ]
     },
     "metadata": {},
     "output_type": "display_data"
    }
   ],
   "source": [
    "rotate <- function(x) t(apply(x, 2, rev))\n",
    "\n",
    "image.plot(rotate(apply(matrix(ncls,nrow=5,ncol=5,byrow=TRUE),2,rev)),axes=F)\n",
    "\n",
    "title(main=\"Population Size (# Cells)\",xlab='Sp',ylab='Sd');\n",
    "axis(1, at=seq(0,1,0.25), labels=seq(0.8,0.0,-0.2)); \n",
    "axis(2, at=seq(0,1,0.25), labels=seq(1.2,2.0,0.2)); "
   ]
  },
  {
   "cell_type": "code",
   "execution_count": null,
   "metadata": {},
   "outputs": [],
   "source": [
    "load('../../Data/SimOut1_2/0.rda')"
   ]
  },
  {
   "cell_type": "code",
   "execution_count": null,
   "metadata": {},
   "outputs": [],
   "source": [
    "print(CellPop,'r')"
   ]
  },
  {
   "cell_type": "code",
   "execution_count": null,
   "metadata": {},
   "outputs": [],
   "source": [
    "traversal <- Traverse(CellPop, traversal = \"post-order\", filterFun = function(x) x$r != 1)"
   ]
  },
  {
   "cell_type": "code",
   "execution_count": null,
   "metadata": {},
   "outputs": [],
   "source": [
    "traversal[[1]]$tes"
   ]
  },
  {
   "cell_type": "code",
   "execution_count": null,
   "metadata": {},
   "outputs": [],
   "source": [
    "# PURPOSE: Updates the gene annotation of the clone\n",
    "#\n",
    "# INPUT:\n",
    "#   anno         (data frame) Annotation of genes (i.e. chromosome   start   end)\n",
    "#   simout          (list of lists) gen_sim output\n",
    "#   tes             (list of lists) Node tes\n",
    "#\n",
    "# OUTPUT: anno\n",
    "\n",
    "update_anno <- function(anno,  tes) {\n",
    "    \n",
    "#     tmp = mapply(append, simout, tes, SIMPLIFY = FALSE)\n",
    "    tmp=tes\n",
    "    for (i in 1:length(tmp[[3]])) {\n",
    "        # Shift the start loci of genes with start loci beyond the insertion by the width of the L1\n",
    "        anno[anno$chrom==tmp[[2]][i] & anno$start>tmp[[3]][i],]$start <- anno[anno$chrom==tmp[[2]][i] & anno$start>tmp[[3]][i],]$start + width(tmp[[1]][i])  \n",
    "        # Shift the end loci of genes with start loci beyond the insertion by the width of the L1\n",
    "        anno[anno$chrom==tmp[[2]][i] & anno$start>tmp[[3]][i],]$end <- anno[anno$chrom==tmp[[2]][i] & anno$start>tmp[[3]][i],]$end + width(tmp[[1]][i])  \n",
    "        # Shift the end locus of any gene with only end locus beyond the insertion by the width of the L1\n",
    "        anno[anno$chrom==tmp[[2]][i] & anno$end>tmp[[3]][i] & anno$start<tmp[[3]][i],]$end <- anno[anno$chrom==tmp[[2]][i] & anno$end>tmp[[3]][i] & anno$start<tmp[[3]][i],]$end + width(tmp[[1]][i])        \n",
    "    }\n",
    "    return(anno) \n",
    "}"
   ]
  },
  {
   "cell_type": "code",
   "execution_count": null,
   "metadata": {},
   "outputs": [],
   "source": [
    "rank_clone <- function(r, anno, sites_chrm, sites_loci, gainp, lossp) {\n",
    "\n",
    "    gene_hits=0; # set counter to zero\n",
    "    tsg_hits=0;\n",
    "    for (i in 1:length(unique(sites_chrm))) { # loop over chromosomes inserted into\n",
    "        tmp=anno[anno$chrom==unique(sites_chrm)[i],] # reduce annotation table to entries for current chrom\n",
    "        chrmann_ntsg=tmp[tmp$istsg==0,]\n",
    "        chrmann_tsg =tmp[tmp$istsg==1,]\n",
    "        tmp = sites_loci[sites_chrm==unique(sites_chrm)[i]] # reduce insertion loci to entries for current chrom\n",
    "        tmp_hits = between(tmp,chrmann_ntsg$start,chrmann_ntsg$end) # create logical for insertions, whether into non-tsg-gene or not\n",
    "        gene_hits=gene_hits+length(which(tmp_hits==TRUE)) # count the number of non-tsg-gene insertions\n",
    "#         print(gene_hits)\n",
    "        tmp_hits  = between(tmp,chrmann_tsg$start,chrmann_tsg$end) # same for tsg-gene insertions\n",
    "        tsg_hits =tsg_hits+length(which(tmp_hits==TRUE))\n",
    "    }\n",
    "\n",
    "    if (gene_hits > 0 || tsg_hits > 0){\n",
    "        r=r*(lossp^gene_hits)*(gainp^tsg_hits)\n",
    "    }\n",
    "\n",
    "    if (r < 0.25) { # If the division rate is below 0.25, the clone stops growing\n",
    "        r<-0\n",
    "    }\n",
    "\n",
    "    return(r)\n",
    "}\n"
   ]
  },
  {
   "cell_type": "code",
   "execution_count": null,
   "metadata": {},
   "outputs": [],
   "source": [
    "load('../../sim-develop/data/exann.rda')"
   ]
  },
  {
   "cell_type": "code",
   "execution_count": null,
   "metadata": {},
   "outputs": [],
   "source": [
    "head(exann)"
   ]
  },
  {
   "cell_type": "code",
   "execution_count": null,
   "metadata": {},
   "outputs": [],
   "source": [
    "k <- traversal[[1]]$tes"
   ]
  },
  {
   "cell_type": "code",
   "execution_count": null,
   "metadata": {},
   "outputs": [],
   "source": [
    "k"
   ]
  },
  {
   "cell_type": "code",
   "execution_count": null,
   "metadata": {},
   "outputs": [],
   "source": [
    "tmpAnn <- update_anno(exann,k)"
   ]
  },
  {
   "cell_type": "code",
   "execution_count": null,
   "metadata": {},
   "outputs": [],
   "source": [
    "load('../../sim-develop/data/exann.rda')\n",
    "for (node in traversal) {\n",
    "    nodeTes <- node$tes\n",
    "    tmpAnn <- update_anno(exann,nodeTes)\n",
    "    \n",
    "    \n",
    "}"
   ]
  },
  {
   "cell_type": "code",
   "execution_count": null,
   "metadata": {},
   "outputs": [],
   "source": [
    "r <- rank_clone(1,tmpAnn,k[[2]],k[[3]],1.2,.8)\n",
    "r"
   ]
  },
  {
   "cell_type": "code",
   "execution_count": null,
   "metadata": {},
   "outputs": [],
   "source": []
  }
 ],
 "metadata": {
  "kernelspec": {
   "display_name": "R",
   "language": "R",
   "name": "ir"
  },
  "language_info": {
   "codemirror_mode": "r",
   "file_extension": ".r",
   "mimetype": "text/x-r-source",
   "name": "R",
   "pygments_lexer": "r",
   "version": "3.3.2"
  }
 },
 "nbformat": 4,
 "nbformat_minor": 2
}
