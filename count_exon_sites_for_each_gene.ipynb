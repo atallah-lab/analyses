{
 "cells": [
  {
   "cell_type": "markdown",
   "metadata": {},
   "source": [
    "This notebook will count the frequency of L1 target sites in exonic regions of the human genome, and save the data for each chromosome."
   ]
  },
  {
   "cell_type": "code",
   "execution_count": 3,
   "metadata": {
    "collapsed": true
   },
   "outputs": [
    {
     "name": "stdout",
     "output_type": "stream",
     "text": [
      "Loading target site annotation: chr1\n",
      "Loading target site annotation: chr2\n",
      "Loading target site annotation: chr3\n",
      "Loading target site annotation: chr4\n",
      "Loading target site annotation: chr5\n",
      "Loading target site annotation: chr6\n",
      "Loading target site annotation: chr7\n",
      "Loading target site annotation: chr8\n",
      "Loading target site annotation: chr9\n",
      "Loading target site annotation: chr10\n",
      "Loading target site annotation: chr11\n",
      "Loading target site annotation: chr12\n",
      "Loading target site annotation: chr13\n",
      "Loading target site annotation: chr14\n",
      "Loading target site annotation: chr15\n",
      "Loading target site annotation: chr16\n",
      "Loading target site annotation: chr17\n",
      "Loading target site annotation: chr18\n",
      "Loading target site annotation: chr19\n",
      "Loading target site annotation: chr20\n",
      "Loading target site annotation: chr21\n",
      "Loading target site annotation: chr22\n",
      "Loading target site annotation: chrX\n",
      "Loading target site annotation: chrY\n"
     ]
    }
   ],
   "source": [
    "library(BSgenome.Hsapiens.UCSC.hg38)\n",
    "library(data.table)\n",
    "for (i in names(Hsapiens)[1:24]){ # Load L1 target site annotation files\n",
    "        cat(paste0('Loading target site annotation: ',i,'\\n'))\n",
    "        load(paste0('../sim-develop/data/root_maps/',i,'.rda'))\n",
    "}\n",
    "load('../sim-develop/data/exann.rda') # Load exon annotation table\n",
    "\n",
    "system(paste(\"rm ./count_gene_exon_sites.log\"))\n",
    "outPath <- './gene_exon_counts/out'\n"
   ]
  },
  {
   "cell_type": "code",
   "execution_count": 5,
   "metadata": {},
   "outputs": [
    {
     "name": "stdout",
     "output_type": "stream",
     "text": [
      "   user  system elapsed \n",
      " 42.783   0.040  32.758 \n"
     ]
    }
   ],
   "source": [
    "\n",
    "for (ii in names(Hsapiens)[24]){ # Loop over chromosomes\n",
    "\n",
    "    ptm <- proc.time()\n",
    "    line <- paste0('######## Chromosome ',ii,' #########\\n')\n",
    "    write(line,file=paste0(outPath,'.log'),append=TRUE)\n",
    "    \n",
    "    map<-get(paste0(ii,'Map')) # Get the L1 target site annotation for the current chromosome\n",
    "    ict<-    map[[2]]\n",
    "    icl<-    map[[3]]\n",
    "    iot<-    map[[4]]\n",
    "    iol<-    map[[5]]\n",
    "    insites<-map[[1]]\n",
    "\n",
    "    chrno <- strsplit(ii,\"chr\")[[1]][2] # Get the current chromosome symbol\n",
    "    tmpann_1 <- exann[exann$chrom==chrno,] # Extract exann entries for current chromosome\n",
    "    currGenes <- unique(tmpann_1$geneSym) # Get list of genes in current chromosome\n",
    "    numCurrGenes <- length(currGenes) # Get length of the list\n",
    "    counts <-  array(NA,dim=c(numCurrGenes,4)) # Allocate matrix for counts\n",
    "    gnames <- array(NA,dim=c(numCurrGenes,1))\n",
    "    l<-1\n",
    "\n",
    "    for (jj in currGenes) { # Loop over genes of current chromosome\n",
    "\n",
    "        line <- paste0('gene ',l,'/',numCurrGenes,' for ',ii,':\\t',jj)\n",
    "        write(line,file=paste0(outPath,'.log'),append=TRUE)\n",
    "        \n",
    "        # count sites in exons of current gene\n",
    "        tmpann_2 <- tmpann_1[tmpann_1$geneSym==jj,] # Extract exann entries for current gene\n",
    "\n",
    "        sen        <-inrange(insites[ict[!is.na(ict[,1]),1],1],tmpann_2$start,tmpann_2$end) # Check if any Closed-Tight category sites are within the start-end range of tmpann_2\n",
    "        antisen    <-inrange(insites[ict[!is.na(ict[,2]),2],2],tmpann_2$start,tmpann_2$end)\n",
    "        counts[l,1]<-length(which(sen)) + length(which(antisen))                            # Fill an element of the counts table\n",
    "\n",
    "        sen        <-inrange(insites[icl[!is.na(icl[,1]),1],1],tmpann_2$start,tmpann_2$end)\n",
    "        antisen    <-inrange(insites[icl[!is.na(icl[,2]),2],2],tmpann_2$start,tmpann_2$end)\n",
    "        counts[l,2]<-length(which(sen)) + length(which(antisen))\n",
    "\n",
    "        sen        <-inrange(insites[iot[!is.na(iot[,1]),1],1],tmpann_2$start,tmpann_2$end)\n",
    "        antisen    <-inrange(insites[iot[!is.na(iot[,2]),2],2],tmpann_2$start,tmpann_2$end)\n",
    "        counts[l,3]<-length(which(sen)) + length(which(antisen))\n",
    "\n",
    "        sen        <-inrange(insites[iol[!is.na(iol[,1]),1],1],tmpann_2$start,tmpann_2$end)\n",
    "        antisen    <-inrange(insites[iol[!is.na(iol[,2]),2],2],tmpann_2$start,tmpann_2$end)\n",
    "        counts[l,4]<-length(which(sen)) + length(which(antisen))\n",
    "\n",
    "        gnames[l] <- jj\n",
    "\n",
    "        l <- l+1\n",
    "\n",
    "    }\n",
    "    print(proc.time() - ptm)\n",
    "    save(counts, gnames, file=paste0(outPath,ii,'.rda'))\n",
    "}"
   ]
  },
  {
   "cell_type": "code",
   "execution_count": null,
   "metadata": {},
   "outputs": [],
   "source": []
  }
 ],
 "metadata": {
  "kernelspec": {
   "display_name": "R",
   "language": "R",
   "name": "ir"
  },
  "language_info": {
   "codemirror_mode": "r",
   "file_extension": ".r",
   "mimetype": "text/x-r-source",
   "name": "R",
   "pygments_lexer": "r",
   "version": "3.5.1"
  }
 },
 "nbformat": 4,
 "nbformat_minor": 2
}
