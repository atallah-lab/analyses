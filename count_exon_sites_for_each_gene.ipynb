{
 "cells": [
  {
   "cell_type": "markdown",
   "metadata": {},
   "source": [
    "This notebook will count the frequency of L1 target sites in exonic regions of each gene, and save a separate file for each chromosome."
   ]
  },
  {
   "cell_type": "code",
   "execution_count": 2,
   "metadata": {},
   "outputs": [
    {
     "name": "stderr",
     "output_type": "stream",
     "text": [
      "Warning message in dir.create(\"./data/gene_counts_exon/\"):\n",
      "“'./data/gene_counts_exon' already exists”\n"
     ]
    }
   ],
   "source": [
    "library(data.table)\n",
    "library(IRanges)\n",
    "for (i in c(1:22,'X','Y')){ # Load L1 target site annotation files\n",
    "        load(paste0('./data/l1_site_maps/chr',i,'.rda'))\n",
    "}\n",
    "load('./data/exons.rda') # Load gene annotation\n",
    "dir.create('./data/gene_counts_exon/')\n",
    "outPath <- './data/gene_counts_exon/out'"
   ]
  },
  {
   "cell_type": "code",
   "execution_count": 3,
   "metadata": {},
   "outputs": [
    {
     "name": "stdout",
     "output_type": "stream",
     "text": [
      "     user    system   elapsed \n",
      "10003.430    37.036  1250.855 \n",
      "    user   system  elapsed \n",
      "6689.617   23.283  852.895 \n",
      "    user   system  elapsed \n",
      "5068.858   15.534  630.468 \n",
      "    user   system  elapsed \n",
      "3610.427   12.715  453.050 \n",
      "    user   system  elapsed \n",
      "3901.417    9.660  477.638 \n",
      "    user   system  elapsed \n",
      "4409.360   14.158  534.878 \n",
      "    user   system  elapsed \n",
      "3466.851    9.925  412.728 \n",
      "    user   system  elapsed \n",
      "2477.845    7.065  290.814 \n",
      "    user   system  elapsed \n",
      "2395.299    6.327  268.512 \n",
      "    user   system  elapsed \n",
      "2424.689    7.149  274.762 \n",
      "    user   system  elapsed \n",
      "4300.284   10.922  487.675 \n",
      "    user   system  elapsed \n",
      "3636.109    9.013  409.669 \n",
      "   user  system elapsed \n",
      "994.124   2.933 109.037 \n",
      "    user   system  elapsed \n",
      "1553.384    3.860  165.397 \n",
      "    user   system  elapsed \n",
      "1385.485    4.085  143.881 \n",
      "    user   system  elapsed \n",
      "1730.906    4.113  173.045 \n",
      "    user   system  elapsed \n",
      "2345.702    6.115  236.012 \n",
      "   user  system elapsed \n",
      "685.937   1.633  71.223 \n",
      "    user   system  elapsed \n",
      "1952.426    5.240  178.923 \n",
      "   user  system elapsed \n",
      "934.623   2.466  91.697 \n",
      "   user  system elapsed \n",
      "314.588   0.897  29.782 \n",
      "   user  system elapsed \n",
      "450.471   0.769  38.796 \n",
      "    user   system  elapsed \n",
      "3394.603    8.180  393.807 \n",
      "   user  system elapsed \n",
      " 47.878   0.137   3.971 \n"
     ]
    }
   ],
   "source": [
    "for (ii in c(1:22,'X','Y')){ # Loop over chromosomes\n",
    "\n",
    "    ptm <- proc.time()\n",
    "    line <- paste0('######## Chromosome ',ii,' #########\\n')\n",
    "    write(line,file=paste0(outPath,'.log'),append=TRUE)\n",
    "    \n",
    "    map<-get(paste0('chr',ii,'Map')) # Get the L1 target site annotation for the current chromosome\n",
    "    ict<-    map[[2]]\n",
    "    icl<-    map[[3]]\n",
    "    iot<-    map[[4]]\n",
    "    iol<-    map[[5]]\n",
    "    insites<-map[[1]]\n",
    "\n",
    "    tmp_chrom <- exons[exons$chrom==ii,] # Extract exons entries for current chromosome\n",
    "    currGenes <- unique(tmp_chrom$gene_id) # Get list of genes in current chromosome\n",
    "    numCurrGenes <- length(currGenes) # Get length of the list\n",
    "    counts <-  array(NA,dim=c(numCurrGenes,4)) # Allocate matrix for counts\n",
    "    gnames <- array(NA,dim=c(numCurrGenes,1))\n",
    "    lens <- array(NA,dim=c(numCurrGenes,1))\n",
    "    \n",
    "    l<-1\n",
    "\n",
    "    for (jj in currGenes) { # Loop over genes of current chromosome\n",
    "\n",
    "        line <- paste0('gene ',l,'/',numCurrGenes,' for ',ii,':\\t',jj)\n",
    "        write(line,file=paste0(outPath,'.log'),append=TRUE)\n",
    "        \n",
    "        # count sites in exons of current gene\n",
    "        tmp_gene <- tmp_chrom[tmp_chrom$gene_id==jj,] # Extract exons entries for current gene\n",
    "\n",
    "        sen        <-inrange(insites[ict[!is.na(ict[,1]),1],1],tmp_gene$start,tmp_gene$end) # Check if any Closed-Tight category sites are within the start-end range of tmp_gene\n",
    "        antisen    <-inrange(insites[ict[!is.na(ict[,2]),2],2],tmp_gene$start,tmp_gene$end)\n",
    "        counts[l,1]<-length(which(sen)) + length(which(antisen))                            # Fill an element of the counts table\n",
    "\n",
    "        sen        <-inrange(insites[icl[!is.na(icl[,1]),1],1],tmp_gene$start,tmp_gene$end)\n",
    "        antisen    <-inrange(insites[icl[!is.na(icl[,2]),2],2],tmp_gene$start,tmp_gene$end)\n",
    "        counts[l,2]<-length(which(sen)) + length(which(antisen))\n",
    "\n",
    "        sen        <-inrange(insites[iot[!is.na(iot[,1]),1],1],tmp_gene$start,tmp_gene$end)\n",
    "        antisen    <-inrange(insites[iot[!is.na(iot[,2]),2],2],tmp_gene$start,tmp_gene$end)\n",
    "        counts[l,3]<-length(which(sen)) + length(which(antisen))\n",
    "\n",
    "        sen        <-inrange(insites[iol[!is.na(iol[,1]),1],1],tmp_gene$start,tmp_gene$end)\n",
    "        antisen    <-inrange(insites[iol[!is.na(iol[,2]),2],2],tmp_gene$start,tmp_gene$end)\n",
    "        counts[l,4]<-length(which(sen)) + length(which(antisen))\n",
    "\n",
    "        gnames[l] <- jj\n",
    "        tmp <- IRanges(tmp_gene$start,tmp_gene$end)\n",
    "        tmp <- reduce(tmp)\n",
    "        lens[l] <- sum(width(tmp))\n",
    "\n",
    "        l <- l+1\n",
    "\n",
    "    }\n",
    "    print(proc.time() - ptm)\n",
    "    save(counts, gnames, lens, file=paste0(outPath,ii,'.rda'))\n",
    "}"
   ]
  },
  {
   "cell_type": "code",
   "execution_count": null,
   "metadata": {},
   "outputs": [],
   "source": []
  }
 ],
 "metadata": {
  "kernelspec": {
   "display_name": "R",
   "language": "R",
   "name": "ir"
  },
  "language_info": {
   "codemirror_mode": "r",
   "file_extension": ".r",
   "mimetype": "text/x-r-source",
   "name": "R",
   "pygments_lexer": "r",
   "version": "3.6.1"
  }
 },
 "nbformat": 4,
 "nbformat_minor": 2
}
