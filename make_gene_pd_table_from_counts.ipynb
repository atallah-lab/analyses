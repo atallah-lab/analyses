{
 "cells": [
  {
   "cell_type": "code",
   "execution_count": 11,
   "metadata": {},
   "outputs": [],
   "source": [
    "library(naturalsort)\n",
    "library(data.table)\n",
    "weights <- read.csv('./data/snap_velcro_weights.csv')\n",
    "weights <- weights[7,2:5]\n",
    "flst <- naturalsort(list.files('./data/gene_counts_exon/')) # File names are same for each directory (lung, colon, brain)\n",
    "flst <- flst[flst!='out.log']"
   ]
  },
  {
   "cell_type": "code",
   "execution_count": 12,
   "metadata": {},
   "outputs": [
    {
     "data": {
      "text/html": [
       "<table>\n",
       "<thead><tr><th scope=col>chrom</th><th scope=col>gene_id</th><th scope=col>counts</th><th scope=col>length</th><th scope=col>type</th></tr></thead>\n",
       "<tbody>\n",
       "\t<tr><td>Y              </td><td>ENSG00000172352</td><td>55.77855       </td><td>2675           </td><td>0              </td></tr>\n",
       "\t<tr><td>Y              </td><td>ENSG00000183795</td><td>18.60601       </td><td>1436           </td><td>0              </td></tr>\n",
       "\t<tr><td>Y              </td><td>ENSG00000187191</td><td>82.03821       </td><td>3516           </td><td>0              </td></tr>\n",
       "\t<tr><td>Y              </td><td>ENSG00000205916</td><td>91.65669       </td><td>4348           </td><td>0              </td></tr>\n",
       "\t<tr><td>Y              </td><td>ENSG00000185894</td><td>18.60601       </td><td>1436           </td><td>0              </td></tr>\n",
       "\t<tr><td>Y              </td><td>ENSG00000172288</td><td>55.20674       </td><td>2625           </td><td>0              </td></tr>\n",
       "</tbody>\n",
       "</table>\n"
      ],
      "text/latex": [
       "\\begin{tabular}{r|lllll}\n",
       " chrom & gene\\_id & counts & length & type\\\\\n",
       "\\hline\n",
       "\t Y               & ENSG00000172352 & 55.77855        & 2675            & 0              \\\\\n",
       "\t Y               & ENSG00000183795 & 18.60601        & 1436            & 0              \\\\\n",
       "\t Y               & ENSG00000187191 & 82.03821        & 3516            & 0              \\\\\n",
       "\t Y               & ENSG00000205916 & 91.65669        & 4348            & 0              \\\\\n",
       "\t Y               & ENSG00000185894 & 18.60601        & 1436            & 0              \\\\\n",
       "\t Y               & ENSG00000172288 & 55.20674        & 2625            & 0              \\\\\n",
       "\\end{tabular}\n"
      ],
      "text/markdown": [
       "\n",
       "chrom | gene_id | counts | length | type | \n",
       "|---|---|---|---|---|---|\n",
       "| Y               | ENSG00000172352 | 55.77855        | 2675            | 0               | \n",
       "| Y               | ENSG00000183795 | 18.60601        | 1436            | 0               | \n",
       "| Y               | ENSG00000187191 | 82.03821        | 3516            | 0               | \n",
       "| Y               | ENSG00000205916 | 91.65669        | 4348            | 0               | \n",
       "| Y               | ENSG00000185894 | 18.60601        | 1436            | 0               | \n",
       "| Y               | ENSG00000172288 | 55.20674        | 2625            | 0               | \n",
       "\n",
       "\n"
      ],
      "text/plain": [
       "  chrom gene_id         counts   length type\n",
       "1 Y     ENSG00000172352 55.77855 2675   0   \n",
       "2 Y     ENSG00000183795 18.60601 1436   0   \n",
       "3 Y     ENSG00000187191 82.03821 3516   0   \n",
       "4 Y     ENSG00000205916 91.65669 4348   0   \n",
       "5 Y     ENSG00000185894 18.60601 1436   0   \n",
       "6 Y     ENSG00000172288 55.20674 2625   0   "
      ]
     },
     "metadata": {},
     "output_type": "display_data"
    }
   ],
   "source": [
    "chroms <- c(1:22,'X','Y')\n",
    "for (i in 1:24) {\n",
    "    load(paste0('./data/gene_counts_exon/',flst[i]))\n",
    "    rownames(counts) <- gnames\n",
    "    #--- Below the weights of each Snap Velcro category are multiplied by the counts\n",
    "    counts[,1] <- counts[,1]*weights$closed_tight\n",
    "    counts[,2] <- counts[,2]*weights$closed_loose\n",
    "    counts[,3] <- counts[,3]*weights$open_tight\n",
    "    counts[,4] <- counts[,4]*weights$open_loose\n",
    "    counts <- rowSums(counts)\n",
    "    if (i==1) {\n",
    "        out <- data.table(chrom=rep(chroms[i],length(counts)),gene_id=as.vector(gnames),counts=counts,length=as.vector(lens),type=rep(0,length(counts)))\n",
    "    } else {\n",
    "        tmp <- data.table(chrom=rep(chroms[i],length(counts)),gene_id=as.vector(gnames),counts=counts,length=as.vector(lens),type=rep(0,length(counts)))\n",
    "        out <- rbind(out,tmp)\n",
    "    }\n",
    "}\n",
    "tail(out)\n",
    "gene_pd <- out"
   ]
  },
  {
   "cell_type": "code",
   "execution_count": 13,
   "metadata": {},
   "outputs": [
    {
     "data": {
      "text/html": [
       "TRUE"
      ],
      "text/latex": [
       "TRUE"
      ],
      "text/markdown": [
       "TRUE"
      ],
      "text/plain": [
       "[1] TRUE"
      ]
     },
     "metadata": {},
     "output_type": "display_data"
    }
   ],
   "source": [
    "# Add gene symbol field\n",
    "load('./data/genes.rda')\n",
    "genes <- genes[order(genes$gene_id),]\n",
    "gene_pd <- gene_pd[order(gene_pd$gene_id),]\n",
    "identical(genes$gene_id,gene_pd$gene_id)\n",
    "gene_pd$gene_sym <- genes$gene_sym"
   ]
  },
  {
   "cell_type": "code",
   "execution_count": 14,
   "metadata": {},
   "outputs": [],
   "source": [
    "# Weight probabilities of ENd and ENi insertion\n",
    "gene_pd$p <- 0.9*(gene_pd$counts/sum(gene_pd$counts))+0.1*(gene_pd$length/sum(gene_pd$length))\n",
    "\n",
    "# For male genome, double the probability of chroms. 1-22 genes being hit, then renormalize\n",
    "gene_pd_m <- gene_pd\n",
    "gene_pd_m$p[!(gene_pd_m$chrom %in% c('X','Y'))]=gene_pd_m$p[!(gene_pd_m$chrom %in% c('X','Y'))]*2\n",
    "gene_pd_m$p <- gene_pd_m$p/sum(gene_pd_m$p)\n",
    "\n",
    "# For female genome, double the probability of chroms. 1-23 genes being hit, and set chroms. Y genes prob to 0, then renormalize\n",
    "gene_pd_f <- gene_pd\n",
    "gene_pd_f$p[gene_pd_f$chrom!='Y']=gene_pd_f$p[gene_pd_f$chrom!='Y']*2\n",
    "gene_pd_f$p[gene_pd_f$chrom=='Y']=0\n",
    "gene_pd_f$p <- gene_pd_f$p/sum(gene_pd_f$p)\n"
   ]
  },
  {
   "cell_type": "code",
   "execution_count": 15,
   "metadata": {},
   "outputs": [],
   "source": [
    "save(gene_pd_m,gene_pd_f,file='./data/gene_pd_exon.rda')"
   ]
  },
  {
   "cell_type": "code",
   "execution_count": null,
   "metadata": {},
   "outputs": [],
   "source": []
  }
 ],
 "metadata": {
  "kernelspec": {
   "display_name": "R",
   "language": "R",
   "name": "ir"
  },
  "language_info": {
   "codemirror_mode": "r",
   "file_extension": ".r",
   "mimetype": "text/x-r-source",
   "name": "R",
   "pygments_lexer": "r",
   "version": "3.5.1"
  }
 },
 "nbformat": 4,
 "nbformat_minor": 2
}
