{
 "cells": [
  {
   "cell_type": "code",
   "execution_count": 1,
   "metadata": {},
   "outputs": [],
   "source": [
    "library(naturalsort)\n",
    "library(data.table)\n",
    "flst <- naturalsort(list.files('~/jackgl/analyses/gene_all_counts/')) # File names are same for each directory (lung, colon, brain)"
   ]
  },
  {
   "cell_type": "code",
   "execution_count": 2,
   "metadata": {},
   "outputs": [
    {
     "data": {
      "text/html": [
       "<table>\n",
       "<thead><tr><th scope=col>chrom</th><th scope=col>geneSym</th><th scope=col>p</th><th scope=col>type</th></tr></thead>\n",
       "<tbody>\n",
       "\t<tr><td>Y           </td><td>TPTE2P4     </td><td>4.521219e-05</td><td>0           </td></tr>\n",
       "\t<tr><td>Y           </td><td>CYCSP49     </td><td>1.637262e-07</td><td>0           </td></tr>\n",
       "\t<tr><td>Y           </td><td>SLC25A15P1  </td><td>1.938614e-06</td><td>0           </td></tr>\n",
       "\t<tr><td>Y           </td><td>PARP4P1     </td><td>2.302677e-05</td><td>0           </td></tr>\n",
       "\t<tr><td>Y           </td><td>FAM58CP     </td><td>4.320876e-08</td><td>0           </td></tr>\n",
       "\t<tr><td>Y           </td><td>CTBP2P1     </td><td>2.668433e-08</td><td>0           </td></tr>\n",
       "</tbody>\n",
       "</table>\n"
      ],
      "text/latex": [
       "\\begin{tabular}{r|llll}\n",
       " chrom & geneSym & p & type\\\\\n",
       "\\hline\n",
       "\t Y            & TPTE2P4      & 4.521219e-05 & 0           \\\\\n",
       "\t Y            & CYCSP49      & 1.637262e-07 & 0           \\\\\n",
       "\t Y            & SLC25A15P1   & 1.938614e-06 & 0           \\\\\n",
       "\t Y            & PARP4P1      & 2.302677e-05 & 0           \\\\\n",
       "\t Y            & FAM58CP      & 4.320876e-08 & 0           \\\\\n",
       "\t Y            & CTBP2P1      & 2.668433e-08 & 0           \\\\\n",
       "\\end{tabular}\n"
      ],
      "text/markdown": [
       "\n",
       "chrom | geneSym | p | type | \n",
       "|---|---|---|---|---|---|\n",
       "| Y            | TPTE2P4      | 4.521219e-05 | 0            | \n",
       "| Y            | CYCSP49      | 1.637262e-07 | 0            | \n",
       "| Y            | SLC25A15P1   | 1.938614e-06 | 0            | \n",
       "| Y            | PARP4P1      | 2.302677e-05 | 0            | \n",
       "| Y            | FAM58CP      | 4.320876e-08 | 0            | \n",
       "| Y            | CTBP2P1      | 2.668433e-08 | 0            | \n",
       "\n",
       "\n"
      ],
      "text/plain": [
       "  chrom geneSym    p            type\n",
       "1 Y     TPTE2P4    4.521219e-05 0   \n",
       "2 Y     CYCSP49    1.637262e-07 0   \n",
       "3 Y     SLC25A15P1 1.938614e-06 0   \n",
       "4 Y     PARP4P1    2.302677e-05 0   \n",
       "5 Y     FAM58CP    4.320876e-08 0   \n",
       "6 Y     CTBP2P1    2.668433e-08 0   "
      ]
     },
     "metadata": {},
     "output_type": "display_data"
    }
   ],
   "source": [
    "chroms <- c(1,2,3,4,5,6,7,8,9,10,11,12,13,14,15,16,17,18,19,20,21,22,'X','Y')\n",
    "for (i in 1:24) {\n",
    "    load(paste0('~/jackgl/analyses/gene_all_counts/',flst[i+1]))\n",
    "    rownames(counts) <- gnames\n",
    "    counts[,1] <- counts[,1]*11.55\n",
    "    counts[,2] <- counts[,2]*7.25\n",
    "    counts[,3] <- counts[,3]*1.95\n",
    "    counts[,4] <- counts[,4]*1.00\n",
    "    counts <- rowSums(counts)\n",
    "    if (i==1) {\n",
    "        out <- data.table(chrom=rep(chroms[i],length(counts)),geneSym=as.vector(gnames),p=counts,type=rep(0,length(counts)))\n",
    "    } else {\n",
    "        tmp <- data.table(chrom=rep(chroms[i],length(counts)),geneSym=as.vector(gnames),p=counts,type=rep(0,length(counts)))\n",
    "        out <- rbind(out,tmp)\n",
    "    }\n",
    "}\n",
    "out$p <- out$p/sum(out$p)\n",
    "tail(out)\n",
    "gene_pdt <- out"
   ]
  },
  {
   "cell_type": "code",
   "execution_count": 3,
   "metadata": {},
   "outputs": [],
   "source": [
    "# For male genome, double the probability of chroms. 1-22 genes being hit, then renormalize\n",
    "gene_pdt_m <- gene_pdt\n",
    "gene_pdt_m$p[!(gene_pdt_m$chrom %in% c('X','Y'))]=gene_pdt_m$p[!(gene_pdt_m$chrom %in% c('X','Y'))]*2\n",
    "gene_pdt_m$p <- gene_pdt_m$p/sum(gene_pdt_m$p)\n",
    "\n",
    "# For female genome, double the probability of chroms. 1-23 genes being hit, and set chroms. Y genes prob to 0, then renormalize\n",
    "gene_pdt_f <- gene_pdt\n",
    "gene_pdt_f$p[gene_pdt_f$chrom!='Y']=gene_pdt_f$p[gene_pdt_f$chrom!='Y']*2\n",
    "gene_pdt_f$p[gene_pdt_f$chrom=='Y']=0\n",
    "gene_pdt_f$p <- gene_pdt_f$p/sum(gene_pdt_f$p)\n"
   ]
  },
  {
   "cell_type": "code",
   "execution_count": 4,
   "metadata": {},
   "outputs": [],
   "source": [
    "save(gene_pdt_m,gene_pdt_f,file='../sim-develop/data/gene_pdt_allsites.rda')"
   ]
  }
 ],
 "metadata": {
  "kernelspec": {
   "display_name": "R",
   "language": "R",
   "name": "ir"
  },
  "language_info": {
   "codemirror_mode": "r",
   "file_extension": ".r",
   "mimetype": "text/x-r-source",
   "name": "R",
   "pygments_lexer": "r",
   "version": "3.5.1"
  }
 },
 "nbformat": 4,
 "nbformat_minor": 2
}
